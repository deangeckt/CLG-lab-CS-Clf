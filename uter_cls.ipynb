{
 "cells": [
  {
   "cell_type": "markdown",
   "id": "3a32c07a",
   "metadata": {},
   "source": [
    "# Preprocessing"
   ]
  },
  {
   "cell_type": "code",
   "execution_count": 33,
   "id": "001a00d7",
   "metadata": {},
   "outputs": [],
   "source": [
    "from read_corpus import *\n",
    "import pandas as pd\n",
    "import pickle\n",
    "\n",
    "with open(\"corpus/cs_uters_with_cognatehood_sorted_streched.dat\", \"rb\") as f:\n",
    "    cs_uters = pickle.load(f)\n",
    "    \n",
    "with open(\"corpus/all_uter_with_cognatehood_sorted_streched.dat\", \"rb\") as f:\n",
    "    utterances = pickle.load(f)"
   ]
  },
  {
   "cell_type": "code",
   "execution_count": 34,
   "id": "fbbf979b",
   "metadata": {},
   "outputs": [
    {
     "name": "stdout",
     "output_type": "stream",
     "text": [
      "2799\n",
      "42910\n"
     ]
    }
   ],
   "source": [
    "print(len(cs_uters))\n",
    "print(len(utterances))\n",
    "# cs_uters = utterances"
   ]
  },
  {
   "cell_type": "code",
   "execution_count": 35,
   "id": "01c685c1",
   "metadata": {},
   "outputs": [
    {
     "data": {
      "text/plain": [
       "100"
      ]
     },
     "execution_count": 35,
     "metadata": {},
     "output_type": "execute_result"
    }
   ],
   "source": [
    "#BOW / tfidf\n",
    "from sklearn.feature_extraction.text import CountVectorizer\n",
    "\n",
    "vectorizer = CountVectorizer(max_features=100)\n",
    "uters_texts = [u.__str__() for u in cs_uters]\n",
    "vectorizer.fit(uters_texts)\n",
    "len(vectorizer.get_feature_names_out())"
   ]
  },
  {
   "cell_type": "code",
   "execution_count": 36,
   "id": "e7622185",
   "metadata": {
    "scrolled": false
   },
   "outputs": [
    {
     "data": {
      "application/vnd.plotly.v1+json": {
       "config": {
        "plotlyServerURL": "https://plot.ly"
       },
       "data": [
        {
         "name": "1",
         "type": "bar",
         "x": [
          "que",
          "el",
          "no",
          "the",
          "de",
          "you",
          "me",
          "la",
          "and",
          "es",
          "en",
          "pero",
          "like",
          "yo",
          "it",
          "un",
          "to",
          "that",
          "si",
          "lo",
          "know",
          "se",
          "te",
          "los",
          "le",
          "tu",
          "so",
          "porque",
          "he",
          "she",
          "para",
          "was",
          "in",
          "is",
          "they",
          "como",
          "do",
          "entonces",
          "con",
          "we",
          "mi",
          "una",
          "esta",
          "of",
          "have",
          "por",
          "na",
          "eso",
          "because",
          "my"
         ],
         "y": [
          992,
          614,
          574,
          462,
          446,
          436,
          361,
          359,
          350,
          329,
          323,
          317,
          309,
          304,
          296,
          280,
          260,
          249,
          235,
          227,
          217,
          215,
          202,
          197,
          186,
          186,
          182,
          179,
          167,
          167,
          156,
          151,
          147,
          146,
          143,
          143,
          141,
          138,
          127,
          126,
          120,
          119,
          118,
          113,
          110,
          110,
          106,
          102,
          101,
          101
         ]
        }
       ],
       "layout": {
        "template": {
         "data": {
          "bar": [
           {
            "error_x": {
             "color": "#2a3f5f"
            },
            "error_y": {
             "color": "#2a3f5f"
            },
            "marker": {
             "line": {
              "color": "#E5ECF6",
              "width": 0.5
             },
             "pattern": {
              "fillmode": "overlay",
              "size": 10,
              "solidity": 0.2
             }
            },
            "type": "bar"
           }
          ],
          "barpolar": [
           {
            "marker": {
             "line": {
              "color": "#E5ECF6",
              "width": 0.5
             },
             "pattern": {
              "fillmode": "overlay",
              "size": 10,
              "solidity": 0.2
             }
            },
            "type": "barpolar"
           }
          ],
          "carpet": [
           {
            "aaxis": {
             "endlinecolor": "#2a3f5f",
             "gridcolor": "white",
             "linecolor": "white",
             "minorgridcolor": "white",
             "startlinecolor": "#2a3f5f"
            },
            "baxis": {
             "endlinecolor": "#2a3f5f",
             "gridcolor": "white",
             "linecolor": "white",
             "minorgridcolor": "white",
             "startlinecolor": "#2a3f5f"
            },
            "type": "carpet"
           }
          ],
          "choropleth": [
           {
            "colorbar": {
             "outlinewidth": 0,
             "ticks": ""
            },
            "type": "choropleth"
           }
          ],
          "contour": [
           {
            "colorbar": {
             "outlinewidth": 0,
             "ticks": ""
            },
            "colorscale": [
             [
              0,
              "#0d0887"
             ],
             [
              0.1111111111111111,
              "#46039f"
             ],
             [
              0.2222222222222222,
              "#7201a8"
             ],
             [
              0.3333333333333333,
              "#9c179e"
             ],
             [
              0.4444444444444444,
              "#bd3786"
             ],
             [
              0.5555555555555556,
              "#d8576b"
             ],
             [
              0.6666666666666666,
              "#ed7953"
             ],
             [
              0.7777777777777778,
              "#fb9f3a"
             ],
             [
              0.8888888888888888,
              "#fdca26"
             ],
             [
              1,
              "#f0f921"
             ]
            ],
            "type": "contour"
           }
          ],
          "contourcarpet": [
           {
            "colorbar": {
             "outlinewidth": 0,
             "ticks": ""
            },
            "type": "contourcarpet"
           }
          ],
          "heatmap": [
           {
            "colorbar": {
             "outlinewidth": 0,
             "ticks": ""
            },
            "colorscale": [
             [
              0,
              "#0d0887"
             ],
             [
              0.1111111111111111,
              "#46039f"
             ],
             [
              0.2222222222222222,
              "#7201a8"
             ],
             [
              0.3333333333333333,
              "#9c179e"
             ],
             [
              0.4444444444444444,
              "#bd3786"
             ],
             [
              0.5555555555555556,
              "#d8576b"
             ],
             [
              0.6666666666666666,
              "#ed7953"
             ],
             [
              0.7777777777777778,
              "#fb9f3a"
             ],
             [
              0.8888888888888888,
              "#fdca26"
             ],
             [
              1,
              "#f0f921"
             ]
            ],
            "type": "heatmap"
           }
          ],
          "heatmapgl": [
           {
            "colorbar": {
             "outlinewidth": 0,
             "ticks": ""
            },
            "colorscale": [
             [
              0,
              "#0d0887"
             ],
             [
              0.1111111111111111,
              "#46039f"
             ],
             [
              0.2222222222222222,
              "#7201a8"
             ],
             [
              0.3333333333333333,
              "#9c179e"
             ],
             [
              0.4444444444444444,
              "#bd3786"
             ],
             [
              0.5555555555555556,
              "#d8576b"
             ],
             [
              0.6666666666666666,
              "#ed7953"
             ],
             [
              0.7777777777777778,
              "#fb9f3a"
             ],
             [
              0.8888888888888888,
              "#fdca26"
             ],
             [
              1,
              "#f0f921"
             ]
            ],
            "type": "heatmapgl"
           }
          ],
          "histogram": [
           {
            "marker": {
             "pattern": {
              "fillmode": "overlay",
              "size": 10,
              "solidity": 0.2
             }
            },
            "type": "histogram"
           }
          ],
          "histogram2d": [
           {
            "colorbar": {
             "outlinewidth": 0,
             "ticks": ""
            },
            "colorscale": [
             [
              0,
              "#0d0887"
             ],
             [
              0.1111111111111111,
              "#46039f"
             ],
             [
              0.2222222222222222,
              "#7201a8"
             ],
             [
              0.3333333333333333,
              "#9c179e"
             ],
             [
              0.4444444444444444,
              "#bd3786"
             ],
             [
              0.5555555555555556,
              "#d8576b"
             ],
             [
              0.6666666666666666,
              "#ed7953"
             ],
             [
              0.7777777777777778,
              "#fb9f3a"
             ],
             [
              0.8888888888888888,
              "#fdca26"
             ],
             [
              1,
              "#f0f921"
             ]
            ],
            "type": "histogram2d"
           }
          ],
          "histogram2dcontour": [
           {
            "colorbar": {
             "outlinewidth": 0,
             "ticks": ""
            },
            "colorscale": [
             [
              0,
              "#0d0887"
             ],
             [
              0.1111111111111111,
              "#46039f"
             ],
             [
              0.2222222222222222,
              "#7201a8"
             ],
             [
              0.3333333333333333,
              "#9c179e"
             ],
             [
              0.4444444444444444,
              "#bd3786"
             ],
             [
              0.5555555555555556,
              "#d8576b"
             ],
             [
              0.6666666666666666,
              "#ed7953"
             ],
             [
              0.7777777777777778,
              "#fb9f3a"
             ],
             [
              0.8888888888888888,
              "#fdca26"
             ],
             [
              1,
              "#f0f921"
             ]
            ],
            "type": "histogram2dcontour"
           }
          ],
          "mesh3d": [
           {
            "colorbar": {
             "outlinewidth": 0,
             "ticks": ""
            },
            "type": "mesh3d"
           }
          ],
          "parcoords": [
           {
            "line": {
             "colorbar": {
              "outlinewidth": 0,
              "ticks": ""
             }
            },
            "type": "parcoords"
           }
          ],
          "pie": [
           {
            "automargin": true,
            "type": "pie"
           }
          ],
          "scatter": [
           {
            "fillpattern": {
             "fillmode": "overlay",
             "size": 10,
             "solidity": 0.2
            },
            "type": "scatter"
           }
          ],
          "scatter3d": [
           {
            "line": {
             "colorbar": {
              "outlinewidth": 0,
              "ticks": ""
             }
            },
            "marker": {
             "colorbar": {
              "outlinewidth": 0,
              "ticks": ""
             }
            },
            "type": "scatter3d"
           }
          ],
          "scattercarpet": [
           {
            "marker": {
             "colorbar": {
              "outlinewidth": 0,
              "ticks": ""
             }
            },
            "type": "scattercarpet"
           }
          ],
          "scattergeo": [
           {
            "marker": {
             "colorbar": {
              "outlinewidth": 0,
              "ticks": ""
             }
            },
            "type": "scattergeo"
           }
          ],
          "scattergl": [
           {
            "marker": {
             "colorbar": {
              "outlinewidth": 0,
              "ticks": ""
             }
            },
            "type": "scattergl"
           }
          ],
          "scattermapbox": [
           {
            "marker": {
             "colorbar": {
              "outlinewidth": 0,
              "ticks": ""
             }
            },
            "type": "scattermapbox"
           }
          ],
          "scatterpolar": [
           {
            "marker": {
             "colorbar": {
              "outlinewidth": 0,
              "ticks": ""
             }
            },
            "type": "scatterpolar"
           }
          ],
          "scatterpolargl": [
           {
            "marker": {
             "colorbar": {
              "outlinewidth": 0,
              "ticks": ""
             }
            },
            "type": "scatterpolargl"
           }
          ],
          "scatterternary": [
           {
            "marker": {
             "colorbar": {
              "outlinewidth": 0,
              "ticks": ""
             }
            },
            "type": "scatterternary"
           }
          ],
          "surface": [
           {
            "colorbar": {
             "outlinewidth": 0,
             "ticks": ""
            },
            "colorscale": [
             [
              0,
              "#0d0887"
             ],
             [
              0.1111111111111111,
              "#46039f"
             ],
             [
              0.2222222222222222,
              "#7201a8"
             ],
             [
              0.3333333333333333,
              "#9c179e"
             ],
             [
              0.4444444444444444,
              "#bd3786"
             ],
             [
              0.5555555555555556,
              "#d8576b"
             ],
             [
              0.6666666666666666,
              "#ed7953"
             ],
             [
              0.7777777777777778,
              "#fb9f3a"
             ],
             [
              0.8888888888888888,
              "#fdca26"
             ],
             [
              1,
              "#f0f921"
             ]
            ],
            "type": "surface"
           }
          ],
          "table": [
           {
            "cells": {
             "fill": {
              "color": "#EBF0F8"
             },
             "line": {
              "color": "white"
             }
            },
            "header": {
             "fill": {
              "color": "#C8D4E3"
             },
             "line": {
              "color": "white"
             }
            },
            "type": "table"
           }
          ]
         },
         "layout": {
          "annotationdefaults": {
           "arrowcolor": "#2a3f5f",
           "arrowhead": 0,
           "arrowwidth": 1
          },
          "autotypenumbers": "strict",
          "coloraxis": {
           "colorbar": {
            "outlinewidth": 0,
            "ticks": ""
           }
          },
          "colorscale": {
           "diverging": [
            [
             0,
             "#8e0152"
            ],
            [
             0.1,
             "#c51b7d"
            ],
            [
             0.2,
             "#de77ae"
            ],
            [
             0.3,
             "#f1b6da"
            ],
            [
             0.4,
             "#fde0ef"
            ],
            [
             0.5,
             "#f7f7f7"
            ],
            [
             0.6,
             "#e6f5d0"
            ],
            [
             0.7,
             "#b8e186"
            ],
            [
             0.8,
             "#7fbc41"
            ],
            [
             0.9,
             "#4d9221"
            ],
            [
             1,
             "#276419"
            ]
           ],
           "sequential": [
            [
             0,
             "#0d0887"
            ],
            [
             0.1111111111111111,
             "#46039f"
            ],
            [
             0.2222222222222222,
             "#7201a8"
            ],
            [
             0.3333333333333333,
             "#9c179e"
            ],
            [
             0.4444444444444444,
             "#bd3786"
            ],
            [
             0.5555555555555556,
             "#d8576b"
            ],
            [
             0.6666666666666666,
             "#ed7953"
            ],
            [
             0.7777777777777778,
             "#fb9f3a"
            ],
            [
             0.8888888888888888,
             "#fdca26"
            ],
            [
             1,
             "#f0f921"
            ]
           ],
           "sequentialminus": [
            [
             0,
             "#0d0887"
            ],
            [
             0.1111111111111111,
             "#46039f"
            ],
            [
             0.2222222222222222,
             "#7201a8"
            ],
            [
             0.3333333333333333,
             "#9c179e"
            ],
            [
             0.4444444444444444,
             "#bd3786"
            ],
            [
             0.5555555555555556,
             "#d8576b"
            ],
            [
             0.6666666666666666,
             "#ed7953"
            ],
            [
             0.7777777777777778,
             "#fb9f3a"
            ],
            [
             0.8888888888888888,
             "#fdca26"
            ],
            [
             1,
             "#f0f921"
            ]
           ]
          },
          "colorway": [
           "#636efa",
           "#EF553B",
           "#00cc96",
           "#ab63fa",
           "#FFA15A",
           "#19d3f3",
           "#FF6692",
           "#B6E880",
           "#FF97FF",
           "#FECB52"
          ],
          "font": {
           "color": "#2a3f5f"
          },
          "geo": {
           "bgcolor": "white",
           "lakecolor": "white",
           "landcolor": "#E5ECF6",
           "showlakes": true,
           "showland": true,
           "subunitcolor": "white"
          },
          "hoverlabel": {
           "align": "left"
          },
          "hovermode": "closest",
          "mapbox": {
           "style": "light"
          },
          "paper_bgcolor": "white",
          "plot_bgcolor": "#E5ECF6",
          "polar": {
           "angularaxis": {
            "gridcolor": "white",
            "linecolor": "white",
            "ticks": ""
           },
           "bgcolor": "#E5ECF6",
           "radialaxis": {
            "gridcolor": "white",
            "linecolor": "white",
            "ticks": ""
           }
          },
          "scene": {
           "xaxis": {
            "backgroundcolor": "#E5ECF6",
            "gridcolor": "white",
            "gridwidth": 2,
            "linecolor": "white",
            "showbackground": true,
            "ticks": "",
            "zerolinecolor": "white"
           },
           "yaxis": {
            "backgroundcolor": "#E5ECF6",
            "gridcolor": "white",
            "gridwidth": 2,
            "linecolor": "white",
            "showbackground": true,
            "ticks": "",
            "zerolinecolor": "white"
           },
           "zaxis": {
            "backgroundcolor": "#E5ECF6",
            "gridcolor": "white",
            "gridwidth": 2,
            "linecolor": "white",
            "showbackground": true,
            "ticks": "",
            "zerolinecolor": "white"
           }
          },
          "shapedefaults": {
           "line": {
            "color": "#2a3f5f"
           }
          },
          "ternary": {
           "aaxis": {
            "gridcolor": "white",
            "linecolor": "white",
            "ticks": ""
           },
           "baxis": {
            "gridcolor": "white",
            "linecolor": "white",
            "ticks": ""
           },
           "bgcolor": "#E5ECF6",
           "caxis": {
            "gridcolor": "white",
            "linecolor": "white",
            "ticks": ""
           }
          },
          "title": {
           "x": 0.05
          },
          "xaxis": {
           "automargin": true,
           "gridcolor": "white",
           "linecolor": "white",
           "ticks": "",
           "title": {
            "standoff": 15
           },
           "zerolinecolor": "white",
           "zerolinewidth": 2
          },
          "yaxis": {
           "automargin": true,
           "gridcolor": "white",
           "linecolor": "white",
           "ticks": "",
           "title": {
            "standoff": 15
           },
           "zerolinecolor": "white",
           "zerolinewidth": 2
          }
         }
        },
        "title": {
         "text": "Words frequency"
        },
        "xaxis": {
         "title": {
          "text": "word"
         }
        },
        "yaxis": {
         "title": {
          "text": "count"
         }
        }
       }
      },
      "text/html": [
       "<div>                            <div id=\"c4183815-bf86-45a0-8ca1-d136355b7a51\" class=\"plotly-graph-div\" style=\"height:525px; width:100%;\"></div>            <script type=\"text/javascript\">                require([\"plotly\"], function(Plotly) {                    window.PLOTLYENV=window.PLOTLYENV || {};                                    if (document.getElementById(\"c4183815-bf86-45a0-8ca1-d136355b7a51\")) {                    Plotly.newPlot(                        \"c4183815-bf86-45a0-8ca1-d136355b7a51\",                        [{\"name\":\"1\",\"x\":[\"que\",\"el\",\"no\",\"the\",\"de\",\"you\",\"me\",\"la\",\"and\",\"es\",\"en\",\"pero\",\"like\",\"yo\",\"it\",\"un\",\"to\",\"that\",\"si\",\"lo\",\"know\",\"se\",\"te\",\"los\",\"le\",\"tu\",\"so\",\"porque\",\"he\",\"she\",\"para\",\"was\",\"in\",\"is\",\"they\",\"como\",\"do\",\"entonces\",\"con\",\"we\",\"mi\",\"una\",\"esta\",\"of\",\"have\",\"por\",\"na\",\"eso\",\"because\",\"my\"],\"y\":[992,614,574,462,446,436,361,359,350,329,323,317,309,304,296,280,260,249,235,227,217,215,202,197,186,186,182,179,167,167,156,151,147,146,143,143,141,138,127,126,120,119,118,113,110,110,106,102,101,101],\"type\":\"bar\"}],                        {\"template\":{\"data\":{\"histogram2dcontour\":[{\"type\":\"histogram2dcontour\",\"colorbar\":{\"outlinewidth\":0,\"ticks\":\"\"},\"colorscale\":[[0.0,\"#0d0887\"],[0.1111111111111111,\"#46039f\"],[0.2222222222222222,\"#7201a8\"],[0.3333333333333333,\"#9c179e\"],[0.4444444444444444,\"#bd3786\"],[0.5555555555555556,\"#d8576b\"],[0.6666666666666666,\"#ed7953\"],[0.7777777777777778,\"#fb9f3a\"],[0.8888888888888888,\"#fdca26\"],[1.0,\"#f0f921\"]]}],\"choropleth\":[{\"type\":\"choropleth\",\"colorbar\":{\"outlinewidth\":0,\"ticks\":\"\"}}],\"histogram2d\":[{\"type\":\"histogram2d\",\"colorbar\":{\"outlinewidth\":0,\"ticks\":\"\"},\"colorscale\":[[0.0,\"#0d0887\"],[0.1111111111111111,\"#46039f\"],[0.2222222222222222,\"#7201a8\"],[0.3333333333333333,\"#9c179e\"],[0.4444444444444444,\"#bd3786\"],[0.5555555555555556,\"#d8576b\"],[0.6666666666666666,\"#ed7953\"],[0.7777777777777778,\"#fb9f3a\"],[0.8888888888888888,\"#fdca26\"],[1.0,\"#f0f921\"]]}],\"heatmap\":[{\"type\":\"heatmap\",\"colorbar\":{\"outlinewidth\":0,\"ticks\":\"\"},\"colorscale\":[[0.0,\"#0d0887\"],[0.1111111111111111,\"#46039f\"],[0.2222222222222222,\"#7201a8\"],[0.3333333333333333,\"#9c179e\"],[0.4444444444444444,\"#bd3786\"],[0.5555555555555556,\"#d8576b\"],[0.6666666666666666,\"#ed7953\"],[0.7777777777777778,\"#fb9f3a\"],[0.8888888888888888,\"#fdca26\"],[1.0,\"#f0f921\"]]}],\"heatmapgl\":[{\"type\":\"heatmapgl\",\"colorbar\":{\"outlinewidth\":0,\"ticks\":\"\"},\"colorscale\":[[0.0,\"#0d0887\"],[0.1111111111111111,\"#46039f\"],[0.2222222222222222,\"#7201a8\"],[0.3333333333333333,\"#9c179e\"],[0.4444444444444444,\"#bd3786\"],[0.5555555555555556,\"#d8576b\"],[0.6666666666666666,\"#ed7953\"],[0.7777777777777778,\"#fb9f3a\"],[0.8888888888888888,\"#fdca26\"],[1.0,\"#f0f921\"]]}],\"contourcarpet\":[{\"type\":\"contourcarpet\",\"colorbar\":{\"outlinewidth\":0,\"ticks\":\"\"}}],\"contour\":[{\"type\":\"contour\",\"colorbar\":{\"outlinewidth\":0,\"ticks\":\"\"},\"colorscale\":[[0.0,\"#0d0887\"],[0.1111111111111111,\"#46039f\"],[0.2222222222222222,\"#7201a8\"],[0.3333333333333333,\"#9c179e\"],[0.4444444444444444,\"#bd3786\"],[0.5555555555555556,\"#d8576b\"],[0.6666666666666666,\"#ed7953\"],[0.7777777777777778,\"#fb9f3a\"],[0.8888888888888888,\"#fdca26\"],[1.0,\"#f0f921\"]]}],\"surface\":[{\"type\":\"surface\",\"colorbar\":{\"outlinewidth\":0,\"ticks\":\"\"},\"colorscale\":[[0.0,\"#0d0887\"],[0.1111111111111111,\"#46039f\"],[0.2222222222222222,\"#7201a8\"],[0.3333333333333333,\"#9c179e\"],[0.4444444444444444,\"#bd3786\"],[0.5555555555555556,\"#d8576b\"],[0.6666666666666666,\"#ed7953\"],[0.7777777777777778,\"#fb9f3a\"],[0.8888888888888888,\"#fdca26\"],[1.0,\"#f0f921\"]]}],\"mesh3d\":[{\"type\":\"mesh3d\",\"colorbar\":{\"outlinewidth\":0,\"ticks\":\"\"}}],\"scatter\":[{\"fillpattern\":{\"fillmode\":\"overlay\",\"size\":10,\"solidity\":0.2},\"type\":\"scatter\"}],\"parcoords\":[{\"type\":\"parcoords\",\"line\":{\"colorbar\":{\"outlinewidth\":0,\"ticks\":\"\"}}}],\"scatterpolargl\":[{\"type\":\"scatterpolargl\",\"marker\":{\"colorbar\":{\"outlinewidth\":0,\"ticks\":\"\"}}}],\"bar\":[{\"error_x\":{\"color\":\"#2a3f5f\"},\"error_y\":{\"color\":\"#2a3f5f\"},\"marker\":{\"line\":{\"color\":\"#E5ECF6\",\"width\":0.5},\"pattern\":{\"fillmode\":\"overlay\",\"size\":10,\"solidity\":0.2}},\"type\":\"bar\"}],\"scattergeo\":[{\"type\":\"scattergeo\",\"marker\":{\"colorbar\":{\"outlinewidth\":0,\"ticks\":\"\"}}}],\"scatterpolar\":[{\"type\":\"scatterpolar\",\"marker\":{\"colorbar\":{\"outlinewidth\":0,\"ticks\":\"\"}}}],\"histogram\":[{\"marker\":{\"pattern\":{\"fillmode\":\"overlay\",\"size\":10,\"solidity\":0.2}},\"type\":\"histogram\"}],\"scattergl\":[{\"type\":\"scattergl\",\"marker\":{\"colorbar\":{\"outlinewidth\":0,\"ticks\":\"\"}}}],\"scatter3d\":[{\"type\":\"scatter3d\",\"line\":{\"colorbar\":{\"outlinewidth\":0,\"ticks\":\"\"}},\"marker\":{\"colorbar\":{\"outlinewidth\":0,\"ticks\":\"\"}}}],\"scattermapbox\":[{\"type\":\"scattermapbox\",\"marker\":{\"colorbar\":{\"outlinewidth\":0,\"ticks\":\"\"}}}],\"scatterternary\":[{\"type\":\"scatterternary\",\"marker\":{\"colorbar\":{\"outlinewidth\":0,\"ticks\":\"\"}}}],\"scattercarpet\":[{\"type\":\"scattercarpet\",\"marker\":{\"colorbar\":{\"outlinewidth\":0,\"ticks\":\"\"}}}],\"carpet\":[{\"aaxis\":{\"endlinecolor\":\"#2a3f5f\",\"gridcolor\":\"white\",\"linecolor\":\"white\",\"minorgridcolor\":\"white\",\"startlinecolor\":\"#2a3f5f\"},\"baxis\":{\"endlinecolor\":\"#2a3f5f\",\"gridcolor\":\"white\",\"linecolor\":\"white\",\"minorgridcolor\":\"white\",\"startlinecolor\":\"#2a3f5f\"},\"type\":\"carpet\"}],\"table\":[{\"cells\":{\"fill\":{\"color\":\"#EBF0F8\"},\"line\":{\"color\":\"white\"}},\"header\":{\"fill\":{\"color\":\"#C8D4E3\"},\"line\":{\"color\":\"white\"}},\"type\":\"table\"}],\"barpolar\":[{\"marker\":{\"line\":{\"color\":\"#E5ECF6\",\"width\":0.5},\"pattern\":{\"fillmode\":\"overlay\",\"size\":10,\"solidity\":0.2}},\"type\":\"barpolar\"}],\"pie\":[{\"automargin\":true,\"type\":\"pie\"}]},\"layout\":{\"autotypenumbers\":\"strict\",\"colorway\":[\"#636efa\",\"#EF553B\",\"#00cc96\",\"#ab63fa\",\"#FFA15A\",\"#19d3f3\",\"#FF6692\",\"#B6E880\",\"#FF97FF\",\"#FECB52\"],\"font\":{\"color\":\"#2a3f5f\"},\"hovermode\":\"closest\",\"hoverlabel\":{\"align\":\"left\"},\"paper_bgcolor\":\"white\",\"plot_bgcolor\":\"#E5ECF6\",\"polar\":{\"bgcolor\":\"#E5ECF6\",\"angularaxis\":{\"gridcolor\":\"white\",\"linecolor\":\"white\",\"ticks\":\"\"},\"radialaxis\":{\"gridcolor\":\"white\",\"linecolor\":\"white\",\"ticks\":\"\"}},\"ternary\":{\"bgcolor\":\"#E5ECF6\",\"aaxis\":{\"gridcolor\":\"white\",\"linecolor\":\"white\",\"ticks\":\"\"},\"baxis\":{\"gridcolor\":\"white\",\"linecolor\":\"white\",\"ticks\":\"\"},\"caxis\":{\"gridcolor\":\"white\",\"linecolor\":\"white\",\"ticks\":\"\"}},\"coloraxis\":{\"colorbar\":{\"outlinewidth\":0,\"ticks\":\"\"}},\"colorscale\":{\"sequential\":[[0.0,\"#0d0887\"],[0.1111111111111111,\"#46039f\"],[0.2222222222222222,\"#7201a8\"],[0.3333333333333333,\"#9c179e\"],[0.4444444444444444,\"#bd3786\"],[0.5555555555555556,\"#d8576b\"],[0.6666666666666666,\"#ed7953\"],[0.7777777777777778,\"#fb9f3a\"],[0.8888888888888888,\"#fdca26\"],[1.0,\"#f0f921\"]],\"sequentialminus\":[[0.0,\"#0d0887\"],[0.1111111111111111,\"#46039f\"],[0.2222222222222222,\"#7201a8\"],[0.3333333333333333,\"#9c179e\"],[0.4444444444444444,\"#bd3786\"],[0.5555555555555556,\"#d8576b\"],[0.6666666666666666,\"#ed7953\"],[0.7777777777777778,\"#fb9f3a\"],[0.8888888888888888,\"#fdca26\"],[1.0,\"#f0f921\"]],\"diverging\":[[0,\"#8e0152\"],[0.1,\"#c51b7d\"],[0.2,\"#de77ae\"],[0.3,\"#f1b6da\"],[0.4,\"#fde0ef\"],[0.5,\"#f7f7f7\"],[0.6,\"#e6f5d0\"],[0.7,\"#b8e186\"],[0.8,\"#7fbc41\"],[0.9,\"#4d9221\"],[1,\"#276419\"]]},\"xaxis\":{\"gridcolor\":\"white\",\"linecolor\":\"white\",\"ticks\":\"\",\"title\":{\"standoff\":15},\"zerolinecolor\":\"white\",\"automargin\":true,\"zerolinewidth\":2},\"yaxis\":{\"gridcolor\":\"white\",\"linecolor\":\"white\",\"ticks\":\"\",\"title\":{\"standoff\":15},\"zerolinecolor\":\"white\",\"automargin\":true,\"zerolinewidth\":2},\"scene\":{\"xaxis\":{\"backgroundcolor\":\"#E5ECF6\",\"gridcolor\":\"white\",\"linecolor\":\"white\",\"showbackground\":true,\"ticks\":\"\",\"zerolinecolor\":\"white\",\"gridwidth\":2},\"yaxis\":{\"backgroundcolor\":\"#E5ECF6\",\"gridcolor\":\"white\",\"linecolor\":\"white\",\"showbackground\":true,\"ticks\":\"\",\"zerolinecolor\":\"white\",\"gridwidth\":2},\"zaxis\":{\"backgroundcolor\":\"#E5ECF6\",\"gridcolor\":\"white\",\"linecolor\":\"white\",\"showbackground\":true,\"ticks\":\"\",\"zerolinecolor\":\"white\",\"gridwidth\":2}},\"shapedefaults\":{\"line\":{\"color\":\"#2a3f5f\"}},\"annotationdefaults\":{\"arrowcolor\":\"#2a3f5f\",\"arrowhead\":0,\"arrowwidth\":1},\"geo\":{\"bgcolor\":\"white\",\"landcolor\":\"#E5ECF6\",\"subunitcolor\":\"white\",\"showland\":true,\"showlakes\":true,\"lakecolor\":\"white\"},\"title\":{\"x\":0.05},\"mapbox\":{\"style\":\"light\"}}},\"title\":{\"text\":\"Words frequency\"},\"xaxis\":{\"title\":{\"text\":\"word\"}},\"yaxis\":{\"title\":{\"text\":\"count\"}}},                        {\"responsive\": true}                    ).then(function(){\n",
       "                            \n",
       "var gd = document.getElementById('c4183815-bf86-45a0-8ca1-d136355b7a51');\n",
       "var x = new MutationObserver(function (mutations, observer) {{\n",
       "        var display = window.getComputedStyle(gd).display;\n",
       "        if (!display || display === 'none') {{\n",
       "            console.log([gd, 'removed!']);\n",
       "            Plotly.purge(gd);\n",
       "            observer.disconnect();\n",
       "        }}\n",
       "}});\n",
       "\n",
       "// Listen for the removal of the full notebook cells\n",
       "var notebookContainer = gd.closest('#notebook-container');\n",
       "if (notebookContainer) {{\n",
       "    x.observe(notebookContainer, {childList: true});\n",
       "}}\n",
       "\n",
       "// Listen for the clearing of the current output cell\n",
       "var outputEl = gd.closest('.output');\n",
       "if (outputEl) {{\n",
       "    x.observe(outputEl, {childList: true});\n",
       "}}\n",
       "\n",
       "                        })                };                });            </script>        </div>"
      ]
     },
     "metadata": {},
     "output_type": "display_data"
    }
   ],
   "source": [
    "import plotly.express as px\n",
    "import plotly.graph_objects as go\n",
    "def get_top_n_words(corpus, n=None):\n",
    "    vec = CountVectorizer().fit(corpus)\n",
    "    bag_of_words = vec.transform(corpus)\n",
    "    sum_words = bag_of_words.sum(axis=0) \n",
    "    words_freq = [(word, sum_words[0, idx]) for word, idx in     vec.vocabulary_.items()]\n",
    "    words_freq =sorted(words_freq, key = lambda x: x[1], reverse=True)\n",
    "    return words_freq[:n]\n",
    "\n",
    "words_freq = get_top_n_words(uters_texts, 50)\n",
    "words = [w[0] for w in words_freq]\n",
    "freq = [w[1] for w in words_freq]\n",
    "\n",
    "fig = go.Figure(data=[\n",
    "    go.Bar(name='1', x=words, y=freq),\n",
    "])\n",
    "fig.update_layout(\n",
    "    title=f\"Words frequency\",\n",
    "    xaxis_title='word',\n",
    "    yaxis_title=\"count\",\n",
    ")\n",
    "\n",
    "fig.show()"
   ]
  },
  {
   "cell_type": "code",
   "execution_count": 37,
   "id": "21a7899c",
   "metadata": {},
   "outputs": [
    {
     "name": "stdout",
     "output_type": "stream",
     "text": [
      "herring1.csv\n",
      "67\n",
      "and your grandmother was like oh todo se mira en las manos\n",
      "[('and', 'eng', 'CONJ', 0, '', 0.4466), ('your', 'eng', 'DET', 0, '', 0.3318), ('grandmother', 'eng', 'NOUN', 0, '', 0.5106), ('was', 'eng', 'VERB', 0, '', 0.0), ('like', 'eng', 'ADV', 0, '', 0.4504), ('oh', 'shared_other', 'INTJ', 0, '', 0.0), ('todo', 'spa', 'PRON', 0, '', 0.2643), ('se', 'spa', 'PRON', 0, '', 0.0), ('mira', 'spa', 'VERB', 0, '', 0.3117), ('en', 'spa', 'ADP', 1, '', 0.0), ('las', 'spa', 'DET', 0, '', 0.0), ('manos', 'spa', 'NOUN', 0, '', 0.4779)]\n"
     ]
    }
   ],
   "source": [
    "def print_uter(uter):\n",
    "    print(uter.filename)\n",
    "    print(uter.uter_id)\n",
    "    print(str(uter))\n",
    "    tuples = []\n",
    "    for t in uter.tokens:\n",
    "        tuples.append((t.surface, t.lang, t.postag, t.bin_cognate, t.ner, t.cognatehood))\n",
    "    print(tuples)\n",
    "    \n",
    "print_uter(cs_uters[0])"
   ]
  },
  {
   "cell_type": "code",
   "execution_count": 38,
   "id": "5ae53278",
   "metadata": {},
   "outputs": [
    {
     "name": "stdout",
     "output_type": "stream",
     "text": [
      "{'none': 0, 'ADP': 1, 'ADV': 2, 'NUM': 3, 'PROPN': 4, 'VERB': 5, 'INTJ': 6, 'PART': 7, 'NOUN': 8, 'AUX': 9, 'CONJ': 10, 'ADJ': 11, 'SCONJ': 12, 'DET': 13, 'PRON': 14, 'X': 15}\n",
      "{0: 'none', 1: 'ADP', 2: 'ADV', 3: 'NUM', 4: 'PROPN', 5: 'VERB', 6: 'INTJ', 7: 'PART', 8: 'NOUN', 9: 'AUX', 10: 'CONJ', 11: 'ADJ', 12: 'SCONJ', 13: 'DET', 14: 'PRON', 15: 'X'}\n",
      "\n",
      "{'': 0}\n",
      "{0: ''}\n"
     ]
    }
   ],
   "source": [
    "pos_tags_map_name = {}\n",
    "pos_tags_map_value = {}\n",
    "\n",
    "pos_tags_map_value[0] = 'none'\n",
    "pos_tags_map_name['none']=0\n",
    "\n",
    "ner_map_name = {}\n",
    "ner_map_value = {}\n",
    "\n",
    "pos_tags_set = set()\n",
    "ner_set = set()\n",
    "for uter in cs_uters:\n",
    "    for token in uter.tokens:\n",
    "        pos_tags_set.add(token.postag)\n",
    "        ner_set.add(token.ner)\n",
    "        \n",
    "for i, pt in enumerate(pos_tags_set, start=1):\n",
    "    pos_tags_map_value[i] = pt\n",
    "    pos_tags_map_name[pt] = i\n",
    "\n",
    "for i, n in enumerate(ner_set, start=0):\n",
    "    ner_map_name[n] = i\n",
    "    ner_map_value[i] = n\n",
    "\n",
    "print(pos_tags_map_name)\n",
    "print(pos_tags_map_value)\n",
    "print()\n",
    "print(ner_map_name)\n",
    "print(ner_map_value)"
   ]
  },
  {
   "cell_type": "code",
   "execution_count": 51,
   "id": "4073d2d1",
   "metadata": {
    "scrolled": false
   },
   "outputs": [
    {
     "name": "stderr",
     "output_type": "stream",
     "text": [
      "100%|██████████████████████████████████████████████████████████████████████████████████████████████████████████████████████████████████████████████████████████████████████████████████████████████████████████| 2799/2799 [01:09<00:00, 40.43it/s]\n"
     ]
    },
    {
     "data": {
      "text/html": [
       "<div>\n",
       "<style scoped>\n",
       "    .dataframe tbody tr th:only-of-type {\n",
       "        vertical-align: middle;\n",
       "    }\n",
       "\n",
       "    .dataframe tbody tr th {\n",
       "        vertical-align: top;\n",
       "    }\n",
       "\n",
       "    .dataframe thead th {\n",
       "        text-align: right;\n",
       "    }\n",
       "</style>\n",
       "<table border=\"1\" class=\"dataframe\">\n",
       "  <thead>\n",
       "    <tr style=\"text-align: right;\">\n",
       "      <th></th>\n",
       "      <th>len_0</th>\n",
       "      <th>len_1</th>\n",
       "      <th>len_2</th>\n",
       "      <th>len_3</th>\n",
       "      <th>len_4</th>\n",
       "      <th>ipa_len_0</th>\n",
       "      <th>ipa_len_1</th>\n",
       "      <th>ipa_len_2</th>\n",
       "      <th>ipa_len_3</th>\n",
       "      <th>ipa_len_4</th>\n",
       "      <th>...</th>\n",
       "      <th>w_when</th>\n",
       "      <th>w_with</th>\n",
       "      <th>w_ya</th>\n",
       "      <th>w_yeah</th>\n",
       "      <th>w_yo</th>\n",
       "      <th>w_you</th>\n",
       "      <th>label</th>\n",
       "      <th>sub_uter</th>\n",
       "      <th>full_uter</th>\n",
       "      <th>key</th>\n",
       "    </tr>\n",
       "  </thead>\n",
       "  <tbody>\n",
       "    <tr>\n",
       "      <th>0</th>\n",
       "      <td>0</td>\n",
       "      <td>0</td>\n",
       "      <td>0</td>\n",
       "      <td>3</td>\n",
       "      <td>4</td>\n",
       "      <td>0</td>\n",
       "      <td>0</td>\n",
       "      <td>0</td>\n",
       "      <td>3</td>\n",
       "      <td>3</td>\n",
       "      <td>...</td>\n",
       "      <td>0</td>\n",
       "      <td>0</td>\n",
       "      <td>0</td>\n",
       "      <td>0</td>\n",
       "      <td>0</td>\n",
       "      <td>0</td>\n",
       "      <td>0</td>\n",
       "      <td>and your</td>\n",
       "      <td>and your grandmother was like oh todo se mira ...</td>\n",
       "      <td>herring1.csv_67_0</td>\n",
       "    </tr>\n",
       "    <tr>\n",
       "      <th>0</th>\n",
       "      <td>0</td>\n",
       "      <td>0</td>\n",
       "      <td>3</td>\n",
       "      <td>4</td>\n",
       "      <td>11</td>\n",
       "      <td>0</td>\n",
       "      <td>0</td>\n",
       "      <td>3</td>\n",
       "      <td>3</td>\n",
       "      <td>10</td>\n",
       "      <td>...</td>\n",
       "      <td>0</td>\n",
       "      <td>0</td>\n",
       "      <td>0</td>\n",
       "      <td>0</td>\n",
       "      <td>0</td>\n",
       "      <td>0</td>\n",
       "      <td>0</td>\n",
       "      <td>and your grandmother</td>\n",
       "      <td>and your grandmother was like oh todo se mira ...</td>\n",
       "      <td>herring1.csv_67_1</td>\n",
       "    </tr>\n",
       "    <tr>\n",
       "      <th>0</th>\n",
       "      <td>0</td>\n",
       "      <td>3</td>\n",
       "      <td>4</td>\n",
       "      <td>11</td>\n",
       "      <td>3</td>\n",
       "      <td>0</td>\n",
       "      <td>3</td>\n",
       "      <td>3</td>\n",
       "      <td>10</td>\n",
       "      <td>3</td>\n",
       "      <td>...</td>\n",
       "      <td>0</td>\n",
       "      <td>0</td>\n",
       "      <td>0</td>\n",
       "      <td>0</td>\n",
       "      <td>0</td>\n",
       "      <td>0</td>\n",
       "      <td>0</td>\n",
       "      <td>and your grandmother was</td>\n",
       "      <td>and your grandmother was like oh todo se mira ...</td>\n",
       "      <td>herring1.csv_67_2</td>\n",
       "    </tr>\n",
       "    <tr>\n",
       "      <th>0</th>\n",
       "      <td>3</td>\n",
       "      <td>4</td>\n",
       "      <td>11</td>\n",
       "      <td>3</td>\n",
       "      <td>4</td>\n",
       "      <td>3</td>\n",
       "      <td>3</td>\n",
       "      <td>10</td>\n",
       "      <td>3</td>\n",
       "      <td>4</td>\n",
       "      <td>...</td>\n",
       "      <td>0</td>\n",
       "      <td>0</td>\n",
       "      <td>0</td>\n",
       "      <td>0</td>\n",
       "      <td>0</td>\n",
       "      <td>0</td>\n",
       "      <td>0</td>\n",
       "      <td>and your grandmother was like</td>\n",
       "      <td>and your grandmother was like oh todo se mira ...</td>\n",
       "      <td>herring1.csv_67_3</td>\n",
       "    </tr>\n",
       "    <tr>\n",
       "      <th>0</th>\n",
       "      <td>4</td>\n",
       "      <td>11</td>\n",
       "      <td>3</td>\n",
       "      <td>4</td>\n",
       "      <td>2</td>\n",
       "      <td>3</td>\n",
       "      <td>10</td>\n",
       "      <td>3</td>\n",
       "      <td>4</td>\n",
       "      <td>2</td>\n",
       "      <td>...</td>\n",
       "      <td>0</td>\n",
       "      <td>0</td>\n",
       "      <td>0</td>\n",
       "      <td>0</td>\n",
       "      <td>0</td>\n",
       "      <td>0</td>\n",
       "      <td>0</td>\n",
       "      <td>your grandmother was like oh</td>\n",
       "      <td>and your grandmother was like oh todo se mira ...</td>\n",
       "      <td>herring1.csv_67_4</td>\n",
       "    </tr>\n",
       "  </tbody>\n",
       "</table>\n",
       "<p>5 rows × 124 columns</p>\n",
       "</div>"
      ],
      "text/plain": [
       "   len_0  len_1  len_2  len_3  len_4  ipa_len_0  ipa_len_1  ipa_len_2  \\\n",
       "0      0      0      0      3      4          0          0          0   \n",
       "0      0      0      3      4     11          0          0          3   \n",
       "0      0      3      4     11      3          0          3          3   \n",
       "0      3      4     11      3      4          3          3         10   \n",
       "0      4     11      3      4      2          3         10          3   \n",
       "\n",
       "   ipa_len_3  ipa_len_4  ...  w_when  w_with  w_ya  w_yeah  w_yo  w_you  \\\n",
       "0          3          3  ...       0       0     0       0     0      0   \n",
       "0          3         10  ...       0       0     0       0     0      0   \n",
       "0         10          3  ...       0       0     0       0     0      0   \n",
       "0          3          4  ...       0       0     0       0     0      0   \n",
       "0          4          2  ...       0       0     0       0     0      0   \n",
       "\n",
       "   label                       sub_uter  \\\n",
       "0      0                       and your   \n",
       "0      0           and your grandmother   \n",
       "0      0       and your grandmother was   \n",
       "0      0  and your grandmother was like   \n",
       "0      0   your grandmother was like oh   \n",
       "\n",
       "                                           full_uter                key  \n",
       "0  and your grandmother was like oh todo se mira ...  herring1.csv_67_0  \n",
       "0  and your grandmother was like oh todo se mira ...  herring1.csv_67_1  \n",
       "0  and your grandmother was like oh todo se mira ...  herring1.csv_67_2  \n",
       "0  and your grandmother was like oh todo se mira ...  herring1.csv_67_3  \n",
       "0  and your grandmother was like oh todo se mira ...  herring1.csv_67_4  \n",
       "\n",
       "[5 rows x 124 columns]"
      ]
     },
     "execution_count": 51,
     "metadata": {},
     "output_type": "execute_result"
    }
   ],
   "source": [
    "from tqdm import tqdm\n",
    "\n",
    "k=5   # context / window size\n",
    "min=2 # keep the starting vectors of each uter\n",
    "\n",
    "def vectors_in_window(arr):\n",
    "    result = [arr[0:min+i] for i in range(k-min)]\n",
    "    result.extend([arr[i:i+k] for i in range(len(arr)-k+1)])\n",
    "    return result\n",
    "\n",
    "def is_cs(lng_vec):\n",
    "    curr = lng_vec[-1]\n",
    "    prev = lng_vec[-2]\n",
    "    \n",
    "    if curr == 'eng' and prev == 'spa':\n",
    "        return 1\n",
    "    if curr == 'spa' and prev == 'eng':\n",
    "        return 1\n",
    "    \n",
    "    # check shared other\n",
    "    if prev == \"shared_other\" and len(lng_vec) > 2:\n",
    "        prev_prev = lng_vec[-3]\n",
    "        return 1 if prev_prev != prev != curr else 0\n",
    "    \n",
    "    return 0\n",
    "    \n",
    "\n",
    "def vectorize(uter, with_words=True, debug=False):\n",
    "    raw = vectors_in_window(uter.tokens)\n",
    "    df = pd.DataFrame()\n",
    "    for vec_idx, v in enumerate(raw):\n",
    "        vec_key = f'{uter.filename}_{uter.uter_id}_{vec_idx}'\n",
    "\n",
    "        pos_tag_vec = []\n",
    "        text_vec = []\n",
    "        len_vec = []\n",
    "        ipa_len_vec = []\n",
    "        lng_vec = []\n",
    "        cognatehood_vec = []\n",
    "#         bin_cognate_vec = []\n",
    "#         ner_vec = []\n",
    "        \n",
    "        for t in v:\n",
    "            pos_tag_vec.append(t.postag)\n",
    "            text_vec.append(t.surface)\n",
    "            lng_vec.append(t.lang)\n",
    "            len_vec.append(t.len)\n",
    "            ipa_len_vec.append(t.ipa_len)\n",
    "            cognatehood_vec.append(t.cognatehood)\n",
    "#             bin_cognate_vec.append(t.bin_cognate)\n",
    "#             ner_vec.append(t.ner)\n",
    "            if debug: print((t.surface, t.lang, t.postag, t.cognatehood))\n",
    "        \n",
    "        sub_uter = ' '.join(text_vec)\n",
    "        \n",
    "        if len(lng_vec) < min:\n",
    "            continue\n",
    "\n",
    "        label = is_cs(lng_vec)\n",
    "        pos_tag_vec = [pos_tags_map_name[p] for p in pos_tag_vec]\n",
    "#         ner_vec = [ner_map_name[n] for n in ner_vec]\n",
    "        \n",
    "        # fix short vectors to K\n",
    "        for _ in range(k-len(v)):\n",
    "            pos_tag_vec.insert(0, pos_tags_map_name['none'])\n",
    "            len_vec.insert(0, 0)\n",
    "            ipa_len_vec.insert(0, 0)\n",
    "            cognatehood_vec.insert(0,0)\n",
    "#             bin_cognate_vec.insert(0, 0)\n",
    "#             ner_vec.insert(0, ner_map_name['other'])\n",
    "            \n",
    "        if with_words:\n",
    "            text_vec = vectorizer.transform([sub_uter]).toarray()[0]\n",
    "            text_words = vectorizer.get_feature_names_out()\n",
    "            \n",
    "        # convert to pandas\n",
    "        data = {f'len_{i}':[l] for i, l in enumerate(len_vec)}\n",
    "        data.update({f'ipa_len_{i}':[l] for i, l in enumerate(ipa_len_vec)})\n",
    "#         data.update({f'bin_cognate_{i}':[l] for i, l in enumerate(bin_cognate_vec)})\n",
    "        data.update({f'cognatehood_{i}':[l] for i, l in enumerate(cognatehood_vec)})\n",
    "\n",
    "        data.update({f'postag_{i}':[p] for i, p in enumerate(pos_tag_vec)})\n",
    "#         data.update({f'ner_{i}':[p] for i, p in enumerate(ner_vec)})\n",
    "        if with_words:\n",
    "            data.update({f'w_{text_words[i]}':[p] for i, p in enumerate(text_vec)})\n",
    "        data.update({'label': label, 'sub_uter':sub_uter ,'full_uter': str(uter), 'key': vec_key})\n",
    "\n",
    "        df = pd.concat([df, pd.DataFrame.from_dict(data)])\n",
    "        \n",
    "        if debug:\n",
    "            print(sub_uter)\n",
    "            print('lng:', lng_vec)\n",
    "            print('len vec:', len_vec)\n",
    "            print('postag vec:', pos_tag_vec)\n",
    "#             print('binary cognate vec:', bin_cognate_vec)\n",
    "#             print('ner vec:', ner_vec)\n",
    "            print('cognatehood vec:', cognatehood_vec)\n",
    "\n",
    "            print('label:', label)\n",
    "            print()\n",
    "    return df\n",
    "\n",
    "\n",
    "\n",
    "# vectorize(cs_uters[0], with_words=True, debug=True)\n",
    "df = pd.DataFrame()\n",
    "for uter in tqdm(cs_uters):\n",
    "    df = pd.concat([df, vectorize(uter, with_words=True)])\n",
    "df.head()"
   ]
  },
  {
   "cell_type": "code",
   "execution_count": 11,
   "id": "3b7403a9",
   "metadata": {
    "scrolled": false
   },
   "outputs": [],
   "source": [
    "# vectorize(cs_uters[15], False, True)\n",
    "# print(cs_uters[5])"
   ]
  },
  {
   "cell_type": "markdown",
   "id": "5b5fb512",
   "metadata": {},
   "source": [
    "# CLS"
   ]
  },
  {
   "cell_type": "code",
   "execution_count": 15,
   "id": "3aa57a8d",
   "metadata": {},
   "outputs": [],
   "source": [
    "import matplotlib.pyplot as plt\n",
    "from sklearn.datasets import make_classification\n",
    "from sklearn.metrics import confusion_matrix, ConfusionMatrixDisplay\n",
    "from sklearn.model_selection import train_test_split\n",
    "from sklearn.metrics import classification_report\n",
    "from sklearn.metrics import f1_score\n",
    "from sklearn.metrics import precision_score, accuracy_score\n",
    "from sklearn.utils import resample\n",
    "from sklearn.model_selection import cross_val_score\n",
    "from sklearn.tree import DecisionTreeClassifier\n",
    "from sklearn.ensemble import RandomForestClassifier\n",
    "import numpy as np\n",
    "import seaborn as sns\n",
    "from sklearn import tree"
   ]
  },
  {
   "cell_type": "code",
   "execution_count": 54,
   "id": "f8aa6708",
   "metadata": {},
   "outputs": [
    {
     "name": "stdout",
     "output_type": "stream",
     "text": [
      "all: 28059\n",
      "label1: 4159\n",
      "label0: 23900\n",
      "down sampling:\n",
      "label0: 4159\n",
      "all: 8318\n",
      "1    4159\n",
      "0    4159\n",
      "Name: label, dtype: int64\n",
      "majority_cls_acc:  0.5\n"
     ]
    },
    {
     "data": {
      "text/html": [
       "<div>\n",
       "<style scoped>\n",
       "    .dataframe tbody tr th:only-of-type {\n",
       "        vertical-align: middle;\n",
       "    }\n",
       "\n",
       "    .dataframe tbody tr th {\n",
       "        vertical-align: top;\n",
       "    }\n",
       "\n",
       "    .dataframe thead th {\n",
       "        text-align: right;\n",
       "    }\n",
       "</style>\n",
       "<table border=\"1\" class=\"dataframe\">\n",
       "  <thead>\n",
       "    <tr style=\"text-align: right;\">\n",
       "      <th></th>\n",
       "      <th>len_0</th>\n",
       "      <th>len_1</th>\n",
       "      <th>len_2</th>\n",
       "      <th>len_3</th>\n",
       "      <th>len_4</th>\n",
       "      <th>ipa_len_0</th>\n",
       "      <th>ipa_len_1</th>\n",
       "      <th>ipa_len_2</th>\n",
       "      <th>ipa_len_3</th>\n",
       "      <th>ipa_len_4</th>\n",
       "      <th>...</th>\n",
       "      <th>w_voy</th>\n",
       "      <th>w_was</th>\n",
       "      <th>w_we</th>\n",
       "      <th>w_what</th>\n",
       "      <th>w_when</th>\n",
       "      <th>w_with</th>\n",
       "      <th>w_ya</th>\n",
       "      <th>w_yeah</th>\n",
       "      <th>w_yo</th>\n",
       "      <th>w_you</th>\n",
       "    </tr>\n",
       "  </thead>\n",
       "  <tbody>\n",
       "    <tr>\n",
       "      <th>0</th>\n",
       "      <td>11</td>\n",
       "      <td>3</td>\n",
       "      <td>4</td>\n",
       "      <td>2</td>\n",
       "      <td>4</td>\n",
       "      <td>10</td>\n",
       "      <td>3</td>\n",
       "      <td>4</td>\n",
       "      <td>2</td>\n",
       "      <td>4</td>\n",
       "      <td>...</td>\n",
       "      <td>0</td>\n",
       "      <td>1</td>\n",
       "      <td>0</td>\n",
       "      <td>0</td>\n",
       "      <td>0</td>\n",
       "      <td>0</td>\n",
       "      <td>0</td>\n",
       "      <td>0</td>\n",
       "      <td>0</td>\n",
       "      <td>0</td>\n",
       "    </tr>\n",
       "    <tr>\n",
       "      <th>0</th>\n",
       "      <td>0</td>\n",
       "      <td>0</td>\n",
       "      <td>0</td>\n",
       "      <td>2</td>\n",
       "      <td>2</td>\n",
       "      <td>0</td>\n",
       "      <td>0</td>\n",
       "      <td>0</td>\n",
       "      <td>3</td>\n",
       "      <td>2</td>\n",
       "      <td>...</td>\n",
       "      <td>0</td>\n",
       "      <td>0</td>\n",
       "      <td>0</td>\n",
       "      <td>0</td>\n",
       "      <td>0</td>\n",
       "      <td>0</td>\n",
       "      <td>0</td>\n",
       "      <td>0</td>\n",
       "      <td>0</td>\n",
       "      <td>0</td>\n",
       "    </tr>\n",
       "    <tr>\n",
       "      <th>0</th>\n",
       "      <td>4</td>\n",
       "      <td>5</td>\n",
       "      <td>4</td>\n",
       "      <td>4</td>\n",
       "      <td>3</td>\n",
       "      <td>6</td>\n",
       "      <td>5</td>\n",
       "      <td>6</td>\n",
       "      <td>2</td>\n",
       "      <td>3</td>\n",
       "      <td>...</td>\n",
       "      <td>0</td>\n",
       "      <td>0</td>\n",
       "      <td>0</td>\n",
       "      <td>0</td>\n",
       "      <td>0</td>\n",
       "      <td>0</td>\n",
       "      <td>0</td>\n",
       "      <td>0</td>\n",
       "      <td>0</td>\n",
       "      <td>0</td>\n",
       "    </tr>\n",
       "    <tr>\n",
       "      <th>0</th>\n",
       "      <td>0</td>\n",
       "      <td>0</td>\n",
       "      <td>4</td>\n",
       "      <td>2</td>\n",
       "      <td>3</td>\n",
       "      <td>0</td>\n",
       "      <td>0</td>\n",
       "      <td>4</td>\n",
       "      <td>2</td>\n",
       "      <td>2</td>\n",
       "      <td>...</td>\n",
       "      <td>0</td>\n",
       "      <td>0</td>\n",
       "      <td>0</td>\n",
       "      <td>0</td>\n",
       "      <td>0</td>\n",
       "      <td>0</td>\n",
       "      <td>0</td>\n",
       "      <td>0</td>\n",
       "      <td>0</td>\n",
       "      <td>1</td>\n",
       "    </tr>\n",
       "    <tr>\n",
       "      <th>0</th>\n",
       "      <td>0</td>\n",
       "      <td>0</td>\n",
       "      <td>0</td>\n",
       "      <td>6</td>\n",
       "      <td>2</td>\n",
       "      <td>0</td>\n",
       "      <td>0</td>\n",
       "      <td>0</td>\n",
       "      <td>5</td>\n",
       "      <td>2</td>\n",
       "      <td>...</td>\n",
       "      <td>0</td>\n",
       "      <td>0</td>\n",
       "      <td>0</td>\n",
       "      <td>0</td>\n",
       "      <td>0</td>\n",
       "      <td>0</td>\n",
       "      <td>0</td>\n",
       "      <td>0</td>\n",
       "      <td>0</td>\n",
       "      <td>0</td>\n",
       "    </tr>\n",
       "    <tr>\n",
       "      <th>...</th>\n",
       "      <td>...</td>\n",
       "      <td>...</td>\n",
       "      <td>...</td>\n",
       "      <td>...</td>\n",
       "      <td>...</td>\n",
       "      <td>...</td>\n",
       "      <td>...</td>\n",
       "      <td>...</td>\n",
       "      <td>...</td>\n",
       "      <td>...</td>\n",
       "      <td>...</td>\n",
       "      <td>...</td>\n",
       "      <td>...</td>\n",
       "      <td>...</td>\n",
       "      <td>...</td>\n",
       "      <td>...</td>\n",
       "      <td>...</td>\n",
       "      <td>...</td>\n",
       "      <td>...</td>\n",
       "      <td>...</td>\n",
       "      <td>...</td>\n",
       "    </tr>\n",
       "    <tr>\n",
       "      <th>0</th>\n",
       "      <td>2</td>\n",
       "      <td>5</td>\n",
       "      <td>4</td>\n",
       "      <td>3</td>\n",
       "      <td>5</td>\n",
       "      <td>3</td>\n",
       "      <td>5</td>\n",
       "      <td>4</td>\n",
       "      <td>3</td>\n",
       "      <td>5</td>\n",
       "      <td>...</td>\n",
       "      <td>0</td>\n",
       "      <td>0</td>\n",
       "      <td>0</td>\n",
       "      <td>0</td>\n",
       "      <td>0</td>\n",
       "      <td>0</td>\n",
       "      <td>0</td>\n",
       "      <td>0</td>\n",
       "      <td>0</td>\n",
       "      <td>0</td>\n",
       "    </tr>\n",
       "    <tr>\n",
       "      <th>0</th>\n",
       "      <td>0</td>\n",
       "      <td>0</td>\n",
       "      <td>3</td>\n",
       "      <td>5</td>\n",
       "      <td>3</td>\n",
       "      <td>0</td>\n",
       "      <td>0</td>\n",
       "      <td>3</td>\n",
       "      <td>5</td>\n",
       "      <td>3</td>\n",
       "      <td>...</td>\n",
       "      <td>0</td>\n",
       "      <td>0</td>\n",
       "      <td>0</td>\n",
       "      <td>0</td>\n",
       "      <td>0</td>\n",
       "      <td>0</td>\n",
       "      <td>0</td>\n",
       "      <td>0</td>\n",
       "      <td>0</td>\n",
       "      <td>0</td>\n",
       "    </tr>\n",
       "    <tr>\n",
       "      <th>0</th>\n",
       "      <td>3</td>\n",
       "      <td>6</td>\n",
       "      <td>2</td>\n",
       "      <td>6</td>\n",
       "      <td>2</td>\n",
       "      <td>2</td>\n",
       "      <td>6</td>\n",
       "      <td>2</td>\n",
       "      <td>5</td>\n",
       "      <td>2</td>\n",
       "      <td>...</td>\n",
       "      <td>0</td>\n",
       "      <td>0</td>\n",
       "      <td>0</td>\n",
       "      <td>0</td>\n",
       "      <td>0</td>\n",
       "      <td>0</td>\n",
       "      <td>0</td>\n",
       "      <td>0</td>\n",
       "      <td>0</td>\n",
       "      <td>0</td>\n",
       "    </tr>\n",
       "    <tr>\n",
       "      <th>0</th>\n",
       "      <td>0</td>\n",
       "      <td>0</td>\n",
       "      <td>0</td>\n",
       "      <td>3</td>\n",
       "      <td>1</td>\n",
       "      <td>0</td>\n",
       "      <td>0</td>\n",
       "      <td>0</td>\n",
       "      <td>3</td>\n",
       "      <td>1</td>\n",
       "      <td>...</td>\n",
       "      <td>0</td>\n",
       "      <td>0</td>\n",
       "      <td>0</td>\n",
       "      <td>0</td>\n",
       "      <td>0</td>\n",
       "      <td>0</td>\n",
       "      <td>0</td>\n",
       "      <td>0</td>\n",
       "      <td>0</td>\n",
       "      <td>0</td>\n",
       "    </tr>\n",
       "    <tr>\n",
       "      <th>0</th>\n",
       "      <td>3</td>\n",
       "      <td>5</td>\n",
       "      <td>3</td>\n",
       "      <td>2</td>\n",
       "      <td>2</td>\n",
       "      <td>2</td>\n",
       "      <td>5</td>\n",
       "      <td>2</td>\n",
       "      <td>2</td>\n",
       "      <td>2</td>\n",
       "      <td>...</td>\n",
       "      <td>0</td>\n",
       "      <td>0</td>\n",
       "      <td>0</td>\n",
       "      <td>0</td>\n",
       "      <td>0</td>\n",
       "      <td>0</td>\n",
       "      <td>0</td>\n",
       "      <td>0</td>\n",
       "      <td>0</td>\n",
       "      <td>0</td>\n",
       "    </tr>\n",
       "  </tbody>\n",
       "</table>\n",
       "<p>8318 rows × 120 columns</p>\n",
       "</div>"
      ],
      "text/plain": [
       "    len_0  len_1  len_2  len_3  len_4  ipa_len_0  ipa_len_1  ipa_len_2  \\\n",
       "0      11      3      4      2      4         10          3          4   \n",
       "0       0      0      0      2      2          0          0          0   \n",
       "0       4      5      4      4      3          6          5          6   \n",
       "0       0      0      4      2      3          0          0          4   \n",
       "0       0      0      0      6      2          0          0          0   \n",
       "..    ...    ...    ...    ...    ...        ...        ...        ...   \n",
       "0       2      5      4      3      5          3          5          4   \n",
       "0       0      0      3      5      3          0          0          3   \n",
       "0       3      6      2      6      2          2          6          2   \n",
       "0       0      0      0      3      1          0          0          0   \n",
       "0       3      5      3      2      2          2          5          2   \n",
       "\n",
       "    ipa_len_3  ipa_len_4  ...  w_voy  w_was  w_we  w_what  w_when  w_with  \\\n",
       "0           2          4  ...      0      1     0       0       0       0   \n",
       "0           3          2  ...      0      0     0       0       0       0   \n",
       "0           2          3  ...      0      0     0       0       0       0   \n",
       "0           2          2  ...      0      0     0       0       0       0   \n",
       "0           5          2  ...      0      0     0       0       0       0   \n",
       "..        ...        ...  ...    ...    ...   ...     ...     ...     ...   \n",
       "0           3          5  ...      0      0     0       0       0       0   \n",
       "0           5          3  ...      0      0     0       0       0       0   \n",
       "0           5          2  ...      0      0     0       0       0       0   \n",
       "0           3          1  ...      0      0     0       0       0       0   \n",
       "0           2          2  ...      0      0     0       0       0       0   \n",
       "\n",
       "    w_ya  w_yeah  w_yo  w_you  \n",
       "0      0       0     0      0  \n",
       "0      0       0     0      0  \n",
       "0      0       0     0      0  \n",
       "0      0       0     0      1  \n",
       "0      0       0     0      0  \n",
       "..   ...     ...   ...    ...  \n",
       "0      0       0     0      0  \n",
       "0      0       0     0      0  \n",
       "0      0       0     0      0  \n",
       "0      0       0     0      0  \n",
       "0      0       0     0      0  \n",
       "\n",
       "[8318 rows x 120 columns]"
      ]
     },
     "execution_count": 54,
     "metadata": {},
     "output_type": "execute_result"
    }
   ],
   "source": [
    "# balance the data:\n",
    "balance = True\n",
    "print('all:', len(df))\n",
    "\n",
    "if balance:\n",
    "    pos_df = (df[df['label'] == 1])\n",
    "    neg_df = (df[df['label'] == 0])\n",
    "    print('label1:', len(pos_df))\n",
    "    print('label0:', len(neg_df))\n",
    "    print('down sampling:')\n",
    "\n",
    "\n",
    "    neg_df = resample(neg_df,\n",
    "                      replace=True,     # sample with replacement\n",
    "                      n_samples=len(pos_df),    # to match majority class\n",
    "                      random_state=42) # reproducible results\n",
    "\n",
    "    print('label0:', len(neg_df))\n",
    "    bdf = pd.concat([pos_df, neg_df])\n",
    "    print('all:', len(bdf))\n",
    "else:\n",
    "    bdf = df.copy()\n",
    "    \n",
    "\n",
    "# remove unused cols\n",
    "bdf_copy = bdf.copy()\n",
    "labels = bdf['label']\n",
    "bdf.drop(['label', 'sub_uter', 'full_uter', 'key'], axis=1, inplace=True)\n",
    "# bdf.to_csv('full_data_k_5.csv')\n",
    "print(labels.value_counts())\n",
    "\n",
    "neg = labels.value_counts().tolist()[0]\n",
    "pos = labels.value_counts().tolist()[1]\n",
    "majority_cls_acc = neg/(pos+neg)\n",
    "print('majority_cls_acc: ', majority_cls_acc)\n",
    "\n",
    "\n",
    "def remove_feature(feature_prefix):\n",
    "    features = [f'{feature_prefix}_{i}' for i in range(k)]\n",
    "    bdf.drop(features, axis=1, inplace=True)\n",
    "\n",
    "# remove_feature('len')\n",
    "# remove_feature('ipa_len')\n",
    "# remove_feature('postag')\n",
    "# remove_feature('bin_cognate')\n",
    "# remove_feature('ner')\n",
    "bdf"
   ]
  },
  {
   "cell_type": "code",
   "execution_count": 21,
   "id": "a8657f4b",
   "metadata": {},
   "outputs": [],
   "source": [
    "md = 17"
   ]
  },
  {
   "cell_type": "code",
   "execution_count": 55,
   "id": "c81d37bf",
   "metadata": {},
   "outputs": [
    {
     "name": "stdout",
     "output_type": "stream",
     "text": [
      "[0.74399038 0.76201923 0.72235577 0.76442308 0.73677885 0.74759615\n",
      " 0.75841346 0.73076923 0.76534296 0.7244284 ]\n",
      "0.7456117513653615\n"
     ]
    }
   ],
   "source": [
    "from sklearn.model_selection import cross_val_score\n",
    "from sklearn.tree import DecisionTreeClassifier\n",
    "from sklearn.ensemble import RandomForestClassifier\n",
    "from sklearn.linear_model import LogisticRegressionCV, LogisticRegression\n",
    "import numpy as np\n",
    "from sklearn.preprocessing import StandardScaler\n",
    "\n",
    "\n",
    "# scaler = StandardScaler()\n",
    "# bdf_tr = scaler.fit_transform(bdf)\n",
    "# clf = LogisticRegression(random_state=0, max_iter=10000)\n",
    "\n",
    "clf = RandomForestClassifier(criterion='entropy', max_depth=None)\n",
    "cv_scores = cross_val_score(clf, bdf, labels, cv=10)\n",
    "print(cv_scores)\n",
    "print(np.mean(cv_scores))"
   ]
  },
  {
   "cell_type": "code",
   "execution_count": 26,
   "id": "1e2b16a1",
   "metadata": {},
   "outputs": [
    {
     "name": "stderr",
     "output_type": "stream",
     "text": [
      "100%|████████████████████████████████████████████████████████████████████████████████████████████████████████████████████████████████████████████████████████████████████████████████████████████████████████████████| 9/9 [02:46<00:00, 18.51s/it]\n"
     ]
    },
    {
     "data": {
      "text/plain": [
       "<matplotlib.collections.PathCollection at 0x1d59bef4a60>"
      ]
     },
     "execution_count": 26,
     "metadata": {},
     "output_type": "execute_result"
    },
    {
     "data": {
      "image/png": "[encoded data removed]",
      "text/plain": [
       "<Figure size 432x288 with 1 Axes>"
      ]
     },
     "metadata": {
      "needs_background": "light"
     },
     "output_type": "display_data"
    }
   ],
   "source": [
    "# small max at 17\n",
    "\n",
    "range_ = [3,5,7,9,11,13,15,17,19]\n",
    "# range_ = [3,7,11,15,19]\n",
    "scores = []\n",
    "for md in tqdm(range_):\n",
    "    clf = RandomForestClassifier(criterion='entropy', max_depth=md)\n",
    "    cv_scores = cross_val_score(clf, bdf, labels, cv=10)\n",
    "    scores.append(np.mean(cv_scores))\n",
    "plt.scatter(range_, scores)"
   ]
  },
  {
   "cell_type": "code",
   "execution_count": 47,
   "id": "22d2398b",
   "metadata": {
    "scrolled": true
   },
   "outputs": [
    {
     "name": "stdout",
     "output_type": "stream",
     "text": [
      "              precision    recall  f1-score   support\n",
      "\n",
      "           0       0.88      0.99      0.93      4780\n",
      "           1       0.75      0.20      0.31       832\n",
      "\n",
      "    accuracy                           0.87      5612\n",
      "   macro avg       0.81      0.59      0.62      5612\n",
      "weighted avg       0.86      0.87      0.84      5612\n",
      "\n"
     ]
    },
    {
     "data": {
      "text/plain": [
       "<Figure size 432x288 with 0 Axes>"
      ]
     },
     "execution_count": 47,
     "metadata": {},
     "output_type": "execute_result"
    },
    {
     "data": {
      "image/png": "[encoded data removed]",
      "text/plain": [
       "<Figure size 432x288 with 2 Axes>"
      ]
     },
     "metadata": {
      "needs_background": "light"
     },
     "output_type": "display_data"
    },
    {
     "data": {
      "text/plain": [
       "<Figure size 432x288 with 0 Axes>"
      ]
     },
     "metadata": {},
     "output_type": "display_data"
    }
   ],
   "source": [
    "X_train, X_test, y_train, y_test = train_test_split(bdf, labels, random_state=0, test_size=0.2, stratify=labels)\n",
    "\n",
    "xtrain = X_train\n",
    "xtest = X_test\n",
    "\n",
    "clf = RandomForestClassifier(criterion='entropy', max_depth=None)\n",
    "clf.fit(xtrain, y_train)\n",
    "feature_imp_ = pd.Series(clf.feature_importances_,index=bdf.columns.tolist()).sort_values(ascending=False)\n",
    "\n",
    "y_pred = clf.predict(xtest)\n",
    "print(classification_report(y_test, y_pred, labels=clf.classes_))\n",
    "\n",
    "\n",
    "cm = confusion_matrix(y_test, y_pred, labels=clf.classes_, normalize='true')\n",
    "disp = ConfusionMatrixDisplay(confusion_matrix=cm, display_labels=clf.classes_)\n",
    "disp.plot()\n",
    "plt.figure()\n",
    "# print('max_depth:', md)\n"
   ]
  },
  {
   "cell_type": "code",
   "execution_count": 48,
   "id": "583d981a",
   "metadata": {},
   "outputs": [
    {
     "name": "stdout",
     "output_type": "stream",
     "text": [
      "       Feat_names    F_Scores\n",
      "16       postag_1  694.525437\n",
      "15       postag_0  591.974603\n",
      "8       ipa_len_3  468.024701\n",
      "3           len_3  401.279344\n",
      "0           len_0  266.750087\n",
      "19       postag_4  252.556911\n",
      "5       ipa_len_0  238.364729\n",
      "4           len_4  224.422034\n",
      "9       ipa_len_4  213.286042\n",
      "17       postag_2  211.981396\n",
      "1           len_1  153.488835\n",
      "6       ipa_len_1  135.841769\n",
      "2           len_2   90.047113\n",
      "18       postag_3   67.788057\n",
      "7       ipa_len_2   64.814413\n",
      "13  cognatehood_3   50.826904\n",
      "14  cognatehood_4   25.005413\n",
      "10  cognatehood_0   24.576462\n",
      "11  cognatehood_1   14.271559\n",
      "12  cognatehood_2    3.757424\n"
     ]
    }
   ],
   "source": [
    "import pandas as pd\n",
    "from sklearn.feature_selection import SelectKBest, f_classif, chi2\n",
    "#Suppose, we select 5 features with top 5 Fisher scores\n",
    "selector = SelectKBest(chi2, k = 20)\n",
    "#New dataframe with the selected features for later use in the classifier. fit() method works too, if you want only the feature names and their corresponding scores\n",
    "X_new = selector.fit_transform(bdf, labels)\n",
    "names = bdf.columns.values[selector.get_support()]\n",
    "scores = selector.scores_[selector.get_support()]\n",
    "names_scores = list(zip(names, scores))\n",
    "ns_df = pd.DataFrame(data = names_scores, columns=['Feat_names', 'F_Scores'])\n",
    "#Sort the dataframe for better visualization\n",
    "ns_df_sorted = ns_df.sort_values(['F_Scores', 'Feat_names'], ascending = [False, True])\n",
    "print(ns_df_sorted)"
   ]
  },
  {
   "cell_type": "markdown",
   "id": "28f53464",
   "metadata": {},
   "source": [
    "# Data"
   ]
  },
  {
   "cell_type": "code",
   "execution_count": 49,
   "id": "c48fee21",
   "metadata": {},
   "outputs": [],
   "source": [
    "def plot_importance(feature_imp_):\n",
    "    feature_imp_ = feature_imp_[0:20]\n",
    "    sns.barplot(x=feature_imp_, y=feature_imp_.index)\n",
    "    plt.xlabel('Feature Importance Score')\n",
    "    plt.ylabel('Features')\n",
    "    plt.title(\"Feature Importance Score\")\n",
    "    plt.show()\n",
    "    \n",
    "def pos_tag_map_for_plot(df_, feature):\n",
    "    tags = list(df_[feature])\n",
    "    tags_names = [pos_tags_map_value[tag] for tag in tags]\n",
    "    df_[feature] = tags_names\n",
    "    \n",
    "def ner_map_for_plot(df_, feature):\n",
    "    tags = list(df_[feature])\n",
    "    tags_names = [ner_map_value[tag] for tag in tags]\n",
    "    df_[feature] = tags_names\n",
    "    \n",
    "\n",
    "def hist_feature(feature):\n",
    "    df_ = bdf_copy.copy()\n",
    "    df_[\"label\"] = df_[\"label\"].astype(str)\n",
    "    \n",
    "    if feature.startswith('postag'):\n",
    "        pos_tag_map_for_plot(df_, feature)\n",
    "        \n",
    "    if feature.startswith('ner'):\n",
    "        ner_map_for_plot(df_, feature)\n",
    "\n",
    "    pos_df = (df_[df_['label'] == '1'])\n",
    "    neg_df = (df_[df_['label'] == '0'])\n",
    "    \n",
    "    pos_values = pos_df[feature].value_counts()\n",
    "    neg_values = neg_df[feature].value_counts()\n",
    "\n",
    "    fig = go.Figure(data=[\n",
    "        go.Bar(name='1', x=list(pos_values.keys()), y=pos_values.tolist()),\n",
    "        go.Bar(name='0', x=list(neg_values.keys()), y=neg_values.tolist()),\n",
    "    ])\n",
    "\n",
    "    fig.update_layout(\n",
    "        title=f\"{feature} ordered histogram\",\n",
    "        xaxis_title=feature,\n",
    "        yaxis_title=\"count\",\n",
    "        legend_title=\"CS label\",\n",
    "    )\n",
    "    fig.update_xaxes(categoryorder='total ascending')\n",
    "    fig.show()\n",
    "\n",
    "    \n",
    "def cont_hist_feature(feature):\n",
    "    df_ = bdf_copy.copy()\n",
    "    df_[\"label\"] = df_[\"label\"].astype(str)\n",
    "\n",
    "\n",
    "    pos_df = (df_[df_['label'] == '1'])\n",
    "    neg_df = (df_[df_['label'] == '0'])\n",
    "\n",
    "    pos_values = pos_df[feature].value_counts()\n",
    "    neg_values = neg_df[feature].value_counts()\n",
    "\n",
    "    fig = go.Figure(data=[\n",
    "        go.Scatter(name='1', x=list(pos_values.keys()), y=pos_values.tolist(), mode=\"markers\", opacity=1),\n",
    "        go.Scatter(name='0', x=list(neg_values.keys()), y=neg_values.tolist(), mode=\"markers\", opacity=0.5),\n",
    "    ])\n",
    "    \n",
    "    pos_wei_avg = sum(pos_values.keys() * pos_values.tolist()) / sum(pos_values.tolist())\n",
    "    neg_wei_avg = sum(neg_values.keys() * neg_values.tolist()) / sum(neg_values.tolist())\n",
    "    \n",
    "    print(f\"CS 1 - weighted average: {pos_wei_avg}\")\n",
    "    print(f\"CS 0 - weighted average: {neg_wei_avg}\")\n",
    "\n",
    "\n",
    "    fig.update_layout(\n",
    "        title=f\"{feature}\",\n",
    "        xaxis_title=f\"{feature} score\",\n",
    "        yaxis_title=\"count\",\n",
    "        legend_title=\"CS label\",\n",
    "    )\n",
    "    fig.show()\n",
    "\n",
    "    \n",
    "def plot_2_features_heatmap(x,y,feature0, feature1, title, z):\n",
    "    fig = px.imshow(z, labels=dict(x=feature0, y=feature1, color=\"count\"),x=x,y=y)\n",
    "    fig.update_layout(title=title)\n",
    "    fig.show()\n",
    "    \n",
    "    \n",
    "def plot_pos_tag_heatmap(feature0, feature1):\n",
    "    df_ = bdf_copy.copy()\n",
    "    df_[\"label\"] = df_[\"label\"].astype(str)\n",
    "\n",
    "    table_size = len(pos_tags_map_value)\n",
    "\n",
    "    pos_counts = np.zeros([table_size,table_size])\n",
    "    neg_counts = np.zeros([table_size,table_size])\n",
    "\n",
    "    for _, row in df_.iterrows():\n",
    "        if row['label'] == '1':\n",
    "            pos_counts[row[feature1]][row[feature0]] += 1\n",
    "        else:\n",
    "            neg_counts[row[feature1]][row[feature0]] += 1\n",
    "\n",
    "\n",
    "    x = list(pos_tags_map_value.values())\n",
    "    y = list(pos_tags_map_value.values())  \n",
    "\n",
    "    plot_2_features_heatmap(x,y,feature0,feature1,\n",
    "                            title=f\"Counts of samples with label 0: {feature0} vs {feature1}\",\n",
    "                            z=neg_counts)\n",
    "\n",
    "    plot_2_features_heatmap(x,y,feature0,feature1,\n",
    "                            title=f\"Counts of samples with label 1: {feature0} vs {feature1}\",\n",
    "                            z=pos_counts)\n",
    "\n",
    "    plot_2_features_heatmap(x,y,feature0,feature1,\n",
    "                            title=f\"label 1 > label 0: {feature0} vs {feature1}\",\n",
    "                            z=(pos_counts>neg_counts).astype(int))\n",
    "    \n",
    "    return pos_counts, neg_counts\n",
    "\n",
    "def plot_ner_heatmap(feature0, feature1):\n",
    "    df_ = bdf_copy.copy()\n",
    "    df_[\"label\"] = df_[\"label\"].astype(str)\n",
    "\n",
    "    table_size = len(ner_map_value)\n",
    "\n",
    "    pos_counts = np.zeros([table_size,table_size])\n",
    "    neg_counts = np.zeros([table_size,table_size])\n",
    "\n",
    "    for _, row in df_.iterrows():\n",
    "        if row['label'] == '1':\n",
    "            pos_counts[row[feature1]][row[feature0]] += 1\n",
    "        else:\n",
    "            neg_counts[row[feature1]][row[feature0]] += 1\n",
    "\n",
    "\n",
    "    x = list(ner_map_value.values())\n",
    "    y = list(ner_map_value.values())  \n",
    "\n",
    "    plot_2_features_heatmap(x,y,feature0,feature1,\n",
    "                            title=f\"Counts of samples with label 0: {feature0} vs {feature1}\",\n",
    "                            z=neg_counts)\n",
    "\n",
    "    plot_2_features_heatmap(x,y,feature0,feature1,\n",
    "                            title=f\"Counts of samples with label 1: {feature0} vs {feature1}\",\n",
    "                            z=pos_counts)\n",
    "\n",
    "    plot_2_features_heatmap(x,y,feature0,feature1,\n",
    "                            title=f\"label 1 > label 0: {feature0} vs {feature1}\",\n",
    "                            z=(pos_counts>neg_counts).astype(int))\n",
    "    \n",
    "    return pos_counts, neg_counts\n",
    "\n",
    "\n",
    "def get_top_n_indices(vec, N):\n",
    "    # Convert it into a 1D array\n",
    "    vec_1d = vec.flatten()\n",
    "    idx_1d = vec_1d.argsort()[-N:]\n",
    "    x_idx, y_idx = np.unravel_index(idx_1d, vec.shape)\n",
    "    return x_idx, y_idx\n",
    "\n",
    "    \n",
    "def plot_sorted_2_featues(vec, group, N, map_, feature_title):\n",
    "    a_idx, b_idx = get_top_n_indices(vec, N)\n",
    "    feature_names = []\n",
    "    values = []\n",
    "    for a, b, in zip(a_idx, b_idx):\n",
    "        feature_name = f'{map_[b]}_{map_[a]}'\n",
    "        feature_names.append(feature_name)\n",
    "        values.append(vec[a][b])\n",
    "\n",
    "    fig = go.Figure(data=[\n",
    "        go.Bar(name='1', x=feature_names, y=values),\n",
    "    ])\n",
    "\n",
    "    fig.update_layout(\n",
    "        title=f\"{group}: 2 features - ordered histogram\",\n",
    "        xaxis_title=feature_title,\n",
    "        yaxis_title=\"count\",\n",
    "    )\n",
    "\n",
    "    fig.show()"
   ]
  },
  {
   "cell_type": "code",
   "execution_count": 50,
   "id": "bada24e9",
   "metadata": {
    "scrolled": false
   },
   "outputs": [
    {
     "data": {
      "image/png": "[encoded data removed]",
      "text/plain": [
       "<Figure size 432x288 with 1 Axes>"
      ]
     },
     "metadata": {
      "needs_background": "light"
     },
     "output_type": "display_data"
    },
    {
     "data": {
      "application/vnd.plotly.v1+json": {
       "config": {
        "plotlyServerURL": "https://plot.ly"
       },
       "data": [
        {
         "name": "1",
         "type": "bar",
         "x": [
          "NOUN",
          "VERB",
          "DET",
          "INTJ",
          "ADV",
          "SCONJ",
          "CONJ",
          "PRON",
          "ADP",
          "ADJ",
          "PROPN",
          "NUM",
          "PART",
          "AUX"
         ],
         "y": [
          814,
          754,
          609,
          385,
          330,
          256,
          223,
          207,
          197,
          176,
          134,
          42,
          19,
          13
         ]
        },
        {
         "name": "0",
         "type": "bar",
         "x": [
          "VERB",
          "PRON",
          "DET",
          "ADP",
          "NOUN",
          "ADV",
          "SCONJ",
          "CONJ",
          "AUX",
          "ADJ",
          "INTJ",
          "PART",
          "PROPN",
          "NUM",
          "X"
         ],
         "y": [
          4680,
          4532,
          2535,
          2322,
          1986,
          1730,
          1325,
          1237,
          936,
          673,
          643,
          477,
          445,
          378,
          1
         ]
        }
       ],
       "layout": {
        "legend": {
         "title": {
          "text": "CS label"
         }
        },
        "template": {
         "data": {
          "bar": [
           {
            "error_x": {
             "color": "#2a3f5f"
            },
            "error_y": {
             "color": "#2a3f5f"
            },
            "marker": {
             "line": {
              "color": "#E5ECF6",
              "width": 0.5
             },
             "pattern": {
              "fillmode": "overlay",
              "size": 10,
              "solidity": 0.2
             }
            },
            "type": "bar"
           }
          ],
          "barpolar": [
           {
            "marker": {
             "line": {
              "color": "#E5ECF6",
              "width": 0.5
             },
             "pattern": {
              "fillmode": "overlay",
              "size": 10,
              "solidity": 0.2
             }
            },
            "type": "barpolar"
           }
          ],
          "carpet": [
           {
            "aaxis": {
             "endlinecolor": "#2a3f5f",
             "gridcolor": "white",
             "linecolor": "white",
             "minorgridcolor": "white",
             "startlinecolor": "#2a3f5f"
            },
            "baxis": {
             "endlinecolor": "#2a3f5f",
             "gridcolor": "white",
             "linecolor": "white",
             "minorgridcolor": "white",
             "startlinecolor": "#2a3f5f"
            },
            "type": "carpet"
           }
          ],
          "choropleth": [
           {
            "colorbar": {
             "outlinewidth": 0,
             "ticks": ""
            },
            "type": "choropleth"
           }
          ],
          "contour": [
           {
            "colorbar": {
             "outlinewidth": 0,
             "ticks": ""
            },
            "colorscale": [
             [
              0,
              "#0d0887"
             ],
             [
              0.1111111111111111,
              "#46039f"
             ],
             [
              0.2222222222222222,
              "#7201a8"
             ],
             [
              0.3333333333333333,
              "#9c179e"
             ],
             [
              0.4444444444444444,
              "#bd3786"
             ],
             [
              0.5555555555555556,
              "#d8576b"
             ],
             [
              0.6666666666666666,
              "#ed7953"
             ],
             [
              0.7777777777777778,
              "#fb9f3a"
             ],
             [
              0.8888888888888888,
              "#fdca26"
             ],
             [
              1,
              "#f0f921"
             ]
            ],
            "type": "contour"
           }
          ],
          "contourcarpet": [
           {
            "colorbar": {
             "outlinewidth": 0,
             "ticks": ""
            },
            "type": "contourcarpet"
           }
          ],
          "heatmap": [
           {
            "colorbar": {
             "outlinewidth": 0,
             "ticks": ""
            },
            "colorscale": [
             [
              0,
              "#0d0887"
             ],
             [
              0.1111111111111111,
              "#46039f"
             ],
             [
              0.2222222222222222,
              "#7201a8"
             ],
             [
              0.3333333333333333,
              "#9c179e"
             ],
             [
              0.4444444444444444,
              "#bd3786"
             ],
             [
              0.5555555555555556,
              "#d8576b"
             ],
             [
              0.6666666666666666,
              "#ed7953"
             ],
             [
              0.7777777777777778,
              "#fb9f3a"
             ],
             [
              0.8888888888888888,
              "#fdca26"
             ],
             [
              1,
              "#f0f921"
             ]
            ],
            "type": "heatmap"
           }
          ],
          "heatmapgl": [
           {
            "colorbar": {
             "outlinewidth": 0,
             "ticks": ""
            },
            "colorscale": [
             [
              0,
              "#0d0887"
             ],
             [
              0.1111111111111111,
              "#46039f"
             ],
             [
              0.2222222222222222,
              "#7201a8"
             ],
             [
              0.3333333333333333,
              "#9c179e"
             ],
             [
              0.4444444444444444,
              "#bd3786"
             ],
             [
              0.5555555555555556,
              "#d8576b"
             ],
             [
              0.6666666666666666,
              "#ed7953"
             ],
             [
              0.7777777777777778,
              "#fb9f3a"
             ],
             [
              0.8888888888888888,
              "#fdca26"
             ],
             [
              1,
              "#f0f921"
             ]
            ],
            "type": "heatmapgl"
           }
          ],
          "histogram": [
           {
            "marker": {
             "pattern": {
              "fillmode": "overlay",
              "size": 10,
              "solidity": 0.2
             }
            },
            "type": "histogram"
           }
          ],
          "histogram2d": [
           {
            "colorbar": {
             "outlinewidth": 0,
             "ticks": ""
            },
            "colorscale": [
             [
              0,
              "#0d0887"
             ],
             [
              0.1111111111111111,
              "#46039f"
             ],
             [
              0.2222222222222222,
              "#7201a8"
             ],
             [
              0.3333333333333333,
              "#9c179e"
             ],
             [
              0.4444444444444444,
              "#bd3786"
             ],
             [
              0.5555555555555556,
              "#d8576b"
             ],
             [
              0.6666666666666666,
              "#ed7953"
             ],
             [
              0.7777777777777778,
              "#fb9f3a"
             ],
             [
              0.8888888888888888,
              "#fdca26"
             ],
             [
              1,
              "#f0f921"
             ]
            ],
            "type": "histogram2d"
           }
          ],
          "histogram2dcontour": [
           {
            "colorbar": {
             "outlinewidth": 0,
             "ticks": ""
            },
            "colorscale": [
             [
              0,
              "#0d0887"
             ],
             [
              0.1111111111111111,
              "#46039f"
             ],
             [
              0.2222222222222222,
              "#7201a8"
             ],
             [
              0.3333333333333333,
              "#9c179e"
             ],
             [
              0.4444444444444444,
              "#bd3786"
             ],
             [
              0.5555555555555556,
              "#d8576b"
             ],
             [
              0.6666666666666666,
              "#ed7953"
             ],
             [
              0.7777777777777778,
              "#fb9f3a"
             ],
             [
              0.8888888888888888,
              "#fdca26"
             ],
             [
              1,
              "#f0f921"
             ]
            ],
            "type": "histogram2dcontour"
           }
          ],
          "mesh3d": [
           {
            "colorbar": {
             "outlinewidth": 0,
             "ticks": ""
            },
            "type": "mesh3d"
           }
          ],
          "parcoords": [
           {
            "line": {
             "colorbar": {
              "outlinewidth": 0,
              "ticks": ""
             }
            },
            "type": "parcoords"
           }
          ],
          "pie": [
           {
            "automargin": true,
            "type": "pie"
           }
          ],
          "scatter": [
           {
            "fillpattern": {
             "fillmode": "overlay",
             "size": 10,
             "solidity": 0.2
            },
            "type": "scatter"
           }
          ],
          "scatter3d": [
           {
            "line": {
             "colorbar": {
              "outlinewidth": 0,
              "ticks": ""
             }
            },
            "marker": {
             "colorbar": {
              "outlinewidth": 0,
              "ticks": ""
             }
            },
            "type": "scatter3d"
           }
          ],
          "scattercarpet": [
           {
            "marker": {
             "colorbar": {
              "outlinewidth": 0,
              "ticks": ""
             }
            },
            "type": "scattercarpet"
           }
          ],
          "scattergeo": [
           {
            "marker": {
             "colorbar": {
              "outlinewidth": 0,
              "ticks": ""
             }
            },
            "type": "scattergeo"
           }
          ],
          "scattergl": [
           {
            "marker": {
             "colorbar": {
              "outlinewidth": 0,
              "ticks": ""
             }
            },
            "type": "scattergl"
           }
          ],
          "scattermapbox": [
           {
            "marker": {
             "colorbar": {
              "outlinewidth": 0,
              "ticks": ""
             }
            },
            "type": "scattermapbox"
           }
          ],
          "scatterpolar": [
           {
            "marker": {
             "colorbar": {
              "outlinewidth": 0,
              "ticks": ""
             }
            },
            "type": "scatterpolar"
           }
          ],
          "scatterpolargl": [
           {
            "marker": {
             "colorbar": {
              "outlinewidth": 0,
              "ticks": ""
             }
            },
            "type": "scatterpolargl"
           }
          ],
          "scatterternary": [
           {
            "marker": {
             "colorbar": {
              "outlinewidth": 0,
              "ticks": ""
             }
            },
            "type": "scatterternary"
           }
          ],
          "surface": [
           {
            "colorbar": {
             "outlinewidth": 0,
             "ticks": ""
            },
            "colorscale": [
             [
              0,
              "#0d0887"
             ],
             [
              0.1111111111111111,
              "#46039f"
             ],
             [
              0.2222222222222222,
              "#7201a8"
             ],
             [
              0.3333333333333333,
              "#9c179e"
             ],
             [
              0.4444444444444444,
              "#bd3786"
             ],
             [
              0.5555555555555556,
              "#d8576b"
             ],
             [
              0.6666666666666666,
              "#ed7953"
             ],
             [
              0.7777777777777778,
              "#fb9f3a"
             ],
             [
              0.8888888888888888,
              "#fdca26"
             ],
             [
              1,
              "#f0f921"
             ]
            ],
            "type": "surface"
           }
          ],
          "table": [
           {
            "cells": {
             "fill": {
              "color": "#EBF0F8"
             },
             "line": {
              "color": "white"
             }
            },
            "header": {
             "fill": {
              "color": "#C8D4E3"
             },
             "line": {
              "color": "white"
             }
            },
            "type": "table"
           }
          ]
         },
         "layout": {
          "annotationdefaults": {
           "arrowcolor": "#2a3f5f",
           "arrowhead": 0,
           "arrowwidth": 1
          },
          "autotypenumbers": "strict",
          "coloraxis": {
           "colorbar": {
            "outlinewidth": 0,
            "ticks": ""
           }
          },
          "colorscale": {
           "diverging": [
            [
             0,
             "#8e0152"
            ],
            [
             0.1,
             "#c51b7d"
            ],
            [
             0.2,
             "#de77ae"
            ],
            [
             0.3,
             "#f1b6da"
            ],
            [
             0.4,
             "#fde0ef"
            ],
            [
             0.5,
             "#f7f7f7"
            ],
            [
             0.6,
             "#e6f5d0"
            ],
            [
             0.7,
             "#b8e186"
            ],
            [
             0.8,
             "#7fbc41"
            ],
            [
             0.9,
             "#4d9221"
            ],
            [
             1,
             "#276419"
            ]
           ],
           "sequential": [
            [
             0,
             "#0d0887"
            ],
            [
             0.1111111111111111,
             "#46039f"
            ],
            [
             0.2222222222222222,
             "#7201a8"
            ],
            [
             0.3333333333333333,
             "#9c179e"
            ],
            [
             0.4444444444444444,
             "#bd3786"
            ],
            [
             0.5555555555555556,
             "#d8576b"
            ],
            [
             0.6666666666666666,
             "#ed7953"
            ],
            [
             0.7777777777777778,
             "#fb9f3a"
            ],
            [
             0.8888888888888888,
             "#fdca26"
            ],
            [
             1,
             "#f0f921"
            ]
           ],
           "sequentialminus": [
            [
             0,
             "#0d0887"
            ],
            [
             0.1111111111111111,
             "#46039f"
            ],
            [
             0.2222222222222222,
             "#7201a8"
            ],
            [
             0.3333333333333333,
             "#9c179e"
            ],
            [
             0.4444444444444444,
             "#bd3786"
            ],
            [
             0.5555555555555556,
             "#d8576b"
            ],
            [
             0.6666666666666666,
             "#ed7953"
            ],
            [
             0.7777777777777778,
             "#fb9f3a"
            ],
            [
             0.8888888888888888,
             "#fdca26"
            ],
            [
             1,
             "#f0f921"
            ]
           ]
          },
          "colorway": [
           "#636efa",
           "#EF553B",
           "#00cc96",
           "#ab63fa",
           "#FFA15A",
           "#19d3f3",
           "#FF6692",
           "#B6E880",
           "#FF97FF",
           "#FECB52"
          ],
          "font": {
           "color": "#2a3f5f"
          },
          "geo": {
           "bgcolor": "white",
           "lakecolor": "white",
           "landcolor": "#E5ECF6",
           "showlakes": true,
           "showland": true,
           "subunitcolor": "white"
          },
          "hoverlabel": {
           "align": "left"
          },
          "hovermode": "closest",
          "mapbox": {
           "style": "light"
          },
          "paper_bgcolor": "white",
          "plot_bgcolor": "#E5ECF6",
          "polar": {
           "angularaxis": {
            "gridcolor": "white",
            "linecolor": "white",
            "ticks": ""
           },
           "bgcolor": "#E5ECF6",
           "radialaxis": {
            "gridcolor": "white",
            "linecolor": "white",
            "ticks": ""
           }
          },
          "scene": {
           "xaxis": {
            "backgroundcolor": "#E5ECF6",
            "gridcolor": "white",
            "gridwidth": 2,
            "linecolor": "white",
            "showbackground": true,
            "ticks": "",
            "zerolinecolor": "white"
           },
           "yaxis": {
            "backgroundcolor": "#E5ECF6",
            "gridcolor": "white",
            "gridwidth": 2,
            "linecolor": "white",
            "showbackground": true,
            "ticks": "",
            "zerolinecolor": "white"
           },
           "zaxis": {
            "backgroundcolor": "#E5ECF6",
            "gridcolor": "white",
            "gridwidth": 2,
            "linecolor": "white",
            "showbackground": true,
            "ticks": "",
            "zerolinecolor": "white"
           }
          },
          "shapedefaults": {
           "line": {
            "color": "#2a3f5f"
           }
          },
          "ternary": {
           "aaxis": {
            "gridcolor": "white",
            "linecolor": "white",
            "ticks": ""
           },
           "baxis": {
            "gridcolor": "white",
            "linecolor": "white",
            "ticks": ""
           },
           "bgcolor": "#E5ECF6",
           "caxis": {
            "gridcolor": "white",
            "linecolor": "white",
            "ticks": ""
           }
          },
          "title": {
           "x": 0.05
          },
          "xaxis": {
           "automargin": true,
           "gridcolor": "white",
           "linecolor": "white",
           "ticks": "",
           "title": {
            "standoff": 15
           },
           "zerolinecolor": "white",
           "zerolinewidth": 2
          },
          "yaxis": {
           "automargin": true,
           "gridcolor": "white",
           "linecolor": "white",
           "ticks": "",
           "title": {
            "standoff": 15
           },
           "zerolinecolor": "white",
           "zerolinewidth": 2
          }
         }
        },
        "title": {
         "text": "postag_3 ordered histogram"
        },
        "xaxis": {
         "categoryorder": "total ascending",
         "title": {
          "text": "postag_3"
         }
        },
        "yaxis": {
         "title": {
          "text": "count"
         }
        }
       }
      },
      "text/html": [
       "<div>                            <div id=\"bbdb01e6-6384-4dbc-84bd-f3872c22e918\" class=\"plotly-graph-div\" style=\"height:525px; width:100%;\"></div>            <script type=\"text/javascript\">                require([\"plotly\"], function(Plotly) {                    window.PLOTLYENV=window.PLOTLYENV || {};                                    if (document.getElementById(\"bbdb01e6-6384-4dbc-84bd-f3872c22e918\")) {                    Plotly.newPlot(                        \"bbdb01e6-6384-4dbc-84bd-f3872c22e918\",                        [{\"name\":\"1\",\"x\":[\"NOUN\",\"VERB\",\"DET\",\"INTJ\",\"ADV\",\"SCONJ\",\"CONJ\",\"PRON\",\"ADP\",\"ADJ\",\"PROPN\",\"NUM\",\"PART\",\"AUX\"],\"y\":[814,754,609,385,330,256,223,207,197,176,134,42,19,13],\"type\":\"bar\"},{\"name\":\"0\",\"x\":[\"VERB\",\"PRON\",\"DET\",\"ADP\",\"NOUN\",\"ADV\",\"SCONJ\",\"CONJ\",\"AUX\",\"ADJ\",\"INTJ\",\"PART\",\"PROPN\",\"NUM\",\"X\"],\"y\":[4680,4532,2535,2322,1986,1730,1325,1237,936,673,643,477,445,378,1],\"type\":\"bar\"}],                        {\"template\":{\"data\":{\"histogram2dcontour\":[{\"type\":\"histogram2dcontour\",\"colorbar\":{\"outlinewidth\":0,\"ticks\":\"\"},\"colorscale\":[[0.0,\"#0d0887\"],[0.1111111111111111,\"#46039f\"],[0.2222222222222222,\"#7201a8\"],[0.3333333333333333,\"#9c179e\"],[0.4444444444444444,\"#bd3786\"],[0.5555555555555556,\"#d8576b\"],[0.6666666666666666,\"#ed7953\"],[0.7777777777777778,\"#fb9f3a\"],[0.8888888888888888,\"#fdca26\"],[1.0,\"#f0f921\"]]}],\"choropleth\":[{\"type\":\"choropleth\",\"colorbar\":{\"outlinewidth\":0,\"ticks\":\"\"}}],\"histogram2d\":[{\"type\":\"histogram2d\",\"colorbar\":{\"outlinewidth\":0,\"ticks\":\"\"},\"colorscale\":[[0.0,\"#0d0887\"],[0.1111111111111111,\"#46039f\"],[0.2222222222222222,\"#7201a8\"],[0.3333333333333333,\"#9c179e\"],[0.4444444444444444,\"#bd3786\"],[0.5555555555555556,\"#d8576b\"],[0.6666666666666666,\"#ed7953\"],[0.7777777777777778,\"#fb9f3a\"],[0.8888888888888888,\"#fdca26\"],[1.0,\"#f0f921\"]]}],\"heatmap\":[{\"type\":\"heatmap\",\"colorbar\":{\"outlinewidth\":0,\"ticks\":\"\"},\"colorscale\":[[0.0,\"#0d0887\"],[0.1111111111111111,\"#46039f\"],[0.2222222222222222,\"#7201a8\"],[0.3333333333333333,\"#9c179e\"],[0.4444444444444444,\"#bd3786\"],[0.5555555555555556,\"#d8576b\"],[0.6666666666666666,\"#ed7953\"],[0.7777777777777778,\"#fb9f3a\"],[0.8888888888888888,\"#fdca26\"],[1.0,\"#f0f921\"]]}],\"heatmapgl\":[{\"type\":\"heatmapgl\",\"colorbar\":{\"outlinewidth\":0,\"ticks\":\"\"},\"colorscale\":[[0.0,\"#0d0887\"],[0.1111111111111111,\"#46039f\"],[0.2222222222222222,\"#7201a8\"],[0.3333333333333333,\"#9c179e\"],[0.4444444444444444,\"#bd3786\"],[0.5555555555555556,\"#d8576b\"],[0.6666666666666666,\"#ed7953\"],[0.7777777777777778,\"#fb9f3a\"],[0.8888888888888888,\"#fdca26\"],[1.0,\"#f0f921\"]]}],\"contourcarpet\":[{\"type\":\"contourcarpet\",\"colorbar\":{\"outlinewidth\":0,\"ticks\":\"\"}}],\"contour\":[{\"type\":\"contour\",\"colorbar\":{\"outlinewidth\":0,\"ticks\":\"\"},\"colorscale\":[[0.0,\"#0d0887\"],[0.1111111111111111,\"#46039f\"],[0.2222222222222222,\"#7201a8\"],[0.3333333333333333,\"#9c179e\"],[0.4444444444444444,\"#bd3786\"],[0.5555555555555556,\"#d8576b\"],[0.6666666666666666,\"#ed7953\"],[0.7777777777777778,\"#fb9f3a\"],[0.8888888888888888,\"#fdca26\"],[1.0,\"#f0f921\"]]}],\"surface\":[{\"type\":\"surface\",\"colorbar\":{\"outlinewidth\":0,\"ticks\":\"\"},\"colorscale\":[[0.0,\"#0d0887\"],[0.1111111111111111,\"#46039f\"],[0.2222222222222222,\"#7201a8\"],[0.3333333333333333,\"#9c179e\"],[0.4444444444444444,\"#bd3786\"],[0.5555555555555556,\"#d8576b\"],[0.6666666666666666,\"#ed7953\"],[0.7777777777777778,\"#fb9f3a\"],[0.8888888888888888,\"#fdca26\"],[1.0,\"#f0f921\"]]}],\"mesh3d\":[{\"type\":\"mesh3d\",\"colorbar\":{\"outlinewidth\":0,\"ticks\":\"\"}}],\"scatter\":[{\"fillpattern\":{\"fillmode\":\"overlay\",\"size\":10,\"solidity\":0.2},\"type\":\"scatter\"}],\"parcoords\":[{\"type\":\"parcoords\",\"line\":{\"colorbar\":{\"outlinewidth\":0,\"ticks\":\"\"}}}],\"scatterpolargl\":[{\"type\":\"scatterpolargl\",\"marker\":{\"colorbar\":{\"outlinewidth\":0,\"ticks\":\"\"}}}],\"bar\":[{\"error_x\":{\"color\":\"#2a3f5f\"},\"error_y\":{\"color\":\"#2a3f5f\"},\"marker\":{\"line\":{\"color\":\"#E5ECF6\",\"width\":0.5},\"pattern\":{\"fillmode\":\"overlay\",\"size\":10,\"solidity\":0.2}},\"type\":\"bar\"}],\"scattergeo\":[{\"type\":\"scattergeo\",\"marker\":{\"colorbar\":{\"outlinewidth\":0,\"ticks\":\"\"}}}],\"scatterpolar\":[{\"type\":\"scatterpolar\",\"marker\":{\"colorbar\":{\"outlinewidth\":0,\"ticks\":\"\"}}}],\"histogram\":[{\"marker\":{\"pattern\":{\"fillmode\":\"overlay\",\"size\":10,\"solidity\":0.2}},\"type\":\"histogram\"}],\"scattergl\":[{\"type\":\"scattergl\",\"marker\":{\"colorbar\":{\"outlinewidth\":0,\"ticks\":\"\"}}}],\"scatter3d\":[{\"type\":\"scatter3d\",\"line\":{\"colorbar\":{\"outlinewidth\":0,\"ticks\":\"\"}},\"marker\":{\"colorbar\":{\"outlinewidth\":0,\"ticks\":\"\"}}}],\"scattermapbox\":[{\"type\":\"scattermapbox\",\"marker\":{\"colorbar\":{\"outlinewidth\":0,\"ticks\":\"\"}}}],\"scatterternary\":[{\"type\":\"scatterternary\",\"marker\":{\"colorbar\":{\"outlinewidth\":0,\"ticks\":\"\"}}}],\"scattercarpet\":[{\"type\":\"scattercarpet\",\"marker\":{\"colorbar\":{\"outlinewidth\":0,\"ticks\":\"\"}}}],\"carpet\":[{\"aaxis\":{\"endlinecolor\":\"#2a3f5f\",\"gridcolor\":\"white\",\"linecolor\":\"white\",\"minorgridcolor\":\"white\",\"startlinecolor\":\"#2a3f5f\"},\"baxis\":{\"endlinecolor\":\"#2a3f5f\",\"gridcolor\":\"white\",\"linecolor\":\"white\",\"minorgridcolor\":\"white\",\"startlinecolor\":\"#2a3f5f\"},\"type\":\"carpet\"}],\"table\":[{\"cells\":{\"fill\":{\"color\":\"#EBF0F8\"},\"line\":{\"color\":\"white\"}},\"header\":{\"fill\":{\"color\":\"#C8D4E3\"},\"line\":{\"color\":\"white\"}},\"type\":\"table\"}],\"barpolar\":[{\"marker\":{\"line\":{\"color\":\"#E5ECF6\",\"width\":0.5},\"pattern\":{\"fillmode\":\"overlay\",\"size\":10,\"solidity\":0.2}},\"type\":\"barpolar\"}],\"pie\":[{\"automargin\":true,\"type\":\"pie\"}]},\"layout\":{\"autotypenumbers\":\"strict\",\"colorway\":[\"#636efa\",\"#EF553B\",\"#00cc96\",\"#ab63fa\",\"#FFA15A\",\"#19d3f3\",\"#FF6692\",\"#B6E880\",\"#FF97FF\",\"#FECB52\"],\"font\":{\"color\":\"#2a3f5f\"},\"hovermode\":\"closest\",\"hoverlabel\":{\"align\":\"left\"},\"paper_bgcolor\":\"white\",\"plot_bgcolor\":\"#E5ECF6\",\"polar\":{\"bgcolor\":\"#E5ECF6\",\"angularaxis\":{\"gridcolor\":\"white\",\"linecolor\":\"white\",\"ticks\":\"\"},\"radialaxis\":{\"gridcolor\":\"white\",\"linecolor\":\"white\",\"ticks\":\"\"}},\"ternary\":{\"bgcolor\":\"#E5ECF6\",\"aaxis\":{\"gridcolor\":\"white\",\"linecolor\":\"white\",\"ticks\":\"\"},\"baxis\":{\"gridcolor\":\"white\",\"linecolor\":\"white\",\"ticks\":\"\"},\"caxis\":{\"gridcolor\":\"white\",\"linecolor\":\"white\",\"ticks\":\"\"}},\"coloraxis\":{\"colorbar\":{\"outlinewidth\":0,\"ticks\":\"\"}},\"colorscale\":{\"sequential\":[[0.0,\"#0d0887\"],[0.1111111111111111,\"#46039f\"],[0.2222222222222222,\"#7201a8\"],[0.3333333333333333,\"#9c179e\"],[0.4444444444444444,\"#bd3786\"],[0.5555555555555556,\"#d8576b\"],[0.6666666666666666,\"#ed7953\"],[0.7777777777777778,\"#fb9f3a\"],[0.8888888888888888,\"#fdca26\"],[1.0,\"#f0f921\"]],\"sequentialminus\":[[0.0,\"#0d0887\"],[0.1111111111111111,\"#46039f\"],[0.2222222222222222,\"#7201a8\"],[0.3333333333333333,\"#9c179e\"],[0.4444444444444444,\"#bd3786\"],[0.5555555555555556,\"#d8576b\"],[0.6666666666666666,\"#ed7953\"],[0.7777777777777778,\"#fb9f3a\"],[0.8888888888888888,\"#fdca26\"],[1.0,\"#f0f921\"]],\"diverging\":[[0,\"#8e0152\"],[0.1,\"#c51b7d\"],[0.2,\"#de77ae\"],[0.3,\"#f1b6da\"],[0.4,\"#fde0ef\"],[0.5,\"#f7f7f7\"],[0.6,\"#e6f5d0\"],[0.7,\"#b8e186\"],[0.8,\"#7fbc41\"],[0.9,\"#4d9221\"],[1,\"#276419\"]]},\"xaxis\":{\"gridcolor\":\"white\",\"linecolor\":\"white\",\"ticks\":\"\",\"title\":{\"standoff\":15},\"zerolinecolor\":\"white\",\"automargin\":true,\"zerolinewidth\":2},\"yaxis\":{\"gridcolor\":\"white\",\"linecolor\":\"white\",\"ticks\":\"\",\"title\":{\"standoff\":15},\"zerolinecolor\":\"white\",\"automargin\":true,\"zerolinewidth\":2},\"scene\":{\"xaxis\":{\"backgroundcolor\":\"#E5ECF6\",\"gridcolor\":\"white\",\"linecolor\":\"white\",\"showbackground\":true,\"ticks\":\"\",\"zerolinecolor\":\"white\",\"gridwidth\":2},\"yaxis\":{\"backgroundcolor\":\"#E5ECF6\",\"gridcolor\":\"white\",\"linecolor\":\"white\",\"showbackground\":true,\"ticks\":\"\",\"zerolinecolor\":\"white\",\"gridwidth\":2},\"zaxis\":{\"backgroundcolor\":\"#E5ECF6\",\"gridcolor\":\"white\",\"linecolor\":\"white\",\"showbackground\":true,\"ticks\":\"\",\"zerolinecolor\":\"white\",\"gridwidth\":2}},\"shapedefaults\":{\"line\":{\"color\":\"#2a3f5f\"}},\"annotationdefaults\":{\"arrowcolor\":\"#2a3f5f\",\"arrowhead\":0,\"arrowwidth\":1},\"geo\":{\"bgcolor\":\"white\",\"landcolor\":\"#E5ECF6\",\"subunitcolor\":\"white\",\"showland\":true,\"showlakes\":true,\"lakecolor\":\"white\"},\"title\":{\"x\":0.05},\"mapbox\":{\"style\":\"light\"}}},\"title\":{\"text\":\"postag_3 ordered histogram\"},\"xaxis\":{\"title\":{\"text\":\"postag_3\"},\"categoryorder\":\"total ascending\"},\"yaxis\":{\"title\":{\"text\":\"count\"}},\"legend\":{\"title\":{\"text\":\"CS label\"}}},                        {\"responsive\": true}                    ).then(function(){\n",
       "                            \n",
       "var gd = document.getElementById('bbdb01e6-6384-4dbc-84bd-f3872c22e918');\n",
       "var x = new MutationObserver(function (mutations, observer) {{\n",
       "        var display = window.getComputedStyle(gd).display;\n",
       "        if (!display || display === 'none') {{\n",
       "            console.log([gd, 'removed!']);\n",
       "            Plotly.purge(gd);\n",
       "            observer.disconnect();\n",
       "        }}\n",
       "}});\n",
       "\n",
       "// Listen for the removal of the full notebook cells\n",
       "var notebookContainer = gd.closest('#notebook-container');\n",
       "if (notebookContainer) {{\n",
       "    x.observe(notebookContainer, {childList: true});\n",
       "}}\n",
       "\n",
       "// Listen for the clearing of the current output cell\n",
       "var outputEl = gd.closest('.output');\n",
       "if (outputEl) {{\n",
       "    x.observe(outputEl, {childList: true});\n",
       "}}\n",
       "\n",
       "                        })                };                });            </script>        </div>"
      ]
     },
     "metadata": {},
     "output_type": "display_data"
    },
    {
     "data": {
      "application/vnd.plotly.v1+json": {
       "config": {
        "plotlyServerURL": "https://plot.ly"
       },
       "data": [
        {
         "name": "1",
         "type": "bar",
         "x": [
          "NOUN",
          "PRON",
          "VERB",
          "ADP",
          "ADV",
          "DET",
          "ADJ",
          "SCONJ",
          "CONJ",
          "INTJ",
          "NUM",
          "PROPN",
          "AUX",
          "PART"
         ],
         "y": [
          965,
          846,
          370,
          327,
          307,
          284,
          267,
          263,
          204,
          142,
          62,
          59,
          50,
          13
         ]
        },
        {
         "name": "0",
         "type": "bar",
         "x": [
          "VERB",
          "PRON",
          "NOUN",
          "DET",
          "ADP",
          "ADV",
          "SCONJ",
          "AUX",
          "ADJ",
          "PROPN",
          "CONJ",
          "INTJ",
          "PART",
          "NUM",
          "X"
         ],
         "y": [
          5188,
          3688,
          2982,
          2688,
          2122,
          1777,
          1104,
          872,
          849,
          619,
          599,
          543,
          490,
          378,
          1
         ]
        }
       ],
       "layout": {
        "legend": {
         "title": {
          "text": "CS label"
         }
        },
        "template": {
         "data": {
          "bar": [
           {
            "error_x": {
             "color": "#2a3f5f"
            },
            "error_y": {
             "color": "#2a3f5f"
            },
            "marker": {
             "line": {
              "color": "#E5ECF6",
              "width": 0.5
             },
             "pattern": {
              "fillmode": "overlay",
              "size": 10,
              "solidity": 0.2
             }
            },
            "type": "bar"
           }
          ],
          "barpolar": [
           {
            "marker": {
             "line": {
              "color": "#E5ECF6",
              "width": 0.5
             },
             "pattern": {
              "fillmode": "overlay",
              "size": 10,
              "solidity": 0.2
             }
            },
            "type": "barpolar"
           }
          ],
          "carpet": [
           {
            "aaxis": {
             "endlinecolor": "#2a3f5f",
             "gridcolor": "white",
             "linecolor": "white",
             "minorgridcolor": "white",
             "startlinecolor": "#2a3f5f"
            },
            "baxis": {
             "endlinecolor": "#2a3f5f",
             "gridcolor": "white",
             "linecolor": "white",
             "minorgridcolor": "white",
             "startlinecolor": "#2a3f5f"
            },
            "type": "carpet"
           }
          ],
          "choropleth": [
           {
            "colorbar": {
             "outlinewidth": 0,
             "ticks": ""
            },
            "type": "choropleth"
           }
          ],
          "contour": [
           {
            "colorbar": {
             "outlinewidth": 0,
             "ticks": ""
            },
            "colorscale": [
             [
              0,
              "#0d0887"
             ],
             [
              0.1111111111111111,
              "#46039f"
             ],
             [
              0.2222222222222222,
              "#7201a8"
             ],
             [
              0.3333333333333333,
              "#9c179e"
             ],
             [
              0.4444444444444444,
              "#bd3786"
             ],
             [
              0.5555555555555556,
              "#d8576b"
             ],
             [
              0.6666666666666666,
              "#ed7953"
             ],
             [
              0.7777777777777778,
              "#fb9f3a"
             ],
             [
              0.8888888888888888,
              "#fdca26"
             ],
             [
              1,
              "#f0f921"
             ]
            ],
            "type": "contour"
           }
          ],
          "contourcarpet": [
           {
            "colorbar": {
             "outlinewidth": 0,
             "ticks": ""
            },
            "type": "contourcarpet"
           }
          ],
          "heatmap": [
           {
            "colorbar": {
             "outlinewidth": 0,
             "ticks": ""
            },
            "colorscale": [
             [
              0,
              "#0d0887"
             ],
             [
              0.1111111111111111,
              "#46039f"
             ],
             [
              0.2222222222222222,
              "#7201a8"
             ],
             [
              0.3333333333333333,
              "#9c179e"
             ],
             [
              0.4444444444444444,
              "#bd3786"
             ],
             [
              0.5555555555555556,
              "#d8576b"
             ],
             [
              0.6666666666666666,
              "#ed7953"
             ],
             [
              0.7777777777777778,
              "#fb9f3a"
             ],
             [
              0.8888888888888888,
              "#fdca26"
             ],
             [
              1,
              "#f0f921"
             ]
            ],
            "type": "heatmap"
           }
          ],
          "heatmapgl": [
           {
            "colorbar": {
             "outlinewidth": 0,
             "ticks": ""
            },
            "colorscale": [
             [
              0,
              "#0d0887"
             ],
             [
              0.1111111111111111,
              "#46039f"
             ],
             [
              0.2222222222222222,
              "#7201a8"
             ],
             [
              0.3333333333333333,
              "#9c179e"
             ],
             [
              0.4444444444444444,
              "#bd3786"
             ],
             [
              0.5555555555555556,
              "#d8576b"
             ],
             [
              0.6666666666666666,
              "#ed7953"
             ],
             [
              0.7777777777777778,
              "#fb9f3a"
             ],
             [
              0.8888888888888888,
              "#fdca26"
             ],
             [
              1,
              "#f0f921"
             ]
            ],
            "type": "heatmapgl"
           }
          ],
          "histogram": [
           {
            "marker": {
             "pattern": {
              "fillmode": "overlay",
              "size": 10,
              "solidity": 0.2
             }
            },
            "type": "histogram"
           }
          ],
          "histogram2d": [
           {
            "colorbar": {
             "outlinewidth": 0,
             "ticks": ""
            },
            "colorscale": [
             [
              0,
              "#0d0887"
             ],
             [
              0.1111111111111111,
              "#46039f"
             ],
             [
              0.2222222222222222,
              "#7201a8"
             ],
             [
              0.3333333333333333,
              "#9c179e"
             ],
             [
              0.4444444444444444,
              "#bd3786"
             ],
             [
              0.5555555555555556,
              "#d8576b"
             ],
             [
              0.6666666666666666,
              "#ed7953"
             ],
             [
              0.7777777777777778,
              "#fb9f3a"
             ],
             [
              0.8888888888888888,
              "#fdca26"
             ],
             [
              1,
              "#f0f921"
             ]
            ],
            "type": "histogram2d"
           }
          ],
          "histogram2dcontour": [
           {
            "colorbar": {
             "outlinewidth": 0,
             "ticks": ""
            },
            "colorscale": [
             [
              0,
              "#0d0887"
             ],
             [
              0.1111111111111111,
              "#46039f"
             ],
             [
              0.2222222222222222,
              "#7201a8"
             ],
             [
              0.3333333333333333,
              "#9c179e"
             ],
             [
              0.4444444444444444,
              "#bd3786"
             ],
             [
              0.5555555555555556,
              "#d8576b"
             ],
             [
              0.6666666666666666,
              "#ed7953"
             ],
             [
              0.7777777777777778,
              "#fb9f3a"
             ],
             [
              0.8888888888888888,
              "#fdca26"
             ],
             [
              1,
              "#f0f921"
             ]
            ],
            "type": "histogram2dcontour"
           }
          ],
          "mesh3d": [
           {
            "colorbar": {
             "outlinewidth": 0,
             "ticks": ""
            },
            "type": "mesh3d"
           }
          ],
          "parcoords": [
           {
            "line": {
             "colorbar": {
              "outlinewidth": 0,
              "ticks": ""
             }
            },
            "type": "parcoords"
           }
          ],
          "pie": [
           {
            "automargin": true,
            "type": "pie"
           }
          ],
          "scatter": [
           {
            "fillpattern": {
             "fillmode": "overlay",
             "size": 10,
             "solidity": 0.2
            },
            "type": "scatter"
           }
          ],
          "scatter3d": [
           {
            "line": {
             "colorbar": {
              "outlinewidth": 0,
              "ticks": ""
             }
            },
            "marker": {
             "colorbar": {
              "outlinewidth": 0,
              "ticks": ""
             }
            },
            "type": "scatter3d"
           }
          ],
          "scattercarpet": [
           {
            "marker": {
             "colorbar": {
              "outlinewidth": 0,
              "ticks": ""
             }
            },
            "type": "scattercarpet"
           }
          ],
          "scattergeo": [
           {
            "marker": {
             "colorbar": {
              "outlinewidth": 0,
              "ticks": ""
             }
            },
            "type": "scattergeo"
           }
          ],
          "scattergl": [
           {
            "marker": {
             "colorbar": {
              "outlinewidth": 0,
              "ticks": ""
             }
            },
            "type": "scattergl"
           }
          ],
          "scattermapbox": [
           {
            "marker": {
             "colorbar": {
              "outlinewidth": 0,
              "ticks": ""
             }
            },
            "type": "scattermapbox"
           }
          ],
          "scatterpolar": [
           {
            "marker": {
             "colorbar": {
              "outlinewidth": 0,
              "ticks": ""
             }
            },
            "type": "scatterpolar"
           }
          ],
          "scatterpolargl": [
           {
            "marker": {
             "colorbar": {
              "outlinewidth": 0,
              "ticks": ""
             }
            },
            "type": "scatterpolargl"
           }
          ],
          "scatterternary": [
           {
            "marker": {
             "colorbar": {
              "outlinewidth": 0,
              "ticks": ""
             }
            },
            "type": "scatterternary"
           }
          ],
          "surface": [
           {
            "colorbar": {
             "outlinewidth": 0,
             "ticks": ""
            },
            "colorscale": [
             [
              0,
              "#0d0887"
             ],
             [
              0.1111111111111111,
              "#46039f"
             ],
             [
              0.2222222222222222,
              "#7201a8"
             ],
             [
              0.3333333333333333,
              "#9c179e"
             ],
             [
              0.4444444444444444,
              "#bd3786"
             ],
             [
              0.5555555555555556,
              "#d8576b"
             ],
             [
              0.6666666666666666,
              "#ed7953"
             ],
             [
              0.7777777777777778,
              "#fb9f3a"
             ],
             [
              0.8888888888888888,
              "#fdca26"
             ],
             [
              1,
              "#f0f921"
             ]
            ],
            "type": "surface"
           }
          ],
          "table": [
           {
            "cells": {
             "fill": {
              "color": "#EBF0F8"
             },
             "line": {
              "color": "white"
             }
            },
            "header": {
             "fill": {
              "color": "#C8D4E3"
             },
             "line": {
              "color": "white"
             }
            },
            "type": "table"
           }
          ]
         },
         "layout": {
          "annotationdefaults": {
           "arrowcolor": "#2a3f5f",
           "arrowhead": 0,
           "arrowwidth": 1
          },
          "autotypenumbers": "strict",
          "coloraxis": {
           "colorbar": {
            "outlinewidth": 0,
            "ticks": ""
           }
          },
          "colorscale": {
           "diverging": [
            [
             0,
             "#8e0152"
            ],
            [
             0.1,
             "#c51b7d"
            ],
            [
             0.2,
             "#de77ae"
            ],
            [
             0.3,
             "#f1b6da"
            ],
            [
             0.4,
             "#fde0ef"
            ],
            [
             0.5,
             "#f7f7f7"
            ],
            [
             0.6,
             "#e6f5d0"
            ],
            [
             0.7,
             "#b8e186"
            ],
            [
             0.8,
             "#7fbc41"
            ],
            [
             0.9,
             "#4d9221"
            ],
            [
             1,
             "#276419"
            ]
           ],
           "sequential": [
            [
             0,
             "#0d0887"
            ],
            [
             0.1111111111111111,
             "#46039f"
            ],
            [
             0.2222222222222222,
             "#7201a8"
            ],
            [
             0.3333333333333333,
             "#9c179e"
            ],
            [
             0.4444444444444444,
             "#bd3786"
            ],
            [
             0.5555555555555556,
             "#d8576b"
            ],
            [
             0.6666666666666666,
             "#ed7953"
            ],
            [
             0.7777777777777778,
             "#fb9f3a"
            ],
            [
             0.8888888888888888,
             "#fdca26"
            ],
            [
             1,
             "#f0f921"
            ]
           ],
           "sequentialminus": [
            [
             0,
             "#0d0887"
            ],
            [
             0.1111111111111111,
             "#46039f"
            ],
            [
             0.2222222222222222,
             "#7201a8"
            ],
            [
             0.3333333333333333,
             "#9c179e"
            ],
            [
             0.4444444444444444,
             "#bd3786"
            ],
            [
             0.5555555555555556,
             "#d8576b"
            ],
            [
             0.6666666666666666,
             "#ed7953"
            ],
            [
             0.7777777777777778,
             "#fb9f3a"
            ],
            [
             0.8888888888888888,
             "#fdca26"
            ],
            [
             1,
             "#f0f921"
            ]
           ]
          },
          "colorway": [
           "#636efa",
           "#EF553B",
           "#00cc96",
           "#ab63fa",
           "#FFA15A",
           "#19d3f3",
           "#FF6692",
           "#B6E880",
           "#FF97FF",
           "#FECB52"
          ],
          "font": {
           "color": "#2a3f5f"
          },
          "geo": {
           "bgcolor": "white",
           "lakecolor": "white",
           "landcolor": "#E5ECF6",
           "showlakes": true,
           "showland": true,
           "subunitcolor": "white"
          },
          "hoverlabel": {
           "align": "left"
          },
          "hovermode": "closest",
          "mapbox": {
           "style": "light"
          },
          "paper_bgcolor": "white",
          "plot_bgcolor": "#E5ECF6",
          "polar": {
           "angularaxis": {
            "gridcolor": "white",
            "linecolor": "white",
            "ticks": ""
           },
           "bgcolor": "#E5ECF6",
           "radialaxis": {
            "gridcolor": "white",
            "linecolor": "white",
            "ticks": ""
           }
          },
          "scene": {
           "xaxis": {
            "backgroundcolor": "#E5ECF6",
            "gridcolor": "white",
            "gridwidth": 2,
            "linecolor": "white",
            "showbackground": true,
            "ticks": "",
            "zerolinecolor": "white"
           },
           "yaxis": {
            "backgroundcolor": "#E5ECF6",
            "gridcolor": "white",
            "gridwidth": 2,
            "linecolor": "white",
            "showbackground": true,
            "ticks": "",
            "zerolinecolor": "white"
           },
           "zaxis": {
            "backgroundcolor": "#E5ECF6",
            "gridcolor": "white",
            "gridwidth": 2,
            "linecolor": "white",
            "showbackground": true,
            "ticks": "",
            "zerolinecolor": "white"
           }
          },
          "shapedefaults": {
           "line": {
            "color": "#2a3f5f"
           }
          },
          "ternary": {
           "aaxis": {
            "gridcolor": "white",
            "linecolor": "white",
            "ticks": ""
           },
           "baxis": {
            "gridcolor": "white",
            "linecolor": "white",
            "ticks": ""
           },
           "bgcolor": "#E5ECF6",
           "caxis": {
            "gridcolor": "white",
            "linecolor": "white",
            "ticks": ""
           }
          },
          "title": {
           "x": 0.05
          },
          "xaxis": {
           "automargin": true,
           "gridcolor": "white",
           "linecolor": "white",
           "ticks": "",
           "title": {
            "standoff": 15
           },
           "zerolinecolor": "white",
           "zerolinewidth": 2
          },
          "yaxis": {
           "automargin": true,
           "gridcolor": "white",
           "linecolor": "white",
           "ticks": "",
           "title": {
            "standoff": 15
           },
           "zerolinecolor": "white",
           "zerolinewidth": 2
          }
         }
        },
        "title": {
         "text": "postag_4 ordered histogram"
        },
        "xaxis": {
         "categoryorder": "total ascending",
         "title": {
          "text": "postag_4"
         }
        },
        "yaxis": {
         "title": {
          "text": "count"
         }
        }
       }
      },
      "text/html": [
       "<div>                            <div id=\"d2082ef3-9d8c-40aa-88f4-3469b341ce7c\" class=\"plotly-graph-div\" style=\"height:525px; width:100%;\"></div>            <script type=\"text/javascript\">                require([\"plotly\"], function(Plotly) {                    window.PLOTLYENV=window.PLOTLYENV || {};                                    if (document.getElementById(\"d2082ef3-9d8c-40aa-88f4-3469b341ce7c\")) {                    Plotly.newPlot(                        \"d2082ef3-9d8c-40aa-88f4-3469b341ce7c\",                        [{\"name\":\"1\",\"x\":[\"NOUN\",\"PRON\",\"VERB\",\"ADP\",\"ADV\",\"DET\",\"ADJ\",\"SCONJ\",\"CONJ\",\"INTJ\",\"NUM\",\"PROPN\",\"AUX\",\"PART\"],\"y\":[965,846,370,327,307,284,267,263,204,142,62,59,50,13],\"type\":\"bar\"},{\"name\":\"0\",\"x\":[\"VERB\",\"PRON\",\"NOUN\",\"DET\",\"ADP\",\"ADV\",\"SCONJ\",\"AUX\",\"ADJ\",\"PROPN\",\"CONJ\",\"INTJ\",\"PART\",\"NUM\",\"X\"],\"y\":[5188,3688,2982,2688,2122,1777,1104,872,849,619,599,543,490,378,1],\"type\":\"bar\"}],                        {\"template\":{\"data\":{\"histogram2dcontour\":[{\"type\":\"histogram2dcontour\",\"colorbar\":{\"outlinewidth\":0,\"ticks\":\"\"},\"colorscale\":[[0.0,\"#0d0887\"],[0.1111111111111111,\"#46039f\"],[0.2222222222222222,\"#7201a8\"],[0.3333333333333333,\"#9c179e\"],[0.4444444444444444,\"#bd3786\"],[0.5555555555555556,\"#d8576b\"],[0.6666666666666666,\"#ed7953\"],[0.7777777777777778,\"#fb9f3a\"],[0.8888888888888888,\"#fdca26\"],[1.0,\"#f0f921\"]]}],\"choropleth\":[{\"type\":\"choropleth\",\"colorbar\":{\"outlinewidth\":0,\"ticks\":\"\"}}],\"histogram2d\":[{\"type\":\"histogram2d\",\"colorbar\":{\"outlinewidth\":0,\"ticks\":\"\"},\"colorscale\":[[0.0,\"#0d0887\"],[0.1111111111111111,\"#46039f\"],[0.2222222222222222,\"#7201a8\"],[0.3333333333333333,\"#9c179e\"],[0.4444444444444444,\"#bd3786\"],[0.5555555555555556,\"#d8576b\"],[0.6666666666666666,\"#ed7953\"],[0.7777777777777778,\"#fb9f3a\"],[0.8888888888888888,\"#fdca26\"],[1.0,\"#f0f921\"]]}],\"heatmap\":[{\"type\":\"heatmap\",\"colorbar\":{\"outlinewidth\":0,\"ticks\":\"\"},\"colorscale\":[[0.0,\"#0d0887\"],[0.1111111111111111,\"#46039f\"],[0.2222222222222222,\"#7201a8\"],[0.3333333333333333,\"#9c179e\"],[0.4444444444444444,\"#bd3786\"],[0.5555555555555556,\"#d8576b\"],[0.6666666666666666,\"#ed7953\"],[0.7777777777777778,\"#fb9f3a\"],[0.8888888888888888,\"#fdca26\"],[1.0,\"#f0f921\"]]}],\"heatmapgl\":[{\"type\":\"heatmapgl\",\"colorbar\":{\"outlinewidth\":0,\"ticks\":\"\"},\"colorscale\":[[0.0,\"#0d0887\"],[0.1111111111111111,\"#46039f\"],[0.2222222222222222,\"#7201a8\"],[0.3333333333333333,\"#9c179e\"],[0.4444444444444444,\"#bd3786\"],[0.5555555555555556,\"#d8576b\"],[0.6666666666666666,\"#ed7953\"],[0.7777777777777778,\"#fb9f3a\"],[0.8888888888888888,\"#fdca26\"],[1.0,\"#f0f921\"]]}],\"contourcarpet\":[{\"type\":\"contourcarpet\",\"colorbar\":{\"outlinewidth\":0,\"ticks\":\"\"}}],\"contour\":[{\"type\":\"contour\",\"colorbar\":{\"outlinewidth\":0,\"ticks\":\"\"},\"colorscale\":[[0.0,\"#0d0887\"],[0.1111111111111111,\"#46039f\"],[0.2222222222222222,\"#7201a8\"],[0.3333333333333333,\"#9c179e\"],[0.4444444444444444,\"#bd3786\"],[0.5555555555555556,\"#d8576b\"],[0.6666666666666666,\"#ed7953\"],[0.7777777777777778,\"#fb9f3a\"],[0.8888888888888888,\"#fdca26\"],[1.0,\"#f0f921\"]]}],\"surface\":[{\"type\":\"surface\",\"colorbar\":{\"outlinewidth\":0,\"ticks\":\"\"},\"colorscale\":[[0.0,\"#0d0887\"],[0.1111111111111111,\"#46039f\"],[0.2222222222222222,\"#7201a8\"],[0.3333333333333333,\"#9c179e\"],[0.4444444444444444,\"#bd3786\"],[0.5555555555555556,\"#d8576b\"],[0.6666666666666666,\"#ed7953\"],[0.7777777777777778,\"#fb9f3a\"],[0.8888888888888888,\"#fdca26\"],[1.0,\"#f0f921\"]]}],\"mesh3d\":[{\"type\":\"mesh3d\",\"colorbar\":{\"outlinewidth\":0,\"ticks\":\"\"}}],\"scatter\":[{\"fillpattern\":{\"fillmode\":\"overlay\",\"size\":10,\"solidity\":0.2},\"type\":\"scatter\"}],\"parcoords\":[{\"type\":\"parcoords\",\"line\":{\"colorbar\":{\"outlinewidth\":0,\"ticks\":\"\"}}}],\"scatterpolargl\":[{\"type\":\"scatterpolargl\",\"marker\":{\"colorbar\":{\"outlinewidth\":0,\"ticks\":\"\"}}}],\"bar\":[{\"error_x\":{\"color\":\"#2a3f5f\"},\"error_y\":{\"color\":\"#2a3f5f\"},\"marker\":{\"line\":{\"color\":\"#E5ECF6\",\"width\":0.5},\"pattern\":{\"fillmode\":\"overlay\",\"size\":10,\"solidity\":0.2}},\"type\":\"bar\"}],\"scattergeo\":[{\"type\":\"scattergeo\",\"marker\":{\"colorbar\":{\"outlinewidth\":0,\"ticks\":\"\"}}}],\"scatterpolar\":[{\"type\":\"scatterpolar\",\"marker\":{\"colorbar\":{\"outlinewidth\":0,\"ticks\":\"\"}}}],\"histogram\":[{\"marker\":{\"pattern\":{\"fillmode\":\"overlay\",\"size\":10,\"solidity\":0.2}},\"type\":\"histogram\"}],\"scattergl\":[{\"type\":\"scattergl\",\"marker\":{\"colorbar\":{\"outlinewidth\":0,\"ticks\":\"\"}}}],\"scatter3d\":[{\"type\":\"scatter3d\",\"line\":{\"colorbar\":{\"outlinewidth\":0,\"ticks\":\"\"}},\"marker\":{\"colorbar\":{\"outlinewidth\":0,\"ticks\":\"\"}}}],\"scattermapbox\":[{\"type\":\"scattermapbox\",\"marker\":{\"colorbar\":{\"outlinewidth\":0,\"ticks\":\"\"}}}],\"scatterternary\":[{\"type\":\"scatterternary\",\"marker\":{\"colorbar\":{\"outlinewidth\":0,\"ticks\":\"\"}}}],\"scattercarpet\":[{\"type\":\"scattercarpet\",\"marker\":{\"colorbar\":{\"outlinewidth\":0,\"ticks\":\"\"}}}],\"carpet\":[{\"aaxis\":{\"endlinecolor\":\"#2a3f5f\",\"gridcolor\":\"white\",\"linecolor\":\"white\",\"minorgridcolor\":\"white\",\"startlinecolor\":\"#2a3f5f\"},\"baxis\":{\"endlinecolor\":\"#2a3f5f\",\"gridcolor\":\"white\",\"linecolor\":\"white\",\"minorgridcolor\":\"white\",\"startlinecolor\":\"#2a3f5f\"},\"type\":\"carpet\"}],\"table\":[{\"cells\":{\"fill\":{\"color\":\"#EBF0F8\"},\"line\":{\"color\":\"white\"}},\"header\":{\"fill\":{\"color\":\"#C8D4E3\"},\"line\":{\"color\":\"white\"}},\"type\":\"table\"}],\"barpolar\":[{\"marker\":{\"line\":{\"color\":\"#E5ECF6\",\"width\":0.5},\"pattern\":{\"fillmode\":\"overlay\",\"size\":10,\"solidity\":0.2}},\"type\":\"barpolar\"}],\"pie\":[{\"automargin\":true,\"type\":\"pie\"}]},\"layout\":{\"autotypenumbers\":\"strict\",\"colorway\":[\"#636efa\",\"#EF553B\",\"#00cc96\",\"#ab63fa\",\"#FFA15A\",\"#19d3f3\",\"#FF6692\",\"#B6E880\",\"#FF97FF\",\"#FECB52\"],\"font\":{\"color\":\"#2a3f5f\"},\"hovermode\":\"closest\",\"hoverlabel\":{\"align\":\"left\"},\"paper_bgcolor\":\"white\",\"plot_bgcolor\":\"#E5ECF6\",\"polar\":{\"bgcolor\":\"#E5ECF6\",\"angularaxis\":{\"gridcolor\":\"white\",\"linecolor\":\"white\",\"ticks\":\"\"},\"radialaxis\":{\"gridcolor\":\"white\",\"linecolor\":\"white\",\"ticks\":\"\"}},\"ternary\":{\"bgcolor\":\"#E5ECF6\",\"aaxis\":{\"gridcolor\":\"white\",\"linecolor\":\"white\",\"ticks\":\"\"},\"baxis\":{\"gridcolor\":\"white\",\"linecolor\":\"white\",\"ticks\":\"\"},\"caxis\":{\"gridcolor\":\"white\",\"linecolor\":\"white\",\"ticks\":\"\"}},\"coloraxis\":{\"colorbar\":{\"outlinewidth\":0,\"ticks\":\"\"}},\"colorscale\":{\"sequential\":[[0.0,\"#0d0887\"],[0.1111111111111111,\"#46039f\"],[0.2222222222222222,\"#7201a8\"],[0.3333333333333333,\"#9c179e\"],[0.4444444444444444,\"#bd3786\"],[0.5555555555555556,\"#d8576b\"],[0.6666666666666666,\"#ed7953\"],[0.7777777777777778,\"#fb9f3a\"],[0.8888888888888888,\"#fdca26\"],[1.0,\"#f0f921\"]],\"sequentialminus\":[[0.0,\"#0d0887\"],[0.1111111111111111,\"#46039f\"],[0.2222222222222222,\"#7201a8\"],[0.3333333333333333,\"#9c179e\"],[0.4444444444444444,\"#bd3786\"],[0.5555555555555556,\"#d8576b\"],[0.6666666666666666,\"#ed7953\"],[0.7777777777777778,\"#fb9f3a\"],[0.8888888888888888,\"#fdca26\"],[1.0,\"#f0f921\"]],\"diverging\":[[0,\"#8e0152\"],[0.1,\"#c51b7d\"],[0.2,\"#de77ae\"],[0.3,\"#f1b6da\"],[0.4,\"#fde0ef\"],[0.5,\"#f7f7f7\"],[0.6,\"#e6f5d0\"],[0.7,\"#b8e186\"],[0.8,\"#7fbc41\"],[0.9,\"#4d9221\"],[1,\"#276419\"]]},\"xaxis\":{\"gridcolor\":\"white\",\"linecolor\":\"white\",\"ticks\":\"\",\"title\":{\"standoff\":15},\"zerolinecolor\":\"white\",\"automargin\":true,\"zerolinewidth\":2},\"yaxis\":{\"gridcolor\":\"white\",\"linecolor\":\"white\",\"ticks\":\"\",\"title\":{\"standoff\":15},\"zerolinecolor\":\"white\",\"automargin\":true,\"zerolinewidth\":2},\"scene\":{\"xaxis\":{\"backgroundcolor\":\"#E5ECF6\",\"gridcolor\":\"white\",\"linecolor\":\"white\",\"showbackground\":true,\"ticks\":\"\",\"zerolinecolor\":\"white\",\"gridwidth\":2},\"yaxis\":{\"backgroundcolor\":\"#E5ECF6\",\"gridcolor\":\"white\",\"linecolor\":\"white\",\"showbackground\":true,\"ticks\":\"\",\"zerolinecolor\":\"white\",\"gridwidth\":2},\"zaxis\":{\"backgroundcolor\":\"#E5ECF6\",\"gridcolor\":\"white\",\"linecolor\":\"white\",\"showbackground\":true,\"ticks\":\"\",\"zerolinecolor\":\"white\",\"gridwidth\":2}},\"shapedefaults\":{\"line\":{\"color\":\"#2a3f5f\"}},\"annotationdefaults\":{\"arrowcolor\":\"#2a3f5f\",\"arrowhead\":0,\"arrowwidth\":1},\"geo\":{\"bgcolor\":\"white\",\"landcolor\":\"#E5ECF6\",\"subunitcolor\":\"white\",\"showland\":true,\"showlakes\":true,\"lakecolor\":\"white\"},\"title\":{\"x\":0.05},\"mapbox\":{\"style\":\"light\"}}},\"title\":{\"text\":\"postag_4 ordered histogram\"},\"xaxis\":{\"title\":{\"text\":\"postag_4\"},\"categoryorder\":\"total ascending\"},\"yaxis\":{\"title\":{\"text\":\"count\"}},\"legend\":{\"title\":{\"text\":\"CS label\"}}},                        {\"responsive\": true}                    ).then(function(){\n",
       "                            \n",
       "var gd = document.getElementById('d2082ef3-9d8c-40aa-88f4-3469b341ce7c');\n",
       "var x = new MutationObserver(function (mutations, observer) {{\n",
       "        var display = window.getComputedStyle(gd).display;\n",
       "        if (!display || display === 'none') {{\n",
       "            console.log([gd, 'removed!']);\n",
       "            Plotly.purge(gd);\n",
       "            observer.disconnect();\n",
       "        }}\n",
       "}});\n",
       "\n",
       "// Listen for the removal of the full notebook cells\n",
       "var notebookContainer = gd.closest('#notebook-container');\n",
       "if (notebookContainer) {{\n",
       "    x.observe(notebookContainer, {childList: true});\n",
       "}}\n",
       "\n",
       "// Listen for the clearing of the current output cell\n",
       "var outputEl = gd.closest('.output');\n",
       "if (outputEl) {{\n",
       "    x.observe(outputEl, {childList: true});\n",
       "}}\n",
       "\n",
       "                        })                };                });            </script>        </div>"
      ]
     },
     "metadata": {},
     "output_type": "display_data"
    },
    {
     "name": "stdout",
     "output_type": "stream",
     "text": [
      "CS 1 - weighted average: 0.2928734070690069\n",
      "CS 0 - weighted average: 0.23387346443514695\n"
     ]
    },
    {
     "data": {
      "application/vnd.plotly.v1+json": {
       "config": {
        "plotlyServerURL": "https://plot.ly"
       },
       "data": [
        {
         "mode": "markers",
         "name": "1",
         "opacity": 1,
         "type": "scatter",
         "x": [
          0,
          0.54,
          0.3304,
          0.3362,
          0.4105,
          0.4504,
          0.4219,
          0.4056,
          0.255,
          0.347,
          0.3152,
          0.3059,
          0.473,
          0.4466,
          0.3236,
          0.4551,
          0.3726,
          0.3976,
          0.4712,
          0.5197,
          0.3584,
          0.4091,
          0.3612,
          0.328,
          0.2886,
          0.5447,
          0.3899,
          0.2907,
          0.3117,
          0.4,
          0.3663,
          0.2643,
          0.4723,
          0.4791,
          0.2396,
          0.3656,
          0.374,
          0.3444,
          0.3866,
          0.3318,
          0.2928,
          0.4646,
          0.4499,
          0.2351,
          0.2998,
          0.4119,
          0.2813,
          0.6647,
          0.4705,
          0.6145,
          0.2706,
          0.8039,
          0.5445,
          0.5025,
          0.3054,
          0.4796,
          0.5534,
          0.3565,
          0.2879,
          0.6085,
          0.2608,
          0.6507,
          0.4126,
          0.4737,
          0.3336,
          0.5316,
          0.3526,
          0.431,
          0.2564,
          0.222,
          0.3731,
          0.6528,
          0.4807,
          0.4919,
          0.6141,
          0.3397,
          0.6967,
          0.3327,
          0.6997,
          0.4366,
          0.3505,
          0.5179,
          0.7581,
          0.5414,
          0.3642,
          0.7693,
          0.2204,
          0.3301,
          0.4065,
          0.512,
          0.6638,
          0.4387,
          0.449,
          0.586,
          0.8482,
          0.3869,
          0.7703,
          0.6253,
          0.233,
          0.2881,
          0.3306,
          0.315,
          0.5487,
          0.286,
          0.2239,
          0.3395,
          0.2949,
          0.6619,
          0.2622,
          0.579,
          0.3294,
          0.4728,
          0.2452,
          0.6028,
          0.2174,
          0.3624,
          0.6792,
          0.2671,
          0.3222,
          0.1445,
          0.2722,
          0.5484,
          0.2232,
          0.3997,
          0.9103,
          0.474,
          0.3449,
          0.5391,
          0.8447,
          0.4046,
          0.7299,
          0.3801,
          0.3579,
          0.2954,
          0.3796,
          0.5837,
          0.2697,
          0.3243,
          0.3322,
          0.6862,
          0.3773,
          0.5902,
          0.3822,
          0.2295,
          0.8284,
          0.3901,
          0.8191,
          0.7875,
          0.7338,
          0.4894,
          0.3502,
          0.399,
          0.325,
          0.3147,
          0.3241,
          0.8816,
          0.4228,
          0.5839,
          0.3596,
          0.2855,
          0.665,
          0.4772,
          0.6215,
          0.3953,
          0.4263,
          0.4053,
          0.4434,
          0.7768,
          0.3346,
          0.5067,
          0.8844,
          0.6498,
          0.3747,
          0.2975,
          0.7336,
          0.4429,
          0.3311,
          0.4845,
          0.4758,
          0.5482,
          0.4502,
          0.6827,
          0.2431,
          0.4677,
          0.3568,
          0.544,
          0.3399,
          0.3089,
          0.3619,
          0.7794,
          0.5363,
          0.2013,
          0.4639,
          0.3514,
          0.5473,
          0.4527,
          0.4471,
          0.3729,
          0.696,
          0.5991,
          0.2785,
          0.5258,
          0.2942,
          0.2171,
          0.5942,
          0.279,
          0.5923,
          0.3715,
          0.7243,
          0.6888,
          0.629,
          0.7257,
          0.3227,
          0.2202,
          0.3824,
          0.3754,
          0.3472,
          0.427,
          0.6211,
          0.5884,
          0.4368,
          0.2183,
          0.3325,
          0.3353,
          0.8106,
          0.5867,
          0.9757,
          0.5968,
          0.7,
          0.2213,
          0.728,
          0.7829,
          0.3341,
          0.3453,
          0.527,
          0.3446,
          0.7864,
          0.7282,
          0.3586,
          0.5676,
          0.357,
          0.2895,
          0.3418,
          0.5713,
          0.8226,
          0.3178,
          0.3556,
          0.3402,
          0.2771,
          0.8753,
          0.8697,
          0.5032,
          0.6227,
          0.7682,
          0.6187,
          0.3876,
          0.5172,
          0.3329,
          0.5667,
          0.6717,
          0.6143,
          0.653,
          0.3607,
          0.4831,
          0.6591,
          0.2935,
          0.6706,
          0.5592,
          0.4579,
          0.3759,
          0.714,
          0.4256,
          0.3201,
          0.5671,
          0.3161,
          0.5279,
          0.979,
          0.4436,
          0.4971,
          0.8576,
          0.3264,
          0.3087,
          0.5309,
          0.5793,
          0.3512,
          0.3929,
          0.4266,
          0.5085,
          0.883,
          0.682,
          0.2501,
          0.4534,
          0.6257,
          0.7152,
          0.4658,
          0.5578,
          0.4217,
          0.2459,
          0.6271,
          0.6986,
          0.4196,
          0.3941,
          0.2181,
          0.3572,
          0.5629,
          0.3696,
          0.3528,
          0.7927,
          0.3425,
          0.3308,
          0.6362,
          0.7488,
          0.3794,
          0.6409,
          0.3283,
          0.5286,
          0.2664,
          0.3638,
          0.2802,
          0.4039,
          0.8116,
          0.3808,
          0.3617,
          0.5739,
          0.6458,
          0.8531,
          0.6451,
          0.212,
          0.7999,
          0.6951,
          0.2713,
          0.7959,
          0.3126,
          0.8076,
          0.6895,
          0.509,
          0.6255,
          0.2715,
          0.3409,
          0.3224,
          0.626,
          0.5064,
          0.4028,
          0.7464,
          0.3981,
          0.6213,
          0.6755,
          0.5858,
          0.3806,
          0.3014,
          0.4485,
          0.4565,
          0.4959,
          0.3687,
          0.3255,
          0.4067,
          0.2575,
          0.6108,
          0.686,
          0.4642,
          0.2839,
          0.6449,
          0.7429,
          0.2781,
          0.2844,
          0.4691,
          0.5772,
          0.9092,
          0.5986,
          0.3838,
          0.8781,
          0.5538,
          0.3965,
          0.2036,
          0.5998,
          0.566,
          0.7546,
          0.3428,
          0.4282,
          0.9129,
          0.8492,
          0.4873,
          0.4406,
          0.7761,
          0.4604,
          0.5664,
          0.6909,
          0.8735,
          0.3682,
          0.4838,
          0.6269,
          0.3439,
          0.2136,
          0.777,
          0.3673,
          0.456,
          0.435,
          0.6675,
          0.6801,
          0.7712,
          0.6162,
          0.3343,
          0.2825,
          0.6673,
          0.407,
          0.7411,
          0.8067,
          0.7145,
          0.3883,
          0.5587,
          0.3827,
          0.6397,
          0.5118,
          0.4726,
          0.3887,
          0.5053,
          0.5312,
          0.6262,
          0.7124,
          0.625,
          0.4373,
          0.608,
          0.4259,
          0.3516,
          0.3498,
          0.2127,
          0.46,
          0.173,
          0.3456,
          0.6512,
          0.5797,
          0.6892,
          0.4116,
          0.466,
          0.1837,
          0.615,
          0.3495,
          0.6563,
          0.9185,
          0.8111,
          0.8648,
          0.2339,
          0.4842,
          0.6038,
          0.1314,
          0.4305,
          0.1805,
          0.6432,
          0.3948,
          0.1852,
          0.6472,
          0.8471,
          0.6743,
          0.732,
          0.5958,
          0.2666,
          0.5912,
          0.1709,
          0.6047,
          0.3486,
          0.7485,
          0.5029,
          0.2965,
          0.8784,
          0.3371,
          0.6584,
          0.4247,
          0.7541,
          0.5218,
          0.4856,
          0.2473,
          0.4803,
          0.643,
          0.6306,
          0.2414,
          0.5153,
          0.2916,
          0.749,
          0.5111,
          0.4135,
          0.452,
          0.742,
          0.7651,
          0.5074,
          0.2265,
          0.4252,
          0.6832,
          0.5328,
          0.5604,
          0.5505,
          0.6082,
          0.9297,
          0.4532,
          0.3154,
          0.2748,
          0.2741,
          0.7726,
          0.4077,
          0.3143,
          0.7696,
          0.329,
          0.7805,
          0.6948,
          0.2246,
          0.4819,
          0.5954,
          0.4079,
          0.7364,
          0.7254,
          0.2017,
          0.5246,
          0.3287,
          0.6407,
          0.4681,
          0.6654,
          0.7833,
          0.5816,
          0.3911,
          0.7215,
          0.1366,
          0.3378,
          0.5083,
          0.2164,
          0.6661,
          0.7588,
          0.9031,
          0.2398,
          0.7114,
          0.7427,
          0.3771,
          0.1114,
          0.6766,
          0.8814,
          0.5239,
          0.2753,
          0.5412,
          0.241,
          0.8704,
          0.7128,
          0.6159,
          0.382,
          0.6878,
          0.5594,
          0.3972,
          0.7217,
          0.3983,
          0.7906,
          0.3164,
          0.7511,
          0.3593,
          0.6292,
          0.7938,
          0.371,
          0.7252,
          0.2143,
          0.8879,
          0.7371,
          0.9057,
          0.3661,
          0.6274,
          0.5466,
          0.7329,
          0.2426,
          0.4985,
          0.5081,
          0.4775,
          0.6981,
          0.8473,
          0.6332,
          0.8373,
          0.7231,
          0.4749,
          0.5055,
          0.2379,
          0.3491,
          0.3939,
          0.4396,
          0.2746,
          0.6918,
          0.3507,
          0.2447,
          0.3864,
          0.5305,
          0.5144,
          0.5758,
          0.7212,
          0.3915,
          0.9307,
          0.4483,
          0.9379,
          0.5382,
          0.3082,
          0.5438,
          0.6612,
          0.3435,
          0.4359,
          0.314,
          0.3416,
          0.858,
          0.6953,
          0.8749,
          0.4086,
          0.5909,
          0.5494,
          0.6059,
          0.8896,
          0.2162,
          0.4826,
          0.6554,
          0.5356,
          0.6601,
          0.6678,
          0.3052,
          0.5695,
          0.7672,
          0.7644,
          0.1802,
          0.3119,
          0.6113,
          0.7208,
          0.3745,
          0.5265,
          0.7032,
          0.8464,
          0.4254,
          0.5127,
          0.4875,
          0.7028,
          0.6124,
          0.8317,
          0.248,
          0.3024,
          0.7915,
          0.5417,
          0.6794,
          0.8282,
          0.5027,
          0.421,
          0.8585,
          0.29,
          0.5139,
          0.5769,
          0.6899,
          0.2902,
          0.453,
          0.4462,
          0.6806,
          0.6341,
          0.2197,
          0.6288,
          0.3547,
          0.6944,
          0.3042,
          0.1268,
          0.7159,
          0.2115,
          0.7443,
          0.7945,
          0.4002,
          0.7387,
          0.8966,
          0.3313,
          0.4481,
          0.2363,
          0.6876,
          0.127,
          0.5214,
          0.1924,
          0.2687,
          0.5113,
          0.9115,
          0.2293,
          0.947,
          0.5678,
          0.336,
          0.484,
          0.8693,
          0.7037,
          0.294,
          0.6624,
          0.2503,
          0.459,
          0.4403,
          0.5702,
          0.3392,
          0.3969,
          0.3066,
          0.6682,
          0.6822,
          0.3738,
          0.3712,
          0.5781,
          0.4812,
          0.4698,
          0.7614,
          0.7067,
          0.6927,
          0.5342,
          0.4506,
          0.0864,
          0.2449,
          0.5809,
          0.3185,
          0.5251,
          0.5865,
          0.805,
          0.611,
          0.5433,
          0.9054,
          0.8933,
          0.4037,
          0.739,
          0.3815,
          0.3703,
          0.2979,
          0.3647,
          0.7004,
          0.6194,
          0.4095,
          0.4546,
          0.5933,
          0.692,
          0.4032,
          0.7663,
          0.2725,
          0.2718,
          0.3465,
          0.6365,
          0.4371,
          0.1781,
          0.4721,
          0.6521,
          0.2694,
          0.3633,
          0.3764,
          0.5711,
          0.1658,
          0.4922,
          0.4049,
          0.2519,
          0.5825,
          0.2991,
          0.6902,
          0.8001,
          0.7102,
          0.4968,
          0.5669,
          0.406,
          0.2764,
          0.3782,
          0.7189
         ],
         "y": [
          1410,
          154,
          126,
          120,
          109,
          99,
          55,
          51,
          39,
          39,
          39,
          37,
          36,
          32,
          31,
          30,
          28,
          25,
          25,
          22,
          22,
          20,
          16,
          16,
          15,
          14,
          14,
          13,
          13,
          12,
          12,
          12,
          11,
          10,
          10,
          10,
          10,
          9,
          9,
          9,
          9,
          8,
          8,
          8,
          8,
          8,
          8,
          8,
          8,
          8,
          8,
          8,
          7,
          7,
          7,
          7,
          7,
          7,
          7,
          7,
          7,
          7,
          7,
          6,
          6,
          6,
          6,
          6,
          6,
          6,
          6,
          6,
          6,
          6,
          5,
          5,
          5,
          5,
          5,
          5,
          5,
          5,
          5,
          5,
          5,
          5,
          5,
          5,
          5,
          5,
          5,
          5,
          4,
          4,
          4,
          4,
          4,
          4,
          4,
          4,
          4,
          4,
          4,
          4,
          4,
          4,
          4,
          4,
          4,
          4,
          4,
          4,
          4,
          4,
          4,
          4,
          4,
          4,
          4,
          4,
          4,
          4,
          4,
          4,
          4,
          4,
          4,
          4,
          4,
          4,
          4,
          4,
          4,
          4,
          4,
          3,
          3,
          3,
          3,
          3,
          3,
          3,
          3,
          3,
          3,
          3,
          3,
          3,
          3,
          3,
          3,
          3,
          3,
          3,
          3,
          3,
          3,
          3,
          3,
          3,
          3,
          3,
          3,
          3,
          3,
          3,
          3,
          3,
          3,
          3,
          3,
          3,
          3,
          3,
          3,
          3,
          3,
          3,
          3,
          3,
          3,
          3,
          3,
          3,
          3,
          3,
          3,
          3,
          3,
          3,
          3,
          3,
          3,
          3,
          3,
          3,
          3,
          3,
          3,
          3,
          3,
          2,
          2,
          2,
          2,
          2,
          2,
          2,
          2,
          2,
          2,
          2,
          2,
          2,
          2,
          2,
          2,
          2,
          2,
          2,
          2,
          2,
          2,
          2,
          2,
          2,
          2,
          2,
          2,
          2,
          2,
          2,
          2,
          2,
          2,
          2,
          2,
          2,
          2,
          2,
          2,
          2,
          2,
          2,
          2,
          2,
          2,
          2,
          2,
          2,
          2,
          2,
          2,
          2,
          2,
          2,
          2,
          2,
          2,
          2,
          2,
          2,
          2,
          2,
          2,
          2,
          2,
          2,
          2,
          2,
          2,
          2,
          2,
          2,
          2,
          2,
          2,
          2,
          2,
          2,
          2,
          2,
          2,
          2,
          2,
          2,
          2,
          2,
          2,
          2,
          2,
          2,
          2,
          2,
          2,
          2,
          2,
          2,
          2,
          2,
          2,
          2,
          2,
          2,
          2,
          2,
          2,
          2,
          2,
          2,
          2,
          2,
          2,
          2,
          2,
          2,
          2,
          2,
          2,
          2,
          2,
          2,
          2,
          2,
          2,
          2,
          2,
          2,
          2,
          2,
          2,
          2,
          2,
          2,
          2,
          2,
          2,
          2,
          2,
          2,
          2,
          2,
          2,
          2,
          2,
          2,
          1,
          1,
          1,
          1,
          1,
          1,
          1,
          1,
          1,
          1,
          1,
          1,
          1,
          1,
          1,
          1,
          1,
          1,
          1,
          1,
          1,
          1,
          1,
          1,
          1,
          1,
          1,
          1,
          1,
          1,
          1,
          1,
          1,
          1,
          1,
          1,
          1,
          1,
          1,
          1,
          1,
          1,
          1,
          1,
          1,
          1,
          1,
          1,
          1,
          1,
          1,
          1,
          1,
          1,
          1,
          1,
          1,
          1,
          1,
          1,
          1,
          1,
          1,
          1,
          1,
          1,
          1,
          1,
          1,
          1,
          1,
          1,
          1,
          1,
          1,
          1,
          1,
          1,
          1,
          1,
          1,
          1,
          1,
          1,
          1,
          1,
          1,
          1,
          1,
          1,
          1,
          1,
          1,
          1,
          1,
          1,
          1,
          1,
          1,
          1,
          1,
          1,
          1,
          1,
          1,
          1,
          1,
          1,
          1,
          1,
          1,
          1,
          1,
          1,
          1,
          1,
          1,
          1,
          1,
          1,
          1,
          1,
          1,
          1,
          1,
          1,
          1,
          1,
          1,
          1,
          1,
          1,
          1,
          1,
          1,
          1,
          1,
          1,
          1,
          1,
          1,
          1,
          1,
          1,
          1,
          1,
          1,
          1,
          1,
          1,
          1,
          1,
          1,
          1,
          1,
          1,
          1,
          1,
          1,
          1,
          1,
          1,
          1,
          1,
          1,
          1,
          1,
          1,
          1,
          1,
          1,
          1,
          1,
          1,
          1,
          1,
          1,
          1,
          1,
          1,
          1,
          1,
          1,
          1,
          1,
          1,
          1,
          1,
          1,
          1,
          1,
          1,
          1,
          1,
          1,
          1,
          1,
          1,
          1,
          1,
          1,
          1,
          1,
          1,
          1,
          1,
          1,
          1,
          1,
          1,
          1,
          1,
          1,
          1,
          1,
          1,
          1,
          1,
          1,
          1,
          1,
          1,
          1,
          1,
          1,
          1,
          1,
          1,
          1,
          1,
          1,
          1,
          1,
          1,
          1,
          1,
          1,
          1,
          1,
          1,
          1,
          1,
          1,
          1,
          1,
          1,
          1,
          1,
          1,
          1,
          1,
          1,
          1,
          1,
          1,
          1,
          1,
          1,
          1,
          1,
          1,
          1,
          1,
          1,
          1,
          1,
          1,
          1,
          1,
          1,
          1,
          1,
          1,
          1,
          1,
          1,
          1,
          1,
          1,
          1,
          1,
          1,
          1,
          1,
          1,
          1,
          1,
          1,
          1,
          1,
          1,
          1,
          1,
          1,
          1,
          1,
          1,
          1,
          1,
          1,
          1,
          1,
          1,
          1,
          1,
          1,
          1,
          1,
          1,
          1,
          1,
          1,
          1,
          1,
          1,
          1,
          1,
          1,
          1,
          1,
          1,
          1,
          1,
          1,
          1,
          1,
          1,
          1,
          1,
          1,
          1,
          1,
          1,
          1,
          1,
          1,
          1,
          1,
          1,
          1,
          1,
          1,
          1,
          1,
          1,
          1,
          1,
          1,
          1,
          1,
          1,
          1,
          1,
          1,
          1,
          1,
          1,
          1,
          1,
          1,
          1,
          1,
          1,
          1,
          1,
          1,
          1,
          1,
          1,
          1,
          1,
          1,
          1,
          1,
          1,
          1,
          1,
          1,
          1,
          1,
          1,
          1,
          1,
          1,
          1,
          1,
          1,
          1,
          1,
          1,
          1,
          1,
          1,
          1,
          1,
          1,
          1,
          1,
          1,
          1,
          1,
          1,
          1,
          1,
          1
         ]
        },
        {
         "mode": "markers",
         "name": "0",
         "opacity": 0.5,
         "type": "scatter",
         "x": [
          0,
          0.3304,
          0.3318,
          0.4105,
          0.3059,
          0.54,
          0.4466,
          0.5447,
          0.3726,
          0.4219,
          0.3612,
          0.4,
          0.4504,
          0.3362,
          0.3152,
          0.2879,
          0.4551,
          0.4091,
          0.2907,
          0.255,
          0.4056,
          0.2886,
          0.3584,
          0.3976,
          0.328,
          0.3341,
          0.2643,
          0.473,
          0.5197,
          0.4772,
          0.3395,
          0.3201,
          0.233,
          0.6145,
          0.3899,
          0.3236,
          0.347,
          0.2295,
          0.3866,
          0.2706,
          0.3222,
          0.2671,
          0.4396,
          0.2813,
          0.3965,
          0.3656,
          0.307,
          0.4028,
          0.2396,
          0.4126,
          0.4065,
          0.3117,
          0.5316,
          0.3596,
          0.2928,
          0.5389,
          0.2998,
          0.3642,
          0.5534,
          0.512,
          0.431,
          0.474,
          0.8482,
          0.4791,
          0.4705,
          0.6647,
          0.3838,
          0.4712,
          0.4691,
          0.6227,
          0.2975,
          0.2181,
          0.2564,
          0.4723,
          0.2771,
          0.3619,
          0.3311,
          0.5391,
          0.3224,
          0.3322,
          0.4527,
          0.3747,
          0.5484,
          0.4039,
          0.2722,
          0.212,
          0.3549,
          0.3505,
          0.2631,
          0.5279,
          0.4228,
          0.5713,
          0.222,
          0.2608,
          0.449,
          0.3663,
          0.3035,
          0.3397,
          0.3453,
          0.3306,
          0.2697,
          0.1725,
          0.4646,
          0.357,
          0.2575,
          0.5863,
          0.374,
          0.3327,
          0.8531,
          0.2855,
          0.5902,
          0.2351,
          0.2431,
          0.6528,
          0.3336,
          0.4361,
          0.2715,
          0.7768,
          0.3876,
          0.8076,
          0.5067,
          0.3682,
          0.3444,
          0.2942,
          0.4541,
          0.2881,
          0.286,
          0.3759,
          0.7794,
          0.4046,
          0.4077,
          0.3733,
          0.8191,
          0.5335,
          0.2171,
          0.5718,
          0.2895,
          0.3329,
          0.5867,
          0.3075,
          0.7231,
          0.3103,
          0.6997,
          0.4212,
          0.2536,
          0.4147,
          0.4803,
          0.399,
          0.7299,
          0.304,
          0.3449,
          0.3161,
          0.3724,
          0.4796,
          0.4119,
          0.7336,
          0.3325,
          0.4537,
          0.3348,
          0.3568,
          0.3997,
          0.544,
          0.3301,
          0.3266,
          0.5839,
          0.6353,
          0.3115,
          0.7875,
          0.8226,
          0.3687,
          0.2036,
          0.6895,
          0.2239,
          0.4168,
          0.3038,
          0.2832,
          0.2174,
          0.4919,
          0.4282,
          0.562,
          0.4434,
          0.5541,
          0.586,
          0.3456,
          0.4628,
          0.315,
          0.5466,
          0.6159,
          0.4994,
          0.5025,
          0.3061,
          0.4217,
          0.1609,
          0.4698,
          0.7152,
          0.4726,
          0.2655,
          0.3796,
          0.5433,
          0.427,
          0.5309,
          0.5517,
          0.5085,
          0.6619,
          0.5548,
          0.5202,
          0.3133,
          0.502,
          0.4807,
          0.2204,
          0.619,
          0.3598,
          0.5494,
          0.8506,
          0.3313,
          0.3969,
          0.6416,
          0.5144,
          0.4373,
          0.6591,
          0.3887,
          0.5363,
          0.728,
          0.2926,
          0.5179,
          0.7338,
          0.622,
          0.2629,
          0.5657,
          0.6215,
          0.4058,
          0.4471,
          0.4936,
          0.3731,
          0.629,
          0.3738,
          0.6624,
          0.3526,
          0.1268,
          0.7579,
          0.3495,
          0.4037,
          0.5274,
          0.4256,
          0.3498,
          0.4049,
          0.7509,
          0.5573,
          0.3794,
          0.2762,
          0.2713,
          0.4987,
          0.5968,
          0.5825,
          0.6099,
          0.7189,
          0.9148,
          0.3778,
          0.41,
          0.3901,
          0.4502,
          0.4422,
          0.615,
          0.4245,
          0.3166,
          0.6556,
          0.3638,
          0.5991,
          0.5377,
          0.7046,
          0.4053,
          0.4534,
          0.2954,
          0.3911,
          0.5482,
          0.2844,
          0.3514,
          0.5048,
          0.258,
          0.5461,
          0.8473,
          0.2363,
          0.3834,
          0.3199,
          0.3512,
          0.6124,
          0.5351,
          0.2162,
          0.2825,
          0.4135,
          0.1751,
          0.5914,
          0.5487,
          0.4968,
          0.2489,
          0.7121,
          0.7625,
          0.1445,
          0.3883,
          0.3943,
          0.3824,
          0.8228,
          0.5232,
          0.3143,
          0.3519,
          0.7654,
          0.4249,
          0.2197,
          0.4233,
          0.452,
          0.2837,
          0.2965,
          0.6603,
          0.6888,
          0.4156,
          0.4366,
          0.4639,
          0.4873,
          0.2718,
          0.3785,
          0.4838,
          0.3782,
          0.5006,
          0.4387,
          0.8798,
          0.8697,
          0.7145,
          0.6085,
          0.2153,
          0.3715,
          0.4455,
          0.579,
          0.2991,
          0.4382,
          0.453,
          0.682,
          0.3124,
          0.3869,
          0.6253,
          0.3607,
          0.509,
          0.241,
          0.6211,
          0.3579,
          0.5986,
          0.3463,
          0.3378,
          0.4763,
          0.6451,
          0.6512,
          0.8947,
          0.2508,
          0.6801,
          0.2519,
          0.7296,
          0.4565,
          0.6283,
          0.4385,
          0.2893,
          0.3582,
          0.4929,
          0.5237,
          0.6636,
          0.5214,
          0.6059,
          0.2694,
          0.6969,
          0.3633,
          0.4567,
          0.4782,
          0.513,
          0.7191,
          0.5804,
          0.321,
          0.477,
          0.7686,
          0.742,
          0.6995,
          0.4677,
          0.2657,
          0.8849,
          0.7682,
          0.3939,
          0.1826,
          0.4338,
          0.5384,
          0.2659,
          0.6673,
          0.4532,
          0.4663,
          0.1756,
          0.5251,
          0.7703,
          0.3488,
          0.3486,
          0.5739,
          0.8693,
          0.778,
          0.6397,
          0.3255,
          0.5412,
          0.6547,
          0.4602,
          0.5858,
          0.6334,
          0.2232,
          0.414,
          0.8536,
          0.5954,
          0.3287,
          0.4499,
          0.6446,
          0.5702,
          0.3187,
          0.3131,
          0.5793,
          0.4007,
          0.3294,
          0.3577,
          0.947,
          0.4882,
          0.6804,
          0.2979,
          0.4303,
          0.8872,
          0.2403,
          0.3647,
          0.2935,
          0.5438,
          0.2795,
          0.4635,
          0.6213,
          0.5884,
          0.2909,
          0.583,
          0.5758,
          0.732,
          0.6028,
          0.6839,
          0.6101,
          0.7252,
          0.6605,
          0.3631,
          0.4819,
          0.679,
          0.4436,
          0.314,
          0.6031,
          0.8933,
          0.7574,
          0.7427,
          0.2013,
          0.4301,
          0.3472,
          0.3,
          0.3147,
          0.4086,
          0.3227,
          0.1375,
          0.4098,
          0.2424,
          0.7257,
          0.2384,
          0.5344,
          0.4579,
          0.665,
          0.5097,
          0.5172,
          0.3523,
          0.7551,
          0.6813,
          0.6983,
          0.7245,
          0.4954,
          0.4312,
          0.9757,
          0.6514,
          0.5678,
          0.4623,
          0.2956,
          0.6825,
          0.685,
          0.2501,
          0.4002,
          0.7457,
          0.7999,
          0.7028,
          0.8034,
          0.752,
          0.611,
          0.5468,
          0.71,
          0.6951,
          0.3988,
          0.4901,
          0.3437,
          0.3617,
          0.6797,
          0.5032,
          0.2447,
          0.6453,
          0.5312,
          0.6507,
          0.3374,
          0.3516,
          0.208,
          0.7691,
          0.4259,
          0.3122,
          0.4614,
          0.3771,
          0.2414,
          0.7362,
          0.2662,
          0.5242,
          0.4095,
          0.8106,
          0.3801,
          0.3953,
          0.7964,
          0.4088,
          0.6255,
          0.7453,
          0.714,
          0.1996,
          0.8552,
          0.3827,
          0.5788,
          0.4889,
          0.4656,
          0.2984,
          0.844,
          0.7114,
          0.5417,
          0.8046,
          0.5286,
          0.8959,
          0.7035,
          0.777,
          0.3439,
          0.4609,
          0.403,
          0.6523,
          0.7665,
          0.8116,
          0.6526,
          0.2848,
          0.4845,
          0.573,
          0.3215,
          0.4354,
          0.4733,
          0.4158,
          0.3556,
          0.3014,
          0.3586,
          0.4193,
          0.2057,
          0.4831,
          0.4971,
          0.745,
          0.3392,
          0.4051,
          0.3927,
          0.2227,
          0.4492,
          0.3967,
          0.3918,
          0.5123,
          0.9498,
          0.4922,
          0.8492,
          0.5155,
          0.7894,
          0.3259,
          0.4289,
          0.6267,
          0.3808,
          0.5347,
          0.7504,
          0.4448,
          0.8039,
          0.2858,
          0.6521,
          0.686,
          0.4445,
          0.8816,
          0.9477,
          0.1714,
          0.8613,
          0.5099,
          0.6687,
          0.6141,
          0.2246,
          0.2725,
          0.5977,
          0.3346,
          0.6204,
          0.6264,
          0.2517,
          0.5816,
          0.7562,
          0.3773,
          0.3157,
          0.7822,
          0.7994,
          0.8966,
          0.5942,
          0.318,
          0.6638,
          0.4347,
          0.5909,
          0.643,
          0.5611,
          0.4322,
          0.1828,
          0.2578,
          0.7838,
          0.3474,
          0.3589,
          0.389,
          0.5064,
          0.4266,
          0.5807,
          0.541,
          0.647,
          0.5641,
          0.36,
          0.4903,
          0.6206,
          0.8538,
          0.6799,
          0.3962,
          0.7208,
          0.4681,
          0.3745,
          0.6701,
          0.59,
          0.5748,
          0.4284,
          0.7892,
          0.2386,
          0.3946,
          0.4305,
          0.4023,
          0.5265,
          0.4607,
          0.5118,
          0.7282,
          0.2459,
          0.8071,
          0.6671,
          0.2582,
          0.5295,
          0.435,
          0.4933,
          0.7754,
          0.2785,
          0.8781,
          0.3915,
          0.6057,
          0.2622,
          0.4011,
          0.3049,
          0.7826,
          0.2104,
          0.1819,
          0.6367,
          0.4728,
          0.5769,
          0.3213,
          0.6727,
          0.4464,
          0.6143,
          0.7067,
          0.5421,
          0.3047,
          0.4331,
          0.9092,
          0.8424,
          0.3435,
          0.3367,
          0.4203,
          0.3624,
          0.625,
          0.2293,
          0.3941,
          0.3764,
          0.8749,
          0.6313,
          0.7387,
          0.3418,
          0.6005,
          0.5622,
          0.5183,
          0.3101,
          0.6201,
          0.3234,
          0.407,
          0.3565,
          0.4856,
          0.8548,
          0.2083,
          0.7,
          0.8109,
          0.4032,
          0.3703,
          0.2603,
          0.6939,
          0.3936,
          0.3479,
          0.3621,
          0.3761,
          0.6318,
          0.5508,
          0.8426,
          0.3981,
          0.6822,
          0.4263,
          0.3283,
          0.4595,
          0.6355,
          0.7616,
          0.2755,
          0.2428,
          0.3243,
          0.883,
          0.6341,
          0.3196,
          0.3736,
          0.7212,
          0.838,
          0.9185,
          0.7488,
          0.5505,
          0.346,
          0.1805,
          0.8648,
          0.6348,
          0.4749,
          0.1989,
          0.3154,
          0.1772,
          0.2827,
          0.3175,
          0.3369,
          0.8004,
          0.9279,
          0.4775,
          0.6563,
          0.215,
          0.7583,
          0.7359,
          0.4403,
          0.5846,
          0.8447,
          0.9057,
          0.6668,
          0.4884,
          0.4658,
          0.3376,
          0.5618,
          0.749,
          0.6717,
          0.5062,
          0.8905,
          0.6113,
          0.4406,
          0.7411,
          0.353,
          0.7107,
          0.4558,
          0.4511,
          0.4546,
          0.3241,
          0.9157,
          0.3299,
          0.6138,
          0.8352,
          0.7548,
          0.417,
          0.8064,
          0.4165,
          0.2673,
          0.5629,
          0.3451,
          0.2339,
          0.4478,
          0.6769,
          0.4642,
          0.7037,
          0.4721,
          0.6292,
          0.2115,
          0.3164,
          0.526,
          0.4247,
          0.3343,
          0.3544,
          0.6187,
          0.7752,
          0.7945,
          0.6498,
          0.4207,
          0.626,
          0.8618,
          0.4462,
          0.7373,
          0.3666,
          0.6967,
          0.4931,
          0.7194,
          0.6827,
          0.5515,
          0.6362,
          0.6262,
          0.7278,
          0.1884,
          0.4758,
          0.4457,
          0.6862,
          0.4842,
          0.7803,
          0.5837,
          0.434,
          0.6829,
          0.6306,
          0.4779,
          0.279,
          0.7929,
          0.4238,
          0.9106,
          0.7303,
          0.3983,
          0.5664,
          0.4254,
          0.5874,
          0.3182,
          0.2202,
          0.7464,
          0.6358,
          0.5414,
          0.6584,
          0.5646,
          0.2652,
          0.7633,
          0.8373,
          0.6724,
          0.8163,
          0.5284,
          0.5386,
          0.3278,
          0.3908,
          0.2692,
          0.612,
          0.2297,
          0.282,
          0.9479,
          0.7334,
          0.5998,
          0.8657,
          0.3743,
          0.534,
          0.438,
          0.7525,
          0.8258,
          0.2746,
          0.466,
          0.5235,
          0.566,
          0.2356,
          0.3257,
          0.5113,
          0.4793,
          0.5039,
          0.7002,
          0.2316,
          0.5667,
          0.5512,
          0.4319,
          0.4569,
          0.3493,
          0.4151,
          0.4513,
          0.2699,
          0.2094,
          0.6778,
          0.7289,
          0.6878,
          0.8585,
          0.4427,
          0.7079,
          0.8361,
          0.301,
          0.3729,
          0.3089,
          0.8912,
          0.8664,
          0.7149,
          0.4021,
          0.3126,
          0.3789,
          0.237,
          0.6551,
          0.3491,
          0.481,
          0.8256,
          0.5167,
          0.6622,
          0.6535,
          0.2071,
          0.6458,
          0.2454,
          0.2164,
          0.5751,
          0.498,
          0.4014,
          0.7184,
          0.555,
          0.93,
          0.1515,
          0.7889,
          0.4392,
          0.653,
          0.7173,
          0.6748,
          0.6972,
          0.3684,
          0.6537,
          0.4357,
          0.2916,
          0.268,
          0.5552,
          0.3371,
          0.3813,
          0.6369,
          0.3138,
          0.8011,
          0.7675,
          0.2781,
          0.2986,
          0.406,
          0.5951,
          0.456,
          0.2989,
          0.3364,
          0.2834,
          0.6808,
          0.707,
          0.5697,
          0.5781,
          0.2811,
          0.4123,
          0.2905,
          0.7721,
          0.6953,
          0.3399,
          0.8296,
          0.7401,
          0.5671,
          0.8863,
          0.5125,
          0.3705,
          0.4506,
          0.6594,
          0.4497,
          0.3271,
          0.1669,
          0.2473,
          0.4768,
          0.798,
          0.608,
          0.1261,
          0.5711,
          0.7187,
          0.2438,
          0.6299,
          0.4875,
          0.4859,
          0.2839,
          0.3689,
          0.6713,
          0.487,
          0.83,
          0.5592,
          0.8083,
          0.7712,
          0.3948,
          0.3722,
          0.4473,
          0.7541,
          0.8377,
          0.699,
          0.5095,
          0.7243,
          0.8767,
          0.6288,
          0.5477,
          0.8202,
          0.6577,
          0.6192,
          0.6449,
          0.2869,
          0.6047,
          0.5148,
          0.325,
          0.8013,
          0.5244,
          0.7233,
          0.3402,
          0.735,
          0.5368,
          0.5225,
          0.3357,
          0.5193,
          0.9075,
          0.6021,
          0.8924,
          0.8784,
          0.5604,
          0.5524,
          0.4719,
          0.8704,
          0.2883,
          0.7593,
          0.618,
          0.7948,
          0.1837,
          0.5382,
          0.7511,
          0.5615,
          0.636,
          0.6171,
          0.3119,
          0.4035,
          0.4308,
          0.8097,
          0.5127,
          0.7074,
          0.6633,
          0.7808,
          0.5029,
          0.6558,
          0.8896,
          0.42,
          0.7044,
          0.2704,
          0.8975,
          0.8317,
          0.4343,
          0.865,
          0.6986,
          0.4224,
          0.236,
          0.368,
          0.4744,
          0.9047,
          0.7852,
          0.4621,
          0.6302,
          0.3535,
          0.9407,
          0.5648,
          0.4184,
          0.4483,
          0.7497,
          0.7537,
          0.6703,
          0.5146,
          0.5288,
          0.7084,
          0.343,
          0.6218,
          0.4894,
          0.5165,
          0.3979,
          0.6794,
          0.558,
          0.332,
          0.8331,
          0.5779,
          0.4114,
          0.8345,
          0.2792,
          0.2311,
          0.4828,
          0.3892,
          0.6923,
          0.3091,
          0.7105,
          0.8823,
          0.3934,
          0.4443,
          0.3904,
          0.2379,
          0.6869,
          0.2449,
          0.2435,
          0.226,
          0.2669,
          0.6643,
          0.1644,
          0.5583,
          0.5305,
          0.7177,
          0.8994,
          0.6897,
          0.442,
          0.4352,
          0.2585,
          0.3542,
          0.4287,
          0.3593,
          0.8791,
          0.5379,
          0.382,
          0.7222,
          0.6271,
          0.1856,
          0.4525,
          0.6706,
          0.9428,
          0.7429,
          0.6169,
          0.293,
          0.354,
          0.4401,
          0.5106,
          0.7983,
          0.7506,
          0.897,
          0.2003,
          0.6442,
          0.4637,
          0.3297,
          0.2573,
          0.2209,
          0.2566,
          0.9145,
          0.4978,
          0.3528,
          0.8562,
          0.3572,
          0.7215,
          0.4252,
          0.3276,
          0.4632,
          0.3185,
          0.3264,
          0.6229,
          0.5828,
          0.7364,
          0.9216,
          0.8891,
          0.6243,
          0.4235,
          0.5979,
          0.8683,
          0.3017,
          0.9099,
          0.3864,
          0.7572,
          0.3334,
          0.2599,
          0.6409,
          0.4459,
          0.805,
          0.8737,
          0.2914,
          0.5786,
          0.7614,
          0.6332,
          0.8431,
          0.4261,
          0.6103,
          0.3768,
          0.3385,
          0.5706,
          0.4653,
          0.8419,
          0.9045,
          0.6934,
          0.4926,
          0.7787,
          0.5865,
          0.5823,
          0.2912,
          0.5587,
          0.9101,
          0.3383,
          0.3054,
          0.788,
          0.294,
          0.7091,
          0.5949,
          0.5923,
          0.336,
          0.7271,
          0.9082,
          0.6544,
          0.2968,
          0.322,
          0.5795,
          0.3098,
          0.3033,
          0.5958,
          0.5842,
          0.4336,
          0.4555,
          0.3754,
          0.5926,
          0.2645,
          0.4488,
          0.4548,
          0.6082,
          0.4707,
          0.6806,
          0.7205,
          0.8132,
          0.421,
          0.7588,
          0.2571,
          0.2477,
          0.3878,
          0.4959,
          0.7443,
          0.7831,
          0.5249,
          0.8165,
          0.4982,
          0.7025,
          0.7485,
          0.6374,
          0.7726,
          0.6694,
          0.4814,
          0.4847,
          0.6162,
          0.5737,
          0.7011,
          0.759,
          0.8788,
          0.5571,
          0.841,
          0.7915,
          0.2648,
          0.2265,
          0.6337,
          0.696,
          0.4189,
          0.4824,
          0.4399,
          0.2601,
          0.5501,
          0.8067,
          0.7004,
          0.5088,
          0.7532,
          0.693,
          0.4672,
          0.5321,
          0.7483,
          0.5676,
          0.2683,
          0.7425,
          0.0542,
          0.6916,
          0.4273,
          0.3024,
          0.8384,
          0.7717,
          0.2627,
          0.2251,
          0.4852,
          0.7647,
          0.837,
          0.6696,
          0.4812,
          0.4784,
          0.7397,
          0.5613,
          0.572,
          0.2269,
          0.8716,
          0.6871,
          0.7292,
          0.5774,
          0.6425,
          0.7775,
          0.5496,
          0.6678,
          0.1742,
          0.5158,
          0.3096,
          0.4079,
          0.3432,
          0.2951,
          0.2636,
          0.6423,
          0.7773,
          0.9071
         ],
         "y": [
          10454,
          855,
          451,
          428,
          420,
          336,
          317,
          309,
          253,
          215,
          207,
          206,
          199,
          191,
          179,
          164,
          161,
          157,
          143,
          140,
          130,
          127,
          122,
          112,
          111,
          109,
          106,
          99,
          95,
          91,
          83,
          75,
          73,
          72,
          72,
          70,
          67,
          67,
          67,
          65,
          64,
          61,
          59,
          55,
          54,
          53,
          52,
          49,
          48,
          47,
          47,
          44,
          44,
          43,
          42,
          40,
          39,
          38,
          38,
          37,
          37,
          37,
          36,
          35,
          35,
          35,
          35,
          35,
          34,
          33,
          33,
          33,
          33,
          31,
          30,
          29,
          29,
          28,
          28,
          28,
          28,
          27,
          26,
          26,
          25,
          25,
          25,
          25,
          24,
          24,
          24,
          24,
          23,
          22,
          22,
          22,
          22,
          22,
          21,
          21,
          21,
          20,
          20,
          20,
          20,
          20,
          19,
          19,
          19,
          19,
          18,
          18,
          18,
          18,
          17,
          17,
          17,
          16,
          16,
          16,
          16,
          16,
          16,
          15,
          15,
          15,
          15,
          15,
          15,
          15,
          15,
          14,
          14,
          14,
          14,
          14,
          14,
          14,
          14,
          14,
          14,
          14,
          14,
          14,
          14,
          13,
          13,
          13,
          13,
          13,
          13,
          13,
          13,
          13,
          13,
          13,
          13,
          13,
          12,
          12,
          12,
          12,
          12,
          12,
          12,
          12,
          12,
          12,
          12,
          12,
          11,
          11,
          11,
          11,
          11,
          11,
          11,
          11,
          11,
          11,
          11,
          11,
          11,
          11,
          11,
          11,
          11,
          10,
          10,
          10,
          10,
          10,
          10,
          10,
          10,
          10,
          10,
          10,
          10,
          10,
          10,
          10,
          10,
          10,
          10,
          10,
          10,
          9,
          9,
          9,
          9,
          9,
          9,
          9,
          9,
          9,
          9,
          9,
          9,
          9,
          9,
          9,
          9,
          8,
          8,
          8,
          8,
          8,
          8,
          8,
          8,
          8,
          8,
          8,
          8,
          8,
          8,
          8,
          8,
          8,
          8,
          7,
          7,
          7,
          7,
          7,
          7,
          7,
          7,
          7,
          7,
          7,
          7,
          7,
          7,
          7,
          7,
          7,
          7,
          7,
          7,
          7,
          7,
          7,
          7,
          7,
          7,
          7,
          7,
          7,
          7,
          7,
          7,
          7,
          7,
          7,
          7,
          7,
          7,
          7,
          7,
          6,
          6,
          6,
          6,
          6,
          6,
          6,
          6,
          6,
          6,
          6,
          6,
          6,
          6,
          6,
          6,
          6,
          6,
          6,
          6,
          6,
          6,
          6,
          6,
          6,
          6,
          6,
          6,
          6,
          6,
          6,
          6,
          5,
          5,
          5,
          5,
          5,
          5,
          5,
          5,
          5,
          5,
          5,
          5,
          5,
          5,
          5,
          5,
          5,
          5,
          5,
          5,
          5,
          5,
          5,
          5,
          5,
          5,
          5,
          5,
          5,
          5,
          5,
          5,
          5,
          5,
          5,
          5,
          5,
          5,
          5,
          5,
          5,
          5,
          5,
          5,
          5,
          5,
          5,
          5,
          5,
          5,
          5,
          5,
          5,
          5,
          5,
          5,
          5,
          5,
          4,
          4,
          4,
          4,
          4,
          4,
          4,
          4,
          4,
          4,
          4,
          4,
          4,
          4,
          4,
          4,
          4,
          4,
          4,
          4,
          4,
          4,
          4,
          4,
          4,
          4,
          4,
          4,
          4,
          4,
          4,
          4,
          4,
          4,
          4,
          4,
          4,
          4,
          4,
          4,
          4,
          4,
          4,
          4,
          4,
          4,
          4,
          4,
          4,
          4,
          4,
          4,
          4,
          4,
          4,
          4,
          4,
          4,
          4,
          4,
          4,
          4,
          4,
          4,
          4,
          4,
          4,
          4,
          4,
          4,
          4,
          4,
          4,
          4,
          4,
          4,
          4,
          4,
          4,
          4,
          4,
          4,
          4,
          4,
          4,
          4,
          4,
          4,
          4,
          4,
          4,
          4,
          4,
          4,
          4,
          4,
          4,
          4,
          4,
          3,
          3,
          3,
          3,
          3,
          3,
          3,
          3,
          3,
          3,
          3,
          3,
          3,
          3,
          3,
          3,
          3,
          3,
          3,
          3,
          3,
          3,
          3,
          3,
          3,
          3,
          3,
          3,
          3,
          3,
          3,
          3,
          3,
          3,
          3,
          3,
          3,
          3,
          3,
          3,
          3,
          3,
          3,
          3,
          3,
          3,
          3,
          3,
          3,
          3,
          3,
          3,
          3,
          3,
          3,
          3,
          3,
          3,
          3,
          3,
          3,
          3,
          3,
          3,
          3,
          3,
          3,
          3,
          3,
          3,
          3,
          3,
          3,
          3,
          3,
          3,
          3,
          3,
          3,
          3,
          3,
          3,
          3,
          3,
          3,
          3,
          3,
          3,
          3,
          3,
          3,
          3,
          3,
          3,
          3,
          3,
          3,
          3,
          3,
          3,
          3,
          3,
          3,
          3,
          3,
          3,
          3,
          3,
          3,
          3,
          3,
          3,
          3,
          3,
          3,
          3,
          3,
          3,
          3,
          3,
          3,
          3,
          3,
          3,
          3,
          3,
          3,
          3,
          3,
          3,
          3,
          3,
          3,
          3,
          3,
          3,
          3,
          3,
          3,
          3,
          3,
          3,
          3,
          2,
          2,
          2,
          2,
          2,
          2,
          2,
          2,
          2,
          2,
          2,
          2,
          2,
          2,
          2,
          2,
          2,
          2,
          2,
          2,
          2,
          2,
          2,
          2,
          2,
          2,
          2,
          2,
          2,
          2,
          2,
          2,
          2,
          2,
          2,
          2,
          2,
          2,
          2,
          2,
          2,
          2,
          2,
          2,
          2,
          2,
          2,
          2,
          2,
          2,
          2,
          2,
          2,
          2,
          2,
          2,
          2,
          2,
          2,
          2,
          2,
          2,
          2,
          2,
          2,
          2,
          2,
          2,
          2,
          2,
          2,
          2,
          2,
          2,
          2,
          2,
          2,
          2,
          2,
          2,
          2,
          2,
          2,
          2,
          2,
          2,
          2,
          2,
          2,
          2,
          2,
          2,
          2,
          2,
          2,
          2,
          2,
          2,
          2,
          2,
          2,
          2,
          2,
          2,
          2,
          2,
          2,
          2,
          2,
          2,
          2,
          2,
          2,
          2,
          2,
          2,
          2,
          2,
          2,
          2,
          2,
          2,
          2,
          2,
          2,
          2,
          2,
          2,
          2,
          2,
          2,
          2,
          2,
          2,
          2,
          2,
          2,
          2,
          2,
          2,
          2,
          2,
          2,
          2,
          2,
          2,
          2,
          2,
          2,
          2,
          2,
          2,
          2,
          2,
          2,
          2,
          2,
          2,
          2,
          2,
          2,
          2,
          2,
          2,
          2,
          2,
          2,
          2,
          2,
          2,
          2,
          2,
          2,
          2,
          2,
          2,
          2,
          2,
          2,
          2,
          2,
          2,
          2,
          2,
          2,
          2,
          2,
          2,
          2,
          2,
          2,
          2,
          2,
          2,
          2,
          2,
          2,
          2,
          2,
          2,
          2,
          2,
          2,
          2,
          2,
          2,
          2,
          2,
          2,
          2,
          2,
          2,
          2,
          2,
          2,
          2,
          2,
          2,
          2,
          2,
          2,
          1,
          1,
          1,
          1,
          1,
          1,
          1,
          1,
          1,
          1,
          1,
          1,
          1,
          1,
          1,
          1,
          1,
          1,
          1,
          1,
          1,
          1,
          1,
          1,
          1,
          1,
          1,
          1,
          1,
          1,
          1,
          1,
          1,
          1,
          1,
          1,
          1,
          1,
          1,
          1,
          1,
          1,
          1,
          1,
          1,
          1,
          1,
          1,
          1,
          1,
          1,
          1,
          1,
          1,
          1,
          1,
          1,
          1,
          1,
          1,
          1,
          1,
          1,
          1,
          1,
          1,
          1,
          1,
          1,
          1,
          1,
          1,
          1,
          1,
          1,
          1,
          1,
          1,
          1,
          1,
          1,
          1,
          1,
          1,
          1,
          1,
          1,
          1,
          1,
          1,
          1,
          1,
          1,
          1,
          1,
          1,
          1,
          1,
          1,
          1,
          1,
          1,
          1,
          1,
          1,
          1,
          1,
          1,
          1,
          1,
          1,
          1,
          1,
          1,
          1,
          1,
          1,
          1,
          1,
          1,
          1,
          1,
          1,
          1,
          1,
          1,
          1,
          1,
          1,
          1,
          1,
          1,
          1,
          1,
          1,
          1,
          1,
          1,
          1,
          1,
          1,
          1,
          1,
          1,
          1,
          1,
          1,
          1,
          1,
          1,
          1,
          1,
          1,
          1,
          1,
          1,
          1,
          1,
          1,
          1,
          1,
          1,
          1,
          1,
          1,
          1,
          1,
          1,
          1,
          1,
          1,
          1,
          1,
          1,
          1,
          1,
          1,
          1,
          1,
          1,
          1,
          1,
          1,
          1,
          1,
          1,
          1,
          1,
          1,
          1,
          1,
          1,
          1,
          1,
          1,
          1,
          1,
          1,
          1,
          1,
          1,
          1,
          1,
          1,
          1,
          1,
          1,
          1,
          1,
          1,
          1,
          1,
          1,
          1,
          1,
          1,
          1,
          1,
          1,
          1,
          1,
          1,
          1,
          1,
          1,
          1,
          1,
          1,
          1,
          1,
          1,
          1,
          1,
          1,
          1,
          1,
          1,
          1,
          1,
          1,
          1,
          1,
          1,
          1,
          1,
          1,
          1,
          1,
          1,
          1,
          1,
          1,
          1,
          1,
          1,
          1,
          1,
          1,
          1,
          1,
          1,
          1,
          1,
          1,
          1,
          1,
          1,
          1,
          1,
          1,
          1,
          1,
          1,
          1,
          1,
          1,
          1,
          1,
          1,
          1,
          1,
          1,
          1,
          1,
          1,
          1,
          1,
          1,
          1,
          1,
          1,
          1,
          1,
          1,
          1,
          1,
          1,
          1,
          1,
          1,
          1,
          1,
          1,
          1,
          1,
          1,
          1,
          1,
          1,
          1,
          1,
          1,
          1,
          1,
          1,
          1,
          1,
          1,
          1,
          1,
          1,
          1,
          1,
          1,
          1,
          1,
          1,
          1,
          1,
          1,
          1,
          1,
          1,
          1,
          1,
          1,
          1,
          1,
          1,
          1,
          1,
          1,
          1,
          1,
          1,
          1,
          1,
          1,
          1,
          1,
          1,
          1,
          1,
          1,
          1,
          1,
          1,
          1,
          1,
          1,
          1,
          1,
          1,
          1,
          1,
          1,
          1,
          1,
          1,
          1,
          1,
          1,
          1,
          1,
          1,
          1,
          1,
          1,
          1,
          1,
          1,
          1,
          1,
          1,
          1,
          1,
          1,
          1,
          1,
          1,
          1,
          1,
          1,
          1,
          1,
          1,
          1,
          1,
          1,
          1,
          1,
          1,
          1,
          1,
          1,
          1,
          1,
          1,
          1,
          1,
          1,
          1,
          1,
          1,
          1,
          1,
          1,
          1,
          1,
          1,
          1,
          1,
          1,
          1,
          1,
          1,
          1,
          1,
          1,
          1,
          1,
          1,
          1,
          1,
          1,
          1,
          1,
          1,
          1,
          1,
          1,
          1,
          1,
          1,
          1,
          1,
          1,
          1,
          1,
          1,
          1,
          1,
          1,
          1,
          1,
          1,
          1,
          1,
          1,
          1,
          1,
          1,
          1,
          1,
          1,
          1,
          1
         ]
        }
       ],
       "layout": {
        "legend": {
         "title": {
          "text": "CS label"
         }
        },
        "template": {
         "data": {
          "bar": [
           {
            "error_x": {
             "color": "#2a3f5f"
            },
            "error_y": {
             "color": "#2a3f5f"
            },
            "marker": {
             "line": {
              "color": "#E5ECF6",
              "width": 0.5
             },
             "pattern": {
              "fillmode": "overlay",
              "size": 10,
              "solidity": 0.2
             }
            },
            "type": "bar"
           }
          ],
          "barpolar": [
           {
            "marker": {
             "line": {
              "color": "#E5ECF6",
              "width": 0.5
             },
             "pattern": {
              "fillmode": "overlay",
              "size": 10,
              "solidity": 0.2
             }
            },
            "type": "barpolar"
           }
          ],
          "carpet": [
           {
            "aaxis": {
             "endlinecolor": "#2a3f5f",
             "gridcolor": "white",
             "linecolor": "white",
             "minorgridcolor": "white",
             "startlinecolor": "#2a3f5f"
            },
            "baxis": {
             "endlinecolor": "#2a3f5f",
             "gridcolor": "white",
             "linecolor": "white",
             "minorgridcolor": "white",
             "startlinecolor": "#2a3f5f"
            },
            "type": "carpet"
           }
          ],
          "choropleth": [
           {
            "colorbar": {
             "outlinewidth": 0,
             "ticks": ""
            },
            "type": "choropleth"
           }
          ],
          "contour": [
           {
            "colorbar": {
             "outlinewidth": 0,
             "ticks": ""
            },
            "colorscale": [
             [
              0,
              "#0d0887"
             ],
             [
              0.1111111111111111,
              "#46039f"
             ],
             [
              0.2222222222222222,
              "#7201a8"
             ],
             [
              0.3333333333333333,
              "#9c179e"
             ],
             [
              0.4444444444444444,
              "#bd3786"
             ],
             [
              0.5555555555555556,
              "#d8576b"
             ],
             [
              0.6666666666666666,
              "#ed7953"
             ],
             [
              0.7777777777777778,
              "#fb9f3a"
             ],
             [
              0.8888888888888888,
              "#fdca26"
             ],
             [
              1,
              "#f0f921"
             ]
            ],
            "type": "contour"
           }
          ],
          "contourcarpet": [
           {
            "colorbar": {
             "outlinewidth": 0,
             "ticks": ""
            },
            "type": "contourcarpet"
           }
          ],
          "heatmap": [
           {
            "colorbar": {
             "outlinewidth": 0,
             "ticks": ""
            },
            "colorscale": [
             [
              0,
              "#0d0887"
             ],
             [
              0.1111111111111111,
              "#46039f"
             ],
             [
              0.2222222222222222,
              "#7201a8"
             ],
             [
              0.3333333333333333,
              "#9c179e"
             ],
             [
              0.4444444444444444,
              "#bd3786"
             ],
             [
              0.5555555555555556,
              "#d8576b"
             ],
             [
              0.6666666666666666,
              "#ed7953"
             ],
             [
              0.7777777777777778,
              "#fb9f3a"
             ],
             [
              0.8888888888888888,
              "#fdca26"
             ],
             [
              1,
              "#f0f921"
             ]
            ],
            "type": "heatmap"
           }
          ],
          "heatmapgl": [
           {
            "colorbar": {
             "outlinewidth": 0,
             "ticks": ""
            },
            "colorscale": [
             [
              0,
              "#0d0887"
             ],
             [
              0.1111111111111111,
              "#46039f"
             ],
             [
              0.2222222222222222,
              "#7201a8"
             ],
             [
              0.3333333333333333,
              "#9c179e"
             ],
             [
              0.4444444444444444,
              "#bd3786"
             ],
             [
              0.5555555555555556,
              "#d8576b"
             ],
             [
              0.6666666666666666,
              "#ed7953"
             ],
             [
              0.7777777777777778,
              "#fb9f3a"
             ],
             [
              0.8888888888888888,
              "#fdca26"
             ],
             [
              1,
              "#f0f921"
             ]
            ],
            "type": "heatmapgl"
           }
          ],
          "histogram": [
           {
            "marker": {
             "pattern": {
              "fillmode": "overlay",
              "size": 10,
              "solidity": 0.2
             }
            },
            "type": "histogram"
           }
          ],
          "histogram2d": [
           {
            "colorbar": {
             "outlinewidth": 0,
             "ticks": ""
            },
            "colorscale": [
             [
              0,
              "#0d0887"
             ],
             [
              0.1111111111111111,
              "#46039f"
             ],
             [
              0.2222222222222222,
              "#7201a8"
             ],
             [
              0.3333333333333333,
              "#9c179e"
             ],
             [
              0.4444444444444444,
              "#bd3786"
             ],
             [
              0.5555555555555556,
              "#d8576b"
             ],
             [
              0.6666666666666666,
              "#ed7953"
             ],
             [
              0.7777777777777778,
              "#fb9f3a"
             ],
             [
              0.8888888888888888,
              "#fdca26"
             ],
             [
              1,
              "#f0f921"
             ]
            ],
            "type": "histogram2d"
           }
          ],
          "histogram2dcontour": [
           {
            "colorbar": {
             "outlinewidth": 0,
             "ticks": ""
            },
            "colorscale": [
             [
              0,
              "#0d0887"
             ],
             [
              0.1111111111111111,
              "#46039f"
             ],
             [
              0.2222222222222222,
              "#7201a8"
             ],
             [
              0.3333333333333333,
              "#9c179e"
             ],
             [
              0.4444444444444444,
              "#bd3786"
             ],
             [
              0.5555555555555556,
              "#d8576b"
             ],
             [
              0.6666666666666666,
              "#ed7953"
             ],
             [
              0.7777777777777778,
              "#fb9f3a"
             ],
             [
              0.8888888888888888,
              "#fdca26"
             ],
             [
              1,
              "#f0f921"
             ]
            ],
            "type": "histogram2dcontour"
           }
          ],
          "mesh3d": [
           {
            "colorbar": {
             "outlinewidth": 0,
             "ticks": ""
            },
            "type": "mesh3d"
           }
          ],
          "parcoords": [
           {
            "line": {
             "colorbar": {
              "outlinewidth": 0,
              "ticks": ""
             }
            },
            "type": "parcoords"
           }
          ],
          "pie": [
           {
            "automargin": true,
            "type": "pie"
           }
          ],
          "scatter": [
           {
            "fillpattern": {
             "fillmode": "overlay",
             "size": 10,
             "solidity": 0.2
            },
            "type": "scatter"
           }
          ],
          "scatter3d": [
           {
            "line": {
             "colorbar": {
              "outlinewidth": 0,
              "ticks": ""
             }
            },
            "marker": {
             "colorbar": {
              "outlinewidth": 0,
              "ticks": ""
             }
            },
            "type": "scatter3d"
           }
          ],
          "scattercarpet": [
           {
            "marker": {
             "colorbar": {
              "outlinewidth": 0,
              "ticks": ""
             }
            },
            "type": "scattercarpet"
           }
          ],
          "scattergeo": [
           {
            "marker": {
             "colorbar": {
              "outlinewidth": 0,
              "ticks": ""
             }
            },
            "type": "scattergeo"
           }
          ],
          "scattergl": [
           {
            "marker": {
             "colorbar": {
              "outlinewidth": 0,
              "ticks": ""
             }
            },
            "type": "scattergl"
           }
          ],
          "scattermapbox": [
           {
            "marker": {
             "colorbar": {
              "outlinewidth": 0,
              "ticks": ""
             }
            },
            "type": "scattermapbox"
           }
          ],
          "scatterpolar": [
           {
            "marker": {
             "colorbar": {
              "outlinewidth": 0,
              "ticks": ""
             }
            },
            "type": "scatterpolar"
           }
          ],
          "scatterpolargl": [
           {
            "marker": {
             "colorbar": {
              "outlinewidth": 0,
              "ticks": ""
             }
            },
            "type": "scatterpolargl"
           }
          ],
          "scatterternary": [
           {
            "marker": {
             "colorbar": {
              "outlinewidth": 0,
              "ticks": ""
             }
            },
            "type": "scatterternary"
           }
          ],
          "surface": [
           {
            "colorbar": {
             "outlinewidth": 0,
             "ticks": ""
            },
            "colorscale": [
             [
              0,
              "#0d0887"
             ],
             [
              0.1111111111111111,
              "#46039f"
             ],
             [
              0.2222222222222222,
              "#7201a8"
             ],
             [
              0.3333333333333333,
              "#9c179e"
             ],
             [
              0.4444444444444444,
              "#bd3786"
             ],
             [
              0.5555555555555556,
              "#d8576b"
             ],
             [
              0.6666666666666666,
              "#ed7953"
             ],
             [
              0.7777777777777778,
              "#fb9f3a"
             ],
             [
              0.8888888888888888,
              "#fdca26"
             ],
             [
              1,
              "#f0f921"
             ]
            ],
            "type": "surface"
           }
          ],
          "table": [
           {
            "cells": {
             "fill": {
              "color": "#EBF0F8"
             },
             "line": {
              "color": "white"
             }
            },
            "header": {
             "fill": {
              "color": "#C8D4E3"
             },
             "line": {
              "color": "white"
             }
            },
            "type": "table"
           }
          ]
         },
         "layout": {
          "annotationdefaults": {
           "arrowcolor": "#2a3f5f",
           "arrowhead": 0,
           "arrowwidth": 1
          },
          "autotypenumbers": "strict",
          "coloraxis": {
           "colorbar": {
            "outlinewidth": 0,
            "ticks": ""
           }
          },
          "colorscale": {
           "diverging": [
            [
             0,
             "#8e0152"
            ],
            [
             0.1,
             "#c51b7d"
            ],
            [
             0.2,
             "#de77ae"
            ],
            [
             0.3,
             "#f1b6da"
            ],
            [
             0.4,
             "#fde0ef"
            ],
            [
             0.5,
             "#f7f7f7"
            ],
            [
             0.6,
             "#e6f5d0"
            ],
            [
             0.7,
             "#b8e186"
            ],
            [
             0.8,
             "#7fbc41"
            ],
            [
             0.9,
             "#4d9221"
            ],
            [
             1,
             "#276419"
            ]
           ],
           "sequential": [
            [
             0,
             "#0d0887"
            ],
            [
             0.1111111111111111,
             "#46039f"
            ],
            [
             0.2222222222222222,
             "#7201a8"
            ],
            [
             0.3333333333333333,
             "#9c179e"
            ],
            [
             0.4444444444444444,
             "#bd3786"
            ],
            [
             0.5555555555555556,
             "#d8576b"
            ],
            [
             0.6666666666666666,
             "#ed7953"
            ],
            [
             0.7777777777777778,
             "#fb9f3a"
            ],
            [
             0.8888888888888888,
             "#fdca26"
            ],
            [
             1,
             "#f0f921"
            ]
           ],
           "sequentialminus": [
            [
             0,
             "#0d0887"
            ],
            [
             0.1111111111111111,
             "#46039f"
            ],
            [
             0.2222222222222222,
             "#7201a8"
            ],
            [
             0.3333333333333333,
             "#9c179e"
            ],
            [
             0.4444444444444444,
             "#bd3786"
            ],
            [
             0.5555555555555556,
             "#d8576b"
            ],
            [
             0.6666666666666666,
             "#ed7953"
            ],
            [
             0.7777777777777778,
             "#fb9f3a"
            ],
            [
             0.8888888888888888,
             "#fdca26"
            ],
            [
             1,
             "#f0f921"
            ]
           ]
          },
          "colorway": [
           "#636efa",
           "#EF553B",
           "#00cc96",
           "#ab63fa",
           "#FFA15A",
           "#19d3f3",
           "#FF6692",
           "#B6E880",
           "#FF97FF",
           "#FECB52"
          ],
          "font": {
           "color": "#2a3f5f"
          },
          "geo": {
           "bgcolor": "white",
           "lakecolor": "white",
           "landcolor": "#E5ECF6",
           "showlakes": true,
           "showland": true,
           "subunitcolor": "white"
          },
          "hoverlabel": {
           "align": "left"
          },
          "hovermode": "closest",
          "mapbox": {
           "style": "light"
          },
          "paper_bgcolor": "white",
          "plot_bgcolor": "#E5ECF6",
          "polar": {
           "angularaxis": {
            "gridcolor": "white",
            "linecolor": "white",
            "ticks": ""
           },
           "bgcolor": "#E5ECF6",
           "radialaxis": {
            "gridcolor": "white",
            "linecolor": "white",
            "ticks": ""
           }
          },
          "scene": {
           "xaxis": {
            "backgroundcolor": "#E5ECF6",
            "gridcolor": "white",
            "gridwidth": 2,
            "linecolor": "white",
            "showbackground": true,
            "ticks": "",
            "zerolinecolor": "white"
           },
           "yaxis": {
            "backgroundcolor": "#E5ECF6",
            "gridcolor": "white",
            "gridwidth": 2,
            "linecolor": "white",
            "showbackground": true,
            "ticks": "",
            "zerolinecolor": "white"
           },
           "zaxis": {
            "backgroundcolor": "#E5ECF6",
            "gridcolor": "white",
            "gridwidth": 2,
            "linecolor": "white",
            "showbackground": true,
            "ticks": "",
            "zerolinecolor": "white"
           }
          },
          "shapedefaults": {
           "line": {
            "color": "#2a3f5f"
           }
          },
          "ternary": {
           "aaxis": {
            "gridcolor": "white",
            "linecolor": "white",
            "ticks": ""
           },
           "baxis": {
            "gridcolor": "white",
            "linecolor": "white",
            "ticks": ""
           },
           "bgcolor": "#E5ECF6",
           "caxis": {
            "gridcolor": "white",
            "linecolor": "white",
            "ticks": ""
           }
          },
          "title": {
           "x": 0.05
          },
          "xaxis": {
           "automargin": true,
           "gridcolor": "white",
           "linecolor": "white",
           "ticks": "",
           "title": {
            "standoff": 15
           },
           "zerolinecolor": "white",
           "zerolinewidth": 2
          },
          "yaxis": {
           "automargin": true,
           "gridcolor": "white",
           "linecolor": "white",
           "ticks": "",
           "title": {
            "standoff": 15
           },
           "zerolinecolor": "white",
           "zerolinewidth": 2
          }
         }
        },
        "title": {
         "text": "cognatehood_3"
        },
        "xaxis": {
         "title": {
          "text": "cognatehood_3 score"
         }
        },
        "yaxis": {
         "title": {
          "text": "count"
         }
        }
       }
      },
      "text/html": [
       "<div>                            <div id=\"b4d46e12-63b8-4991-a51c-4fdc277644b8\" class=\"plotly-graph-div\" style=\"height:525px; width:100%;\"></div>            <script type=\"text/javascript\">                require([\"plotly\"], function(Plotly) {                    window.PLOTLYENV=window.PLOTLYENV || {};                                    if (document.getElementById(\"b4d46e12-63b8-4991-a51c-4fdc277644b8\")) {                    Plotly.newPlot(                        \"b4d46e12-63b8-4991-a51c-4fdc277644b8\",                        [{\"mode\":\"markers\",\"name\":\"1\",\"opacity\":1,\"x\":[0.0,0.54,0.3304,0.3362,0.4105,0.4504,0.4219,0.4056,0.255,0.347,0.3152,0.3059,0.473,0.4466,0.3236,0.4551,0.3726,0.3976,0.4712,0.5197,0.3584,0.4091,0.3612,0.328,0.2886,0.5447,0.3899,0.2907,0.3117,0.4,0.3663,0.2643,0.4723,0.4791,0.2396,0.3656,0.374,0.3444,0.3866,0.3318,0.2928,0.4646,0.4499,0.2351,0.2998,0.4119,0.2813,0.6647,0.4705,0.6145,0.2706,0.8039,0.5445,0.5025,0.3054,0.4796,0.5534,0.3565,0.2879,0.6085,0.2608,0.6507,0.4126,0.4737,0.3336,0.5316,0.3526,0.431,0.2564,0.222,0.3731,0.6528,0.4807,0.4919,0.6141,0.3397,0.6967,0.3327,0.6997,0.4366,0.3505,0.5179,0.7581,0.5414,0.3642,0.7693,0.2204,0.3301,0.4065,0.512,0.6638,0.4387,0.449,0.586,0.8482,0.3869,0.7703,0.6253,0.233,0.2881,0.3306,0.315,0.5487,0.286,0.2239,0.3395,0.2949,0.6619,0.2622,0.579,0.3294,0.4728,0.2452,0.6028,0.2174,0.3624,0.6792,0.2671,0.3222,0.1445,0.2722,0.5484,0.2232,0.3997,0.9103,0.474,0.3449,0.5391,0.8447,0.4046,0.7299,0.3801,0.3579,0.2954,0.3796,0.5837,0.2697,0.3243,0.3322,0.6862,0.3773,0.5902,0.3822,0.2295,0.8284,0.3901,0.8191,0.7875,0.7338,0.4894,0.3502,0.399,0.325,0.3147,0.3241,0.8816,0.4228,0.5839,0.3596,0.2855,0.665,0.4772,0.6215,0.3953,0.4263,0.4053,0.4434,0.7768,0.3346,0.5067,0.8844,0.6498,0.3747,0.2975,0.7336,0.4429,0.3311,0.4845,0.4758,0.5482,0.4502,0.6827,0.2431,0.4677,0.3568,0.544,0.3399,0.3089,0.3619,0.7794,0.5363,0.2013,0.4639,0.3514,0.5473,0.4527,0.4471,0.3729,0.696,0.5991,0.2785,0.5258,0.2942,0.2171,0.5942,0.279,0.5923,0.3715,0.7243,0.6888,0.629,0.7257,0.3227,0.2202,0.3824,0.3754,0.3472,0.427,0.6211,0.5884,0.4368,0.2183,0.3325,0.3353,0.8106,0.5867,0.9757,0.5968,0.7,0.2213,0.728,0.7829,0.3341,0.3453,0.527,0.3446,0.7864,0.7282,0.3586,0.5676,0.357,0.2895,0.3418,0.5713,0.8226,0.3178,0.3556,0.3402,0.2771,0.8753,0.8697,0.5032,0.6227,0.7682,0.6187,0.3876,0.5172,0.3329,0.5667,0.6717,0.6143,0.653,0.3607,0.4831,0.6591,0.2935,0.6706,0.5592,0.4579,0.3759,0.714,0.4256,0.3201,0.5671,0.3161,0.5279,0.979,0.4436,0.4971,0.8576,0.3264,0.3087,0.5309,0.5793,0.3512,0.3929,0.4266,0.5085,0.883,0.682,0.2501,0.4534,0.6257,0.7152,0.4658,0.5578,0.4217,0.2459,0.6271,0.6986,0.4196,0.3941,0.2181,0.3572,0.5629,0.3696,0.3528,0.7927,0.3425,0.3308,0.6362,0.7488,0.3794,0.6409,0.3283,0.5286,0.2664,0.3638,0.2802,0.4039,0.8116,0.3808,0.3617,0.5739,0.6458,0.8531,0.6451,0.212,0.7999,0.6951,0.2713,0.7959,0.3126,0.8076,0.6895,0.509,0.6255,0.2715,0.3409,0.3224,0.626,0.5064,0.4028,0.7464,0.3981,0.6213,0.6755,0.5858,0.3806,0.3014,0.4485,0.4565,0.4959,0.3687,0.3255,0.4067,0.2575,0.6108,0.686,0.4642,0.2839,0.6449,0.7429,0.2781,0.2844,0.4691,0.5772,0.9092,0.5986,0.3838,0.8781,0.5538,0.3965,0.2036,0.5998,0.566,0.7546,0.3428,0.4282,0.9129,0.8492,0.4873,0.4406,0.7761,0.4604,0.5664,0.6909,0.8735,0.3682,0.4838,0.6269,0.3439,0.2136,0.777,0.3673,0.456,0.435,0.6675,0.6801,0.7712,0.6162,0.3343,0.2825,0.6673,0.407,0.7411,0.8067,0.7145,0.3883,0.5587,0.3827,0.6397,0.5118,0.4726,0.3887,0.5053,0.5312,0.6262,0.7124,0.625,0.4373,0.608,0.4259,0.3516,0.3498,0.2127,0.46,0.173,0.3456,0.6512,0.5797,0.6892,0.4116,0.466,0.1837,0.615,0.3495,0.6563,0.9185,0.8111,0.8648,0.2339,0.4842,0.6038,0.1314,0.4305,0.1805,0.6432,0.3948,0.1852,0.6472,0.8471,0.6743,0.732,0.5958,0.2666,0.5912,0.1709,0.6047,0.3486,0.7485,0.5029,0.2965,0.8784,0.3371,0.6584,0.4247,0.7541,0.5218,0.4856,0.2473,0.4803,0.643,0.6306,0.2414,0.5153,0.2916,0.749,0.5111,0.4135,0.452,0.742,0.7651,0.5074,0.2265,0.4252,0.6832,0.5328,0.5604,0.5505,0.6082,0.9297,0.4532,0.3154,0.2748,0.2741,0.7726,0.4077,0.3143,0.7696,0.329,0.7805,0.6948,0.2246,0.4819,0.5954,0.4079,0.7364,0.7254,0.2017,0.5246,0.3287,0.6407,0.4681,0.6654,0.7833,0.5816,0.3911,0.7215,0.1366,0.3378,0.5083,0.2164,0.6661,0.7588,0.9031,0.2398,0.7114,0.7427,0.3771,0.1114,0.6766,0.8814,0.5239,0.2753,0.5412,0.241,0.8704,0.7128,0.6159,0.382,0.6878,0.5594,0.3972,0.7217,0.3983,0.7906,0.3164,0.7511,0.3593,0.6292,0.7938,0.371,0.7252,0.2143,0.8879,0.7371,0.9057,0.3661,0.6274,0.5466,0.7329,0.2426,0.4985,0.5081,0.4775,0.6981,0.8473,0.6332,0.8373,0.7231,0.4749,0.5055,0.2379,0.3491,0.3939,0.4396,0.2746,0.6918,0.3507,0.2447,0.3864,0.5305,0.5144,0.5758,0.7212,0.3915,0.9307,0.4483,0.9379,0.5382,0.3082,0.5438,0.6612,0.3435,0.4359,0.314,0.3416,0.858,0.6953,0.8749,0.4086,0.5909,0.5494,0.6059,0.8896,0.2162,0.4826,0.6554,0.5356,0.6601,0.6678,0.3052,0.5695,0.7672,0.7644,0.1802,0.3119,0.6113,0.7208,0.3745,0.5265,0.7032,0.8464,0.4254,0.5127,0.4875,0.7028,0.6124,0.8317,0.248,0.3024,0.7915,0.5417,0.6794,0.8282,0.5027,0.421,0.8585,0.29,0.5139,0.5769,0.6899,0.2902,0.453,0.4462,0.6806,0.6341,0.2197,0.6288,0.3547,0.6944,0.3042,0.1268,0.7159,0.2115,0.7443,0.7945,0.4002,0.7387,0.8966,0.3313,0.4481,0.2363,0.6876,0.127,0.5214,0.1924,0.2687,0.5113,0.9115,0.2293,0.947,0.5678,0.336,0.484,0.8693,0.7037,0.294,0.6624,0.2503,0.459,0.4403,0.5702,0.3392,0.3969,0.3066,0.6682,0.6822,0.3738,0.3712,0.5781,0.4812,0.4698,0.7614,0.7067,0.6927,0.5342,0.4506,0.0864,0.2449,0.5809,0.3185,0.5251,0.5865,0.805,0.611,0.5433,0.9054,0.8933,0.4037,0.739,0.3815,0.3703,0.2979,0.3647,0.7004,0.6194,0.4095,0.4546,0.5933,0.692,0.4032,0.7663,0.2725,0.2718,0.3465,0.6365,0.4371,0.1781,0.4721,0.6521,0.2694,0.3633,0.3764,0.5711,0.1658,0.4922,0.4049,0.2519,0.5825,0.2991,0.6902,0.8001,0.7102,0.4968,0.5669,0.406,0.2764,0.3782,0.7189],\"y\":[1410,154,126,120,109,99,55,51,39,39,39,37,36,32,31,30,28,25,25,22,22,20,16,16,15,14,14,13,13,12,12,12,11,10,10,10,10,9,9,9,9,8,8,8,8,8,8,8,8,8,8,8,7,7,7,7,7,7,7,7,7,7,7,6,6,6,6,6,6,6,6,6,6,6,5,5,5,5,5,5,5,5,5,5,5,5,5,5,5,5,5,5,4,4,4,4,4,4,4,4,4,4,4,4,4,4,4,4,4,4,4,4,4,4,4,4,4,4,4,4,4,4,4,4,4,4,4,4,4,4,4,4,4,4,4,3,3,3,3,3,3,3,3,3,3,3,3,3,3,3,3,3,3,3,3,3,3,3,3,3,3,3,3,3,3,3,3,3,3,3,3,3,3,3,3,3,3,3,3,3,3,3,3,3,3,3,3,3,3,3,3,3,3,3,3,3,3,3,3,3,3,2,2,2,2,2,2,2,2,2,2,2,2,2,2,2,2,2,2,2,2,2,2,2,2,2,2,2,2,2,2,2,2,2,2,2,2,2,2,2,2,2,2,2,2,2,2,2,2,2,2,2,2,2,2,2,2,2,2,2,2,2,2,2,2,2,2,2,2,2,2,2,2,2,2,2,2,2,2,2,2,2,2,2,2,2,2,2,2,2,2,2,2,2,2,2,2,2,2,2,2,2,2,2,2,2,2,2,2,2,2,2,2,2,2,2,2,2,2,2,2,2,2,2,2,2,2,2,2,2,2,2,2,2,2,2,2,2,2,2,2,2,2,2,2,2,1,1,1,1,1,1,1,1,1,1,1,1,1,1,1,1,1,1,1,1,1,1,1,1,1,1,1,1,1,1,1,1,1,1,1,1,1,1,1,1,1,1,1,1,1,1,1,1,1,1,1,1,1,1,1,1,1,1,1,1,1,1,1,1,1,1,1,1,1,1,1,1,1,1,1,1,1,1,1,1,1,1,1,1,1,1,1,1,1,1,1,1,1,1,1,1,1,1,1,1,1,1,1,1,1,1,1,1,1,1,1,1,1,1,1,1,1,1,1,1,1,1,1,1,1,1,1,1,1,1,1,1,1,1,1,1,1,1,1,1,1,1,1,1,1,1,1,1,1,1,1,1,1,1,1,1,1,1,1,1,1,1,1,1,1,1,1,1,1,1,1,1,1,1,1,1,1,1,1,1,1,1,1,1,1,1,1,1,1,1,1,1,1,1,1,1,1,1,1,1,1,1,1,1,1,1,1,1,1,1,1,1,1,1,1,1,1,1,1,1,1,1,1,1,1,1,1,1,1,1,1,1,1,1,1,1,1,1,1,1,1,1,1,1,1,1,1,1,1,1,1,1,1,1,1,1,1,1,1,1,1,1,1,1,1,1,1,1,1,1,1,1,1,1,1,1,1,1,1,1,1,1,1,1,1,1,1,1,1,1,1,1,1,1,1,1,1,1,1,1,1,1,1,1,1,1,1,1,1,1,1,1,1,1,1,1,1,1,1,1,1,1,1,1,1,1,1,1,1,1,1,1,1,1,1,1,1,1,1,1,1,1,1,1,1,1,1,1,1,1,1,1,1,1,1,1,1,1,1,1,1,1,1,1,1,1,1,1,1,1,1,1,1,1,1,1,1,1,1,1,1,1,1,1,1,1,1,1,1,1,1,1,1,1,1,1,1,1,1,1,1,1,1,1,1],\"type\":\"scatter\"},{\"mode\":\"markers\",\"name\":\"0\",\"opacity\":0.5,\"x\":[0.0,0.3304,0.3318,0.4105,0.3059,0.54,0.4466,0.5447,0.3726,0.4219,0.3612,0.4,0.4504,0.3362,0.3152,0.2879,0.4551,0.4091,0.2907,0.255,0.4056,0.2886,0.3584,0.3976,0.328,0.3341,0.2643,0.473,0.5197,0.4772,0.3395,0.3201,0.233,0.6145,0.3899,0.3236,0.347,0.2295,0.3866,0.2706,0.3222,0.2671,0.4396,0.2813,0.3965,0.3656,0.307,0.4028,0.2396,0.4126,0.4065,0.3117,0.5316,0.3596,0.2928,0.5389,0.2998,0.3642,0.5534,0.512,0.431,0.474,0.8482,0.4791,0.4705,0.6647,0.3838,0.4712,0.4691,0.6227,0.2975,0.2181,0.2564,0.4723,0.2771,0.3619,0.3311,0.5391,0.3224,0.3322,0.4527,0.3747,0.5484,0.4039,0.2722,0.212,0.3549,0.3505,0.2631,0.5279,0.4228,0.5713,0.222,0.2608,0.449,0.3663,0.3035,0.3397,0.3453,0.3306,0.2697,0.1725,0.4646,0.357,0.2575,0.5863,0.374,0.3327,0.8531,0.2855,0.5902,0.2351,0.2431,0.6528,0.3336,0.4361,0.2715,0.7768,0.3876,0.8076,0.5067,0.3682,0.3444,0.2942,0.4541,0.2881,0.286,0.3759,0.7794,0.4046,0.4077,0.3733,0.8191,0.5335,0.2171,0.5718,0.2895,0.3329,0.5867,0.3075,0.7231,0.3103,0.6997,0.4212,0.2536,0.4147,0.4803,0.399,0.7299,0.304,0.3449,0.3161,0.3724,0.4796,0.4119,0.7336,0.3325,0.4537,0.3348,0.3568,0.3997,0.544,0.3301,0.3266,0.5839,0.6353,0.3115,0.7875,0.8226,0.3687,0.2036,0.6895,0.2239,0.4168,0.3038,0.2832,0.2174,0.4919,0.4282,0.562,0.4434,0.5541,0.586,0.3456,0.4628,0.315,0.5466,0.6159,0.4994,0.5025,0.3061,0.4217,0.1609,0.4698,0.7152,0.4726,0.2655,0.3796,0.5433,0.427,0.5309,0.5517,0.5085,0.6619,0.5548,0.5202,0.3133,0.502,0.4807,0.2204,0.619,0.3598,0.5494,0.8506,0.3313,0.3969,0.6416,0.5144,0.4373,0.6591,0.3887,0.5363,0.728,0.2926,0.5179,0.7338,0.622,0.2629,0.5657,0.6215,0.4058,0.4471,0.4936,0.3731,0.629,0.3738,0.6624,0.3526,0.1268,0.7579,0.3495,0.4037,0.5274,0.4256,0.3498,0.4049,0.7509,0.5573,0.3794,0.2762,0.2713,0.4987,0.5968,0.5825,0.6099,0.7189,0.9148,0.3778,0.41,0.3901,0.4502,0.4422,0.615,0.4245,0.3166,0.6556,0.3638,0.5991,0.5377,0.7046,0.4053,0.4534,0.2954,0.3911,0.5482,0.2844,0.3514,0.5048,0.258,0.5461,0.8473,0.2363,0.3834,0.3199,0.3512,0.6124,0.5351,0.2162,0.2825,0.4135,0.1751,0.5914,0.5487,0.4968,0.2489,0.7121,0.7625,0.1445,0.3883,0.3943,0.3824,0.8228,0.5232,0.3143,0.3519,0.7654,0.4249,0.2197,0.4233,0.452,0.2837,0.2965,0.6603,0.6888,0.4156,0.4366,0.4639,0.4873,0.2718,0.3785,0.4838,0.3782,0.5006,0.4387,0.8798,0.8697,0.7145,0.6085,0.2153,0.3715,0.4455,0.579,0.2991,0.4382,0.453,0.682,0.3124,0.3869,0.6253,0.3607,0.509,0.241,0.6211,0.3579,0.5986,0.3463,0.3378,0.4763,0.6451,0.6512,0.8947,0.2508,0.6801,0.2519,0.7296,0.4565,0.6283,0.4385,0.2893,0.3582,0.4929,0.5237,0.6636,0.5214,0.6059,0.2694,0.6969,0.3633,0.4567,0.4782,0.513,0.7191,0.5804,0.321,0.477,0.7686,0.742,0.6995,0.4677,0.2657,0.8849,0.7682,0.3939,0.1826,0.4338,0.5384,0.2659,0.6673,0.4532,0.4663,0.1756,0.5251,0.7703,0.3488,0.3486,0.5739,0.8693,0.778,0.6397,0.3255,0.5412,0.6547,0.4602,0.5858,0.6334,0.2232,0.414,0.8536,0.5954,0.3287,0.4499,0.6446,0.5702,0.3187,0.3131,0.5793,0.4007,0.3294,0.3577,0.947,0.4882,0.6804,0.2979,0.4303,0.8872,0.2403,0.3647,0.2935,0.5438,0.2795,0.4635,0.6213,0.5884,0.2909,0.583,0.5758,0.732,0.6028,0.6839,0.6101,0.7252,0.6605,0.3631,0.4819,0.679,0.4436,0.314,0.6031,0.8933,0.7574,0.7427,0.2013,0.4301,0.3472,0.3,0.3147,0.4086,0.3227,0.1375,0.4098,0.2424,0.7257,0.2384,0.5344,0.4579,0.665,0.5097,0.5172,0.3523,0.7551,0.6813,0.6983,0.7245,0.4954,0.4312,0.9757,0.6514,0.5678,0.4623,0.2956,0.6825,0.685,0.2501,0.4002,0.7457,0.7999,0.7028,0.8034,0.752,0.611,0.5468,0.71,0.6951,0.3988,0.4901,0.3437,0.3617,0.6797,0.5032,0.2447,0.6453,0.5312,0.6507,0.3374,0.3516,0.208,0.7691,0.4259,0.3122,0.4614,0.3771,0.2414,0.7362,0.2662,0.5242,0.4095,0.8106,0.3801,0.3953,0.7964,0.4088,0.6255,0.7453,0.714,0.1996,0.8552,0.3827,0.5788,0.4889,0.4656,0.2984,0.844,0.7114,0.5417,0.8046,0.5286,0.8959,0.7035,0.777,0.3439,0.4609,0.403,0.6523,0.7665,0.8116,0.6526,0.2848,0.4845,0.573,0.3215,0.4354,0.4733,0.4158,0.3556,0.3014,0.3586,0.4193,0.2057,0.4831,0.4971,0.745,0.3392,0.4051,0.3927,0.2227,0.4492,0.3967,0.3918,0.5123,0.9498,0.4922,0.8492,0.5155,0.7894,0.3259,0.4289,0.6267,0.3808,0.5347,0.7504,0.4448,0.8039,0.2858,0.6521,0.686,0.4445,0.8816,0.9477,0.1714,0.8613,0.5099,0.6687,0.6141,0.2246,0.2725,0.5977,0.3346,0.6204,0.6264,0.2517,0.5816,0.7562,0.3773,0.3157,0.7822,0.7994,0.8966,0.5942,0.318,0.6638,0.4347,0.5909,0.643,0.5611,0.4322,0.1828,0.2578,0.7838,0.3474,0.3589,0.389,0.5064,0.4266,0.5807,0.541,0.647,0.5641,0.36,0.4903,0.6206,0.8538,0.6799,0.3962,0.7208,0.4681,0.3745,0.6701,0.59,0.5748,0.4284,0.7892,0.2386,0.3946,0.4305,0.4023,0.5265,0.4607,0.5118,0.7282,0.2459,0.8071,0.6671,0.2582,0.5295,0.435,0.4933,0.7754,0.2785,0.8781,0.3915,0.6057,0.2622,0.4011,0.3049,0.7826,0.2104,0.1819,0.6367,0.4728,0.5769,0.3213,0.6727,0.4464,0.6143,0.7067,0.5421,0.3047,0.4331,0.9092,0.8424,0.3435,0.3367,0.4203,0.3624,0.625,0.2293,0.3941,0.3764,0.8749,0.6313,0.7387,0.3418,0.6005,0.5622,0.5183,0.3101,0.6201,0.3234,0.407,0.3565,0.4856,0.8548,0.2083,0.7,0.8109,0.4032,0.3703,0.2603,0.6939,0.3936,0.3479,0.3621,0.3761,0.6318,0.5508,0.8426,0.3981,0.6822,0.4263,0.3283,0.4595,0.6355,0.7616,0.2755,0.2428,0.3243,0.883,0.6341,0.3196,0.3736,0.7212,0.838,0.9185,0.7488,0.5505,0.346,0.1805,0.8648,0.6348,0.4749,0.1989,0.3154,0.1772,0.2827,0.3175,0.3369,0.8004,0.9279,0.4775,0.6563,0.215,0.7583,0.7359,0.4403,0.5846,0.8447,0.9057,0.6668,0.4884,0.4658,0.3376,0.5618,0.749,0.6717,0.5062,0.8905,0.6113,0.4406,0.7411,0.353,0.7107,0.4558,0.4511,0.4546,0.3241,0.9157,0.3299,0.6138,0.8352,0.7548,0.417,0.8064,0.4165,0.2673,0.5629,0.3451,0.2339,0.4478,0.6769,0.4642,0.7037,0.4721,0.6292,0.2115,0.3164,0.526,0.4247,0.3343,0.3544,0.6187,0.7752,0.7945,0.6498,0.4207,0.626,0.8618,0.4462,0.7373,0.3666,0.6967,0.4931,0.7194,0.6827,0.5515,0.6362,0.6262,0.7278,0.1884,0.4758,0.4457,0.6862,0.4842,0.7803,0.5837,0.434,0.6829,0.6306,0.4779,0.279,0.7929,0.4238,0.9106,0.7303,0.3983,0.5664,0.4254,0.5874,0.3182,0.2202,0.7464,0.6358,0.5414,0.6584,0.5646,0.2652,0.7633,0.8373,0.6724,0.8163,0.5284,0.5386,0.3278,0.3908,0.2692,0.612,0.2297,0.282,0.9479,0.7334,0.5998,0.8657,0.3743,0.534,0.438,0.7525,0.8258,0.2746,0.466,0.5235,0.566,0.2356,0.3257,0.5113,0.4793,0.5039,0.7002,0.2316,0.5667,0.5512,0.4319,0.4569,0.3493,0.4151,0.4513,0.2699,0.2094,0.6778,0.7289,0.6878,0.8585,0.4427,0.7079,0.8361,0.301,0.3729,0.3089,0.8912,0.8664,0.7149,0.4021,0.3126,0.3789,0.237,0.6551,0.3491,0.481,0.8256,0.5167,0.6622,0.6535,0.2071,0.6458,0.2454,0.2164,0.5751,0.498,0.4014,0.7184,0.555,0.93,0.1515,0.7889,0.4392,0.653,0.7173,0.6748,0.6972,0.3684,0.6537,0.4357,0.2916,0.268,0.5552,0.3371,0.3813,0.6369,0.3138,0.8011,0.7675,0.2781,0.2986,0.406,0.5951,0.456,0.2989,0.3364,0.2834,0.6808,0.707,0.5697,0.5781,0.2811,0.4123,0.2905,0.7721,0.6953,0.3399,0.8296,0.7401,0.5671,0.8863,0.5125,0.3705,0.4506,0.6594,0.4497,0.3271,0.1669,0.2473,0.4768,0.798,0.608,0.1261,0.5711,0.7187,0.2438,0.6299,0.4875,0.4859,0.2839,0.3689,0.6713,0.487,0.83,0.5592,0.8083,0.7712,0.3948,0.3722,0.4473,0.7541,0.8377,0.699,0.5095,0.7243,0.8767,0.6288,0.5477,0.8202,0.6577,0.6192,0.6449,0.2869,0.6047,0.5148,0.325,0.8013,0.5244,0.7233,0.3402,0.735,0.5368,0.5225,0.3357,0.5193,0.9075,0.6021,0.8924,0.8784,0.5604,0.5524,0.4719,0.8704,0.2883,0.7593,0.618,0.7948,0.1837,0.5382,0.7511,0.5615,0.636,0.6171,0.3119,0.4035,0.4308,0.8097,0.5127,0.7074,0.6633,0.7808,0.5029,0.6558,0.8896,0.42,0.7044,0.2704,0.8975,0.8317,0.4343,0.865,0.6986,0.4224,0.236,0.368,0.4744,0.9047,0.7852,0.4621,0.6302,0.3535,0.9407,0.5648,0.4184,0.4483,0.7497,0.7537,0.6703,0.5146,0.5288,0.7084,0.343,0.6218,0.4894,0.5165,0.3979,0.6794,0.558,0.332,0.8331,0.5779,0.4114,0.8345,0.2792,0.2311,0.4828,0.3892,0.6923,0.3091,0.7105,0.8823,0.3934,0.4443,0.3904,0.2379,0.6869,0.2449,0.2435,0.226,0.2669,0.6643,0.1644,0.5583,0.5305,0.7177,0.8994,0.6897,0.442,0.4352,0.2585,0.3542,0.4287,0.3593,0.8791,0.5379,0.382,0.7222,0.6271,0.1856,0.4525,0.6706,0.9428,0.7429,0.6169,0.293,0.354,0.4401,0.5106,0.7983,0.7506,0.897,0.2003,0.6442,0.4637,0.3297,0.2573,0.2209,0.2566,0.9145,0.4978,0.3528,0.8562,0.3572,0.7215,0.4252,0.3276,0.4632,0.3185,0.3264,0.6229,0.5828,0.7364,0.9216,0.8891,0.6243,0.4235,0.5979,0.8683,0.3017,0.9099,0.3864,0.7572,0.3334,0.2599,0.6409,0.4459,0.805,0.8737,0.2914,0.5786,0.7614,0.6332,0.8431,0.4261,0.6103,0.3768,0.3385,0.5706,0.4653,0.8419,0.9045,0.6934,0.4926,0.7787,0.5865,0.5823,0.2912,0.5587,0.9101,0.3383,0.3054,0.788,0.294,0.7091,0.5949,0.5923,0.336,0.7271,0.9082,0.6544,0.2968,0.322,0.5795,0.3098,0.3033,0.5958,0.5842,0.4336,0.4555,0.3754,0.5926,0.2645,0.4488,0.4548,0.6082,0.4707,0.6806,0.7205,0.8132,0.421,0.7588,0.2571,0.2477,0.3878,0.4959,0.7443,0.7831,0.5249,0.8165,0.4982,0.7025,0.7485,0.6374,0.7726,0.6694,0.4814,0.4847,0.6162,0.5737,0.7011,0.759,0.8788,0.5571,0.841,0.7915,0.2648,0.2265,0.6337,0.696,0.4189,0.4824,0.4399,0.2601,0.5501,0.8067,0.7004,0.5088,0.7532,0.693,0.4672,0.5321,0.7483,0.5676,0.2683,0.7425,0.0542,0.6916,0.4273,0.3024,0.8384,0.7717,0.2627,0.2251,0.4852,0.7647,0.837,0.6696,0.4812,0.4784,0.7397,0.5613,0.572,0.2269,0.8716,0.6871,0.7292,0.5774,0.6425,0.7775,0.5496,0.6678,0.1742,0.5158,0.3096,0.4079,0.3432,0.2951,0.2636,0.6423,0.7773,0.9071],\"y\":[10454,855,451,428,420,336,317,309,253,215,207,206,199,191,179,164,161,157,143,140,130,127,122,112,111,109,106,99,95,91,83,75,73,72,72,70,67,67,67,65,64,61,59,55,54,53,52,49,48,47,47,44,44,43,42,40,39,38,38,37,37,37,36,35,35,35,35,35,34,33,33,33,33,31,30,29,29,28,28,28,28,27,26,26,25,25,25,25,24,24,24,24,23,22,22,22,22,22,21,21,21,20,20,20,20,20,19,19,19,19,18,18,18,18,17,17,17,16,16,16,16,16,16,15,15,15,15,15,15,15,15,14,14,14,14,14,14,14,14,14,14,14,14,14,14,13,13,13,13,13,13,13,13,13,13,13,13,13,12,12,12,12,12,12,12,12,12,12,12,12,11,11,11,11,11,11,11,11,11,11,11,11,11,11,11,11,11,10,10,10,10,10,10,10,10,10,10,10,10,10,10,10,10,10,10,10,10,9,9,9,9,9,9,9,9,9,9,9,9,9,9,9,9,8,8,8,8,8,8,8,8,8,8,8,8,8,8,8,8,8,8,7,7,7,7,7,7,7,7,7,7,7,7,7,7,7,7,7,7,7,7,7,7,7,7,7,7,7,7,7,7,7,7,7,7,7,7,7,7,7,7,6,6,6,6,6,6,6,6,6,6,6,6,6,6,6,6,6,6,6,6,6,6,6,6,6,6,6,6,6,6,6,6,5,5,5,5,5,5,5,5,5,5,5,5,5,5,5,5,5,5,5,5,5,5,5,5,5,5,5,5,5,5,5,5,5,5,5,5,5,5,5,5,5,5,5,5,5,5,5,5,5,5,5,5,5,5,5,5,5,5,4,4,4,4,4,4,4,4,4,4,4,4,4,4,4,4,4,4,4,4,4,4,4,4,4,4,4,4,4,4,4,4,4,4,4,4,4,4,4,4,4,4,4,4,4,4,4,4,4,4,4,4,4,4,4,4,4,4,4,4,4,4,4,4,4,4,4,4,4,4,4,4,4,4,4,4,4,4,4,4,4,4,4,4,4,4,4,4,4,4,4,4,4,4,4,4,4,4,4,3,3,3,3,3,3,3,3,3,3,3,3,3,3,3,3,3,3,3,3,3,3,3,3,3,3,3,3,3,3,3,3,3,3,3,3,3,3,3,3,3,3,3,3,3,3,3,3,3,3,3,3,3,3,3,3,3,3,3,3,3,3,3,3,3,3,3,3,3,3,3,3,3,3,3,3,3,3,3,3,3,3,3,3,3,3,3,3,3,3,3,3,3,3,3,3,3,3,3,3,3,3,3,3,3,3,3,3,3,3,3,3,3,3,3,3,3,3,3,3,3,3,3,3,3,3,3,3,3,3,3,3,3,3,3,3,3,3,3,3,3,3,3,2,2,2,2,2,2,2,2,2,2,2,2,2,2,2,2,2,2,2,2,2,2,2,2,2,2,2,2,2,2,2,2,2,2,2,2,2,2,2,2,2,2,2,2,2,2,2,2,2,2,2,2,2,2,2,2,2,2,2,2,2,2,2,2,2,2,2,2,2,2,2,2,2,2,2,2,2,2,2,2,2,2,2,2,2,2,2,2,2,2,2,2,2,2,2,2,2,2,2,2,2,2,2,2,2,2,2,2,2,2,2,2,2,2,2,2,2,2,2,2,2,2,2,2,2,2,2,2,2,2,2,2,2,2,2,2,2,2,2,2,2,2,2,2,2,2,2,2,2,2,2,2,2,2,2,2,2,2,2,2,2,2,2,2,2,2,2,2,2,2,2,2,2,2,2,2,2,2,2,2,2,2,2,2,2,2,2,2,2,2,2,2,2,2,2,2,2,2,2,2,2,2,2,2,2,2,2,2,2,2,2,2,2,2,2,2,2,2,2,2,2,1,1,1,1,1,1,1,1,1,1,1,1,1,1,1,1,1,1,1,1,1,1,1,1,1,1,1,1,1,1,1,1,1,1,1,1,1,1,1,1,1,1,1,1,1,1,1,1,1,1,1,1,1,1,1,1,1,1,1,1,1,1,1,1,1,1,1,1,1,1,1,1,1,1,1,1,1,1,1,1,1,1,1,1,1,1,1,1,1,1,1,1,1,1,1,1,1,1,1,1,1,1,1,1,1,1,1,1,1,1,1,1,1,1,1,1,1,1,1,1,1,1,1,1,1,1,1,1,1,1,1,1,1,1,1,1,1,1,1,1,1,1,1,1,1,1,1,1,1,1,1,1,1,1,1,1,1,1,1,1,1,1,1,1,1,1,1,1,1,1,1,1,1,1,1,1,1,1,1,1,1,1,1,1,1,1,1,1,1,1,1,1,1,1,1,1,1,1,1,1,1,1,1,1,1,1,1,1,1,1,1,1,1,1,1,1,1,1,1,1,1,1,1,1,1,1,1,1,1,1,1,1,1,1,1,1,1,1,1,1,1,1,1,1,1,1,1,1,1,1,1,1,1,1,1,1,1,1,1,1,1,1,1,1,1,1,1,1,1,1,1,1,1,1,1,1,1,1,1,1,1,1,1,1,1,1,1,1,1,1,1,1,1,1,1,1,1,1,1,1,1,1,1,1,1,1,1,1,1,1,1,1,1,1,1,1,1,1,1,1,1,1,1,1,1,1,1,1,1,1,1,1,1,1,1,1,1,1,1,1,1,1,1,1,1,1,1,1,1,1,1,1,1,1,1,1,1,1,1,1,1,1,1,1,1,1,1,1,1,1,1,1,1,1,1,1,1,1,1,1,1,1,1,1,1,1,1,1,1,1,1,1,1,1,1,1,1,1,1,1,1,1,1,1,1,1,1,1,1,1,1,1,1,1,1,1,1,1,1,1,1,1,1,1,1,1,1,1,1,1,1,1,1,1,1,1,1,1,1,1,1,1,1,1,1,1,1,1,1,1,1,1,1,1,1,1,1,1,1,1,1,1,1,1,1,1,1],\"type\":\"scatter\"}],                        {\"template\":{\"data\":{\"histogram2dcontour\":[{\"type\":\"histogram2dcontour\",\"colorbar\":{\"outlinewidth\":0,\"ticks\":\"\"},\"colorscale\":[[0.0,\"#0d0887\"],[0.1111111111111111,\"#46039f\"],[0.2222222222222222,\"#7201a8\"],[0.3333333333333333,\"#9c179e\"],[0.4444444444444444,\"#bd3786\"],[0.5555555555555556,\"#d8576b\"],[0.6666666666666666,\"#ed7953\"],[0.7777777777777778,\"#fb9f3a\"],[0.8888888888888888,\"#fdca26\"],[1.0,\"#f0f921\"]]}],\"choropleth\":[{\"type\":\"choropleth\",\"colorbar\":{\"outlinewidth\":0,\"ticks\":\"\"}}],\"histogram2d\":[{\"type\":\"histogram2d\",\"colorbar\":{\"outlinewidth\":0,\"ticks\":\"\"},\"colorscale\":[[0.0,\"#0d0887\"],[0.1111111111111111,\"#46039f\"],[0.2222222222222222,\"#7201a8\"],[0.3333333333333333,\"#9c179e\"],[0.4444444444444444,\"#bd3786\"],[0.5555555555555556,\"#d8576b\"],[0.6666666666666666,\"#ed7953\"],[0.7777777777777778,\"#fb9f3a\"],[0.8888888888888888,\"#fdca26\"],[1.0,\"#f0f921\"]]}],\"heatmap\":[{\"type\":\"heatmap\",\"colorbar\":{\"outlinewidth\":0,\"ticks\":\"\"},\"colorscale\":[[0.0,\"#0d0887\"],[0.1111111111111111,\"#46039f\"],[0.2222222222222222,\"#7201a8\"],[0.3333333333333333,\"#9c179e\"],[0.4444444444444444,\"#bd3786\"],[0.5555555555555556,\"#d8576b\"],[0.6666666666666666,\"#ed7953\"],[0.7777777777777778,\"#fb9f3a\"],[0.8888888888888888,\"#fdca26\"],[1.0,\"#f0f921\"]]}],\"heatmapgl\":[{\"type\":\"heatmapgl\",\"colorbar\":{\"outlinewidth\":0,\"ticks\":\"\"},\"colorscale\":[[0.0,\"#0d0887\"],[0.1111111111111111,\"#46039f\"],[0.2222222222222222,\"#7201a8\"],[0.3333333333333333,\"#9c179e\"],[0.4444444444444444,\"#bd3786\"],[0.5555555555555556,\"#d8576b\"],[0.6666666666666666,\"#ed7953\"],[0.7777777777777778,\"#fb9f3a\"],[0.8888888888888888,\"#fdca26\"],[1.0,\"#f0f921\"]]}],\"contourcarpet\":[{\"type\":\"contourcarpet\",\"colorbar\":{\"outlinewidth\":0,\"ticks\":\"\"}}],\"contour\":[{\"type\":\"contour\",\"colorbar\":{\"outlinewidth\":0,\"ticks\":\"\"},\"colorscale\":[[0.0,\"#0d0887\"],[0.1111111111111111,\"#46039f\"],[0.2222222222222222,\"#7201a8\"],[0.3333333333333333,\"#9c179e\"],[0.4444444444444444,\"#bd3786\"],[0.5555555555555556,\"#d8576b\"],[0.6666666666666666,\"#ed7953\"],[0.7777777777777778,\"#fb9f3a\"],[0.8888888888888888,\"#fdca26\"],[1.0,\"#f0f921\"]]}],\"surface\":[{\"type\":\"surface\",\"colorbar\":{\"outlinewidth\":0,\"ticks\":\"\"},\"colorscale\":[[0.0,\"#0d0887\"],[0.1111111111111111,\"#46039f\"],[0.2222222222222222,\"#7201a8\"],[0.3333333333333333,\"#9c179e\"],[0.4444444444444444,\"#bd3786\"],[0.5555555555555556,\"#d8576b\"],[0.6666666666666666,\"#ed7953\"],[0.7777777777777778,\"#fb9f3a\"],[0.8888888888888888,\"#fdca26\"],[1.0,\"#f0f921\"]]}],\"mesh3d\":[{\"type\":\"mesh3d\",\"colorbar\":{\"outlinewidth\":0,\"ticks\":\"\"}}],\"scatter\":[{\"fillpattern\":{\"fillmode\":\"overlay\",\"size\":10,\"solidity\":0.2},\"type\":\"scatter\"}],\"parcoords\":[{\"type\":\"parcoords\",\"line\":{\"colorbar\":{\"outlinewidth\":0,\"ticks\":\"\"}}}],\"scatterpolargl\":[{\"type\":\"scatterpolargl\",\"marker\":{\"colorbar\":{\"outlinewidth\":0,\"ticks\":\"\"}}}],\"bar\":[{\"error_x\":{\"color\":\"#2a3f5f\"},\"error_y\":{\"color\":\"#2a3f5f\"},\"marker\":{\"line\":{\"color\":\"#E5ECF6\",\"width\":0.5},\"pattern\":{\"fillmode\":\"overlay\",\"size\":10,\"solidity\":0.2}},\"type\":\"bar\"}],\"scattergeo\":[{\"type\":\"scattergeo\",\"marker\":{\"colorbar\":{\"outlinewidth\":0,\"ticks\":\"\"}}}],\"scatterpolar\":[{\"type\":\"scatterpolar\",\"marker\":{\"colorbar\":{\"outlinewidth\":0,\"ticks\":\"\"}}}],\"histogram\":[{\"marker\":{\"pattern\":{\"fillmode\":\"overlay\",\"size\":10,\"solidity\":0.2}},\"type\":\"histogram\"}],\"scattergl\":[{\"type\":\"scattergl\",\"marker\":{\"colorbar\":{\"outlinewidth\":0,\"ticks\":\"\"}}}],\"scatter3d\":[{\"type\":\"scatter3d\",\"line\":{\"colorbar\":{\"outlinewidth\":0,\"ticks\":\"\"}},\"marker\":{\"colorbar\":{\"outlinewidth\":0,\"ticks\":\"\"}}}],\"scattermapbox\":[{\"type\":\"scattermapbox\",\"marker\":{\"colorbar\":{\"outlinewidth\":0,\"ticks\":\"\"}}}],\"scatterternary\":[{\"type\":\"scatterternary\",\"marker\":{\"colorbar\":{\"outlinewidth\":0,\"ticks\":\"\"}}}],\"scattercarpet\":[{\"type\":\"scattercarpet\",\"marker\":{\"colorbar\":{\"outlinewidth\":0,\"ticks\":\"\"}}}],\"carpet\":[{\"aaxis\":{\"endlinecolor\":\"#2a3f5f\",\"gridcolor\":\"white\",\"linecolor\":\"white\",\"minorgridcolor\":\"white\",\"startlinecolor\":\"#2a3f5f\"},\"baxis\":{\"endlinecolor\":\"#2a3f5f\",\"gridcolor\":\"white\",\"linecolor\":\"white\",\"minorgridcolor\":\"white\",\"startlinecolor\":\"#2a3f5f\"},\"type\":\"carpet\"}],\"table\":[{\"cells\":{\"fill\":{\"color\":\"#EBF0F8\"},\"line\":{\"color\":\"white\"}},\"header\":{\"fill\":{\"color\":\"#C8D4E3\"},\"line\":{\"color\":\"white\"}},\"type\":\"table\"}],\"barpolar\":[{\"marker\":{\"line\":{\"color\":\"#E5ECF6\",\"width\":0.5},\"pattern\":{\"fillmode\":\"overlay\",\"size\":10,\"solidity\":0.2}},\"type\":\"barpolar\"}],\"pie\":[{\"automargin\":true,\"type\":\"pie\"}]},\"layout\":{\"autotypenumbers\":\"strict\",\"colorway\":[\"#636efa\",\"#EF553B\",\"#00cc96\",\"#ab63fa\",\"#FFA15A\",\"#19d3f3\",\"#FF6692\",\"#B6E880\",\"#FF97FF\",\"#FECB52\"],\"font\":{\"color\":\"#2a3f5f\"},\"hovermode\":\"closest\",\"hoverlabel\":{\"align\":\"left\"},\"paper_bgcolor\":\"white\",\"plot_bgcolor\":\"#E5ECF6\",\"polar\":{\"bgcolor\":\"#E5ECF6\",\"angularaxis\":{\"gridcolor\":\"white\",\"linecolor\":\"white\",\"ticks\":\"\"},\"radialaxis\":{\"gridcolor\":\"white\",\"linecolor\":\"white\",\"ticks\":\"\"}},\"ternary\":{\"bgcolor\":\"#E5ECF6\",\"aaxis\":{\"gridcolor\":\"white\",\"linecolor\":\"white\",\"ticks\":\"\"},\"baxis\":{\"gridcolor\":\"white\",\"linecolor\":\"white\",\"ticks\":\"\"},\"caxis\":{\"gridcolor\":\"white\",\"linecolor\":\"white\",\"ticks\":\"\"}},\"coloraxis\":{\"colorbar\":{\"outlinewidth\":0,\"ticks\":\"\"}},\"colorscale\":{\"sequential\":[[0.0,\"#0d0887\"],[0.1111111111111111,\"#46039f\"],[0.2222222222222222,\"#7201a8\"],[0.3333333333333333,\"#9c179e\"],[0.4444444444444444,\"#bd3786\"],[0.5555555555555556,\"#d8576b\"],[0.6666666666666666,\"#ed7953\"],[0.7777777777777778,\"#fb9f3a\"],[0.8888888888888888,\"#fdca26\"],[1.0,\"#f0f921\"]],\"sequentialminus\":[[0.0,\"#0d0887\"],[0.1111111111111111,\"#46039f\"],[0.2222222222222222,\"#7201a8\"],[0.3333333333333333,\"#9c179e\"],[0.4444444444444444,\"#bd3786\"],[0.5555555555555556,\"#d8576b\"],[0.6666666666666666,\"#ed7953\"],[0.7777777777777778,\"#fb9f3a\"],[0.8888888888888888,\"#fdca26\"],[1.0,\"#f0f921\"]],\"diverging\":[[0,\"#8e0152\"],[0.1,\"#c51b7d\"],[0.2,\"#de77ae\"],[0.3,\"#f1b6da\"],[0.4,\"#fde0ef\"],[0.5,\"#f7f7f7\"],[0.6,\"#e6f5d0\"],[0.7,\"#b8e186\"],[0.8,\"#7fbc41\"],[0.9,\"#4d9221\"],[1,\"#276419\"]]},\"xaxis\":{\"gridcolor\":\"white\",\"linecolor\":\"white\",\"ticks\":\"\",\"title\":{\"standoff\":15},\"zerolinecolor\":\"white\",\"automargin\":true,\"zerolinewidth\":2},\"yaxis\":{\"gridcolor\":\"white\",\"linecolor\":\"white\",\"ticks\":\"\",\"title\":{\"standoff\":15},\"zerolinecolor\":\"white\",\"automargin\":true,\"zerolinewidth\":2},\"scene\":{\"xaxis\":{\"backgroundcolor\":\"#E5ECF6\",\"gridcolor\":\"white\",\"linecolor\":\"white\",\"showbackground\":true,\"ticks\":\"\",\"zerolinecolor\":\"white\",\"gridwidth\":2},\"yaxis\":{\"backgroundcolor\":\"#E5ECF6\",\"gridcolor\":\"white\",\"linecolor\":\"white\",\"showbackground\":true,\"ticks\":\"\",\"zerolinecolor\":\"white\",\"gridwidth\":2},\"zaxis\":{\"backgroundcolor\":\"#E5ECF6\",\"gridcolor\":\"white\",\"linecolor\":\"white\",\"showbackground\":true,\"ticks\":\"\",\"zerolinecolor\":\"white\",\"gridwidth\":2}},\"shapedefaults\":{\"line\":{\"color\":\"#2a3f5f\"}},\"annotationdefaults\":{\"arrowcolor\":\"#2a3f5f\",\"arrowhead\":0,\"arrowwidth\":1},\"geo\":{\"bgcolor\":\"white\",\"landcolor\":\"#E5ECF6\",\"subunitcolor\":\"white\",\"showland\":true,\"showlakes\":true,\"lakecolor\":\"white\"},\"title\":{\"x\":0.05},\"mapbox\":{\"style\":\"light\"}}},\"title\":{\"text\":\"cognatehood_3\"},\"xaxis\":{\"title\":{\"text\":\"cognatehood_3 score\"}},\"yaxis\":{\"title\":{\"text\":\"count\"}},\"legend\":{\"title\":{\"text\":\"CS label\"}}},                        {\"responsive\": true}                    ).then(function(){\n",
       "                            \n",
       "var gd = document.getElementById('b4d46e12-63b8-4991-a51c-4fdc277644b8');\n",
       "var x = new MutationObserver(function (mutations, observer) {{\n",
       "        var display = window.getComputedStyle(gd).display;\n",
       "        if (!display || display === 'none') {{\n",
       "            console.log([gd, 'removed!']);\n",
       "            Plotly.purge(gd);\n",
       "            observer.disconnect();\n",
       "        }}\n",
       "}});\n",
       "\n",
       "// Listen for the removal of the full notebook cells\n",
       "var notebookContainer = gd.closest('#notebook-container');\n",
       "if (notebookContainer) {{\n",
       "    x.observe(notebookContainer, {childList: true});\n",
       "}}\n",
       "\n",
       "// Listen for the clearing of the current output cell\n",
       "var outputEl = gd.closest('.output');\n",
       "if (outputEl) {{\n",
       "    x.observe(outputEl, {childList: true});\n",
       "}}\n",
       "\n",
       "                        })                };                });            </script>        </div>"
      ]
     },
     "metadata": {},
     "output_type": "display_data"
    },
    {
     "name": "stdout",
     "output_type": "stream",
     "text": [
      "CS 1 - weighted average: 0.29796989660976253\n",
      "CS 0 - weighted average: 0.255016405857741\n"
     ]
    },
    {
     "data": {
      "application/vnd.plotly.v1+json": {
       "config": {
        "plotlyServerURL": "https://plot.ly"
       },
       "data": [
        {
         "mode": "markers",
         "name": "1",
         "opacity": 1,
         "type": "scatter",
         "x": [
          0,
          0.3318,
          0.3304,
          0.4504,
          0.3059,
          0.4105,
          0.3612,
          0.255,
          0.54,
          0.4466,
          0.3726,
          0.2879,
          0.2907,
          0.3362,
          0.3152,
          0.4091,
          0.2886,
          0.2643,
          0.3201,
          0.347,
          0.3899,
          0.3236,
          0.328,
          0.2239,
          0.3341,
          0.4737,
          0.4791,
          0.233,
          0.4579,
          0.3869,
          0.473,
          0.3222,
          0.3453,
          0.6967,
          0.2706,
          0.5447,
          0.3965,
          0.2608,
          0.2622,
          0.4551,
          0.4772,
          0.2351,
          0.2998,
          0.6638,
          0.2813,
          0.5197,
          0.315,
          0.3502,
          0.4796,
          0.4219,
          0.5942,
          0.4978,
          0.8482,
          0.4646,
          0.586,
          0.696,
          0.2295,
          0.2396,
          0.3656,
          0.3584,
          0.6145,
          0.5484,
          0.3663,
          0.4527,
          0.8039,
          0.5445,
          0.3038,
          0.3642,
          0.5097,
          0.5863,
          0.682,
          0.5316,
          0.4387,
          0.5295,
          0.5363,
          0.3876,
          0.449,
          0.4,
          0.6512,
          0.3117,
          0.3565,
          0.3747,
          0.5309,
          0.6141,
          0.3336,
          0.2536,
          0.4471,
          0.3325,
          0.6647,
          0.3224,
          0.4366,
          0.4728,
          0.4903,
          0.2431,
          0.5391,
          0.4228,
          0.3369,
          0.3579,
          0.4705,
          0.3782,
          0.374,
          0.8814,
          0.4436,
          0.7693,
          0.2785,
          0.4691,
          0.6255,
          0.512,
          0.6603,
          0.4677,
          0.7282,
          0.6792,
          0.3241,
          0.679,
          0.3976,
          0.3724,
          0.3682,
          0.5977,
          0.7191,
          0.622,
          0.4845,
          0.2477,
          0.18,
          0.3103,
          0.2722,
          0.3754,
          0.6895,
          0.6362,
          0.5816,
          0.6507,
          0.3577,
          0.4726,
          0.2825,
          0.4723,
          0.3444,
          0.3012,
          0.4831,
          0.3199,
          0.7635,
          0.728,
          0.3759,
          0.3301,
          0.6204,
          0.4037,
          0.5487,
          0.4616,
          0.9103,
          0.4406,
          0.3773,
          0.5548,
          0.3308,
          0.3801,
          0.3266,
          0.6899,
          0.6211,
          0.2183,
          0.5671,
          0.6946,
          0.3731,
          0.7682,
          0.8034,
          0.7703,
          0.6608,
          0.6271,
          0.336,
          0.5221,
          0.5695,
          0.8265,
          0.3322,
          0.2302,
          0.4873,
          0.668,
          0.346,
          0.3512,
          0.4028,
          0.4196,
          0.4242,
          0.5064,
          0.7513,
          0.3969,
          0.502,
          0.5179,
          0.5193,
          0.5265,
          0.6288,
          0.5678,
          0.526,
          0.5414,
          0.2171,
          0.3294,
          0.3988,
          0.1445,
          0.3997,
          0.3171,
          0.5025,
          0.5113,
          0.4499,
          0.3395,
          0.4936,
          0.3306,
          0.2928,
          0.3824,
          0.2424,
          0.8966,
          0.3941,
          0.8447,
          0.4502,
          0.3353,
          0.7581,
          0.579,
          0.5118,
          0.5534,
          0.7252,
          0.2267,
          0.8947,
          0.4929,
          0.4541,
          0.4046,
          0.4894,
          0.5713,
          0.745,
          0.3259,
          0.3526,
          0.4455,
          0.8648,
          0.2762,
          0.3033,
          0.4653,
          0.357,
          0.5811,
          0.4784,
          0.562,
          0.474,
          0.3617,
          0.8896,
          0.2942,
          0.1314,
          0.8029,
          0.1945,
          0.7875,
          0.7509,
          0.3432,
          0.2452,
          0.2575,
          0.6082,
          0.466,
          0.5155,
          0.947,
          0.318,
          0.527,
          0.3687,
          0.5858,
          0.2213,
          0.541,
          0.6813,
          0.3908,
          0.6365,
          0.4368,
          0.5172,
          0.5463,
          0.3133,
          0.7864,
          0.8816,
          0.2694,
          0.4658,
          0.3472,
          0.3423,
          0.7927,
          0.4128,
          0.5123,
          0.4812,
          0.4049,
          0.4396,
          0.5958,
          0.7004,
          0.5839,
          0.6769,
          0.6556,
          0.4506,
          0.2844,
          0.2741,
          0.3147,
          0.7892,
          0.1772,
          0.7189,
          0.8244,
          0.8506,
          0.778,
          0.7548,
          0.3126,
          0.399,
          0.3556,
          0.3528,
          0.3178,
          0.3017,
          0.329,
          0.2414,
          0.2881,
          0.2403,
          0.707,
          0.389,
          0.8127,
          0.2202,
          0.7829,
          0.3815,
          0.7805,
          0.4347,
          0.7964,
          0.6727,
          0.3243,
          0.8585,
          0.6299,
          0.3409,
          0.7411,
          0.4614,
          0.6246,
          0.979,
          0.9185,
          0.4838,
          0.3505,
          0.3035,
          0.6446,
          0.4282,
          0.2954,
          0.8226,
          0.3346,
          0.4058,
          0.1805,
          0.3729,
          0.7296,
          0.8076,
          0.4642,
          0.3329,
          0.3715,
          0.1375,
          0.8064,
          0.6619,
          0.3549,
          0.7397,
          0.5718,
          0.2057,
          0.6549,
          0.5286,
          0.5982,
          0.6113,
          0.3911,
          0.23,
          0.3918,
          0.5629,
          0.7208,
          0.6213,
          0.5144,
          0.6748,
          0.6801,
          0.4039,
          0.4158,
          0.6264,
          0.4635,
          0.5183,
          0.5412,
          0.4116,
          0.3248,
          0.7488,
          0.5902,
          0.5755,
          0.7453,
          0.321,
          0.7072,
          0.7432,
          0.5914,
          0.4212,
          0.3696,
          0.3808,
          0.2036,
          0.5466,
          0.4137,
          0.7336,
          0.8373,
          0.4434,
          0.7665,
          0.7035,
          0.4537,
          0.431,
          0.7278,
          0.5081,
          0.6888,
          0.3598,
          0.2697,
          0.4086,
          0.5067,
          0.4023,
          0.4007,
          0.5312,
          0.7994,
          0.7429,
          0.6654,
          0.7761,
          0.612,
          0.2916,
          0.3932,
          0.3014,
          0.1798,
          0.2181,
          0.5884,
          0.3962,
          0.2839,
          0.4067,
          0.6547,
          0.3689,
          0.6701,
          0.7338,
          0.5389,
          0.3264,
          0.5781,
          0.5279,
          0.4959,
          0.2582,
          0.6839,
          0.5664,
          0.3339,
          0.3638,
          0.5251,
          0.3374,
          0.3278,
          0.456,
          0.7546,
          0.3215,
          0.8163,
          0.7114,
          0.3439,
          0.5505,
          0.4147,
          0.3437,
          0.8618,
          0.3827,
          0.3484,
          0.4014,
          0.3397,
          0.7768,
          0.2783,
          0.2153,
          0.3883,
          0.3946,
          0.9127,
          0.4681,
          0.5006,
          0.3327,
          0.403,
          0.3572,
          0.7046,
          0.3402,
          0.5909,
          0.3582,
          0.5365,
          0.7299,
          0.2164,
          0.4569,
          0.7149,
          0.265,
          0.7257,
          0.9092,
          0.7752,
          0.7215,
          0.3684,
          0.3075,
          0.4803,
          0.8471,
          0.5477,
          0.7462,
          0.5377,
          0.6085,
          0.6948,
          0.2246,
          0.7203,
          0.4819,
          0.4079,
          0.279,
          0.739,
          0.3425,
          0.8361,
          0.1258,
          0.7254,
          0.2508,
          0.5246,
          0.4511,
          0.219,
          0.6407,
          0.4901,
          0.8753,
          0.7696,
          0.3936,
          0.5844,
          0.3516,
          0.2713,
          0.601,
          0.3491,
          0.4712,
          0.732,
          0.5912,
          0.7303,
          0.7625,
          0.2071,
          0.7271,
          0.6743,
          0.6047,
          0.7527,
          0.5328,
          0.4919,
          0.2699,
          0.5085,
          0.5461,
          0.4263,
          0.6862,
          0.6666,
          0.6432,
          0.3488,
          0.301,
          0.2851,
          0.4497,
          0.3514,
          0.4882,
          0.4193,
          0.4256,
          0.8046,
          0.5237,
          0.6101,
          0.5202,
          0.4824,
          0.4912,
          0.7126,
          0.6825,
          0.6124,
          0.4126,
          0.5083,
          0.4604,
          0.798,
          0.891,
          0.5641,
          0.5074,
          0.3738,
          0.619,
          0.3271,
          0.8531,
          0.2473,
          0.8081,
          0.6038,
          0.4574,
          0.3311,
          0.5604,
          0.6021,
          0.6374,
          0.5102,
          0.7504,
          0.7313,
          0.6059,
          0.5692,
          0.9075,
          0.8872,
          0.615,
          0.3495,
          0.6745,
          0.3761,
          0.7541,
          0.3722,
          0.4768,
          0.2428,
          0.2975,
          0.6794,
          0.5382,
          0.5029,
          0.8938,
          0.9279,
          0.4621,
          0.6661,
          0.7588,
          0.4385,
          0.6215,
          0.7098,
          0.2398,
          0.7427,
          0.5209,
          0.6558,
          0.7243,
          0.7044,
          0.1114,
          0.282,
          0.4119,
          0.3196,
          0.6416,
          0.3929,
          0.2753,
          0.4698,
          0.307,
          0.4336,
          0.4595,
          0.7331,
          0.6173,
          0.5417,
          0.3334,
          0.7915,
          0.3047,
          0.7511,
          0.2802,
          0.7726,
          0.5032,
          0.4373,
          0.2888,
          0.3568,
          0.573,
          0.4217,
          0.2143,
          0.5867,
          0.2671,
          0.3939,
          0.6274,
          0.7537,
          0.3227,
          0.6703,
          0.5165,
          0.6981,
          0.4247,
          0.2204,
          0.8632,
          0.6187,
          0.3596,
          0.382,
          0.2293,
          0.7518,
          0.2449,
          0.2501,
          0.8464,
          0.6827,
          0.8109,
          0.4235,
          0.7978,
          0.5508,
          0.6913,
          0.9148,
          0.3507,
          0.8576,
          0.513,
          0.2669,
          0.6766,
          0.226,
          0.2795,
          0.2435,
          0.7212,
          0.9498,
          0.1268,
          0.3593,
          0.5379,
          0.6612,
          0.7,
          0.4842,
          0.8536,
          0.6267,
          0.9216,
          0.9834,
          0.3554,
          0.4826,
          0.6442,
          0.2977,
          0.7721,
          0.5578,
          0.5356,
          0.6227,
          0.2209,
          0.2566,
          0.6678,
          0.6526,
          0.8548,
          0.9145,
          0.3463,
          0.6969,
          0.3866,
          0.7959,
          0.2615,
          0.3357,
          0.3276,
          0.7583,
          0.7644,
          0.1802,
          0.4252,
          0.3119,
          0.0542,
          0.7425,
          0.8863,
          0.3794,
          0.3575,
          0.6713,
          0.6806,
          0.6332,
          0.1539,
          0.8408,
          0.6201,
          0.5837,
          0.2914,
          0.9045,
          0.5335,
          0.5433,
          0.4156,
          0.8912,
          0.2832,
          0.653,
          0.3054,
          0.7159,
          0.297,
          0.414,
          0.7443,
          0.286,
          0.6005,
          0.5949,
          0.4002,
          0.4261,
          0.5249,
          0.2755,
          0.6622,
          0.6682,
          0.2949,
          0.2687,
          0.7633,
          0.6514,
          0.9115,
          0.4565,
          0.2631,
          0.7794,
          0.294,
          0.459,
          0.3066,
          0.241,
          0.41,
          0.6687,
          0.6822,
          0.4548,
          0.6353,
          0.3822,
          0.6944,
          0.2968,
          0.4707,
          0.3712,
          0.127,
          0.7362,
          0.2855,
          0.4429,
          0.7387,
          0.8228,
          0.7654,
          0.5809,
          0.3446,
          0.4354,
          0.406,
          0.4982,
          0.3049,
          0.2363,
          0.7754,
          0.6927,
          0.4189,
          0.5342,
          0.3213,
          0.0864,
          0.8191,
          0.7649,
          0.3367,
          0.805,
          0.5109,
          0.5267,
          0.5351,
          0.2715,
          0.7551,
          0.4095,
          0.5933,
          0.693,
          0.4672,
          0.7483,
          0.5669,
          0.841,
          0.4175,
          0.6337,
          0.5421,
          0.477,
          0.7647,
          0.2718,
          0.2104,
          0.1158,
          0.8384,
          0.4371,
          0.7894,
          0.1781,
          0.4721,
          0.7037,
          0.3096,
          0.2781,
          0.7773,
          0.5711,
          0.4922,
          0.7838,
          0.2991,
          0.6902,
          0.6916,
          0.8001,
          0.5676,
          0.378,
          0.3519,
          0.4798
         ],
         "y": [
          1342,
          126,
          114,
          70,
          55,
          51,
          48,
          48,
          45,
          42,
          36,
          33,
          30,
          30,
          27,
          25,
          25,
          24,
          24,
          22,
          21,
          21,
          19,
          18,
          17,
          16,
          16,
          16,
          15,
          15,
          15,
          15,
          15,
          14,
          14,
          14,
          13,
          12,
          11,
          11,
          10,
          10,
          10,
          10,
          9,
          9,
          9,
          9,
          9,
          9,
          8,
          8,
          8,
          8,
          8,
          8,
          8,
          8,
          8,
          8,
          7,
          7,
          7,
          7,
          7,
          7,
          7,
          7,
          7,
          7,
          7,
          7,
          7,
          7,
          7,
          7,
          7,
          7,
          6,
          6,
          6,
          6,
          6,
          6,
          6,
          6,
          6,
          6,
          6,
          6,
          6,
          5,
          5,
          5,
          5,
          5,
          5,
          5,
          5,
          5,
          5,
          5,
          5,
          5,
          5,
          5,
          5,
          5,
          5,
          5,
          5,
          5,
          5,
          5,
          5,
          5,
          5,
          4,
          4,
          4,
          4,
          4,
          4,
          4,
          4,
          4,
          4,
          4,
          4,
          4,
          4,
          4,
          4,
          4,
          4,
          4,
          4,
          4,
          4,
          4,
          4,
          4,
          4,
          4,
          4,
          4,
          4,
          4,
          4,
          4,
          4,
          4,
          4,
          4,
          4,
          4,
          3,
          3,
          3,
          3,
          3,
          3,
          3,
          3,
          3,
          3,
          3,
          3,
          3,
          3,
          3,
          3,
          3,
          3,
          3,
          3,
          3,
          3,
          3,
          3,
          3,
          3,
          3,
          3,
          3,
          3,
          3,
          3,
          3,
          3,
          3,
          3,
          3,
          3,
          3,
          3,
          3,
          3,
          3,
          3,
          3,
          3,
          3,
          3,
          3,
          3,
          3,
          3,
          3,
          3,
          3,
          3,
          3,
          3,
          3,
          3,
          3,
          3,
          3,
          3,
          3,
          3,
          3,
          3,
          3,
          3,
          3,
          3,
          3,
          3,
          3,
          3,
          3,
          3,
          3,
          3,
          3,
          3,
          3,
          3,
          3,
          3,
          3,
          2,
          2,
          2,
          2,
          2,
          2,
          2,
          2,
          2,
          2,
          2,
          2,
          2,
          2,
          2,
          2,
          2,
          2,
          2,
          2,
          2,
          2,
          2,
          2,
          2,
          2,
          2,
          2,
          2,
          2,
          2,
          2,
          2,
          2,
          2,
          2,
          2,
          2,
          2,
          2,
          2,
          2,
          2,
          2,
          2,
          2,
          2,
          2,
          2,
          2,
          2,
          2,
          2,
          2,
          2,
          2,
          2,
          2,
          2,
          2,
          2,
          2,
          2,
          2,
          2,
          2,
          2,
          2,
          2,
          2,
          2,
          2,
          2,
          2,
          2,
          2,
          2,
          2,
          2,
          2,
          2,
          2,
          2,
          2,
          2,
          2,
          2,
          2,
          2,
          2,
          2,
          2,
          2,
          2,
          2,
          2,
          2,
          2,
          2,
          2,
          2,
          2,
          2,
          2,
          2,
          2,
          2,
          2,
          2,
          2,
          2,
          2,
          2,
          2,
          2,
          2,
          2,
          2,
          2,
          2,
          2,
          2,
          2,
          2,
          2,
          2,
          2,
          2,
          2,
          2,
          2,
          2,
          2,
          2,
          2,
          2,
          2,
          2,
          2,
          2,
          2,
          2,
          2,
          2,
          2,
          2,
          2,
          2,
          1,
          1,
          1,
          1,
          1,
          1,
          1,
          1,
          1,
          1,
          1,
          1,
          1,
          1,
          1,
          1,
          1,
          1,
          1,
          1,
          1,
          1,
          1,
          1,
          1,
          1,
          1,
          1,
          1,
          1,
          1,
          1,
          1,
          1,
          1,
          1,
          1,
          1,
          1,
          1,
          1,
          1,
          1,
          1,
          1,
          1,
          1,
          1,
          1,
          1,
          1,
          1,
          1,
          1,
          1,
          1,
          1,
          1,
          1,
          1,
          1,
          1,
          1,
          1,
          1,
          1,
          1,
          1,
          1,
          1,
          1,
          1,
          1,
          1,
          1,
          1,
          1,
          1,
          1,
          1,
          1,
          1,
          1,
          1,
          1,
          1,
          1,
          1,
          1,
          1,
          1,
          1,
          1,
          1,
          1,
          1,
          1,
          1,
          1,
          1,
          1,
          1,
          1,
          1,
          1,
          1,
          1,
          1,
          1,
          1,
          1,
          1,
          1,
          1,
          1,
          1,
          1,
          1,
          1,
          1,
          1,
          1,
          1,
          1,
          1,
          1,
          1,
          1,
          1,
          1,
          1,
          1,
          1,
          1,
          1,
          1,
          1,
          1,
          1,
          1,
          1,
          1,
          1,
          1,
          1,
          1,
          1,
          1,
          1,
          1,
          1,
          1,
          1,
          1,
          1,
          1,
          1,
          1,
          1,
          1,
          1,
          1,
          1,
          1,
          1,
          1,
          1,
          1,
          1,
          1,
          1,
          1,
          1,
          1,
          1,
          1,
          1,
          1,
          1,
          1,
          1,
          1,
          1,
          1,
          1,
          1,
          1,
          1,
          1,
          1,
          1,
          1,
          1,
          1,
          1,
          1,
          1,
          1,
          1,
          1,
          1,
          1,
          1,
          1,
          1,
          1,
          1,
          1,
          1,
          1,
          1,
          1,
          1,
          1,
          1,
          1,
          1,
          1,
          1,
          1,
          1,
          1,
          1,
          1,
          1,
          1,
          1,
          1,
          1,
          1,
          1,
          1,
          1,
          1,
          1,
          1,
          1,
          1,
          1,
          1,
          1,
          1,
          1,
          1,
          1,
          1,
          1,
          1,
          1,
          1,
          1,
          1,
          1,
          1,
          1,
          1,
          1,
          1,
          1,
          1,
          1,
          1,
          1,
          1,
          1,
          1,
          1,
          1,
          1,
          1,
          1,
          1,
          1,
          1,
          1,
          1,
          1,
          1,
          1,
          1,
          1,
          1,
          1,
          1,
          1,
          1,
          1,
          1,
          1,
          1,
          1,
          1,
          1,
          1,
          1,
          1,
          1,
          1,
          1,
          1,
          1,
          1,
          1,
          1,
          1,
          1,
          1,
          1,
          1,
          1,
          1,
          1,
          1,
          1,
          1,
          1,
          1,
          1,
          1,
          1,
          1,
          1,
          1,
          1,
          1,
          1,
          1,
          1,
          1,
          1,
          1,
          1,
          1,
          1,
          1,
          1,
          1,
          1,
          1,
          1,
          1,
          1,
          1,
          1,
          1,
          1,
          1,
          1,
          1,
          1,
          1,
          1,
          1,
          1,
          1,
          1,
          1,
          1,
          1,
          1,
          1,
          1,
          1,
          1,
          1,
          1,
          1,
          1,
          1,
          1,
          1,
          1,
          1,
          1,
          1,
          1,
          1,
          1,
          1,
          1,
          1,
          1,
          1,
          1,
          1,
          1,
          1,
          1,
          1,
          1,
          1,
          1,
          1,
          1,
          1,
          1,
          1,
          1,
          1,
          1,
          1,
          1,
          1,
          1,
          1,
          1,
          1,
          1,
          1,
          1,
          1,
          1,
          1
         ]
        },
        {
         "mode": "markers",
         "name": "0",
         "opacity": 0.5,
         "type": "scatter",
         "x": [
          0,
          0.3304,
          0.4105,
          0.54,
          0.3059,
          0.3318,
          0.5447,
          0.4219,
          0.3726,
          0.4056,
          0.4504,
          0.4,
          0.4551,
          0.3152,
          0.4091,
          0.4466,
          0.3612,
          0.2879,
          0.3976,
          0.3584,
          0.2907,
          0.2886,
          0.328,
          0.5197,
          0.2643,
          0.3362,
          0.6145,
          0.3395,
          0.3866,
          0.255,
          0.3341,
          0.4772,
          0.2706,
          0.2671,
          0.3656,
          0.2295,
          0.4396,
          0.2396,
          0.4712,
          0.4126,
          0.2813,
          0.3222,
          0.4065,
          0.3201,
          0.3236,
          0.2928,
          0.431,
          0.233,
          0.347,
          0.473,
          0.4028,
          0.307,
          0.3596,
          0.5534,
          0.6647,
          0.2564,
          0.3747,
          0.4791,
          0.2771,
          0.474,
          0.3965,
          0.4723,
          0.512,
          0.5389,
          0.3838,
          0.3642,
          0.2975,
          0.5316,
          0.2998,
          0.3311,
          0.4705,
          0.6227,
          0.3619,
          0.3322,
          0.8482,
          0.3505,
          0.3663,
          0.2181,
          0.222,
          0.3899,
          0.5391,
          0.3117,
          0.3682,
          0.4691,
          0.7299,
          0.4119,
          0.4527,
          0.212,
          0.4039,
          0.2722,
          0.3397,
          0.5867,
          0.6528,
          0.5279,
          0.2575,
          0.8531,
          0.3449,
          0.4228,
          0.2697,
          0.3549,
          0.5713,
          0.449,
          0.3224,
          0.2855,
          0.3327,
          0.2715,
          0.2881,
          0.5484,
          0.3306,
          0.5067,
          0.8191,
          0.2631,
          0.4646,
          0.2351,
          0.3301,
          0.6997,
          0.5902,
          0.7336,
          0.1725,
          0.3453,
          0.2171,
          0.399,
          0.3731,
          0.357,
          0.6619,
          0.7794,
          0.7768,
          0.3336,
          0.6085,
          0.4361,
          0.2431,
          0.3444,
          0.8076,
          0.8697,
          0.286,
          0.2239,
          0.3887,
          0.4217,
          0.4077,
          0.2174,
          0.7231,
          0.2942,
          0.3876,
          0.3759,
          0.3568,
          0.544,
          0.4919,
          0.3161,
          0.3035,
          0.4803,
          0.3075,
          0.315,
          0.7875,
          0.8226,
          0.3733,
          0.7338,
          0.2608,
          0.4796,
          0.4807,
          0.2895,
          0.4541,
          0.3313,
          0.427,
          0.4994,
          0.5863,
          0.4046,
          0.4537,
          0.5839,
          0.3348,
          0.5718,
          0.586,
          0.4147,
          0.3266,
          0.4053,
          0.6159,
          0.3997,
          0.2713,
          0.1445,
          0.3514,
          0.5025,
          0.5335,
          0.3329,
          0.4628,
          0.5541,
          0.7152,
          0.2954,
          0.5968,
          0.3796,
          0.2036,
          0.3147,
          0.5433,
          0.6591,
          0.4434,
          0.3687,
          0.4726,
          0.3115,
          0.5517,
          0.3325,
          0.3456,
          0.6895,
          0.3103,
          0.304,
          0.5466,
          0.3901,
          0.5309,
          0.4698,
          0.6353,
          0.4168,
          0.3061,
          0.5202,
          0.619,
          0.6624,
          0.6253,
          0.4245,
          0.3133,
          0.5991,
          0.1609,
          0.5482,
          0.5825,
          0.4282,
          0.629,
          0.5793,
          0.5085,
          0.8933,
          0.3526,
          0.3794,
          0.2655,
          0.3512,
          0.5494,
          0.6059,
          0.5657,
          0.5445,
          0.3801,
          0.579,
          0.6451,
          0.3824,
          0.4366,
          0.4971,
          0.2536,
          0.8473,
          0.5461,
          0.7509,
          0.3607,
          0.8506,
          0.4212,
          0.5179,
          0.5412,
          0.374,
          0.3883,
          0.3983,
          0.4639,
          0.4987,
          0.5232,
          0.7579,
          0.2204,
          0.41,
          0.2629,
          0.4534,
          0.3778,
          0.6416,
          0.5363,
          0.583,
          0.452,
          0.6215,
          0.258,
          0.3227,
          0.5274,
          0.7145,
          0.3969,
          0.5214,
          0.4373,
          0.3418,
          0.6512,
          0.3498,
          0.2162,
          0.3738,
          0.4936,
          0.2197,
          0.615,
          0.3724,
          0.2926,
          0.1268,
          0.2508,
          0.4579,
          0.4502,
          0.4256,
          0.509,
          0.3495,
          0.3143,
          0.5573,
          0.4058,
          0.5144,
          0.7121,
          0.2232,
          0.665,
          0.4266,
          0.4471,
          0.4422,
          0.2013,
          0.6099,
          0.5377,
          0.8116,
          0.3647,
          0.5884,
          0.5548,
          0.2935,
          0.4135,
          0.3598,
          0.742,
          0.6124,
          0.6706,
          0.3565,
          0.8106,
          0.3255,
          0.5438,
          0.3399,
          0.8693,
          0.8039,
          0.2965,
          0.5986,
          0.5351,
          0.7046,
          0.7654,
          0.2837,
          0.6951,
          0.7574,
          0.4782,
          0.3782,
          0.5914,
          0.5048,
          0.4249,
          0.2991,
          0.7551,
          0.3579,
          0.5954,
          0.6717,
          0.6862,
          0.562,
          0.4338,
          0.3834,
          0.3378,
          0.3911,
          0.8228,
          0.4763,
          0.4049,
          0.2718,
          0.4565,
          0.7562,
          0.844,
          0.502,
          0.2363,
          0.2694,
          0.4303,
          0.8816,
          0.3939,
          0.6498,
          0.8749,
          0.3943,
          0.4968,
          0.947,
          0.7189,
          0.6986,
          0.4098,
          0.5468,
          0.2725,
          0.5739,
          0.2489,
          0.4037,
          0.714,
          0.6292,
          0.4233,
          0.453,
          0.3582,
          0.728,
          0.9148,
          0.9757,
          0.4758,
          0.2979,
          0.2447,
          0.626,
          0.4387,
          0.6521,
          0.4663,
          0.611,
          0.6563,
          0.3638,
          0.3703,
          0.5804,
          0.6397,
          0.3392,
          0.8492,
          0.7252,
          0.3199,
          0.4263,
          0.4284,
          0.3617,
          0.4733,
          0.3981,
          0.5265,
          0.6673,
          0.685,
          0.279,
          0.2657,
          0.3472,
          0.2844,
          0.3287,
          0.241,
          0.5702,
          0.4385,
          0.5587,
          0.6201,
          0.4002,
          0.6283,
          0.4894,
          0.2384,
          0.2293,
          0.7682,
          0.3785,
          0.2659,
          0.4448,
          0.4856,
          0.6143,
          0.46,
          0.1751,
          0.4873,
          0.6031,
          0.2984,
          0.2386,
          0.6334,
          0.2956,
          0.2893,
          0.4382,
          0.5006,
          0.883,
          0.1756,
          0.5758,
          0.643,
          0.3131,
          0.4462,
          0.7067,
          0.3633,
          0.3014,
          0.7999,
          0.2746,
          0.3715,
          0.7959,
          0.2414,
          0.4819,
          0.5172,
          0.5286,
          0.6636,
          0.6028,
          0.7703,
          0.4007,
          0.3463,
          0.5505,
          0.1884,
          0.4532,
          0.4086,
          0.8648,
          0.6969,
          0.6827,
          0.4567,
          0.7625,
          0.314,
          0.6556,
          0.3166,
          0.3586,
          0.7488,
          0.3621,
          0.3439,
          0.2762,
          0.7686,
          0.4305,
          0.5347,
          0.4889,
          0.8905,
          0.6113,
          0.5344,
          0.4499,
          0.7614,
          0.6888,
          0.8613,
          0.3346,
          0.513,
          0.4602,
          0.4095,
          0.5487,
          0.6808,
          0.414,
          0.3283,
          0.2909,
          0.3119,
          0.3435,
          0.8947,
          0.5667,
          0.6362,
          0.3124,
          0.2832,
          0.732,
          0.6801,
          0.8849,
          0.4931,
          0.7257,
          0.3,
          0.5781,
          0.6409,
          0.2452,
          0.622,
          0.5858,
          0.4954,
          0.2501,
          0.6804,
          0.4845,
          0.5384,
          0.4156,
          0.2603,
          0.686,
          0.8538,
          0.4455,
          0.2825,
          0.2459,
          0.7994,
          0.3164,
          0.5837,
          0.3187,
          0.3771,
          0.4609,
          0.3402,
          0.7035,
          0.2519,
          0.407,
          0.8872,
          0.9498,
          0.4301,
          0.3488,
          0.6005,
          0.8781,
          0.8798,
          0.3519,
          0.4677,
          0.7672,
          0.7532,
          0.5237,
          0.1826,
          0.59,
          0.6213,
          0.3736,
          0.4403,
          0.7427,
          0.6264,
          0.4051,
          0.5414,
          0.3089,
          0.4259,
          0.3631,
          0.3827,
          0.6341,
          0.6162,
          0.5039,
          0.3556,
          0.3343,
          0.3523,
          0.6995,
          0.777,
          0.3936,
          0.325,
          0.4492,
          0.2153,
          0.4922,
          0.6605,
          0.6206,
          0.4067,
          0.7028,
          0.3017,
          0.749,
          0.7296,
          0.3486,
          0.4289,
          0.6839,
          0.7803,
          0.6047,
          0.3054,
          0.6101,
          0.679,
          0.1996,
          0.434,
          0.7245,
          0.6306,
          0.625,
          0.8034,
          0.7691,
          0.7945,
          0.477,
          0.2227,
          0.566,
          0.7826,
          0.5788,
          0.5676,
          0.2858,
          0.2989,
          0.2664,
          0.5032,
          0.2339,
          0.4656,
          0.778,
          0.4158,
          0.2662,
          0.4901,
          0.9057,
          0.7822,
          0.3962,
          0.6187,
          0.6967,
          0.23,
          0.7726,
          0.3967,
          0.8552,
          0.8959,
          0.696,
          0.2785,
          0.752,
          0.5473,
          0.6049,
          0.6453,
          0.5524,
          0.5807,
          0.3451,
          0.71,
          0.2403,
          0.5769,
          0.5312,
          0.6687,
          0.4642,
          0.3624,
          0.2115,
          0.4322,
          0.5629,
          0.6797,
          0.2517,
          0.6507,
          0.6288,
          0.5417,
          0.5242,
          0.5618,
          0.5923,
          0.653,
          0.3122,
          0.1852,
          0.3869,
          0.3294,
          0.7964,
          0.1375,
          0.9092,
          0.6257,
          0.6523,
          0.805,
          0.208,
          0.3764,
          0.5099,
          0.4882,
          0.4511,
          0.8431,
          0.4614,
          0.3126,
          0.4032,
          0.692,
          0.6825,
          0.294,
          0.435,
          0.1714,
          0.4852,
          0.4445,
          0.9477,
          0.3528,
          0.6262,
          0.7282,
          0.4312,
          0.573,
          0.4775,
          0.6547,
          0.2795,
          0.4924,
          0.3915,
          0.2202,
          0.3927,
          0.7434,
          0.3729,
          0.4621,
          0.3808,
          0.8447,
          0.5874,
          0.368,
          0.3157,
          0.3101,
          0.5951,
          0.3082,
          0.3516,
          0.8071,
          0.3038,
          0.4749,
          0.6141,
          0.7572,
          0.1837,
          0.4347,
          0.3264,
          0.7,
          0.4623,
          0.3745,
          0.6374,
          0.4658,
          0.6192,
          0.4088,
          0.4838,
          0.4546,
          0.3437,
          0.8585,
          0.5828,
          0.8536,
          0.8966,
          0.3577,
          0.838,
          0.6514,
          0.6458,
          0.3953,
          0.7457,
          0.3047,
          0.7429,
          0.6983,
          0.2246,
          0.5909,
          0.7114,
          0.417,
          0.4978,
          0.6211,
          0.4779,
          0.4478,
          0.3754,
          0.3465,
          0.2781,
          0.4436,
          0.4707,
          0.8046,
          0.7107,
          0.858,
          0.5641,
          0.3544,
          0.4464,
          0.8352,
          0.3374,
          0.4023,
          0.6082,
          0.3196,
          0.3474,
          0.3416,
          0.3589,
          0.4607,
          0.8067,
          0.403,
          0.608,
          0.4238,
          0.2827,
          0.6799,
          0.5062,
          0.5064,
          0.8576,
          0.745,
          0.788,
          0.7359,
          0.3376,
          0.7651,
          0.6899,
          0.6671,
          0.8632,
          0.3185,
          0.5118,
          0.215,
          0.897,
          0.3031,
          0.672,
          0.6057,
          0.3689,
          0.6953,
          0.5552,
          0.4203,
          0.4635,
          0.5977,
          0.3864,
          0.7938,
          0.7222,
          0.7387,
          0.647,
          0.4261,
          0.8258,
          0.6584,
          0.4354,
          0.4427,
          0.7243,
          0.389,
          0.4719,
          0.4011,
          0.3446,
          0.7915,
          0.36,
          0.487,
          0.2265,
          0.4331,
          0.7464,
          0.1819,
          0.1856,
          0.336,
          0.7233,
          0.7485,
          0.3773,
          0.8791,
          0.498,
          0.4555,
          0.4933,
          0.6701,
          0.5592,
          0.2673,
          0.5865,
          0.9428,
          0.3948,
          0.7712,
          0.5305,
          0.9106,
          0.6313,
          0.7194,
          0.5611,
          0.3243,
          0.9129,
          0.7894,
          0.4728,
          0.1772,
          0.5772,
          0.3175,
          0.7212,
          0.4842,
          0.4777,
          0.4513,
          0.4814,
          0.4483,
          0.6572,
          0.83,
          0.6594,
          0.3409,
          0.3024,
          0.4406,
          0.7616,
          0.5515,
          0.3087,
          0.8426,
          0.318,
          0.8704,
          0.236,
          0.2578,
          0.7128,
          0.4831,
          0.353,
          0.7411,
          0.8151,
          0.2666,
          0.3479,
          0.5748,
          0.4165,
          0.569,
          0.6516,
          0.5622,
          0.2685,
          0.8361,
          0.7362,
          0.7752,
          0.2678,
          0.4903,
          0.3988,
          0.3666,
          0.4929,
          0.5382,
          0.6622,
          0.9157,
          0.4457,
          0.7373,
          0.6829,
          0.2136,
          0.8735,
          0.3385,
          0.6138,
          0.8064,
          0.7548,
          0.7929,
          0.6449,
          0.4207,
          0.4247,
          0.3299,
          0.1314,
          0.4558,
          0.6944,
          0.3995,
          0.7453,
          0.9082,
          0.4721,
          0.8618,
          0.8823,
          0.8027,
          0.5284,
          0.6318,
          0.6822,
          0.7105,
          0.2302,
          0.6638,
          0.5295,
          0.4681,
          0.8784,
          0.5998,
          0.3946,
          0.6267,
          0.5097,
          0.4884,
          0.421,
          0.3661,
          0.7364,
          0.3371,
          0.4473,
          0.4485,
          0.6367,
          0.2473,
          0.2599,
          0.6355,
          0.4254,
          0.173,
          0.5127,
          0.2356,
          0.8004,
          0.4875,
          0.7177,
          0.6446,
          0.9185,
          0.9101,
          0.8317,
          0.2582,
          0.5711,
          0.321,
          0.4481,
          0.6348,
          0.1989,
          0.6668,
          0.4506,
          0.7037,
          0.6939,
          0.3878,
          0.6255,
          0.6892,
          0.3154,
          0.3979,
          0.8424,
          0.343,
          0.3572,
          0.2848,
          0.7504,
          0.6526,
          0.4252,
          0.5846,
          0.2949,
          0.2083,
          0.5695,
          0.526,
          0.3743,
          0.7864,
          0.3761,
          0.6724,
          0.5536,
          0.5386,
          0.3806,
          0.7002,
          0.3259,
          0.8657,
          0.9479,
          0.5664,
          0.5113,
          0.7208,
          0.7553,
          0.2652,
          0.534,
          0.8606,
          0.2297,
          0.6108,
          0.5669,
          0.2692,
          0.7609,
          0.6351,
          0.282,
          0.4793,
          0.466,
          0.5646,
          0.3257,
          0.7546,
          0.484,
          0.8641,
          0.2428,
          0.5512,
          0.5235,
          0.3425,
          0.4604,
          0.8664,
          0.2316,
          0.8844,
          0.7184,
          0.6369,
          0.2986,
          0.406,
          0.2755,
          0.3138,
          0.3364,
          0.5697,
          0.6675,
          0.4221,
          0.3813,
          0.6972,
          0.4756,
          0.7889,
          0.4429,
          0.4392,
          0.2157,
          0.8111,
          0.8912,
          0.612,
          0.2335,
          0.237,
          0.481,
          0.8256,
          0.7278,
          0.6535,
          0.5877,
          0.5751,
          0.7303,
          0.6472,
          0.5797,
          0.4151,
          0.8074,
          0.2104,
          0.2094,
          0.6778,
          0.7289,
          0.731,
          0.1903,
          0.3493,
          0.5251,
          0.6204,
          0.6909,
          0.7675,
          0.8011,
          0.7079,
          0.3822,
          0.5258,
          0.5167,
          0.6551,
          0.2869,
          0.5765,
          0.3276,
          0.7525,
          0.5881,
          0.3215,
          0.2424,
          0.1716,
          0.456,
          0.5111,
          0.3271,
          0.2321,
          0.6537,
          0.4175,
          0.3229,
          0.5053,
          0.4357,
          0.7124,
          0.268,
          0.4329,
          0.2748,
          0.346,
          0.5452,
          0.555,
          0.7173,
          0.1515,
          0.5835,
          0.93,
          0.2811,
          0.4123,
          0.6185,
          0.3705,
          0.5155,
          0.2484,
          0.8083,
          0.6713,
          0.58,
          0.6846,
          0.1261,
          0.8296,
          0.7401,
          0.367,
          0.7462,
          0.5942,
          0.4025,
          0.5671,
          0.8863,
          0.5125,
          0.2916,
          0.7399,
          0.9045,
          0.6755,
          0.2122,
          0.438,
          0.3428,
          0.6358,
          0.3182,
          0.7334,
          0.4915,
          0.5538,
          0.4268,
          0.4859,
          0.5716,
          0.6269,
          0.3673,
          0.2905,
          0.7187,
          0.2438,
          0.6509,
          0.5153,
          0.6178,
          0.6813,
          0.1669,
          0.8013,
          0.699,
          0.5095,
          0.6222,
          0.8767,
          0.4319,
          0.8202,
          0.6325,
          0.3049,
          0.3241,
          0.9297,
          0.1709,
          0.4368,
          0.4817,
          0.5148,
          0.2127,
          0.7721,
          0.6577,
          0.5244,
          0.8924,
          0.6745,
          0.5218,
          0.7541,
          0.735,
          0.5368,
          0.1795,
          0.5225,
          0.3357,
          0.5193,
          0.2883,
          0.4789,
          0.7229,
          0.5029,
          0.6021,
          0.6832,
          0.5604,
          0.2017,
          0.7593,
          0.2792,
          0.2503,
          0.636,
          0.4345,
          0.9031,
          0.2802,
          0.7668,
          0.4035,
          0.8097,
          0.7074,
          0.2164,
          0.6633,
          0.7808,
          0.1361,
          0.4417,
          0.3626,
          0.5083,
          0.848,
          0.6171,
          0.5615,
          0.6246,
          0.6703,
          0.8398,
          0.3831,
          0.9047,
          0.4744,
          0.6878,
          0.4224,
          0.4574,
          0.865,
          0.5578,
          0.4343,
          0.8975,
          0.5239,
          0.2704,
          0.42,
          0.6558,
          0.6302,
          0.3535,
          0.1366,
          0.3467,
          0.4114,
          0.5779,
          0.1697,
          0.8331,
          0.6332,
          0.618,
          0.558,
          0.5648,
          0.6794,
          0.738,
          0.4985,
          0.2463,
          0.6218,
          0.2426,
          0.5557,
          0.8345,
          0.5106,
          0.506,
          0.7906,
          0.9407,
          0.7166,
          0.332,
          0.4443,
          0.3934,
          0.7217,
          0.5055,
          0.8639,
          0.3091,
          0.6923,
          0.3892,
          0.4828,
          0.2311,
          0.6603,
          0.5594,
          0.7852,
          0.7329,
          0.5123,
          0.6643,
          0.7796,
          0.1644,
          0.5583,
          0.8994,
          0.6897,
          0.442,
          0.4352,
          0.6918,
          0.2585,
          0.3542,
          0.7983,
          0.7506,
          0.707,
          0.3308,
          0.9307,
          0.4287,
          0.3972,
          0.495,
          0.4401,
          0.354,
          0.293,
          0.1758,
          0.799,
          0.6169,
          0.3217,
          0.4359,
          0.6344,
          0.7483,
          0.4525,
          0.6271,
          0.8109,
          0.382,
          0.9379,
          0.1805,
          0.9099,
          0.248,
          0.8683,
          0.5008,
          0.6601,
          0.4413,
          0.3234,
          0.2573,
          0.4637,
          0.6554,
          0.6442,
          0.3491,
          0.6766,
          0.2057,
          0.2379,
          0.4308,
          0.3904,
          0.4333,
          0.8548,
          0.3052,
          0.8562,
          0.9216,
          0.5979,
          0.9279,
          0.7219,
          0.6243,
          0.8891,
          0.7032,
          0.4947,
          0.2888,
          0.7665,
          0.3012,
          0.6229,
          0.4632,
          0.2003,
          0.7215,
          0.7084,
          0.5288,
          0.7948,
          0.3547,
          0.5823,
          0.8282,
          0.7787,
          0.4926,
          0.3145,
          0.6934,
          0.8737,
          0.2279,
          0.5786,
          0.4459,
          0.6103,
          0.3768,
          0.5706,
          0.3993,
          0.4653,
          0.2912,
          0.3383,
          0.6407,
          0.5041,
          0.7397,
          0.4784,
          0.6696,
          0.837,
          0.9054,
          0.2251,
          0.4912,
          0.8401,
          0.2627,
          0.7717,
          0.2213,
          0.5571,
          0.3941,
          0.7091,
          0.3042,
          0.8419,
          0.7271,
          0.6544,
          0.6806,
          0.3136,
          0.8132,
          0.7205,
          0.6876,
          0.3369,
          0.4488,
          0.2645,
          0.5926,
          0.4336,
          0.5842,
          0.3033,
          0.3098,
          0.5449,
          0.5795,
          0.322,
          0.7588,
          0.2571,
          0.6495,
          0.5508,
          0.7025,
          0.4982,
          0.2902,
          0.8165,
          0.3213,
          0.7831,
          0.7443,
          0.3388,
          0.4959,
          0.5139,
          0.2477,
          0.29,
          0.4009,
          0.5027,
          0.5613,
          0.572,
          0.5146,
          0.5321,
          0.4315,
          0.4672,
          0.5088,
          0.6194,
          0.7004,
          0.5323,
          0.5501,
          0.7843,
          0.2601,
          0.739,
          0.4399,
          0.441,
          0.2449,
          0.4824,
          0.7754,
          0.4112,
          0.2064,
          0.2269,
          0.2683,
          0.7497,
          0.4184,
          0.3334,
          0.7371,
          0.6869,
          0.8879,
          0.371,
          0.3068,
          0.4063,
          0.3554,
          0.5421,
          0.3593,
          0.8711,
          0.4518,
          0.8141,
          0.4847,
          0.5737,
          0.7663,
          0.7833,
          0.2951,
          0.3432,
          0.4079,
          0.5158,
          0.1742,
          0.6678,
          0.5496,
          0.7775,
          0.682,
          0.6425,
          0.5774,
          0.6871,
          0.4371,
          0.8716,
          0.3929,
          0.817,
          0.4595,
          0.2636,
          0.5585,
          0.4193,
          0.7011,
          0.759,
          0.6694,
          0.8118,
          0.8788,
          0.2648,
          0.6423,
          0.3918,
          0.7102,
          0.4273,
          0.1828,
          0.7838,
          0.1658,
          0.9071
         ],
         "y": [
          9697,
          827,
          451,
          431,
          385,
          311,
          306,
          256,
          253,
          227,
          221,
          216,
          170,
          169,
          160,
          155,
          145,
          134,
          132,
          129,
          117,
          103,
          101,
          100,
          97,
          94,
          86,
          85,
          85,
          84,
          83,
          80,
          73,
          70,
          60,
          60,
          58,
          58,
          57,
          56,
          55,
          55,
          54,
          54,
          54,
          52,
          51,
          50,
          50,
          49,
          49,
          48,
          48,
          48,
          44,
          42,
          42,
          42,
          39,
          39,
          39,
          39,
          39,
          39,
          38,
          37,
          36,
          36,
          36,
          36,
          36,
          35,
          35,
          34,
          33,
          32,
          32,
          32,
          30,
          30,
          28,
          28,
          28,
          27,
          27,
          27,
          27,
          27,
          26,
          26,
          26,
          25,
          25,
          25,
          25,
          25,
          24,
          24,
          24,
          23,
          23,
          23,
          23,
          23,
          23,
          22,
          22,
          22,
          22,
          21,
          21,
          21,
          21,
          20,
          20,
          20,
          20,
          20,
          20,
          20,
          19,
          19,
          19,
          19,
          19,
          19,
          18,
          18,
          18,
          18,
          18,
          18,
          18,
          17,
          17,
          17,
          17,
          16,
          16,
          16,
          16,
          16,
          16,
          16,
          16,
          16,
          16,
          16,
          15,
          15,
          15,
          15,
          15,
          15,
          15,
          15,
          15,
          15,
          15,
          15,
          15,
          15,
          14,
          14,
          14,
          14,
          14,
          14,
          14,
          14,
          13,
          13,
          13,
          13,
          13,
          13,
          13,
          13,
          13,
          13,
          13,
          13,
          13,
          13,
          13,
          12,
          12,
          12,
          12,
          12,
          12,
          12,
          12,
          12,
          12,
          12,
          12,
          12,
          12,
          12,
          11,
          11,
          11,
          11,
          11,
          11,
          11,
          11,
          11,
          11,
          11,
          11,
          11,
          11,
          11,
          11,
          10,
          10,
          10,
          10,
          10,
          10,
          10,
          10,
          10,
          10,
          10,
          10,
          10,
          10,
          9,
          9,
          9,
          9,
          9,
          9,
          9,
          9,
          9,
          9,
          9,
          9,
          9,
          9,
          9,
          9,
          9,
          9,
          9,
          9,
          8,
          8,
          8,
          8,
          8,
          8,
          8,
          8,
          8,
          8,
          8,
          8,
          8,
          8,
          8,
          8,
          8,
          8,
          8,
          8,
          8,
          8,
          8,
          8,
          8,
          8,
          8,
          8,
          8,
          8,
          8,
          8,
          8,
          8,
          8,
          8,
          8,
          8,
          7,
          7,
          7,
          7,
          7,
          7,
          7,
          7,
          7,
          7,
          7,
          7,
          7,
          7,
          7,
          7,
          7,
          7,
          7,
          7,
          7,
          7,
          7,
          7,
          7,
          7,
          7,
          7,
          7,
          7,
          7,
          7,
          7,
          7,
          7,
          7,
          7,
          7,
          7,
          7,
          7,
          7,
          7,
          6,
          6,
          6,
          6,
          6,
          6,
          6,
          6,
          6,
          6,
          6,
          6,
          6,
          6,
          6,
          6,
          6,
          6,
          6,
          6,
          6,
          6,
          6,
          6,
          6,
          6,
          6,
          6,
          6,
          6,
          6,
          6,
          6,
          6,
          6,
          6,
          6,
          6,
          6,
          6,
          6,
          6,
          6,
          6,
          6,
          6,
          6,
          6,
          6,
          6,
          6,
          6,
          6,
          6,
          6,
          6,
          5,
          5,
          5,
          5,
          5,
          5,
          5,
          5,
          5,
          5,
          5,
          5,
          5,
          5,
          5,
          5,
          5,
          5,
          5,
          5,
          5,
          5,
          5,
          5,
          5,
          5,
          5,
          5,
          5,
          5,
          5,
          5,
          5,
          5,
          5,
          5,
          5,
          5,
          5,
          5,
          5,
          5,
          5,
          5,
          5,
          5,
          5,
          5,
          5,
          5,
          5,
          5,
          5,
          5,
          5,
          5,
          5,
          5,
          5,
          5,
          5,
          5,
          5,
          5,
          5,
          5,
          5,
          5,
          5,
          5,
          5,
          5,
          5,
          5,
          5,
          5,
          5,
          5,
          5,
          5,
          5,
          4,
          4,
          4,
          4,
          4,
          4,
          4,
          4,
          4,
          4,
          4,
          4,
          4,
          4,
          4,
          4,
          4,
          4,
          4,
          4,
          4,
          4,
          4,
          4,
          4,
          4,
          4,
          4,
          4,
          4,
          4,
          4,
          4,
          4,
          4,
          4,
          4,
          4,
          4,
          4,
          4,
          4,
          4,
          4,
          4,
          4,
          4,
          4,
          4,
          4,
          4,
          4,
          4,
          4,
          4,
          4,
          4,
          4,
          4,
          4,
          4,
          4,
          4,
          4,
          4,
          4,
          4,
          4,
          4,
          4,
          4,
          4,
          4,
          4,
          4,
          4,
          4,
          4,
          4,
          4,
          4,
          4,
          4,
          4,
          4,
          4,
          4,
          4,
          4,
          4,
          4,
          4,
          4,
          4,
          4,
          4,
          4,
          4,
          4,
          4,
          4,
          4,
          4,
          4,
          4,
          4,
          4,
          4,
          4,
          4,
          4,
          4,
          4,
          4,
          4,
          3,
          3,
          3,
          3,
          3,
          3,
          3,
          3,
          3,
          3,
          3,
          3,
          3,
          3,
          3,
          3,
          3,
          3,
          3,
          3,
          3,
          3,
          3,
          3,
          3,
          3,
          3,
          3,
          3,
          3,
          3,
          3,
          3,
          3,
          3,
          3,
          3,
          3,
          3,
          3,
          3,
          3,
          3,
          3,
          3,
          3,
          3,
          3,
          3,
          3,
          3,
          3,
          3,
          3,
          3,
          3,
          3,
          3,
          3,
          3,
          3,
          3,
          3,
          3,
          3,
          3,
          3,
          3,
          3,
          3,
          3,
          3,
          3,
          3,
          3,
          3,
          3,
          3,
          3,
          3,
          3,
          3,
          3,
          3,
          3,
          3,
          3,
          3,
          3,
          3,
          3,
          3,
          3,
          3,
          3,
          3,
          3,
          3,
          3,
          3,
          3,
          3,
          3,
          3,
          3,
          3,
          3,
          3,
          3,
          3,
          3,
          3,
          3,
          3,
          3,
          3,
          3,
          3,
          3,
          3,
          3,
          3,
          3,
          3,
          3,
          3,
          3,
          3,
          3,
          3,
          3,
          3,
          3,
          3,
          3,
          3,
          3,
          3,
          3,
          3,
          3,
          3,
          3,
          3,
          3,
          3,
          3,
          3,
          3,
          3,
          3,
          3,
          3,
          2,
          2,
          2,
          2,
          2,
          2,
          2,
          2,
          2,
          2,
          2,
          2,
          2,
          2,
          2,
          2,
          2,
          2,
          2,
          2,
          2,
          2,
          2,
          2,
          2,
          2,
          2,
          2,
          2,
          2,
          2,
          2,
          2,
          2,
          2,
          2,
          2,
          2,
          2,
          2,
          2,
          2,
          2,
          2,
          2,
          2,
          2,
          2,
          2,
          2,
          2,
          2,
          2,
          2,
          2,
          2,
          2,
          2,
          2,
          2,
          2,
          2,
          2,
          2,
          2,
          2,
          2,
          2,
          2,
          2,
          2,
          2,
          2,
          2,
          2,
          2,
          2,
          2,
          2,
          2,
          2,
          2,
          2,
          2,
          2,
          2,
          2,
          2,
          2,
          2,
          2,
          2,
          2,
          2,
          2,
          2,
          2,
          2,
          2,
          2,
          2,
          2,
          2,
          2,
          2,
          2,
          2,
          2,
          2,
          2,
          2,
          2,
          2,
          2,
          2,
          2,
          2,
          2,
          2,
          2,
          2,
          2,
          2,
          2,
          2,
          2,
          2,
          2,
          2,
          2,
          2,
          2,
          2,
          2,
          2,
          2,
          2,
          2,
          2,
          2,
          2,
          2,
          2,
          2,
          2,
          2,
          2,
          2,
          2,
          2,
          2,
          2,
          2,
          2,
          2,
          2,
          2,
          2,
          2,
          2,
          2,
          2,
          2,
          2,
          2,
          2,
          2,
          2,
          2,
          2,
          2,
          2,
          2,
          2,
          2,
          2,
          2,
          2,
          2,
          2,
          2,
          2,
          2,
          2,
          2,
          2,
          2,
          2,
          2,
          2,
          2,
          2,
          2,
          2,
          2,
          2,
          2,
          2,
          2,
          2,
          2,
          2,
          2,
          2,
          2,
          2,
          2,
          2,
          2,
          2,
          2,
          2,
          2,
          2,
          2,
          2,
          2,
          2,
          2,
          2,
          2,
          2,
          2,
          2,
          2,
          2,
          2,
          2,
          2,
          2,
          2,
          1,
          1,
          1,
          1,
          1,
          1,
          1,
          1,
          1,
          1,
          1,
          1,
          1,
          1,
          1,
          1,
          1,
          1,
          1,
          1,
          1,
          1,
          1,
          1,
          1,
          1,
          1,
          1,
          1,
          1,
          1,
          1,
          1,
          1,
          1,
          1,
          1,
          1,
          1,
          1,
          1,
          1,
          1,
          1,
          1,
          1,
          1,
          1,
          1,
          1,
          1,
          1,
          1,
          1,
          1,
          1,
          1,
          1,
          1,
          1,
          1,
          1,
          1,
          1,
          1,
          1,
          1,
          1,
          1,
          1,
          1,
          1,
          1,
          1,
          1,
          1,
          1,
          1,
          1,
          1,
          1,
          1,
          1,
          1,
          1,
          1,
          1,
          1,
          1,
          1,
          1,
          1,
          1,
          1,
          1,
          1,
          1,
          1,
          1,
          1,
          1,
          1,
          1,
          1,
          1,
          1,
          1,
          1,
          1,
          1,
          1,
          1,
          1,
          1,
          1,
          1,
          1,
          1,
          1,
          1,
          1,
          1,
          1,
          1,
          1,
          1,
          1,
          1,
          1,
          1,
          1,
          1,
          1,
          1,
          1,
          1,
          1,
          1,
          1,
          1,
          1,
          1,
          1,
          1,
          1,
          1,
          1,
          1,
          1,
          1,
          1,
          1,
          1,
          1,
          1,
          1,
          1,
          1,
          1,
          1,
          1,
          1,
          1,
          1,
          1,
          1,
          1,
          1,
          1,
          1,
          1,
          1,
          1,
          1,
          1,
          1,
          1,
          1,
          1,
          1,
          1,
          1,
          1,
          1,
          1,
          1,
          1,
          1,
          1,
          1,
          1,
          1,
          1,
          1,
          1,
          1,
          1,
          1,
          1,
          1,
          1,
          1,
          1,
          1,
          1,
          1,
          1,
          1,
          1,
          1,
          1,
          1,
          1,
          1,
          1,
          1,
          1,
          1,
          1,
          1,
          1,
          1,
          1,
          1,
          1,
          1,
          1,
          1,
          1,
          1,
          1,
          1,
          1,
          1,
          1,
          1,
          1,
          1,
          1,
          1,
          1,
          1,
          1,
          1,
          1,
          1,
          1,
          1,
          1,
          1,
          1,
          1,
          1,
          1,
          1,
          1,
          1,
          1,
          1,
          1,
          1,
          1,
          1,
          1,
          1,
          1,
          1,
          1,
          1,
          1,
          1,
          1,
          1,
          1,
          1,
          1,
          1,
          1,
          1,
          1,
          1,
          1,
          1,
          1,
          1,
          1,
          1,
          1,
          1,
          1,
          1,
          1,
          1,
          1,
          1,
          1,
          1,
          1,
          1,
          1,
          1,
          1,
          1,
          1,
          1,
          1,
          1,
          1,
          1,
          1,
          1,
          1,
          1,
          1,
          1,
          1,
          1,
          1,
          1,
          1,
          1,
          1,
          1,
          1,
          1,
          1,
          1,
          1,
          1,
          1,
          1,
          1,
          1,
          1,
          1,
          1,
          1,
          1,
          1,
          1,
          1,
          1,
          1,
          1,
          1,
          1,
          1,
          1,
          1,
          1,
          1,
          1,
          1,
          1,
          1,
          1,
          1,
          1,
          1,
          1,
          1,
          1,
          1,
          1,
          1,
          1,
          1,
          1,
          1,
          1,
          1,
          1,
          1,
          1,
          1,
          1,
          1,
          1,
          1,
          1,
          1,
          1,
          1,
          1,
          1,
          1,
          1,
          1,
          1,
          1,
          1,
          1,
          1,
          1,
          1,
          1,
          1,
          1,
          1,
          1,
          1,
          1,
          1,
          1,
          1,
          1,
          1,
          1,
          1,
          1,
          1,
          1,
          1,
          1,
          1,
          1,
          1,
          1,
          1,
          1,
          1,
          1,
          1,
          1,
          1,
          1,
          1,
          1,
          1,
          1,
          1,
          1,
          1,
          1,
          1,
          1,
          1,
          1,
          1,
          1,
          1,
          1,
          1,
          1,
          1,
          1,
          1,
          1,
          1,
          1,
          1,
          1,
          1,
          1,
          1,
          1,
          1,
          1,
          1,
          1,
          1,
          1,
          1,
          1,
          1,
          1,
          1,
          1,
          1,
          1,
          1,
          1,
          1,
          1,
          1,
          1,
          1,
          1,
          1,
          1,
          1,
          1,
          1,
          1,
          1,
          1,
          1,
          1,
          1,
          1,
          1,
          1,
          1,
          1,
          1,
          1,
          1,
          1,
          1,
          1,
          1
         ]
        }
       ],
       "layout": {
        "legend": {
         "title": {
          "text": "CS label"
         }
        },
        "template": {
         "data": {
          "bar": [
           {
            "error_x": {
             "color": "#2a3f5f"
            },
            "error_y": {
             "color": "#2a3f5f"
            },
            "marker": {
             "line": {
              "color": "#E5ECF6",
              "width": 0.5
             },
             "pattern": {
              "fillmode": "overlay",
              "size": 10,
              "solidity": 0.2
             }
            },
            "type": "bar"
           }
          ],
          "barpolar": [
           {
            "marker": {
             "line": {
              "color": "#E5ECF6",
              "width": 0.5
             },
             "pattern": {
              "fillmode": "overlay",
              "size": 10,
              "solidity": 0.2
             }
            },
            "type": "barpolar"
           }
          ],
          "carpet": [
           {
            "aaxis": {
             "endlinecolor": "#2a3f5f",
             "gridcolor": "white",
             "linecolor": "white",
             "minorgridcolor": "white",
             "startlinecolor": "#2a3f5f"
            },
            "baxis": {
             "endlinecolor": "#2a3f5f",
             "gridcolor": "white",
             "linecolor": "white",
             "minorgridcolor": "white",
             "startlinecolor": "#2a3f5f"
            },
            "type": "carpet"
           }
          ],
          "choropleth": [
           {
            "colorbar": {
             "outlinewidth": 0,
             "ticks": ""
            },
            "type": "choropleth"
           }
          ],
          "contour": [
           {
            "colorbar": {
             "outlinewidth": 0,
             "ticks": ""
            },
            "colorscale": [
             [
              0,
              "#0d0887"
             ],
             [
              0.1111111111111111,
              "#46039f"
             ],
             [
              0.2222222222222222,
              "#7201a8"
             ],
             [
              0.3333333333333333,
              "#9c179e"
             ],
             [
              0.4444444444444444,
              "#bd3786"
             ],
             [
              0.5555555555555556,
              "#d8576b"
             ],
             [
              0.6666666666666666,
              "#ed7953"
             ],
             [
              0.7777777777777778,
              "#fb9f3a"
             ],
             [
              0.8888888888888888,
              "#fdca26"
             ],
             [
              1,
              "#f0f921"
             ]
            ],
            "type": "contour"
           }
          ],
          "contourcarpet": [
           {
            "colorbar": {
             "outlinewidth": 0,
             "ticks": ""
            },
            "type": "contourcarpet"
           }
          ],
          "heatmap": [
           {
            "colorbar": {
             "outlinewidth": 0,
             "ticks": ""
            },
            "colorscale": [
             [
              0,
              "#0d0887"
             ],
             [
              0.1111111111111111,
              "#46039f"
             ],
             [
              0.2222222222222222,
              "#7201a8"
             ],
             [
              0.3333333333333333,
              "#9c179e"
             ],
             [
              0.4444444444444444,
              "#bd3786"
             ],
             [
              0.5555555555555556,
              "#d8576b"
             ],
             [
              0.6666666666666666,
              "#ed7953"
             ],
             [
              0.7777777777777778,
              "#fb9f3a"
             ],
             [
              0.8888888888888888,
              "#fdca26"
             ],
             [
              1,
              "#f0f921"
             ]
            ],
            "type": "heatmap"
           }
          ],
          "heatmapgl": [
           {
            "colorbar": {
             "outlinewidth": 0,
             "ticks": ""
            },
            "colorscale": [
             [
              0,
              "#0d0887"
             ],
             [
              0.1111111111111111,
              "#46039f"
             ],
             [
              0.2222222222222222,
              "#7201a8"
             ],
             [
              0.3333333333333333,
              "#9c179e"
             ],
             [
              0.4444444444444444,
              "#bd3786"
             ],
             [
              0.5555555555555556,
              "#d8576b"
             ],
             [
              0.6666666666666666,
              "#ed7953"
             ],
             [
              0.7777777777777778,
              "#fb9f3a"
             ],
             [
              0.8888888888888888,
              "#fdca26"
             ],
             [
              1,
              "#f0f921"
             ]
            ],
            "type": "heatmapgl"
           }
          ],
          "histogram": [
           {
            "marker": {
             "pattern": {
              "fillmode": "overlay",
              "size": 10,
              "solidity": 0.2
             }
            },
            "type": "histogram"
           }
          ],
          "histogram2d": [
           {
            "colorbar": {
             "outlinewidth": 0,
             "ticks": ""
            },
            "colorscale": [
             [
              0,
              "#0d0887"
             ],
             [
              0.1111111111111111,
              "#46039f"
             ],
             [
              0.2222222222222222,
              "#7201a8"
             ],
             [
              0.3333333333333333,
              "#9c179e"
             ],
             [
              0.4444444444444444,
              "#bd3786"
             ],
             [
              0.5555555555555556,
              "#d8576b"
             ],
             [
              0.6666666666666666,
              "#ed7953"
             ],
             [
              0.7777777777777778,
              "#fb9f3a"
             ],
             [
              0.8888888888888888,
              "#fdca26"
             ],
             [
              1,
              "#f0f921"
             ]
            ],
            "type": "histogram2d"
           }
          ],
          "histogram2dcontour": [
           {
            "colorbar": {
             "outlinewidth": 0,
             "ticks": ""
            },
            "colorscale": [
             [
              0,
              "#0d0887"
             ],
             [
              0.1111111111111111,
              "#46039f"
             ],
             [
              0.2222222222222222,
              "#7201a8"
             ],
             [
              0.3333333333333333,
              "#9c179e"
             ],
             [
              0.4444444444444444,
              "#bd3786"
             ],
             [
              0.5555555555555556,
              "#d8576b"
             ],
             [
              0.6666666666666666,
              "#ed7953"
             ],
             [
              0.7777777777777778,
              "#fb9f3a"
             ],
             [
              0.8888888888888888,
              "#fdca26"
             ],
             [
              1,
              "#f0f921"
             ]
            ],
            "type": "histogram2dcontour"
           }
          ],
          "mesh3d": [
           {
            "colorbar": {
             "outlinewidth": 0,
             "ticks": ""
            },
            "type": "mesh3d"
           }
          ],
          "parcoords": [
           {
            "line": {
             "colorbar": {
              "outlinewidth": 0,
              "ticks": ""
             }
            },
            "type": "parcoords"
           }
          ],
          "pie": [
           {
            "automargin": true,
            "type": "pie"
           }
          ],
          "scatter": [
           {
            "fillpattern": {
             "fillmode": "overlay",
             "size": 10,
             "solidity": 0.2
            },
            "type": "scatter"
           }
          ],
          "scatter3d": [
           {
            "line": {
             "colorbar": {
              "outlinewidth": 0,
              "ticks": ""
             }
            },
            "marker": {
             "colorbar": {
              "outlinewidth": 0,
              "ticks": ""
             }
            },
            "type": "scatter3d"
           }
          ],
          "scattercarpet": [
           {
            "marker": {
             "colorbar": {
              "outlinewidth": 0,
              "ticks": ""
             }
            },
            "type": "scattercarpet"
           }
          ],
          "scattergeo": [
           {
            "marker": {
             "colorbar": {
              "outlinewidth": 0,
              "ticks": ""
             }
            },
            "type": "scattergeo"
           }
          ],
          "scattergl": [
           {
            "marker": {
             "colorbar": {
              "outlinewidth": 0,
              "ticks": ""
             }
            },
            "type": "scattergl"
           }
          ],
          "scattermapbox": [
           {
            "marker": {
             "colorbar": {
              "outlinewidth": 0,
              "ticks": ""
             }
            },
            "type": "scattermapbox"
           }
          ],
          "scatterpolar": [
           {
            "marker": {
             "colorbar": {
              "outlinewidth": 0,
              "ticks": ""
             }
            },
            "type": "scatterpolar"
           }
          ],
          "scatterpolargl": [
           {
            "marker": {
             "colorbar": {
              "outlinewidth": 0,
              "ticks": ""
             }
            },
            "type": "scatterpolargl"
           }
          ],
          "scatterternary": [
           {
            "marker": {
             "colorbar": {
              "outlinewidth": 0,
              "ticks": ""
             }
            },
            "type": "scatterternary"
           }
          ],
          "surface": [
           {
            "colorbar": {
             "outlinewidth": 0,
             "ticks": ""
            },
            "colorscale": [
             [
              0,
              "#0d0887"
             ],
             [
              0.1111111111111111,
              "#46039f"
             ],
             [
              0.2222222222222222,
              "#7201a8"
             ],
             [
              0.3333333333333333,
              "#9c179e"
             ],
             [
              0.4444444444444444,
              "#bd3786"
             ],
             [
              0.5555555555555556,
              "#d8576b"
             ],
             [
              0.6666666666666666,
              "#ed7953"
             ],
             [
              0.7777777777777778,
              "#fb9f3a"
             ],
             [
              0.8888888888888888,
              "#fdca26"
             ],
             [
              1,
              "#f0f921"
             ]
            ],
            "type": "surface"
           }
          ],
          "table": [
           {
            "cells": {
             "fill": {
              "color": "#EBF0F8"
             },
             "line": {
              "color": "white"
             }
            },
            "header": {
             "fill": {
              "color": "#C8D4E3"
             },
             "line": {
              "color": "white"
             }
            },
            "type": "table"
           }
          ]
         },
         "layout": {
          "annotationdefaults": {
           "arrowcolor": "#2a3f5f",
           "arrowhead": 0,
           "arrowwidth": 1
          },
          "autotypenumbers": "strict",
          "coloraxis": {
           "colorbar": {
            "outlinewidth": 0,
            "ticks": ""
           }
          },
          "colorscale": {
           "diverging": [
            [
             0,
             "#8e0152"
            ],
            [
             0.1,
             "#c51b7d"
            ],
            [
             0.2,
             "#de77ae"
            ],
            [
             0.3,
             "#f1b6da"
            ],
            [
             0.4,
             "#fde0ef"
            ],
            [
             0.5,
             "#f7f7f7"
            ],
            [
             0.6,
             "#e6f5d0"
            ],
            [
             0.7,
             "#b8e186"
            ],
            [
             0.8,
             "#7fbc41"
            ],
            [
             0.9,
             "#4d9221"
            ],
            [
             1,
             "#276419"
            ]
           ],
           "sequential": [
            [
             0,
             "#0d0887"
            ],
            [
             0.1111111111111111,
             "#46039f"
            ],
            [
             0.2222222222222222,
             "#7201a8"
            ],
            [
             0.3333333333333333,
             "#9c179e"
            ],
            [
             0.4444444444444444,
             "#bd3786"
            ],
            [
             0.5555555555555556,
             "#d8576b"
            ],
            [
             0.6666666666666666,
             "#ed7953"
            ],
            [
             0.7777777777777778,
             "#fb9f3a"
            ],
            [
             0.8888888888888888,
             "#fdca26"
            ],
            [
             1,
             "#f0f921"
            ]
           ],
           "sequentialminus": [
            [
             0,
             "#0d0887"
            ],
            [
             0.1111111111111111,
             "#46039f"
            ],
            [
             0.2222222222222222,
             "#7201a8"
            ],
            [
             0.3333333333333333,
             "#9c179e"
            ],
            [
             0.4444444444444444,
             "#bd3786"
            ],
            [
             0.5555555555555556,
             "#d8576b"
            ],
            [
             0.6666666666666666,
             "#ed7953"
            ],
            [
             0.7777777777777778,
             "#fb9f3a"
            ],
            [
             0.8888888888888888,
             "#fdca26"
            ],
            [
             1,
             "#f0f921"
            ]
           ]
          },
          "colorway": [
           "#636efa",
           "#EF553B",
           "#00cc96",
           "#ab63fa",
           "#FFA15A",
           "#19d3f3",
           "#FF6692",
           "#B6E880",
           "#FF97FF",
           "#FECB52"
          ],
          "font": {
           "color": "#2a3f5f"
          },
          "geo": {
           "bgcolor": "white",
           "lakecolor": "white",
           "landcolor": "#E5ECF6",
           "showlakes": true,
           "showland": true,
           "subunitcolor": "white"
          },
          "hoverlabel": {
           "align": "left"
          },
          "hovermode": "closest",
          "mapbox": {
           "style": "light"
          },
          "paper_bgcolor": "white",
          "plot_bgcolor": "#E5ECF6",
          "polar": {
           "angularaxis": {
            "gridcolor": "white",
            "linecolor": "white",
            "ticks": ""
           },
           "bgcolor": "#E5ECF6",
           "radialaxis": {
            "gridcolor": "white",
            "linecolor": "white",
            "ticks": ""
           }
          },
          "scene": {
           "xaxis": {
            "backgroundcolor": "#E5ECF6",
            "gridcolor": "white",
            "gridwidth": 2,
            "linecolor": "white",
            "showbackground": true,
            "ticks": "",
            "zerolinecolor": "white"
           },
           "yaxis": {
            "backgroundcolor": "#E5ECF6",
            "gridcolor": "white",
            "gridwidth": 2,
            "linecolor": "white",
            "showbackground": true,
            "ticks": "",
            "zerolinecolor": "white"
           },
           "zaxis": {
            "backgroundcolor": "#E5ECF6",
            "gridcolor": "white",
            "gridwidth": 2,
            "linecolor": "white",
            "showbackground": true,
            "ticks": "",
            "zerolinecolor": "white"
           }
          },
          "shapedefaults": {
           "line": {
            "color": "#2a3f5f"
           }
          },
          "ternary": {
           "aaxis": {
            "gridcolor": "white",
            "linecolor": "white",
            "ticks": ""
           },
           "baxis": {
            "gridcolor": "white",
            "linecolor": "white",
            "ticks": ""
           },
           "bgcolor": "#E5ECF6",
           "caxis": {
            "gridcolor": "white",
            "linecolor": "white",
            "ticks": ""
           }
          },
          "title": {
           "x": 0.05
          },
          "xaxis": {
           "automargin": true,
           "gridcolor": "white",
           "linecolor": "white",
           "ticks": "",
           "title": {
            "standoff": 15
           },
           "zerolinecolor": "white",
           "zerolinewidth": 2
          },
          "yaxis": {
           "automargin": true,
           "gridcolor": "white",
           "linecolor": "white",
           "ticks": "",
           "title": {
            "standoff": 15
           },
           "zerolinecolor": "white",
           "zerolinewidth": 2
          }
         }
        },
        "title": {
         "text": "cognatehood_4"
        },
        "xaxis": {
         "title": {
          "text": "cognatehood_4 score"
         }
        },
        "yaxis": {
         "title": {
          "text": "count"
         }
        }
       }
      },
      "text/html": [
       "<div>                            <div id=\"7a96e159-4e76-4144-b573-9e53c07ea5b1\" class=\"plotly-graph-div\" style=\"height:525px; width:100%;\"></div>            <script type=\"text/javascript\">                require([\"plotly\"], function(Plotly) {                    window.PLOTLYENV=window.PLOTLYENV || {};                                    if (document.getElementById(\"7a96e159-4e76-4144-b573-9e53c07ea5b1\")) {                    Plotly.newPlot(                        \"7a96e159-4e76-4144-b573-9e53c07ea5b1\",                        [{\"mode\":\"markers\",\"name\":\"1\",\"opacity\":1,\"x\":[0.0,0.3318,0.3304,0.4504,0.3059,0.4105,0.3612,0.255,0.54,0.4466,0.3726,0.2879,0.2907,0.3362,0.3152,0.4091,0.2886,0.2643,0.3201,0.347,0.3899,0.3236,0.328,0.2239,0.3341,0.4737,0.4791,0.233,0.4579,0.3869,0.473,0.3222,0.3453,0.6967,0.2706,0.5447,0.3965,0.2608,0.2622,0.4551,0.4772,0.2351,0.2998,0.6638,0.2813,0.5197,0.315,0.3502,0.4796,0.4219,0.5942,0.4978,0.8482,0.4646,0.586,0.696,0.2295,0.2396,0.3656,0.3584,0.6145,0.5484,0.3663,0.4527,0.8039,0.5445,0.3038,0.3642,0.5097,0.5863,0.682,0.5316,0.4387,0.5295,0.5363,0.3876,0.449,0.4,0.6512,0.3117,0.3565,0.3747,0.5309,0.6141,0.3336,0.2536,0.4471,0.3325,0.6647,0.3224,0.4366,0.4728,0.4903,0.2431,0.5391,0.4228,0.3369,0.3579,0.4705,0.3782,0.374,0.8814,0.4436,0.7693,0.2785,0.4691,0.6255,0.512,0.6603,0.4677,0.7282,0.6792,0.3241,0.679,0.3976,0.3724,0.3682,0.5977,0.7191,0.622,0.4845,0.2477,0.18,0.3103,0.2722,0.3754,0.6895,0.6362,0.5816,0.6507,0.3577,0.4726,0.2825,0.4723,0.3444,0.3012,0.4831,0.3199,0.7635,0.728,0.3759,0.3301,0.6204,0.4037,0.5487,0.4616,0.9103,0.4406,0.3773,0.5548,0.3308,0.3801,0.3266,0.6899,0.6211,0.2183,0.5671,0.6946,0.3731,0.7682,0.8034,0.7703,0.6608,0.6271,0.336,0.5221,0.5695,0.8265,0.3322,0.2302,0.4873,0.668,0.346,0.3512,0.4028,0.4196,0.4242,0.5064,0.7513,0.3969,0.502,0.5179,0.5193,0.5265,0.6288,0.5678,0.526,0.5414,0.2171,0.3294,0.3988,0.1445,0.3997,0.3171,0.5025,0.5113,0.4499,0.3395,0.4936,0.3306,0.2928,0.3824,0.2424,0.8966,0.3941,0.8447,0.4502,0.3353,0.7581,0.579,0.5118,0.5534,0.7252,0.2267,0.8947,0.4929,0.4541,0.4046,0.4894,0.5713,0.745,0.3259,0.3526,0.4455,0.8648,0.2762,0.3033,0.4653,0.357,0.5811,0.4784,0.562,0.474,0.3617,0.8896,0.2942,0.1314,0.8029,0.1945,0.7875,0.7509,0.3432,0.2452,0.2575,0.6082,0.466,0.5155,0.947,0.318,0.527,0.3687,0.5858,0.2213,0.541,0.6813,0.3908,0.6365,0.4368,0.5172,0.5463,0.3133,0.7864,0.8816,0.2694,0.4658,0.3472,0.3423,0.7927,0.4128,0.5123,0.4812,0.4049,0.4396,0.5958,0.7004,0.5839,0.6769,0.6556,0.4506,0.2844,0.2741,0.3147,0.7892,0.1772,0.7189,0.8244,0.8506,0.778,0.7548,0.3126,0.399,0.3556,0.3528,0.3178,0.3017,0.329,0.2414,0.2881,0.2403,0.707,0.389,0.8127,0.2202,0.7829,0.3815,0.7805,0.4347,0.7964,0.6727,0.3243,0.8585,0.6299,0.3409,0.7411,0.4614,0.6246,0.979,0.9185,0.4838,0.3505,0.3035,0.6446,0.4282,0.2954,0.8226,0.3346,0.4058,0.1805,0.3729,0.7296,0.8076,0.4642,0.3329,0.3715,0.1375,0.8064,0.6619,0.3549,0.7397,0.5718,0.2057,0.6549,0.5286,0.5982,0.6113,0.3911,0.23,0.3918,0.5629,0.7208,0.6213,0.5144,0.6748,0.6801,0.4039,0.4158,0.6264,0.4635,0.5183,0.5412,0.4116,0.3248,0.7488,0.5902,0.5755,0.7453,0.321,0.7072,0.7432,0.5914,0.4212,0.3696,0.3808,0.2036,0.5466,0.4137,0.7336,0.8373,0.4434,0.7665,0.7035,0.4537,0.431,0.7278,0.5081,0.6888,0.3598,0.2697,0.4086,0.5067,0.4023,0.4007,0.5312,0.7994,0.7429,0.6654,0.7761,0.612,0.2916,0.3932,0.3014,0.1798,0.2181,0.5884,0.3962,0.2839,0.4067,0.6547,0.3689,0.6701,0.7338,0.5389,0.3264,0.5781,0.5279,0.4959,0.2582,0.6839,0.5664,0.3339,0.3638,0.5251,0.3374,0.3278,0.456,0.7546,0.3215,0.8163,0.7114,0.3439,0.5505,0.4147,0.3437,0.8618,0.3827,0.3484,0.4014,0.3397,0.7768,0.2783,0.2153,0.3883,0.3946,0.9127,0.4681,0.5006,0.3327,0.403,0.3572,0.7046,0.3402,0.5909,0.3582,0.5365,0.7299,0.2164,0.4569,0.7149,0.265,0.7257,0.9092,0.7752,0.7215,0.3684,0.3075,0.4803,0.8471,0.5477,0.7462,0.5377,0.6085,0.6948,0.2246,0.7203,0.4819,0.4079,0.279,0.739,0.3425,0.8361,0.1258,0.7254,0.2508,0.5246,0.4511,0.219,0.6407,0.4901,0.8753,0.7696,0.3936,0.5844,0.3516,0.2713,0.601,0.3491,0.4712,0.732,0.5912,0.7303,0.7625,0.2071,0.7271,0.6743,0.6047,0.7527,0.5328,0.4919,0.2699,0.5085,0.5461,0.4263,0.6862,0.6666,0.6432,0.3488,0.301,0.2851,0.4497,0.3514,0.4882,0.4193,0.4256,0.8046,0.5237,0.6101,0.5202,0.4824,0.4912,0.7126,0.6825,0.6124,0.4126,0.5083,0.4604,0.798,0.891,0.5641,0.5074,0.3738,0.619,0.3271,0.8531,0.2473,0.8081,0.6038,0.4574,0.3311,0.5604,0.6021,0.6374,0.5102,0.7504,0.7313,0.6059,0.5692,0.9075,0.8872,0.615,0.3495,0.6745,0.3761,0.7541,0.3722,0.4768,0.2428,0.2975,0.6794,0.5382,0.5029,0.8938,0.9279,0.4621,0.6661,0.7588,0.4385,0.6215,0.7098,0.2398,0.7427,0.5209,0.6558,0.7243,0.7044,0.1114,0.282,0.4119,0.3196,0.6416,0.3929,0.2753,0.4698,0.307,0.4336,0.4595,0.7331,0.6173,0.5417,0.3334,0.7915,0.3047,0.7511,0.2802,0.7726,0.5032,0.4373,0.2888,0.3568,0.573,0.4217,0.2143,0.5867,0.2671,0.3939,0.6274,0.7537,0.3227,0.6703,0.5165,0.6981,0.4247,0.2204,0.8632,0.6187,0.3596,0.382,0.2293,0.7518,0.2449,0.2501,0.8464,0.6827,0.8109,0.4235,0.7978,0.5508,0.6913,0.9148,0.3507,0.8576,0.513,0.2669,0.6766,0.226,0.2795,0.2435,0.7212,0.9498,0.1268,0.3593,0.5379,0.6612,0.7,0.4842,0.8536,0.6267,0.9216,0.9834,0.3554,0.4826,0.6442,0.2977,0.7721,0.5578,0.5356,0.6227,0.2209,0.2566,0.6678,0.6526,0.8548,0.9145,0.3463,0.6969,0.3866,0.7959,0.2615,0.3357,0.3276,0.7583,0.7644,0.1802,0.4252,0.3119,0.0542,0.7425,0.8863,0.3794,0.3575,0.6713,0.6806,0.6332,0.1539,0.8408,0.6201,0.5837,0.2914,0.9045,0.5335,0.5433,0.4156,0.8912,0.2832,0.653,0.3054,0.7159,0.297,0.414,0.7443,0.286,0.6005,0.5949,0.4002,0.4261,0.5249,0.2755,0.6622,0.6682,0.2949,0.2687,0.7633,0.6514,0.9115,0.4565,0.2631,0.7794,0.294,0.459,0.3066,0.241,0.41,0.6687,0.6822,0.4548,0.6353,0.3822,0.6944,0.2968,0.4707,0.3712,0.127,0.7362,0.2855,0.4429,0.7387,0.8228,0.7654,0.5809,0.3446,0.4354,0.406,0.4982,0.3049,0.2363,0.7754,0.6927,0.4189,0.5342,0.3213,0.0864,0.8191,0.7649,0.3367,0.805,0.5109,0.5267,0.5351,0.2715,0.7551,0.4095,0.5933,0.693,0.4672,0.7483,0.5669,0.841,0.4175,0.6337,0.5421,0.477,0.7647,0.2718,0.2104,0.1158,0.8384,0.4371,0.7894,0.1781,0.4721,0.7037,0.3096,0.2781,0.7773,0.5711,0.4922,0.7838,0.2991,0.6902,0.6916,0.8001,0.5676,0.378,0.3519,0.4798],\"y\":[1342,126,114,70,55,51,48,48,45,42,36,33,30,30,27,25,25,24,24,22,21,21,19,18,17,16,16,16,15,15,15,15,15,14,14,14,13,12,11,11,10,10,10,10,9,9,9,9,9,9,8,8,8,8,8,8,8,8,8,8,7,7,7,7,7,7,7,7,7,7,7,7,7,7,7,7,7,7,6,6,6,6,6,6,6,6,6,6,6,6,6,5,5,5,5,5,5,5,5,5,5,5,5,5,5,5,5,5,5,5,5,5,5,5,5,5,5,4,4,4,4,4,4,4,4,4,4,4,4,4,4,4,4,4,4,4,4,4,4,4,4,4,4,4,4,4,4,4,4,4,4,4,4,4,4,4,3,3,3,3,3,3,3,3,3,3,3,3,3,3,3,3,3,3,3,3,3,3,3,3,3,3,3,3,3,3,3,3,3,3,3,3,3,3,3,3,3,3,3,3,3,3,3,3,3,3,3,3,3,3,3,3,3,3,3,3,3,3,3,3,3,3,3,3,3,3,3,3,3,3,3,3,3,3,3,3,3,3,3,3,3,3,3,2,2,2,2,2,2,2,2,2,2,2,2,2,2,2,2,2,2,2,2,2,2,2,2,2,2,2,2,2,2,2,2,2,2,2,2,2,2,2,2,2,2,2,2,2,2,2,2,2,2,2,2,2,2,2,2,2,2,2,2,2,2,2,2,2,2,2,2,2,2,2,2,2,2,2,2,2,2,2,2,2,2,2,2,2,2,2,2,2,2,2,2,2,2,2,2,2,2,2,2,2,2,2,2,2,2,2,2,2,2,2,2,2,2,2,2,2,2,2,2,2,2,2,2,2,2,2,2,2,2,2,2,2,2,2,2,2,2,2,2,2,2,2,2,2,2,2,2,1,1,1,1,1,1,1,1,1,1,1,1,1,1,1,1,1,1,1,1,1,1,1,1,1,1,1,1,1,1,1,1,1,1,1,1,1,1,1,1,1,1,1,1,1,1,1,1,1,1,1,1,1,1,1,1,1,1,1,1,1,1,1,1,1,1,1,1,1,1,1,1,1,1,1,1,1,1,1,1,1,1,1,1,1,1,1,1,1,1,1,1,1,1,1,1,1,1,1,1,1,1,1,1,1,1,1,1,1,1,1,1,1,1,1,1,1,1,1,1,1,1,1,1,1,1,1,1,1,1,1,1,1,1,1,1,1,1,1,1,1,1,1,1,1,1,1,1,1,1,1,1,1,1,1,1,1,1,1,1,1,1,1,1,1,1,1,1,1,1,1,1,1,1,1,1,1,1,1,1,1,1,1,1,1,1,1,1,1,1,1,1,1,1,1,1,1,1,1,1,1,1,1,1,1,1,1,1,1,1,1,1,1,1,1,1,1,1,1,1,1,1,1,1,1,1,1,1,1,1,1,1,1,1,1,1,1,1,1,1,1,1,1,1,1,1,1,1,1,1,1,1,1,1,1,1,1,1,1,1,1,1,1,1,1,1,1,1,1,1,1,1,1,1,1,1,1,1,1,1,1,1,1,1,1,1,1,1,1,1,1,1,1,1,1,1,1,1,1,1,1,1,1,1,1,1,1,1,1,1,1,1,1,1,1,1,1,1,1,1,1,1,1,1,1,1,1,1,1,1,1,1,1,1,1,1,1,1,1,1,1,1,1,1,1,1,1,1,1,1,1,1,1,1,1,1,1,1,1,1,1,1,1,1,1,1,1,1,1,1,1,1,1,1,1,1,1,1,1,1,1,1,1,1,1,1,1,1,1,1,1,1,1,1,1,1,1,1,1,1,1,1,1,1,1,1,1,1,1,1,1,1,1],\"type\":\"scatter\"},{\"mode\":\"markers\",\"name\":\"0\",\"opacity\":0.5,\"x\":[0.0,0.3304,0.4105,0.54,0.3059,0.3318,0.5447,0.4219,0.3726,0.4056,0.4504,0.4,0.4551,0.3152,0.4091,0.4466,0.3612,0.2879,0.3976,0.3584,0.2907,0.2886,0.328,0.5197,0.2643,0.3362,0.6145,0.3395,0.3866,0.255,0.3341,0.4772,0.2706,0.2671,0.3656,0.2295,0.4396,0.2396,0.4712,0.4126,0.2813,0.3222,0.4065,0.3201,0.3236,0.2928,0.431,0.233,0.347,0.473,0.4028,0.307,0.3596,0.5534,0.6647,0.2564,0.3747,0.4791,0.2771,0.474,0.3965,0.4723,0.512,0.5389,0.3838,0.3642,0.2975,0.5316,0.2998,0.3311,0.4705,0.6227,0.3619,0.3322,0.8482,0.3505,0.3663,0.2181,0.222,0.3899,0.5391,0.3117,0.3682,0.4691,0.7299,0.4119,0.4527,0.212,0.4039,0.2722,0.3397,0.5867,0.6528,0.5279,0.2575,0.8531,0.3449,0.4228,0.2697,0.3549,0.5713,0.449,0.3224,0.2855,0.3327,0.2715,0.2881,0.5484,0.3306,0.5067,0.8191,0.2631,0.4646,0.2351,0.3301,0.6997,0.5902,0.7336,0.1725,0.3453,0.2171,0.399,0.3731,0.357,0.6619,0.7794,0.7768,0.3336,0.6085,0.4361,0.2431,0.3444,0.8076,0.8697,0.286,0.2239,0.3887,0.4217,0.4077,0.2174,0.7231,0.2942,0.3876,0.3759,0.3568,0.544,0.4919,0.3161,0.3035,0.4803,0.3075,0.315,0.7875,0.8226,0.3733,0.7338,0.2608,0.4796,0.4807,0.2895,0.4541,0.3313,0.427,0.4994,0.5863,0.4046,0.4537,0.5839,0.3348,0.5718,0.586,0.4147,0.3266,0.4053,0.6159,0.3997,0.2713,0.1445,0.3514,0.5025,0.5335,0.3329,0.4628,0.5541,0.7152,0.2954,0.5968,0.3796,0.2036,0.3147,0.5433,0.6591,0.4434,0.3687,0.4726,0.3115,0.5517,0.3325,0.3456,0.6895,0.3103,0.304,0.5466,0.3901,0.5309,0.4698,0.6353,0.4168,0.3061,0.5202,0.619,0.6624,0.6253,0.4245,0.3133,0.5991,0.1609,0.5482,0.5825,0.4282,0.629,0.5793,0.5085,0.8933,0.3526,0.3794,0.2655,0.3512,0.5494,0.6059,0.5657,0.5445,0.3801,0.579,0.6451,0.3824,0.4366,0.4971,0.2536,0.8473,0.5461,0.7509,0.3607,0.8506,0.4212,0.5179,0.5412,0.374,0.3883,0.3983,0.4639,0.4987,0.5232,0.7579,0.2204,0.41,0.2629,0.4534,0.3778,0.6416,0.5363,0.583,0.452,0.6215,0.258,0.3227,0.5274,0.7145,0.3969,0.5214,0.4373,0.3418,0.6512,0.3498,0.2162,0.3738,0.4936,0.2197,0.615,0.3724,0.2926,0.1268,0.2508,0.4579,0.4502,0.4256,0.509,0.3495,0.3143,0.5573,0.4058,0.5144,0.7121,0.2232,0.665,0.4266,0.4471,0.4422,0.2013,0.6099,0.5377,0.8116,0.3647,0.5884,0.5548,0.2935,0.4135,0.3598,0.742,0.6124,0.6706,0.3565,0.8106,0.3255,0.5438,0.3399,0.8693,0.8039,0.2965,0.5986,0.5351,0.7046,0.7654,0.2837,0.6951,0.7574,0.4782,0.3782,0.5914,0.5048,0.4249,0.2991,0.7551,0.3579,0.5954,0.6717,0.6862,0.562,0.4338,0.3834,0.3378,0.3911,0.8228,0.4763,0.4049,0.2718,0.4565,0.7562,0.844,0.502,0.2363,0.2694,0.4303,0.8816,0.3939,0.6498,0.8749,0.3943,0.4968,0.947,0.7189,0.6986,0.4098,0.5468,0.2725,0.5739,0.2489,0.4037,0.714,0.6292,0.4233,0.453,0.3582,0.728,0.9148,0.9757,0.4758,0.2979,0.2447,0.626,0.4387,0.6521,0.4663,0.611,0.6563,0.3638,0.3703,0.5804,0.6397,0.3392,0.8492,0.7252,0.3199,0.4263,0.4284,0.3617,0.4733,0.3981,0.5265,0.6673,0.685,0.279,0.2657,0.3472,0.2844,0.3287,0.241,0.5702,0.4385,0.5587,0.6201,0.4002,0.6283,0.4894,0.2384,0.2293,0.7682,0.3785,0.2659,0.4448,0.4856,0.6143,0.46,0.1751,0.4873,0.6031,0.2984,0.2386,0.6334,0.2956,0.2893,0.4382,0.5006,0.883,0.1756,0.5758,0.643,0.3131,0.4462,0.7067,0.3633,0.3014,0.7999,0.2746,0.3715,0.7959,0.2414,0.4819,0.5172,0.5286,0.6636,0.6028,0.7703,0.4007,0.3463,0.5505,0.1884,0.4532,0.4086,0.8648,0.6969,0.6827,0.4567,0.7625,0.314,0.6556,0.3166,0.3586,0.7488,0.3621,0.3439,0.2762,0.7686,0.4305,0.5347,0.4889,0.8905,0.6113,0.5344,0.4499,0.7614,0.6888,0.8613,0.3346,0.513,0.4602,0.4095,0.5487,0.6808,0.414,0.3283,0.2909,0.3119,0.3435,0.8947,0.5667,0.6362,0.3124,0.2832,0.732,0.6801,0.8849,0.4931,0.7257,0.3,0.5781,0.6409,0.2452,0.622,0.5858,0.4954,0.2501,0.6804,0.4845,0.5384,0.4156,0.2603,0.686,0.8538,0.4455,0.2825,0.2459,0.7994,0.3164,0.5837,0.3187,0.3771,0.4609,0.3402,0.7035,0.2519,0.407,0.8872,0.9498,0.4301,0.3488,0.6005,0.8781,0.8798,0.3519,0.4677,0.7672,0.7532,0.5237,0.1826,0.59,0.6213,0.3736,0.4403,0.7427,0.6264,0.4051,0.5414,0.3089,0.4259,0.3631,0.3827,0.6341,0.6162,0.5039,0.3556,0.3343,0.3523,0.6995,0.777,0.3936,0.325,0.4492,0.2153,0.4922,0.6605,0.6206,0.4067,0.7028,0.3017,0.749,0.7296,0.3486,0.4289,0.6839,0.7803,0.6047,0.3054,0.6101,0.679,0.1996,0.434,0.7245,0.6306,0.625,0.8034,0.7691,0.7945,0.477,0.2227,0.566,0.7826,0.5788,0.5676,0.2858,0.2989,0.2664,0.5032,0.2339,0.4656,0.778,0.4158,0.2662,0.4901,0.9057,0.7822,0.3962,0.6187,0.6967,0.23,0.7726,0.3967,0.8552,0.8959,0.696,0.2785,0.752,0.5473,0.6049,0.6453,0.5524,0.5807,0.3451,0.71,0.2403,0.5769,0.5312,0.6687,0.4642,0.3624,0.2115,0.4322,0.5629,0.6797,0.2517,0.6507,0.6288,0.5417,0.5242,0.5618,0.5923,0.653,0.3122,0.1852,0.3869,0.3294,0.7964,0.1375,0.9092,0.6257,0.6523,0.805,0.208,0.3764,0.5099,0.4882,0.4511,0.8431,0.4614,0.3126,0.4032,0.692,0.6825,0.294,0.435,0.1714,0.4852,0.4445,0.9477,0.3528,0.6262,0.7282,0.4312,0.573,0.4775,0.6547,0.2795,0.4924,0.3915,0.2202,0.3927,0.7434,0.3729,0.4621,0.3808,0.8447,0.5874,0.368,0.3157,0.3101,0.5951,0.3082,0.3516,0.8071,0.3038,0.4749,0.6141,0.7572,0.1837,0.4347,0.3264,0.7,0.4623,0.3745,0.6374,0.4658,0.6192,0.4088,0.4838,0.4546,0.3437,0.8585,0.5828,0.8536,0.8966,0.3577,0.838,0.6514,0.6458,0.3953,0.7457,0.3047,0.7429,0.6983,0.2246,0.5909,0.7114,0.417,0.4978,0.6211,0.4779,0.4478,0.3754,0.3465,0.2781,0.4436,0.4707,0.8046,0.7107,0.858,0.5641,0.3544,0.4464,0.8352,0.3374,0.4023,0.6082,0.3196,0.3474,0.3416,0.3589,0.4607,0.8067,0.403,0.608,0.4238,0.2827,0.6799,0.5062,0.5064,0.8576,0.745,0.788,0.7359,0.3376,0.7651,0.6899,0.6671,0.8632,0.3185,0.5118,0.215,0.897,0.3031,0.672,0.6057,0.3689,0.6953,0.5552,0.4203,0.4635,0.5977,0.3864,0.7938,0.7222,0.7387,0.647,0.4261,0.8258,0.6584,0.4354,0.4427,0.7243,0.389,0.4719,0.4011,0.3446,0.7915,0.36,0.487,0.2265,0.4331,0.7464,0.1819,0.1856,0.336,0.7233,0.7485,0.3773,0.8791,0.498,0.4555,0.4933,0.6701,0.5592,0.2673,0.5865,0.9428,0.3948,0.7712,0.5305,0.9106,0.6313,0.7194,0.5611,0.3243,0.9129,0.7894,0.4728,0.1772,0.5772,0.3175,0.7212,0.4842,0.4777,0.4513,0.4814,0.4483,0.6572,0.83,0.6594,0.3409,0.3024,0.4406,0.7616,0.5515,0.3087,0.8426,0.318,0.8704,0.236,0.2578,0.7128,0.4831,0.353,0.7411,0.8151,0.2666,0.3479,0.5748,0.4165,0.569,0.6516,0.5622,0.2685,0.8361,0.7362,0.7752,0.2678,0.4903,0.3988,0.3666,0.4929,0.5382,0.6622,0.9157,0.4457,0.7373,0.6829,0.2136,0.8735,0.3385,0.6138,0.8064,0.7548,0.7929,0.6449,0.4207,0.4247,0.3299,0.1314,0.4558,0.6944,0.3995,0.7453,0.9082,0.4721,0.8618,0.8823,0.8027,0.5284,0.6318,0.6822,0.7105,0.2302,0.6638,0.5295,0.4681,0.8784,0.5998,0.3946,0.6267,0.5097,0.4884,0.421,0.3661,0.7364,0.3371,0.4473,0.4485,0.6367,0.2473,0.2599,0.6355,0.4254,0.173,0.5127,0.2356,0.8004,0.4875,0.7177,0.6446,0.9185,0.9101,0.8317,0.2582,0.5711,0.321,0.4481,0.6348,0.1989,0.6668,0.4506,0.7037,0.6939,0.3878,0.6255,0.6892,0.3154,0.3979,0.8424,0.343,0.3572,0.2848,0.7504,0.6526,0.4252,0.5846,0.2949,0.2083,0.5695,0.526,0.3743,0.7864,0.3761,0.6724,0.5536,0.5386,0.3806,0.7002,0.3259,0.8657,0.9479,0.5664,0.5113,0.7208,0.7553,0.2652,0.534,0.8606,0.2297,0.6108,0.5669,0.2692,0.7609,0.6351,0.282,0.4793,0.466,0.5646,0.3257,0.7546,0.484,0.8641,0.2428,0.5512,0.5235,0.3425,0.4604,0.8664,0.2316,0.8844,0.7184,0.6369,0.2986,0.406,0.2755,0.3138,0.3364,0.5697,0.6675,0.4221,0.3813,0.6972,0.4756,0.7889,0.4429,0.4392,0.2157,0.8111,0.8912,0.612,0.2335,0.237,0.481,0.8256,0.7278,0.6535,0.5877,0.5751,0.7303,0.6472,0.5797,0.4151,0.8074,0.2104,0.2094,0.6778,0.7289,0.731,0.1903,0.3493,0.5251,0.6204,0.6909,0.7675,0.8011,0.7079,0.3822,0.5258,0.5167,0.6551,0.2869,0.5765,0.3276,0.7525,0.5881,0.3215,0.2424,0.1716,0.456,0.5111,0.3271,0.2321,0.6537,0.4175,0.3229,0.5053,0.4357,0.7124,0.268,0.4329,0.2748,0.346,0.5452,0.555,0.7173,0.1515,0.5835,0.93,0.2811,0.4123,0.6185,0.3705,0.5155,0.2484,0.8083,0.6713,0.58,0.6846,0.1261,0.8296,0.7401,0.367,0.7462,0.5942,0.4025,0.5671,0.8863,0.5125,0.2916,0.7399,0.9045,0.6755,0.2122,0.438,0.3428,0.6358,0.3182,0.7334,0.4915,0.5538,0.4268,0.4859,0.5716,0.6269,0.3673,0.2905,0.7187,0.2438,0.6509,0.5153,0.6178,0.6813,0.1669,0.8013,0.699,0.5095,0.6222,0.8767,0.4319,0.8202,0.6325,0.3049,0.3241,0.9297,0.1709,0.4368,0.4817,0.5148,0.2127,0.7721,0.6577,0.5244,0.8924,0.6745,0.5218,0.7541,0.735,0.5368,0.1795,0.5225,0.3357,0.5193,0.2883,0.4789,0.7229,0.5029,0.6021,0.6832,0.5604,0.2017,0.7593,0.2792,0.2503,0.636,0.4345,0.9031,0.2802,0.7668,0.4035,0.8097,0.7074,0.2164,0.6633,0.7808,0.1361,0.4417,0.3626,0.5083,0.848,0.6171,0.5615,0.6246,0.6703,0.8398,0.3831,0.9047,0.4744,0.6878,0.4224,0.4574,0.865,0.5578,0.4343,0.8975,0.5239,0.2704,0.42,0.6558,0.6302,0.3535,0.1366,0.3467,0.4114,0.5779,0.1697,0.8331,0.6332,0.618,0.558,0.5648,0.6794,0.738,0.4985,0.2463,0.6218,0.2426,0.5557,0.8345,0.5106,0.506,0.7906,0.9407,0.7166,0.332,0.4443,0.3934,0.7217,0.5055,0.8639,0.3091,0.6923,0.3892,0.4828,0.2311,0.6603,0.5594,0.7852,0.7329,0.5123,0.6643,0.7796,0.1644,0.5583,0.8994,0.6897,0.442,0.4352,0.6918,0.2585,0.3542,0.7983,0.7506,0.707,0.3308,0.9307,0.4287,0.3972,0.495,0.4401,0.354,0.293,0.1758,0.799,0.6169,0.3217,0.4359,0.6344,0.7483,0.4525,0.6271,0.8109,0.382,0.9379,0.1805,0.9099,0.248,0.8683,0.5008,0.6601,0.4413,0.3234,0.2573,0.4637,0.6554,0.6442,0.3491,0.6766,0.2057,0.2379,0.4308,0.3904,0.4333,0.8548,0.3052,0.8562,0.9216,0.5979,0.9279,0.7219,0.6243,0.8891,0.7032,0.4947,0.2888,0.7665,0.3012,0.6229,0.4632,0.2003,0.7215,0.7084,0.5288,0.7948,0.3547,0.5823,0.8282,0.7787,0.4926,0.3145,0.6934,0.8737,0.2279,0.5786,0.4459,0.6103,0.3768,0.5706,0.3993,0.4653,0.2912,0.3383,0.6407,0.5041,0.7397,0.4784,0.6696,0.837,0.9054,0.2251,0.4912,0.8401,0.2627,0.7717,0.2213,0.5571,0.3941,0.7091,0.3042,0.8419,0.7271,0.6544,0.6806,0.3136,0.8132,0.7205,0.6876,0.3369,0.4488,0.2645,0.5926,0.4336,0.5842,0.3033,0.3098,0.5449,0.5795,0.322,0.7588,0.2571,0.6495,0.5508,0.7025,0.4982,0.2902,0.8165,0.3213,0.7831,0.7443,0.3388,0.4959,0.5139,0.2477,0.29,0.4009,0.5027,0.5613,0.572,0.5146,0.5321,0.4315,0.4672,0.5088,0.6194,0.7004,0.5323,0.5501,0.7843,0.2601,0.739,0.4399,0.441,0.2449,0.4824,0.7754,0.4112,0.2064,0.2269,0.2683,0.7497,0.4184,0.3334,0.7371,0.6869,0.8879,0.371,0.3068,0.4063,0.3554,0.5421,0.3593,0.8711,0.4518,0.8141,0.4847,0.5737,0.7663,0.7833,0.2951,0.3432,0.4079,0.5158,0.1742,0.6678,0.5496,0.7775,0.682,0.6425,0.5774,0.6871,0.4371,0.8716,0.3929,0.817,0.4595,0.2636,0.5585,0.4193,0.7011,0.759,0.6694,0.8118,0.8788,0.2648,0.6423,0.3918,0.7102,0.4273,0.1828,0.7838,0.1658,0.9071],\"y\":[9697,827,451,431,385,311,306,256,253,227,221,216,170,169,160,155,145,134,132,129,117,103,101,100,97,94,86,85,85,84,83,80,73,70,60,60,58,58,57,56,55,55,54,54,54,52,51,50,50,49,49,48,48,48,44,42,42,42,39,39,39,39,39,39,38,37,36,36,36,36,36,35,35,34,33,32,32,32,30,30,28,28,28,27,27,27,27,27,26,26,26,25,25,25,25,25,24,24,24,23,23,23,23,23,23,22,22,22,22,21,21,21,21,20,20,20,20,20,20,20,19,19,19,19,19,19,18,18,18,18,18,18,18,17,17,17,17,16,16,16,16,16,16,16,16,16,16,16,15,15,15,15,15,15,15,15,15,15,15,15,15,15,14,14,14,14,14,14,14,14,13,13,13,13,13,13,13,13,13,13,13,13,13,13,13,12,12,12,12,12,12,12,12,12,12,12,12,12,12,12,11,11,11,11,11,11,11,11,11,11,11,11,11,11,11,11,10,10,10,10,10,10,10,10,10,10,10,10,10,10,9,9,9,9,9,9,9,9,9,9,9,9,9,9,9,9,9,9,9,9,8,8,8,8,8,8,8,8,8,8,8,8,8,8,8,8,8,8,8,8,8,8,8,8,8,8,8,8,8,8,8,8,8,8,8,8,8,8,7,7,7,7,7,7,7,7,7,7,7,7,7,7,7,7,7,7,7,7,7,7,7,7,7,7,7,7,7,7,7,7,7,7,7,7,7,7,7,7,7,7,7,6,6,6,6,6,6,6,6,6,6,6,6,6,6,6,6,6,6,6,6,6,6,6,6,6,6,6,6,6,6,6,6,6,6,6,6,6,6,6,6,6,6,6,6,6,6,6,6,6,6,6,6,6,6,6,6,5,5,5,5,5,5,5,5,5,5,5,5,5,5,5,5,5,5,5,5,5,5,5,5,5,5,5,5,5,5,5,5,5,5,5,5,5,5,5,5,5,5,5,5,5,5,5,5,5,5,5,5,5,5,5,5,5,5,5,5,5,5,5,5,5,5,5,5,5,5,5,5,5,5,5,5,5,5,5,5,5,4,4,4,4,4,4,4,4,4,4,4,4,4,4,4,4,4,4,4,4,4,4,4,4,4,4,4,4,4,4,4,4,4,4,4,4,4,4,4,4,4,4,4,4,4,4,4,4,4,4,4,4,4,4,4,4,4,4,4,4,4,4,4,4,4,4,4,4,4,4,4,4,4,4,4,4,4,4,4,4,4,4,4,4,4,4,4,4,4,4,4,4,4,4,4,4,4,4,4,4,4,4,4,4,4,4,4,4,4,4,4,4,4,4,4,3,3,3,3,3,3,3,3,3,3,3,3,3,3,3,3,3,3,3,3,3,3,3,3,3,3,3,3,3,3,3,3,3,3,3,3,3,3,3,3,3,3,3,3,3,3,3,3,3,3,3,3,3,3,3,3,3,3,3,3,3,3,3,3,3,3,3,3,3,3,3,3,3,3,3,3,3,3,3,3,3,3,3,3,3,3,3,3,3,3,3,3,3,3,3,3,3,3,3,3,3,3,3,3,3,3,3,3,3,3,3,3,3,3,3,3,3,3,3,3,3,3,3,3,3,3,3,3,3,3,3,3,3,3,3,3,3,3,3,3,3,3,3,3,3,3,3,3,3,3,3,3,3,2,2,2,2,2,2,2,2,2,2,2,2,2,2,2,2,2,2,2,2,2,2,2,2,2,2,2,2,2,2,2,2,2,2,2,2,2,2,2,2,2,2,2,2,2,2,2,2,2,2,2,2,2,2,2,2,2,2,2,2,2,2,2,2,2,2,2,2,2,2,2,2,2,2,2,2,2,2,2,2,2,2,2,2,2,2,2,2,2,2,2,2,2,2,2,2,2,2,2,2,2,2,2,2,2,2,2,2,2,2,2,2,2,2,2,2,2,2,2,2,2,2,2,2,2,2,2,2,2,2,2,2,2,2,2,2,2,2,2,2,2,2,2,2,2,2,2,2,2,2,2,2,2,2,2,2,2,2,2,2,2,2,2,2,2,2,2,2,2,2,2,2,2,2,2,2,2,2,2,2,2,2,2,2,2,2,2,2,2,2,2,2,2,2,2,2,2,2,2,2,2,2,2,2,2,2,2,2,2,2,2,2,2,2,2,2,2,2,2,2,2,2,2,2,2,2,2,2,2,2,2,1,1,1,1,1,1,1,1,1,1,1,1,1,1,1,1,1,1,1,1,1,1,1,1,1,1,1,1,1,1,1,1,1,1,1,1,1,1,1,1,1,1,1,1,1,1,1,1,1,1,1,1,1,1,1,1,1,1,1,1,1,1,1,1,1,1,1,1,1,1,1,1,1,1,1,1,1,1,1,1,1,1,1,1,1,1,1,1,1,1,1,1,1,1,1,1,1,1,1,1,1,1,1,1,1,1,1,1,1,1,1,1,1,1,1,1,1,1,1,1,1,1,1,1,1,1,1,1,1,1,1,1,1,1,1,1,1,1,1,1,1,1,1,1,1,1,1,1,1,1,1,1,1,1,1,1,1,1,1,1,1,1,1,1,1,1,1,1,1,1,1,1,1,1,1,1,1,1,1,1,1,1,1,1,1,1,1,1,1,1,1,1,1,1,1,1,1,1,1,1,1,1,1,1,1,1,1,1,1,1,1,1,1,1,1,1,1,1,1,1,1,1,1,1,1,1,1,1,1,1,1,1,1,1,1,1,1,1,1,1,1,1,1,1,1,1,1,1,1,1,1,1,1,1,1,1,1,1,1,1,1,1,1,1,1,1,1,1,1,1,1,1,1,1,1,1,1,1,1,1,1,1,1,1,1,1,1,1,1,1,1,1,1,1,1,1,1,1,1,1,1,1,1,1,1,1,1,1,1,1,1,1,1,1,1,1,1,1,1,1,1,1,1,1,1,1,1,1,1,1,1,1,1,1,1,1,1,1,1,1,1,1,1,1,1,1,1,1,1,1,1,1,1,1,1,1,1,1,1,1,1,1,1,1,1,1,1,1,1,1,1,1,1,1,1,1,1,1,1,1,1,1,1,1,1,1,1,1,1,1,1,1,1,1,1,1,1,1,1,1,1,1,1,1,1,1,1,1,1,1,1,1,1,1,1,1,1,1,1,1,1,1,1,1,1,1,1,1,1,1,1,1,1,1,1,1,1,1,1,1,1,1,1,1,1,1,1,1,1,1,1,1,1,1,1,1,1,1,1,1,1,1,1,1,1,1,1,1,1,1,1,1,1,1,1,1,1,1,1,1,1,1,1,1,1,1,1,1,1,1,1,1,1,1,1,1,1,1,1,1,1],\"type\":\"scatter\"}],                        {\"template\":{\"data\":{\"histogram2dcontour\":[{\"type\":\"histogram2dcontour\",\"colorbar\":{\"outlinewidth\":0,\"ticks\":\"\"},\"colorscale\":[[0.0,\"#0d0887\"],[0.1111111111111111,\"#46039f\"],[0.2222222222222222,\"#7201a8\"],[0.3333333333333333,\"#9c179e\"],[0.4444444444444444,\"#bd3786\"],[0.5555555555555556,\"#d8576b\"],[0.6666666666666666,\"#ed7953\"],[0.7777777777777778,\"#fb9f3a\"],[0.8888888888888888,\"#fdca26\"],[1.0,\"#f0f921\"]]}],\"choropleth\":[{\"type\":\"choropleth\",\"colorbar\":{\"outlinewidth\":0,\"ticks\":\"\"}}],\"histogram2d\":[{\"type\":\"histogram2d\",\"colorbar\":{\"outlinewidth\":0,\"ticks\":\"\"},\"colorscale\":[[0.0,\"#0d0887\"],[0.1111111111111111,\"#46039f\"],[0.2222222222222222,\"#7201a8\"],[0.3333333333333333,\"#9c179e\"],[0.4444444444444444,\"#bd3786\"],[0.5555555555555556,\"#d8576b\"],[0.6666666666666666,\"#ed7953\"],[0.7777777777777778,\"#fb9f3a\"],[0.8888888888888888,\"#fdca26\"],[1.0,\"#f0f921\"]]}],\"heatmap\":[{\"type\":\"heatmap\",\"colorbar\":{\"outlinewidth\":0,\"ticks\":\"\"},\"colorscale\":[[0.0,\"#0d0887\"],[0.1111111111111111,\"#46039f\"],[0.2222222222222222,\"#7201a8\"],[0.3333333333333333,\"#9c179e\"],[0.4444444444444444,\"#bd3786\"],[0.5555555555555556,\"#d8576b\"],[0.6666666666666666,\"#ed7953\"],[0.7777777777777778,\"#fb9f3a\"],[0.8888888888888888,\"#fdca26\"],[1.0,\"#f0f921\"]]}],\"heatmapgl\":[{\"type\":\"heatmapgl\",\"colorbar\":{\"outlinewidth\":0,\"ticks\":\"\"},\"colorscale\":[[0.0,\"#0d0887\"],[0.1111111111111111,\"#46039f\"],[0.2222222222222222,\"#7201a8\"],[0.3333333333333333,\"#9c179e\"],[0.4444444444444444,\"#bd3786\"],[0.5555555555555556,\"#d8576b\"],[0.6666666666666666,\"#ed7953\"],[0.7777777777777778,\"#fb9f3a\"],[0.8888888888888888,\"#fdca26\"],[1.0,\"#f0f921\"]]}],\"contourcarpet\":[{\"type\":\"contourcarpet\",\"colorbar\":{\"outlinewidth\":0,\"ticks\":\"\"}}],\"contour\":[{\"type\":\"contour\",\"colorbar\":{\"outlinewidth\":0,\"ticks\":\"\"},\"colorscale\":[[0.0,\"#0d0887\"],[0.1111111111111111,\"#46039f\"],[0.2222222222222222,\"#7201a8\"],[0.3333333333333333,\"#9c179e\"],[0.4444444444444444,\"#bd3786\"],[0.5555555555555556,\"#d8576b\"],[0.6666666666666666,\"#ed7953\"],[0.7777777777777778,\"#fb9f3a\"],[0.8888888888888888,\"#fdca26\"],[1.0,\"#f0f921\"]]}],\"surface\":[{\"type\":\"surface\",\"colorbar\":{\"outlinewidth\":0,\"ticks\":\"\"},\"colorscale\":[[0.0,\"#0d0887\"],[0.1111111111111111,\"#46039f\"],[0.2222222222222222,\"#7201a8\"],[0.3333333333333333,\"#9c179e\"],[0.4444444444444444,\"#bd3786\"],[0.5555555555555556,\"#d8576b\"],[0.6666666666666666,\"#ed7953\"],[0.7777777777777778,\"#fb9f3a\"],[0.8888888888888888,\"#fdca26\"],[1.0,\"#f0f921\"]]}],\"mesh3d\":[{\"type\":\"mesh3d\",\"colorbar\":{\"outlinewidth\":0,\"ticks\":\"\"}}],\"scatter\":[{\"fillpattern\":{\"fillmode\":\"overlay\",\"size\":10,\"solidity\":0.2},\"type\":\"scatter\"}],\"parcoords\":[{\"type\":\"parcoords\",\"line\":{\"colorbar\":{\"outlinewidth\":0,\"ticks\":\"\"}}}],\"scatterpolargl\":[{\"type\":\"scatterpolargl\",\"marker\":{\"colorbar\":{\"outlinewidth\":0,\"ticks\":\"\"}}}],\"bar\":[{\"error_x\":{\"color\":\"#2a3f5f\"},\"error_y\":{\"color\":\"#2a3f5f\"},\"marker\":{\"line\":{\"color\":\"#E5ECF6\",\"width\":0.5},\"pattern\":{\"fillmode\":\"overlay\",\"size\":10,\"solidity\":0.2}},\"type\":\"bar\"}],\"scattergeo\":[{\"type\":\"scattergeo\",\"marker\":{\"colorbar\":{\"outlinewidth\":0,\"ticks\":\"\"}}}],\"scatterpolar\":[{\"type\":\"scatterpolar\",\"marker\":{\"colorbar\":{\"outlinewidth\":0,\"ticks\":\"\"}}}],\"histogram\":[{\"marker\":{\"pattern\":{\"fillmode\":\"overlay\",\"size\":10,\"solidity\":0.2}},\"type\":\"histogram\"}],\"scattergl\":[{\"type\":\"scattergl\",\"marker\":{\"colorbar\":{\"outlinewidth\":0,\"ticks\":\"\"}}}],\"scatter3d\":[{\"type\":\"scatter3d\",\"line\":{\"colorbar\":{\"outlinewidth\":0,\"ticks\":\"\"}},\"marker\":{\"colorbar\":{\"outlinewidth\":0,\"ticks\":\"\"}}}],\"scattermapbox\":[{\"type\":\"scattermapbox\",\"marker\":{\"colorbar\":{\"outlinewidth\":0,\"ticks\":\"\"}}}],\"scatterternary\":[{\"type\":\"scatterternary\",\"marker\":{\"colorbar\":{\"outlinewidth\":0,\"ticks\":\"\"}}}],\"scattercarpet\":[{\"type\":\"scattercarpet\",\"marker\":{\"colorbar\":{\"outlinewidth\":0,\"ticks\":\"\"}}}],\"carpet\":[{\"aaxis\":{\"endlinecolor\":\"#2a3f5f\",\"gridcolor\":\"white\",\"linecolor\":\"white\",\"minorgridcolor\":\"white\",\"startlinecolor\":\"#2a3f5f\"},\"baxis\":{\"endlinecolor\":\"#2a3f5f\",\"gridcolor\":\"white\",\"linecolor\":\"white\",\"minorgridcolor\":\"white\",\"startlinecolor\":\"#2a3f5f\"},\"type\":\"carpet\"}],\"table\":[{\"cells\":{\"fill\":{\"color\":\"#EBF0F8\"},\"line\":{\"color\":\"white\"}},\"header\":{\"fill\":{\"color\":\"#C8D4E3\"},\"line\":{\"color\":\"white\"}},\"type\":\"table\"}],\"barpolar\":[{\"marker\":{\"line\":{\"color\":\"#E5ECF6\",\"width\":0.5},\"pattern\":{\"fillmode\":\"overlay\",\"size\":10,\"solidity\":0.2}},\"type\":\"barpolar\"}],\"pie\":[{\"automargin\":true,\"type\":\"pie\"}]},\"layout\":{\"autotypenumbers\":\"strict\",\"colorway\":[\"#636efa\",\"#EF553B\",\"#00cc96\",\"#ab63fa\",\"#FFA15A\",\"#19d3f3\",\"#FF6692\",\"#B6E880\",\"#FF97FF\",\"#FECB52\"],\"font\":{\"color\":\"#2a3f5f\"},\"hovermode\":\"closest\",\"hoverlabel\":{\"align\":\"left\"},\"paper_bgcolor\":\"white\",\"plot_bgcolor\":\"#E5ECF6\",\"polar\":{\"bgcolor\":\"#E5ECF6\",\"angularaxis\":{\"gridcolor\":\"white\",\"linecolor\":\"white\",\"ticks\":\"\"},\"radialaxis\":{\"gridcolor\":\"white\",\"linecolor\":\"white\",\"ticks\":\"\"}},\"ternary\":{\"bgcolor\":\"#E5ECF6\",\"aaxis\":{\"gridcolor\":\"white\",\"linecolor\":\"white\",\"ticks\":\"\"},\"baxis\":{\"gridcolor\":\"white\",\"linecolor\":\"white\",\"ticks\":\"\"},\"caxis\":{\"gridcolor\":\"white\",\"linecolor\":\"white\",\"ticks\":\"\"}},\"coloraxis\":{\"colorbar\":{\"outlinewidth\":0,\"ticks\":\"\"}},\"colorscale\":{\"sequential\":[[0.0,\"#0d0887\"],[0.1111111111111111,\"#46039f\"],[0.2222222222222222,\"#7201a8\"],[0.3333333333333333,\"#9c179e\"],[0.4444444444444444,\"#bd3786\"],[0.5555555555555556,\"#d8576b\"],[0.6666666666666666,\"#ed7953\"],[0.7777777777777778,\"#fb9f3a\"],[0.8888888888888888,\"#fdca26\"],[1.0,\"#f0f921\"]],\"sequentialminus\":[[0.0,\"#0d0887\"],[0.1111111111111111,\"#46039f\"],[0.2222222222222222,\"#7201a8\"],[0.3333333333333333,\"#9c179e\"],[0.4444444444444444,\"#bd3786\"],[0.5555555555555556,\"#d8576b\"],[0.6666666666666666,\"#ed7953\"],[0.7777777777777778,\"#fb9f3a\"],[0.8888888888888888,\"#fdca26\"],[1.0,\"#f0f921\"]],\"diverging\":[[0,\"#8e0152\"],[0.1,\"#c51b7d\"],[0.2,\"#de77ae\"],[0.3,\"#f1b6da\"],[0.4,\"#fde0ef\"],[0.5,\"#f7f7f7\"],[0.6,\"#e6f5d0\"],[0.7,\"#b8e186\"],[0.8,\"#7fbc41\"],[0.9,\"#4d9221\"],[1,\"#276419\"]]},\"xaxis\":{\"gridcolor\":\"white\",\"linecolor\":\"white\",\"ticks\":\"\",\"title\":{\"standoff\":15},\"zerolinecolor\":\"white\",\"automargin\":true,\"zerolinewidth\":2},\"yaxis\":{\"gridcolor\":\"white\",\"linecolor\":\"white\",\"ticks\":\"\",\"title\":{\"standoff\":15},\"zerolinecolor\":\"white\",\"automargin\":true,\"zerolinewidth\":2},\"scene\":{\"xaxis\":{\"backgroundcolor\":\"#E5ECF6\",\"gridcolor\":\"white\",\"linecolor\":\"white\",\"showbackground\":true,\"ticks\":\"\",\"zerolinecolor\":\"white\",\"gridwidth\":2},\"yaxis\":{\"backgroundcolor\":\"#E5ECF6\",\"gridcolor\":\"white\",\"linecolor\":\"white\",\"showbackground\":true,\"ticks\":\"\",\"zerolinecolor\":\"white\",\"gridwidth\":2},\"zaxis\":{\"backgroundcolor\":\"#E5ECF6\",\"gridcolor\":\"white\",\"linecolor\":\"white\",\"showbackground\":true,\"ticks\":\"\",\"zerolinecolor\":\"white\",\"gridwidth\":2}},\"shapedefaults\":{\"line\":{\"color\":\"#2a3f5f\"}},\"annotationdefaults\":{\"arrowcolor\":\"#2a3f5f\",\"arrowhead\":0,\"arrowwidth\":1},\"geo\":{\"bgcolor\":\"white\",\"landcolor\":\"#E5ECF6\",\"subunitcolor\":\"white\",\"showland\":true,\"showlakes\":true,\"lakecolor\":\"white\"},\"title\":{\"x\":0.05},\"mapbox\":{\"style\":\"light\"}}},\"title\":{\"text\":\"cognatehood_4\"},\"xaxis\":{\"title\":{\"text\":\"cognatehood_4 score\"}},\"yaxis\":{\"title\":{\"text\":\"count\"}},\"legend\":{\"title\":{\"text\":\"CS label\"}}},                        {\"responsive\": true}                    ).then(function(){\n",
       "                            \n",
       "var gd = document.getElementById('7a96e159-4e76-4144-b573-9e53c07ea5b1');\n",
       "var x = new MutationObserver(function (mutations, observer) {{\n",
       "        var display = window.getComputedStyle(gd).display;\n",
       "        if (!display || display === 'none') {{\n",
       "            console.log([gd, 'removed!']);\n",
       "            Plotly.purge(gd);\n",
       "            observer.disconnect();\n",
       "        }}\n",
       "}});\n",
       "\n",
       "// Listen for the removal of the full notebook cells\n",
       "var notebookContainer = gd.closest('#notebook-container');\n",
       "if (notebookContainer) {{\n",
       "    x.observe(notebookContainer, {childList: true});\n",
       "}}\n",
       "\n",
       "// Listen for the clearing of the current output cell\n",
       "var outputEl = gd.closest('.output');\n",
       "if (outputEl) {{\n",
       "    x.observe(outputEl, {childList: true});\n",
       "}}\n",
       "\n",
       "                        })                };                });            </script>        </div>"
      ]
     },
     "metadata": {},
     "output_type": "display_data"
    },
    {
     "name": "stdout",
     "output_type": "stream",
     "text": [
      "CS 1 - weighted average: 0.13576835777831217\n",
      "CS 0 - weighted average: 0.16955520083681994\n"
     ]
    },
    {
     "data": {
      "application/vnd.plotly.v1+json": {
       "config": {
        "plotlyServerURL": "https://plot.ly"
       },
       "data": [
        {
         "mode": "markers",
         "name": "1",
         "opacity": 1,
         "type": "scatter",
         "x": [
          0,
          0.3304,
          0.4466,
          0.3362,
          0.4105,
          0.5447,
          0.54,
          0.3318,
          0.3726,
          0.3059,
          0.4551,
          0.2879,
          0.3152,
          0.3612,
          0.4219,
          0.4091,
          0.4,
          0.2886,
          0.473,
          0.4504,
          0.255,
          0.347,
          0.328,
          0.3236,
          0.5197,
          0.2907,
          0.3341,
          0.3584,
          0.4056,
          0.3866,
          0.2643,
          0.233,
          0.3899,
          0.2396,
          0.6145,
          0.2181,
          0.4065,
          0.3976,
          0.2998,
          0.4705,
          0.3395,
          0.4217,
          0.4126,
          0.3222,
          0.431,
          0.3642,
          0.5534,
          0.4712,
          0.3596,
          0.2975,
          0.3838,
          0.3311,
          0.4723,
          0.5316,
          0.374,
          0.3397,
          0.307,
          0.2771,
          0.3656,
          0.6997,
          0.2706,
          0.2295,
          0.474,
          0.2855,
          0.4396,
          0.3965,
          0.5902,
          0.6227,
          0.8482,
          0.629,
          0.4361,
          0.3115,
          0.2954,
          0.1725,
          0.3201,
          0.4077,
          0.2671,
          0.2197,
          0.4691,
          0.3505,
          0.3224,
          0.3663,
          0.2881,
          0.357,
          0.286,
          0.3264,
          0.222,
          0.579,
          0.2722,
          0.4803,
          0.5025,
          0.6113,
          0.4919,
          0.71,
          0.7252,
          0.7768,
          0.1609,
          0.3883,
          0.2162,
          0.3824,
          0.2171,
          0.8039,
          0.4002,
          0.4502,
          0.2858,
          0.5484,
          0.8506,
          0.2631,
          0.1268,
          0.3306,
          0.4212,
          0.7875,
          0.4245,
          0.4422,
          0.1751,
          0.4049,
          0.6211,
          0.4119,
          0.5839,
          0.512,
          0.4233,
          0.3969,
          0.4772,
          0.212,
          0.3453,
          0.3519,
          0.5144,
          0.3166,
          0.7703,
          0.4796,
          0.5085,
          0.2036,
          0.3911,
          0.2718,
          0.2926,
          0.728,
          0.2895,
          0.2837,
          0.4385,
          0.5391,
          0.4758,
          0.3336,
          0.2928,
          0.2431,
          0.5622,
          0.3549,
          0.4039,
          0.2813,
          0.7035,
          0.3266,
          0.4387,
          0.5335,
          0.449,
          0.7231,
          0.6159,
          0.3061,
          0.3647,
          0.3035,
          0.4147,
          0.6801,
          0.3607,
          0.3117,
          0.2608,
          0.7427,
          0.7686,
          0.5389,
          0.3327,
          0.427,
          0.5968,
          0.7889,
          0.4726,
          0.3124,
          0.2452,
          0.2204,
          0.5991,
          0.4534,
          0.7373,
          0.2293,
          0.8781,
          0.5097,
          0.4882,
          0.5309,
          0.2115,
          0.6283,
          0.6085,
          0.2979,
          0.4968,
          0.279,
          0.6416,
          0.414,
          0.7037,
          0.8693,
          0.3215,
          0.5646,
          0.7752,
          0.4658,
          0.6547,
          0.5113,
          0.5123,
          0.4228,
          0.5487,
          0.5512,
          0.4058,
          0.3796,
          0.6512,
          0.2692,
          0.7675,
          0.8426,
          0.8071,
          0.4203,
          0.4499,
          0.3782,
          0.2989,
          0.6647,
          0.3449,
          0.7509,
          0.6755,
          0.3,
          0.2578,
          0.2489,
          0.2662,
          0.6673,
          0.8697,
          0.2697,
          0.4889,
          0.5377,
          0.2713,
          0.4532,
          0.5837,
          0.5657,
          0.4971,
          0.8933,
          0.2991,
          0.8784,
          0.3283,
          0.6141,
          0.5312,
          0.6813,
          0.7548,
          0.3617,
          0.2575,
          0.5118,
          0.5328,
          0.7721,
          0.5713,
          0.5067,
          0.3526,
          0.4471,
          0.173,
          0.2839,
          0.619,
          0.3346,
          0.304,
          0.3941,
          0.8648,
          0.5155,
          0.3348,
          0.83,
          0.2832,
          0.3378,
          0.1756,
          0.732,
          0.4602,
          0.8816,
          0.3568,
          0.4151,
          0.5951,
          0.2339,
          0.3747,
          0.2715,
          0.2844,
          0.6215,
          0.8492,
          0.5347,
          0.4558,
          0.5482,
          0.3869,
          0.4247,
          0.686,
          0.5106,
          0.4366,
          0.8798,
          0.5517,
          0.399,
          0.7511,
          0.6099,
          0.4028,
          0.318,
          0.2508,
          0.4826,
          0.3444,
          0.6442,
          0.4637,
          0.7296,
          0.4289,
          0.4856,
          0.3528,
          0.5461,
          0.2153,
          0.3759,
          0.3934,
          0.8076,
          0.4256,
          0.4749,
          0.3724,
          0.4114,
          0.6923,
          0.2519,
          0.7114,
          0.3322,
          0.4639,
          0.685,
          0.4931,
          0.586,
          0.8473,
          0.5825,
          0.3572,
          0.7215,
          0.513,
          0.2232,
          0.6636,
          0.7107,
          0.2447,
          0.452,
          0.3582,
          0.4156,
          0.2351,
          0.3808,
          0.8947,
          0.615,
          0.2942,
          0.5954,
          0.3463,
          0.4352,
          0.6334,
          0.8531,
          0.7572,
          0.4086,
          0.5979,
          0.4567,
          0.4235,
          0.5505,
          0.5438,
          0.6668,
          0.5541,
          0.3733,
          0.5828,
          0.5064,
          0.3119,
          0.2003,
          0.5214,
          0.6981,
          0.3979,
          0.6591,
          0.4791,
          0.2174,
          0.2564,
          0.4527,
          0.2227,
          0.4763,
          0.6969,
          0.3465,
          0.5923,
          0.3682,
          0.7387,
          0.5702,
          0.5781,
          0.6124,
          0.8106,
          0.8034,
          0.7803,
          0.3997,
          0.8585,
          0.421,
          0.4403,
          0.4546,
          0.5202,
          0.5863,
          0.4312,
          0.4548,
          0.3579,
          0.2645,
          0.7338,
          0.3161,
          0.4698,
          0.3901,
          0.4051,
          0.5081,
          0.6951,
          0.7614,
          0.544,
          0.241,
          0.258,
          0.3827,
          0.6507,
          0.371,
          0.3474,
          0.2386,
          0.9057,
          0.7537,
          0.5179,
          0.3329,
          0.343,
          0.2762,
          0.7754,
          0.3199,
          0.3255,
          0.4847,
          0.2648,
          0.7067,
          0.696,
          0.9498,
          0.2013,
          0.6187,
          0.3731,
          0.2636,
          0.3794,
          0.2239,
          0.3589,
          0.3234,
          0.4677
         ],
         "y": [
          2794,
          92,
          51,
          43,
          41,
          41,
          40,
          34,
          29,
          24,
          22,
          20,
          20,
          19,
          19,
          18,
          18,
          17,
          16,
          14,
          13,
          13,
          12,
          12,
          11,
          10,
          10,
          9,
          9,
          9,
          8,
          8,
          8,
          8,
          8,
          8,
          8,
          7,
          7,
          6,
          6,
          6,
          6,
          6,
          6,
          5,
          5,
          5,
          5,
          5,
          5,
          5,
          5,
          4,
          4,
          4,
          4,
          4,
          4,
          4,
          4,
          4,
          4,
          4,
          4,
          4,
          4,
          4,
          3,
          3,
          3,
          3,
          3,
          3,
          3,
          3,
          3,
          3,
          3,
          3,
          3,
          3,
          3,
          3,
          3,
          3,
          3,
          3,
          3,
          2,
          2,
          2,
          2,
          2,
          2,
          2,
          2,
          2,
          2,
          2,
          2,
          2,
          2,
          2,
          2,
          2,
          2,
          2,
          2,
          2,
          2,
          2,
          2,
          2,
          2,
          2,
          2,
          2,
          2,
          2,
          2,
          2,
          2,
          2,
          2,
          2,
          2,
          2,
          2,
          2,
          2,
          2,
          2,
          2,
          2,
          2,
          2,
          2,
          2,
          2,
          2,
          2,
          2,
          2,
          2,
          2,
          2,
          2,
          2,
          2,
          2,
          2,
          2,
          2,
          2,
          2,
          2,
          2,
          2,
          2,
          2,
          2,
          2,
          2,
          2,
          2,
          2,
          1,
          1,
          1,
          1,
          1,
          1,
          1,
          1,
          1,
          1,
          1,
          1,
          1,
          1,
          1,
          1,
          1,
          1,
          1,
          1,
          1,
          1,
          1,
          1,
          1,
          1,
          1,
          1,
          1,
          1,
          1,
          1,
          1,
          1,
          1,
          1,
          1,
          1,
          1,
          1,
          1,
          1,
          1,
          1,
          1,
          1,
          1,
          1,
          1,
          1,
          1,
          1,
          1,
          1,
          1,
          1,
          1,
          1,
          1,
          1,
          1,
          1,
          1,
          1,
          1,
          1,
          1,
          1,
          1,
          1,
          1,
          1,
          1,
          1,
          1,
          1,
          1,
          1,
          1,
          1,
          1,
          1,
          1,
          1,
          1,
          1,
          1,
          1,
          1,
          1,
          1,
          1,
          1,
          1,
          1,
          1,
          1,
          1,
          1,
          1,
          1,
          1,
          1,
          1,
          1,
          1,
          1,
          1,
          1,
          1,
          1,
          1,
          1,
          1,
          1,
          1,
          1,
          1,
          1,
          1,
          1,
          1,
          1,
          1,
          1,
          1,
          1,
          1,
          1,
          1,
          1,
          1,
          1,
          1,
          1,
          1,
          1,
          1,
          1,
          1,
          1,
          1,
          1,
          1,
          1,
          1,
          1,
          1,
          1,
          1,
          1,
          1,
          1,
          1,
          1,
          1,
          1,
          1,
          1,
          1,
          1,
          1,
          1,
          1,
          1,
          1,
          1,
          1,
          1,
          1,
          1,
          1,
          1,
          1,
          1,
          1,
          1,
          1,
          1,
          1,
          1,
          1,
          1,
          1,
          1,
          1,
          1,
          1,
          1,
          1,
          1,
          1,
          1,
          1,
          1,
          1,
          1,
          1,
          1,
          1,
          1,
          1,
          1,
          1,
          1,
          1,
          1,
          1,
          1,
          1,
          1,
          1,
          1,
          1,
          1,
          1,
          1,
          1,
          1,
          1,
          1,
          1,
          1,
          1,
          1,
          1,
          1,
          1,
          1,
          1,
          1,
          1,
          1,
          1,
          1,
          1,
          1,
          1,
          1,
          1,
          1,
          1,
          1,
          1,
          1,
          1,
          1,
          1,
          1,
          1,
          1,
          1,
          1,
          1
         ]
        },
        {
         "mode": "markers",
         "name": "0",
         "opacity": 0.5,
         "type": "scatter",
         "x": [
          0,
          0.3304,
          0.3318,
          0.4105,
          0.3059,
          0.54,
          0.4466,
          0.3362,
          0.4219,
          0.5447,
          0.4504,
          0.3726,
          0.3612,
          0.255,
          0.4056,
          0.2879,
          0.4,
          0.3152,
          0.473,
          0.4551,
          0.4091,
          0.3584,
          0.2907,
          0.2886,
          0.3976,
          0.3236,
          0.328,
          0.3899,
          0.2643,
          0.5197,
          0.347,
          0.3341,
          0.233,
          0.2706,
          0.3201,
          0.3395,
          0.3866,
          0.3965,
          0.4772,
          0.6145,
          0.2813,
          0.3117,
          0.3222,
          0.307,
          0.2928,
          0.4712,
          0.4396,
          0.4028,
          0.2671,
          0.4723,
          0.4126,
          0.4705,
          0.5316,
          0.2564,
          0.5389,
          0.2295,
          0.3596,
          0.4791,
          0.3656,
          0.5534,
          0.2396,
          0.4065,
          0.431,
          0.4691,
          0.3747,
          0.2998,
          0.2181,
          0.512,
          0.2975,
          0.3663,
          0.2608,
          0.449,
          0.6227,
          0.3224,
          0.2722,
          0.3642,
          0.4039,
          0.2771,
          0.4046,
          0.3322,
          0.6528,
          0.222,
          0.474,
          0.3549,
          0.2351,
          0.3327,
          0.8482,
          0.8531,
          0.3838,
          0.6647,
          0.5713,
          0.374,
          0.3619,
          0.2697,
          0.3035,
          0.3444,
          0.5484,
          0.3311,
          0.5391,
          0.2631,
          0.3397,
          0.4228,
          0.3505,
          0.1725,
          0.3325,
          0.3329,
          0.212,
          0.357,
          0.2431,
          0.3306,
          0.3453,
          0.7768,
          0.2204,
          0.8076,
          0.315,
          0.4527,
          0.2855,
          0.4803,
          0.4434,
          0.5718,
          0.5025,
          0.4646,
          0.5867,
          0.3449,
          0.7875,
          0.3568,
          0.544,
          0.4919,
          0.3687,
          0.8191,
          0.2575,
          0.4361,
          0.399,
          0.7794,
          0.2171,
          0.4212,
          0.6619,
          0.4147,
          0.586,
          0.2832,
          0.7231,
          0.286,
          0.7336,
          0.3266,
          0.4796,
          0.2881,
          0.3336,
          0.4119,
          0.4282,
          0.4077,
          0.2174,
          0.3731,
          0.4698,
          0.3161,
          0.3724,
          0.562,
          0.304,
          0.7152,
          0.3682,
          0.5902,
          0.3759,
          0.2239,
          0.4053,
          0.3313,
          0.3514,
          0.3997,
          0.5067,
          0.5863,
          0.6591,
          0.5279,
          0.4168,
          0.5335,
          0.3103,
          0.3498,
          0.6353,
          0.5839,
          0.1445,
          0.6507,
          0.4541,
          0.3301,
          0.3901,
          0.427,
          0.7299,
          0.2942,
          0.5541,
          0.4471,
          0.2895,
          0.4502,
          0.7579,
          0.3526,
          0.3733,
          0.6253,
          0.5466,
          0.5144,
          0.6997,
          0.3054,
          0.3887,
          0.5494,
          0.5048,
          0.5309,
          0.4639,
          0.3796,
          0.1609,
          0.4537,
          0.2036,
          0.665,
          0.6124,
          0.7338,
          0.5517,
          0.3075,
          0.4726,
          0.6099,
          0.6085,
          0.2655,
          0.6159,
          0.4366,
          0.4499,
          0.6888,
          0.4534,
          0.2715,
          0.5085,
          0.5433,
          0.8226,
          0.4845,
          0.4373,
          0.4628,
          0.5363,
          0.5986,
          0.502,
          0.579,
          0.5179,
          0.241,
          0.3738,
          0.6624,
          0.4422,
          0.4831,
          0.8506,
          0.7257,
          0.3133,
          0.7145,
          0.8697,
          0.2536,
          0.6827,
          0.4387,
          0.5884,
          0.5232,
          0.3227,
          0.4037,
          0.728,
          0.4838,
          0.5825,
          0.3969,
          0.6059,
          0.3348,
          0.2954,
          0.6416,
          0.3061,
          0.6498,
          0.6556,
          0.2629,
          0.5414,
          0.5445,
          0.619,
          0.4994,
          0.3115,
          0.4987,
          0.3801,
          0.7703,
          0.3472,
          0.3456,
          0.629,
          0.3633,
          0.5739,
          0.5202,
          0.2713,
          0.5657,
          0.1268,
          0.7046,
          0.3523,
          0.2991,
          0.8816,
          0.5793,
          0.6141,
          0.4455,
          0.2384,
          0.5573,
          0.41,
          0.3778,
          0.7189,
          0.6451,
          0.6673,
          0.3579,
          0.5482,
          0.6895,
          0.6362,
          0.3808,
          0.4936,
          0.5286,
          0.2844,
          0.742,
          0.622,
          0.3943,
          0.2965,
          0.6717,
          0.3631,
          0.5548,
          0.3512,
          0.452,
          0.3598,
          0.4763,
          0.8039,
          0.3773,
          0.513,
          0.453,
          0.615,
          0.3131,
          0.5968,
          0.4256,
          0.3346,
          0.7121,
          0.6862,
          0.4263,
          0.3794,
          0.611,
          0.6215,
          0.4807,
          0.5274,
          0.4156,
          0.4058,
          0.2153,
          0.3638,
          0.2197,
          0.6792,
          0.4095,
          0.3378,
          0.5351,
          0.3147,
          0.6255,
          0.3824,
          0.3143,
          0.2909,
          0.4728,
          0.8473,
          0.7574,
          0.5006,
          0.3869,
          0.4782,
          0.5417,
          0.4873,
          0.7551,
          0.9757,
          0.2893,
          0.3703,
          0.3439,
          0.5384,
          0.2979,
          0.5487,
          0.6523,
          0.3519,
          0.2246,
          0.6101,
          0.5667,
          0.3486,
          0.2508,
          0.3166,
          0.7457,
          0.8116,
          0.1756,
          0.6804,
          0.3418,
          0.4032,
          0.3495,
          0.4007,
          0.4567,
          0.5412,
          0.6453,
          0.4436,
          0.3771,
          0.7691,
          0.3883,
          0.3287,
          0.3122,
          0.7509,
          0.4894,
          0.5242,
          0.4259,
          0.3754,
          0.279,
          0.3343,
          0.9092,
          0.5914,
          0.8106,
          0.4406,
          0.6187,
          0.3241,
          0.3164,
          0.4882,
          0.9148,
          0.5702,
          0.2452,
          0.3607,
          0.7964,
          0.7654,
          0.3586,
          0.844,
          0.5942,
          0.3827,
          0.3187,
          0.2935,
          0.2202,
          0.5788,
          0.2825,
          0.5837,
          0.3582,
          0.6341,
          0.2363,
          0.5251,
          0.4245,
          0.5804,
          0.6547,
          0.5377,
          0.7212,
          0.3953,
          0.6521,
          0.3729,
          0.6028,
          0.6271,
          0.6283,
          0.1826,
          0.6213,
          0.4193,
          0.6031,
          0.5438,
          0.7296,
          0.573,
          0.509,
          0.2519,
          0.2459,
          0.7,
          0.4462,
          0.3785,
          0.7488,
          0.3715,
          0.749,
          0.2848,
          0.4088,
          0.6636,
          0.2447,
          0.6603,
          0.7427,
          0.2694,
          0.643,
          0.3154,
          0.7682,
          0.583,
          0.5172,
          0.4635,
          0.9103,
          0.6951,
          0.7028,
          0.4347,
          0.2162,
          0.2725,
          0.5758,
          0.2489,
          0.2762,
          0.2057,
          0.7562,
          0.6969,
          0.5909,
          0.3157,
          0.8613,
          0.3782,
          0.2013,
          0.3463,
          0.4303,
          0.3392,
          0.5954,
          0.8693,
          0.8849,
          0.2501,
          0.477,
          0.5865,
          0.3876,
          0.8933,
          0.3915,
          0.4086,
          0.4023,
          0.8536,
          0.2785,
          0.4312,
          0.653,
          0.6813,
          0.8228,
          0.5958,
          0.2473,
          0.6334,
          0.752,
          0.4656,
          0.4301,
          0.4506,
          0.3259,
          0.6211,
          0.5295,
          0.5671,
          0.3572,
          0.4681,
          0.4546,
          0.6264,
          0.4266,
          0.4492,
          0.8781,
          0.8576,
          0.3745,
          0.4737,
          0.3294,
          0.4233,
          0.5118,
          0.456,
          0.6367,
          0.1819,
          0.6825,
          0.5305,
          0.5629,
          0.9106,
          0.336,
          0.8424,
          0.4445,
          0.6262,
          0.414,
          0.7194,
          0.4249,
          0.2956,
          0.679,
          0.3175,
          0.7822,
          0.3435,
          0.8352,
          0.4677,
          0.3948,
          0.4079,
          0.4819,
          0.6799,
          0.7712,
          0.4663,
          0.7829,
          0.7693,
          0.4642,
          0.6204,
          0.5611,
          0.8872,
          0.6706,
          0.3577,
          0.2718,
          0.4856,
          0.6446,
          0.647,
          0.5858,
          0.4098,
          0.3624,
          0.7826,
          0.714,
          0.7999,
          0.6995,
          0.7243,
          0.8966,
          0.3402,
          0.9057,
          0.4051,
          0.403,
          0.2795,
          0.3556,
          0.4385,
          0.838,
          0.6953,
          0.7945,
          0.5587,
          0.1751,
          0.9498,
          0.947,
          0.7625,
          0.5676,
          0.1375,
          0.4968,
          0.346,
          0.435,
          0.59,
          0.625,
          0.777,
          0.389,
          0.2781,
          0.3911,
          0.7915,
          0.294,
          0.5421,
          0.3565,
          0.5029,
          0.5032,
          0.8064,
          0.6397,
          0.6605,
          0.6678,
          0.2083,
          0.5991,
          0.258,
          0.7453,
          0.1714,
          0.8552,
          0.3299,
          0.4889,
          0.9477,
          0.4609,
          0.6005,
          0.7359,
          0.7959,
          0.4217,
          0.3939,
          0.6355,
          0.5258,
          0.2622,
          0.2428,
          0.5064,
          0.5816,
          0.7245,
          0.5578,
          0.732,
          0.6829,
          0.5515,
          0.6526,
          0.2837,
          0.7588,
          0.6584,
          0.7252,
          0.2379,
          0.325,
          0.4532,
          0.3491,
          0.8618,
          0.4929,
          0.5382,
          0.6806,
          0.7303,
          0.3199,
          0.2659,
          0.6986,
          0.8905,
          0.2115,
          0.2164,
          0.6983,
          0.6514,
          0.6512,
          0.682,
          0.321,
          0.4049,
          0.5461,
          0.4884,
          0.5923,
          0.8959,
          0.3981,
          0.1996,
          0.5618,
          0.5062,
          0.5508,
          0.3528,
          0.3196,
          0.4903,
          0.3185,
          0.6082,
          0.3502,
          0.6292,
          0.5214,
          0.2657,
          0.5237,
          0.6318,
          0.2414,
          0.3927,
          0.3124,
          0.3666,
          0.7278,
          0.3983,
          0.5347,
          0.4135,
          0.7864,
          0.5748,
          0.6967,
          0.3038,
          0.1989,
          0.2183,
          0.4758,
          0.7208,
          0.353,
          0.626,
          0.7411,
          0.4658,
          0.8798,
          0.4565,
          0.5265,
          0.6801,
          0.3936,
          0.6563,
          0.6138,
          0.3255,
          0.4971,
          0.8492,
          0.7616,
          0.6638,
          0.3621,
          0.4875,
          0.8317,
          0.4247,
          0.3409,
          0.6797,
          0.3834,
          0.4579,
          0.3126,
          0.4457,
          0.6687,
          0.2297,
          0.3743,
          0.8258,
          0.612,
          0.4604,
          0.4954,
          0.3946,
          0.282,
          0.2356,
          0.4793,
          0.2949,
          0.2652,
          0.7583,
          0.7002,
          0.9479,
          0.1924,
          0.5874,
          0.6794,
          0.8657,
          0.3806,
          0.2603,
          0.5386,
          0.5113,
          0.4485,
          0.5772,
          0.4158,
          0.6654,
          0.4002,
          0.1884,
          0.7546,
          0.3089,
          0.4427,
          0.8361,
          0.1852,
          0.6432,
          0.1805,
          0.301,
          0.6038,
          0.3425,
          0.4842,
          0.4196,
          0.8111,
          0.498,
          0.7184,
          0.9185,
          0.8585,
          0.7282,
          0.5846,
          0.2071,
          0.6162,
          0.481,
          0.8256,
          0.36,
          0.4623,
          0.6535,
          0.2454,
          0.6778,
          0.5751,
          0.4021,
          0.8664,
          0.3696,
          0.6743,
          0.2094,
          0.6369,
          0.2986,
          0.3617,
          0.3376,
          0.3374,
          0.2748,
          0.3283,
          0.707,
          0.5111,
          0.6909,
          0.4014,
          0.4607,
          0.4922,
          0.5167,
          0.5977,
          0.2869,
          0.417,
          0.7525,
          0.3371,
          0.46,
          0.2755,
          0.6675,
          0.3364,
          0.434,
          0.4602,
          0.6892,
          0.2834,
          0.6808,
          0.466,
          0.5468,
          0.4284,
          0.3813,
          0.8648,
          0.3684,
          0.8844,
          0.6537,
          0.2811,
          0.608,
          0.2517,
          0.2916,
          0.1261,
          0.6839,
          0.6671,
          0.7651,
          0.5312,
          0.3446,
          0.5153,
          0.3764,
          0.3705,
          0.4165,
          0.6594,
          0.208,
          0.7233,
          0.5368,
          0.3,
          0.6713,
          0.5225,
          0.6299,
          0.438,
          0.3428,
          0.5538,
          0.4569,
          0.9129,
          0.2905,
          0.2839,
          0.5592,
          0.3689,
          0.4733,
          0.487,
          0.4959,
          0.4067,
          0.6701,
          0.4511,
          0.3357,
          0.3516,
          0.3049,
          0.8767,
          0.5477,
          0.4319,
          0.329,
          0.8377,
          0.8202,
          0.6449,
          0.6769,
          0.9297,
          0.6047,
          0.318,
          0.4368,
          0.5148,
          0.2127,
          0.5095,
          0.699,
          0.7485,
          0.5246,
          0.6021,
          0.6832,
          0.4779,
          0.4719,
          0.6407,
          0.6668,
          0.2883,
          0.8013,
          0.7254,
          0.6313,
          0.8924,
          0.9157,
          0.5244,
          0.7364,
          0.7464,
          0.4184,
          0.4254,
          0.7044,
          0.8097,
          0.9279,
          0.1837,
          0.2802,
          0.9031,
          0.8004,
          0.3119,
          0.7373,
          0.2398,
          0.6171,
          0.7114,
          0.636,
          0.5615,
          0.42,
          0.2704,
          0.6633,
          0.5239,
          0.2232,
          0.8975,
          0.4343,
          0.2753,
          0.2926,
          0.865,
          0.8426,
          0.4224,
          0.8704,
          0.236,
          0.4595,
          0.368,
          0.979,
          0.5127,
          0.7808,
          0.3941,
          0.618,
          0.4483,
          0.6274,
          0.5146,
          0.5288,
          0.3308,
          0.215,
          0.2339,
          0.4289,
          0.2426,
          0.4985,
          0.2403,
          0.526,
          0.5648,
          0.558,
          0.6332,
          0.6302,
          0.4931,
          0.8331,
          0.3451,
          0.5779,
          0.407,
          0.3892,
          0.3091,
          0.7217,
          0.8823,
          0.7215,
          0.332,
          0.9407,
          0.1366,
          0.3535,
          0.5594,
          0.3972,
          0.4308,
          0.2669,
          0.6918,
          0.442,
          0.8046,
          0.3507,
          0.3437,
          0.6897,
          0.8994,
          0.2673,
          0.2984,
          0.3243,
          0.2449,
          0.5583,
          0.1644,
          0.6643,
          0.226,
          0.4478,
          0.2435,
          0.4287,
          0.382,
          0.7222,
          0.1856,
          0.4525,
          0.6612,
          0.3416,
          0.3544,
          0.858,
          0.293,
          0.354,
          0.8749,
          0.4401,
          0.3542,
          0.4238,
          0.7506,
          0.897,
          0.7177,
          0.6554,
          0.3297,
          0.2573,
          0.5356,
          0.3234,
          0.2209,
          0.3918,
          0.8562,
          0.7191,
          0.3488,
          0.3736,
          0.4252,
          0.7644,
          0.1802,
          0.6113,
          0.4632,
          0.6229,
          0.5505,
          0.6267,
          0.7032,
          0.8891,
          0.8464,
          0.8683,
          0.6348,
          0.248,
          0.4338,
          0.3864,
          0.8896,
          0.3334,
          0.7371,
          0.6869,
          0.5823,
          0.3768,
          0.6103,
          0.8431,
          0.745,
          0.7614,
          0.4721,
          0.5807,
          0.5786,
          0.6201,
          0.2578,
          0.6934,
          0.2858,
          0.7787,
          0.8282,
          0.2912,
          0.6288,
          0.71,
          0.4207,
          0.2227,
          0.9101,
          0.3383,
          0.788,
          0.4382,
          0.7159,
          0.7091,
          0.4011,
          0.6374,
          0.314,
          0.5571,
          0.2213,
          0.3385,
          0.5706,
          0.4653,
          0.8419,
          0.6409,
          0.322,
          0.459,
          0.3098,
          0.3033,
          0.5842,
          0.4336,
          0.4555,
          0.7686,
          0.6682,
          0.4488,
          0.3822,
          0.3369,
          0.127,
          0.6876,
          0.7205,
          0.3967,
          0.883,
          0.2571,
          0.29,
          0.6939,
          0.5139,
          0.4429,
          0.4448,
          0.7387,
          0.7581,
          0.4982,
          0.7271,
          0.7803,
          0.2627,
          0.8071,
          0.8879,
          0.4399,
          0.4933,
          0.7833,
          0.7663,
          0.5737,
          0.3399,
          0.692,
          0.778,
          0.7067,
          0.5473,
          0.696,
          0.3213,
          0.0864,
          0.6306,
          0.805,
          0.4322,
          0.2251,
          0.739,
          0.3815,
          0.3647,
          0.6143,
          0.6727,
          0.6194,
          0.7532,
          0.5933,
          0.2582,
          0.7483,
          0.7035,
          0.685,
          0.4901,
          0.2599,
          0.406,
          0.3215,
          0.5669,
          0.8788,
          0.4812,
          0.4852,
          0.9054,
          0.7647,
          0.837,
          0.6696,
          0.4614,
          0.4784,
          0.7397,
          0.5613,
          0.572,
          0.3589,
          0.6871,
          0.5774,
          0.6425,
          0.7107,
          0.1781,
          0.7775,
          0.7929,
          0.5496,
          0.7037,
          0.5158,
          0.3096,
          0.3432,
          0.6423,
          0.7838,
          0.4273,
          0.6916,
          0.8001,
          0.9071
         ],
         "y": [
          14135,
          707,
          301,
          275,
          265,
          252,
          232,
          231,
          216,
          200,
          196,
          180,
          156,
          135,
          130,
          118,
          115,
          112,
          109,
          106,
          102,
          97,
          94,
          82,
          79,
          77,
          71,
          69,
          68,
          68,
          67,
          66,
          63,
          56,
          49,
          48,
          47,
          47,
          47,
          44,
          39,
          39,
          38,
          38,
          36,
          35,
          35,
          34,
          33,
          31,
          30,
          30,
          29,
          29,
          29,
          29,
          28,
          28,
          28,
          28,
          28,
          27,
          26,
          25,
          25,
          25,
          25,
          25,
          24,
          23,
          22,
          22,
          21,
          21,
          20,
          20,
          20,
          19,
          19,
          19,
          18,
          18,
          18,
          17,
          17,
          17,
          17,
          17,
          17,
          17,
          16,
          16,
          16,
          15,
          15,
          15,
          15,
          15,
          15,
          15,
          14,
          14,
          14,
          14,
          14,
          14,
          13,
          13,
          13,
          13,
          13,
          12,
          12,
          12,
          12,
          12,
          12,
          12,
          12,
          12,
          11,
          11,
          11,
          11,
          11,
          11,
          11,
          11,
          11,
          11,
          11,
          11,
          10,
          10,
          10,
          10,
          10,
          10,
          10,
          10,
          10,
          10,
          10,
          10,
          10,
          10,
          10,
          10,
          10,
          9,
          9,
          9,
          9,
          9,
          9,
          9,
          9,
          9,
          9,
          9,
          9,
          8,
          8,
          8,
          8,
          8,
          8,
          8,
          8,
          8,
          8,
          8,
          8,
          8,
          8,
          7,
          7,
          7,
          7,
          7,
          7,
          7,
          7,
          7,
          7,
          7,
          7,
          7,
          7,
          7,
          7,
          7,
          7,
          7,
          7,
          7,
          7,
          7,
          6,
          6,
          6,
          6,
          6,
          6,
          6,
          6,
          6,
          6,
          6,
          6,
          6,
          6,
          6,
          6,
          6,
          6,
          6,
          6,
          6,
          6,
          6,
          6,
          6,
          6,
          6,
          6,
          6,
          6,
          6,
          6,
          6,
          5,
          5,
          5,
          5,
          5,
          5,
          5,
          5,
          5,
          5,
          5,
          5,
          5,
          5,
          5,
          5,
          5,
          5,
          5,
          5,
          5,
          5,
          5,
          5,
          5,
          5,
          5,
          5,
          5,
          5,
          5,
          5,
          5,
          5,
          5,
          5,
          5,
          5,
          5,
          5,
          5,
          5,
          5,
          5,
          5,
          4,
          4,
          4,
          4,
          4,
          4,
          4,
          4,
          4,
          4,
          4,
          4,
          4,
          4,
          4,
          4,
          4,
          4,
          4,
          4,
          4,
          4,
          4,
          4,
          4,
          4,
          4,
          4,
          4,
          4,
          4,
          4,
          4,
          4,
          4,
          4,
          4,
          4,
          4,
          4,
          4,
          4,
          4,
          4,
          4,
          4,
          4,
          4,
          4,
          4,
          4,
          4,
          4,
          4,
          4,
          4,
          4,
          4,
          4,
          4,
          4,
          4,
          4,
          4,
          4,
          4,
          4,
          4,
          4,
          4,
          4,
          3,
          3,
          3,
          3,
          3,
          3,
          3,
          3,
          3,
          3,
          3,
          3,
          3,
          3,
          3,
          3,
          3,
          3,
          3,
          3,
          3,
          3,
          3,
          3,
          3,
          3,
          3,
          3,
          3,
          3,
          3,
          3,
          3,
          3,
          3,
          3,
          3,
          3,
          3,
          3,
          3,
          3,
          3,
          3,
          3,
          3,
          3,
          3,
          3,
          3,
          3,
          3,
          3,
          3,
          3,
          3,
          3,
          3,
          3,
          3,
          3,
          3,
          3,
          3,
          3,
          3,
          3,
          3,
          3,
          3,
          3,
          3,
          3,
          3,
          3,
          3,
          3,
          3,
          3,
          3,
          3,
          3,
          3,
          3,
          3,
          3,
          3,
          3,
          3,
          3,
          3,
          3,
          3,
          3,
          3,
          3,
          3,
          3,
          3,
          3,
          3,
          3,
          3,
          3,
          3,
          3,
          3,
          3,
          3,
          3,
          3,
          3,
          3,
          3,
          3,
          3,
          3,
          3,
          3,
          3,
          3,
          3,
          3,
          3,
          3,
          3,
          3,
          3,
          3,
          3,
          3,
          3,
          3,
          3,
          2,
          2,
          2,
          2,
          2,
          2,
          2,
          2,
          2,
          2,
          2,
          2,
          2,
          2,
          2,
          2,
          2,
          2,
          2,
          2,
          2,
          2,
          2,
          2,
          2,
          2,
          2,
          2,
          2,
          2,
          2,
          2,
          2,
          2,
          2,
          2,
          2,
          2,
          2,
          2,
          2,
          2,
          2,
          2,
          2,
          2,
          2,
          2,
          2,
          2,
          2,
          2,
          2,
          2,
          2,
          2,
          2,
          2,
          2,
          2,
          2,
          2,
          2,
          2,
          2,
          2,
          2,
          2,
          2,
          2,
          2,
          2,
          2,
          2,
          2,
          2,
          2,
          2,
          2,
          2,
          2,
          2,
          2,
          2,
          2,
          2,
          2,
          2,
          2,
          2,
          2,
          2,
          2,
          2,
          2,
          2,
          2,
          2,
          2,
          2,
          2,
          2,
          2,
          2,
          2,
          2,
          2,
          2,
          2,
          2,
          2,
          2,
          2,
          2,
          2,
          2,
          2,
          2,
          2,
          2,
          2,
          2,
          2,
          2,
          2,
          2,
          2,
          2,
          2,
          2,
          2,
          2,
          2,
          2,
          2,
          2,
          2,
          2,
          2,
          2,
          2,
          2,
          2,
          2,
          2,
          2,
          2,
          2,
          2,
          2,
          2,
          2,
          2,
          2,
          2,
          2,
          2,
          2,
          2,
          2,
          2,
          2,
          2,
          2,
          2,
          2,
          2,
          2,
          2,
          2,
          2,
          2,
          2,
          2,
          2,
          2,
          2,
          2,
          2,
          2,
          2,
          2,
          2,
          2,
          2,
          2,
          2,
          2,
          2,
          2,
          2,
          2,
          2,
          2,
          2,
          2,
          2,
          2,
          2,
          2,
          2,
          2,
          2,
          2,
          2,
          2,
          2,
          2,
          2,
          2,
          2,
          2,
          2,
          2,
          2,
          2,
          2,
          2,
          2,
          2,
          2,
          2,
          2,
          2,
          2,
          2,
          2,
          2,
          2,
          2,
          2,
          2,
          2,
          2,
          1,
          1,
          1,
          1,
          1,
          1,
          1,
          1,
          1,
          1,
          1,
          1,
          1,
          1,
          1,
          1,
          1,
          1,
          1,
          1,
          1,
          1,
          1,
          1,
          1,
          1,
          1,
          1,
          1,
          1,
          1,
          1,
          1,
          1,
          1,
          1,
          1,
          1,
          1,
          1,
          1,
          1,
          1,
          1,
          1,
          1,
          1,
          1,
          1,
          1,
          1,
          1,
          1,
          1,
          1,
          1,
          1,
          1,
          1,
          1,
          1,
          1,
          1,
          1,
          1,
          1,
          1,
          1,
          1,
          1,
          1,
          1,
          1,
          1,
          1,
          1,
          1,
          1,
          1,
          1,
          1,
          1,
          1,
          1,
          1,
          1,
          1,
          1,
          1,
          1,
          1,
          1,
          1,
          1,
          1,
          1,
          1,
          1,
          1,
          1,
          1,
          1,
          1,
          1,
          1,
          1,
          1,
          1,
          1,
          1,
          1,
          1,
          1,
          1,
          1,
          1,
          1,
          1,
          1,
          1,
          1,
          1,
          1,
          1,
          1,
          1,
          1,
          1,
          1,
          1,
          1,
          1,
          1,
          1,
          1,
          1,
          1,
          1,
          1,
          1,
          1,
          1,
          1,
          1,
          1,
          1,
          1,
          1,
          1,
          1,
          1,
          1,
          1,
          1,
          1,
          1,
          1,
          1,
          1,
          1,
          1,
          1,
          1,
          1,
          1,
          1,
          1,
          1,
          1,
          1,
          1,
          1,
          1,
          1,
          1,
          1,
          1,
          1,
          1,
          1,
          1,
          1,
          1,
          1,
          1,
          1,
          1,
          1,
          1,
          1,
          1,
          1,
          1,
          1,
          1,
          1,
          1,
          1,
          1,
          1,
          1,
          1,
          1,
          1,
          1,
          1,
          1,
          1,
          1,
          1,
          1,
          1,
          1,
          1,
          1,
          1,
          1,
          1,
          1,
          1,
          1,
          1,
          1,
          1,
          1,
          1,
          1,
          1,
          1,
          1,
          1,
          1,
          1,
          1,
          1,
          1,
          1,
          1,
          1,
          1,
          1,
          1,
          1,
          1,
          1,
          1,
          1,
          1,
          1,
          1,
          1,
          1,
          1,
          1,
          1,
          1,
          1,
          1,
          1,
          1,
          1,
          1,
          1,
          1,
          1,
          1,
          1,
          1,
          1,
          1,
          1,
          1,
          1,
          1,
          1,
          1,
          1,
          1,
          1,
          1,
          1,
          1,
          1,
          1,
          1,
          1,
          1,
          1,
          1,
          1,
          1,
          1,
          1,
          1,
          1,
          1,
          1,
          1,
          1,
          1,
          1,
          1,
          1,
          1,
          1,
          1,
          1,
          1,
          1,
          1,
          1,
          1,
          1,
          1,
          1,
          1,
          1,
          1,
          1,
          1,
          1,
          1,
          1,
          1,
          1,
          1,
          1,
          1,
          1,
          1,
          1,
          1,
          1,
          1,
          1,
          1,
          1,
          1,
          1,
          1,
          1,
          1,
          1,
          1,
          1,
          1,
          1,
          1,
          1,
          1,
          1,
          1,
          1,
          1,
          1,
          1,
          1,
          1,
          1,
          1,
          1,
          1,
          1,
          1,
          1,
          1,
          1,
          1,
          1,
          1,
          1,
          1,
          1,
          1,
          1,
          1,
          1,
          1,
          1,
          1,
          1,
          1,
          1,
          1,
          1,
          1,
          1,
          1,
          1,
          1,
          1,
          1,
          1,
          1,
          1,
          1,
          1,
          1,
          1,
          1,
          1,
          1,
          1,
          1,
          1,
          1,
          1,
          1,
          1,
          1,
          1,
          1,
          1,
          1,
          1,
          1,
          1,
          1,
          1,
          1,
          1,
          1,
          1,
          1,
          1,
          1,
          1,
          1,
          1,
          1,
          1,
          1,
          1,
          1,
          1,
          1,
          1,
          1,
          1,
          1,
          1,
          1,
          1
         ]
        }
       ],
       "layout": {
        "legend": {
         "title": {
          "text": "CS label"
         }
        },
        "template": {
         "data": {
          "bar": [
           {
            "error_x": {
             "color": "#2a3f5f"
            },
            "error_y": {
             "color": "#2a3f5f"
            },
            "marker": {
             "line": {
              "color": "#E5ECF6",
              "width": 0.5
             },
             "pattern": {
              "fillmode": "overlay",
              "size": 10,
              "solidity": 0.2
             }
            },
            "type": "bar"
           }
          ],
          "barpolar": [
           {
            "marker": {
             "line": {
              "color": "#E5ECF6",
              "width": 0.5
             },
             "pattern": {
              "fillmode": "overlay",
              "size": 10,
              "solidity": 0.2
             }
            },
            "type": "barpolar"
           }
          ],
          "carpet": [
           {
            "aaxis": {
             "endlinecolor": "#2a3f5f",
             "gridcolor": "white",
             "linecolor": "white",
             "minorgridcolor": "white",
             "startlinecolor": "#2a3f5f"
            },
            "baxis": {
             "endlinecolor": "#2a3f5f",
             "gridcolor": "white",
             "linecolor": "white",
             "minorgridcolor": "white",
             "startlinecolor": "#2a3f5f"
            },
            "type": "carpet"
           }
          ],
          "choropleth": [
           {
            "colorbar": {
             "outlinewidth": 0,
             "ticks": ""
            },
            "type": "choropleth"
           }
          ],
          "contour": [
           {
            "colorbar": {
             "outlinewidth": 0,
             "ticks": ""
            },
            "colorscale": [
             [
              0,
              "#0d0887"
             ],
             [
              0.1111111111111111,
              "#46039f"
             ],
             [
              0.2222222222222222,
              "#7201a8"
             ],
             [
              0.3333333333333333,
              "#9c179e"
             ],
             [
              0.4444444444444444,
              "#bd3786"
             ],
             [
              0.5555555555555556,
              "#d8576b"
             ],
             [
              0.6666666666666666,
              "#ed7953"
             ],
             [
              0.7777777777777778,
              "#fb9f3a"
             ],
             [
              0.8888888888888888,
              "#fdca26"
             ],
             [
              1,
              "#f0f921"
             ]
            ],
            "type": "contour"
           }
          ],
          "contourcarpet": [
           {
            "colorbar": {
             "outlinewidth": 0,
             "ticks": ""
            },
            "type": "contourcarpet"
           }
          ],
          "heatmap": [
           {
            "colorbar": {
             "outlinewidth": 0,
             "ticks": ""
            },
            "colorscale": [
             [
              0,
              "#0d0887"
             ],
             [
              0.1111111111111111,
              "#46039f"
             ],
             [
              0.2222222222222222,
              "#7201a8"
             ],
             [
              0.3333333333333333,
              "#9c179e"
             ],
             [
              0.4444444444444444,
              "#bd3786"
             ],
             [
              0.5555555555555556,
              "#d8576b"
             ],
             [
              0.6666666666666666,
              "#ed7953"
             ],
             [
              0.7777777777777778,
              "#fb9f3a"
             ],
             [
              0.8888888888888888,
              "#fdca26"
             ],
             [
              1,
              "#f0f921"
             ]
            ],
            "type": "heatmap"
           }
          ],
          "heatmapgl": [
           {
            "colorbar": {
             "outlinewidth": 0,
             "ticks": ""
            },
            "colorscale": [
             [
              0,
              "#0d0887"
             ],
             [
              0.1111111111111111,
              "#46039f"
             ],
             [
              0.2222222222222222,
              "#7201a8"
             ],
             [
              0.3333333333333333,
              "#9c179e"
             ],
             [
              0.4444444444444444,
              "#bd3786"
             ],
             [
              0.5555555555555556,
              "#d8576b"
             ],
             [
              0.6666666666666666,
              "#ed7953"
             ],
             [
              0.7777777777777778,
              "#fb9f3a"
             ],
             [
              0.8888888888888888,
              "#fdca26"
             ],
             [
              1,
              "#f0f921"
             ]
            ],
            "type": "heatmapgl"
           }
          ],
          "histogram": [
           {
            "marker": {
             "pattern": {
              "fillmode": "overlay",
              "size": 10,
              "solidity": 0.2
             }
            },
            "type": "histogram"
           }
          ],
          "histogram2d": [
           {
            "colorbar": {
             "outlinewidth": 0,
             "ticks": ""
            },
            "colorscale": [
             [
              0,
              "#0d0887"
             ],
             [
              0.1111111111111111,
              "#46039f"
             ],
             [
              0.2222222222222222,
              "#7201a8"
             ],
             [
              0.3333333333333333,
              "#9c179e"
             ],
             [
              0.4444444444444444,
              "#bd3786"
             ],
             [
              0.5555555555555556,
              "#d8576b"
             ],
             [
              0.6666666666666666,
              "#ed7953"
             ],
             [
              0.7777777777777778,
              "#fb9f3a"
             ],
             [
              0.8888888888888888,
              "#fdca26"
             ],
             [
              1,
              "#f0f921"
             ]
            ],
            "type": "histogram2d"
           }
          ],
          "histogram2dcontour": [
           {
            "colorbar": {
             "outlinewidth": 0,
             "ticks": ""
            },
            "colorscale": [
             [
              0,
              "#0d0887"
             ],
             [
              0.1111111111111111,
              "#46039f"
             ],
             [
              0.2222222222222222,
              "#7201a8"
             ],
             [
              0.3333333333333333,
              "#9c179e"
             ],
             [
              0.4444444444444444,
              "#bd3786"
             ],
             [
              0.5555555555555556,
              "#d8576b"
             ],
             [
              0.6666666666666666,
              "#ed7953"
             ],
             [
              0.7777777777777778,
              "#fb9f3a"
             ],
             [
              0.8888888888888888,
              "#fdca26"
             ],
             [
              1,
              "#f0f921"
             ]
            ],
            "type": "histogram2dcontour"
           }
          ],
          "mesh3d": [
           {
            "colorbar": {
             "outlinewidth": 0,
             "ticks": ""
            },
            "type": "mesh3d"
           }
          ],
          "parcoords": [
           {
            "line": {
             "colorbar": {
              "outlinewidth": 0,
              "ticks": ""
             }
            },
            "type": "parcoords"
           }
          ],
          "pie": [
           {
            "automargin": true,
            "type": "pie"
           }
          ],
          "scatter": [
           {
            "fillpattern": {
             "fillmode": "overlay",
             "size": 10,
             "solidity": 0.2
            },
            "type": "scatter"
           }
          ],
          "scatter3d": [
           {
            "line": {
             "colorbar": {
              "outlinewidth": 0,
              "ticks": ""
             }
            },
            "marker": {
             "colorbar": {
              "outlinewidth": 0,
              "ticks": ""
             }
            },
            "type": "scatter3d"
           }
          ],
          "scattercarpet": [
           {
            "marker": {
             "colorbar": {
              "outlinewidth": 0,
              "ticks": ""
             }
            },
            "type": "scattercarpet"
           }
          ],
          "scattergeo": [
           {
            "marker": {
             "colorbar": {
              "outlinewidth": 0,
              "ticks": ""
             }
            },
            "type": "scattergeo"
           }
          ],
          "scattergl": [
           {
            "marker": {
             "colorbar": {
              "outlinewidth": 0,
              "ticks": ""
             }
            },
            "type": "scattergl"
           }
          ],
          "scattermapbox": [
           {
            "marker": {
             "colorbar": {
              "outlinewidth": 0,
              "ticks": ""
             }
            },
            "type": "scattermapbox"
           }
          ],
          "scatterpolar": [
           {
            "marker": {
             "colorbar": {
              "outlinewidth": 0,
              "ticks": ""
             }
            },
            "type": "scatterpolar"
           }
          ],
          "scatterpolargl": [
           {
            "marker": {
             "colorbar": {
              "outlinewidth": 0,
              "ticks": ""
             }
            },
            "type": "scatterpolargl"
           }
          ],
          "scatterternary": [
           {
            "marker": {
             "colorbar": {
              "outlinewidth": 0,
              "ticks": ""
             }
            },
            "type": "scatterternary"
           }
          ],
          "surface": [
           {
            "colorbar": {
             "outlinewidth": 0,
             "ticks": ""
            },
            "colorscale": [
             [
              0,
              "#0d0887"
             ],
             [
              0.1111111111111111,
              "#46039f"
             ],
             [
              0.2222222222222222,
              "#7201a8"
             ],
             [
              0.3333333333333333,
              "#9c179e"
             ],
             [
              0.4444444444444444,
              "#bd3786"
             ],
             [
              0.5555555555555556,
              "#d8576b"
             ],
             [
              0.6666666666666666,
              "#ed7953"
             ],
             [
              0.7777777777777778,
              "#fb9f3a"
             ],
             [
              0.8888888888888888,
              "#fdca26"
             ],
             [
              1,
              "#f0f921"
             ]
            ],
            "type": "surface"
           }
          ],
          "table": [
           {
            "cells": {
             "fill": {
              "color": "#EBF0F8"
             },
             "line": {
              "color": "white"
             }
            },
            "header": {
             "fill": {
              "color": "#C8D4E3"
             },
             "line": {
              "color": "white"
             }
            },
            "type": "table"
           }
          ]
         },
         "layout": {
          "annotationdefaults": {
           "arrowcolor": "#2a3f5f",
           "arrowhead": 0,
           "arrowwidth": 1
          },
          "autotypenumbers": "strict",
          "coloraxis": {
           "colorbar": {
            "outlinewidth": 0,
            "ticks": ""
           }
          },
          "colorscale": {
           "diverging": [
            [
             0,
             "#8e0152"
            ],
            [
             0.1,
             "#c51b7d"
            ],
            [
             0.2,
             "#de77ae"
            ],
            [
             0.3,
             "#f1b6da"
            ],
            [
             0.4,
             "#fde0ef"
            ],
            [
             0.5,
             "#f7f7f7"
            ],
            [
             0.6,
             "#e6f5d0"
            ],
            [
             0.7,
             "#b8e186"
            ],
            [
             0.8,
             "#7fbc41"
            ],
            [
             0.9,
             "#4d9221"
            ],
            [
             1,
             "#276419"
            ]
           ],
           "sequential": [
            [
             0,
             "#0d0887"
            ],
            [
             0.1111111111111111,
             "#46039f"
            ],
            [
             0.2222222222222222,
             "#7201a8"
            ],
            [
             0.3333333333333333,
             "#9c179e"
            ],
            [
             0.4444444444444444,
             "#bd3786"
            ],
            [
             0.5555555555555556,
             "#d8576b"
            ],
            [
             0.6666666666666666,
             "#ed7953"
            ],
            [
             0.7777777777777778,
             "#fb9f3a"
            ],
            [
             0.8888888888888888,
             "#fdca26"
            ],
            [
             1,
             "#f0f921"
            ]
           ],
           "sequentialminus": [
            [
             0,
             "#0d0887"
            ],
            [
             0.1111111111111111,
             "#46039f"
            ],
            [
             0.2222222222222222,
             "#7201a8"
            ],
            [
             0.3333333333333333,
             "#9c179e"
            ],
            [
             0.4444444444444444,
             "#bd3786"
            ],
            [
             0.5555555555555556,
             "#d8576b"
            ],
            [
             0.6666666666666666,
             "#ed7953"
            ],
            [
             0.7777777777777778,
             "#fb9f3a"
            ],
            [
             0.8888888888888888,
             "#fdca26"
            ],
            [
             1,
             "#f0f921"
            ]
           ]
          },
          "colorway": [
           "#636efa",
           "#EF553B",
           "#00cc96",
           "#ab63fa",
           "#FFA15A",
           "#19d3f3",
           "#FF6692",
           "#B6E880",
           "#FF97FF",
           "#FECB52"
          ],
          "font": {
           "color": "#2a3f5f"
          },
          "geo": {
           "bgcolor": "white",
           "lakecolor": "white",
           "landcolor": "#E5ECF6",
           "showlakes": true,
           "showland": true,
           "subunitcolor": "white"
          },
          "hoverlabel": {
           "align": "left"
          },
          "hovermode": "closest",
          "mapbox": {
           "style": "light"
          },
          "paper_bgcolor": "white",
          "plot_bgcolor": "#E5ECF6",
          "polar": {
           "angularaxis": {
            "gridcolor": "white",
            "linecolor": "white",
            "ticks": ""
           },
           "bgcolor": "#E5ECF6",
           "radialaxis": {
            "gridcolor": "white",
            "linecolor": "white",
            "ticks": ""
           }
          },
          "scene": {
           "xaxis": {
            "backgroundcolor": "#E5ECF6",
            "gridcolor": "white",
            "gridwidth": 2,
            "linecolor": "white",
            "showbackground": true,
            "ticks": "",
            "zerolinecolor": "white"
           },
           "yaxis": {
            "backgroundcolor": "#E5ECF6",
            "gridcolor": "white",
            "gridwidth": 2,
            "linecolor": "white",
            "showbackground": true,
            "ticks": "",
            "zerolinecolor": "white"
           },
           "zaxis": {
            "backgroundcolor": "#E5ECF6",
            "gridcolor": "white",
            "gridwidth": 2,
            "linecolor": "white",
            "showbackground": true,
            "ticks": "",
            "zerolinecolor": "white"
           }
          },
          "shapedefaults": {
           "line": {
            "color": "#2a3f5f"
           }
          },
          "ternary": {
           "aaxis": {
            "gridcolor": "white",
            "linecolor": "white",
            "ticks": ""
           },
           "baxis": {
            "gridcolor": "white",
            "linecolor": "white",
            "ticks": ""
           },
           "bgcolor": "#E5ECF6",
           "caxis": {
            "gridcolor": "white",
            "linecolor": "white",
            "ticks": ""
           }
          },
          "title": {
           "x": 0.05
          },
          "xaxis": {
           "automargin": true,
           "gridcolor": "white",
           "linecolor": "white",
           "ticks": "",
           "title": {
            "standoff": 15
           },
           "zerolinecolor": "white",
           "zerolinewidth": 2
          },
          "yaxis": {
           "automargin": true,
           "gridcolor": "white",
           "linecolor": "white",
           "ticks": "",
           "title": {
            "standoff": 15
           },
           "zerolinecolor": "white",
           "zerolinewidth": 2
          }
         }
        },
        "title": {
         "text": "cognatehood_0"
        },
        "xaxis": {
         "title": {
          "text": "cognatehood_0 score"
         }
        },
        "yaxis": {
         "title": {
          "text": "count"
         }
        }
       }
      },
      "text/html": [
       "<div>                            <div id=\"ee864569-7fb2-410b-841a-e69aa3a97fb2\" class=\"plotly-graph-div\" style=\"height:525px; width:100%;\"></div>            <script type=\"text/javascript\">                require([\"plotly\"], function(Plotly) {                    window.PLOTLYENV=window.PLOTLYENV || {};                                    if (document.getElementById(\"ee864569-7fb2-410b-841a-e69aa3a97fb2\")) {                    Plotly.newPlot(                        \"ee864569-7fb2-410b-841a-e69aa3a97fb2\",                        [{\"mode\":\"markers\",\"name\":\"1\",\"opacity\":1,\"x\":[0.0,0.3304,0.4466,0.3362,0.4105,0.5447,0.54,0.3318,0.3726,0.3059,0.4551,0.2879,0.3152,0.3612,0.4219,0.4091,0.4,0.2886,0.473,0.4504,0.255,0.347,0.328,0.3236,0.5197,0.2907,0.3341,0.3584,0.4056,0.3866,0.2643,0.233,0.3899,0.2396,0.6145,0.2181,0.4065,0.3976,0.2998,0.4705,0.3395,0.4217,0.4126,0.3222,0.431,0.3642,0.5534,0.4712,0.3596,0.2975,0.3838,0.3311,0.4723,0.5316,0.374,0.3397,0.307,0.2771,0.3656,0.6997,0.2706,0.2295,0.474,0.2855,0.4396,0.3965,0.5902,0.6227,0.8482,0.629,0.4361,0.3115,0.2954,0.1725,0.3201,0.4077,0.2671,0.2197,0.4691,0.3505,0.3224,0.3663,0.2881,0.357,0.286,0.3264,0.222,0.579,0.2722,0.4803,0.5025,0.6113,0.4919,0.71,0.7252,0.7768,0.1609,0.3883,0.2162,0.3824,0.2171,0.8039,0.4002,0.4502,0.2858,0.5484,0.8506,0.2631,0.1268,0.3306,0.4212,0.7875,0.4245,0.4422,0.1751,0.4049,0.6211,0.4119,0.5839,0.512,0.4233,0.3969,0.4772,0.212,0.3453,0.3519,0.5144,0.3166,0.7703,0.4796,0.5085,0.2036,0.3911,0.2718,0.2926,0.728,0.2895,0.2837,0.4385,0.5391,0.4758,0.3336,0.2928,0.2431,0.5622,0.3549,0.4039,0.2813,0.7035,0.3266,0.4387,0.5335,0.449,0.7231,0.6159,0.3061,0.3647,0.3035,0.4147,0.6801,0.3607,0.3117,0.2608,0.7427,0.7686,0.5389,0.3327,0.427,0.5968,0.7889,0.4726,0.3124,0.2452,0.2204,0.5991,0.4534,0.7373,0.2293,0.8781,0.5097,0.4882,0.5309,0.2115,0.6283,0.6085,0.2979,0.4968,0.279,0.6416,0.414,0.7037,0.8693,0.3215,0.5646,0.7752,0.4658,0.6547,0.5113,0.5123,0.4228,0.5487,0.5512,0.4058,0.3796,0.6512,0.2692,0.7675,0.8426,0.8071,0.4203,0.4499,0.3782,0.2989,0.6647,0.3449,0.7509,0.6755,0.3,0.2578,0.2489,0.2662,0.6673,0.8697,0.2697,0.4889,0.5377,0.2713,0.4532,0.5837,0.5657,0.4971,0.8933,0.2991,0.8784,0.3283,0.6141,0.5312,0.6813,0.7548,0.3617,0.2575,0.5118,0.5328,0.7721,0.5713,0.5067,0.3526,0.4471,0.173,0.2839,0.619,0.3346,0.304,0.3941,0.8648,0.5155,0.3348,0.83,0.2832,0.3378,0.1756,0.732,0.4602,0.8816,0.3568,0.4151,0.5951,0.2339,0.3747,0.2715,0.2844,0.6215,0.8492,0.5347,0.4558,0.5482,0.3869,0.4247,0.686,0.5106,0.4366,0.8798,0.5517,0.399,0.7511,0.6099,0.4028,0.318,0.2508,0.4826,0.3444,0.6442,0.4637,0.7296,0.4289,0.4856,0.3528,0.5461,0.2153,0.3759,0.3934,0.8076,0.4256,0.4749,0.3724,0.4114,0.6923,0.2519,0.7114,0.3322,0.4639,0.685,0.4931,0.586,0.8473,0.5825,0.3572,0.7215,0.513,0.2232,0.6636,0.7107,0.2447,0.452,0.3582,0.4156,0.2351,0.3808,0.8947,0.615,0.2942,0.5954,0.3463,0.4352,0.6334,0.8531,0.7572,0.4086,0.5979,0.4567,0.4235,0.5505,0.5438,0.6668,0.5541,0.3733,0.5828,0.5064,0.3119,0.2003,0.5214,0.6981,0.3979,0.6591,0.4791,0.2174,0.2564,0.4527,0.2227,0.4763,0.6969,0.3465,0.5923,0.3682,0.7387,0.5702,0.5781,0.6124,0.8106,0.8034,0.7803,0.3997,0.8585,0.421,0.4403,0.4546,0.5202,0.5863,0.4312,0.4548,0.3579,0.2645,0.7338,0.3161,0.4698,0.3901,0.4051,0.5081,0.6951,0.7614,0.544,0.241,0.258,0.3827,0.6507,0.371,0.3474,0.2386,0.9057,0.7537,0.5179,0.3329,0.343,0.2762,0.7754,0.3199,0.3255,0.4847,0.2648,0.7067,0.696,0.9498,0.2013,0.6187,0.3731,0.2636,0.3794,0.2239,0.3589,0.3234,0.4677],\"y\":[2794,92,51,43,41,41,40,34,29,24,22,20,20,19,19,18,18,17,16,14,13,13,12,12,11,10,10,9,9,9,8,8,8,8,8,8,8,7,7,6,6,6,6,6,6,5,5,5,5,5,5,5,5,4,4,4,4,4,4,4,4,4,4,4,4,4,4,4,3,3,3,3,3,3,3,3,3,3,3,3,3,3,3,3,3,3,3,3,3,2,2,2,2,2,2,2,2,2,2,2,2,2,2,2,2,2,2,2,2,2,2,2,2,2,2,2,2,2,2,2,2,2,2,2,2,2,2,2,2,2,2,2,2,2,2,2,2,2,2,2,2,2,2,2,2,2,2,2,2,2,2,2,2,2,2,2,2,2,2,2,2,2,2,2,2,2,2,1,1,1,1,1,1,1,1,1,1,1,1,1,1,1,1,1,1,1,1,1,1,1,1,1,1,1,1,1,1,1,1,1,1,1,1,1,1,1,1,1,1,1,1,1,1,1,1,1,1,1,1,1,1,1,1,1,1,1,1,1,1,1,1,1,1,1,1,1,1,1,1,1,1,1,1,1,1,1,1,1,1,1,1,1,1,1,1,1,1,1,1,1,1,1,1,1,1,1,1,1,1,1,1,1,1,1,1,1,1,1,1,1,1,1,1,1,1,1,1,1,1,1,1,1,1,1,1,1,1,1,1,1,1,1,1,1,1,1,1,1,1,1,1,1,1,1,1,1,1,1,1,1,1,1,1,1,1,1,1,1,1,1,1,1,1,1,1,1,1,1,1,1,1,1,1,1,1,1,1,1,1,1,1,1,1,1,1,1,1,1,1,1,1,1,1,1,1,1,1,1,1,1,1,1,1,1,1,1,1,1,1,1,1,1,1,1,1,1,1,1,1,1,1,1,1,1,1,1,1,1,1,1,1,1,1,1,1,1,1,1,1,1,1,1,1,1,1,1,1,1,1,1,1],\"type\":\"scatter\"},{\"mode\":\"markers\",\"name\":\"0\",\"opacity\":0.5,\"x\":[0.0,0.3304,0.3318,0.4105,0.3059,0.54,0.4466,0.3362,0.4219,0.5447,0.4504,0.3726,0.3612,0.255,0.4056,0.2879,0.4,0.3152,0.473,0.4551,0.4091,0.3584,0.2907,0.2886,0.3976,0.3236,0.328,0.3899,0.2643,0.5197,0.347,0.3341,0.233,0.2706,0.3201,0.3395,0.3866,0.3965,0.4772,0.6145,0.2813,0.3117,0.3222,0.307,0.2928,0.4712,0.4396,0.4028,0.2671,0.4723,0.4126,0.4705,0.5316,0.2564,0.5389,0.2295,0.3596,0.4791,0.3656,0.5534,0.2396,0.4065,0.431,0.4691,0.3747,0.2998,0.2181,0.512,0.2975,0.3663,0.2608,0.449,0.6227,0.3224,0.2722,0.3642,0.4039,0.2771,0.4046,0.3322,0.6528,0.222,0.474,0.3549,0.2351,0.3327,0.8482,0.8531,0.3838,0.6647,0.5713,0.374,0.3619,0.2697,0.3035,0.3444,0.5484,0.3311,0.5391,0.2631,0.3397,0.4228,0.3505,0.1725,0.3325,0.3329,0.212,0.357,0.2431,0.3306,0.3453,0.7768,0.2204,0.8076,0.315,0.4527,0.2855,0.4803,0.4434,0.5718,0.5025,0.4646,0.5867,0.3449,0.7875,0.3568,0.544,0.4919,0.3687,0.8191,0.2575,0.4361,0.399,0.7794,0.2171,0.4212,0.6619,0.4147,0.586,0.2832,0.7231,0.286,0.7336,0.3266,0.4796,0.2881,0.3336,0.4119,0.4282,0.4077,0.2174,0.3731,0.4698,0.3161,0.3724,0.562,0.304,0.7152,0.3682,0.5902,0.3759,0.2239,0.4053,0.3313,0.3514,0.3997,0.5067,0.5863,0.6591,0.5279,0.4168,0.5335,0.3103,0.3498,0.6353,0.5839,0.1445,0.6507,0.4541,0.3301,0.3901,0.427,0.7299,0.2942,0.5541,0.4471,0.2895,0.4502,0.7579,0.3526,0.3733,0.6253,0.5466,0.5144,0.6997,0.3054,0.3887,0.5494,0.5048,0.5309,0.4639,0.3796,0.1609,0.4537,0.2036,0.665,0.6124,0.7338,0.5517,0.3075,0.4726,0.6099,0.6085,0.2655,0.6159,0.4366,0.4499,0.6888,0.4534,0.2715,0.5085,0.5433,0.8226,0.4845,0.4373,0.4628,0.5363,0.5986,0.502,0.579,0.5179,0.241,0.3738,0.6624,0.4422,0.4831,0.8506,0.7257,0.3133,0.7145,0.8697,0.2536,0.6827,0.4387,0.5884,0.5232,0.3227,0.4037,0.728,0.4838,0.5825,0.3969,0.6059,0.3348,0.2954,0.6416,0.3061,0.6498,0.6556,0.2629,0.5414,0.5445,0.619,0.4994,0.3115,0.4987,0.3801,0.7703,0.3472,0.3456,0.629,0.3633,0.5739,0.5202,0.2713,0.5657,0.1268,0.7046,0.3523,0.2991,0.8816,0.5793,0.6141,0.4455,0.2384,0.5573,0.41,0.3778,0.7189,0.6451,0.6673,0.3579,0.5482,0.6895,0.6362,0.3808,0.4936,0.5286,0.2844,0.742,0.622,0.3943,0.2965,0.6717,0.3631,0.5548,0.3512,0.452,0.3598,0.4763,0.8039,0.3773,0.513,0.453,0.615,0.3131,0.5968,0.4256,0.3346,0.7121,0.6862,0.4263,0.3794,0.611,0.6215,0.4807,0.5274,0.4156,0.4058,0.2153,0.3638,0.2197,0.6792,0.4095,0.3378,0.5351,0.3147,0.6255,0.3824,0.3143,0.2909,0.4728,0.8473,0.7574,0.5006,0.3869,0.4782,0.5417,0.4873,0.7551,0.9757,0.2893,0.3703,0.3439,0.5384,0.2979,0.5487,0.6523,0.3519,0.2246,0.6101,0.5667,0.3486,0.2508,0.3166,0.7457,0.8116,0.1756,0.6804,0.3418,0.4032,0.3495,0.4007,0.4567,0.5412,0.6453,0.4436,0.3771,0.7691,0.3883,0.3287,0.3122,0.7509,0.4894,0.5242,0.4259,0.3754,0.279,0.3343,0.9092,0.5914,0.8106,0.4406,0.6187,0.3241,0.3164,0.4882,0.9148,0.5702,0.2452,0.3607,0.7964,0.7654,0.3586,0.844,0.5942,0.3827,0.3187,0.2935,0.2202,0.5788,0.2825,0.5837,0.3582,0.6341,0.2363,0.5251,0.4245,0.5804,0.6547,0.5377,0.7212,0.3953,0.6521,0.3729,0.6028,0.6271,0.6283,0.1826,0.6213,0.4193,0.6031,0.5438,0.7296,0.573,0.509,0.2519,0.2459,0.7,0.4462,0.3785,0.7488,0.3715,0.749,0.2848,0.4088,0.6636,0.2447,0.6603,0.7427,0.2694,0.643,0.3154,0.7682,0.583,0.5172,0.4635,0.9103,0.6951,0.7028,0.4347,0.2162,0.2725,0.5758,0.2489,0.2762,0.2057,0.7562,0.6969,0.5909,0.3157,0.8613,0.3782,0.2013,0.3463,0.4303,0.3392,0.5954,0.8693,0.8849,0.2501,0.477,0.5865,0.3876,0.8933,0.3915,0.4086,0.4023,0.8536,0.2785,0.4312,0.653,0.6813,0.8228,0.5958,0.2473,0.6334,0.752,0.4656,0.4301,0.4506,0.3259,0.6211,0.5295,0.5671,0.3572,0.4681,0.4546,0.6264,0.4266,0.4492,0.8781,0.8576,0.3745,0.4737,0.3294,0.4233,0.5118,0.456,0.6367,0.1819,0.6825,0.5305,0.5629,0.9106,0.336,0.8424,0.4445,0.6262,0.414,0.7194,0.4249,0.2956,0.679,0.3175,0.7822,0.3435,0.8352,0.4677,0.3948,0.4079,0.4819,0.6799,0.7712,0.4663,0.7829,0.7693,0.4642,0.6204,0.5611,0.8872,0.6706,0.3577,0.2718,0.4856,0.6446,0.647,0.5858,0.4098,0.3624,0.7826,0.714,0.7999,0.6995,0.7243,0.8966,0.3402,0.9057,0.4051,0.403,0.2795,0.3556,0.4385,0.838,0.6953,0.7945,0.5587,0.1751,0.9498,0.947,0.7625,0.5676,0.1375,0.4968,0.346,0.435,0.59,0.625,0.777,0.389,0.2781,0.3911,0.7915,0.294,0.5421,0.3565,0.5029,0.5032,0.8064,0.6397,0.6605,0.6678,0.2083,0.5991,0.258,0.7453,0.1714,0.8552,0.3299,0.4889,0.9477,0.4609,0.6005,0.7359,0.7959,0.4217,0.3939,0.6355,0.5258,0.2622,0.2428,0.5064,0.5816,0.7245,0.5578,0.732,0.6829,0.5515,0.6526,0.2837,0.7588,0.6584,0.7252,0.2379,0.325,0.4532,0.3491,0.8618,0.4929,0.5382,0.6806,0.7303,0.3199,0.2659,0.6986,0.8905,0.2115,0.2164,0.6983,0.6514,0.6512,0.682,0.321,0.4049,0.5461,0.4884,0.5923,0.8959,0.3981,0.1996,0.5618,0.5062,0.5508,0.3528,0.3196,0.4903,0.3185,0.6082,0.3502,0.6292,0.5214,0.2657,0.5237,0.6318,0.2414,0.3927,0.3124,0.3666,0.7278,0.3983,0.5347,0.4135,0.7864,0.5748,0.6967,0.3038,0.1989,0.2183,0.4758,0.7208,0.353,0.626,0.7411,0.4658,0.8798,0.4565,0.5265,0.6801,0.3936,0.6563,0.6138,0.3255,0.4971,0.8492,0.7616,0.6638,0.3621,0.4875,0.8317,0.4247,0.3409,0.6797,0.3834,0.4579,0.3126,0.4457,0.6687,0.2297,0.3743,0.8258,0.612,0.4604,0.4954,0.3946,0.282,0.2356,0.4793,0.2949,0.2652,0.7583,0.7002,0.9479,0.1924,0.5874,0.6794,0.8657,0.3806,0.2603,0.5386,0.5113,0.4485,0.5772,0.4158,0.6654,0.4002,0.1884,0.7546,0.3089,0.4427,0.8361,0.1852,0.6432,0.1805,0.301,0.6038,0.3425,0.4842,0.4196,0.8111,0.498,0.7184,0.9185,0.8585,0.7282,0.5846,0.2071,0.6162,0.481,0.8256,0.36,0.4623,0.6535,0.2454,0.6778,0.5751,0.4021,0.8664,0.3696,0.6743,0.2094,0.6369,0.2986,0.3617,0.3376,0.3374,0.2748,0.3283,0.707,0.5111,0.6909,0.4014,0.4607,0.4922,0.5167,0.5977,0.2869,0.417,0.7525,0.3371,0.46,0.2755,0.6675,0.3364,0.434,0.4602,0.6892,0.2834,0.6808,0.466,0.5468,0.4284,0.3813,0.8648,0.3684,0.8844,0.6537,0.2811,0.608,0.2517,0.2916,0.1261,0.6839,0.6671,0.7651,0.5312,0.3446,0.5153,0.3764,0.3705,0.4165,0.6594,0.208,0.7233,0.5368,0.3,0.6713,0.5225,0.6299,0.438,0.3428,0.5538,0.4569,0.9129,0.2905,0.2839,0.5592,0.3689,0.4733,0.487,0.4959,0.4067,0.6701,0.4511,0.3357,0.3516,0.3049,0.8767,0.5477,0.4319,0.329,0.8377,0.8202,0.6449,0.6769,0.9297,0.6047,0.318,0.4368,0.5148,0.2127,0.5095,0.699,0.7485,0.5246,0.6021,0.6832,0.4779,0.4719,0.6407,0.6668,0.2883,0.8013,0.7254,0.6313,0.8924,0.9157,0.5244,0.7364,0.7464,0.4184,0.4254,0.7044,0.8097,0.9279,0.1837,0.2802,0.9031,0.8004,0.3119,0.7373,0.2398,0.6171,0.7114,0.636,0.5615,0.42,0.2704,0.6633,0.5239,0.2232,0.8975,0.4343,0.2753,0.2926,0.865,0.8426,0.4224,0.8704,0.236,0.4595,0.368,0.979,0.5127,0.7808,0.3941,0.618,0.4483,0.6274,0.5146,0.5288,0.3308,0.215,0.2339,0.4289,0.2426,0.4985,0.2403,0.526,0.5648,0.558,0.6332,0.6302,0.4931,0.8331,0.3451,0.5779,0.407,0.3892,0.3091,0.7217,0.8823,0.7215,0.332,0.9407,0.1366,0.3535,0.5594,0.3972,0.4308,0.2669,0.6918,0.442,0.8046,0.3507,0.3437,0.6897,0.8994,0.2673,0.2984,0.3243,0.2449,0.5583,0.1644,0.6643,0.226,0.4478,0.2435,0.4287,0.382,0.7222,0.1856,0.4525,0.6612,0.3416,0.3544,0.858,0.293,0.354,0.8749,0.4401,0.3542,0.4238,0.7506,0.897,0.7177,0.6554,0.3297,0.2573,0.5356,0.3234,0.2209,0.3918,0.8562,0.7191,0.3488,0.3736,0.4252,0.7644,0.1802,0.6113,0.4632,0.6229,0.5505,0.6267,0.7032,0.8891,0.8464,0.8683,0.6348,0.248,0.4338,0.3864,0.8896,0.3334,0.7371,0.6869,0.5823,0.3768,0.6103,0.8431,0.745,0.7614,0.4721,0.5807,0.5786,0.6201,0.2578,0.6934,0.2858,0.7787,0.8282,0.2912,0.6288,0.71,0.4207,0.2227,0.9101,0.3383,0.788,0.4382,0.7159,0.7091,0.4011,0.6374,0.314,0.5571,0.2213,0.3385,0.5706,0.4653,0.8419,0.6409,0.322,0.459,0.3098,0.3033,0.5842,0.4336,0.4555,0.7686,0.6682,0.4488,0.3822,0.3369,0.127,0.6876,0.7205,0.3967,0.883,0.2571,0.29,0.6939,0.5139,0.4429,0.4448,0.7387,0.7581,0.4982,0.7271,0.7803,0.2627,0.8071,0.8879,0.4399,0.4933,0.7833,0.7663,0.5737,0.3399,0.692,0.778,0.7067,0.5473,0.696,0.3213,0.0864,0.6306,0.805,0.4322,0.2251,0.739,0.3815,0.3647,0.6143,0.6727,0.6194,0.7532,0.5933,0.2582,0.7483,0.7035,0.685,0.4901,0.2599,0.406,0.3215,0.5669,0.8788,0.4812,0.4852,0.9054,0.7647,0.837,0.6696,0.4614,0.4784,0.7397,0.5613,0.572,0.3589,0.6871,0.5774,0.6425,0.7107,0.1781,0.7775,0.7929,0.5496,0.7037,0.5158,0.3096,0.3432,0.6423,0.7838,0.4273,0.6916,0.8001,0.9071],\"y\":[14135,707,301,275,265,252,232,231,216,200,196,180,156,135,130,118,115,112,109,106,102,97,94,82,79,77,71,69,68,68,67,66,63,56,49,48,47,47,47,44,39,39,38,38,36,35,35,34,33,31,30,30,29,29,29,29,28,28,28,28,28,27,26,25,25,25,25,25,24,23,22,22,21,21,20,20,20,19,19,19,18,18,18,17,17,17,17,17,17,17,16,16,16,15,15,15,15,15,15,15,14,14,14,14,14,14,13,13,13,13,13,12,12,12,12,12,12,12,12,12,11,11,11,11,11,11,11,11,11,11,11,11,10,10,10,10,10,10,10,10,10,10,10,10,10,10,10,10,10,9,9,9,9,9,9,9,9,9,9,9,9,8,8,8,8,8,8,8,8,8,8,8,8,8,8,7,7,7,7,7,7,7,7,7,7,7,7,7,7,7,7,7,7,7,7,7,7,7,6,6,6,6,6,6,6,6,6,6,6,6,6,6,6,6,6,6,6,6,6,6,6,6,6,6,6,6,6,6,6,6,6,5,5,5,5,5,5,5,5,5,5,5,5,5,5,5,5,5,5,5,5,5,5,5,5,5,5,5,5,5,5,5,5,5,5,5,5,5,5,5,5,5,5,5,5,5,4,4,4,4,4,4,4,4,4,4,4,4,4,4,4,4,4,4,4,4,4,4,4,4,4,4,4,4,4,4,4,4,4,4,4,4,4,4,4,4,4,4,4,4,4,4,4,4,4,4,4,4,4,4,4,4,4,4,4,4,4,4,4,4,4,4,4,4,4,4,4,3,3,3,3,3,3,3,3,3,3,3,3,3,3,3,3,3,3,3,3,3,3,3,3,3,3,3,3,3,3,3,3,3,3,3,3,3,3,3,3,3,3,3,3,3,3,3,3,3,3,3,3,3,3,3,3,3,3,3,3,3,3,3,3,3,3,3,3,3,3,3,3,3,3,3,3,3,3,3,3,3,3,3,3,3,3,3,3,3,3,3,3,3,3,3,3,3,3,3,3,3,3,3,3,3,3,3,3,3,3,3,3,3,3,3,3,3,3,3,3,3,3,3,3,3,3,3,3,3,3,3,3,3,3,2,2,2,2,2,2,2,2,2,2,2,2,2,2,2,2,2,2,2,2,2,2,2,2,2,2,2,2,2,2,2,2,2,2,2,2,2,2,2,2,2,2,2,2,2,2,2,2,2,2,2,2,2,2,2,2,2,2,2,2,2,2,2,2,2,2,2,2,2,2,2,2,2,2,2,2,2,2,2,2,2,2,2,2,2,2,2,2,2,2,2,2,2,2,2,2,2,2,2,2,2,2,2,2,2,2,2,2,2,2,2,2,2,2,2,2,2,2,2,2,2,2,2,2,2,2,2,2,2,2,2,2,2,2,2,2,2,2,2,2,2,2,2,2,2,2,2,2,2,2,2,2,2,2,2,2,2,2,2,2,2,2,2,2,2,2,2,2,2,2,2,2,2,2,2,2,2,2,2,2,2,2,2,2,2,2,2,2,2,2,2,2,2,2,2,2,2,2,2,2,2,2,2,2,2,2,2,2,2,2,2,2,2,2,2,2,2,2,2,2,2,2,2,2,2,2,2,2,2,2,2,2,2,2,1,1,1,1,1,1,1,1,1,1,1,1,1,1,1,1,1,1,1,1,1,1,1,1,1,1,1,1,1,1,1,1,1,1,1,1,1,1,1,1,1,1,1,1,1,1,1,1,1,1,1,1,1,1,1,1,1,1,1,1,1,1,1,1,1,1,1,1,1,1,1,1,1,1,1,1,1,1,1,1,1,1,1,1,1,1,1,1,1,1,1,1,1,1,1,1,1,1,1,1,1,1,1,1,1,1,1,1,1,1,1,1,1,1,1,1,1,1,1,1,1,1,1,1,1,1,1,1,1,1,1,1,1,1,1,1,1,1,1,1,1,1,1,1,1,1,1,1,1,1,1,1,1,1,1,1,1,1,1,1,1,1,1,1,1,1,1,1,1,1,1,1,1,1,1,1,1,1,1,1,1,1,1,1,1,1,1,1,1,1,1,1,1,1,1,1,1,1,1,1,1,1,1,1,1,1,1,1,1,1,1,1,1,1,1,1,1,1,1,1,1,1,1,1,1,1,1,1,1,1,1,1,1,1,1,1,1,1,1,1,1,1,1,1,1,1,1,1,1,1,1,1,1,1,1,1,1,1,1,1,1,1,1,1,1,1,1,1,1,1,1,1,1,1,1,1,1,1,1,1,1,1,1,1,1,1,1,1,1,1,1,1,1,1,1,1,1,1,1,1,1,1,1,1,1,1,1,1,1,1,1,1,1,1,1,1,1,1,1,1,1,1,1,1,1,1,1,1,1,1,1,1,1,1,1,1,1,1,1,1,1,1,1,1,1,1,1,1,1,1,1,1,1,1,1,1,1,1,1,1,1,1,1,1,1,1,1,1,1,1,1,1,1,1,1,1,1,1,1,1,1,1,1,1,1,1,1,1,1,1,1,1,1,1,1,1,1,1,1,1,1,1,1,1,1,1,1,1,1,1,1,1,1,1,1,1,1,1,1,1,1,1,1,1,1,1,1,1,1,1,1,1,1,1,1,1,1,1,1,1,1,1,1],\"type\":\"scatter\"}],                        {\"template\":{\"data\":{\"histogram2dcontour\":[{\"type\":\"histogram2dcontour\",\"colorbar\":{\"outlinewidth\":0,\"ticks\":\"\"},\"colorscale\":[[0.0,\"#0d0887\"],[0.1111111111111111,\"#46039f\"],[0.2222222222222222,\"#7201a8\"],[0.3333333333333333,\"#9c179e\"],[0.4444444444444444,\"#bd3786\"],[0.5555555555555556,\"#d8576b\"],[0.6666666666666666,\"#ed7953\"],[0.7777777777777778,\"#fb9f3a\"],[0.8888888888888888,\"#fdca26\"],[1.0,\"#f0f921\"]]}],\"choropleth\":[{\"type\":\"choropleth\",\"colorbar\":{\"outlinewidth\":0,\"ticks\":\"\"}}],\"histogram2d\":[{\"type\":\"histogram2d\",\"colorbar\":{\"outlinewidth\":0,\"ticks\":\"\"},\"colorscale\":[[0.0,\"#0d0887\"],[0.1111111111111111,\"#46039f\"],[0.2222222222222222,\"#7201a8\"],[0.3333333333333333,\"#9c179e\"],[0.4444444444444444,\"#bd3786\"],[0.5555555555555556,\"#d8576b\"],[0.6666666666666666,\"#ed7953\"],[0.7777777777777778,\"#fb9f3a\"],[0.8888888888888888,\"#fdca26\"],[1.0,\"#f0f921\"]]}],\"heatmap\":[{\"type\":\"heatmap\",\"colorbar\":{\"outlinewidth\":0,\"ticks\":\"\"},\"colorscale\":[[0.0,\"#0d0887\"],[0.1111111111111111,\"#46039f\"],[0.2222222222222222,\"#7201a8\"],[0.3333333333333333,\"#9c179e\"],[0.4444444444444444,\"#bd3786\"],[0.5555555555555556,\"#d8576b\"],[0.6666666666666666,\"#ed7953\"],[0.7777777777777778,\"#fb9f3a\"],[0.8888888888888888,\"#fdca26\"],[1.0,\"#f0f921\"]]}],\"heatmapgl\":[{\"type\":\"heatmapgl\",\"colorbar\":{\"outlinewidth\":0,\"ticks\":\"\"},\"colorscale\":[[0.0,\"#0d0887\"],[0.1111111111111111,\"#46039f\"],[0.2222222222222222,\"#7201a8\"],[0.3333333333333333,\"#9c179e\"],[0.4444444444444444,\"#bd3786\"],[0.5555555555555556,\"#d8576b\"],[0.6666666666666666,\"#ed7953\"],[0.7777777777777778,\"#fb9f3a\"],[0.8888888888888888,\"#fdca26\"],[1.0,\"#f0f921\"]]}],\"contourcarpet\":[{\"type\":\"contourcarpet\",\"colorbar\":{\"outlinewidth\":0,\"ticks\":\"\"}}],\"contour\":[{\"type\":\"contour\",\"colorbar\":{\"outlinewidth\":0,\"ticks\":\"\"},\"colorscale\":[[0.0,\"#0d0887\"],[0.1111111111111111,\"#46039f\"],[0.2222222222222222,\"#7201a8\"],[0.3333333333333333,\"#9c179e\"],[0.4444444444444444,\"#bd3786\"],[0.5555555555555556,\"#d8576b\"],[0.6666666666666666,\"#ed7953\"],[0.7777777777777778,\"#fb9f3a\"],[0.8888888888888888,\"#fdca26\"],[1.0,\"#f0f921\"]]}],\"surface\":[{\"type\":\"surface\",\"colorbar\":{\"outlinewidth\":0,\"ticks\":\"\"},\"colorscale\":[[0.0,\"#0d0887\"],[0.1111111111111111,\"#46039f\"],[0.2222222222222222,\"#7201a8\"],[0.3333333333333333,\"#9c179e\"],[0.4444444444444444,\"#bd3786\"],[0.5555555555555556,\"#d8576b\"],[0.6666666666666666,\"#ed7953\"],[0.7777777777777778,\"#fb9f3a\"],[0.8888888888888888,\"#fdca26\"],[1.0,\"#f0f921\"]]}],\"mesh3d\":[{\"type\":\"mesh3d\",\"colorbar\":{\"outlinewidth\":0,\"ticks\":\"\"}}],\"scatter\":[{\"fillpattern\":{\"fillmode\":\"overlay\",\"size\":10,\"solidity\":0.2},\"type\":\"scatter\"}],\"parcoords\":[{\"type\":\"parcoords\",\"line\":{\"colorbar\":{\"outlinewidth\":0,\"ticks\":\"\"}}}],\"scatterpolargl\":[{\"type\":\"scatterpolargl\",\"marker\":{\"colorbar\":{\"outlinewidth\":0,\"ticks\":\"\"}}}],\"bar\":[{\"error_x\":{\"color\":\"#2a3f5f\"},\"error_y\":{\"color\":\"#2a3f5f\"},\"marker\":{\"line\":{\"color\":\"#E5ECF6\",\"width\":0.5},\"pattern\":{\"fillmode\":\"overlay\",\"size\":10,\"solidity\":0.2}},\"type\":\"bar\"}],\"scattergeo\":[{\"type\":\"scattergeo\",\"marker\":{\"colorbar\":{\"outlinewidth\":0,\"ticks\":\"\"}}}],\"scatterpolar\":[{\"type\":\"scatterpolar\",\"marker\":{\"colorbar\":{\"outlinewidth\":0,\"ticks\":\"\"}}}],\"histogram\":[{\"marker\":{\"pattern\":{\"fillmode\":\"overlay\",\"size\":10,\"solidity\":0.2}},\"type\":\"histogram\"}],\"scattergl\":[{\"type\":\"scattergl\",\"marker\":{\"colorbar\":{\"outlinewidth\":0,\"ticks\":\"\"}}}],\"scatter3d\":[{\"type\":\"scatter3d\",\"line\":{\"colorbar\":{\"outlinewidth\":0,\"ticks\":\"\"}},\"marker\":{\"colorbar\":{\"outlinewidth\":0,\"ticks\":\"\"}}}],\"scattermapbox\":[{\"type\":\"scattermapbox\",\"marker\":{\"colorbar\":{\"outlinewidth\":0,\"ticks\":\"\"}}}],\"scatterternary\":[{\"type\":\"scatterternary\",\"marker\":{\"colorbar\":{\"outlinewidth\":0,\"ticks\":\"\"}}}],\"scattercarpet\":[{\"type\":\"scattercarpet\",\"marker\":{\"colorbar\":{\"outlinewidth\":0,\"ticks\":\"\"}}}],\"carpet\":[{\"aaxis\":{\"endlinecolor\":\"#2a3f5f\",\"gridcolor\":\"white\",\"linecolor\":\"white\",\"minorgridcolor\":\"white\",\"startlinecolor\":\"#2a3f5f\"},\"baxis\":{\"endlinecolor\":\"#2a3f5f\",\"gridcolor\":\"white\",\"linecolor\":\"white\",\"minorgridcolor\":\"white\",\"startlinecolor\":\"#2a3f5f\"},\"type\":\"carpet\"}],\"table\":[{\"cells\":{\"fill\":{\"color\":\"#EBF0F8\"},\"line\":{\"color\":\"white\"}},\"header\":{\"fill\":{\"color\":\"#C8D4E3\"},\"line\":{\"color\":\"white\"}},\"type\":\"table\"}],\"barpolar\":[{\"marker\":{\"line\":{\"color\":\"#E5ECF6\",\"width\":0.5},\"pattern\":{\"fillmode\":\"overlay\",\"size\":10,\"solidity\":0.2}},\"type\":\"barpolar\"}],\"pie\":[{\"automargin\":true,\"type\":\"pie\"}]},\"layout\":{\"autotypenumbers\":\"strict\",\"colorway\":[\"#636efa\",\"#EF553B\",\"#00cc96\",\"#ab63fa\",\"#FFA15A\",\"#19d3f3\",\"#FF6692\",\"#B6E880\",\"#FF97FF\",\"#FECB52\"],\"font\":{\"color\":\"#2a3f5f\"},\"hovermode\":\"closest\",\"hoverlabel\":{\"align\":\"left\"},\"paper_bgcolor\":\"white\",\"plot_bgcolor\":\"#E5ECF6\",\"polar\":{\"bgcolor\":\"#E5ECF6\",\"angularaxis\":{\"gridcolor\":\"white\",\"linecolor\":\"white\",\"ticks\":\"\"},\"radialaxis\":{\"gridcolor\":\"white\",\"linecolor\":\"white\",\"ticks\":\"\"}},\"ternary\":{\"bgcolor\":\"#E5ECF6\",\"aaxis\":{\"gridcolor\":\"white\",\"linecolor\":\"white\",\"ticks\":\"\"},\"baxis\":{\"gridcolor\":\"white\",\"linecolor\":\"white\",\"ticks\":\"\"},\"caxis\":{\"gridcolor\":\"white\",\"linecolor\":\"white\",\"ticks\":\"\"}},\"coloraxis\":{\"colorbar\":{\"outlinewidth\":0,\"ticks\":\"\"}},\"colorscale\":{\"sequential\":[[0.0,\"#0d0887\"],[0.1111111111111111,\"#46039f\"],[0.2222222222222222,\"#7201a8\"],[0.3333333333333333,\"#9c179e\"],[0.4444444444444444,\"#bd3786\"],[0.5555555555555556,\"#d8576b\"],[0.6666666666666666,\"#ed7953\"],[0.7777777777777778,\"#fb9f3a\"],[0.8888888888888888,\"#fdca26\"],[1.0,\"#f0f921\"]],\"sequentialminus\":[[0.0,\"#0d0887\"],[0.1111111111111111,\"#46039f\"],[0.2222222222222222,\"#7201a8\"],[0.3333333333333333,\"#9c179e\"],[0.4444444444444444,\"#bd3786\"],[0.5555555555555556,\"#d8576b\"],[0.6666666666666666,\"#ed7953\"],[0.7777777777777778,\"#fb9f3a\"],[0.8888888888888888,\"#fdca26\"],[1.0,\"#f0f921\"]],\"diverging\":[[0,\"#8e0152\"],[0.1,\"#c51b7d\"],[0.2,\"#de77ae\"],[0.3,\"#f1b6da\"],[0.4,\"#fde0ef\"],[0.5,\"#f7f7f7\"],[0.6,\"#e6f5d0\"],[0.7,\"#b8e186\"],[0.8,\"#7fbc41\"],[0.9,\"#4d9221\"],[1,\"#276419\"]]},\"xaxis\":{\"gridcolor\":\"white\",\"linecolor\":\"white\",\"ticks\":\"\",\"title\":{\"standoff\":15},\"zerolinecolor\":\"white\",\"automargin\":true,\"zerolinewidth\":2},\"yaxis\":{\"gridcolor\":\"white\",\"linecolor\":\"white\",\"ticks\":\"\",\"title\":{\"standoff\":15},\"zerolinecolor\":\"white\",\"automargin\":true,\"zerolinewidth\":2},\"scene\":{\"xaxis\":{\"backgroundcolor\":\"#E5ECF6\",\"gridcolor\":\"white\",\"linecolor\":\"white\",\"showbackground\":true,\"ticks\":\"\",\"zerolinecolor\":\"white\",\"gridwidth\":2},\"yaxis\":{\"backgroundcolor\":\"#E5ECF6\",\"gridcolor\":\"white\",\"linecolor\":\"white\",\"showbackground\":true,\"ticks\":\"\",\"zerolinecolor\":\"white\",\"gridwidth\":2},\"zaxis\":{\"backgroundcolor\":\"#E5ECF6\",\"gridcolor\":\"white\",\"linecolor\":\"white\",\"showbackground\":true,\"ticks\":\"\",\"zerolinecolor\":\"white\",\"gridwidth\":2}},\"shapedefaults\":{\"line\":{\"color\":\"#2a3f5f\"}},\"annotationdefaults\":{\"arrowcolor\":\"#2a3f5f\",\"arrowhead\":0,\"arrowwidth\":1},\"geo\":{\"bgcolor\":\"white\",\"landcolor\":\"#E5ECF6\",\"subunitcolor\":\"white\",\"showland\":true,\"showlakes\":true,\"lakecolor\":\"white\"},\"title\":{\"x\":0.05},\"mapbox\":{\"style\":\"light\"}}},\"title\":{\"text\":\"cognatehood_0\"},\"xaxis\":{\"title\":{\"text\":\"cognatehood_0 score\"}},\"yaxis\":{\"title\":{\"text\":\"count\"}},\"legend\":{\"title\":{\"text\":\"CS label\"}}},                        {\"responsive\": true}                    ).then(function(){\n",
       "                            \n",
       "var gd = document.getElementById('ee864569-7fb2-410b-841a-e69aa3a97fb2');\n",
       "var x = new MutationObserver(function (mutations, observer) {{\n",
       "        var display = window.getComputedStyle(gd).display;\n",
       "        if (!display || display === 'none') {{\n",
       "            console.log([gd, 'removed!']);\n",
       "            Plotly.purge(gd);\n",
       "            observer.disconnect();\n",
       "        }}\n",
       "}});\n",
       "\n",
       "// Listen for the removal of the full notebook cells\n",
       "var notebookContainer = gd.closest('#notebook-container');\n",
       "if (notebookContainer) {{\n",
       "    x.observe(notebookContainer, {childList: true});\n",
       "}}\n",
       "\n",
       "// Listen for the clearing of the current output cell\n",
       "var outputEl = gd.closest('.output');\n",
       "if (outputEl) {{\n",
       "    x.observe(outputEl, {childList: true});\n",
       "}}\n",
       "\n",
       "                        })                };                });            </script>        </div>"
      ]
     },
     "metadata": {},
     "output_type": "display_data"
    },
    {
     "name": "stdout",
     "output_type": "stream",
     "text": [
      "CS 1 - weighted average: 0.16506633806203425\n",
      "CS 0 - weighted average: 0.1926265020920503\n"
     ]
    },
    {
     "data": {
      "application/vnd.plotly.v1+json": {
       "config": {
        "plotlyServerURL": "https://plot.ly"
       },
       "data": [
        {
         "mode": "markers",
         "name": "1",
         "opacity": 1,
         "type": "scatter",
         "x": [
          0,
          0.3304,
          0.4105,
          0.54,
          0.3059,
          0.3318,
          0.4466,
          0.3362,
          0.5447,
          0.4551,
          0.4504,
          0.3612,
          0.3584,
          0.4219,
          0.3726,
          0.3152,
          0.5197,
          0.2886,
          0.4091,
          0.3976,
          0.2907,
          0.2643,
          0.2879,
          0.328,
          0.473,
          0.3341,
          0.2706,
          0.4065,
          0.3117,
          0.255,
          0.233,
          0.3395,
          0.4056,
          0.3236,
          0.4,
          0.2564,
          0.4772,
          0.2181,
          0.4723,
          0.2813,
          0.4705,
          0.2928,
          0.347,
          0.307,
          0.4691,
          0.3838,
          0.3747,
          0.3899,
          0.2722,
          0.3222,
          0.4126,
          0.3866,
          0.7768,
          0.2295,
          0.6145,
          0.3549,
          0.2671,
          0.4396,
          0.222,
          0.2396,
          0.3306,
          0.6528,
          0.8482,
          0.5534,
          0.3965,
          0.3619,
          0.3201,
          0.3656,
          0.5391,
          0.2771,
          0.4228,
          0.6227,
          0.2855,
          0.502,
          0.3378,
          0.2975,
          0.3325,
          0.3035,
          0.3642,
          0.3224,
          0.3596,
          0.4712,
          0.3397,
          0.2998,
          0.5389,
          0.512,
          0.5335,
          0.5202,
          0.6591,
          0.4646,
          0.2895,
          0.4698,
          0.431,
          0.357,
          0.2036,
          0.8191,
          0.3322,
          0.4658,
          0.3061,
          0.6283,
          0.427,
          0.5902,
          0.2631,
          0.3115,
          0.3911,
          0.5788,
          0.1725,
          0.2239,
          0.2431,
          0.3329,
          0.4282,
          0.2575,
          0.3157,
          0.5517,
          0.5482,
          0.4422,
          0.8506,
          0.3514,
          0.3014,
          0.4256,
          0.2517,
          0.5839,
          0.3166,
          0.2697,
          0.399,
          0.3479,
          0.3682,
          0.3047,
          0.6397,
          0.5312,
          0.4812,
          0.5968,
          0.3143,
          0.4406,
          0.3778,
          0.2881,
          0.3313,
          0.3586,
          0.4532,
          0.3663,
          0.2536,
          0.2832,
          0.4028,
          0.3435,
          0.586,
          0.5863,
          0.3887,
          0.1445,
          0.8697,
          0.2926,
          0.6124,
          0.3633,
          0.7579,
          0.4537,
          0.8076,
          0.7509,
          0.3463,
          0.629,
          0.4217,
          0.4455,
          0.3526,
          0.3444,
          0.7686,
          0.4534,
          0.212,
          0.4233,
          0.4567,
          0.4434,
          0.3301,
          0.1989,
          0.3796,
          0.7189,
          0.6215,
          0.2608,
          0.562,
          0.3505,
          0.3687,
          0.5667,
          0.9477,
          0.5144,
          0.3161,
          0.5316,
          0.742,
          0.7299,
          0.2013,
          0.4796,
          0.611,
          0.374,
          0.449,
          0.5837,
          0.5909,
          0.5363,
          0.6636,
          0.3941,
          0.5646,
          0.83,
          0.4354,
          0.4037,
          0.6701,
          0.474,
          0.3801,
          0.4733,
          0.4791,
          0.487,
          0.3346,
          0.7752,
          0.3806,
          0.728,
          0.7927,
          0.2174,
          0.4245,
          0.2825,
          0.3703,
          0.2603,
          0.8258,
          0.1609,
          0.3348,
          0.8426,
          0.4049,
          0.8473,
          0.1826,
          0.5085,
          0.5816,
          0.3266,
          0.3425,
          0.4168,
          0.9129,
          0.5232,
          0.2979,
          0.4098,
          0.777,
          0.2384,
          0.6997,
          0.5279,
          0.3294,
          0.6972,
          0.3,
          0.3638,
          0.619,
          0.4838,
          0.2162,
          0.2197,
          0.3311,
          0.979,
          0.2844,
          0.3729,
          0.3456,
          0.3565,
          0.3264,
          0.4558,
          0.6472,
          0.4382,
          0.6085,
          0.3617,
          0.4628,
          0.5006,
          0.7562,
          0.6353,
          0.4366,
          0.4058,
          0.2351,
          0.5867,
          0.6556,
          0.4527,
          0.3684,
          0.707,
          0.4471,
          0.1756,
          0.3969,
          0.5251,
          0.3827,
          0.3883,
          0.752,
          0.2837,
          0.2104,
          0.5048,
          0.3103,
          0.5858,
          0.8377,
          0.2664,
          0.2725,
          0.7574,
          0.2662,
          0.8116,
          0.7726,
          0.4077,
          0.735,
          0.208,
          0.5347,
          0.5242,
          0.2204,
          0.7152,
          0.3299,
          0.4971,
          0.5751,
          0.4373,
          0.6318,
          0.2454,
          0.6535,
          0.3598,
          0.4889,
          0.3126,
          0.3523,
          0.4882,
          0.7548,
          0.5548,
          0.6813,
          0.625,
          0.4119,
          0.318,
          0.6047,
          0.5328,
          0.4803,
          0.4614,
          0.3759,
          0.2715,
          0.5466,
          0.6171,
          0.7114,
          0.4609,
          0.2153,
          0.7427,
          0.5433,
          0.7794,
          0.417,
          0.2246,
          0.3738,
          0.5804,
          0.6099,
          0.5384,
          0.241,
          0.2954,
          0.6673,
          0.2599,
          0.7217,
          0.4483,
          0.7497,
          0.3771,
          0.3824,
          0.3979,
          0.5214,
          0.4247,
          0.6187,
          0.2942,
          0.5942,
          0.4039,
          0.4114,
          0.407,
          0.6603,
          0.6647,
          0.5573,
          0.3336,
          0.5382,
          0.7,
          0.4086,
          0.3024,
          0.3154,
          0.5062,
          0.7488,
          0.4147,
          0.3185,
          0.8531,
          0.226,
          0.4088,
          0.1644,
          0.9103,
          0.5025,
          0.513,
          0.2984,
          0.5172,
          0.3733,
          0.9279,
          0.7215,
          0.6986,
          0.3297,
          0.3075,
          0.9145,
          0.2083,
          0.5541,
          0.5064,
          0.382,
          0.5438,
          0.4361,
          0.6204,
          0.4289,
          0.6271,
          0.7032,
          0.4184,
          0.2629,
          0.5487,
          0.5067,
          0.4212,
          0.5377,
          0.5954,
          0.6005,
          0.7703,
          0.6895,
          0.7387,
          0.7691,
          0.8536,
          0.947,
          0.622,
          0.8071,
          0.2251,
          0.7046,
          0.6799,
          0.6804,
          0.7257,
          0.3544,
          0.6341,
          0.4312,
          0.286,
          0.2363,
          0.7205,
          0.4565,
          0.3967,
          0.4403,
          0.3453,
          0.5139,
          0.4919,
          0.5508,
          0.8165,
          0.6211,
          0.5515,
          0.7803,
          0.5613,
          0.6416,
          0.354,
          0.714,
          0.4193,
          0.4401,
          0.5351,
          0.4032,
          0.778,
          0.5473,
          0.6253,
          0.6306,
          0.3439,
          0.2718,
          0.293,
          0.4492,
          0.5417,
          0.7864,
          0.4994,
          0.406,
          0.4845,
          0.6113,
          0.3997,
          0.6871,
          0.2858,
          0.4385,
          0.4819,
          0.6678,
          0.5274,
          0.3794,
          0.8788,
          0.2636,
          0.7292,
          0.6953,
          0.2991,
          0.696,
          0.3918,
          0.4639
         ],
         "y": [
          2500,
          96,
          70,
          56,
          41,
          39,
          37,
          34,
          33,
          33,
          32,
          28,
          27,
          26,
          25,
          24,
          22,
          22,
          21,
          19,
          19,
          18,
          17,
          16,
          14,
          11,
          11,
          10,
          9,
          9,
          9,
          9,
          9,
          9,
          9,
          8,
          8,
          8,
          7,
          7,
          7,
          7,
          7,
          7,
          7,
          7,
          7,
          7,
          7,
          7,
          7,
          7,
          6,
          6,
          6,
          6,
          6,
          6,
          6,
          6,
          5,
          5,
          5,
          5,
          5,
          5,
          5,
          5,
          5,
          4,
          4,
          4,
          4,
          4,
          4,
          4,
          4,
          4,
          4,
          4,
          4,
          4,
          4,
          4,
          4,
          4,
          4,
          3,
          3,
          3,
          3,
          3,
          3,
          3,
          3,
          3,
          3,
          3,
          3,
          3,
          3,
          3,
          3,
          3,
          3,
          3,
          3,
          3,
          3,
          3,
          3,
          3,
          3,
          2,
          2,
          2,
          2,
          2,
          2,
          2,
          2,
          2,
          2,
          2,
          2,
          2,
          2,
          2,
          2,
          2,
          2,
          2,
          2,
          2,
          2,
          2,
          2,
          2,
          2,
          2,
          2,
          2,
          2,
          2,
          2,
          2,
          2,
          2,
          2,
          2,
          2,
          2,
          2,
          2,
          2,
          2,
          2,
          2,
          2,
          2,
          2,
          2,
          2,
          2,
          2,
          2,
          2,
          2,
          2,
          2,
          2,
          2,
          2,
          2,
          2,
          2,
          2,
          2,
          2,
          2,
          2,
          2,
          2,
          2,
          2,
          2,
          2,
          2,
          2,
          2,
          2,
          2,
          2,
          1,
          1,
          1,
          1,
          1,
          1,
          1,
          1,
          1,
          1,
          1,
          1,
          1,
          1,
          1,
          1,
          1,
          1,
          1,
          1,
          1,
          1,
          1,
          1,
          1,
          1,
          1,
          1,
          1,
          1,
          1,
          1,
          1,
          1,
          1,
          1,
          1,
          1,
          1,
          1,
          1,
          1,
          1,
          1,
          1,
          1,
          1,
          1,
          1,
          1,
          1,
          1,
          1,
          1,
          1,
          1,
          1,
          1,
          1,
          1,
          1,
          1,
          1,
          1,
          1,
          1,
          1,
          1,
          1,
          1,
          1,
          1,
          1,
          1,
          1,
          1,
          1,
          1,
          1,
          1,
          1,
          1,
          1,
          1,
          1,
          1,
          1,
          1,
          1,
          1,
          1,
          1,
          1,
          1,
          1,
          1,
          1,
          1,
          1,
          1,
          1,
          1,
          1,
          1,
          1,
          1,
          1,
          1,
          1,
          1,
          1,
          1,
          1,
          1,
          1,
          1,
          1,
          1,
          1,
          1,
          1,
          1,
          1,
          1,
          1,
          1,
          1,
          1,
          1,
          1,
          1,
          1,
          1,
          1,
          1,
          1,
          1,
          1,
          1,
          1,
          1,
          1,
          1,
          1,
          1,
          1,
          1,
          1,
          1,
          1,
          1,
          1,
          1,
          1,
          1,
          1,
          1,
          1,
          1,
          1,
          1,
          1,
          1,
          1,
          1,
          1,
          1,
          1,
          1,
          1,
          1,
          1,
          1,
          1,
          1,
          1,
          1,
          1,
          1,
          1,
          1,
          1,
          1,
          1,
          1,
          1,
          1,
          1,
          1,
          1,
          1,
          1,
          1,
          1,
          1,
          1,
          1,
          1,
          1,
          1,
          1,
          1,
          1,
          1,
          1,
          1,
          1,
          1,
          1,
          1,
          1,
          1,
          1,
          1,
          1,
          1,
          1,
          1,
          1,
          1,
          1,
          1,
          1,
          1,
          1,
          1,
          1,
          1,
          1,
          1,
          1,
          1,
          1,
          1,
          1,
          1,
          1,
          1,
          1,
          1,
          1,
          1,
          1,
          1,
          1,
          1,
          1,
          1,
          1,
          1,
          1,
          1,
          1,
          1,
          1,
          1,
          1,
          1,
          1,
          1,
          1,
          1,
          1,
          1,
          1,
          1,
          1,
          1,
          1,
          1
         ]
        },
        {
         "mode": "markers",
         "name": "0",
         "opacity": 0.5,
         "type": "scatter",
         "x": [
          0,
          0.3304,
          0.3318,
          0.4105,
          0.54,
          0.3059,
          0.4466,
          0.3362,
          0.5447,
          0.4219,
          0.4504,
          0.3726,
          0.3612,
          0.255,
          0.4056,
          0.4,
          0.2879,
          0.3152,
          0.4091,
          0.473,
          0.4551,
          0.2907,
          0.3584,
          0.3236,
          0.2886,
          0.3976,
          0.347,
          0.328,
          0.3899,
          0.3341,
          0.5197,
          0.2643,
          0.233,
          0.3201,
          0.3866,
          0.6145,
          0.3395,
          0.2706,
          0.4772,
          0.3222,
          0.3965,
          0.4396,
          0.4712,
          0.2813,
          0.307,
          0.2671,
          0.4028,
          0.2396,
          0.5316,
          0.2928,
          0.3117,
          0.3656,
          0.2295,
          0.3596,
          0.2998,
          0.4126,
          0.4705,
          0.4723,
          0.431,
          0.5534,
          0.4791,
          0.2564,
          0.4065,
          0.3663,
          0.512,
          0.5389,
          0.2975,
          0.2181,
          0.3642,
          0.4039,
          0.4691,
          0.474,
          0.449,
          0.2608,
          0.6227,
          0.2771,
          0.3747,
          0.5484,
          0.3224,
          0.374,
          0.3311,
          0.3322,
          0.222,
          0.6647,
          0.5713,
          0.4046,
          0.2722,
          0.8482,
          0.3327,
          0.2351,
          0.6528,
          0.212,
          0.3838,
          0.8531,
          0.3505,
          0.3397,
          0.4527,
          0.3444,
          0.2631,
          0.1725,
          0.3549,
          0.357,
          0.315,
          0.2697,
          0.3453,
          0.4361,
          0.286,
          0.3449,
          0.5391,
          0.4228,
          0.3306,
          0.4919,
          0.7875,
          0.3035,
          0.3619,
          0.2431,
          0.4119,
          0.7231,
          0.8076,
          0.2174,
          0.4803,
          0.2855,
          0.4646,
          0.4796,
          0.3568,
          0.544,
          0.3759,
          0.3336,
          0.2171,
          0.5718,
          0.2204,
          0.5902,
          0.8191,
          0.5025,
          0.4212,
          0.5867,
          0.2881,
          0.3329,
          0.6997,
          0.3266,
          0.4434,
          0.586,
          0.6619,
          0.4077,
          0.5067,
          0.4147,
          0.7336,
          0.2575,
          0.3724,
          0.3733,
          0.3325,
          0.7299,
          0.7794,
          0.2715,
          0.3731,
          0.3161,
          0.3103,
          0.5863,
          0.3687,
          0.3997,
          0.3682,
          0.304,
          0.7152,
          0.4053,
          0.4541,
          0.6159,
          0.8226,
          0.6085,
          0.5309,
          0.2832,
          0.4168,
          0.5839,
          0.2655,
          0.2895,
          0.5466,
          0.399,
          0.4217,
          0.579,
          0.5179,
          0.4502,
          0.6507,
          0.629,
          0.3456,
          0.4471,
          0.6353,
          0.3901,
          0.3054,
          0.2942,
          0.4698,
          0.7768,
          0.2954,
          0.4387,
          0.3498,
          0.7338,
          0.5494,
          0.5433,
          0.562,
          0.8039,
          0.3301,
          0.3115,
          0.5517,
          0.5144,
          0.4537,
          0.4366,
          0.3969,
          0.6253,
          0.5657,
          0.619,
          0.6624,
          0.4994,
          0.8506,
          0.1609,
          0.5541,
          0.4639,
          0.1445,
          0.4987,
          0.3313,
          0.3526,
          0.6591,
          0.5335,
          0.4282,
          0.4373,
          0.5085,
          0.2713,
          0.4499,
          0.5279,
          0.3075,
          0.4726,
          0.3348,
          0.427,
          0.5884,
          0.3773,
          0.3495,
          0.2762,
          0.7703,
          0.5414,
          0.4728,
          0.5986,
          0.6888,
          0.1268,
          0.4936,
          0.258,
          0.6895,
          0.3579,
          0.3638,
          0.5202,
          0.8816,
          0.2239,
          0.5991,
          0.5363,
          0.3472,
          0.665,
          0.2036,
          0.2197,
          0.3061,
          0.5825,
          0.3512,
          0.8473,
          0.4807,
          0.3607,
          0.6099,
          0.2965,
          0.452,
          0.3514,
          0.5048,
          0.6059,
          0.615,
          0.728,
          0.4845,
          0.453,
          0.3519,
          0.5286,
          0.5445,
          0.2935,
          0.3133,
          0.2536,
          0.7579,
          0.5377,
          0.4534,
          0.3782,
          0.7145,
          0.3227,
          0.4628,
          0.8693,
          0.3824,
          0.5739,
          0.2363,
          0.4422,
          0.41,
          0.9757,
          0.241,
          0.6451,
          0.2629,
          0.3808,
          0.6416,
          0.6141,
          0.3883,
          0.3887,
          0.6498,
          0.5793,
          0.4156,
          0.2844,
          0.4256,
          0.2508,
          0.5548,
          0.2718,
          0.3869,
          0.2519,
          0.4763,
          0.4873,
          0.4831,
          0.8697,
          0.5482,
          0.6124,
          0.6827,
          0.3738,
          0.3796,
          0.6969,
          0.3346,
          0.4095,
          0.3943,
          0.3633,
          0.3287,
          0.3598,
          0.2489,
          0.5274,
          0.7427,
          0.8849,
          0.732,
          0.6215,
          0.3794,
          0.3801,
          0.5487,
          0.6362,
          0.3876,
          0.4782,
          0.3418,
          0.643,
          0.4263,
          0.3147,
          0.3187,
          0.7296,
          0.7654,
          0.5214,
          0.9148,
          0.4436,
          0.5232,
          0.4245,
          0.4259,
          0.7682,
          0.513,
          0.3131,
          0.3631,
          0.509,
          0.5438,
          0.5758,
          0.7252,
          0.682,
          0.6556,
          0.4301,
          0.4385,
          0.7257,
          0.6862,
          0.279,
          0.2991,
          0.3582,
          0.6521,
          0.2909,
          0.6673,
          0.3715,
          0.4968,
          0.4758,
          0.2659,
          0.6801,
          0.4838,
          0.5954,
          0.8798,
          0.622,
          0.3778,
          0.6717,
          0.5968,
          0.4058,
          0.8228,
          0.6547,
          0.2893,
          0.2837,
          0.2694,
          0.2162,
          0.2153,
          0.2452,
          0.7121,
          0.7028,
          0.5461,
          0.4002,
          0.5573,
          0.8106,
          0.6792,
          0.4635,
          0.6512,
          0.6951,
          0.7551,
          0.1751,
          0.583,
          0.7046,
          0.6255,
          0.5702,
          0.4037,
          0.4677,
          0.2447,
          0.6028,
          0.5123,
          0.5671,
          0.321,
          0.3754,
          0.7457,
          0.3617,
          0.2403,
          0.7212,
          0.9498,
          0.7509,
          0.3953,
          0.6031,
          0.3283,
          0.3241,
          0.4233,
          0.3164,
          0.2622,
          0.844,
          0.2979,
          0.71,
          0.5923,
          0.7488,
          0.5412,
          0.6453,
          0.5837,
          0.1756,
          0.6523,
          0.3486,
          0.8116,
          0.5914,
          0.2013,
          0.5006,
          0.4266,
          0.3911,
          0.6101,
          0.6397,
          0.4819,
          0.3166,
          0.7693,
          0.3255,
          0.5155,
          0.7282,
          0.5417,
          0.4051,
          0.3402,
          0.8872,
          0.3565,
          0.4007,
          0.4049,
          0.9092,
          0.2115,
          0.4086,
          0.3259,
          0.4455,
          0.7067,
          0.4894,
          0.5172,
          0.7037,
          0.4642,
          0.2414,
          0.4249,
          0.4462,
          0.3122,
          0.9057,
          0.3124,
          0.4429,
          0.5032,
          0.5097,
          0.2202,
          0.6187,
          0.3834,
          0.8781,
          0.3827,
          0.7964,
          0.5118,
          0.2384,
          0.4882,
          0.5384,
          0.4663,
          0.6211,
          0.2501,
          0.3343,
          0.8933,
          0.6514,
          0.2785,
          0.5251,
          0.4565,
          0.7,
          0.6638,
          0.3528,
          0.6213,
          0.3939,
          0.1805,
          0.4737,
          0.6605,
          0.573,
          0.7035,
          0.6334,
          0.3392,
          0.9103,
          0.414,
          0.3572,
          0.742,
          0.2232,
          0.4971,
          0.749,
          0.6603,
          0.5351,
          0.8613,
          0.3745,
          0.4856,
          0.2057,
          0.8492,
          0.6967,
          0.4546,
          0.3983,
          0.6804,
          0.3523,
          0.4347,
          0.6636,
          0.4303,
          0.2459,
          0.6262,
          0.3199,
          0.5629,
          0.4929,
          0.2848,
          0.3785,
          0.7574,
          0.3647,
          0.5305,
          0.3915,
          0.4492,
          0.6727,
          0.6825,
          0.2956,
          0.3703,
          0.3577,
          0.2949,
          0.6138,
          0.2473,
          0.7107,
          0.2839,
          0.7945,
          0.4289,
          0.5421,
          0.8618,
          0.8424,
          0.6271,
          0.4135,
          0.3154,
          0.4445,
          0.6806,
          0.5578,
          0.4901,
          0.6201,
          0.8749,
          0.3234,
          0.6367,
          0.9106,
          0.7915,
          0.2657,
          0.2984,
          0.625,
          0.4322,
          0.6264,
          0.3143,
          0.2582,
          0.4579,
          0.4247,
          0.1714,
          0.3624,
          0.4922,
          0.6995,
          0.3119,
          0.6113,
          0.5769,
          0.5676,
          0.1375,
          0.2858,
          0.5295,
          0.8536,
          0.5807,
          0.3771,
          0.752,
          0.5064,
          0.389,
          0.59,
          0.435,
          0.3948,
          0.7243,
          0.5804,
          0.647,
          0.3463,
          0.6668,
          0.7712,
          0.4079,
          0.6267,
          0.7822,
          0.7894,
          0.4884,
          0.5611,
          0.5587,
          0.9185,
          0.608,
          0.1826,
          0.3764,
          0.7614,
          0.6563,
          0.5865,
          0.3409,
          0.4903,
          0.4602,
          0.7999,
          0.4506,
          0.5942,
          0.5242,
          0.5505,
          0.7754,
          0.4023,
          0.2673,
          0.696,
          0.6292,
          0.7208,
          0.3488,
          0.3399,
          0.6283,
          0.3014,
          0.3736,
          0.7959,
          0.8317,
          0.5748,
          0.2578,
          0.1996,
          0.3215,
          0.7373,
          0.8784,
          0.4193,
          0.4567,
          0.8352,
          0.3378,
          0.4779,
          0.7625,
          0.7303,
          0.6829,
          0.7245,
          0.2428,
          0.5029,
          0.403,
          0.7929,
          0.6355,
          0.8064,
          0.679,
          0.2246,
          0.6449,
          0.5958,
          0.3196,
          0.2825,
          0.4623,
          0.4532,
          0.7453,
          0.4382,
          0.8552,
          0.3502,
          0.314,
          0.4889,
          0.7616,
          0.7278,
          0.336,
          0.7686,
          0.6983,
          0.4954,
          0.947,
          0.7588,
          0.4931,
          0.3264,
          0.4448,
          0.294,
          0.7562,
          0.2725,
          0.7189,
          0.7114,
          0.346,
          0.5113,
          0.3175,
          0.6584,
          0.653,
          0.325,
          0.2781,
          0.626,
          0.3,
          0.3941,
          0.8004,
          0.685,
          0.2795,
          0.838,
          0.2164,
          0.1819,
          0.2926,
          0.4312,
          0.5347,
          0.4875,
          0.5265,
          0.4032,
          0.456,
          0.6797,
          0.421,
          0.8585,
          0.4338,
          0.777,
          0.6706,
          0.8576,
          0.6939,
          0.6526,
          0.3936,
          0.7194,
          0.2379,
          0.7826,
          0.3491,
          0.3729,
          0.2339,
          0.3589,
          0.3927,
          0.8648,
          0.3038,
          0.2183,
          0.4681,
          0.8905,
          0.7829,
          0.3556,
          0.5622,
          0.502,
          0.7691,
          0.3666,
          0.5237,
          0.6082,
          0.2227,
          0.611,
          0.5258,
          0.5618,
          0.3981,
          0.6313,
          0.3621,
          0.3243,
          0.3439,
          0.8959,
          0.4088,
          0.6446,
          0.353,
          0.7411,
          0.4656,
          0.5781,
          0.6813,
          0.8966,
          0.3451,
          0.8373,
          0.7359,
          0.745,
          0.6341,
          0.477,
          0.5552,
          0.438,
          0.5099,
          0.2517,
          0.466,
          0.5468,
          0.6108,
          0.2424,
          0.2692,
          0.612,
          0.2297,
          0.282,
          0.6257,
          0.7889,
          0.5512,
          0.4457,
          0.3743,
          0.2662,
          0.7124,
          0.6654,
          0.407,
          0.6794,
          0.2746,
          0.1924,
          0.5235,
          0.2356,
          0.5667,
          0.4793,
          0.8844,
          0.3813,
          0.6537,
          0.4357,
          0.3908,
          0.7546,
          0.566,
          0.5998,
          0.6687,
          0.4158,
          0.5772,
          0.534,
          0.8657,
          0.6808,
          0.9479,
          0.6675,
          0.7525,
          0.3946,
          0.2652,
          0.7583,
          0.8735,
          0.4284,
          0.4604,
          0.5386,
          0.4485,
          0.4558,
          0.46,
          0.8071,
          0.3435,
          0.3428,
          0.699,
          0.6799,
          0.6769,
          0.2094,
          0.6743,
          0.5095,
          0.4014,
          0.6948,
          0.686,
          0.3376,
          0.3696,
          0.4151,
          0.8664,
          0.8767,
          0.5477,
          0.6778,
          0.6878,
          0.8013,
          0.7254,
          0.4331,
          0.4305,
          0.301,
          0.6432,
          0.2883,
          0.1852,
          0.8924,
          0.7364,
          0.9157,
          0.8361,
          0.4427,
          0.5244,
          0.3425,
          0.6577,
          0.4319,
          0.7675,
          0.329,
          0.6162,
          0.5148,
          0.36,
          0.2127,
          0.8256,
          0.481,
          0.3516,
          0.5039,
          0.5344,
          0.7721,
          0.5312,
          0.1884,
          0.3493,
          0.5111,
          0.2811,
          0.5816,
          0.6204,
          0.8202,
          0.3374,
          0.5797,
          0.7696,
          0.4021,
          0.173,
          0.3049,
          0.3299,
          0.6318,
          0.2071,
          0.2748,
          0.9297,
          0.6047,
          0.1709,
          0.4368,
          0.6909,
          0.5246,
          0.5062,
          0.6407,
          0.5641,
          0.5592,
          0.2989,
          0.4203,
          0.2869,
          0.6713,
          0.434,
          0.1261,
          0.417,
          0.3364,
          0.6839,
          0.4116,
          0.2755,
          0.5951,
          0.406,
          0.6701,
          0.4067,
          0.6671,
          0.2905,
          0.7334,
          0.5538,
          0.2293,
          0.4607,
          0.4569,
          0.2834,
          0.3371,
          0.5858,
          0.6299,
          0.3586,
          0.6892,
          0.3689,
          0.6755,
          0.4959,
          0.6953,
          0.7651,
          0.4719,
          0.5193,
          0.5368,
          0.4511,
          0.5225,
          0.4196,
          0.3357,
          0.4842,
          0.6038,
          0.7233,
          0.7485,
          0.6021,
          0.6832,
          0.3089,
          0.5604,
          0.5524,
          0.8111,
          0.498,
          0.3446,
          0.2916,
          0.5125,
          0.2986,
          0.5977,
          0.5846,
          0.5167,
          0.6369,
          0.5153,
          0.7541,
          0.6306,
          0.3705,
          0.4165,
          0.7184,
          0.6594,
          0.5218,
          0.1828,
          0.343,
          0.7002,
          0.42,
          0.8975,
          0.5239,
          0.2704,
          0.1114,
          0.7044,
          0.7994,
          0.5382,
          0.9279,
          0.7511,
          0.5615,
          0.636,
          0.2398,
          0.9031,
          0.2802,
          0.4343,
          0.2753,
          0.865,
          0.6986,
          0.8426,
          0.4224,
          0.318,
          0.8704,
          0.236,
          0.7128,
          0.4595,
          0.368,
          0.979,
          0.5594,
          0.7852,
          0.4621,
          0.3972,
          0.1837,
          0.8097,
          0.4478,
          0.618,
          0.2311,
          0.2792,
          0.5779,
          0.4749,
          0.8331,
          0.6332,
          0.558,
          0.5127,
          0.5648,
          0.6981,
          0.526,
          0.5081,
          0.4985,
          0.6218,
          0.4828,
          0.3892,
          0.6923,
          0.3091,
          0.7105,
          0.8823,
          0.7215,
          0.3934,
          0.332,
          0.9407,
          0.2664,
          0.1366,
          0.3535,
          0.6302,
          0.7808,
          0.6633,
          0.7074,
          0.4308,
          0.7177,
          0.7084,
          0.8046,
          0.5583,
          0.2449,
          0.8994,
          0.6897,
          0.3437,
          0.3507,
          0.442,
          0.7572,
          0.4352,
          0.6918,
          0.3542,
          0.4238,
          0.7506,
          0.897,
          0.6643,
          0.2669,
          0.2435,
          0.9307,
          0.4287,
          0.8791,
          0.5379,
          0.7222,
          0.1856,
          0.4525,
          0.6612,
          0.8947,
          0.7429,
          0.3416,
          0.858,
          0.5909,
          0.5106,
          0.8896,
          0.3864,
          0.4826,
          0.3918,
          0.4252,
          0.6005,
          0.9477,
          0.7191,
          0.7672,
          0.8562,
          0.6678,
          0.5508,
          0.2209,
          0.5356,
          0.2573,
          0.4637,
          0.6442,
          0.6554,
          0.7644,
          0.1802,
          0.2003,
          0.4632,
          0.6229,
          0.5828,
          0.9216,
          0.4658,
          0.8891,
          0.8464,
          0.4235,
          0.5979,
          0.8683,
          0.6348,
          0.248,
          0.3017,
          0.9099,
          0.2426,
          0.215,
          0.484,
          0.3385,
          0.6934,
          0.5786,
          0.4721,
          0.8431,
          0.6103,
          0.3768,
          0.5706,
          0.4982,
          0.4653,
          0.8034,
          0.8419,
          0.7803,
          0.7271,
          0.9082,
          0.7787,
          0.8282,
          0.5823,
          0.2912,
          0.4207,
          0.9101,
          0.3383,
          0.788,
          0.7159,
          0.7091,
          0.3294,
          0.4406,
          0.4011,
          0.4261,
          0.6374,
          0.5571,
          0.2213,
          0.5515,
          0.6899,
          0.2627,
          0.459,
          0.4354,
          0.4555,
          0.4336,
          0.5842,
          0.3033,
          0.3098,
          0.322,
          0.7581,
          0.6409,
          0.7948,
          0.3761,
          0.4254,
          0.7464,
          0.5874,
          0.2645,
          0.6682,
          0.4609,
          0.4488,
          0.4548,
          0.3822,
          0.3126,
          0.3369,
          0.127,
          0.6876,
          0.883,
          0.2571,
          0.5027,
          0.29,
          0.3101,
          0.7387,
          0.5249,
          0.7717,
          0.6288,
          0.3308,
          0.4399,
          0.7532,
          0.6057,
          0.6194,
          0.6143,
          0.3815,
          0.739,
          0.805,
          0.7663,
          0.3185,
          0.5809,
          0.0864,
          0.3213,
          0.692,
          0.4847,
          0.5933,
          0.7483,
          0.2683,
          0.0542,
          0.7938,
          0.371,
          0.7864,
          0.2143,
          0.8879,
          0.6869,
          0.2386,
          0.7371,
          0.3334,
          0.6274,
          0.7537,
          0.5146,
          0.5288,
          0.5737,
          0.7833,
          0.4852,
          0.3465,
          0.1781,
          0.2083,
          0.4098,
          0.6425,
          0.5774,
          0.714,
          0.572,
          0.4933,
          0.7397,
          0.4784,
          0.6696,
          0.837,
          0.7647,
          0.9054,
          0.3474,
          0.7775,
          0.5496,
          0.5158,
          0.3096,
          0.3432,
          0.6423,
          0.5711,
          0.1658,
          0.7838,
          0.4273,
          0.6916,
          0.8001,
          0.2648,
          0.5669,
          0.2764,
          0.7011,
          0.9071
         ],
         "y": [
          12862,
          785,
          336,
          303,
          285,
          276,
          262,
          254,
          244,
          219,
          209,
          204,
          163,
          155,
          149,
          148,
          137,
          126,
          126,
          118,
          110,
          100,
          97,
          88,
          88,
          83,
          81,
          77,
          77,
          74,
          67,
          66,
          63,
          61,
          59,
          58,
          57,
          53,
          52,
          47,
          47,
          46,
          43,
          42,
          41,
          40,
          40,
          37,
          37,
          36,
          36,
          35,
          35,
          34,
          34,
          33,
          32,
          32,
          30,
          30,
          30,
          29,
          29,
          29,
          29,
          28,
          28,
          27,
          27,
          25,
          24,
          24,
          24,
          23,
          23,
          23,
          22,
          21,
          21,
          21,
          20,
          20,
          20,
          20,
          19,
          19,
          19,
          19,
          19,
          19,
          18,
          18,
          18,
          18,
          18,
          17,
          17,
          17,
          17,
          16,
          16,
          16,
          15,
          15,
          15,
          15,
          15,
          15,
          14,
          14,
          14,
          14,
          14,
          14,
          14,
          14,
          14,
          13,
          13,
          13,
          13,
          13,
          13,
          13,
          13,
          13,
          13,
          13,
          12,
          12,
          12,
          12,
          12,
          12,
          12,
          12,
          12,
          12,
          11,
          11,
          11,
          11,
          11,
          11,
          11,
          11,
          11,
          11,
          10,
          10,
          10,
          10,
          10,
          10,
          10,
          10,
          10,
          10,
          10,
          10,
          10,
          10,
          9,
          9,
          9,
          9,
          9,
          9,
          9,
          9,
          9,
          9,
          9,
          9,
          9,
          9,
          9,
          9,
          9,
          9,
          9,
          8,
          8,
          8,
          8,
          8,
          8,
          8,
          8,
          8,
          8,
          8,
          8,
          8,
          8,
          8,
          8,
          8,
          7,
          7,
          7,
          7,
          7,
          7,
          7,
          7,
          7,
          7,
          7,
          7,
          7,
          7,
          7,
          7,
          7,
          7,
          7,
          7,
          7,
          7,
          7,
          7,
          7,
          7,
          7,
          7,
          7,
          7,
          6,
          6,
          6,
          6,
          6,
          6,
          6,
          6,
          6,
          6,
          6,
          6,
          6,
          6,
          6,
          6,
          6,
          6,
          6,
          6,
          6,
          6,
          6,
          6,
          6,
          6,
          6,
          6,
          6,
          6,
          6,
          6,
          6,
          6,
          6,
          6,
          6,
          6,
          6,
          6,
          5,
          5,
          5,
          5,
          5,
          5,
          5,
          5,
          5,
          5,
          5,
          5,
          5,
          5,
          5,
          5,
          5,
          5,
          5,
          5,
          5,
          5,
          5,
          5,
          5,
          5,
          5,
          5,
          5,
          5,
          5,
          5,
          5,
          5,
          5,
          5,
          5,
          5,
          5,
          5,
          5,
          5,
          5,
          5,
          5,
          5,
          5,
          5,
          5,
          5,
          5,
          4,
          4,
          4,
          4,
          4,
          4,
          4,
          4,
          4,
          4,
          4,
          4,
          4,
          4,
          4,
          4,
          4,
          4,
          4,
          4,
          4,
          4,
          4,
          4,
          4,
          4,
          4,
          4,
          4,
          4,
          4,
          4,
          4,
          4,
          4,
          4,
          4,
          4,
          4,
          4,
          4,
          4,
          4,
          4,
          4,
          4,
          4,
          4,
          4,
          4,
          4,
          4,
          4,
          4,
          4,
          4,
          4,
          4,
          4,
          4,
          4,
          4,
          4,
          4,
          4,
          4,
          4,
          4,
          4,
          4,
          4,
          4,
          4,
          4,
          4,
          4,
          4,
          4,
          4,
          4,
          4,
          4,
          4,
          4,
          4,
          4,
          4,
          4,
          4,
          4,
          3,
          3,
          3,
          3,
          3,
          3,
          3,
          3,
          3,
          3,
          3,
          3,
          3,
          3,
          3,
          3,
          3,
          3,
          3,
          3,
          3,
          3,
          3,
          3,
          3,
          3,
          3,
          3,
          3,
          3,
          3,
          3,
          3,
          3,
          3,
          3,
          3,
          3,
          3,
          3,
          3,
          3,
          3,
          3,
          3,
          3,
          3,
          3,
          3,
          3,
          3,
          3,
          3,
          3,
          3,
          3,
          3,
          3,
          3,
          3,
          3,
          3,
          3,
          3,
          3,
          3,
          3,
          3,
          3,
          3,
          3,
          3,
          3,
          3,
          3,
          3,
          3,
          3,
          3,
          3,
          3,
          3,
          3,
          3,
          3,
          3,
          3,
          3,
          3,
          3,
          3,
          3,
          3,
          3,
          3,
          3,
          3,
          3,
          3,
          3,
          3,
          3,
          3,
          3,
          3,
          3,
          3,
          3,
          3,
          3,
          3,
          3,
          3,
          3,
          3,
          3,
          3,
          3,
          3,
          3,
          3,
          3,
          3,
          3,
          3,
          3,
          3,
          3,
          3,
          3,
          3,
          2,
          2,
          2,
          2,
          2,
          2,
          2,
          2,
          2,
          2,
          2,
          2,
          2,
          2,
          2,
          2,
          2,
          2,
          2,
          2,
          2,
          2,
          2,
          2,
          2,
          2,
          2,
          2,
          2,
          2,
          2,
          2,
          2,
          2,
          2,
          2,
          2,
          2,
          2,
          2,
          2,
          2,
          2,
          2,
          2,
          2,
          2,
          2,
          2,
          2,
          2,
          2,
          2,
          2,
          2,
          2,
          2,
          2,
          2,
          2,
          2,
          2,
          2,
          2,
          2,
          2,
          2,
          2,
          2,
          2,
          2,
          2,
          2,
          2,
          2,
          2,
          2,
          2,
          2,
          2,
          2,
          2,
          2,
          2,
          2,
          2,
          2,
          2,
          2,
          2,
          2,
          2,
          2,
          2,
          2,
          2,
          2,
          2,
          2,
          2,
          2,
          2,
          2,
          2,
          2,
          2,
          2,
          2,
          2,
          2,
          2,
          2,
          2,
          2,
          2,
          2,
          2,
          2,
          2,
          2,
          2,
          2,
          2,
          2,
          2,
          2,
          2,
          2,
          2,
          2,
          2,
          2,
          2,
          2,
          2,
          2,
          2,
          2,
          2,
          2,
          2,
          2,
          2,
          2,
          2,
          2,
          2,
          2,
          2,
          2,
          2,
          2,
          2,
          2,
          2,
          2,
          2,
          2,
          2,
          2,
          2,
          2,
          2,
          2,
          2,
          2,
          2,
          2,
          2,
          2,
          2,
          2,
          2,
          2,
          2,
          2,
          2,
          2,
          2,
          2,
          2,
          2,
          2,
          2,
          2,
          2,
          2,
          2,
          2,
          2,
          2,
          2,
          2,
          2,
          2,
          2,
          2,
          2,
          2,
          2,
          2,
          2,
          2,
          2,
          2,
          2,
          2,
          2,
          2,
          2,
          2,
          2,
          2,
          2,
          2,
          2,
          2,
          2,
          2,
          2,
          2,
          2,
          2,
          2,
          2,
          2,
          2,
          2,
          2,
          2,
          1,
          1,
          1,
          1,
          1,
          1,
          1,
          1,
          1,
          1,
          1,
          1,
          1,
          1,
          1,
          1,
          1,
          1,
          1,
          1,
          1,
          1,
          1,
          1,
          1,
          1,
          1,
          1,
          1,
          1,
          1,
          1,
          1,
          1,
          1,
          1,
          1,
          1,
          1,
          1,
          1,
          1,
          1,
          1,
          1,
          1,
          1,
          1,
          1,
          1,
          1,
          1,
          1,
          1,
          1,
          1,
          1,
          1,
          1,
          1,
          1,
          1,
          1,
          1,
          1,
          1,
          1,
          1,
          1,
          1,
          1,
          1,
          1,
          1,
          1,
          1,
          1,
          1,
          1,
          1,
          1,
          1,
          1,
          1,
          1,
          1,
          1,
          1,
          1,
          1,
          1,
          1,
          1,
          1,
          1,
          1,
          1,
          1,
          1,
          1,
          1,
          1,
          1,
          1,
          1,
          1,
          1,
          1,
          1,
          1,
          1,
          1,
          1,
          1,
          1,
          1,
          1,
          1,
          1,
          1,
          1,
          1,
          1,
          1,
          1,
          1,
          1,
          1,
          1,
          1,
          1,
          1,
          1,
          1,
          1,
          1,
          1,
          1,
          1,
          1,
          1,
          1,
          1,
          1,
          1,
          1,
          1,
          1,
          1,
          1,
          1,
          1,
          1,
          1,
          1,
          1,
          1,
          1,
          1,
          1,
          1,
          1,
          1,
          1,
          1,
          1,
          1,
          1,
          1,
          1,
          1,
          1,
          1,
          1,
          1,
          1,
          1,
          1,
          1,
          1,
          1,
          1,
          1,
          1,
          1,
          1,
          1,
          1,
          1,
          1,
          1,
          1,
          1,
          1,
          1,
          1,
          1,
          1,
          1,
          1,
          1,
          1,
          1,
          1,
          1,
          1,
          1,
          1,
          1,
          1,
          1,
          1,
          1,
          1,
          1,
          1,
          1,
          1,
          1,
          1,
          1,
          1,
          1,
          1,
          1,
          1,
          1,
          1,
          1,
          1,
          1,
          1,
          1,
          1,
          1,
          1,
          1,
          1,
          1,
          1,
          1,
          1,
          1,
          1,
          1,
          1,
          1,
          1,
          1,
          1,
          1,
          1,
          1,
          1,
          1,
          1,
          1,
          1,
          1,
          1,
          1,
          1,
          1,
          1,
          1,
          1,
          1,
          1,
          1,
          1,
          1,
          1,
          1,
          1,
          1,
          1,
          1,
          1,
          1,
          1,
          1,
          1,
          1,
          1,
          1,
          1,
          1,
          1,
          1,
          1,
          1,
          1,
          1,
          1,
          1,
          1,
          1,
          1,
          1,
          1,
          1,
          1,
          1,
          1,
          1,
          1,
          1,
          1,
          1,
          1,
          1,
          1,
          1,
          1,
          1,
          1,
          1,
          1,
          1,
          1,
          1,
          1,
          1,
          1,
          1,
          1,
          1,
          1,
          1,
          1,
          1,
          1,
          1,
          1,
          1,
          1,
          1,
          1,
          1,
          1,
          1,
          1,
          1,
          1,
          1,
          1,
          1,
          1,
          1,
          1,
          1,
          1,
          1,
          1,
          1,
          1,
          1,
          1,
          1,
          1,
          1,
          1,
          1,
          1,
          1,
          1,
          1,
          1,
          1,
          1,
          1,
          1,
          1,
          1,
          1,
          1,
          1,
          1,
          1,
          1,
          1,
          1,
          1,
          1,
          1,
          1,
          1,
          1,
          1,
          1,
          1,
          1,
          1,
          1,
          1,
          1,
          1,
          1,
          1,
          1,
          1,
          1,
          1,
          1,
          1,
          1,
          1,
          1,
          1,
          1,
          1,
          1,
          1,
          1,
          1,
          1,
          1,
          1,
          1,
          1,
          1,
          1,
          1,
          1,
          1,
          1,
          1,
          1,
          1,
          1,
          1,
          1,
          1,
          1,
          1,
          1,
          1,
          1,
          1,
          1,
          1,
          1,
          1,
          1,
          1,
          1,
          1,
          1,
          1,
          1,
          1,
          1,
          1,
          1,
          1,
          1,
          1,
          1,
          1,
          1,
          1,
          1,
          1,
          1,
          1,
          1,
          1,
          1,
          1,
          1,
          1,
          1,
          1,
          1,
          1,
          1,
          1,
          1,
          1,
          1
         ]
        }
       ],
       "layout": {
        "legend": {
         "title": {
          "text": "CS label"
         }
        },
        "template": {
         "data": {
          "bar": [
           {
            "error_x": {
             "color": "#2a3f5f"
            },
            "error_y": {
             "color": "#2a3f5f"
            },
            "marker": {
             "line": {
              "color": "#E5ECF6",
              "width": 0.5
             },
             "pattern": {
              "fillmode": "overlay",
              "size": 10,
              "solidity": 0.2
             }
            },
            "type": "bar"
           }
          ],
          "barpolar": [
           {
            "marker": {
             "line": {
              "color": "#E5ECF6",
              "width": 0.5
             },
             "pattern": {
              "fillmode": "overlay",
              "size": 10,
              "solidity": 0.2
             }
            },
            "type": "barpolar"
           }
          ],
          "carpet": [
           {
            "aaxis": {
             "endlinecolor": "#2a3f5f",
             "gridcolor": "white",
             "linecolor": "white",
             "minorgridcolor": "white",
             "startlinecolor": "#2a3f5f"
            },
            "baxis": {
             "endlinecolor": "#2a3f5f",
             "gridcolor": "white",
             "linecolor": "white",
             "minorgridcolor": "white",
             "startlinecolor": "#2a3f5f"
            },
            "type": "carpet"
           }
          ],
          "choropleth": [
           {
            "colorbar": {
             "outlinewidth": 0,
             "ticks": ""
            },
            "type": "choropleth"
           }
          ],
          "contour": [
           {
            "colorbar": {
             "outlinewidth": 0,
             "ticks": ""
            },
            "colorscale": [
             [
              0,
              "#0d0887"
             ],
             [
              0.1111111111111111,
              "#46039f"
             ],
             [
              0.2222222222222222,
              "#7201a8"
             ],
             [
              0.3333333333333333,
              "#9c179e"
             ],
             [
              0.4444444444444444,
              "#bd3786"
             ],
             [
              0.5555555555555556,
              "#d8576b"
             ],
             [
              0.6666666666666666,
              "#ed7953"
             ],
             [
              0.7777777777777778,
              "#fb9f3a"
             ],
             [
              0.8888888888888888,
              "#fdca26"
             ],
             [
              1,
              "#f0f921"
             ]
            ],
            "type": "contour"
           }
          ],
          "contourcarpet": [
           {
            "colorbar": {
             "outlinewidth": 0,
             "ticks": ""
            },
            "type": "contourcarpet"
           }
          ],
          "heatmap": [
           {
            "colorbar": {
             "outlinewidth": 0,
             "ticks": ""
            },
            "colorscale": [
             [
              0,
              "#0d0887"
             ],
             [
              0.1111111111111111,
              "#46039f"
             ],
             [
              0.2222222222222222,
              "#7201a8"
             ],
             [
              0.3333333333333333,
              "#9c179e"
             ],
             [
              0.4444444444444444,
              "#bd3786"
             ],
             [
              0.5555555555555556,
              "#d8576b"
             ],
             [
              0.6666666666666666,
              "#ed7953"
             ],
             [
              0.7777777777777778,
              "#fb9f3a"
             ],
             [
              0.8888888888888888,
              "#fdca26"
             ],
             [
              1,
              "#f0f921"
             ]
            ],
            "type": "heatmap"
           }
          ],
          "heatmapgl": [
           {
            "colorbar": {
             "outlinewidth": 0,
             "ticks": ""
            },
            "colorscale": [
             [
              0,
              "#0d0887"
             ],
             [
              0.1111111111111111,
              "#46039f"
             ],
             [
              0.2222222222222222,
              "#7201a8"
             ],
             [
              0.3333333333333333,
              "#9c179e"
             ],
             [
              0.4444444444444444,
              "#bd3786"
             ],
             [
              0.5555555555555556,
              "#d8576b"
             ],
             [
              0.6666666666666666,
              "#ed7953"
             ],
             [
              0.7777777777777778,
              "#fb9f3a"
             ],
             [
              0.8888888888888888,
              "#fdca26"
             ],
             [
              1,
              "#f0f921"
             ]
            ],
            "type": "heatmapgl"
           }
          ],
          "histogram": [
           {
            "marker": {
             "pattern": {
              "fillmode": "overlay",
              "size": 10,
              "solidity": 0.2
             }
            },
            "type": "histogram"
           }
          ],
          "histogram2d": [
           {
            "colorbar": {
             "outlinewidth": 0,
             "ticks": ""
            },
            "colorscale": [
             [
              0,
              "#0d0887"
             ],
             [
              0.1111111111111111,
              "#46039f"
             ],
             [
              0.2222222222222222,
              "#7201a8"
             ],
             [
              0.3333333333333333,
              "#9c179e"
             ],
             [
              0.4444444444444444,
              "#bd3786"
             ],
             [
              0.5555555555555556,
              "#d8576b"
             ],
             [
              0.6666666666666666,
              "#ed7953"
             ],
             [
              0.7777777777777778,
              "#fb9f3a"
             ],
             [
              0.8888888888888888,
              "#fdca26"
             ],
             [
              1,
              "#f0f921"
             ]
            ],
            "type": "histogram2d"
           }
          ],
          "histogram2dcontour": [
           {
            "colorbar": {
             "outlinewidth": 0,
             "ticks": ""
            },
            "colorscale": [
             [
              0,
              "#0d0887"
             ],
             [
              0.1111111111111111,
              "#46039f"
             ],
             [
              0.2222222222222222,
              "#7201a8"
             ],
             [
              0.3333333333333333,
              "#9c179e"
             ],
             [
              0.4444444444444444,
              "#bd3786"
             ],
             [
              0.5555555555555556,
              "#d8576b"
             ],
             [
              0.6666666666666666,
              "#ed7953"
             ],
             [
              0.7777777777777778,
              "#fb9f3a"
             ],
             [
              0.8888888888888888,
              "#fdca26"
             ],
             [
              1,
              "#f0f921"
             ]
            ],
            "type": "histogram2dcontour"
           }
          ],
          "mesh3d": [
           {
            "colorbar": {
             "outlinewidth": 0,
             "ticks": ""
            },
            "type": "mesh3d"
           }
          ],
          "parcoords": [
           {
            "line": {
             "colorbar": {
              "outlinewidth": 0,
              "ticks": ""
             }
            },
            "type": "parcoords"
           }
          ],
          "pie": [
           {
            "automargin": true,
            "type": "pie"
           }
          ],
          "scatter": [
           {
            "fillpattern": {
             "fillmode": "overlay",
             "size": 10,
             "solidity": 0.2
            },
            "type": "scatter"
           }
          ],
          "scatter3d": [
           {
            "line": {
             "colorbar": {
              "outlinewidth": 0,
              "ticks": ""
             }
            },
            "marker": {
             "colorbar": {
              "outlinewidth": 0,
              "ticks": ""
             }
            },
            "type": "scatter3d"
           }
          ],
          "scattercarpet": [
           {
            "marker": {
             "colorbar": {
              "outlinewidth": 0,
              "ticks": ""
             }
            },
            "type": "scattercarpet"
           }
          ],
          "scattergeo": [
           {
            "marker": {
             "colorbar": {
              "outlinewidth": 0,
              "ticks": ""
             }
            },
            "type": "scattergeo"
           }
          ],
          "scattergl": [
           {
            "marker": {
             "colorbar": {
              "outlinewidth": 0,
              "ticks": ""
             }
            },
            "type": "scattergl"
           }
          ],
          "scattermapbox": [
           {
            "marker": {
             "colorbar": {
              "outlinewidth": 0,
              "ticks": ""
             }
            },
            "type": "scattermapbox"
           }
          ],
          "scatterpolar": [
           {
            "marker": {
             "colorbar": {
              "outlinewidth": 0,
              "ticks": ""
             }
            },
            "type": "scatterpolar"
           }
          ],
          "scatterpolargl": [
           {
            "marker": {
             "colorbar": {
              "outlinewidth": 0,
              "ticks": ""
             }
            },
            "type": "scatterpolargl"
           }
          ],
          "scatterternary": [
           {
            "marker": {
             "colorbar": {
              "outlinewidth": 0,
              "ticks": ""
             }
            },
            "type": "scatterternary"
           }
          ],
          "surface": [
           {
            "colorbar": {
             "outlinewidth": 0,
             "ticks": ""
            },
            "colorscale": [
             [
              0,
              "#0d0887"
             ],
             [
              0.1111111111111111,
              "#46039f"
             ],
             [
              0.2222222222222222,
              "#7201a8"
             ],
             [
              0.3333333333333333,
              "#9c179e"
             ],
             [
              0.4444444444444444,
              "#bd3786"
             ],
             [
              0.5555555555555556,
              "#d8576b"
             ],
             [
              0.6666666666666666,
              "#ed7953"
             ],
             [
              0.7777777777777778,
              "#fb9f3a"
             ],
             [
              0.8888888888888888,
              "#fdca26"
             ],
             [
              1,
              "#f0f921"
             ]
            ],
            "type": "surface"
           }
          ],
          "table": [
           {
            "cells": {
             "fill": {
              "color": "#EBF0F8"
             },
             "line": {
              "color": "white"
             }
            },
            "header": {
             "fill": {
              "color": "#C8D4E3"
             },
             "line": {
              "color": "white"
             }
            },
            "type": "table"
           }
          ]
         },
         "layout": {
          "annotationdefaults": {
           "arrowcolor": "#2a3f5f",
           "arrowhead": 0,
           "arrowwidth": 1
          },
          "autotypenumbers": "strict",
          "coloraxis": {
           "colorbar": {
            "outlinewidth": 0,
            "ticks": ""
           }
          },
          "colorscale": {
           "diverging": [
            [
             0,
             "#8e0152"
            ],
            [
             0.1,
             "#c51b7d"
            ],
            [
             0.2,
             "#de77ae"
            ],
            [
             0.3,
             "#f1b6da"
            ],
            [
             0.4,
             "#fde0ef"
            ],
            [
             0.5,
             "#f7f7f7"
            ],
            [
             0.6,
             "#e6f5d0"
            ],
            [
             0.7,
             "#b8e186"
            ],
            [
             0.8,
             "#7fbc41"
            ],
            [
             0.9,
             "#4d9221"
            ],
            [
             1,
             "#276419"
            ]
           ],
           "sequential": [
            [
             0,
             "#0d0887"
            ],
            [
             0.1111111111111111,
             "#46039f"
            ],
            [
             0.2222222222222222,
             "#7201a8"
            ],
            [
             0.3333333333333333,
             "#9c179e"
            ],
            [
             0.4444444444444444,
             "#bd3786"
            ],
            [
             0.5555555555555556,
             "#d8576b"
            ],
            [
             0.6666666666666666,
             "#ed7953"
            ],
            [
             0.7777777777777778,
             "#fb9f3a"
            ],
            [
             0.8888888888888888,
             "#fdca26"
            ],
            [
             1,
             "#f0f921"
            ]
           ],
           "sequentialminus": [
            [
             0,
             "#0d0887"
            ],
            [
             0.1111111111111111,
             "#46039f"
            ],
            [
             0.2222222222222222,
             "#7201a8"
            ],
            [
             0.3333333333333333,
             "#9c179e"
            ],
            [
             0.4444444444444444,
             "#bd3786"
            ],
            [
             0.5555555555555556,
             "#d8576b"
            ],
            [
             0.6666666666666666,
             "#ed7953"
            ],
            [
             0.7777777777777778,
             "#fb9f3a"
            ],
            [
             0.8888888888888888,
             "#fdca26"
            ],
            [
             1,
             "#f0f921"
            ]
           ]
          },
          "colorway": [
           "#636efa",
           "#EF553B",
           "#00cc96",
           "#ab63fa",
           "#FFA15A",
           "#19d3f3",
           "#FF6692",
           "#B6E880",
           "#FF97FF",
           "#FECB52"
          ],
          "font": {
           "color": "#2a3f5f"
          },
          "geo": {
           "bgcolor": "white",
           "lakecolor": "white",
           "landcolor": "#E5ECF6",
           "showlakes": true,
           "showland": true,
           "subunitcolor": "white"
          },
          "hoverlabel": {
           "align": "left"
          },
          "hovermode": "closest",
          "mapbox": {
           "style": "light"
          },
          "paper_bgcolor": "white",
          "plot_bgcolor": "#E5ECF6",
          "polar": {
           "angularaxis": {
            "gridcolor": "white",
            "linecolor": "white",
            "ticks": ""
           },
           "bgcolor": "#E5ECF6",
           "radialaxis": {
            "gridcolor": "white",
            "linecolor": "white",
            "ticks": ""
           }
          },
          "scene": {
           "xaxis": {
            "backgroundcolor": "#E5ECF6",
            "gridcolor": "white",
            "gridwidth": 2,
            "linecolor": "white",
            "showbackground": true,
            "ticks": "",
            "zerolinecolor": "white"
           },
           "yaxis": {
            "backgroundcolor": "#E5ECF6",
            "gridcolor": "white",
            "gridwidth": 2,
            "linecolor": "white",
            "showbackground": true,
            "ticks": "",
            "zerolinecolor": "white"
           },
           "zaxis": {
            "backgroundcolor": "#E5ECF6",
            "gridcolor": "white",
            "gridwidth": 2,
            "linecolor": "white",
            "showbackground": true,
            "ticks": "",
            "zerolinecolor": "white"
           }
          },
          "shapedefaults": {
           "line": {
            "color": "#2a3f5f"
           }
          },
          "ternary": {
           "aaxis": {
            "gridcolor": "white",
            "linecolor": "white",
            "ticks": ""
           },
           "baxis": {
            "gridcolor": "white",
            "linecolor": "white",
            "ticks": ""
           },
           "bgcolor": "#E5ECF6",
           "caxis": {
            "gridcolor": "white",
            "linecolor": "white",
            "ticks": ""
           }
          },
          "title": {
           "x": 0.05
          },
          "xaxis": {
           "automargin": true,
           "gridcolor": "white",
           "linecolor": "white",
           "ticks": "",
           "title": {
            "standoff": 15
           },
           "zerolinecolor": "white",
           "zerolinewidth": 2
          },
          "yaxis": {
           "automargin": true,
           "gridcolor": "white",
           "linecolor": "white",
           "ticks": "",
           "title": {
            "standoff": 15
           },
           "zerolinecolor": "white",
           "zerolinewidth": 2
          }
         }
        },
        "title": {
         "text": "cognatehood_1"
        },
        "xaxis": {
         "title": {
          "text": "cognatehood_1 score"
         }
        },
        "yaxis": {
         "title": {
          "text": "count"
         }
        }
       }
      },
      "text/html": [
       "<div>                            <div id=\"de8bbcd0-cf9c-47a4-b7fb-d0ae9cc04da0\" class=\"plotly-graph-div\" style=\"height:525px; width:100%;\"></div>            <script type=\"text/javascript\">                require([\"plotly\"], function(Plotly) {                    window.PLOTLYENV=window.PLOTLYENV || {};                                    if (document.getElementById(\"de8bbcd0-cf9c-47a4-b7fb-d0ae9cc04da0\")) {                    Plotly.newPlot(                        \"de8bbcd0-cf9c-47a4-b7fb-d0ae9cc04da0\",                        [{\"mode\":\"markers\",\"name\":\"1\",\"opacity\":1,\"x\":[0.0,0.3304,0.4105,0.54,0.3059,0.3318,0.4466,0.3362,0.5447,0.4551,0.4504,0.3612,0.3584,0.4219,0.3726,0.3152,0.5197,0.2886,0.4091,0.3976,0.2907,0.2643,0.2879,0.328,0.473,0.3341,0.2706,0.4065,0.3117,0.255,0.233,0.3395,0.4056,0.3236,0.4,0.2564,0.4772,0.2181,0.4723,0.2813,0.4705,0.2928,0.347,0.307,0.4691,0.3838,0.3747,0.3899,0.2722,0.3222,0.4126,0.3866,0.7768,0.2295,0.6145,0.3549,0.2671,0.4396,0.222,0.2396,0.3306,0.6528,0.8482,0.5534,0.3965,0.3619,0.3201,0.3656,0.5391,0.2771,0.4228,0.6227,0.2855,0.502,0.3378,0.2975,0.3325,0.3035,0.3642,0.3224,0.3596,0.4712,0.3397,0.2998,0.5389,0.512,0.5335,0.5202,0.6591,0.4646,0.2895,0.4698,0.431,0.357,0.2036,0.8191,0.3322,0.4658,0.3061,0.6283,0.427,0.5902,0.2631,0.3115,0.3911,0.5788,0.1725,0.2239,0.2431,0.3329,0.4282,0.2575,0.3157,0.5517,0.5482,0.4422,0.8506,0.3514,0.3014,0.4256,0.2517,0.5839,0.3166,0.2697,0.399,0.3479,0.3682,0.3047,0.6397,0.5312,0.4812,0.5968,0.3143,0.4406,0.3778,0.2881,0.3313,0.3586,0.4532,0.3663,0.2536,0.2832,0.4028,0.3435,0.586,0.5863,0.3887,0.1445,0.8697,0.2926,0.6124,0.3633,0.7579,0.4537,0.8076,0.7509,0.3463,0.629,0.4217,0.4455,0.3526,0.3444,0.7686,0.4534,0.212,0.4233,0.4567,0.4434,0.3301,0.1989,0.3796,0.7189,0.6215,0.2608,0.562,0.3505,0.3687,0.5667,0.9477,0.5144,0.3161,0.5316,0.742,0.7299,0.2013,0.4796,0.611,0.374,0.449,0.5837,0.5909,0.5363,0.6636,0.3941,0.5646,0.83,0.4354,0.4037,0.6701,0.474,0.3801,0.4733,0.4791,0.487,0.3346,0.7752,0.3806,0.728,0.7927,0.2174,0.4245,0.2825,0.3703,0.2603,0.8258,0.1609,0.3348,0.8426,0.4049,0.8473,0.1826,0.5085,0.5816,0.3266,0.3425,0.4168,0.9129,0.5232,0.2979,0.4098,0.777,0.2384,0.6997,0.5279,0.3294,0.6972,0.3,0.3638,0.619,0.4838,0.2162,0.2197,0.3311,0.979,0.2844,0.3729,0.3456,0.3565,0.3264,0.4558,0.6472,0.4382,0.6085,0.3617,0.4628,0.5006,0.7562,0.6353,0.4366,0.4058,0.2351,0.5867,0.6556,0.4527,0.3684,0.707,0.4471,0.1756,0.3969,0.5251,0.3827,0.3883,0.752,0.2837,0.2104,0.5048,0.3103,0.5858,0.8377,0.2664,0.2725,0.7574,0.2662,0.8116,0.7726,0.4077,0.735,0.208,0.5347,0.5242,0.2204,0.7152,0.3299,0.4971,0.5751,0.4373,0.6318,0.2454,0.6535,0.3598,0.4889,0.3126,0.3523,0.4882,0.7548,0.5548,0.6813,0.625,0.4119,0.318,0.6047,0.5328,0.4803,0.4614,0.3759,0.2715,0.5466,0.6171,0.7114,0.4609,0.2153,0.7427,0.5433,0.7794,0.417,0.2246,0.3738,0.5804,0.6099,0.5384,0.241,0.2954,0.6673,0.2599,0.7217,0.4483,0.7497,0.3771,0.3824,0.3979,0.5214,0.4247,0.6187,0.2942,0.5942,0.4039,0.4114,0.407,0.6603,0.6647,0.5573,0.3336,0.5382,0.7,0.4086,0.3024,0.3154,0.5062,0.7488,0.4147,0.3185,0.8531,0.226,0.4088,0.1644,0.9103,0.5025,0.513,0.2984,0.5172,0.3733,0.9279,0.7215,0.6986,0.3297,0.3075,0.9145,0.2083,0.5541,0.5064,0.382,0.5438,0.4361,0.6204,0.4289,0.6271,0.7032,0.4184,0.2629,0.5487,0.5067,0.4212,0.5377,0.5954,0.6005,0.7703,0.6895,0.7387,0.7691,0.8536,0.947,0.622,0.8071,0.2251,0.7046,0.6799,0.6804,0.7257,0.3544,0.6341,0.4312,0.286,0.2363,0.7205,0.4565,0.3967,0.4403,0.3453,0.5139,0.4919,0.5508,0.8165,0.6211,0.5515,0.7803,0.5613,0.6416,0.354,0.714,0.4193,0.4401,0.5351,0.4032,0.778,0.5473,0.6253,0.6306,0.3439,0.2718,0.293,0.4492,0.5417,0.7864,0.4994,0.406,0.4845,0.6113,0.3997,0.6871,0.2858,0.4385,0.4819,0.6678,0.5274,0.3794,0.8788,0.2636,0.7292,0.6953,0.2991,0.696,0.3918,0.4639],\"y\":[2500,96,70,56,41,39,37,34,33,33,32,28,27,26,25,24,22,22,21,19,19,18,17,16,14,11,11,10,9,9,9,9,9,9,9,8,8,8,7,7,7,7,7,7,7,7,7,7,7,7,7,7,6,6,6,6,6,6,6,6,5,5,5,5,5,5,5,5,5,4,4,4,4,4,4,4,4,4,4,4,4,4,4,4,4,4,4,3,3,3,3,3,3,3,3,3,3,3,3,3,3,3,3,3,3,3,3,3,3,3,3,3,3,2,2,2,2,2,2,2,2,2,2,2,2,2,2,2,2,2,2,2,2,2,2,2,2,2,2,2,2,2,2,2,2,2,2,2,2,2,2,2,2,2,2,2,2,2,2,2,2,2,2,2,2,2,2,2,2,2,2,2,2,2,2,2,2,2,2,2,2,2,2,2,2,2,2,2,2,2,2,2,2,1,1,1,1,1,1,1,1,1,1,1,1,1,1,1,1,1,1,1,1,1,1,1,1,1,1,1,1,1,1,1,1,1,1,1,1,1,1,1,1,1,1,1,1,1,1,1,1,1,1,1,1,1,1,1,1,1,1,1,1,1,1,1,1,1,1,1,1,1,1,1,1,1,1,1,1,1,1,1,1,1,1,1,1,1,1,1,1,1,1,1,1,1,1,1,1,1,1,1,1,1,1,1,1,1,1,1,1,1,1,1,1,1,1,1,1,1,1,1,1,1,1,1,1,1,1,1,1,1,1,1,1,1,1,1,1,1,1,1,1,1,1,1,1,1,1,1,1,1,1,1,1,1,1,1,1,1,1,1,1,1,1,1,1,1,1,1,1,1,1,1,1,1,1,1,1,1,1,1,1,1,1,1,1,1,1,1,1,1,1,1,1,1,1,1,1,1,1,1,1,1,1,1,1,1,1,1,1,1,1,1,1,1,1,1,1,1,1,1,1,1,1,1,1,1,1,1,1,1,1,1,1,1,1,1,1,1,1,1,1,1,1,1,1,1,1,1,1,1,1,1,1,1,1,1,1,1,1,1,1,1,1,1,1,1,1,1,1,1,1],\"type\":\"scatter\"},{\"mode\":\"markers\",\"name\":\"0\",\"opacity\":0.5,\"x\":[0.0,0.3304,0.3318,0.4105,0.54,0.3059,0.4466,0.3362,0.5447,0.4219,0.4504,0.3726,0.3612,0.255,0.4056,0.4,0.2879,0.3152,0.4091,0.473,0.4551,0.2907,0.3584,0.3236,0.2886,0.3976,0.347,0.328,0.3899,0.3341,0.5197,0.2643,0.233,0.3201,0.3866,0.6145,0.3395,0.2706,0.4772,0.3222,0.3965,0.4396,0.4712,0.2813,0.307,0.2671,0.4028,0.2396,0.5316,0.2928,0.3117,0.3656,0.2295,0.3596,0.2998,0.4126,0.4705,0.4723,0.431,0.5534,0.4791,0.2564,0.4065,0.3663,0.512,0.5389,0.2975,0.2181,0.3642,0.4039,0.4691,0.474,0.449,0.2608,0.6227,0.2771,0.3747,0.5484,0.3224,0.374,0.3311,0.3322,0.222,0.6647,0.5713,0.4046,0.2722,0.8482,0.3327,0.2351,0.6528,0.212,0.3838,0.8531,0.3505,0.3397,0.4527,0.3444,0.2631,0.1725,0.3549,0.357,0.315,0.2697,0.3453,0.4361,0.286,0.3449,0.5391,0.4228,0.3306,0.4919,0.7875,0.3035,0.3619,0.2431,0.4119,0.7231,0.8076,0.2174,0.4803,0.2855,0.4646,0.4796,0.3568,0.544,0.3759,0.3336,0.2171,0.5718,0.2204,0.5902,0.8191,0.5025,0.4212,0.5867,0.2881,0.3329,0.6997,0.3266,0.4434,0.586,0.6619,0.4077,0.5067,0.4147,0.7336,0.2575,0.3724,0.3733,0.3325,0.7299,0.7794,0.2715,0.3731,0.3161,0.3103,0.5863,0.3687,0.3997,0.3682,0.304,0.7152,0.4053,0.4541,0.6159,0.8226,0.6085,0.5309,0.2832,0.4168,0.5839,0.2655,0.2895,0.5466,0.399,0.4217,0.579,0.5179,0.4502,0.6507,0.629,0.3456,0.4471,0.6353,0.3901,0.3054,0.2942,0.4698,0.7768,0.2954,0.4387,0.3498,0.7338,0.5494,0.5433,0.562,0.8039,0.3301,0.3115,0.5517,0.5144,0.4537,0.4366,0.3969,0.6253,0.5657,0.619,0.6624,0.4994,0.8506,0.1609,0.5541,0.4639,0.1445,0.4987,0.3313,0.3526,0.6591,0.5335,0.4282,0.4373,0.5085,0.2713,0.4499,0.5279,0.3075,0.4726,0.3348,0.427,0.5884,0.3773,0.3495,0.2762,0.7703,0.5414,0.4728,0.5986,0.6888,0.1268,0.4936,0.258,0.6895,0.3579,0.3638,0.5202,0.8816,0.2239,0.5991,0.5363,0.3472,0.665,0.2036,0.2197,0.3061,0.5825,0.3512,0.8473,0.4807,0.3607,0.6099,0.2965,0.452,0.3514,0.5048,0.6059,0.615,0.728,0.4845,0.453,0.3519,0.5286,0.5445,0.2935,0.3133,0.2536,0.7579,0.5377,0.4534,0.3782,0.7145,0.3227,0.4628,0.8693,0.3824,0.5739,0.2363,0.4422,0.41,0.9757,0.241,0.6451,0.2629,0.3808,0.6416,0.6141,0.3883,0.3887,0.6498,0.5793,0.4156,0.2844,0.4256,0.2508,0.5548,0.2718,0.3869,0.2519,0.4763,0.4873,0.4831,0.8697,0.5482,0.6124,0.6827,0.3738,0.3796,0.6969,0.3346,0.4095,0.3943,0.3633,0.3287,0.3598,0.2489,0.5274,0.7427,0.8849,0.732,0.6215,0.3794,0.3801,0.5487,0.6362,0.3876,0.4782,0.3418,0.643,0.4263,0.3147,0.3187,0.7296,0.7654,0.5214,0.9148,0.4436,0.5232,0.4245,0.4259,0.7682,0.513,0.3131,0.3631,0.509,0.5438,0.5758,0.7252,0.682,0.6556,0.4301,0.4385,0.7257,0.6862,0.279,0.2991,0.3582,0.6521,0.2909,0.6673,0.3715,0.4968,0.4758,0.2659,0.6801,0.4838,0.5954,0.8798,0.622,0.3778,0.6717,0.5968,0.4058,0.8228,0.6547,0.2893,0.2837,0.2694,0.2162,0.2153,0.2452,0.7121,0.7028,0.5461,0.4002,0.5573,0.8106,0.6792,0.4635,0.6512,0.6951,0.7551,0.1751,0.583,0.7046,0.6255,0.5702,0.4037,0.4677,0.2447,0.6028,0.5123,0.5671,0.321,0.3754,0.7457,0.3617,0.2403,0.7212,0.9498,0.7509,0.3953,0.6031,0.3283,0.3241,0.4233,0.3164,0.2622,0.844,0.2979,0.71,0.5923,0.7488,0.5412,0.6453,0.5837,0.1756,0.6523,0.3486,0.8116,0.5914,0.2013,0.5006,0.4266,0.3911,0.6101,0.6397,0.4819,0.3166,0.7693,0.3255,0.5155,0.7282,0.5417,0.4051,0.3402,0.8872,0.3565,0.4007,0.4049,0.9092,0.2115,0.4086,0.3259,0.4455,0.7067,0.4894,0.5172,0.7037,0.4642,0.2414,0.4249,0.4462,0.3122,0.9057,0.3124,0.4429,0.5032,0.5097,0.2202,0.6187,0.3834,0.8781,0.3827,0.7964,0.5118,0.2384,0.4882,0.5384,0.4663,0.6211,0.2501,0.3343,0.8933,0.6514,0.2785,0.5251,0.4565,0.7,0.6638,0.3528,0.6213,0.3939,0.1805,0.4737,0.6605,0.573,0.7035,0.6334,0.3392,0.9103,0.414,0.3572,0.742,0.2232,0.4971,0.749,0.6603,0.5351,0.8613,0.3745,0.4856,0.2057,0.8492,0.6967,0.4546,0.3983,0.6804,0.3523,0.4347,0.6636,0.4303,0.2459,0.6262,0.3199,0.5629,0.4929,0.2848,0.3785,0.7574,0.3647,0.5305,0.3915,0.4492,0.6727,0.6825,0.2956,0.3703,0.3577,0.2949,0.6138,0.2473,0.7107,0.2839,0.7945,0.4289,0.5421,0.8618,0.8424,0.6271,0.4135,0.3154,0.4445,0.6806,0.5578,0.4901,0.6201,0.8749,0.3234,0.6367,0.9106,0.7915,0.2657,0.2984,0.625,0.4322,0.6264,0.3143,0.2582,0.4579,0.4247,0.1714,0.3624,0.4922,0.6995,0.3119,0.6113,0.5769,0.5676,0.1375,0.2858,0.5295,0.8536,0.5807,0.3771,0.752,0.5064,0.389,0.59,0.435,0.3948,0.7243,0.5804,0.647,0.3463,0.6668,0.7712,0.4079,0.6267,0.7822,0.7894,0.4884,0.5611,0.5587,0.9185,0.608,0.1826,0.3764,0.7614,0.6563,0.5865,0.3409,0.4903,0.4602,0.7999,0.4506,0.5942,0.5242,0.5505,0.7754,0.4023,0.2673,0.696,0.6292,0.7208,0.3488,0.3399,0.6283,0.3014,0.3736,0.7959,0.8317,0.5748,0.2578,0.1996,0.3215,0.7373,0.8784,0.4193,0.4567,0.8352,0.3378,0.4779,0.7625,0.7303,0.6829,0.7245,0.2428,0.5029,0.403,0.7929,0.6355,0.8064,0.679,0.2246,0.6449,0.5958,0.3196,0.2825,0.4623,0.4532,0.7453,0.4382,0.8552,0.3502,0.314,0.4889,0.7616,0.7278,0.336,0.7686,0.6983,0.4954,0.947,0.7588,0.4931,0.3264,0.4448,0.294,0.7562,0.2725,0.7189,0.7114,0.346,0.5113,0.3175,0.6584,0.653,0.325,0.2781,0.626,0.3,0.3941,0.8004,0.685,0.2795,0.838,0.2164,0.1819,0.2926,0.4312,0.5347,0.4875,0.5265,0.4032,0.456,0.6797,0.421,0.8585,0.4338,0.777,0.6706,0.8576,0.6939,0.6526,0.3936,0.7194,0.2379,0.7826,0.3491,0.3729,0.2339,0.3589,0.3927,0.8648,0.3038,0.2183,0.4681,0.8905,0.7829,0.3556,0.5622,0.502,0.7691,0.3666,0.5237,0.6082,0.2227,0.611,0.5258,0.5618,0.3981,0.6313,0.3621,0.3243,0.3439,0.8959,0.4088,0.6446,0.353,0.7411,0.4656,0.5781,0.6813,0.8966,0.3451,0.8373,0.7359,0.745,0.6341,0.477,0.5552,0.438,0.5099,0.2517,0.466,0.5468,0.6108,0.2424,0.2692,0.612,0.2297,0.282,0.6257,0.7889,0.5512,0.4457,0.3743,0.2662,0.7124,0.6654,0.407,0.6794,0.2746,0.1924,0.5235,0.2356,0.5667,0.4793,0.8844,0.3813,0.6537,0.4357,0.3908,0.7546,0.566,0.5998,0.6687,0.4158,0.5772,0.534,0.8657,0.6808,0.9479,0.6675,0.7525,0.3946,0.2652,0.7583,0.8735,0.4284,0.4604,0.5386,0.4485,0.4558,0.46,0.8071,0.3435,0.3428,0.699,0.6799,0.6769,0.2094,0.6743,0.5095,0.4014,0.6948,0.686,0.3376,0.3696,0.4151,0.8664,0.8767,0.5477,0.6778,0.6878,0.8013,0.7254,0.4331,0.4305,0.301,0.6432,0.2883,0.1852,0.8924,0.7364,0.9157,0.8361,0.4427,0.5244,0.3425,0.6577,0.4319,0.7675,0.329,0.6162,0.5148,0.36,0.2127,0.8256,0.481,0.3516,0.5039,0.5344,0.7721,0.5312,0.1884,0.3493,0.5111,0.2811,0.5816,0.6204,0.8202,0.3374,0.5797,0.7696,0.4021,0.173,0.3049,0.3299,0.6318,0.2071,0.2748,0.9297,0.6047,0.1709,0.4368,0.6909,0.5246,0.5062,0.6407,0.5641,0.5592,0.2989,0.4203,0.2869,0.6713,0.434,0.1261,0.417,0.3364,0.6839,0.4116,0.2755,0.5951,0.406,0.6701,0.4067,0.6671,0.2905,0.7334,0.5538,0.2293,0.4607,0.4569,0.2834,0.3371,0.5858,0.6299,0.3586,0.6892,0.3689,0.6755,0.4959,0.6953,0.7651,0.4719,0.5193,0.5368,0.4511,0.5225,0.4196,0.3357,0.4842,0.6038,0.7233,0.7485,0.6021,0.6832,0.3089,0.5604,0.5524,0.8111,0.498,0.3446,0.2916,0.5125,0.2986,0.5977,0.5846,0.5167,0.6369,0.5153,0.7541,0.6306,0.3705,0.4165,0.7184,0.6594,0.5218,0.1828,0.343,0.7002,0.42,0.8975,0.5239,0.2704,0.1114,0.7044,0.7994,0.5382,0.9279,0.7511,0.5615,0.636,0.2398,0.9031,0.2802,0.4343,0.2753,0.865,0.6986,0.8426,0.4224,0.318,0.8704,0.236,0.7128,0.4595,0.368,0.979,0.5594,0.7852,0.4621,0.3972,0.1837,0.8097,0.4478,0.618,0.2311,0.2792,0.5779,0.4749,0.8331,0.6332,0.558,0.5127,0.5648,0.6981,0.526,0.5081,0.4985,0.6218,0.4828,0.3892,0.6923,0.3091,0.7105,0.8823,0.7215,0.3934,0.332,0.9407,0.2664,0.1366,0.3535,0.6302,0.7808,0.6633,0.7074,0.4308,0.7177,0.7084,0.8046,0.5583,0.2449,0.8994,0.6897,0.3437,0.3507,0.442,0.7572,0.4352,0.6918,0.3542,0.4238,0.7506,0.897,0.6643,0.2669,0.2435,0.9307,0.4287,0.8791,0.5379,0.7222,0.1856,0.4525,0.6612,0.8947,0.7429,0.3416,0.858,0.5909,0.5106,0.8896,0.3864,0.4826,0.3918,0.4252,0.6005,0.9477,0.7191,0.7672,0.8562,0.6678,0.5508,0.2209,0.5356,0.2573,0.4637,0.6442,0.6554,0.7644,0.1802,0.2003,0.4632,0.6229,0.5828,0.9216,0.4658,0.8891,0.8464,0.4235,0.5979,0.8683,0.6348,0.248,0.3017,0.9099,0.2426,0.215,0.484,0.3385,0.6934,0.5786,0.4721,0.8431,0.6103,0.3768,0.5706,0.4982,0.4653,0.8034,0.8419,0.7803,0.7271,0.9082,0.7787,0.8282,0.5823,0.2912,0.4207,0.9101,0.3383,0.788,0.7159,0.7091,0.3294,0.4406,0.4011,0.4261,0.6374,0.5571,0.2213,0.5515,0.6899,0.2627,0.459,0.4354,0.4555,0.4336,0.5842,0.3033,0.3098,0.322,0.7581,0.6409,0.7948,0.3761,0.4254,0.7464,0.5874,0.2645,0.6682,0.4609,0.4488,0.4548,0.3822,0.3126,0.3369,0.127,0.6876,0.883,0.2571,0.5027,0.29,0.3101,0.7387,0.5249,0.7717,0.6288,0.3308,0.4399,0.7532,0.6057,0.6194,0.6143,0.3815,0.739,0.805,0.7663,0.3185,0.5809,0.0864,0.3213,0.692,0.4847,0.5933,0.7483,0.2683,0.0542,0.7938,0.371,0.7864,0.2143,0.8879,0.6869,0.2386,0.7371,0.3334,0.6274,0.7537,0.5146,0.5288,0.5737,0.7833,0.4852,0.3465,0.1781,0.2083,0.4098,0.6425,0.5774,0.714,0.572,0.4933,0.7397,0.4784,0.6696,0.837,0.7647,0.9054,0.3474,0.7775,0.5496,0.5158,0.3096,0.3432,0.6423,0.5711,0.1658,0.7838,0.4273,0.6916,0.8001,0.2648,0.5669,0.2764,0.7011,0.9071],\"y\":[12862,785,336,303,285,276,262,254,244,219,209,204,163,155,149,148,137,126,126,118,110,100,97,88,88,83,81,77,77,74,67,66,63,61,59,58,57,53,52,47,47,46,43,42,41,40,40,37,37,36,36,35,35,34,34,33,32,32,30,30,30,29,29,29,29,28,28,27,27,25,24,24,24,23,23,23,22,21,21,21,20,20,20,20,19,19,19,19,19,19,18,18,18,18,18,17,17,17,17,16,16,16,15,15,15,15,15,15,14,14,14,14,14,14,14,14,14,13,13,13,13,13,13,13,13,13,13,13,12,12,12,12,12,12,12,12,12,12,11,11,11,11,11,11,11,11,11,11,10,10,10,10,10,10,10,10,10,10,10,10,10,10,9,9,9,9,9,9,9,9,9,9,9,9,9,9,9,9,9,9,9,8,8,8,8,8,8,8,8,8,8,8,8,8,8,8,8,8,7,7,7,7,7,7,7,7,7,7,7,7,7,7,7,7,7,7,7,7,7,7,7,7,7,7,7,7,7,7,6,6,6,6,6,6,6,6,6,6,6,6,6,6,6,6,6,6,6,6,6,6,6,6,6,6,6,6,6,6,6,6,6,6,6,6,6,6,6,6,5,5,5,5,5,5,5,5,5,5,5,5,5,5,5,5,5,5,5,5,5,5,5,5,5,5,5,5,5,5,5,5,5,5,5,5,5,5,5,5,5,5,5,5,5,5,5,5,5,5,5,4,4,4,4,4,4,4,4,4,4,4,4,4,4,4,4,4,4,4,4,4,4,4,4,4,4,4,4,4,4,4,4,4,4,4,4,4,4,4,4,4,4,4,4,4,4,4,4,4,4,4,4,4,4,4,4,4,4,4,4,4,4,4,4,4,4,4,4,4,4,4,4,4,4,4,4,4,4,4,4,4,4,4,4,4,4,4,4,4,4,3,3,3,3,3,3,3,3,3,3,3,3,3,3,3,3,3,3,3,3,3,3,3,3,3,3,3,3,3,3,3,3,3,3,3,3,3,3,3,3,3,3,3,3,3,3,3,3,3,3,3,3,3,3,3,3,3,3,3,3,3,3,3,3,3,3,3,3,3,3,3,3,3,3,3,3,3,3,3,3,3,3,3,3,3,3,3,3,3,3,3,3,3,3,3,3,3,3,3,3,3,3,3,3,3,3,3,3,3,3,3,3,3,3,3,3,3,3,3,3,3,3,3,3,3,3,3,3,3,3,3,2,2,2,2,2,2,2,2,2,2,2,2,2,2,2,2,2,2,2,2,2,2,2,2,2,2,2,2,2,2,2,2,2,2,2,2,2,2,2,2,2,2,2,2,2,2,2,2,2,2,2,2,2,2,2,2,2,2,2,2,2,2,2,2,2,2,2,2,2,2,2,2,2,2,2,2,2,2,2,2,2,2,2,2,2,2,2,2,2,2,2,2,2,2,2,2,2,2,2,2,2,2,2,2,2,2,2,2,2,2,2,2,2,2,2,2,2,2,2,2,2,2,2,2,2,2,2,2,2,2,2,2,2,2,2,2,2,2,2,2,2,2,2,2,2,2,2,2,2,2,2,2,2,2,2,2,2,2,2,2,2,2,2,2,2,2,2,2,2,2,2,2,2,2,2,2,2,2,2,2,2,2,2,2,2,2,2,2,2,2,2,2,2,2,2,2,2,2,2,2,2,2,2,2,2,2,2,2,2,2,2,2,2,2,2,2,2,2,2,2,2,2,2,2,2,2,2,2,2,2,1,1,1,1,1,1,1,1,1,1,1,1,1,1,1,1,1,1,1,1,1,1,1,1,1,1,1,1,1,1,1,1,1,1,1,1,1,1,1,1,1,1,1,1,1,1,1,1,1,1,1,1,1,1,1,1,1,1,1,1,1,1,1,1,1,1,1,1,1,1,1,1,1,1,1,1,1,1,1,1,1,1,1,1,1,1,1,1,1,1,1,1,1,1,1,1,1,1,1,1,1,1,1,1,1,1,1,1,1,1,1,1,1,1,1,1,1,1,1,1,1,1,1,1,1,1,1,1,1,1,1,1,1,1,1,1,1,1,1,1,1,1,1,1,1,1,1,1,1,1,1,1,1,1,1,1,1,1,1,1,1,1,1,1,1,1,1,1,1,1,1,1,1,1,1,1,1,1,1,1,1,1,1,1,1,1,1,1,1,1,1,1,1,1,1,1,1,1,1,1,1,1,1,1,1,1,1,1,1,1,1,1,1,1,1,1,1,1,1,1,1,1,1,1,1,1,1,1,1,1,1,1,1,1,1,1,1,1,1,1,1,1,1,1,1,1,1,1,1,1,1,1,1,1,1,1,1,1,1,1,1,1,1,1,1,1,1,1,1,1,1,1,1,1,1,1,1,1,1,1,1,1,1,1,1,1,1,1,1,1,1,1,1,1,1,1,1,1,1,1,1,1,1,1,1,1,1,1,1,1,1,1,1,1,1,1,1,1,1,1,1,1,1,1,1,1,1,1,1,1,1,1,1,1,1,1,1,1,1,1,1,1,1,1,1,1,1,1,1,1,1,1,1,1,1,1,1,1,1,1,1,1,1,1,1,1,1,1,1,1,1,1,1,1,1,1,1,1,1,1,1,1,1,1,1,1,1,1,1,1,1,1,1,1,1,1,1,1,1,1,1,1,1,1,1,1,1,1,1,1,1,1,1,1,1,1,1,1,1,1,1,1,1,1,1,1,1,1,1,1,1,1,1,1,1,1,1,1,1,1,1,1,1,1,1,1,1,1,1,1,1,1,1,1,1,1,1,1,1,1,1,1,1,1,1,1,1,1,1,1,1,1,1,1,1,1,1,1,1,1],\"type\":\"scatter\"}],                        {\"template\":{\"data\":{\"histogram2dcontour\":[{\"type\":\"histogram2dcontour\",\"colorbar\":{\"outlinewidth\":0,\"ticks\":\"\"},\"colorscale\":[[0.0,\"#0d0887\"],[0.1111111111111111,\"#46039f\"],[0.2222222222222222,\"#7201a8\"],[0.3333333333333333,\"#9c179e\"],[0.4444444444444444,\"#bd3786\"],[0.5555555555555556,\"#d8576b\"],[0.6666666666666666,\"#ed7953\"],[0.7777777777777778,\"#fb9f3a\"],[0.8888888888888888,\"#fdca26\"],[1.0,\"#f0f921\"]]}],\"choropleth\":[{\"type\":\"choropleth\",\"colorbar\":{\"outlinewidth\":0,\"ticks\":\"\"}}],\"histogram2d\":[{\"type\":\"histogram2d\",\"colorbar\":{\"outlinewidth\":0,\"ticks\":\"\"},\"colorscale\":[[0.0,\"#0d0887\"],[0.1111111111111111,\"#46039f\"],[0.2222222222222222,\"#7201a8\"],[0.3333333333333333,\"#9c179e\"],[0.4444444444444444,\"#bd3786\"],[0.5555555555555556,\"#d8576b\"],[0.6666666666666666,\"#ed7953\"],[0.7777777777777778,\"#fb9f3a\"],[0.8888888888888888,\"#fdca26\"],[1.0,\"#f0f921\"]]}],\"heatmap\":[{\"type\":\"heatmap\",\"colorbar\":{\"outlinewidth\":0,\"ticks\":\"\"},\"colorscale\":[[0.0,\"#0d0887\"],[0.1111111111111111,\"#46039f\"],[0.2222222222222222,\"#7201a8\"],[0.3333333333333333,\"#9c179e\"],[0.4444444444444444,\"#bd3786\"],[0.5555555555555556,\"#d8576b\"],[0.6666666666666666,\"#ed7953\"],[0.7777777777777778,\"#fb9f3a\"],[0.8888888888888888,\"#fdca26\"],[1.0,\"#f0f921\"]]}],\"heatmapgl\":[{\"type\":\"heatmapgl\",\"colorbar\":{\"outlinewidth\":0,\"ticks\":\"\"},\"colorscale\":[[0.0,\"#0d0887\"],[0.1111111111111111,\"#46039f\"],[0.2222222222222222,\"#7201a8\"],[0.3333333333333333,\"#9c179e\"],[0.4444444444444444,\"#bd3786\"],[0.5555555555555556,\"#d8576b\"],[0.6666666666666666,\"#ed7953\"],[0.7777777777777778,\"#fb9f3a\"],[0.8888888888888888,\"#fdca26\"],[1.0,\"#f0f921\"]]}],\"contourcarpet\":[{\"type\":\"contourcarpet\",\"colorbar\":{\"outlinewidth\":0,\"ticks\":\"\"}}],\"contour\":[{\"type\":\"contour\",\"colorbar\":{\"outlinewidth\":0,\"ticks\":\"\"},\"colorscale\":[[0.0,\"#0d0887\"],[0.1111111111111111,\"#46039f\"],[0.2222222222222222,\"#7201a8\"],[0.3333333333333333,\"#9c179e\"],[0.4444444444444444,\"#bd3786\"],[0.5555555555555556,\"#d8576b\"],[0.6666666666666666,\"#ed7953\"],[0.7777777777777778,\"#fb9f3a\"],[0.8888888888888888,\"#fdca26\"],[1.0,\"#f0f921\"]]}],\"surface\":[{\"type\":\"surface\",\"colorbar\":{\"outlinewidth\":0,\"ticks\":\"\"},\"colorscale\":[[0.0,\"#0d0887\"],[0.1111111111111111,\"#46039f\"],[0.2222222222222222,\"#7201a8\"],[0.3333333333333333,\"#9c179e\"],[0.4444444444444444,\"#bd3786\"],[0.5555555555555556,\"#d8576b\"],[0.6666666666666666,\"#ed7953\"],[0.7777777777777778,\"#fb9f3a\"],[0.8888888888888888,\"#fdca26\"],[1.0,\"#f0f921\"]]}],\"mesh3d\":[{\"type\":\"mesh3d\",\"colorbar\":{\"outlinewidth\":0,\"ticks\":\"\"}}],\"scatter\":[{\"fillpattern\":{\"fillmode\":\"overlay\",\"size\":10,\"solidity\":0.2},\"type\":\"scatter\"}],\"parcoords\":[{\"type\":\"parcoords\",\"line\":{\"colorbar\":{\"outlinewidth\":0,\"ticks\":\"\"}}}],\"scatterpolargl\":[{\"type\":\"scatterpolargl\",\"marker\":{\"colorbar\":{\"outlinewidth\":0,\"ticks\":\"\"}}}],\"bar\":[{\"error_x\":{\"color\":\"#2a3f5f\"},\"error_y\":{\"color\":\"#2a3f5f\"},\"marker\":{\"line\":{\"color\":\"#E5ECF6\",\"width\":0.5},\"pattern\":{\"fillmode\":\"overlay\",\"size\":10,\"solidity\":0.2}},\"type\":\"bar\"}],\"scattergeo\":[{\"type\":\"scattergeo\",\"marker\":{\"colorbar\":{\"outlinewidth\":0,\"ticks\":\"\"}}}],\"scatterpolar\":[{\"type\":\"scatterpolar\",\"marker\":{\"colorbar\":{\"outlinewidth\":0,\"ticks\":\"\"}}}],\"histogram\":[{\"marker\":{\"pattern\":{\"fillmode\":\"overlay\",\"size\":10,\"solidity\":0.2}},\"type\":\"histogram\"}],\"scattergl\":[{\"type\":\"scattergl\",\"marker\":{\"colorbar\":{\"outlinewidth\":0,\"ticks\":\"\"}}}],\"scatter3d\":[{\"type\":\"scatter3d\",\"line\":{\"colorbar\":{\"outlinewidth\":0,\"ticks\":\"\"}},\"marker\":{\"colorbar\":{\"outlinewidth\":0,\"ticks\":\"\"}}}],\"scattermapbox\":[{\"type\":\"scattermapbox\",\"marker\":{\"colorbar\":{\"outlinewidth\":0,\"ticks\":\"\"}}}],\"scatterternary\":[{\"type\":\"scatterternary\",\"marker\":{\"colorbar\":{\"outlinewidth\":0,\"ticks\":\"\"}}}],\"scattercarpet\":[{\"type\":\"scattercarpet\",\"marker\":{\"colorbar\":{\"outlinewidth\":0,\"ticks\":\"\"}}}],\"carpet\":[{\"aaxis\":{\"endlinecolor\":\"#2a3f5f\",\"gridcolor\":\"white\",\"linecolor\":\"white\",\"minorgridcolor\":\"white\",\"startlinecolor\":\"#2a3f5f\"},\"baxis\":{\"endlinecolor\":\"#2a3f5f\",\"gridcolor\":\"white\",\"linecolor\":\"white\",\"minorgridcolor\":\"white\",\"startlinecolor\":\"#2a3f5f\"},\"type\":\"carpet\"}],\"table\":[{\"cells\":{\"fill\":{\"color\":\"#EBF0F8\"},\"line\":{\"color\":\"white\"}},\"header\":{\"fill\":{\"color\":\"#C8D4E3\"},\"line\":{\"color\":\"white\"}},\"type\":\"table\"}],\"barpolar\":[{\"marker\":{\"line\":{\"color\":\"#E5ECF6\",\"width\":0.5},\"pattern\":{\"fillmode\":\"overlay\",\"size\":10,\"solidity\":0.2}},\"type\":\"barpolar\"}],\"pie\":[{\"automargin\":true,\"type\":\"pie\"}]},\"layout\":{\"autotypenumbers\":\"strict\",\"colorway\":[\"#636efa\",\"#EF553B\",\"#00cc96\",\"#ab63fa\",\"#FFA15A\",\"#19d3f3\",\"#FF6692\",\"#B6E880\",\"#FF97FF\",\"#FECB52\"],\"font\":{\"color\":\"#2a3f5f\"},\"hovermode\":\"closest\",\"hoverlabel\":{\"align\":\"left\"},\"paper_bgcolor\":\"white\",\"plot_bgcolor\":\"#E5ECF6\",\"polar\":{\"bgcolor\":\"#E5ECF6\",\"angularaxis\":{\"gridcolor\":\"white\",\"linecolor\":\"white\",\"ticks\":\"\"},\"radialaxis\":{\"gridcolor\":\"white\",\"linecolor\":\"white\",\"ticks\":\"\"}},\"ternary\":{\"bgcolor\":\"#E5ECF6\",\"aaxis\":{\"gridcolor\":\"white\",\"linecolor\":\"white\",\"ticks\":\"\"},\"baxis\":{\"gridcolor\":\"white\",\"linecolor\":\"white\",\"ticks\":\"\"},\"caxis\":{\"gridcolor\":\"white\",\"linecolor\":\"white\",\"ticks\":\"\"}},\"coloraxis\":{\"colorbar\":{\"outlinewidth\":0,\"ticks\":\"\"}},\"colorscale\":{\"sequential\":[[0.0,\"#0d0887\"],[0.1111111111111111,\"#46039f\"],[0.2222222222222222,\"#7201a8\"],[0.3333333333333333,\"#9c179e\"],[0.4444444444444444,\"#bd3786\"],[0.5555555555555556,\"#d8576b\"],[0.6666666666666666,\"#ed7953\"],[0.7777777777777778,\"#fb9f3a\"],[0.8888888888888888,\"#fdca26\"],[1.0,\"#f0f921\"]],\"sequentialminus\":[[0.0,\"#0d0887\"],[0.1111111111111111,\"#46039f\"],[0.2222222222222222,\"#7201a8\"],[0.3333333333333333,\"#9c179e\"],[0.4444444444444444,\"#bd3786\"],[0.5555555555555556,\"#d8576b\"],[0.6666666666666666,\"#ed7953\"],[0.7777777777777778,\"#fb9f3a\"],[0.8888888888888888,\"#fdca26\"],[1.0,\"#f0f921\"]],\"diverging\":[[0,\"#8e0152\"],[0.1,\"#c51b7d\"],[0.2,\"#de77ae\"],[0.3,\"#f1b6da\"],[0.4,\"#fde0ef\"],[0.5,\"#f7f7f7\"],[0.6,\"#e6f5d0\"],[0.7,\"#b8e186\"],[0.8,\"#7fbc41\"],[0.9,\"#4d9221\"],[1,\"#276419\"]]},\"xaxis\":{\"gridcolor\":\"white\",\"linecolor\":\"white\",\"ticks\":\"\",\"title\":{\"standoff\":15},\"zerolinecolor\":\"white\",\"automargin\":true,\"zerolinewidth\":2},\"yaxis\":{\"gridcolor\":\"white\",\"linecolor\":\"white\",\"ticks\":\"\",\"title\":{\"standoff\":15},\"zerolinecolor\":\"white\",\"automargin\":true,\"zerolinewidth\":2},\"scene\":{\"xaxis\":{\"backgroundcolor\":\"#E5ECF6\",\"gridcolor\":\"white\",\"linecolor\":\"white\",\"showbackground\":true,\"ticks\":\"\",\"zerolinecolor\":\"white\",\"gridwidth\":2},\"yaxis\":{\"backgroundcolor\":\"#E5ECF6\",\"gridcolor\":\"white\",\"linecolor\":\"white\",\"showbackground\":true,\"ticks\":\"\",\"zerolinecolor\":\"white\",\"gridwidth\":2},\"zaxis\":{\"backgroundcolor\":\"#E5ECF6\",\"gridcolor\":\"white\",\"linecolor\":\"white\",\"showbackground\":true,\"ticks\":\"\",\"zerolinecolor\":\"white\",\"gridwidth\":2}},\"shapedefaults\":{\"line\":{\"color\":\"#2a3f5f\"}},\"annotationdefaults\":{\"arrowcolor\":\"#2a3f5f\",\"arrowhead\":0,\"arrowwidth\":1},\"geo\":{\"bgcolor\":\"white\",\"landcolor\":\"#E5ECF6\",\"subunitcolor\":\"white\",\"showland\":true,\"showlakes\":true,\"lakecolor\":\"white\"},\"title\":{\"x\":0.05},\"mapbox\":{\"style\":\"light\"}}},\"title\":{\"text\":\"cognatehood_1\"},\"xaxis\":{\"title\":{\"text\":\"cognatehood_1 score\"}},\"yaxis\":{\"title\":{\"text\":\"count\"}},\"legend\":{\"title\":{\"text\":\"CS label\"}}},                        {\"responsive\": true}                    ).then(function(){\n",
       "                            \n",
       "var gd = document.getElementById('de8bbcd0-cf9c-47a4-b7fb-d0ae9cc04da0');\n",
       "var x = new MutationObserver(function (mutations, observer) {{\n",
       "        var display = window.getComputedStyle(gd).display;\n",
       "        if (!display || display === 'none') {{\n",
       "            console.log([gd, 'removed!']);\n",
       "            Plotly.purge(gd);\n",
       "            observer.disconnect();\n",
       "        }}\n",
       "}});\n",
       "\n",
       "// Listen for the removal of the full notebook cells\n",
       "var notebookContainer = gd.closest('#notebook-container');\n",
       "if (notebookContainer) {{\n",
       "    x.observe(notebookContainer, {childList: true});\n",
       "}}\n",
       "\n",
       "// Listen for the clearing of the current output cell\n",
       "var outputEl = gd.closest('.output');\n",
       "if (outputEl) {{\n",
       "    x.observe(outputEl, {childList: true});\n",
       "}}\n",
       "\n",
       "                        })                };                });            </script>        </div>"
      ]
     },
     "metadata": {},
     "output_type": "display_data"
    },
    {
     "name": "stdout",
     "output_type": "stream",
     "text": [
      "CS 1 - weighted average: 0.20135039672998334\n",
      "CS 0 - weighted average: 0.21642292887029357\n"
     ]
    },
    {
     "data": {
      "application/vnd.plotly.v1+json": {
       "config": {
        "plotlyServerURL": "https://plot.ly"
       },
       "data": [
        {
         "mode": "markers",
         "name": "1",
         "opacity": 1,
         "type": "scatter",
         "x": [
          0,
          0.3304,
          0.4105,
          0.54,
          0.3318,
          0.3059,
          0.4504,
          0.4219,
          0.3152,
          0.5447,
          0.4551,
          0.3362,
          0.4466,
          0.328,
          0.3584,
          0.4091,
          0.3612,
          0.3976,
          0.2886,
          0.3726,
          0.5197,
          0.473,
          0.2643,
          0.4,
          0.3341,
          0.2907,
          0.4056,
          0.5389,
          0.255,
          0.2879,
          0.3117,
          0.2396,
          0.2295,
          0.4712,
          0.4772,
          0.3222,
          0.3899,
          0.3397,
          0.512,
          0.4065,
          0.3395,
          0.3656,
          0.3866,
          0.5391,
          0.2706,
          0.357,
          0.347,
          0.2631,
          0.3236,
          0.6145,
          0.5534,
          0.4791,
          0.3642,
          0.3596,
          0.233,
          0.3311,
          0.4396,
          0.4126,
          0.2813,
          0.4646,
          0.3224,
          0.3619,
          0.2671,
          0.2771,
          0.3969,
          0.3201,
          0.3505,
          0.2895,
          0.307,
          0.374,
          0.222,
          0.6591,
          0.3663,
          0.3035,
          0.6603,
          0.4228,
          0.4723,
          0.2171,
          0.3997,
          0.5902,
          0.4796,
          0.7875,
          0.6528,
          0.2536,
          0.544,
          0.3647,
          0.2181,
          0.5433,
          0.5487,
          0.4994,
          0.3325,
          0.4726,
          0.6227,
          0.212,
          0.286,
          0.2855,
          0.8076,
          0.4705,
          0.3147,
          0.1445,
          0.3124,
          0.2722,
          0.4256,
          0.4499,
          0.5541,
          0.8506,
          0.5713,
          0.3638,
          0.4077,
          0.6159,
          0.2998,
          0.6647,
          0.3967,
          0.4361,
          0.3453,
          0.4217,
          0.5494,
          0.7,
          0.4698,
          0.3965,
          0.304,
          0.2928,
          0.5144,
          0.3143,
          0.5025,
          0.5316,
          0.2881,
          0.7299,
          0.6213,
          0.3887,
          0.7768,
          0.3687,
          0.3838,
          0.8226,
          0.3306,
          0.2575,
          0.8781,
          0.6727,
          0.3526,
          0.3161,
          0.8191,
          0.5573,
          0.3568,
          0.5466,
          0.3577,
          0.315,
          0.2564,
          0.474,
          0.4434,
          0.5097,
          0.2162,
          0.7794,
          0.6769,
          0.562,
          0.509,
          0.4532,
          0.3598,
          0.502,
          0.3869,
          0.625,
          0.4658,
          0.6124,
          0.2825,
          0.6047,
          0.4803,
          0.6547,
          0.7231,
          0.4039,
          0.6813,
          0.4691,
          0.5968,
          0.4936,
          0.5484,
          0.586,
          0.3346,
          0.3266,
          0.4929,
          0.3075,
          0.449,
          0.4086,
          0.8798,
          0.2837,
          0.5377,
          0.3444,
          0.7152,
          0.6969,
          0.4933,
          0.3876,
          0.4807,
          0.3939,
          0.6099,
          0.4471,
          0.4537,
          0.5363,
          0.6267,
          0.5335,
          0.7826,
          0.6446,
          0.5085,
          0.6827,
          0.3329,
          0.4436,
          0.3789,
          0.5155,
          0.5482,
          0.3941,
          0.2984,
          0.431,
          0.5788,
          0.7208,
          0.3472,
          0.2174,
          0.3301,
          0.5309,
          0.4819,
          0.7754,
          0.7509,
          0.3689,
          0.6953,
          0.3764,
          0.7703,
          0.7712,
          0.5909,
          0.3166,
          0.4422,
          0.2297,
          0.5235,
          0.5664,
          0.4954,
          0.728,
          0.5839,
          0.8657,
          0.534,
          0.8613,
          0.3343,
          0.3747,
          0.4558,
          0.2431,
          0.5048,
          0.844,
          0.566,
          0.6031,
          0.612,
          0.2517,
          0.3,
          0.7927,
          0.6839,
          0.3738,
          0.3743,
          0.5123,
          0.5438,
          0.4968,
          0.777,
          0.4058,
          0.3402,
          0.3915,
          0.3493,
          0.6671,
          0.8482,
          0.2694,
          0.6619,
          0.6085,
          0.8648,
          0.6675,
          0.2629,
          0.3138,
          0.3495,
          0.1805,
          0.732,
          0.3565,
          0.3264,
          0.8361,
          0.3322,
          0.752,
          0.6878,
          0.3187,
          0.2979,
          0.579,
          0.5202,
          0.7504,
          0.8531,
          0.6997,
          0.5258,
          0.4366,
          0.7079,
          0.5006,
          0.2781,
          0.745,
          0.3883,
          0.4303,
          0.1714,
          0.8046,
          0.5884,
          0.427,
          0.5295,
          0.5867,
          0.8844,
          0.1828,
          0.5863,
          0.6895,
          0.3014,
          0.5524,
          0.7726,
          0.3241,
          0.4382,
          0.3103,
          0.5858,
          0.5477,
          0.7257,
          0.4779,
          0.4511,
          0.3801,
          0.5368,
          0.3556,
          0.2473,
          0.6101,
          0.7245,
          0.2916,
          0.749,
          0.7562,
          0.2741,
          0.3449,
          0.9297,
          0.2127,
          0.7303,
          0.4021,
          0.6353,
          0.4457,
          0.7278,
          0.5816,
          0.481,
          0.3491,
          0.5914,
          0.3101,
          0.8064,
          0.6141,
          0.5312,
          0.5837,
          0.6498,
          0.3617,
          0.4838,
          0.5113,
          0.7338,
          0.8373,
          0.6442,
          0.1725,
          0.4595,
          0.4119,
          0.4971,
          0.2379,
          0.3336,
          0.4193,
          0.4637,
          0.2246,
          0.742,
          0.4856,
          0.3785,
          0.6059,
          0.3918,
          0.5825,
          0.7191,
          0.8317,
          0.6416,
          0.3327,
          0.2832,
          0.5214,
          0.3824,
          0.5179,
          0.4406,
          0.7411,
          0.6028,
          0.7105,
          0.7074,
          0.42,
          0.4758,
          0.6171,
          0.8473,
          0.636,
          0.3911,
          0.399,
          0.5382,
          0.9216,
          0.629,
          0.4098,
          0.2954,
          0.9103,
          0.1644,
          0.4168,
          0.2795,
          0.7212,
          0.1751,
          0.9498,
          0.3512,
          0.2449,
          0.3378,
          0.4502,
          0.6211,
          0.8693,
          0.8947,
          0.4023,
          0.4478,
          0.5067,
          0.3243,
          0.8004,
          0.7506,
          0.7028,
          0.583,
          0.4567,
          0.3864,
          0.4782,
          0.3796,
          0.897,
          0.3759,
          0.513,
          0.6918,
          0.6967,
          0.3633,
          0.7121,
          0.6636,
          0.2447,
          0.5305,
          0.6507,
          0.4289,
          0.3771,
          0.4763,
          0.4212,
          0.4147,
          0.3348,
          0.619,
          0.8228,
          0.3383,
          0.2227,
          0.7091,
          0.208,
          0.4037,
          0.2213,
          0.7717,
          0.5286,
          0.5421,
          0.4007,
          0.477,
          0.7682,
          0.665,
          0.4987,
          0.8872,
          0.7752,
          0.5646,
          0.2608,
          0.2202,
          0.6624,
          0.3157,
          0.7948,
          0.2893,
          0.6804,
          0.4546,
          0.2622,
          0.2351,
          0.4448,
          0.5508,
          0.6806,
          0.7252,
          0.7647,
          0.2204,
          0.4663,
          0.685,
          0.6306,
          0.5237,
          0.2827,
          0.2935,
          0.3703,
          0.7551,
          0.7864,
          0.0542,
          0.2659,
          0.4901,
          0.5032,
          0.371,
          0.3516,
          0.3733,
          0.5414,
          0.3334,
          0.6927,
          0.3199,
          0.6638,
          0.5351,
          0.7336,
          0.714,
          0.615,
          0.7929,
          0.682,
          0.6678,
          0.4049,
          0.6902,
          0.6916,
          0.3519,
          0.2265,
          0.2489,
          0.3215,
          0.4831,
          0.5991,
          0.9071
         ],
         "y": [
          2186,
          103,
          99,
          98,
          62,
          54,
          41,
          41,
          41,
          40,
          35,
          34,
          32,
          29,
          27,
          27,
          27,
          26,
          25,
          24,
          23,
          23,
          21,
          18,
          17,
          16,
          14,
          13,
          13,
          12,
          12,
          11,
          10,
          10,
          10,
          9,
          9,
          9,
          8,
          8,
          8,
          8,
          8,
          8,
          7,
          7,
          7,
          7,
          7,
          6,
          6,
          6,
          6,
          6,
          6,
          6,
          6,
          6,
          6,
          5,
          5,
          5,
          5,
          5,
          5,
          5,
          5,
          5,
          5,
          5,
          5,
          5,
          5,
          5,
          4,
          4,
          4,
          4,
          4,
          4,
          4,
          4,
          4,
          4,
          4,
          4,
          4,
          4,
          4,
          4,
          4,
          3,
          3,
          3,
          3,
          3,
          3,
          3,
          3,
          3,
          3,
          3,
          3,
          3,
          3,
          3,
          3,
          3,
          3,
          3,
          3,
          3,
          3,
          3,
          3,
          3,
          3,
          3,
          3,
          3,
          3,
          3,
          3,
          3,
          3,
          3,
          3,
          3,
          2,
          2,
          2,
          2,
          2,
          2,
          2,
          2,
          2,
          2,
          2,
          2,
          2,
          2,
          2,
          2,
          2,
          2,
          2,
          2,
          2,
          2,
          2,
          2,
          2,
          2,
          2,
          2,
          2,
          2,
          2,
          2,
          2,
          2,
          2,
          2,
          2,
          2,
          2,
          2,
          2,
          2,
          2,
          2,
          2,
          2,
          2,
          2,
          2,
          2,
          2,
          2,
          2,
          2,
          2,
          2,
          2,
          2,
          2,
          2,
          2,
          2,
          2,
          2,
          2,
          2,
          2,
          2,
          2,
          2,
          2,
          2,
          2,
          2,
          2,
          2,
          2,
          2,
          2,
          2,
          2,
          2,
          2,
          2,
          2,
          2,
          2,
          2,
          1,
          1,
          1,
          1,
          1,
          1,
          1,
          1,
          1,
          1,
          1,
          1,
          1,
          1,
          1,
          1,
          1,
          1,
          1,
          1,
          1,
          1,
          1,
          1,
          1,
          1,
          1,
          1,
          1,
          1,
          1,
          1,
          1,
          1,
          1,
          1,
          1,
          1,
          1,
          1,
          1,
          1,
          1,
          1,
          1,
          1,
          1,
          1,
          1,
          1,
          1,
          1,
          1,
          1,
          1,
          1,
          1,
          1,
          1,
          1,
          1,
          1,
          1,
          1,
          1,
          1,
          1,
          1,
          1,
          1,
          1,
          1,
          1,
          1,
          1,
          1,
          1,
          1,
          1,
          1,
          1,
          1,
          1,
          1,
          1,
          1,
          1,
          1,
          1,
          1,
          1,
          1,
          1,
          1,
          1,
          1,
          1,
          1,
          1,
          1,
          1,
          1,
          1,
          1,
          1,
          1,
          1,
          1,
          1,
          1,
          1,
          1,
          1,
          1,
          1,
          1,
          1,
          1,
          1,
          1,
          1,
          1,
          1,
          1,
          1,
          1,
          1,
          1,
          1,
          1,
          1,
          1,
          1,
          1,
          1,
          1,
          1,
          1,
          1,
          1,
          1,
          1,
          1,
          1,
          1,
          1,
          1,
          1,
          1,
          1,
          1,
          1,
          1,
          1,
          1,
          1,
          1,
          1,
          1,
          1,
          1,
          1,
          1,
          1,
          1,
          1,
          1,
          1,
          1,
          1,
          1,
          1,
          1,
          1,
          1,
          1,
          1,
          1,
          1,
          1,
          1,
          1,
          1,
          1,
          1,
          1,
          1,
          1,
          1,
          1,
          1,
          1,
          1,
          1,
          1,
          1,
          1,
          1,
          1,
          1,
          1,
          1,
          1,
          1,
          1,
          1,
          1,
          1,
          1,
          1,
          1,
          1,
          1,
          1,
          1,
          1,
          1,
          1,
          1,
          1,
          1,
          1,
          1,
          1,
          1,
          1,
          1,
          1,
          1,
          1,
          1,
          1,
          1,
          1,
          1,
          1,
          1,
          1,
          1,
          1,
          1,
          1,
          1,
          1,
          1,
          1,
          1,
          1,
          1,
          1,
          1,
          1,
          1,
          1,
          1,
          1,
          1,
          1,
          1,
          1,
          1,
          1,
          1,
          1,
          1,
          1,
          1,
          1,
          1,
          1,
          1,
          1,
          1,
          1,
          1,
          1,
          1,
          1,
          1,
          1,
          1,
          1,
          1,
          1,
          1
         ]
        },
        {
         "mode": "markers",
         "name": "0",
         "opacity": 0.5,
         "type": "scatter",
         "x": [
          0,
          0.3304,
          0.4105,
          0.3318,
          0.3059,
          0.4466,
          0.54,
          0.3362,
          0.5447,
          0.3726,
          0.4504,
          0.4219,
          0.3612,
          0.4,
          0.4056,
          0.255,
          0.2879,
          0.3152,
          0.4551,
          0.4091,
          0.2907,
          0.473,
          0.3584,
          0.2886,
          0.3976,
          0.3236,
          0.347,
          0.2643,
          0.5197,
          0.328,
          0.3341,
          0.3899,
          0.233,
          0.3395,
          0.3201,
          0.6145,
          0.3866,
          0.4772,
          0.2706,
          0.2671,
          0.3965,
          0.3222,
          0.4396,
          0.2813,
          0.2928,
          0.4028,
          0.5316,
          0.307,
          0.4712,
          0.2295,
          0.3656,
          0.3117,
          0.2396,
          0.4126,
          0.4065,
          0.2998,
          0.4723,
          0.4705,
          0.2564,
          0.3596,
          0.2975,
          0.5534,
          0.3642,
          0.431,
          0.4691,
          0.4791,
          0.2181,
          0.474,
          0.6227,
          0.3747,
          0.8482,
          0.3838,
          0.512,
          0.3663,
          0.2771,
          0.4039,
          0.6647,
          0.3322,
          0.2608,
          0.449,
          0.2722,
          0.4527,
          0.3549,
          0.222,
          0.3224,
          0.3311,
          0.212,
          0.5484,
          0.3505,
          0.5713,
          0.374,
          0.2351,
          0.2697,
          0.6528,
          0.5389,
          0.3327,
          0.3619,
          0.3444,
          0.3306,
          0.2431,
          0.4046,
          0.8531,
          0.4228,
          0.1725,
          0.3336,
          0.2855,
          0.3035,
          0.5067,
          0.4119,
          0.3453,
          0.5863,
          0.2881,
          0.2715,
          0.4919,
          0.2631,
          0.3449,
          0.3329,
          0.8191,
          0.4646,
          0.3682,
          0.7768,
          0.6997,
          0.5391,
          0.2575,
          0.357,
          0.3731,
          0.7794,
          0.3759,
          0.286,
          0.5839,
          0.3103,
          0.3397,
          0.8076,
          0.2942,
          0.4796,
          0.4212,
          0.2171,
          0.315,
          0.4361,
          0.5718,
          0.4541,
          0.4147,
          0.586,
          0.4803,
          0.7231,
          0.3115,
          0.7299,
          0.4077,
          0.3997,
          0.6619,
          0.5335,
          0.2174,
          0.2204,
          0.5902,
          0.4434,
          0.5279,
          0.3724,
          0.5867,
          0.2036,
          0.3733,
          0.3161,
          0.3568,
          0.3456,
          0.544,
          0.2895,
          0.7875,
          0.399,
          0.1609,
          0.7336,
          0.5025,
          0.3687,
          0.2239,
          0.3325,
          0.2655,
          0.2832,
          0.3266,
          0.3348,
          0.5085,
          0.4282,
          0.2954,
          0.3313,
          0.8226,
          0.6085,
          0.3514,
          0.629,
          0.3061,
          0.3901,
          0.5202,
          0.5517,
          0.4053,
          0.6253,
          0.3133,
          0.427,
          0.6507,
          0.4387,
          0.6353,
          0.7152,
          0.4168,
          0.8039,
          0.3526,
          0.3301,
          0.5657,
          0.3054,
          0.2926,
          0.4698,
          0.579,
          0.4373,
          0.4471,
          0.5179,
          0.4502,
          0.6895,
          0.3498,
          0.4534,
          0.619,
          0.4217,
          0.562,
          0.7579,
          0.6159,
          0.5541,
          0.5309,
          0.5466,
          0.7338,
          0.4639,
          0.3075,
          0.258,
          0.3911,
          0.3607,
          0.3565,
          0.2713,
          0.4537,
          0.3887,
          0.304,
          0.7703,
          0.615,
          0.1445,
          0.8697,
          0.3869,
          0.2629,
          0.5548,
          0.3796,
          0.4366,
          0.6215,
          0.6624,
          0.2844,
          0.4628,
          0.7046,
          0.5144,
          0.4049,
          0.2363,
          0.8473,
          0.2197,
          0.4058,
          0.3579,
          0.5274,
          0.7625,
          0.6451,
          0.5445,
          0.728,
          0.8816,
          0.5048,
          0.6591,
          0.5433,
          0.4728,
          0.453,
          0.2762,
          0.4845,
          0.6416,
          0.6888,
          0.7145,
          0.5232,
          0.3294,
          0.2536,
          0.3801,
          0.3778,
          0.4873,
          0.2718,
          0.665,
          0.5968,
          0.8506,
          0.3773,
          0.4422,
          0.3227,
          0.4499,
          0.3782,
          0.1268,
          0.3883,
          0.3495,
          0.5482,
          0.241,
          0.2965,
          0.4987,
          0.5494,
          0.4256,
          0.5363,
          0.452,
          0.5739,
          0.5986,
          0.622,
          0.9757,
          0.7427,
          0.8116,
          0.2153,
          0.6801,
          0.3715,
          0.6397,
          0.5991,
          0.4968,
          0.6638,
          0.7189,
          0.6099,
          0.5461,
          0.3463,
          0.4037,
          0.6512,
          0.4455,
          0.3633,
          0.3824,
          0.41,
          0.6059,
          0.3794,
          0.4245,
          0.5758,
          0.3738,
          0.6556,
          0.4249,
          0.5377,
          0.5251,
          0.6283,
          0.5884,
          0.3586,
          0.4994,
          0.5793,
          0.6141,
          0.4677,
          0.4838,
          0.3519,
          0.3243,
          0.2785,
          0.4385,
          0.2013,
          0.3199,
          0.3582,
          0.2991,
          0.7509,
          0.3255,
          0.6673,
          0.4737,
          0.4936,
          0.4263,
          0.3378,
          0.5414,
          0.3969,
          0.2694,
          0.2508,
          0.4156,
          0.4565,
          0.4233,
          0.5214,
          0.2519,
          0.4807,
          0.5954,
          0.6124,
          0.3808,
          0.3486,
          0.2489,
          0.5172,
          0.5825,
          0.3512,
          0.6521,
          0.3472,
          0.4971,
          0.3631,
          0.742,
          0.4259,
          0.5702,
          0.7574,
          0.2837,
          0.5573,
          0.5942,
          0.5384,
          0.6187,
          0.1756,
          0.3418,
          0.4831,
          0.8693,
          0.8849,
          0.7296,
          0.8536,
          0.3287,
          0.279,
          0.3166,
          0.4002,
          0.6362,
          0.5064,
          0.2979,
          0.7257,
          0.7686,
          0.3556,
          0.3346,
          0.3131,
          0.5237,
          0.2909,
          0.4726,
          0.4579,
          0.9148,
          0.643,
          0.6792,
          0.947,
          0.778,
          0.4338,
          0.696,
          0.3439,
          0.8933,
          0.4635,
          0.6951,
          0.6255,
          0.883,
          0.6967,
          0.5351,
          0.502,
          0.5837,
          0.8106,
          0.6334,
          0.513,
          0.3943,
          0.3598,
          0.1375,
          0.6211,
          0.2384,
          0.8228,
          0.3834,
          0.7488,
          0.4763,
          0.6636,
          0.611,
          0.5914,
          0.2657,
          0.6862,
          0.5438,
          0.2452,
          0.6717,
          0.4135,
          0.6498,
          0.5629,
          0.3827,
          0.5417,
          0.5032,
          0.3638,
          0.2893,
          0.3523,
          0.2162,
          0.2935,
          0.7654,
          0.4301,
          0.4882,
          0.5286,
          0.3876,
          0.4095,
          0.2501,
          0.7121,
          0.3259,
          0.4642,
          0.3729,
          0.6825,
          0.7037,
          0.653,
          0.2115,
          0.4429,
          0.4894,
          0.7387,
          0.7691,
          0.9092,
          0.4758,
          0.5412,
          0.6983,
          0.2848,
          0.679,
          0.7457,
          0.5769,
          0.583,
          0.1751,
          0.5312,
          0.8872,
          0.5242,
          0.3122,
          0.4929,
          0.4007,
          0.6341,
          0.6514,
          0.6292,
          0.7822,
          0.5667,
          0.4656,
          0.5858,
          0.321,
          0.7362,
          0.4567,
          0.6453,
          0.3283,
          0.3754,
          0.6523,
          0.5671,
          0.4032,
          0.3617,
          0.2659,
          0.5923,
          0.7067,
          0.403,
          0.3624,
          0.686,
          0.7693,
          0.7964,
          0.3953,
          0.4158,
          0.5118,
          0.2293,
          0.5006,
          0.71,
          0.4663,
          0.7243,
          0.4266,
          0.2403,
          0.4819,
          0.2662,
          0.2246,
          0.4782,
          0.3014,
          0.2622,
          0.4051,
          0.2825,
          0.7282,
          0.2858,
          0.7945,
          0.6797,
          0.6101,
          0.3187,
          0.5487,
          0.4889,
          0.4436,
          0.5347,
          0.3164,
          0.7252,
          0.2414,
          0.9057,
          0.4247,
          0.732,
          0.3392,
          0.6458,
          0.8749,
          0.5505,
          0.6827,
          0.4922,
          0.7028,
          0.4347,
          0.8492,
          0.3745,
          0.3785,
          0.7551,
          0.6113,
          0.4445,
          0.3572,
          0.9477,
          0.1826,
          0.3528,
          0.6213,
          0.4492,
          0.573,
          0.4733,
          0.682,
          0.2459,
          0.6986,
          0.2057,
          0.4086,
          0.7682,
          0.3154,
          0.4462,
          0.8966,
          0.6271,
          0.6204,
          0.3147,
          0.2725,
          0.9103,
          0.6706,
          0.4312,
          0.414,
          0.6262,
          0.7035,
          0.2447,
          0.3399,
          0.4842,
          0.3435,
          0.2232,
          0.4088,
          0.3983,
          0.314,
          0.4532,
          0.3502,
          0.4623,
          0.407,
          0.6264,
          0.6969,
          0.3038,
          0.3981,
          0.6605,
          0.7114,
          0.318,
          0.5804,
          0.509,
          0.6804,
          0.8704,
          0.5604,
          0.1989,
          0.5473,
          0.4749,
          0.5099,
          0.4681,
          0.4506,
          0.6995,
          0.6348,
          0.5865,
          0.8352,
          0.5748,
          0.4721,
          0.2578,
          0.3024,
          0.3196,
          0.2164,
          0.3402,
          0.3047,
          0.8784,
          0.9106,
          0.6162,
          0.8424,
          0.456,
          0.4193,
          0.752,
          0.5062,
          0.3178,
          0.4607,
          0.7614,
          0.714,
          0.5265,
          0.7548,
          0.6449,
          0.3299,
          0.8618,
          0.3241,
          0.2582,
          0.7588,
          0.4903,
          0.9279,
          0.7803,
          0.4875,
          0.3343,
          0.3929,
          0.6367,
          0.7004,
          0.6143,
          0.9185,
          0.6138,
          0.2956,
          0.4931,
          0.7194,
          0.4322,
          0.2517,
          0.2802,
          0.3409,
          0.7541,
          0.406,
          0.745,
          0.8798,
          0.4464,
          0.3264,
          0.2795,
          0.59,
          0.8576,
          0.3948,
          0.4546,
          0.36,
          0.7999,
          0.294,
          0.2104,
          0.4406,
          0.7994,
          0.777,
          0.4238,
          0.1819,
          0.6701,
          0.336,
          0.7485,
          0.6799,
          0.4614,
          0.4812,
          0.647,
          0.527,
          0.8046,
          0.8071,
          0.6288,
          0.5781,
          0.7829,
          0.4284,
          0.4382,
          0.3589,
          0.3,
          0.6313,
          0.5676,
          0.2673,
          0.9498,
          0.1805,
          0.208,
          0.5807,
          0.3771,
          0.5587,
          0.389,
          0.3308,
          0.8896,
          0.435,
          0.4609,
          0.3939,
          0.4856,
          0.3185,
          0.417,
          0.3374,
          0.4079,
          0.7107,
          0.608,
          0.6839,
          0.7894,
          0.2746,
          0.3544,
          0.5611,
          0.4207,
          0.215,
          0.7915,
          0.749,
          0.4289,
          0.4658,
          0.3126,
          0.3234,
          0.3425,
          0.3353,
          0.5123,
          0.7359,
          0.5622,
          0.2428,
          0.8447,
          0.6031,
          0.3479,
          0.3696,
          0.2083,
          0.6318,
          0.3703,
          0.2424,
          0.421,
          0.4303,
          0.2949,
          0.1714,
          0.3157,
          0.8585,
          0.5029,
          0.3915,
          0.7616,
          0.8426,
          0.3451,
          0.6201,
          0.5618,
          0.5578,
          0.5097,
          0.7453,
          0.7373,
          0.979,
          0.8552,
          0.8613,
          0.5909,
          0.5958,
          0.3621,
          0.8648,
          0.4602,
          0.9157,
          0.4354,
          0.6028,
          0.6584,
          0.1996,
          0.346,
          0.7562,
          0.6563,
          0.6547,
          0.8959,
          0.6082,
          0.353,
          0.2664,
          0.4165,
          0.3666,
          0.6355,
          0.7215,
          0.2202,
          0.626,
          0.1884,
          0.2183,
          0.3175,
          0.3119,
          0.844,
          0.3124,
          0.5344,
          0.325,
          0.8905,
          0.4448,
          0.6306,
          0.6668,
          0.4884,
          0.6829,
          0.5515,
          0.3143,
          0.3927,
          0.434,
          0.2839,
          0.6005,
          0.7959,
          0.2339,
          0.6526,
          0.3736,
          0.3488,
          0.5998,
          0.3936,
          0.7245,
          0.7212,
          0.6687,
          0.838,
          0.6939,
          0.4254,
          0.2316,
          0.7583,
          0.3806,
          0.6108,
          0.2652,
          0.7429,
          0.4485,
          0.5977,
          0.6654,
          0.2905,
          0.7464,
          0.5386,
          0.5664,
          0.3761,
          0.2503,
          0.4604,
          0.2136,
          0.8735,
          0.3941,
          0.7525,
          0.8163,
          0.2438,
          0.6409,
          0.6299,
          0.322,
          0.7761,
          0.5795,
          0.7546,
          0.9428,
          0.5874,
          0.5772,
          0.5113,
          0.5538,
          0.2356,
          0.282,
          0.1924,
          0.7334,
          0.6794,
          0.4569,
          0.5816,
          0.438,
          0.5512,
          0.6358,
          0.3428,
          0.6551,
          0.9115,
          0.8258,
          0.484,
          0.8781,
          0.2869,
          0.3946,
          0.566,
          0.3908,
          0.7002,
          0.5039,
          0.2692,
          0.4793,
          0.5284,
          0.4457,
          0.6612,
          0.9479,
          0.2603,
          0.9129,
          0.4525,
          0.2473,
          0.3577,
          0.8067,
          0.7411,
          0.2454,
          0.46,
          0.5751,
          0.173,
          0.5797,
          0.8664,
          0.4151,
          0.5552,
          0.5468,
          0.7124,
          0.2699,
          0.6743,
          0.2094,
          0.6778,
          0.2071,
          0.6535,
          0.4427,
          0.7278,
          0.5328,
          0.1709,
          0.4368,
          0.7303,
          0.5912,
          0.5148,
          0.1515,
          0.3516,
          0.7721,
          0.6813,
          0.4123,
          0.2811,
          0.237,
          0.8256,
          0.477,
          0.6472,
          0.1852,
          0.6755,
          0.5846,
          0.5106,
          0.5951,
          0.2755,
          0.4116,
          0.3364,
          0.6892,
          0.2834,
          0.6808,
          0.466,
          0.3813,
          0.6972,
          0.4401,
          0.6257,
          0.7889,
          0.4392,
          0.2986,
          0.7504,
          0.4558,
          0.6369,
          0.6432,
          0.301,
          0.4357,
          0.4305,
          0.4023,
          0.3089,
          0.1314,
          0.8912,
          0.6038,
          0.5053,
          0.4196,
          0.8111,
          0.498,
          0.7184,
          0.6537,
          0.8064,
          0.93,
          0.3049,
          0.6713,
          0.7,
          0.1261,
          0.858,
          0.293,
          0.2781,
          0.7651,
          0.7401,
          0.3446,
          0.5125,
          0.5153,
          0.3705,
          0.6953,
          0.6594,
          0.3684,
          0.3271,
          0.5641,
          0.6909,
          0.7696,
          0.2265,
          0.5167,
          0.487,
          0.4331,
          0.4359,
          0.4959,
          0.5155,
          0.4067,
          0.4014,
          0.83,
          0.3962,
          0.5592,
          0.3376,
          0.7675,
          0.3416,
          0.7712,
          0.1669,
          0.5218,
          0.4768,
          0.7233,
          0.6577,
          0.2748,
          0.7364,
          0.4203,
          0.8013,
          0.699,
          0.5095,
          0.6948,
          0.2989,
          0.3371,
          0.8767,
          0.4319,
          0.329,
          0.8377,
          0.8202,
          0.5244,
          0.8924,
          0.7254,
          0.6021,
          0.735,
          0.7665,
          0.5225,
          0.3357,
          0.5193,
          0.8947,
          0.6832,
          0.2883,
          0.5111,
          0.354,
          0.4719,
          0.6407,
          0.5246,
          0.707,
          0.459,
          0.6934,
          0.4779,
          0.3213,
          0.5288,
          0.5146,
          0.7644,
          0.1802,
          0.7537,
          0.7497,
          0.6274,
          0.4483,
          0.3661,
          0.4184,
          0.2003,
          0.7371,
          0.2386,
          0.6869,
          0.8879,
          0.3276,
          0.4252,
          0.7084,
          0.526,
          0.6678,
          0.8548,
          0.3052,
          0.6981,
          0.3979,
          0.9145,
          0.8562,
          0.343,
          0.4775,
          0.5081,
          0.4985,
          0.7672,
          0.6218,
          0.2426,
          0.2599,
          0.2143,
          0.4632,
          0.2601,
          0.6194,
          0.8317,
          0.3647,
          0.4235,
          0.6206,
          0.3815,
          0.739,
          0.5088,
          0.4399,
          0.5979,
          0.8683,
          0.805,
          0.5809,
          0.2449,
          0.6057,
          0.7532,
          0.6229,
          0.5788,
          0.7864,
          0.7938,
          0.5828,
          0.7726,
          0.5421,
          0.7208,
          0.7032,
          0.8464,
          0.8891,
          0.7425,
          0.2683,
          0.7483,
          0.5321,
          0.5933,
          0.5648,
          0.558,
          0.618,
          0.7929,
          0.7808,
          0.2753,
          0.865,
          0.5083,
          0.6302,
          0.3535,
          0.1366,
          0.8975,
          0.9407,
          0.4224,
          0.332,
          0.236,
          0.7128,
          0.368,
          0.4343,
          0.6633,
          0.8823,
          0.7511,
          0.4954,
          0.2398,
          0.9031,
          0.6661,
          0.1837,
          0.5615,
          0.8097,
          0.5239,
          0.5127,
          0.7044,
          0.1114,
          0.685,
          0.2704,
          0.8814,
          0.3934,
          0.7217,
          0.6601,
          0.5356,
          0.6554,
          0.3297,
          0.2792,
          0.2573,
          0.4114,
          0.5779,
          0.8373,
          0.5382,
          0.8331,
          0.2984,
          0.7752,
          0.2209,
          0.6332,
          0.2566,
          0.4826,
          0.3491,
          0.5594,
          0.6923,
          0.7852,
          0.4621,
          0.5055,
          0.3972,
          0.4308,
          0.3091,
          0.3892,
          0.5258,
          0.4828,
          0.4478,
          0.2311,
          0.6603,
          0.2379,
          0.7177,
          0.0864,
          0.5342,
          0.3082,
          0.248,
          0.4653,
          0.8034,
          0.8419,
          0.7271,
          0.6806,
          0.9082,
          0.7025,
          0.4982,
          0.2902,
          0.6643,
          0.6899,
          0.7581,
          0.8165,
          0.5249,
          0.2669,
          0.5706,
          0.3385,
          0.3768,
          0.4926,
          0.5305,
          0.2912,
          0.5823,
          0.8282,
          0.7787,
          0.5295,
          0.8004,
          0.6103,
          0.8737,
          0.2914,
          0.5786,
          0.4901,
          0.5583,
          0.8431,
          0.226,
          0.2435,
          0.5139,
          0.2645,
          0.4488,
          0.382,
          0.6682,
          0.8109,
          0.625,
          0.7222,
          0.5926,
          0.5379,
          0.4555,
          0.4336,
          0.5842,
          0.3033,
          0.1856,
          0.3098,
          0.4548,
          0.8791,
          0.3101,
          0.4403,
          0.2477,
          0.29,
          0.9307,
          0.5027,
          0.2571,
          0.4481,
          0.4287,
          0.3822,
          0.7205,
          0.6876,
          0.127,
          0.3712,
          0.3369,
          0.2968,
          0.8994,
          0.3547,
          0.6897,
          0.6423,
          0.7838,
          0.7572,
          0.1658,
          0.5711,
          0.7292,
          0.7773,
          0.2636,
          0.8001,
          0.3432,
          0.3096,
          0.5158,
          0.1742,
          0.5496,
          0.7775,
          0.4273,
          0.5508,
          0.3474,
          0.7663,
          0.3017,
          0.692,
          0.1772,
          0.9099,
          0.4847,
          0.5737,
          0.7833,
          0.3918,
          0.7011,
          0.2764,
          0.3764,
          0.5669,
          0.8788,
          0.2648,
          0.6446,
          0.1781,
          0.2227,
          0.4261,
          0.2627,
          0.4352,
          0.2213,
          0.442,
          0.5571,
          0.6374,
          0.4011,
          0.2251,
          0.3507,
          0.7159,
          0.3437,
          0.3042,
          0.788,
          0.9101,
          0.2585,
          0.4852,
          0.4098,
          0.3465,
          0.4371,
          0.6425,
          0.5774,
          0.6871,
          0.8384,
          0.6365,
          0.572,
          0.9054,
          0.3542,
          0.5613,
          0.7397,
          0.4784,
          0.6696,
          0.837,
          0.3215
         ],
         "y": [
          11470,
          851,
          363,
          347,
          302,
          290,
          287,
          277,
          270,
          233,
          228,
          214,
          181,
          178,
          157,
          157,
          153,
          143,
          140,
          138,
          119,
          111,
          108,
          105,
          101,
          91,
          90,
          88,
          83,
          82,
          81,
          75,
          70,
          70,
          66,
          63,
          63,
          61,
          60,
          54,
          52,
          52,
          51,
          48,
          47,
          46,
          45,
          45,
          45,
          44,
          42,
          41,
          40,
          40,
          40,
          39,
          38,
          37,
          36,
          36,
          35,
          35,
          34,
          34,
          33,
          31,
          31,
          29,
          29,
          29,
          29,
          29,
          29,
          28,
          27,
          26,
          26,
          25,
          25,
          24,
          24,
          24,
          23,
          23,
          22,
          22,
          22,
          21,
          21,
          20,
          20,
          20,
          20,
          20,
          20,
          20,
          20,
          19,
          19,
          19,
          19,
          19,
          18,
          18,
          18,
          18,
          17,
          17,
          17,
          17,
          16,
          16,
          16,
          16,
          16,
          15,
          15,
          15,
          15,
          15,
          15,
          15,
          14,
          14,
          14,
          14,
          14,
          14,
          14,
          13,
          13,
          13,
          13,
          13,
          13,
          13,
          13,
          13,
          13,
          12,
          12,
          12,
          12,
          12,
          12,
          12,
          12,
          12,
          12,
          12,
          12,
          12,
          12,
          12,
          12,
          12,
          12,
          12,
          12,
          11,
          11,
          11,
          11,
          11,
          11,
          11,
          11,
          10,
          10,
          10,
          10,
          10,
          10,
          10,
          10,
          10,
          10,
          10,
          10,
          10,
          10,
          10,
          10,
          10,
          9,
          9,
          9,
          9,
          9,
          9,
          9,
          9,
          9,
          9,
          9,
          9,
          9,
          9,
          9,
          9,
          9,
          8,
          8,
          8,
          8,
          8,
          8,
          8,
          8,
          8,
          8,
          8,
          8,
          8,
          8,
          8,
          8,
          8,
          8,
          8,
          8,
          8,
          8,
          8,
          7,
          7,
          7,
          7,
          7,
          7,
          7,
          7,
          7,
          7,
          7,
          7,
          7,
          7,
          7,
          7,
          7,
          7,
          7,
          7,
          7,
          7,
          7,
          7,
          7,
          7,
          7,
          7,
          7,
          6,
          6,
          6,
          6,
          6,
          6,
          6,
          6,
          6,
          6,
          6,
          6,
          6,
          6,
          6,
          6,
          6,
          6,
          6,
          6,
          6,
          6,
          6,
          6,
          6,
          6,
          6,
          6,
          6,
          6,
          6,
          6,
          6,
          6,
          6,
          6,
          6,
          6,
          6,
          6,
          6,
          6,
          6,
          6,
          6,
          5,
          5,
          5,
          5,
          5,
          5,
          5,
          5,
          5,
          5,
          5,
          5,
          5,
          5,
          5,
          5,
          5,
          5,
          5,
          5,
          5,
          5,
          5,
          5,
          5,
          5,
          5,
          5,
          5,
          5,
          5,
          5,
          5,
          5,
          5,
          5,
          5,
          5,
          5,
          5,
          5,
          5,
          5,
          5,
          5,
          5,
          5,
          5,
          5,
          5,
          5,
          5,
          5,
          5,
          5,
          5,
          5,
          5,
          5,
          5,
          5,
          5,
          5,
          5,
          5,
          5,
          5,
          5,
          5,
          5,
          4,
          4,
          4,
          4,
          4,
          4,
          4,
          4,
          4,
          4,
          4,
          4,
          4,
          4,
          4,
          4,
          4,
          4,
          4,
          4,
          4,
          4,
          4,
          4,
          4,
          4,
          4,
          4,
          4,
          4,
          4,
          4,
          4,
          4,
          4,
          4,
          4,
          4,
          4,
          4,
          4,
          4,
          4,
          4,
          4,
          4,
          4,
          4,
          4,
          4,
          4,
          4,
          4,
          4,
          4,
          4,
          4,
          4,
          4,
          4,
          4,
          4,
          4,
          4,
          4,
          4,
          4,
          4,
          4,
          4,
          4,
          4,
          4,
          4,
          4,
          4,
          4,
          4,
          4,
          4,
          4,
          4,
          4,
          4,
          4,
          4,
          4,
          4,
          4,
          4,
          4,
          3,
          3,
          3,
          3,
          3,
          3,
          3,
          3,
          3,
          3,
          3,
          3,
          3,
          3,
          3,
          3,
          3,
          3,
          3,
          3,
          3,
          3,
          3,
          3,
          3,
          3,
          3,
          3,
          3,
          3,
          3,
          3,
          3,
          3,
          3,
          3,
          3,
          3,
          3,
          3,
          3,
          3,
          3,
          3,
          3,
          3,
          3,
          3,
          3,
          3,
          3,
          3,
          3,
          3,
          3,
          3,
          3,
          3,
          3,
          3,
          3,
          3,
          3,
          3,
          3,
          3,
          3,
          3,
          3,
          3,
          3,
          3,
          3,
          3,
          3,
          3,
          3,
          3,
          3,
          3,
          3,
          3,
          3,
          3,
          3,
          3,
          3,
          3,
          3,
          3,
          3,
          3,
          3,
          3,
          3,
          3,
          3,
          3,
          3,
          3,
          3,
          3,
          3,
          3,
          3,
          3,
          3,
          3,
          3,
          3,
          3,
          3,
          3,
          3,
          3,
          3,
          3,
          3,
          3,
          3,
          3,
          3,
          3,
          3,
          3,
          3,
          3,
          3,
          3,
          3,
          3,
          3,
          3,
          3,
          3,
          3,
          3,
          3,
          3,
          3,
          3,
          3,
          3,
          3,
          3,
          3,
          3,
          3,
          3,
          3,
          2,
          2,
          2,
          2,
          2,
          2,
          2,
          2,
          2,
          2,
          2,
          2,
          2,
          2,
          2,
          2,
          2,
          2,
          2,
          2,
          2,
          2,
          2,
          2,
          2,
          2,
          2,
          2,
          2,
          2,
          2,
          2,
          2,
          2,
          2,
          2,
          2,
          2,
          2,
          2,
          2,
          2,
          2,
          2,
          2,
          2,
          2,
          2,
          2,
          2,
          2,
          2,
          2,
          2,
          2,
          2,
          2,
          2,
          2,
          2,
          2,
          2,
          2,
          2,
          2,
          2,
          2,
          2,
          2,
          2,
          2,
          2,
          2,
          2,
          2,
          2,
          2,
          2,
          2,
          2,
          2,
          2,
          2,
          2,
          2,
          2,
          2,
          2,
          2,
          2,
          2,
          2,
          2,
          2,
          2,
          2,
          2,
          2,
          2,
          2,
          2,
          2,
          2,
          2,
          2,
          2,
          2,
          2,
          2,
          2,
          2,
          2,
          2,
          2,
          2,
          2,
          2,
          2,
          2,
          2,
          2,
          2,
          2,
          2,
          2,
          2,
          2,
          2,
          2,
          2,
          2,
          2,
          2,
          2,
          2,
          2,
          2,
          2,
          2,
          2,
          2,
          2,
          2,
          2,
          2,
          2,
          2,
          2,
          2,
          2,
          2,
          2,
          2,
          2,
          2,
          2,
          2,
          2,
          2,
          2,
          2,
          2,
          2,
          2,
          2,
          2,
          2,
          2,
          2,
          2,
          2,
          2,
          2,
          2,
          2,
          2,
          2,
          2,
          2,
          2,
          2,
          2,
          2,
          2,
          2,
          2,
          2,
          2,
          2,
          2,
          2,
          2,
          2,
          2,
          2,
          2,
          2,
          2,
          2,
          2,
          2,
          2,
          2,
          2,
          2,
          2,
          2,
          2,
          2,
          2,
          2,
          2,
          2,
          2,
          2,
          2,
          2,
          2,
          2,
          2,
          1,
          1,
          1,
          1,
          1,
          1,
          1,
          1,
          1,
          1,
          1,
          1,
          1,
          1,
          1,
          1,
          1,
          1,
          1,
          1,
          1,
          1,
          1,
          1,
          1,
          1,
          1,
          1,
          1,
          1,
          1,
          1,
          1,
          1,
          1,
          1,
          1,
          1,
          1,
          1,
          1,
          1,
          1,
          1,
          1,
          1,
          1,
          1,
          1,
          1,
          1,
          1,
          1,
          1,
          1,
          1,
          1,
          1,
          1,
          1,
          1,
          1,
          1,
          1,
          1,
          1,
          1,
          1,
          1,
          1,
          1,
          1,
          1,
          1,
          1,
          1,
          1,
          1,
          1,
          1,
          1,
          1,
          1,
          1,
          1,
          1,
          1,
          1,
          1,
          1,
          1,
          1,
          1,
          1,
          1,
          1,
          1,
          1,
          1,
          1,
          1,
          1,
          1,
          1,
          1,
          1,
          1,
          1,
          1,
          1,
          1,
          1,
          1,
          1,
          1,
          1,
          1,
          1,
          1,
          1,
          1,
          1,
          1,
          1,
          1,
          1,
          1,
          1,
          1,
          1,
          1,
          1,
          1,
          1,
          1,
          1,
          1,
          1,
          1,
          1,
          1,
          1,
          1,
          1,
          1,
          1,
          1,
          1,
          1,
          1,
          1,
          1,
          1,
          1,
          1,
          1,
          1,
          1,
          1,
          1,
          1,
          1,
          1,
          1,
          1,
          1,
          1,
          1,
          1,
          1,
          1,
          1,
          1,
          1,
          1,
          1,
          1,
          1,
          1,
          1,
          1,
          1,
          1,
          1,
          1,
          1,
          1,
          1,
          1,
          1,
          1,
          1,
          1,
          1,
          1,
          1,
          1,
          1,
          1,
          1,
          1,
          1,
          1,
          1,
          1,
          1,
          1,
          1,
          1,
          1,
          1,
          1,
          1,
          1,
          1,
          1,
          1,
          1,
          1,
          1,
          1,
          1,
          1,
          1,
          1,
          1,
          1,
          1,
          1,
          1,
          1,
          1,
          1,
          1,
          1,
          1,
          1,
          1,
          1,
          1,
          1,
          1,
          1,
          1,
          1,
          1,
          1,
          1,
          1,
          1,
          1,
          1,
          1,
          1,
          1,
          1,
          1,
          1,
          1,
          1,
          1,
          1,
          1,
          1,
          1,
          1,
          1,
          1,
          1,
          1,
          1,
          1,
          1,
          1,
          1,
          1,
          1,
          1,
          1,
          1,
          1,
          1,
          1,
          1,
          1,
          1,
          1,
          1,
          1,
          1,
          1,
          1,
          1,
          1,
          1,
          1,
          1,
          1,
          1,
          1,
          1,
          1,
          1,
          1,
          1,
          1,
          1,
          1,
          1,
          1,
          1,
          1,
          1,
          1,
          1,
          1,
          1,
          1,
          1,
          1,
          1,
          1,
          1,
          1,
          1,
          1,
          1,
          1,
          1,
          1,
          1,
          1,
          1,
          1,
          1,
          1,
          1,
          1,
          1,
          1,
          1,
          1,
          1,
          1,
          1,
          1,
          1,
          1,
          1,
          1,
          1,
          1,
          1,
          1,
          1,
          1,
          1,
          1,
          1,
          1,
          1,
          1,
          1,
          1,
          1,
          1,
          1,
          1,
          1,
          1,
          1,
          1,
          1,
          1,
          1,
          1,
          1,
          1,
          1,
          1,
          1,
          1,
          1,
          1,
          1,
          1,
          1,
          1,
          1,
          1,
          1,
          1,
          1,
          1,
          1,
          1,
          1,
          1,
          1,
          1,
          1,
          1,
          1,
          1,
          1,
          1,
          1,
          1,
          1,
          1,
          1,
          1,
          1,
          1,
          1,
          1,
          1,
          1,
          1,
          1,
          1,
          1,
          1,
          1,
          1,
          1,
          1,
          1,
          1,
          1,
          1,
          1,
          1,
          1,
          1,
          1,
          1,
          1,
          1,
          1,
          1,
          1,
          1,
          1,
          1,
          1,
          1,
          1,
          1,
          1,
          1,
          1,
          1,
          1,
          1,
          1,
          1,
          1,
          1,
          1,
          1,
          1,
          1,
          1,
          1,
          1,
          1,
          1,
          1,
          1,
          1,
          1,
          1,
          1,
          1,
          1,
          1,
          1,
          1,
          1,
          1,
          1,
          1,
          1,
          1,
          1,
          1,
          1,
          1,
          1,
          1,
          1,
          1,
          1,
          1,
          1,
          1,
          1,
          1,
          1,
          1,
          1,
          1,
          1,
          1,
          1
         ]
        }
       ],
       "layout": {
        "legend": {
         "title": {
          "text": "CS label"
         }
        },
        "template": {
         "data": {
          "bar": [
           {
            "error_x": {
             "color": "#2a3f5f"
            },
            "error_y": {
             "color": "#2a3f5f"
            },
            "marker": {
             "line": {
              "color": "#E5ECF6",
              "width": 0.5
             },
             "pattern": {
              "fillmode": "overlay",
              "size": 10,
              "solidity": 0.2
             }
            },
            "type": "bar"
           }
          ],
          "barpolar": [
           {
            "marker": {
             "line": {
              "color": "#E5ECF6",
              "width": 0.5
             },
             "pattern": {
              "fillmode": "overlay",
              "size": 10,
              "solidity": 0.2
             }
            },
            "type": "barpolar"
           }
          ],
          "carpet": [
           {
            "aaxis": {
             "endlinecolor": "#2a3f5f",
             "gridcolor": "white",
             "linecolor": "white",
             "minorgridcolor": "white",
             "startlinecolor": "#2a3f5f"
            },
            "baxis": {
             "endlinecolor": "#2a3f5f",
             "gridcolor": "white",
             "linecolor": "white",
             "minorgridcolor": "white",
             "startlinecolor": "#2a3f5f"
            },
            "type": "carpet"
           }
          ],
          "choropleth": [
           {
            "colorbar": {
             "outlinewidth": 0,
             "ticks": ""
            },
            "type": "choropleth"
           }
          ],
          "contour": [
           {
            "colorbar": {
             "outlinewidth": 0,
             "ticks": ""
            },
            "colorscale": [
             [
              0,
              "#0d0887"
             ],
             [
              0.1111111111111111,
              "#46039f"
             ],
             [
              0.2222222222222222,
              "#7201a8"
             ],
             [
              0.3333333333333333,
              "#9c179e"
             ],
             [
              0.4444444444444444,
              "#bd3786"
             ],
             [
              0.5555555555555556,
              "#d8576b"
             ],
             [
              0.6666666666666666,
              "#ed7953"
             ],
             [
              0.7777777777777778,
              "#fb9f3a"
             ],
             [
              0.8888888888888888,
              "#fdca26"
             ],
             [
              1,
              "#f0f921"
             ]
            ],
            "type": "contour"
           }
          ],
          "contourcarpet": [
           {
            "colorbar": {
             "outlinewidth": 0,
             "ticks": ""
            },
            "type": "contourcarpet"
           }
          ],
          "heatmap": [
           {
            "colorbar": {
             "outlinewidth": 0,
             "ticks": ""
            },
            "colorscale": [
             [
              0,
              "#0d0887"
             ],
             [
              0.1111111111111111,
              "#46039f"
             ],
             [
              0.2222222222222222,
              "#7201a8"
             ],
             [
              0.3333333333333333,
              "#9c179e"
             ],
             [
              0.4444444444444444,
              "#bd3786"
             ],
             [
              0.5555555555555556,
              "#d8576b"
             ],
             [
              0.6666666666666666,
              "#ed7953"
             ],
             [
              0.7777777777777778,
              "#fb9f3a"
             ],
             [
              0.8888888888888888,
              "#fdca26"
             ],
             [
              1,
              "#f0f921"
             ]
            ],
            "type": "heatmap"
           }
          ],
          "heatmapgl": [
           {
            "colorbar": {
             "outlinewidth": 0,
             "ticks": ""
            },
            "colorscale": [
             [
              0,
              "#0d0887"
             ],
             [
              0.1111111111111111,
              "#46039f"
             ],
             [
              0.2222222222222222,
              "#7201a8"
             ],
             [
              0.3333333333333333,
              "#9c179e"
             ],
             [
              0.4444444444444444,
              "#bd3786"
             ],
             [
              0.5555555555555556,
              "#d8576b"
             ],
             [
              0.6666666666666666,
              "#ed7953"
             ],
             [
              0.7777777777777778,
              "#fb9f3a"
             ],
             [
              0.8888888888888888,
              "#fdca26"
             ],
             [
              1,
              "#f0f921"
             ]
            ],
            "type": "heatmapgl"
           }
          ],
          "histogram": [
           {
            "marker": {
             "pattern": {
              "fillmode": "overlay",
              "size": 10,
              "solidity": 0.2
             }
            },
            "type": "histogram"
           }
          ],
          "histogram2d": [
           {
            "colorbar": {
             "outlinewidth": 0,
             "ticks": ""
            },
            "colorscale": [
             [
              0,
              "#0d0887"
             ],
             [
              0.1111111111111111,
              "#46039f"
             ],
             [
              0.2222222222222222,
              "#7201a8"
             ],
             [
              0.3333333333333333,
              "#9c179e"
             ],
             [
              0.4444444444444444,
              "#bd3786"
             ],
             [
              0.5555555555555556,
              "#d8576b"
             ],
             [
              0.6666666666666666,
              "#ed7953"
             ],
             [
              0.7777777777777778,
              "#fb9f3a"
             ],
             [
              0.8888888888888888,
              "#fdca26"
             ],
             [
              1,
              "#f0f921"
             ]
            ],
            "type": "histogram2d"
           }
          ],
          "histogram2dcontour": [
           {
            "colorbar": {
             "outlinewidth": 0,
             "ticks": ""
            },
            "colorscale": [
             [
              0,
              "#0d0887"
             ],
             [
              0.1111111111111111,
              "#46039f"
             ],
             [
              0.2222222222222222,
              "#7201a8"
             ],
             [
              0.3333333333333333,
              "#9c179e"
             ],
             [
              0.4444444444444444,
              "#bd3786"
             ],
             [
              0.5555555555555556,
              "#d8576b"
             ],
             [
              0.6666666666666666,
              "#ed7953"
             ],
             [
              0.7777777777777778,
              "#fb9f3a"
             ],
             [
              0.8888888888888888,
              "#fdca26"
             ],
             [
              1,
              "#f0f921"
             ]
            ],
            "type": "histogram2dcontour"
           }
          ],
          "mesh3d": [
           {
            "colorbar": {
             "outlinewidth": 0,
             "ticks": ""
            },
            "type": "mesh3d"
           }
          ],
          "parcoords": [
           {
            "line": {
             "colorbar": {
              "outlinewidth": 0,
              "ticks": ""
             }
            },
            "type": "parcoords"
           }
          ],
          "pie": [
           {
            "automargin": true,
            "type": "pie"
           }
          ],
          "scatter": [
           {
            "fillpattern": {
             "fillmode": "overlay",
             "size": 10,
             "solidity": 0.2
            },
            "type": "scatter"
           }
          ],
          "scatter3d": [
           {
            "line": {
             "colorbar": {
              "outlinewidth": 0,
              "ticks": ""
             }
            },
            "marker": {
             "colorbar": {
              "outlinewidth": 0,
              "ticks": ""
             }
            },
            "type": "scatter3d"
           }
          ],
          "scattercarpet": [
           {
            "marker": {
             "colorbar": {
              "outlinewidth": 0,
              "ticks": ""
             }
            },
            "type": "scattercarpet"
           }
          ],
          "scattergeo": [
           {
            "marker": {
             "colorbar": {
              "outlinewidth": 0,
              "ticks": ""
             }
            },
            "type": "scattergeo"
           }
          ],
          "scattergl": [
           {
            "marker": {
             "colorbar": {
              "outlinewidth": 0,
              "ticks": ""
             }
            },
            "type": "scattergl"
           }
          ],
          "scattermapbox": [
           {
            "marker": {
             "colorbar": {
              "outlinewidth": 0,
              "ticks": ""
             }
            },
            "type": "scattermapbox"
           }
          ],
          "scatterpolar": [
           {
            "marker": {
             "colorbar": {
              "outlinewidth": 0,
              "ticks": ""
             }
            },
            "type": "scatterpolar"
           }
          ],
          "scatterpolargl": [
           {
            "marker": {
             "colorbar": {
              "outlinewidth": 0,
              "ticks": ""
             }
            },
            "type": "scatterpolargl"
           }
          ],
          "scatterternary": [
           {
            "marker": {
             "colorbar": {
              "outlinewidth": 0,
              "ticks": ""
             }
            },
            "type": "scatterternary"
           }
          ],
          "surface": [
           {
            "colorbar": {
             "outlinewidth": 0,
             "ticks": ""
            },
            "colorscale": [
             [
              0,
              "#0d0887"
             ],
             [
              0.1111111111111111,
              "#46039f"
             ],
             [
              0.2222222222222222,
              "#7201a8"
             ],
             [
              0.3333333333333333,
              "#9c179e"
             ],
             [
              0.4444444444444444,
              "#bd3786"
             ],
             [
              0.5555555555555556,
              "#d8576b"
             ],
             [
              0.6666666666666666,
              "#ed7953"
             ],
             [
              0.7777777777777778,
              "#fb9f3a"
             ],
             [
              0.8888888888888888,
              "#fdca26"
             ],
             [
              1,
              "#f0f921"
             ]
            ],
            "type": "surface"
           }
          ],
          "table": [
           {
            "cells": {
             "fill": {
              "color": "#EBF0F8"
             },
             "line": {
              "color": "white"
             }
            },
            "header": {
             "fill": {
              "color": "#C8D4E3"
             },
             "line": {
              "color": "white"
             }
            },
            "type": "table"
           }
          ]
         },
         "layout": {
          "annotationdefaults": {
           "arrowcolor": "#2a3f5f",
           "arrowhead": 0,
           "arrowwidth": 1
          },
          "autotypenumbers": "strict",
          "coloraxis": {
           "colorbar": {
            "outlinewidth": 0,
            "ticks": ""
           }
          },
          "colorscale": {
           "diverging": [
            [
             0,
             "#8e0152"
            ],
            [
             0.1,
             "#c51b7d"
            ],
            [
             0.2,
             "#de77ae"
            ],
            [
             0.3,
             "#f1b6da"
            ],
            [
             0.4,
             "#fde0ef"
            ],
            [
             0.5,
             "#f7f7f7"
            ],
            [
             0.6,
             "#e6f5d0"
            ],
            [
             0.7,
             "#b8e186"
            ],
            [
             0.8,
             "#7fbc41"
            ],
            [
             0.9,
             "#4d9221"
            ],
            [
             1,
             "#276419"
            ]
           ],
           "sequential": [
            [
             0,
             "#0d0887"
            ],
            [
             0.1111111111111111,
             "#46039f"
            ],
            [
             0.2222222222222222,
             "#7201a8"
            ],
            [
             0.3333333333333333,
             "#9c179e"
            ],
            [
             0.4444444444444444,
             "#bd3786"
            ],
            [
             0.5555555555555556,
             "#d8576b"
            ],
            [
             0.6666666666666666,
             "#ed7953"
            ],
            [
             0.7777777777777778,
             "#fb9f3a"
            ],
            [
             0.8888888888888888,
             "#fdca26"
            ],
            [
             1,
             "#f0f921"
            ]
           ],
           "sequentialminus": [
            [
             0,
             "#0d0887"
            ],
            [
             0.1111111111111111,
             "#46039f"
            ],
            [
             0.2222222222222222,
             "#7201a8"
            ],
            [
             0.3333333333333333,
             "#9c179e"
            ],
            [
             0.4444444444444444,
             "#bd3786"
            ],
            [
             0.5555555555555556,
             "#d8576b"
            ],
            [
             0.6666666666666666,
             "#ed7953"
            ],
            [
             0.7777777777777778,
             "#fb9f3a"
            ],
            [
             0.8888888888888888,
             "#fdca26"
            ],
            [
             1,
             "#f0f921"
            ]
           ]
          },
          "colorway": [
           "#636efa",
           "#EF553B",
           "#00cc96",
           "#ab63fa",
           "#FFA15A",
           "#19d3f3",
           "#FF6692",
           "#B6E880",
           "#FF97FF",
           "#FECB52"
          ],
          "font": {
           "color": "#2a3f5f"
          },
          "geo": {
           "bgcolor": "white",
           "lakecolor": "white",
           "landcolor": "#E5ECF6",
           "showlakes": true,
           "showland": true,
           "subunitcolor": "white"
          },
          "hoverlabel": {
           "align": "left"
          },
          "hovermode": "closest",
          "mapbox": {
           "style": "light"
          },
          "paper_bgcolor": "white",
          "plot_bgcolor": "#E5ECF6",
          "polar": {
           "angularaxis": {
            "gridcolor": "white",
            "linecolor": "white",
            "ticks": ""
           },
           "bgcolor": "#E5ECF6",
           "radialaxis": {
            "gridcolor": "white",
            "linecolor": "white",
            "ticks": ""
           }
          },
          "scene": {
           "xaxis": {
            "backgroundcolor": "#E5ECF6",
            "gridcolor": "white",
            "gridwidth": 2,
            "linecolor": "white",
            "showbackground": true,
            "ticks": "",
            "zerolinecolor": "white"
           },
           "yaxis": {
            "backgroundcolor": "#E5ECF6",
            "gridcolor": "white",
            "gridwidth": 2,
            "linecolor": "white",
            "showbackground": true,
            "ticks": "",
            "zerolinecolor": "white"
           },
           "zaxis": {
            "backgroundcolor": "#E5ECF6",
            "gridcolor": "white",
            "gridwidth": 2,
            "linecolor": "white",
            "showbackground": true,
            "ticks": "",
            "zerolinecolor": "white"
           }
          },
          "shapedefaults": {
           "line": {
            "color": "#2a3f5f"
           }
          },
          "ternary": {
           "aaxis": {
            "gridcolor": "white",
            "linecolor": "white",
            "ticks": ""
           },
           "baxis": {
            "gridcolor": "white",
            "linecolor": "white",
            "ticks": ""
           },
           "bgcolor": "#E5ECF6",
           "caxis": {
            "gridcolor": "white",
            "linecolor": "white",
            "ticks": ""
           }
          },
          "title": {
           "x": 0.05
          },
          "xaxis": {
           "automargin": true,
           "gridcolor": "white",
           "linecolor": "white",
           "ticks": "",
           "title": {
            "standoff": 15
           },
           "zerolinecolor": "white",
           "zerolinewidth": 2
          },
          "yaxis": {
           "automargin": true,
           "gridcolor": "white",
           "linecolor": "white",
           "ticks": "",
           "title": {
            "standoff": 15
           },
           "zerolinecolor": "white",
           "zerolinewidth": 2
          }
         }
        },
        "title": {
         "text": "cognatehood_2"
        },
        "xaxis": {
         "title": {
          "text": "cognatehood_2 score"
         }
        },
        "yaxis": {
         "title": {
          "text": "count"
         }
        }
       }
      },
      "text/html": [
       "<div>                            <div id=\"72c92fcb-8e98-4ab3-b23e-dd2bd6b55710\" class=\"plotly-graph-div\" style=\"height:525px; width:100%;\"></div>            <script type=\"text/javascript\">                require([\"plotly\"], function(Plotly) {                    window.PLOTLYENV=window.PLOTLYENV || {};                                    if (document.getElementById(\"72c92fcb-8e98-4ab3-b23e-dd2bd6b55710\")) {                    Plotly.newPlot(                        \"72c92fcb-8e98-4ab3-b23e-dd2bd6b55710\",                        [{\"mode\":\"markers\",\"name\":\"1\",\"opacity\":1,\"x\":[0.0,0.3304,0.4105,0.54,0.3318,0.3059,0.4504,0.4219,0.3152,0.5447,0.4551,0.3362,0.4466,0.328,0.3584,0.4091,0.3612,0.3976,0.2886,0.3726,0.5197,0.473,0.2643,0.4,0.3341,0.2907,0.4056,0.5389,0.255,0.2879,0.3117,0.2396,0.2295,0.4712,0.4772,0.3222,0.3899,0.3397,0.512,0.4065,0.3395,0.3656,0.3866,0.5391,0.2706,0.357,0.347,0.2631,0.3236,0.6145,0.5534,0.4791,0.3642,0.3596,0.233,0.3311,0.4396,0.4126,0.2813,0.4646,0.3224,0.3619,0.2671,0.2771,0.3969,0.3201,0.3505,0.2895,0.307,0.374,0.222,0.6591,0.3663,0.3035,0.6603,0.4228,0.4723,0.2171,0.3997,0.5902,0.4796,0.7875,0.6528,0.2536,0.544,0.3647,0.2181,0.5433,0.5487,0.4994,0.3325,0.4726,0.6227,0.212,0.286,0.2855,0.8076,0.4705,0.3147,0.1445,0.3124,0.2722,0.4256,0.4499,0.5541,0.8506,0.5713,0.3638,0.4077,0.6159,0.2998,0.6647,0.3967,0.4361,0.3453,0.4217,0.5494,0.7,0.4698,0.3965,0.304,0.2928,0.5144,0.3143,0.5025,0.5316,0.2881,0.7299,0.6213,0.3887,0.7768,0.3687,0.3838,0.8226,0.3306,0.2575,0.8781,0.6727,0.3526,0.3161,0.8191,0.5573,0.3568,0.5466,0.3577,0.315,0.2564,0.474,0.4434,0.5097,0.2162,0.7794,0.6769,0.562,0.509,0.4532,0.3598,0.502,0.3869,0.625,0.4658,0.6124,0.2825,0.6047,0.4803,0.6547,0.7231,0.4039,0.6813,0.4691,0.5968,0.4936,0.5484,0.586,0.3346,0.3266,0.4929,0.3075,0.449,0.4086,0.8798,0.2837,0.5377,0.3444,0.7152,0.6969,0.4933,0.3876,0.4807,0.3939,0.6099,0.4471,0.4537,0.5363,0.6267,0.5335,0.7826,0.6446,0.5085,0.6827,0.3329,0.4436,0.3789,0.5155,0.5482,0.3941,0.2984,0.431,0.5788,0.7208,0.3472,0.2174,0.3301,0.5309,0.4819,0.7754,0.7509,0.3689,0.6953,0.3764,0.7703,0.7712,0.5909,0.3166,0.4422,0.2297,0.5235,0.5664,0.4954,0.728,0.5839,0.8657,0.534,0.8613,0.3343,0.3747,0.4558,0.2431,0.5048,0.844,0.566,0.6031,0.612,0.2517,0.3,0.7927,0.6839,0.3738,0.3743,0.5123,0.5438,0.4968,0.777,0.4058,0.3402,0.3915,0.3493,0.6671,0.8482,0.2694,0.6619,0.6085,0.8648,0.6675,0.2629,0.3138,0.3495,0.1805,0.732,0.3565,0.3264,0.8361,0.3322,0.752,0.6878,0.3187,0.2979,0.579,0.5202,0.7504,0.8531,0.6997,0.5258,0.4366,0.7079,0.5006,0.2781,0.745,0.3883,0.4303,0.1714,0.8046,0.5884,0.427,0.5295,0.5867,0.8844,0.1828,0.5863,0.6895,0.3014,0.5524,0.7726,0.3241,0.4382,0.3103,0.5858,0.5477,0.7257,0.4779,0.4511,0.3801,0.5368,0.3556,0.2473,0.6101,0.7245,0.2916,0.749,0.7562,0.2741,0.3449,0.9297,0.2127,0.7303,0.4021,0.6353,0.4457,0.7278,0.5816,0.481,0.3491,0.5914,0.3101,0.8064,0.6141,0.5312,0.5837,0.6498,0.3617,0.4838,0.5113,0.7338,0.8373,0.6442,0.1725,0.4595,0.4119,0.4971,0.2379,0.3336,0.4193,0.4637,0.2246,0.742,0.4856,0.3785,0.6059,0.3918,0.5825,0.7191,0.8317,0.6416,0.3327,0.2832,0.5214,0.3824,0.5179,0.4406,0.7411,0.6028,0.7105,0.7074,0.42,0.4758,0.6171,0.8473,0.636,0.3911,0.399,0.5382,0.9216,0.629,0.4098,0.2954,0.9103,0.1644,0.4168,0.2795,0.7212,0.1751,0.9498,0.3512,0.2449,0.3378,0.4502,0.6211,0.8693,0.8947,0.4023,0.4478,0.5067,0.3243,0.8004,0.7506,0.7028,0.583,0.4567,0.3864,0.4782,0.3796,0.897,0.3759,0.513,0.6918,0.6967,0.3633,0.7121,0.6636,0.2447,0.5305,0.6507,0.4289,0.3771,0.4763,0.4212,0.4147,0.3348,0.619,0.8228,0.3383,0.2227,0.7091,0.208,0.4037,0.2213,0.7717,0.5286,0.5421,0.4007,0.477,0.7682,0.665,0.4987,0.8872,0.7752,0.5646,0.2608,0.2202,0.6624,0.3157,0.7948,0.2893,0.6804,0.4546,0.2622,0.2351,0.4448,0.5508,0.6806,0.7252,0.7647,0.2204,0.4663,0.685,0.6306,0.5237,0.2827,0.2935,0.3703,0.7551,0.7864,0.0542,0.2659,0.4901,0.5032,0.371,0.3516,0.3733,0.5414,0.3334,0.6927,0.3199,0.6638,0.5351,0.7336,0.714,0.615,0.7929,0.682,0.6678,0.4049,0.6902,0.6916,0.3519,0.2265,0.2489,0.3215,0.4831,0.5991,0.9071],\"y\":[2186,103,99,98,62,54,41,41,41,40,35,34,32,29,27,27,27,26,25,24,23,23,21,18,17,16,14,13,13,12,12,11,10,10,10,9,9,9,8,8,8,8,8,8,7,7,7,7,7,6,6,6,6,6,6,6,6,6,6,5,5,5,5,5,5,5,5,5,5,5,5,5,5,5,4,4,4,4,4,4,4,4,4,4,4,4,4,4,4,4,4,3,3,3,3,3,3,3,3,3,3,3,3,3,3,3,3,3,3,3,3,3,3,3,3,3,3,3,3,3,3,3,3,3,3,3,3,3,2,2,2,2,2,2,2,2,2,2,2,2,2,2,2,2,2,2,2,2,2,2,2,2,2,2,2,2,2,2,2,2,2,2,2,2,2,2,2,2,2,2,2,2,2,2,2,2,2,2,2,2,2,2,2,2,2,2,2,2,2,2,2,2,2,2,2,2,2,2,2,2,2,2,2,2,2,2,2,2,2,2,2,2,2,2,2,2,1,1,1,1,1,1,1,1,1,1,1,1,1,1,1,1,1,1,1,1,1,1,1,1,1,1,1,1,1,1,1,1,1,1,1,1,1,1,1,1,1,1,1,1,1,1,1,1,1,1,1,1,1,1,1,1,1,1,1,1,1,1,1,1,1,1,1,1,1,1,1,1,1,1,1,1,1,1,1,1,1,1,1,1,1,1,1,1,1,1,1,1,1,1,1,1,1,1,1,1,1,1,1,1,1,1,1,1,1,1,1,1,1,1,1,1,1,1,1,1,1,1,1,1,1,1,1,1,1,1,1,1,1,1,1,1,1,1,1,1,1,1,1,1,1,1,1,1,1,1,1,1,1,1,1,1,1,1,1,1,1,1,1,1,1,1,1,1,1,1,1,1,1,1,1,1,1,1,1,1,1,1,1,1,1,1,1,1,1,1,1,1,1,1,1,1,1,1,1,1,1,1,1,1,1,1,1,1,1,1,1,1,1,1,1,1,1,1,1,1,1,1,1,1,1,1,1,1,1,1,1,1,1,1,1,1,1,1,1,1,1,1,1,1,1,1,1,1,1,1,1,1,1,1,1,1,1,1,1,1,1,1,1,1,1,1,1,1,1,1,1,1,1,1,1,1,1,1,1,1,1,1,1,1,1],\"type\":\"scatter\"},{\"mode\":\"markers\",\"name\":\"0\",\"opacity\":0.5,\"x\":[0.0,0.3304,0.4105,0.3318,0.3059,0.4466,0.54,0.3362,0.5447,0.3726,0.4504,0.4219,0.3612,0.4,0.4056,0.255,0.2879,0.3152,0.4551,0.4091,0.2907,0.473,0.3584,0.2886,0.3976,0.3236,0.347,0.2643,0.5197,0.328,0.3341,0.3899,0.233,0.3395,0.3201,0.6145,0.3866,0.4772,0.2706,0.2671,0.3965,0.3222,0.4396,0.2813,0.2928,0.4028,0.5316,0.307,0.4712,0.2295,0.3656,0.3117,0.2396,0.4126,0.4065,0.2998,0.4723,0.4705,0.2564,0.3596,0.2975,0.5534,0.3642,0.431,0.4691,0.4791,0.2181,0.474,0.6227,0.3747,0.8482,0.3838,0.512,0.3663,0.2771,0.4039,0.6647,0.3322,0.2608,0.449,0.2722,0.4527,0.3549,0.222,0.3224,0.3311,0.212,0.5484,0.3505,0.5713,0.374,0.2351,0.2697,0.6528,0.5389,0.3327,0.3619,0.3444,0.3306,0.2431,0.4046,0.8531,0.4228,0.1725,0.3336,0.2855,0.3035,0.5067,0.4119,0.3453,0.5863,0.2881,0.2715,0.4919,0.2631,0.3449,0.3329,0.8191,0.4646,0.3682,0.7768,0.6997,0.5391,0.2575,0.357,0.3731,0.7794,0.3759,0.286,0.5839,0.3103,0.3397,0.8076,0.2942,0.4796,0.4212,0.2171,0.315,0.4361,0.5718,0.4541,0.4147,0.586,0.4803,0.7231,0.3115,0.7299,0.4077,0.3997,0.6619,0.5335,0.2174,0.2204,0.5902,0.4434,0.5279,0.3724,0.5867,0.2036,0.3733,0.3161,0.3568,0.3456,0.544,0.2895,0.7875,0.399,0.1609,0.7336,0.5025,0.3687,0.2239,0.3325,0.2655,0.2832,0.3266,0.3348,0.5085,0.4282,0.2954,0.3313,0.8226,0.6085,0.3514,0.629,0.3061,0.3901,0.5202,0.5517,0.4053,0.6253,0.3133,0.427,0.6507,0.4387,0.6353,0.7152,0.4168,0.8039,0.3526,0.3301,0.5657,0.3054,0.2926,0.4698,0.579,0.4373,0.4471,0.5179,0.4502,0.6895,0.3498,0.4534,0.619,0.4217,0.562,0.7579,0.6159,0.5541,0.5309,0.5466,0.7338,0.4639,0.3075,0.258,0.3911,0.3607,0.3565,0.2713,0.4537,0.3887,0.304,0.7703,0.615,0.1445,0.8697,0.3869,0.2629,0.5548,0.3796,0.4366,0.6215,0.6624,0.2844,0.4628,0.7046,0.5144,0.4049,0.2363,0.8473,0.2197,0.4058,0.3579,0.5274,0.7625,0.6451,0.5445,0.728,0.8816,0.5048,0.6591,0.5433,0.4728,0.453,0.2762,0.4845,0.6416,0.6888,0.7145,0.5232,0.3294,0.2536,0.3801,0.3778,0.4873,0.2718,0.665,0.5968,0.8506,0.3773,0.4422,0.3227,0.4499,0.3782,0.1268,0.3883,0.3495,0.5482,0.241,0.2965,0.4987,0.5494,0.4256,0.5363,0.452,0.5739,0.5986,0.622,0.9757,0.7427,0.8116,0.2153,0.6801,0.3715,0.6397,0.5991,0.4968,0.6638,0.7189,0.6099,0.5461,0.3463,0.4037,0.6512,0.4455,0.3633,0.3824,0.41,0.6059,0.3794,0.4245,0.5758,0.3738,0.6556,0.4249,0.5377,0.5251,0.6283,0.5884,0.3586,0.4994,0.5793,0.6141,0.4677,0.4838,0.3519,0.3243,0.2785,0.4385,0.2013,0.3199,0.3582,0.2991,0.7509,0.3255,0.6673,0.4737,0.4936,0.4263,0.3378,0.5414,0.3969,0.2694,0.2508,0.4156,0.4565,0.4233,0.5214,0.2519,0.4807,0.5954,0.6124,0.3808,0.3486,0.2489,0.5172,0.5825,0.3512,0.6521,0.3472,0.4971,0.3631,0.742,0.4259,0.5702,0.7574,0.2837,0.5573,0.5942,0.5384,0.6187,0.1756,0.3418,0.4831,0.8693,0.8849,0.7296,0.8536,0.3287,0.279,0.3166,0.4002,0.6362,0.5064,0.2979,0.7257,0.7686,0.3556,0.3346,0.3131,0.5237,0.2909,0.4726,0.4579,0.9148,0.643,0.6792,0.947,0.778,0.4338,0.696,0.3439,0.8933,0.4635,0.6951,0.6255,0.883,0.6967,0.5351,0.502,0.5837,0.8106,0.6334,0.513,0.3943,0.3598,0.1375,0.6211,0.2384,0.8228,0.3834,0.7488,0.4763,0.6636,0.611,0.5914,0.2657,0.6862,0.5438,0.2452,0.6717,0.4135,0.6498,0.5629,0.3827,0.5417,0.5032,0.3638,0.2893,0.3523,0.2162,0.2935,0.7654,0.4301,0.4882,0.5286,0.3876,0.4095,0.2501,0.7121,0.3259,0.4642,0.3729,0.6825,0.7037,0.653,0.2115,0.4429,0.4894,0.7387,0.7691,0.9092,0.4758,0.5412,0.6983,0.2848,0.679,0.7457,0.5769,0.583,0.1751,0.5312,0.8872,0.5242,0.3122,0.4929,0.4007,0.6341,0.6514,0.6292,0.7822,0.5667,0.4656,0.5858,0.321,0.7362,0.4567,0.6453,0.3283,0.3754,0.6523,0.5671,0.4032,0.3617,0.2659,0.5923,0.7067,0.403,0.3624,0.686,0.7693,0.7964,0.3953,0.4158,0.5118,0.2293,0.5006,0.71,0.4663,0.7243,0.4266,0.2403,0.4819,0.2662,0.2246,0.4782,0.3014,0.2622,0.4051,0.2825,0.7282,0.2858,0.7945,0.6797,0.6101,0.3187,0.5487,0.4889,0.4436,0.5347,0.3164,0.7252,0.2414,0.9057,0.4247,0.732,0.3392,0.6458,0.8749,0.5505,0.6827,0.4922,0.7028,0.4347,0.8492,0.3745,0.3785,0.7551,0.6113,0.4445,0.3572,0.9477,0.1826,0.3528,0.6213,0.4492,0.573,0.4733,0.682,0.2459,0.6986,0.2057,0.4086,0.7682,0.3154,0.4462,0.8966,0.6271,0.6204,0.3147,0.2725,0.9103,0.6706,0.4312,0.414,0.6262,0.7035,0.2447,0.3399,0.4842,0.3435,0.2232,0.4088,0.3983,0.314,0.4532,0.3502,0.4623,0.407,0.6264,0.6969,0.3038,0.3981,0.6605,0.7114,0.318,0.5804,0.509,0.6804,0.8704,0.5604,0.1989,0.5473,0.4749,0.5099,0.4681,0.4506,0.6995,0.6348,0.5865,0.8352,0.5748,0.4721,0.2578,0.3024,0.3196,0.2164,0.3402,0.3047,0.8784,0.9106,0.6162,0.8424,0.456,0.4193,0.752,0.5062,0.3178,0.4607,0.7614,0.714,0.5265,0.7548,0.6449,0.3299,0.8618,0.3241,0.2582,0.7588,0.4903,0.9279,0.7803,0.4875,0.3343,0.3929,0.6367,0.7004,0.6143,0.9185,0.6138,0.2956,0.4931,0.7194,0.4322,0.2517,0.2802,0.3409,0.7541,0.406,0.745,0.8798,0.4464,0.3264,0.2795,0.59,0.8576,0.3948,0.4546,0.36,0.7999,0.294,0.2104,0.4406,0.7994,0.777,0.4238,0.1819,0.6701,0.336,0.7485,0.6799,0.4614,0.4812,0.647,0.527,0.8046,0.8071,0.6288,0.5781,0.7829,0.4284,0.4382,0.3589,0.3,0.6313,0.5676,0.2673,0.9498,0.1805,0.208,0.5807,0.3771,0.5587,0.389,0.3308,0.8896,0.435,0.4609,0.3939,0.4856,0.3185,0.417,0.3374,0.4079,0.7107,0.608,0.6839,0.7894,0.2746,0.3544,0.5611,0.4207,0.215,0.7915,0.749,0.4289,0.4658,0.3126,0.3234,0.3425,0.3353,0.5123,0.7359,0.5622,0.2428,0.8447,0.6031,0.3479,0.3696,0.2083,0.6318,0.3703,0.2424,0.421,0.4303,0.2949,0.1714,0.3157,0.8585,0.5029,0.3915,0.7616,0.8426,0.3451,0.6201,0.5618,0.5578,0.5097,0.7453,0.7373,0.979,0.8552,0.8613,0.5909,0.5958,0.3621,0.8648,0.4602,0.9157,0.4354,0.6028,0.6584,0.1996,0.346,0.7562,0.6563,0.6547,0.8959,0.6082,0.353,0.2664,0.4165,0.3666,0.6355,0.7215,0.2202,0.626,0.1884,0.2183,0.3175,0.3119,0.844,0.3124,0.5344,0.325,0.8905,0.4448,0.6306,0.6668,0.4884,0.6829,0.5515,0.3143,0.3927,0.434,0.2839,0.6005,0.7959,0.2339,0.6526,0.3736,0.3488,0.5998,0.3936,0.7245,0.7212,0.6687,0.838,0.6939,0.4254,0.2316,0.7583,0.3806,0.6108,0.2652,0.7429,0.4485,0.5977,0.6654,0.2905,0.7464,0.5386,0.5664,0.3761,0.2503,0.4604,0.2136,0.8735,0.3941,0.7525,0.8163,0.2438,0.6409,0.6299,0.322,0.7761,0.5795,0.7546,0.9428,0.5874,0.5772,0.5113,0.5538,0.2356,0.282,0.1924,0.7334,0.6794,0.4569,0.5816,0.438,0.5512,0.6358,0.3428,0.6551,0.9115,0.8258,0.484,0.8781,0.2869,0.3946,0.566,0.3908,0.7002,0.5039,0.2692,0.4793,0.5284,0.4457,0.6612,0.9479,0.2603,0.9129,0.4525,0.2473,0.3577,0.8067,0.7411,0.2454,0.46,0.5751,0.173,0.5797,0.8664,0.4151,0.5552,0.5468,0.7124,0.2699,0.6743,0.2094,0.6778,0.2071,0.6535,0.4427,0.7278,0.5328,0.1709,0.4368,0.7303,0.5912,0.5148,0.1515,0.3516,0.7721,0.6813,0.4123,0.2811,0.237,0.8256,0.477,0.6472,0.1852,0.6755,0.5846,0.5106,0.5951,0.2755,0.4116,0.3364,0.6892,0.2834,0.6808,0.466,0.3813,0.6972,0.4401,0.6257,0.7889,0.4392,0.2986,0.7504,0.4558,0.6369,0.6432,0.301,0.4357,0.4305,0.4023,0.3089,0.1314,0.8912,0.6038,0.5053,0.4196,0.8111,0.498,0.7184,0.6537,0.8064,0.93,0.3049,0.6713,0.7,0.1261,0.858,0.293,0.2781,0.7651,0.7401,0.3446,0.5125,0.5153,0.3705,0.6953,0.6594,0.3684,0.3271,0.5641,0.6909,0.7696,0.2265,0.5167,0.487,0.4331,0.4359,0.4959,0.5155,0.4067,0.4014,0.83,0.3962,0.5592,0.3376,0.7675,0.3416,0.7712,0.1669,0.5218,0.4768,0.7233,0.6577,0.2748,0.7364,0.4203,0.8013,0.699,0.5095,0.6948,0.2989,0.3371,0.8767,0.4319,0.329,0.8377,0.8202,0.5244,0.8924,0.7254,0.6021,0.735,0.7665,0.5225,0.3357,0.5193,0.8947,0.6832,0.2883,0.5111,0.354,0.4719,0.6407,0.5246,0.707,0.459,0.6934,0.4779,0.3213,0.5288,0.5146,0.7644,0.1802,0.7537,0.7497,0.6274,0.4483,0.3661,0.4184,0.2003,0.7371,0.2386,0.6869,0.8879,0.3276,0.4252,0.7084,0.526,0.6678,0.8548,0.3052,0.6981,0.3979,0.9145,0.8562,0.343,0.4775,0.5081,0.4985,0.7672,0.6218,0.2426,0.2599,0.2143,0.4632,0.2601,0.6194,0.8317,0.3647,0.4235,0.6206,0.3815,0.739,0.5088,0.4399,0.5979,0.8683,0.805,0.5809,0.2449,0.6057,0.7532,0.6229,0.5788,0.7864,0.7938,0.5828,0.7726,0.5421,0.7208,0.7032,0.8464,0.8891,0.7425,0.2683,0.7483,0.5321,0.5933,0.5648,0.558,0.618,0.7929,0.7808,0.2753,0.865,0.5083,0.6302,0.3535,0.1366,0.8975,0.9407,0.4224,0.332,0.236,0.7128,0.368,0.4343,0.6633,0.8823,0.7511,0.4954,0.2398,0.9031,0.6661,0.1837,0.5615,0.8097,0.5239,0.5127,0.7044,0.1114,0.685,0.2704,0.8814,0.3934,0.7217,0.6601,0.5356,0.6554,0.3297,0.2792,0.2573,0.4114,0.5779,0.8373,0.5382,0.8331,0.2984,0.7752,0.2209,0.6332,0.2566,0.4826,0.3491,0.5594,0.6923,0.7852,0.4621,0.5055,0.3972,0.4308,0.3091,0.3892,0.5258,0.4828,0.4478,0.2311,0.6603,0.2379,0.7177,0.0864,0.5342,0.3082,0.248,0.4653,0.8034,0.8419,0.7271,0.6806,0.9082,0.7025,0.4982,0.2902,0.6643,0.6899,0.7581,0.8165,0.5249,0.2669,0.5706,0.3385,0.3768,0.4926,0.5305,0.2912,0.5823,0.8282,0.7787,0.5295,0.8004,0.6103,0.8737,0.2914,0.5786,0.4901,0.5583,0.8431,0.226,0.2435,0.5139,0.2645,0.4488,0.382,0.6682,0.8109,0.625,0.7222,0.5926,0.5379,0.4555,0.4336,0.5842,0.3033,0.1856,0.3098,0.4548,0.8791,0.3101,0.4403,0.2477,0.29,0.9307,0.5027,0.2571,0.4481,0.4287,0.3822,0.7205,0.6876,0.127,0.3712,0.3369,0.2968,0.8994,0.3547,0.6897,0.6423,0.7838,0.7572,0.1658,0.5711,0.7292,0.7773,0.2636,0.8001,0.3432,0.3096,0.5158,0.1742,0.5496,0.7775,0.4273,0.5508,0.3474,0.7663,0.3017,0.692,0.1772,0.9099,0.4847,0.5737,0.7833,0.3918,0.7011,0.2764,0.3764,0.5669,0.8788,0.2648,0.6446,0.1781,0.2227,0.4261,0.2627,0.4352,0.2213,0.442,0.5571,0.6374,0.4011,0.2251,0.3507,0.7159,0.3437,0.3042,0.788,0.9101,0.2585,0.4852,0.4098,0.3465,0.4371,0.6425,0.5774,0.6871,0.8384,0.6365,0.572,0.9054,0.3542,0.5613,0.7397,0.4784,0.6696,0.837,0.3215],\"y\":[11470,851,363,347,302,290,287,277,270,233,228,214,181,178,157,157,153,143,140,138,119,111,108,105,101,91,90,88,83,82,81,75,70,70,66,63,63,61,60,54,52,52,51,48,47,46,45,45,45,44,42,41,40,40,40,39,38,37,36,36,35,35,34,34,33,31,31,29,29,29,29,29,29,28,27,26,26,25,25,24,24,24,23,23,22,22,22,21,21,20,20,20,20,20,20,20,20,19,19,19,19,19,18,18,18,18,17,17,17,17,16,16,16,16,16,15,15,15,15,15,15,15,14,14,14,14,14,14,14,13,13,13,13,13,13,13,13,13,13,12,12,12,12,12,12,12,12,12,12,12,12,12,12,12,12,12,12,12,12,11,11,11,11,11,11,11,11,10,10,10,10,10,10,10,10,10,10,10,10,10,10,10,10,10,9,9,9,9,9,9,9,9,9,9,9,9,9,9,9,9,9,8,8,8,8,8,8,8,8,8,8,8,8,8,8,8,8,8,8,8,8,8,8,8,7,7,7,7,7,7,7,7,7,7,7,7,7,7,7,7,7,7,7,7,7,7,7,7,7,7,7,7,7,6,6,6,6,6,6,6,6,6,6,6,6,6,6,6,6,6,6,6,6,6,6,6,6,6,6,6,6,6,6,6,6,6,6,6,6,6,6,6,6,6,6,6,6,6,5,5,5,5,5,5,5,5,5,5,5,5,5,5,5,5,5,5,5,5,5,5,5,5,5,5,5,5,5,5,5,5,5,5,5,5,5,5,5,5,5,5,5,5,5,5,5,5,5,5,5,5,5,5,5,5,5,5,5,5,5,5,5,5,5,5,5,5,5,5,4,4,4,4,4,4,4,4,4,4,4,4,4,4,4,4,4,4,4,4,4,4,4,4,4,4,4,4,4,4,4,4,4,4,4,4,4,4,4,4,4,4,4,4,4,4,4,4,4,4,4,4,4,4,4,4,4,4,4,4,4,4,4,4,4,4,4,4,4,4,4,4,4,4,4,4,4,4,4,4,4,4,4,4,4,4,4,4,4,4,4,3,3,3,3,3,3,3,3,3,3,3,3,3,3,3,3,3,3,3,3,3,3,3,3,3,3,3,3,3,3,3,3,3,3,3,3,3,3,3,3,3,3,3,3,3,3,3,3,3,3,3,3,3,3,3,3,3,3,3,3,3,3,3,3,3,3,3,3,3,3,3,3,3,3,3,3,3,3,3,3,3,3,3,3,3,3,3,3,3,3,3,3,3,3,3,3,3,3,3,3,3,3,3,3,3,3,3,3,3,3,3,3,3,3,3,3,3,3,3,3,3,3,3,3,3,3,3,3,3,3,3,3,3,3,3,3,3,3,3,3,3,3,3,3,3,3,3,3,3,3,2,2,2,2,2,2,2,2,2,2,2,2,2,2,2,2,2,2,2,2,2,2,2,2,2,2,2,2,2,2,2,2,2,2,2,2,2,2,2,2,2,2,2,2,2,2,2,2,2,2,2,2,2,2,2,2,2,2,2,2,2,2,2,2,2,2,2,2,2,2,2,2,2,2,2,2,2,2,2,2,2,2,2,2,2,2,2,2,2,2,2,2,2,2,2,2,2,2,2,2,2,2,2,2,2,2,2,2,2,2,2,2,2,2,2,2,2,2,2,2,2,2,2,2,2,2,2,2,2,2,2,2,2,2,2,2,2,2,2,2,2,2,2,2,2,2,2,2,2,2,2,2,2,2,2,2,2,2,2,2,2,2,2,2,2,2,2,2,2,2,2,2,2,2,2,2,2,2,2,2,2,2,2,2,2,2,2,2,2,2,2,2,2,2,2,2,2,2,2,2,2,2,2,2,2,2,2,2,2,2,2,2,2,2,2,2,2,2,2,2,1,1,1,1,1,1,1,1,1,1,1,1,1,1,1,1,1,1,1,1,1,1,1,1,1,1,1,1,1,1,1,1,1,1,1,1,1,1,1,1,1,1,1,1,1,1,1,1,1,1,1,1,1,1,1,1,1,1,1,1,1,1,1,1,1,1,1,1,1,1,1,1,1,1,1,1,1,1,1,1,1,1,1,1,1,1,1,1,1,1,1,1,1,1,1,1,1,1,1,1,1,1,1,1,1,1,1,1,1,1,1,1,1,1,1,1,1,1,1,1,1,1,1,1,1,1,1,1,1,1,1,1,1,1,1,1,1,1,1,1,1,1,1,1,1,1,1,1,1,1,1,1,1,1,1,1,1,1,1,1,1,1,1,1,1,1,1,1,1,1,1,1,1,1,1,1,1,1,1,1,1,1,1,1,1,1,1,1,1,1,1,1,1,1,1,1,1,1,1,1,1,1,1,1,1,1,1,1,1,1,1,1,1,1,1,1,1,1,1,1,1,1,1,1,1,1,1,1,1,1,1,1,1,1,1,1,1,1,1,1,1,1,1,1,1,1,1,1,1,1,1,1,1,1,1,1,1,1,1,1,1,1,1,1,1,1,1,1,1,1,1,1,1,1,1,1,1,1,1,1,1,1,1,1,1,1,1,1,1,1,1,1,1,1,1,1,1,1,1,1,1,1,1,1,1,1,1,1,1,1,1,1,1,1,1,1,1,1,1,1,1,1,1,1,1,1,1,1,1,1,1,1,1,1,1,1,1,1,1,1,1,1,1,1,1,1,1,1,1,1,1,1,1,1,1,1,1,1,1,1,1,1,1,1,1,1,1,1,1,1,1,1,1,1,1,1,1,1,1,1,1,1,1,1,1,1,1,1,1,1,1,1,1,1,1,1,1,1,1,1,1,1,1,1,1,1,1,1,1,1,1,1,1,1,1,1,1,1,1,1,1,1,1,1,1,1,1,1,1,1,1,1,1,1,1,1,1,1,1,1,1,1,1,1,1,1,1,1,1,1,1,1,1,1,1,1,1,1,1,1,1,1,1,1,1,1,1,1,1,1,1,1,1,1,1,1,1,1,1,1,1,1,1,1,1,1,1,1,1,1,1,1,1,1,1,1,1,1,1,1,1,1,1,1,1,1],\"type\":\"scatter\"}],                        {\"template\":{\"data\":{\"histogram2dcontour\":[{\"type\":\"histogram2dcontour\",\"colorbar\":{\"outlinewidth\":0,\"ticks\":\"\"},\"colorscale\":[[0.0,\"#0d0887\"],[0.1111111111111111,\"#46039f\"],[0.2222222222222222,\"#7201a8\"],[0.3333333333333333,\"#9c179e\"],[0.4444444444444444,\"#bd3786\"],[0.5555555555555556,\"#d8576b\"],[0.6666666666666666,\"#ed7953\"],[0.7777777777777778,\"#fb9f3a\"],[0.8888888888888888,\"#fdca26\"],[1.0,\"#f0f921\"]]}],\"choropleth\":[{\"type\":\"choropleth\",\"colorbar\":{\"outlinewidth\":0,\"ticks\":\"\"}}],\"histogram2d\":[{\"type\":\"histogram2d\",\"colorbar\":{\"outlinewidth\":0,\"ticks\":\"\"},\"colorscale\":[[0.0,\"#0d0887\"],[0.1111111111111111,\"#46039f\"],[0.2222222222222222,\"#7201a8\"],[0.3333333333333333,\"#9c179e\"],[0.4444444444444444,\"#bd3786\"],[0.5555555555555556,\"#d8576b\"],[0.6666666666666666,\"#ed7953\"],[0.7777777777777778,\"#fb9f3a\"],[0.8888888888888888,\"#fdca26\"],[1.0,\"#f0f921\"]]}],\"heatmap\":[{\"type\":\"heatmap\",\"colorbar\":{\"outlinewidth\":0,\"ticks\":\"\"},\"colorscale\":[[0.0,\"#0d0887\"],[0.1111111111111111,\"#46039f\"],[0.2222222222222222,\"#7201a8\"],[0.3333333333333333,\"#9c179e\"],[0.4444444444444444,\"#bd3786\"],[0.5555555555555556,\"#d8576b\"],[0.6666666666666666,\"#ed7953\"],[0.7777777777777778,\"#fb9f3a\"],[0.8888888888888888,\"#fdca26\"],[1.0,\"#f0f921\"]]}],\"heatmapgl\":[{\"type\":\"heatmapgl\",\"colorbar\":{\"outlinewidth\":0,\"ticks\":\"\"},\"colorscale\":[[0.0,\"#0d0887\"],[0.1111111111111111,\"#46039f\"],[0.2222222222222222,\"#7201a8\"],[0.3333333333333333,\"#9c179e\"],[0.4444444444444444,\"#bd3786\"],[0.5555555555555556,\"#d8576b\"],[0.6666666666666666,\"#ed7953\"],[0.7777777777777778,\"#fb9f3a\"],[0.8888888888888888,\"#fdca26\"],[1.0,\"#f0f921\"]]}],\"contourcarpet\":[{\"type\":\"contourcarpet\",\"colorbar\":{\"outlinewidth\":0,\"ticks\":\"\"}}],\"contour\":[{\"type\":\"contour\",\"colorbar\":{\"outlinewidth\":0,\"ticks\":\"\"},\"colorscale\":[[0.0,\"#0d0887\"],[0.1111111111111111,\"#46039f\"],[0.2222222222222222,\"#7201a8\"],[0.3333333333333333,\"#9c179e\"],[0.4444444444444444,\"#bd3786\"],[0.5555555555555556,\"#d8576b\"],[0.6666666666666666,\"#ed7953\"],[0.7777777777777778,\"#fb9f3a\"],[0.8888888888888888,\"#fdca26\"],[1.0,\"#f0f921\"]]}],\"surface\":[{\"type\":\"surface\",\"colorbar\":{\"outlinewidth\":0,\"ticks\":\"\"},\"colorscale\":[[0.0,\"#0d0887\"],[0.1111111111111111,\"#46039f\"],[0.2222222222222222,\"#7201a8\"],[0.3333333333333333,\"#9c179e\"],[0.4444444444444444,\"#bd3786\"],[0.5555555555555556,\"#d8576b\"],[0.6666666666666666,\"#ed7953\"],[0.7777777777777778,\"#fb9f3a\"],[0.8888888888888888,\"#fdca26\"],[1.0,\"#f0f921\"]]}],\"mesh3d\":[{\"type\":\"mesh3d\",\"colorbar\":{\"outlinewidth\":0,\"ticks\":\"\"}}],\"scatter\":[{\"fillpattern\":{\"fillmode\":\"overlay\",\"size\":10,\"solidity\":0.2},\"type\":\"scatter\"}],\"parcoords\":[{\"type\":\"parcoords\",\"line\":{\"colorbar\":{\"outlinewidth\":0,\"ticks\":\"\"}}}],\"scatterpolargl\":[{\"type\":\"scatterpolargl\",\"marker\":{\"colorbar\":{\"outlinewidth\":0,\"ticks\":\"\"}}}],\"bar\":[{\"error_x\":{\"color\":\"#2a3f5f\"},\"error_y\":{\"color\":\"#2a3f5f\"},\"marker\":{\"line\":{\"color\":\"#E5ECF6\",\"width\":0.5},\"pattern\":{\"fillmode\":\"overlay\",\"size\":10,\"solidity\":0.2}},\"type\":\"bar\"}],\"scattergeo\":[{\"type\":\"scattergeo\",\"marker\":{\"colorbar\":{\"outlinewidth\":0,\"ticks\":\"\"}}}],\"scatterpolar\":[{\"type\":\"scatterpolar\",\"marker\":{\"colorbar\":{\"outlinewidth\":0,\"ticks\":\"\"}}}],\"histogram\":[{\"marker\":{\"pattern\":{\"fillmode\":\"overlay\",\"size\":10,\"solidity\":0.2}},\"type\":\"histogram\"}],\"scattergl\":[{\"type\":\"scattergl\",\"marker\":{\"colorbar\":{\"outlinewidth\":0,\"ticks\":\"\"}}}],\"scatter3d\":[{\"type\":\"scatter3d\",\"line\":{\"colorbar\":{\"outlinewidth\":0,\"ticks\":\"\"}},\"marker\":{\"colorbar\":{\"outlinewidth\":0,\"ticks\":\"\"}}}],\"scattermapbox\":[{\"type\":\"scattermapbox\",\"marker\":{\"colorbar\":{\"outlinewidth\":0,\"ticks\":\"\"}}}],\"scatterternary\":[{\"type\":\"scatterternary\",\"marker\":{\"colorbar\":{\"outlinewidth\":0,\"ticks\":\"\"}}}],\"scattercarpet\":[{\"type\":\"scattercarpet\",\"marker\":{\"colorbar\":{\"outlinewidth\":0,\"ticks\":\"\"}}}],\"carpet\":[{\"aaxis\":{\"endlinecolor\":\"#2a3f5f\",\"gridcolor\":\"white\",\"linecolor\":\"white\",\"minorgridcolor\":\"white\",\"startlinecolor\":\"#2a3f5f\"},\"baxis\":{\"endlinecolor\":\"#2a3f5f\",\"gridcolor\":\"white\",\"linecolor\":\"white\",\"minorgridcolor\":\"white\",\"startlinecolor\":\"#2a3f5f\"},\"type\":\"carpet\"}],\"table\":[{\"cells\":{\"fill\":{\"color\":\"#EBF0F8\"},\"line\":{\"color\":\"white\"}},\"header\":{\"fill\":{\"color\":\"#C8D4E3\"},\"line\":{\"color\":\"white\"}},\"type\":\"table\"}],\"barpolar\":[{\"marker\":{\"line\":{\"color\":\"#E5ECF6\",\"width\":0.5},\"pattern\":{\"fillmode\":\"overlay\",\"size\":10,\"solidity\":0.2}},\"type\":\"barpolar\"}],\"pie\":[{\"automargin\":true,\"type\":\"pie\"}]},\"layout\":{\"autotypenumbers\":\"strict\",\"colorway\":[\"#636efa\",\"#EF553B\",\"#00cc96\",\"#ab63fa\",\"#FFA15A\",\"#19d3f3\",\"#FF6692\",\"#B6E880\",\"#FF97FF\",\"#FECB52\"],\"font\":{\"color\":\"#2a3f5f\"},\"hovermode\":\"closest\",\"hoverlabel\":{\"align\":\"left\"},\"paper_bgcolor\":\"white\",\"plot_bgcolor\":\"#E5ECF6\",\"polar\":{\"bgcolor\":\"#E5ECF6\",\"angularaxis\":{\"gridcolor\":\"white\",\"linecolor\":\"white\",\"ticks\":\"\"},\"radialaxis\":{\"gridcolor\":\"white\",\"linecolor\":\"white\",\"ticks\":\"\"}},\"ternary\":{\"bgcolor\":\"#E5ECF6\",\"aaxis\":{\"gridcolor\":\"white\",\"linecolor\":\"white\",\"ticks\":\"\"},\"baxis\":{\"gridcolor\":\"white\",\"linecolor\":\"white\",\"ticks\":\"\"},\"caxis\":{\"gridcolor\":\"white\",\"linecolor\":\"white\",\"ticks\":\"\"}},\"coloraxis\":{\"colorbar\":{\"outlinewidth\":0,\"ticks\":\"\"}},\"colorscale\":{\"sequential\":[[0.0,\"#0d0887\"],[0.1111111111111111,\"#46039f\"],[0.2222222222222222,\"#7201a8\"],[0.3333333333333333,\"#9c179e\"],[0.4444444444444444,\"#bd3786\"],[0.5555555555555556,\"#d8576b\"],[0.6666666666666666,\"#ed7953\"],[0.7777777777777778,\"#fb9f3a\"],[0.8888888888888888,\"#fdca26\"],[1.0,\"#f0f921\"]],\"sequentialminus\":[[0.0,\"#0d0887\"],[0.1111111111111111,\"#46039f\"],[0.2222222222222222,\"#7201a8\"],[0.3333333333333333,\"#9c179e\"],[0.4444444444444444,\"#bd3786\"],[0.5555555555555556,\"#d8576b\"],[0.6666666666666666,\"#ed7953\"],[0.7777777777777778,\"#fb9f3a\"],[0.8888888888888888,\"#fdca26\"],[1.0,\"#f0f921\"]],\"diverging\":[[0,\"#8e0152\"],[0.1,\"#c51b7d\"],[0.2,\"#de77ae\"],[0.3,\"#f1b6da\"],[0.4,\"#fde0ef\"],[0.5,\"#f7f7f7\"],[0.6,\"#e6f5d0\"],[0.7,\"#b8e186\"],[0.8,\"#7fbc41\"],[0.9,\"#4d9221\"],[1,\"#276419\"]]},\"xaxis\":{\"gridcolor\":\"white\",\"linecolor\":\"white\",\"ticks\":\"\",\"title\":{\"standoff\":15},\"zerolinecolor\":\"white\",\"automargin\":true,\"zerolinewidth\":2},\"yaxis\":{\"gridcolor\":\"white\",\"linecolor\":\"white\",\"ticks\":\"\",\"title\":{\"standoff\":15},\"zerolinecolor\":\"white\",\"automargin\":true,\"zerolinewidth\":2},\"scene\":{\"xaxis\":{\"backgroundcolor\":\"#E5ECF6\",\"gridcolor\":\"white\",\"linecolor\":\"white\",\"showbackground\":true,\"ticks\":\"\",\"zerolinecolor\":\"white\",\"gridwidth\":2},\"yaxis\":{\"backgroundcolor\":\"#E5ECF6\",\"gridcolor\":\"white\",\"linecolor\":\"white\",\"showbackground\":true,\"ticks\":\"\",\"zerolinecolor\":\"white\",\"gridwidth\":2},\"zaxis\":{\"backgroundcolor\":\"#E5ECF6\",\"gridcolor\":\"white\",\"linecolor\":\"white\",\"showbackground\":true,\"ticks\":\"\",\"zerolinecolor\":\"white\",\"gridwidth\":2}},\"shapedefaults\":{\"line\":{\"color\":\"#2a3f5f\"}},\"annotationdefaults\":{\"arrowcolor\":\"#2a3f5f\",\"arrowhead\":0,\"arrowwidth\":1},\"geo\":{\"bgcolor\":\"white\",\"landcolor\":\"#E5ECF6\",\"subunitcolor\":\"white\",\"showland\":true,\"showlakes\":true,\"lakecolor\":\"white\"},\"title\":{\"x\":0.05},\"mapbox\":{\"style\":\"light\"}}},\"title\":{\"text\":\"cognatehood_2\"},\"xaxis\":{\"title\":{\"text\":\"cognatehood_2 score\"}},\"yaxis\":{\"title\":{\"text\":\"count\"}},\"legend\":{\"title\":{\"text\":\"CS label\"}}},                        {\"responsive\": true}                    ).then(function(){\n",
       "                            \n",
       "var gd = document.getElementById('72c92fcb-8e98-4ab3-b23e-dd2bd6b55710');\n",
       "var x = new MutationObserver(function (mutations, observer) {{\n",
       "        var display = window.getComputedStyle(gd).display;\n",
       "        if (!display || display === 'none') {{\n",
       "            console.log([gd, 'removed!']);\n",
       "            Plotly.purge(gd);\n",
       "            observer.disconnect();\n",
       "        }}\n",
       "}});\n",
       "\n",
       "// Listen for the removal of the full notebook cells\n",
       "var notebookContainer = gd.closest('#notebook-container');\n",
       "if (notebookContainer) {{\n",
       "    x.observe(notebookContainer, {childList: true});\n",
       "}}\n",
       "\n",
       "// Listen for the clearing of the current output cell\n",
       "var outputEl = gd.closest('.output');\n",
       "if (outputEl) {{\n",
       "    x.observe(outputEl, {childList: true});\n",
       "}}\n",
       "\n",
       "                        })                };                });            </script>        </div>"
      ]
     },
     "metadata": {},
     "output_type": "display_data"
    },
    {
     "data": {
      "application/vnd.plotly.v1+json": {
       "config": {
        "plotlyServerURL": "https://plot.ly"
       },
       "data": [
        {
         "coloraxis": "coloraxis",
         "hovertemplate": "postag_3: %{x}<br>postag_4: %{y}<br>count: %{z}<extra></extra>",
         "name": "0",
         "type": "heatmap",
         "x": [
          "none",
          "ADP",
          "ADV",
          "NUM",
          "PROPN",
          "VERB",
          "INTJ",
          "PART",
          "NOUN",
          "AUX",
          "CONJ",
          "ADJ",
          "SCONJ",
          "DET",
          "PRON",
          "X"
         ],
         "xaxis": "x",
         "y": [
          "none",
          "ADP",
          "ADV",
          "NUM",
          "PROPN",
          "VERB",
          "INTJ",
          "PART",
          "NOUN",
          "AUX",
          "CONJ",
          "ADJ",
          "SCONJ",
          "DET",
          "PRON",
          "X"
         ],
         "yaxis": "y",
         "z": [
          [
           0,
           0,
           0,
           0,
           0,
           0,
           0,
           0,
           0,
           0,
           0,
           0,
           0,
           0,
           0,
           0
          ],
          [
           0,
           137,
           170,
           25,
           27,
           719,
           29,
           8,
           472,
           121,
           62,
           76,
           44,
           73,
           159,
           0
          ],
          [
           0,
           85,
           202,
           3,
           24,
           611,
           46,
           16,
           151,
           27,
           183,
           50,
           112,
           44,
           223,
           0
          ],
          [
           0,
           45,
           28,
           119,
           2,
           64,
           1,
           1,
           15,
           0,
           39,
           7,
           3,
           47,
           7,
           0
          ],
          [
           0,
           195,
           21,
           1,
           114,
           63,
           24,
           4,
           29,
           1,
           45,
           12,
           37,
           60,
           13,
           0
          ],
          [
           0,
           252,
           427,
           9,
           81,
           274,
           57,
           381,
           243,
           452,
           171,
           31,
           295,
           28,
           2487,
           0
          ],
          [
           0,
           13,
           45,
           3,
           10,
           103,
           143,
           1,
           46,
           2,
           42,
           14,
           54,
           20,
           47,
           0
          ],
          [
           0,
           5,
           13,
           0,
           15,
           213,
           0,
           5,
           20,
           194,
           4,
           8,
           0,
           1,
           12,
           0
          ],
          [
           0,
           249,
           29,
           158,
           17,
           214,
           23,
           16,
           219,
           4,
           36,
           312,
           10,
           1664,
           31,
           0
          ],
          [
           0,
           9,
           75,
           1,
           10,
           19,
           8,
           8,
           35,
           8,
           7,
           1,
           33,
           2,
           656,
           0
          ],
          [
           0,
           6,
           37,
           35,
           34,
           74,
           60,
           0,
           164,
           0,
           61,
           30,
           12,
           8,
           78,
           0
          ],
          [
           0,
           41,
           152,
           8,
           1,
           189,
           6,
           16,
           76,
           5,
           15,
           39,
           3,
           253,
           45,
           0
          ],
          [
           0,
           61,
           105,
           6,
           28,
           351,
           59,
           2,
           128,
           71,
           70,
           40,
           80,
           3,
           100,
           0
          ],
          [
           0,
           899,
           104,
           4,
           16,
           920,
           62,
           6,
           91,
           2,
           124,
           17,
           100,
           244,
           99,
           0
          ],
          [
           0,
           325,
           322,
           6,
           66,
           866,
           125,
           13,
           297,
           49,
           378,
           36,
           541,
           88,
           575,
           1
          ],
          [
           0,
           0,
           0,
           0,
           0,
           0,
           0,
           0,
           0,
           0,
           0,
           0,
           1,
           0,
           0,
           0
          ]
         ]
        }
       ],
       "layout": {
        "coloraxis": {
         "colorbar": {
          "title": {
           "text": "count"
          }
         },
         "colorscale": [
          [
           0,
           "#0d0887"
          ],
          [
           0.1111111111111111,
           "#46039f"
          ],
          [
           0.2222222222222222,
           "#7201a8"
          ],
          [
           0.3333333333333333,
           "#9c179e"
          ],
          [
           0.4444444444444444,
           "#bd3786"
          ],
          [
           0.5555555555555556,
           "#d8576b"
          ],
          [
           0.6666666666666666,
           "#ed7953"
          ],
          [
           0.7777777777777778,
           "#fb9f3a"
          ],
          [
           0.8888888888888888,
           "#fdca26"
          ],
          [
           1,
           "#f0f921"
          ]
         ]
        },
        "margin": {
         "t": 60
        },
        "template": {
         "data": {
          "bar": [
           {
            "error_x": {
             "color": "#2a3f5f"
            },
            "error_y": {
             "color": "#2a3f5f"
            },
            "marker": {
             "line": {
              "color": "#E5ECF6",
              "width": 0.5
             },
             "pattern": {
              "fillmode": "overlay",
              "size": 10,
              "solidity": 0.2
             }
            },
            "type": "bar"
           }
          ],
          "barpolar": [
           {
            "marker": {
             "line": {
              "color": "#E5ECF6",
              "width": 0.5
             },
             "pattern": {
              "fillmode": "overlay",
              "size": 10,
              "solidity": 0.2
             }
            },
            "type": "barpolar"
           }
          ],
          "carpet": [
           {
            "aaxis": {
             "endlinecolor": "#2a3f5f",
             "gridcolor": "white",
             "linecolor": "white",
             "minorgridcolor": "white",
             "startlinecolor": "#2a3f5f"
            },
            "baxis": {
             "endlinecolor": "#2a3f5f",
             "gridcolor": "white",
             "linecolor": "white",
             "minorgridcolor": "white",
             "startlinecolor": "#2a3f5f"
            },
            "type": "carpet"
           }
          ],
          "choropleth": [
           {
            "colorbar": {
             "outlinewidth": 0,
             "ticks": ""
            },
            "type": "choropleth"
           }
          ],
          "contour": [
           {
            "colorbar": {
             "outlinewidth": 0,
             "ticks": ""
            },
            "colorscale": [
             [
              0,
              "#0d0887"
             ],
             [
              0.1111111111111111,
              "#46039f"
             ],
             [
              0.2222222222222222,
              "#7201a8"
             ],
             [
              0.3333333333333333,
              "#9c179e"
             ],
             [
              0.4444444444444444,
              "#bd3786"
             ],
             [
              0.5555555555555556,
              "#d8576b"
             ],
             [
              0.6666666666666666,
              "#ed7953"
             ],
             [
              0.7777777777777778,
              "#fb9f3a"
             ],
             [
              0.8888888888888888,
              "#fdca26"
             ],
             [
              1,
              "#f0f921"
             ]
            ],
            "type": "contour"
           }
          ],
          "contourcarpet": [
           {
            "colorbar": {
             "outlinewidth": 0,
             "ticks": ""
            },
            "type": "contourcarpet"
           }
          ],
          "heatmap": [
           {
            "colorbar": {
             "outlinewidth": 0,
             "ticks": ""
            },
            "colorscale": [
             [
              0,
              "#0d0887"
             ],
             [
              0.1111111111111111,
              "#46039f"
             ],
             [
              0.2222222222222222,
              "#7201a8"
             ],
             [
              0.3333333333333333,
              "#9c179e"
             ],
             [
              0.4444444444444444,
              "#bd3786"
             ],
             [
              0.5555555555555556,
              "#d8576b"
             ],
             [
              0.6666666666666666,
              "#ed7953"
             ],
             [
              0.7777777777777778,
              "#fb9f3a"
             ],
             [
              0.8888888888888888,
              "#fdca26"
             ],
             [
              1,
              "#f0f921"
             ]
            ],
            "type": "heatmap"
           }
          ],
          "heatmapgl": [
           {
            "colorbar": {
             "outlinewidth": 0,
             "ticks": ""
            },
            "colorscale": [
             [
              0,
              "#0d0887"
             ],
             [
              0.1111111111111111,
              "#46039f"
             ],
             [
              0.2222222222222222,
              "#7201a8"
             ],
             [
              0.3333333333333333,
              "#9c179e"
             ],
             [
              0.4444444444444444,
              "#bd3786"
             ],
             [
              0.5555555555555556,
              "#d8576b"
             ],
             [
              0.6666666666666666,
              "#ed7953"
             ],
             [
              0.7777777777777778,
              "#fb9f3a"
             ],
             [
              0.8888888888888888,
              "#fdca26"
             ],
             [
              1,
              "#f0f921"
             ]
            ],
            "type": "heatmapgl"
           }
          ],
          "histogram": [
           {
            "marker": {
             "pattern": {
              "fillmode": "overlay",
              "size": 10,
              "solidity": 0.2
             }
            },
            "type": "histogram"
           }
          ],
          "histogram2d": [
           {
            "colorbar": {
             "outlinewidth": 0,
             "ticks": ""
            },
            "colorscale": [
             [
              0,
              "#0d0887"
             ],
             [
              0.1111111111111111,
              "#46039f"
             ],
             [
              0.2222222222222222,
              "#7201a8"
             ],
             [
              0.3333333333333333,
              "#9c179e"
             ],
             [
              0.4444444444444444,
              "#bd3786"
             ],
             [
              0.5555555555555556,
              "#d8576b"
             ],
             [
              0.6666666666666666,
              "#ed7953"
             ],
             [
              0.7777777777777778,
              "#fb9f3a"
             ],
             [
              0.8888888888888888,
              "#fdca26"
             ],
             [
              1,
              "#f0f921"
             ]
            ],
            "type": "histogram2d"
           }
          ],
          "histogram2dcontour": [
           {
            "colorbar": {
             "outlinewidth": 0,
             "ticks": ""
            },
            "colorscale": [
             [
              0,
              "#0d0887"
             ],
             [
              0.1111111111111111,
              "#46039f"
             ],
             [
              0.2222222222222222,
              "#7201a8"
             ],
             [
              0.3333333333333333,
              "#9c179e"
             ],
             [
              0.4444444444444444,
              "#bd3786"
             ],
             [
              0.5555555555555556,
              "#d8576b"
             ],
             [
              0.6666666666666666,
              "#ed7953"
             ],
             [
              0.7777777777777778,
              "#fb9f3a"
             ],
             [
              0.8888888888888888,
              "#fdca26"
             ],
             [
              1,
              "#f0f921"
             ]
            ],
            "type": "histogram2dcontour"
           }
          ],
          "mesh3d": [
           {
            "colorbar": {
             "outlinewidth": 0,
             "ticks": ""
            },
            "type": "mesh3d"
           }
          ],
          "parcoords": [
           {
            "line": {
             "colorbar": {
              "outlinewidth": 0,
              "ticks": ""
             }
            },
            "type": "parcoords"
           }
          ],
          "pie": [
           {
            "automargin": true,
            "type": "pie"
           }
          ],
          "scatter": [
           {
            "fillpattern": {
             "fillmode": "overlay",
             "size": 10,
             "solidity": 0.2
            },
            "type": "scatter"
           }
          ],
          "scatter3d": [
           {
            "line": {
             "colorbar": {
              "outlinewidth": 0,
              "ticks": ""
             }
            },
            "marker": {
             "colorbar": {
              "outlinewidth": 0,
              "ticks": ""
             }
            },
            "type": "scatter3d"
           }
          ],
          "scattercarpet": [
           {
            "marker": {
             "colorbar": {
              "outlinewidth": 0,
              "ticks": ""
             }
            },
            "type": "scattercarpet"
           }
          ],
          "scattergeo": [
           {
            "marker": {
             "colorbar": {
              "outlinewidth": 0,
              "ticks": ""
             }
            },
            "type": "scattergeo"
           }
          ],
          "scattergl": [
           {
            "marker": {
             "colorbar": {
              "outlinewidth": 0,
              "ticks": ""
             }
            },
            "type": "scattergl"
           }
          ],
          "scattermapbox": [
           {
            "marker": {
             "colorbar": {
              "outlinewidth": 0,
              "ticks": ""
             }
            },
            "type": "scattermapbox"
           }
          ],
          "scatterpolar": [
           {
            "marker": {
             "colorbar": {
              "outlinewidth": 0,
              "ticks": ""
             }
            },
            "type": "scatterpolar"
           }
          ],
          "scatterpolargl": [
           {
            "marker": {
             "colorbar": {
              "outlinewidth": 0,
              "ticks": ""
             }
            },
            "type": "scatterpolargl"
           }
          ],
          "scatterternary": [
           {
            "marker": {
             "colorbar": {
              "outlinewidth": 0,
              "ticks": ""
             }
            },
            "type": "scatterternary"
           }
          ],
          "surface": [
           {
            "colorbar": {
             "outlinewidth": 0,
             "ticks": ""
            },
            "colorscale": [
             [
              0,
              "#0d0887"
             ],
             [
              0.1111111111111111,
              "#46039f"
             ],
             [
              0.2222222222222222,
              "#7201a8"
             ],
             [
              0.3333333333333333,
              "#9c179e"
             ],
             [
              0.4444444444444444,
              "#bd3786"
             ],
             [
              0.5555555555555556,
              "#d8576b"
             ],
             [
              0.6666666666666666,
              "#ed7953"
             ],
             [
              0.7777777777777778,
              "#fb9f3a"
             ],
             [
              0.8888888888888888,
              "#fdca26"
             ],
             [
              1,
              "#f0f921"
             ]
            ],
            "type": "surface"
           }
          ],
          "table": [
           {
            "cells": {
             "fill": {
              "color": "#EBF0F8"
             },
             "line": {
              "color": "white"
             }
            },
            "header": {
             "fill": {
              "color": "#C8D4E3"
             },
             "line": {
              "color": "white"
             }
            },
            "type": "table"
           }
          ]
         },
         "layout": {
          "annotationdefaults": {
           "arrowcolor": "#2a3f5f",
           "arrowhead": 0,
           "arrowwidth": 1
          },
          "autotypenumbers": "strict",
          "coloraxis": {
           "colorbar": {
            "outlinewidth": 0,
            "ticks": ""
           }
          },
          "colorscale": {
           "diverging": [
            [
             0,
             "#8e0152"
            ],
            [
             0.1,
             "#c51b7d"
            ],
            [
             0.2,
             "#de77ae"
            ],
            [
             0.3,
             "#f1b6da"
            ],
            [
             0.4,
             "#fde0ef"
            ],
            [
             0.5,
             "#f7f7f7"
            ],
            [
             0.6,
             "#e6f5d0"
            ],
            [
             0.7,
             "#b8e186"
            ],
            [
             0.8,
             "#7fbc41"
            ],
            [
             0.9,
             "#4d9221"
            ],
            [
             1,
             "#276419"
            ]
           ],
           "sequential": [
            [
             0,
             "#0d0887"
            ],
            [
             0.1111111111111111,
             "#46039f"
            ],
            [
             0.2222222222222222,
             "#7201a8"
            ],
            [
             0.3333333333333333,
             "#9c179e"
            ],
            [
             0.4444444444444444,
             "#bd3786"
            ],
            [
             0.5555555555555556,
             "#d8576b"
            ],
            [
             0.6666666666666666,
             "#ed7953"
            ],
            [
             0.7777777777777778,
             "#fb9f3a"
            ],
            [
             0.8888888888888888,
             "#fdca26"
            ],
            [
             1,
             "#f0f921"
            ]
           ],
           "sequentialminus": [
            [
             0,
             "#0d0887"
            ],
            [
             0.1111111111111111,
             "#46039f"
            ],
            [
             0.2222222222222222,
             "#7201a8"
            ],
            [
             0.3333333333333333,
             "#9c179e"
            ],
            [
             0.4444444444444444,
             "#bd3786"
            ],
            [
             0.5555555555555556,
             "#d8576b"
            ],
            [
             0.6666666666666666,
             "#ed7953"
            ],
            [
             0.7777777777777778,
             "#fb9f3a"
            ],
            [
             0.8888888888888888,
             "#fdca26"
            ],
            [
             1,
             "#f0f921"
            ]
           ]
          },
          "colorway": [
           "#636efa",
           "#EF553B",
           "#00cc96",
           "#ab63fa",
           "#FFA15A",
           "#19d3f3",
           "#FF6692",
           "#B6E880",
           "#FF97FF",
           "#FECB52"
          ],
          "font": {
           "color": "#2a3f5f"
          },
          "geo": {
           "bgcolor": "white",
           "lakecolor": "white",
           "landcolor": "#E5ECF6",
           "showlakes": true,
           "showland": true,
           "subunitcolor": "white"
          },
          "hoverlabel": {
           "align": "left"
          },
          "hovermode": "closest",
          "mapbox": {
           "style": "light"
          },
          "paper_bgcolor": "white",
          "plot_bgcolor": "#E5ECF6",
          "polar": {
           "angularaxis": {
            "gridcolor": "white",
            "linecolor": "white",
            "ticks": ""
           },
           "bgcolor": "#E5ECF6",
           "radialaxis": {
            "gridcolor": "white",
            "linecolor": "white",
            "ticks": ""
           }
          },
          "scene": {
           "xaxis": {
            "backgroundcolor": "#E5ECF6",
            "gridcolor": "white",
            "gridwidth": 2,
            "linecolor": "white",
            "showbackground": true,
            "ticks": "",
            "zerolinecolor": "white"
           },
           "yaxis": {
            "backgroundcolor": "#E5ECF6",
            "gridcolor": "white",
            "gridwidth": 2,
            "linecolor": "white",
            "showbackground": true,
            "ticks": "",
            "zerolinecolor": "white"
           },
           "zaxis": {
            "backgroundcolor": "#E5ECF6",
            "gridcolor": "white",
            "gridwidth": 2,
            "linecolor": "white",
            "showbackground": true,
            "ticks": "",
            "zerolinecolor": "white"
           }
          },
          "shapedefaults": {
           "line": {
            "color": "#2a3f5f"
           }
          },
          "ternary": {
           "aaxis": {
            "gridcolor": "white",
            "linecolor": "white",
            "ticks": ""
           },
           "baxis": {
            "gridcolor": "white",
            "linecolor": "white",
            "ticks": ""
           },
           "bgcolor": "#E5ECF6",
           "caxis": {
            "gridcolor": "white",
            "linecolor": "white",
            "ticks": ""
           }
          },
          "title": {
           "x": 0.05
          },
          "xaxis": {
           "automargin": true,
           "gridcolor": "white",
           "linecolor": "white",
           "ticks": "",
           "title": {
            "standoff": 15
           },
           "zerolinecolor": "white",
           "zerolinewidth": 2
          },
          "yaxis": {
           "automargin": true,
           "gridcolor": "white",
           "linecolor": "white",
           "ticks": "",
           "title": {
            "standoff": 15
           },
           "zerolinecolor": "white",
           "zerolinewidth": 2
          }
         }
        },
        "title": {
         "text": "Counts of samples with label 0: postag_3 vs postag_4"
        },
        "xaxis": {
         "anchor": "y",
         "constrain": "domain",
         "domain": [
          0,
          1
         ],
         "scaleanchor": "y",
         "title": {
          "text": "postag_3"
         }
        },
        "yaxis": {
         "anchor": "x",
         "autorange": "reversed",
         "constrain": "domain",
         "domain": [
          0,
          1
         ],
         "title": {
          "text": "postag_4"
         }
        }
       }
      },
      "text/html": [
       "<div>                            <div id=\"ed6e43fa-3fca-43ff-b363-9d4386babf96\" class=\"plotly-graph-div\" style=\"height:525px; width:100%;\"></div>            <script type=\"text/javascript\">                require([\"plotly\"], function(Plotly) {                    window.PLOTLYENV=window.PLOTLYENV || {};                                    if (document.getElementById(\"ed6e43fa-3fca-43ff-b363-9d4386babf96\")) {                    Plotly.newPlot(                        \"ed6e43fa-3fca-43ff-b363-9d4386babf96\",                        [{\"coloraxis\":\"coloraxis\",\"name\":\"0\",\"x\":[\"none\",\"ADP\",\"ADV\",\"NUM\",\"PROPN\",\"VERB\",\"INTJ\",\"PART\",\"NOUN\",\"AUX\",\"CONJ\",\"ADJ\",\"SCONJ\",\"DET\",\"PRON\",\"X\"],\"y\":[\"none\",\"ADP\",\"ADV\",\"NUM\",\"PROPN\",\"VERB\",\"INTJ\",\"PART\",\"NOUN\",\"AUX\",\"CONJ\",\"ADJ\",\"SCONJ\",\"DET\",\"PRON\",\"X\"],\"z\":[[0.0,0.0,0.0,0.0,0.0,0.0,0.0,0.0,0.0,0.0,0.0,0.0,0.0,0.0,0.0,0.0],[0.0,137.0,170.0,25.0,27.0,719.0,29.0,8.0,472.0,121.0,62.0,76.0,44.0,73.0,159.0,0.0],[0.0,85.0,202.0,3.0,24.0,611.0,46.0,16.0,151.0,27.0,183.0,50.0,112.0,44.0,223.0,0.0],[0.0,45.0,28.0,119.0,2.0,64.0,1.0,1.0,15.0,0.0,39.0,7.0,3.0,47.0,7.0,0.0],[0.0,195.0,21.0,1.0,114.0,63.0,24.0,4.0,29.0,1.0,45.0,12.0,37.0,60.0,13.0,0.0],[0.0,252.0,427.0,9.0,81.0,274.0,57.0,381.0,243.0,452.0,171.0,31.0,295.0,28.0,2487.0,0.0],[0.0,13.0,45.0,3.0,10.0,103.0,143.0,1.0,46.0,2.0,42.0,14.0,54.0,20.0,47.0,0.0],[0.0,5.0,13.0,0.0,15.0,213.0,0.0,5.0,20.0,194.0,4.0,8.0,0.0,1.0,12.0,0.0],[0.0,249.0,29.0,158.0,17.0,214.0,23.0,16.0,219.0,4.0,36.0,312.0,10.0,1664.0,31.0,0.0],[0.0,9.0,75.0,1.0,10.0,19.0,8.0,8.0,35.0,8.0,7.0,1.0,33.0,2.0,656.0,0.0],[0.0,6.0,37.0,35.0,34.0,74.0,60.0,0.0,164.0,0.0,61.0,30.0,12.0,8.0,78.0,0.0],[0.0,41.0,152.0,8.0,1.0,189.0,6.0,16.0,76.0,5.0,15.0,39.0,3.0,253.0,45.0,0.0],[0.0,61.0,105.0,6.0,28.0,351.0,59.0,2.0,128.0,71.0,70.0,40.0,80.0,3.0,100.0,0.0],[0.0,899.0,104.0,4.0,16.0,920.0,62.0,6.0,91.0,2.0,124.0,17.0,100.0,244.0,99.0,0.0],[0.0,325.0,322.0,6.0,66.0,866.0,125.0,13.0,297.0,49.0,378.0,36.0,541.0,88.0,575.0,1.0],[0.0,0.0,0.0,0.0,0.0,0.0,0.0,0.0,0.0,0.0,0.0,0.0,1.0,0.0,0.0,0.0]],\"type\":\"heatmap\",\"xaxis\":\"x\",\"yaxis\":\"y\",\"hovertemplate\":\"postag_3: %{x}<br>postag_4: %{y}<br>count: %{z}<extra></extra>\"}],                        {\"template\":{\"data\":{\"histogram2dcontour\":[{\"type\":\"histogram2dcontour\",\"colorbar\":{\"outlinewidth\":0,\"ticks\":\"\"},\"colorscale\":[[0.0,\"#0d0887\"],[0.1111111111111111,\"#46039f\"],[0.2222222222222222,\"#7201a8\"],[0.3333333333333333,\"#9c179e\"],[0.4444444444444444,\"#bd3786\"],[0.5555555555555556,\"#d8576b\"],[0.6666666666666666,\"#ed7953\"],[0.7777777777777778,\"#fb9f3a\"],[0.8888888888888888,\"#fdca26\"],[1.0,\"#f0f921\"]]}],\"choropleth\":[{\"type\":\"choropleth\",\"colorbar\":{\"outlinewidth\":0,\"ticks\":\"\"}}],\"histogram2d\":[{\"type\":\"histogram2d\",\"colorbar\":{\"outlinewidth\":0,\"ticks\":\"\"},\"colorscale\":[[0.0,\"#0d0887\"],[0.1111111111111111,\"#46039f\"],[0.2222222222222222,\"#7201a8\"],[0.3333333333333333,\"#9c179e\"],[0.4444444444444444,\"#bd3786\"],[0.5555555555555556,\"#d8576b\"],[0.6666666666666666,\"#ed7953\"],[0.7777777777777778,\"#fb9f3a\"],[0.8888888888888888,\"#fdca26\"],[1.0,\"#f0f921\"]]}],\"heatmap\":[{\"type\":\"heatmap\",\"colorbar\":{\"outlinewidth\":0,\"ticks\":\"\"},\"colorscale\":[[0.0,\"#0d0887\"],[0.1111111111111111,\"#46039f\"],[0.2222222222222222,\"#7201a8\"],[0.3333333333333333,\"#9c179e\"],[0.4444444444444444,\"#bd3786\"],[0.5555555555555556,\"#d8576b\"],[0.6666666666666666,\"#ed7953\"],[0.7777777777777778,\"#fb9f3a\"],[0.8888888888888888,\"#fdca26\"],[1.0,\"#f0f921\"]]}],\"heatmapgl\":[{\"type\":\"heatmapgl\",\"colorbar\":{\"outlinewidth\":0,\"ticks\":\"\"},\"colorscale\":[[0.0,\"#0d0887\"],[0.1111111111111111,\"#46039f\"],[0.2222222222222222,\"#7201a8\"],[0.3333333333333333,\"#9c179e\"],[0.4444444444444444,\"#bd3786\"],[0.5555555555555556,\"#d8576b\"],[0.6666666666666666,\"#ed7953\"],[0.7777777777777778,\"#fb9f3a\"],[0.8888888888888888,\"#fdca26\"],[1.0,\"#f0f921\"]]}],\"contourcarpet\":[{\"type\":\"contourcarpet\",\"colorbar\":{\"outlinewidth\":0,\"ticks\":\"\"}}],\"contour\":[{\"type\":\"contour\",\"colorbar\":{\"outlinewidth\":0,\"ticks\":\"\"},\"colorscale\":[[0.0,\"#0d0887\"],[0.1111111111111111,\"#46039f\"],[0.2222222222222222,\"#7201a8\"],[0.3333333333333333,\"#9c179e\"],[0.4444444444444444,\"#bd3786\"],[0.5555555555555556,\"#d8576b\"],[0.6666666666666666,\"#ed7953\"],[0.7777777777777778,\"#fb9f3a\"],[0.8888888888888888,\"#fdca26\"],[1.0,\"#f0f921\"]]}],\"surface\":[{\"type\":\"surface\",\"colorbar\":{\"outlinewidth\":0,\"ticks\":\"\"},\"colorscale\":[[0.0,\"#0d0887\"],[0.1111111111111111,\"#46039f\"],[0.2222222222222222,\"#7201a8\"],[0.3333333333333333,\"#9c179e\"],[0.4444444444444444,\"#bd3786\"],[0.5555555555555556,\"#d8576b\"],[0.6666666666666666,\"#ed7953\"],[0.7777777777777778,\"#fb9f3a\"],[0.8888888888888888,\"#fdca26\"],[1.0,\"#f0f921\"]]}],\"mesh3d\":[{\"type\":\"mesh3d\",\"colorbar\":{\"outlinewidth\":0,\"ticks\":\"\"}}],\"scatter\":[{\"fillpattern\":{\"fillmode\":\"overlay\",\"size\":10,\"solidity\":0.2},\"type\":\"scatter\"}],\"parcoords\":[{\"type\":\"parcoords\",\"line\":{\"colorbar\":{\"outlinewidth\":0,\"ticks\":\"\"}}}],\"scatterpolargl\":[{\"type\":\"scatterpolargl\",\"marker\":{\"colorbar\":{\"outlinewidth\":0,\"ticks\":\"\"}}}],\"bar\":[{\"error_x\":{\"color\":\"#2a3f5f\"},\"error_y\":{\"color\":\"#2a3f5f\"},\"marker\":{\"line\":{\"color\":\"#E5ECF6\",\"width\":0.5},\"pattern\":{\"fillmode\":\"overlay\",\"size\":10,\"solidity\":0.2}},\"type\":\"bar\"}],\"scattergeo\":[{\"type\":\"scattergeo\",\"marker\":{\"colorbar\":{\"outlinewidth\":0,\"ticks\":\"\"}}}],\"scatterpolar\":[{\"type\":\"scatterpolar\",\"marker\":{\"colorbar\":{\"outlinewidth\":0,\"ticks\":\"\"}}}],\"histogram\":[{\"marker\":{\"pattern\":{\"fillmode\":\"overlay\",\"size\":10,\"solidity\":0.2}},\"type\":\"histogram\"}],\"scattergl\":[{\"type\":\"scattergl\",\"marker\":{\"colorbar\":{\"outlinewidth\":0,\"ticks\":\"\"}}}],\"scatter3d\":[{\"type\":\"scatter3d\",\"line\":{\"colorbar\":{\"outlinewidth\":0,\"ticks\":\"\"}},\"marker\":{\"colorbar\":{\"outlinewidth\":0,\"ticks\":\"\"}}}],\"scattermapbox\":[{\"type\":\"scattermapbox\",\"marker\":{\"colorbar\":{\"outlinewidth\":0,\"ticks\":\"\"}}}],\"scatterternary\":[{\"type\":\"scatterternary\",\"marker\":{\"colorbar\":{\"outlinewidth\":0,\"ticks\":\"\"}}}],\"scattercarpet\":[{\"type\":\"scattercarpet\",\"marker\":{\"colorbar\":{\"outlinewidth\":0,\"ticks\":\"\"}}}],\"carpet\":[{\"aaxis\":{\"endlinecolor\":\"#2a3f5f\",\"gridcolor\":\"white\",\"linecolor\":\"white\",\"minorgridcolor\":\"white\",\"startlinecolor\":\"#2a3f5f\"},\"baxis\":{\"endlinecolor\":\"#2a3f5f\",\"gridcolor\":\"white\",\"linecolor\":\"white\",\"minorgridcolor\":\"white\",\"startlinecolor\":\"#2a3f5f\"},\"type\":\"carpet\"}],\"table\":[{\"cells\":{\"fill\":{\"color\":\"#EBF0F8\"},\"line\":{\"color\":\"white\"}},\"header\":{\"fill\":{\"color\":\"#C8D4E3\"},\"line\":{\"color\":\"white\"}},\"type\":\"table\"}],\"barpolar\":[{\"marker\":{\"line\":{\"color\":\"#E5ECF6\",\"width\":0.5},\"pattern\":{\"fillmode\":\"overlay\",\"size\":10,\"solidity\":0.2}},\"type\":\"barpolar\"}],\"pie\":[{\"automargin\":true,\"type\":\"pie\"}]},\"layout\":{\"autotypenumbers\":\"strict\",\"colorway\":[\"#636efa\",\"#EF553B\",\"#00cc96\",\"#ab63fa\",\"#FFA15A\",\"#19d3f3\",\"#FF6692\",\"#B6E880\",\"#FF97FF\",\"#FECB52\"],\"font\":{\"color\":\"#2a3f5f\"},\"hovermode\":\"closest\",\"hoverlabel\":{\"align\":\"left\"},\"paper_bgcolor\":\"white\",\"plot_bgcolor\":\"#E5ECF6\",\"polar\":{\"bgcolor\":\"#E5ECF6\",\"angularaxis\":{\"gridcolor\":\"white\",\"linecolor\":\"white\",\"ticks\":\"\"},\"radialaxis\":{\"gridcolor\":\"white\",\"linecolor\":\"white\",\"ticks\":\"\"}},\"ternary\":{\"bgcolor\":\"#E5ECF6\",\"aaxis\":{\"gridcolor\":\"white\",\"linecolor\":\"white\",\"ticks\":\"\"},\"baxis\":{\"gridcolor\":\"white\",\"linecolor\":\"white\",\"ticks\":\"\"},\"caxis\":{\"gridcolor\":\"white\",\"linecolor\":\"white\",\"ticks\":\"\"}},\"coloraxis\":{\"colorbar\":{\"outlinewidth\":0,\"ticks\":\"\"}},\"colorscale\":{\"sequential\":[[0.0,\"#0d0887\"],[0.1111111111111111,\"#46039f\"],[0.2222222222222222,\"#7201a8\"],[0.3333333333333333,\"#9c179e\"],[0.4444444444444444,\"#bd3786\"],[0.5555555555555556,\"#d8576b\"],[0.6666666666666666,\"#ed7953\"],[0.7777777777777778,\"#fb9f3a\"],[0.8888888888888888,\"#fdca26\"],[1.0,\"#f0f921\"]],\"sequentialminus\":[[0.0,\"#0d0887\"],[0.1111111111111111,\"#46039f\"],[0.2222222222222222,\"#7201a8\"],[0.3333333333333333,\"#9c179e\"],[0.4444444444444444,\"#bd3786\"],[0.5555555555555556,\"#d8576b\"],[0.6666666666666666,\"#ed7953\"],[0.7777777777777778,\"#fb9f3a\"],[0.8888888888888888,\"#fdca26\"],[1.0,\"#f0f921\"]],\"diverging\":[[0,\"#8e0152\"],[0.1,\"#c51b7d\"],[0.2,\"#de77ae\"],[0.3,\"#f1b6da\"],[0.4,\"#fde0ef\"],[0.5,\"#f7f7f7\"],[0.6,\"#e6f5d0\"],[0.7,\"#b8e186\"],[0.8,\"#7fbc41\"],[0.9,\"#4d9221\"],[1,\"#276419\"]]},\"xaxis\":{\"gridcolor\":\"white\",\"linecolor\":\"white\",\"ticks\":\"\",\"title\":{\"standoff\":15},\"zerolinecolor\":\"white\",\"automargin\":true,\"zerolinewidth\":2},\"yaxis\":{\"gridcolor\":\"white\",\"linecolor\":\"white\",\"ticks\":\"\",\"title\":{\"standoff\":15},\"zerolinecolor\":\"white\",\"automargin\":true,\"zerolinewidth\":2},\"scene\":{\"xaxis\":{\"backgroundcolor\":\"#E5ECF6\",\"gridcolor\":\"white\",\"linecolor\":\"white\",\"showbackground\":true,\"ticks\":\"\",\"zerolinecolor\":\"white\",\"gridwidth\":2},\"yaxis\":{\"backgroundcolor\":\"#E5ECF6\",\"gridcolor\":\"white\",\"linecolor\":\"white\",\"showbackground\":true,\"ticks\":\"\",\"zerolinecolor\":\"white\",\"gridwidth\":2},\"zaxis\":{\"backgroundcolor\":\"#E5ECF6\",\"gridcolor\":\"white\",\"linecolor\":\"white\",\"showbackground\":true,\"ticks\":\"\",\"zerolinecolor\":\"white\",\"gridwidth\":2}},\"shapedefaults\":{\"line\":{\"color\":\"#2a3f5f\"}},\"annotationdefaults\":{\"arrowcolor\":\"#2a3f5f\",\"arrowhead\":0,\"arrowwidth\":1},\"geo\":{\"bgcolor\":\"white\",\"landcolor\":\"#E5ECF6\",\"subunitcolor\":\"white\",\"showland\":true,\"showlakes\":true,\"lakecolor\":\"white\"},\"title\":{\"x\":0.05},\"mapbox\":{\"style\":\"light\"}}},\"xaxis\":{\"anchor\":\"y\",\"domain\":[0.0,1.0],\"scaleanchor\":\"y\",\"constrain\":\"domain\",\"title\":{\"text\":\"postag_3\"}},\"yaxis\":{\"anchor\":\"x\",\"domain\":[0.0,1.0],\"autorange\":\"reversed\",\"constrain\":\"domain\",\"title\":{\"text\":\"postag_4\"}},\"coloraxis\":{\"colorbar\":{\"title\":{\"text\":\"count\"}},\"colorscale\":[[0.0,\"#0d0887\"],[0.1111111111111111,\"#46039f\"],[0.2222222222222222,\"#7201a8\"],[0.3333333333333333,\"#9c179e\"],[0.4444444444444444,\"#bd3786\"],[0.5555555555555556,\"#d8576b\"],[0.6666666666666666,\"#ed7953\"],[0.7777777777777778,\"#fb9f3a\"],[0.8888888888888888,\"#fdca26\"],[1.0,\"#f0f921\"]]},\"margin\":{\"t\":60},\"title\":{\"text\":\"Counts of samples with label 0: postag_3 vs postag_4\"}},                        {\"responsive\": true}                    ).then(function(){\n",
       "                            \n",
       "var gd = document.getElementById('ed6e43fa-3fca-43ff-b363-9d4386babf96');\n",
       "var x = new MutationObserver(function (mutations, observer) {{\n",
       "        var display = window.getComputedStyle(gd).display;\n",
       "        if (!display || display === 'none') {{\n",
       "            console.log([gd, 'removed!']);\n",
       "            Plotly.purge(gd);\n",
       "            observer.disconnect();\n",
       "        }}\n",
       "}});\n",
       "\n",
       "// Listen for the removal of the full notebook cells\n",
       "var notebookContainer = gd.closest('#notebook-container');\n",
       "if (notebookContainer) {{\n",
       "    x.observe(notebookContainer, {childList: true});\n",
       "}}\n",
       "\n",
       "// Listen for the clearing of the current output cell\n",
       "var outputEl = gd.closest('.output');\n",
       "if (outputEl) {{\n",
       "    x.observe(outputEl, {childList: true});\n",
       "}}\n",
       "\n",
       "                        })                };                });            </script>        </div>"
      ]
     },
     "metadata": {},
     "output_type": "display_data"
    },
    {
     "data": {
      "application/vnd.plotly.v1+json": {
       "config": {
        "plotlyServerURL": "https://plot.ly"
       },
       "data": [
        {
         "coloraxis": "coloraxis",
         "hovertemplate": "postag_3: %{x}<br>postag_4: %{y}<br>count: %{z}<extra></extra>",
         "name": "0",
         "type": "heatmap",
         "x": [
          "none",
          "ADP",
          "ADV",
          "NUM",
          "PROPN",
          "VERB",
          "INTJ",
          "PART",
          "NOUN",
          "AUX",
          "CONJ",
          "ADJ",
          "SCONJ",
          "DET",
          "PRON",
          "X"
         ],
         "xaxis": "x",
         "y": [
          "none",
          "ADP",
          "ADV",
          "NUM",
          "PROPN",
          "VERB",
          "INTJ",
          "PART",
          "NOUN",
          "AUX",
          "CONJ",
          "ADJ",
          "SCONJ",
          "DET",
          "PRON",
          "X"
         ],
         "yaxis": "y",
         "z": [
          [
           0,
           0,
           0,
           0,
           0,
           0,
           0,
           0,
           0,
           0,
           0,
           0,
           0,
           0,
           0,
           0
          ],
          [
           0,
           10,
           27,
           4,
           12,
           50,
           18,
           0,
           155,
           0,
           12,
           13,
           12,
           2,
           12,
           0
          ],
          [
           0,
           7,
           34,
           4,
           10,
           68,
           32,
           3,
           68,
           2,
           25,
           14,
           22,
           2,
           16,
           0
          ],
          [
           0,
           6,
           6,
           1,
           2,
           20,
           3,
           0,
           9,
           0,
           2,
           1,
           2,
           6,
           4,
           0
          ],
          [
           0,
           13,
           0,
           0,
           26,
           3,
           4,
           0,
           1,
           0,
           0,
           0,
           0,
           12,
           0,
           0
          ],
          [
           0,
           6,
           32,
           1,
           18,
           78,
           33,
           2,
           103,
           8,
           19,
           9,
           26,
           2,
           33,
           0
          ],
          [
           0,
           0,
           23,
           0,
           1,
           24,
           37,
           1,
           28,
           0,
           6,
           5,
           9,
           2,
           6,
           0
          ],
          [
           0,
           1,
           0,
           0,
           5,
           3,
           1,
           0,
           1,
           0,
           1,
           0,
           0,
           0,
           1,
           0
          ],
          [
           0,
           98,
           25,
           18,
           3,
           141,
           42,
           4,
           42,
           0,
           24,
           49,
           15,
           495,
           9,
           0
          ],
          [
           0,
           0,
           7,
           1,
           5,
           4,
           5,
           1,
           14,
           2,
           1,
           0,
           1,
           0,
           9,
           0
          ],
          [
           0,
           1,
           16,
           2,
           14,
           20,
           20,
           1,
           87,
           0,
           13,
           14,
           0,
           2,
           14,
           0
          ],
          [
           0,
           20,
           37,
           4,
           1,
           90,
           12,
           1,
           25,
           0,
           4,
           13,
           4,
           54,
           2,
           0
          ],
          [
           0,
           1,
           26,
           3,
           11,
           49,
           23,
           3,
           73,
           0,
           13,
           19,
           21,
           0,
           21,
           0
          ],
          [
           0,
           21,
           28,
           1,
           6,
           58,
           35,
           1,
           48,
           0,
           15,
           9,
           23,
           23,
           16,
           0
          ],
          [
           0,
           13,
           69,
           3,
           20,
           146,
           120,
           2,
           160,
           1,
           88,
           30,
           121,
           9,
           64,
           0
          ],
          [
           0,
           0,
           0,
           0,
           0,
           0,
           0,
           0,
           0,
           0,
           0,
           0,
           0,
           0,
           0,
           0
          ]
         ]
        }
       ],
       "layout": {
        "coloraxis": {
         "colorbar": {
          "title": {
           "text": "count"
          }
         },
         "colorscale": [
          [
           0,
           "#0d0887"
          ],
          [
           0.1111111111111111,
           "#46039f"
          ],
          [
           0.2222222222222222,
           "#7201a8"
          ],
          [
           0.3333333333333333,
           "#9c179e"
          ],
          [
           0.4444444444444444,
           "#bd3786"
          ],
          [
           0.5555555555555556,
           "#d8576b"
          ],
          [
           0.6666666666666666,
           "#ed7953"
          ],
          [
           0.7777777777777778,
           "#fb9f3a"
          ],
          [
           0.8888888888888888,
           "#fdca26"
          ],
          [
           1,
           "#f0f921"
          ]
         ]
        },
        "margin": {
         "t": 60
        },
        "template": {
         "data": {
          "bar": [
           {
            "error_x": {
             "color": "#2a3f5f"
            },
            "error_y": {
             "color": "#2a3f5f"
            },
            "marker": {
             "line": {
              "color": "#E5ECF6",
              "width": 0.5
             },
             "pattern": {
              "fillmode": "overlay",
              "size": 10,
              "solidity": 0.2
             }
            },
            "type": "bar"
           }
          ],
          "barpolar": [
           {
            "marker": {
             "line": {
              "color": "#E5ECF6",
              "width": 0.5
             },
             "pattern": {
              "fillmode": "overlay",
              "size": 10,
              "solidity": 0.2
             }
            },
            "type": "barpolar"
           }
          ],
          "carpet": [
           {
            "aaxis": {
             "endlinecolor": "#2a3f5f",
             "gridcolor": "white",
             "linecolor": "white",
             "minorgridcolor": "white",
             "startlinecolor": "#2a3f5f"
            },
            "baxis": {
             "endlinecolor": "#2a3f5f",
             "gridcolor": "white",
             "linecolor": "white",
             "minorgridcolor": "white",
             "startlinecolor": "#2a3f5f"
            },
            "type": "carpet"
           }
          ],
          "choropleth": [
           {
            "colorbar": {
             "outlinewidth": 0,
             "ticks": ""
            },
            "type": "choropleth"
           }
          ],
          "contour": [
           {
            "colorbar": {
             "outlinewidth": 0,
             "ticks": ""
            },
            "colorscale": [
             [
              0,
              "#0d0887"
             ],
             [
              0.1111111111111111,
              "#46039f"
             ],
             [
              0.2222222222222222,
              "#7201a8"
             ],
             [
              0.3333333333333333,
              "#9c179e"
             ],
             [
              0.4444444444444444,
              "#bd3786"
             ],
             [
              0.5555555555555556,
              "#d8576b"
             ],
             [
              0.6666666666666666,
              "#ed7953"
             ],
             [
              0.7777777777777778,
              "#fb9f3a"
             ],
             [
              0.8888888888888888,
              "#fdca26"
             ],
             [
              1,
              "#f0f921"
             ]
            ],
            "type": "contour"
           }
          ],
          "contourcarpet": [
           {
            "colorbar": {
             "outlinewidth": 0,
             "ticks": ""
            },
            "type": "contourcarpet"
           }
          ],
          "heatmap": [
           {
            "colorbar": {
             "outlinewidth": 0,
             "ticks": ""
            },
            "colorscale": [
             [
              0,
              "#0d0887"
             ],
             [
              0.1111111111111111,
              "#46039f"
             ],
             [
              0.2222222222222222,
              "#7201a8"
             ],
             [
              0.3333333333333333,
              "#9c179e"
             ],
             [
              0.4444444444444444,
              "#bd3786"
             ],
             [
              0.5555555555555556,
              "#d8576b"
             ],
             [
              0.6666666666666666,
              "#ed7953"
             ],
             [
              0.7777777777777778,
              "#fb9f3a"
             ],
             [
              0.8888888888888888,
              "#fdca26"
             ],
             [
              1,
              "#f0f921"
             ]
            ],
            "type": "heatmap"
           }
          ],
          "heatmapgl": [
           {
            "colorbar": {
             "outlinewidth": 0,
             "ticks": ""
            },
            "colorscale": [
             [
              0,
              "#0d0887"
             ],
             [
              0.1111111111111111,
              "#46039f"
             ],
             [
              0.2222222222222222,
              "#7201a8"
             ],
             [
              0.3333333333333333,
              "#9c179e"
             ],
             [
              0.4444444444444444,
              "#bd3786"
             ],
             [
              0.5555555555555556,
              "#d8576b"
             ],
             [
              0.6666666666666666,
              "#ed7953"
             ],
             [
              0.7777777777777778,
              "#fb9f3a"
             ],
             [
              0.8888888888888888,
              "#fdca26"
             ],
             [
              1,
              "#f0f921"
             ]
            ],
            "type": "heatmapgl"
           }
          ],
          "histogram": [
           {
            "marker": {
             "pattern": {
              "fillmode": "overlay",
              "size": 10,
              "solidity": 0.2
             }
            },
            "type": "histogram"
           }
          ],
          "histogram2d": [
           {
            "colorbar": {
             "outlinewidth": 0,
             "ticks": ""
            },
            "colorscale": [
             [
              0,
              "#0d0887"
             ],
             [
              0.1111111111111111,
              "#46039f"
             ],
             [
              0.2222222222222222,
              "#7201a8"
             ],
             [
              0.3333333333333333,
              "#9c179e"
             ],
             [
              0.4444444444444444,
              "#bd3786"
             ],
             [
              0.5555555555555556,
              "#d8576b"
             ],
             [
              0.6666666666666666,
              "#ed7953"
             ],
             [
              0.7777777777777778,
              "#fb9f3a"
             ],
             [
              0.8888888888888888,
              "#fdca26"
             ],
             [
              1,
              "#f0f921"
             ]
            ],
            "type": "histogram2d"
           }
          ],
          "histogram2dcontour": [
           {
            "colorbar": {
             "outlinewidth": 0,
             "ticks": ""
            },
            "colorscale": [
             [
              0,
              "#0d0887"
             ],
             [
              0.1111111111111111,
              "#46039f"
             ],
             [
              0.2222222222222222,
              "#7201a8"
             ],
             [
              0.3333333333333333,
              "#9c179e"
             ],
             [
              0.4444444444444444,
              "#bd3786"
             ],
             [
              0.5555555555555556,
              "#d8576b"
             ],
             [
              0.6666666666666666,
              "#ed7953"
             ],
             [
              0.7777777777777778,
              "#fb9f3a"
             ],
             [
              0.8888888888888888,
              "#fdca26"
             ],
             [
              1,
              "#f0f921"
             ]
            ],
            "type": "histogram2dcontour"
           }
          ],
          "mesh3d": [
           {
            "colorbar": {
             "outlinewidth": 0,
             "ticks": ""
            },
            "type": "mesh3d"
           }
          ],
          "parcoords": [
           {
            "line": {
             "colorbar": {
              "outlinewidth": 0,
              "ticks": ""
             }
            },
            "type": "parcoords"
           }
          ],
          "pie": [
           {
            "automargin": true,
            "type": "pie"
           }
          ],
          "scatter": [
           {
            "fillpattern": {
             "fillmode": "overlay",
             "size": 10,
             "solidity": 0.2
            },
            "type": "scatter"
           }
          ],
          "scatter3d": [
           {
            "line": {
             "colorbar": {
              "outlinewidth": 0,
              "ticks": ""
             }
            },
            "marker": {
             "colorbar": {
              "outlinewidth": 0,
              "ticks": ""
             }
            },
            "type": "scatter3d"
           }
          ],
          "scattercarpet": [
           {
            "marker": {
             "colorbar": {
              "outlinewidth": 0,
              "ticks": ""
             }
            },
            "type": "scattercarpet"
           }
          ],
          "scattergeo": [
           {
            "marker": {
             "colorbar": {
              "outlinewidth": 0,
              "ticks": ""
             }
            },
            "type": "scattergeo"
           }
          ],
          "scattergl": [
           {
            "marker": {
             "colorbar": {
              "outlinewidth": 0,
              "ticks": ""
             }
            },
            "type": "scattergl"
           }
          ],
          "scattermapbox": [
           {
            "marker": {
             "colorbar": {
              "outlinewidth": 0,
              "ticks": ""
             }
            },
            "type": "scattermapbox"
           }
          ],
          "scatterpolar": [
           {
            "marker": {
             "colorbar": {
              "outlinewidth": 0,
              "ticks": ""
             }
            },
            "type": "scatterpolar"
           }
          ],
          "scatterpolargl": [
           {
            "marker": {
             "colorbar": {
              "outlinewidth": 0,
              "ticks": ""
             }
            },
            "type": "scatterpolargl"
           }
          ],
          "scatterternary": [
           {
            "marker": {
             "colorbar": {
              "outlinewidth": 0,
              "ticks": ""
             }
            },
            "type": "scatterternary"
           }
          ],
          "surface": [
           {
            "colorbar": {
             "outlinewidth": 0,
             "ticks": ""
            },
            "colorscale": [
             [
              0,
              "#0d0887"
             ],
             [
              0.1111111111111111,
              "#46039f"
             ],
             [
              0.2222222222222222,
              "#7201a8"
             ],
             [
              0.3333333333333333,
              "#9c179e"
             ],
             [
              0.4444444444444444,
              "#bd3786"
             ],
             [
              0.5555555555555556,
              "#d8576b"
             ],
             [
              0.6666666666666666,
              "#ed7953"
             ],
             [
              0.7777777777777778,
              "#fb9f3a"
             ],
             [
              0.8888888888888888,
              "#fdca26"
             ],
             [
              1,
              "#f0f921"
             ]
            ],
            "type": "surface"
           }
          ],
          "table": [
           {
            "cells": {
             "fill": {
              "color": "#EBF0F8"
             },
             "line": {
              "color": "white"
             }
            },
            "header": {
             "fill": {
              "color": "#C8D4E3"
             },
             "line": {
              "color": "white"
             }
            },
            "type": "table"
           }
          ]
         },
         "layout": {
          "annotationdefaults": {
           "arrowcolor": "#2a3f5f",
           "arrowhead": 0,
           "arrowwidth": 1
          },
          "autotypenumbers": "strict",
          "coloraxis": {
           "colorbar": {
            "outlinewidth": 0,
            "ticks": ""
           }
          },
          "colorscale": {
           "diverging": [
            [
             0,
             "#8e0152"
            ],
            [
             0.1,
             "#c51b7d"
            ],
            [
             0.2,
             "#de77ae"
            ],
            [
             0.3,
             "#f1b6da"
            ],
            [
             0.4,
             "#fde0ef"
            ],
            [
             0.5,
             "#f7f7f7"
            ],
            [
             0.6,
             "#e6f5d0"
            ],
            [
             0.7,
             "#b8e186"
            ],
            [
             0.8,
             "#7fbc41"
            ],
            [
             0.9,
             "#4d9221"
            ],
            [
             1,
             "#276419"
            ]
           ],
           "sequential": [
            [
             0,
             "#0d0887"
            ],
            [
             0.1111111111111111,
             "#46039f"
            ],
            [
             0.2222222222222222,
             "#7201a8"
            ],
            [
             0.3333333333333333,
             "#9c179e"
            ],
            [
             0.4444444444444444,
             "#bd3786"
            ],
            [
             0.5555555555555556,
             "#d8576b"
            ],
            [
             0.6666666666666666,
             "#ed7953"
            ],
            [
             0.7777777777777778,
             "#fb9f3a"
            ],
            [
             0.8888888888888888,
             "#fdca26"
            ],
            [
             1,
             "#f0f921"
            ]
           ],
           "sequentialminus": [
            [
             0,
             "#0d0887"
            ],
            [
             0.1111111111111111,
             "#46039f"
            ],
            [
             0.2222222222222222,
             "#7201a8"
            ],
            [
             0.3333333333333333,
             "#9c179e"
            ],
            [
             0.4444444444444444,
             "#bd3786"
            ],
            [
             0.5555555555555556,
             "#d8576b"
            ],
            [
             0.6666666666666666,
             "#ed7953"
            ],
            [
             0.7777777777777778,
             "#fb9f3a"
            ],
            [
             0.8888888888888888,
             "#fdca26"
            ],
            [
             1,
             "#f0f921"
            ]
           ]
          },
          "colorway": [
           "#636efa",
           "#EF553B",
           "#00cc96",
           "#ab63fa",
           "#FFA15A",
           "#19d3f3",
           "#FF6692",
           "#B6E880",
           "#FF97FF",
           "#FECB52"
          ],
          "font": {
           "color": "#2a3f5f"
          },
          "geo": {
           "bgcolor": "white",
           "lakecolor": "white",
           "landcolor": "#E5ECF6",
           "showlakes": true,
           "showland": true,
           "subunitcolor": "white"
          },
          "hoverlabel": {
           "align": "left"
          },
          "hovermode": "closest",
          "mapbox": {
           "style": "light"
          },
          "paper_bgcolor": "white",
          "plot_bgcolor": "#E5ECF6",
          "polar": {
           "angularaxis": {
            "gridcolor": "white",
            "linecolor": "white",
            "ticks": ""
           },
           "bgcolor": "#E5ECF6",
           "radialaxis": {
            "gridcolor": "white",
            "linecolor": "white",
            "ticks": ""
           }
          },
          "scene": {
           "xaxis": {
            "backgroundcolor": "#E5ECF6",
            "gridcolor": "white",
            "gridwidth": 2,
            "linecolor": "white",
            "showbackground": true,
            "ticks": "",
            "zerolinecolor": "white"
           },
           "yaxis": {
            "backgroundcolor": "#E5ECF6",
            "gridcolor": "white",
            "gridwidth": 2,
            "linecolor": "white",
            "showbackground": true,
            "ticks": "",
            "zerolinecolor": "white"
           },
           "zaxis": {
            "backgroundcolor": "#E5ECF6",
            "gridcolor": "white",
            "gridwidth": 2,
            "linecolor": "white",
            "showbackground": true,
            "ticks": "",
            "zerolinecolor": "white"
           }
          },
          "shapedefaults": {
           "line": {
            "color": "#2a3f5f"
           }
          },
          "ternary": {
           "aaxis": {
            "gridcolor": "white",
            "linecolor": "white",
            "ticks": ""
           },
           "baxis": {
            "gridcolor": "white",
            "linecolor": "white",
            "ticks": ""
           },
           "bgcolor": "#E5ECF6",
           "caxis": {
            "gridcolor": "white",
            "linecolor": "white",
            "ticks": ""
           }
          },
          "title": {
           "x": 0.05
          },
          "xaxis": {
           "automargin": true,
           "gridcolor": "white",
           "linecolor": "white",
           "ticks": "",
           "title": {
            "standoff": 15
           },
           "zerolinecolor": "white",
           "zerolinewidth": 2
          },
          "yaxis": {
           "automargin": true,
           "gridcolor": "white",
           "linecolor": "white",
           "ticks": "",
           "title": {
            "standoff": 15
           },
           "zerolinecolor": "white",
           "zerolinewidth": 2
          }
         }
        },
        "title": {
         "text": "Counts of samples with label 1: postag_3 vs postag_4"
        },
        "xaxis": {
         "anchor": "y",
         "constrain": "domain",
         "domain": [
          0,
          1
         ],
         "scaleanchor": "y",
         "title": {
          "text": "postag_3"
         }
        },
        "yaxis": {
         "anchor": "x",
         "autorange": "reversed",
         "constrain": "domain",
         "domain": [
          0,
          1
         ],
         "title": {
          "text": "postag_4"
         }
        }
       }
      },
      "text/html": [
       "<div>                            <div id=\"c008518c-fc32-46d8-9d1d-c6511fdd56f6\" class=\"plotly-graph-div\" style=\"height:525px; width:100%;\"></div>            <script type=\"text/javascript\">                require([\"plotly\"], function(Plotly) {                    window.PLOTLYENV=window.PLOTLYENV || {};                                    if (document.getElementById(\"c008518c-fc32-46d8-9d1d-c6511fdd56f6\")) {                    Plotly.newPlot(                        \"c008518c-fc32-46d8-9d1d-c6511fdd56f6\",                        [{\"coloraxis\":\"coloraxis\",\"name\":\"0\",\"x\":[\"none\",\"ADP\",\"ADV\",\"NUM\",\"PROPN\",\"VERB\",\"INTJ\",\"PART\",\"NOUN\",\"AUX\",\"CONJ\",\"ADJ\",\"SCONJ\",\"DET\",\"PRON\",\"X\"],\"y\":[\"none\",\"ADP\",\"ADV\",\"NUM\",\"PROPN\",\"VERB\",\"INTJ\",\"PART\",\"NOUN\",\"AUX\",\"CONJ\",\"ADJ\",\"SCONJ\",\"DET\",\"PRON\",\"X\"],\"z\":[[0.0,0.0,0.0,0.0,0.0,0.0,0.0,0.0,0.0,0.0,0.0,0.0,0.0,0.0,0.0,0.0],[0.0,10.0,27.0,4.0,12.0,50.0,18.0,0.0,155.0,0.0,12.0,13.0,12.0,2.0,12.0,0.0],[0.0,7.0,34.0,4.0,10.0,68.0,32.0,3.0,68.0,2.0,25.0,14.0,22.0,2.0,16.0,0.0],[0.0,6.0,6.0,1.0,2.0,20.0,3.0,0.0,9.0,0.0,2.0,1.0,2.0,6.0,4.0,0.0],[0.0,13.0,0.0,0.0,26.0,3.0,4.0,0.0,1.0,0.0,0.0,0.0,0.0,12.0,0.0,0.0],[0.0,6.0,32.0,1.0,18.0,78.0,33.0,2.0,103.0,8.0,19.0,9.0,26.0,2.0,33.0,0.0],[0.0,0.0,23.0,0.0,1.0,24.0,37.0,1.0,28.0,0.0,6.0,5.0,9.0,2.0,6.0,0.0],[0.0,1.0,0.0,0.0,5.0,3.0,1.0,0.0,1.0,0.0,1.0,0.0,0.0,0.0,1.0,0.0],[0.0,98.0,25.0,18.0,3.0,141.0,42.0,4.0,42.0,0.0,24.0,49.0,15.0,495.0,9.0,0.0],[0.0,0.0,7.0,1.0,5.0,4.0,5.0,1.0,14.0,2.0,1.0,0.0,1.0,0.0,9.0,0.0],[0.0,1.0,16.0,2.0,14.0,20.0,20.0,1.0,87.0,0.0,13.0,14.0,0.0,2.0,14.0,0.0],[0.0,20.0,37.0,4.0,1.0,90.0,12.0,1.0,25.0,0.0,4.0,13.0,4.0,54.0,2.0,0.0],[0.0,1.0,26.0,3.0,11.0,49.0,23.0,3.0,73.0,0.0,13.0,19.0,21.0,0.0,21.0,0.0],[0.0,21.0,28.0,1.0,6.0,58.0,35.0,1.0,48.0,0.0,15.0,9.0,23.0,23.0,16.0,0.0],[0.0,13.0,69.0,3.0,20.0,146.0,120.0,2.0,160.0,1.0,88.0,30.0,121.0,9.0,64.0,0.0],[0.0,0.0,0.0,0.0,0.0,0.0,0.0,0.0,0.0,0.0,0.0,0.0,0.0,0.0,0.0,0.0]],\"type\":\"heatmap\",\"xaxis\":\"x\",\"yaxis\":\"y\",\"hovertemplate\":\"postag_3: %{x}<br>postag_4: %{y}<br>count: %{z}<extra></extra>\"}],                        {\"template\":{\"data\":{\"histogram2dcontour\":[{\"type\":\"histogram2dcontour\",\"colorbar\":{\"outlinewidth\":0,\"ticks\":\"\"},\"colorscale\":[[0.0,\"#0d0887\"],[0.1111111111111111,\"#46039f\"],[0.2222222222222222,\"#7201a8\"],[0.3333333333333333,\"#9c179e\"],[0.4444444444444444,\"#bd3786\"],[0.5555555555555556,\"#d8576b\"],[0.6666666666666666,\"#ed7953\"],[0.7777777777777778,\"#fb9f3a\"],[0.8888888888888888,\"#fdca26\"],[1.0,\"#f0f921\"]]}],\"choropleth\":[{\"type\":\"choropleth\",\"colorbar\":{\"outlinewidth\":0,\"ticks\":\"\"}}],\"histogram2d\":[{\"type\":\"histogram2d\",\"colorbar\":{\"outlinewidth\":0,\"ticks\":\"\"},\"colorscale\":[[0.0,\"#0d0887\"],[0.1111111111111111,\"#46039f\"],[0.2222222222222222,\"#7201a8\"],[0.3333333333333333,\"#9c179e\"],[0.4444444444444444,\"#bd3786\"],[0.5555555555555556,\"#d8576b\"],[0.6666666666666666,\"#ed7953\"],[0.7777777777777778,\"#fb9f3a\"],[0.8888888888888888,\"#fdca26\"],[1.0,\"#f0f921\"]]}],\"heatmap\":[{\"type\":\"heatmap\",\"colorbar\":{\"outlinewidth\":0,\"ticks\":\"\"},\"colorscale\":[[0.0,\"#0d0887\"],[0.1111111111111111,\"#46039f\"],[0.2222222222222222,\"#7201a8\"],[0.3333333333333333,\"#9c179e\"],[0.4444444444444444,\"#bd3786\"],[0.5555555555555556,\"#d8576b\"],[0.6666666666666666,\"#ed7953\"],[0.7777777777777778,\"#fb9f3a\"],[0.8888888888888888,\"#fdca26\"],[1.0,\"#f0f921\"]]}],\"heatmapgl\":[{\"type\":\"heatmapgl\",\"colorbar\":{\"outlinewidth\":0,\"ticks\":\"\"},\"colorscale\":[[0.0,\"#0d0887\"],[0.1111111111111111,\"#46039f\"],[0.2222222222222222,\"#7201a8\"],[0.3333333333333333,\"#9c179e\"],[0.4444444444444444,\"#bd3786\"],[0.5555555555555556,\"#d8576b\"],[0.6666666666666666,\"#ed7953\"],[0.7777777777777778,\"#fb9f3a\"],[0.8888888888888888,\"#fdca26\"],[1.0,\"#f0f921\"]]}],\"contourcarpet\":[{\"type\":\"contourcarpet\",\"colorbar\":{\"outlinewidth\":0,\"ticks\":\"\"}}],\"contour\":[{\"type\":\"contour\",\"colorbar\":{\"outlinewidth\":0,\"ticks\":\"\"},\"colorscale\":[[0.0,\"#0d0887\"],[0.1111111111111111,\"#46039f\"],[0.2222222222222222,\"#7201a8\"],[0.3333333333333333,\"#9c179e\"],[0.4444444444444444,\"#bd3786\"],[0.5555555555555556,\"#d8576b\"],[0.6666666666666666,\"#ed7953\"],[0.7777777777777778,\"#fb9f3a\"],[0.8888888888888888,\"#fdca26\"],[1.0,\"#f0f921\"]]}],\"surface\":[{\"type\":\"surface\",\"colorbar\":{\"outlinewidth\":0,\"ticks\":\"\"},\"colorscale\":[[0.0,\"#0d0887\"],[0.1111111111111111,\"#46039f\"],[0.2222222222222222,\"#7201a8\"],[0.3333333333333333,\"#9c179e\"],[0.4444444444444444,\"#bd3786\"],[0.5555555555555556,\"#d8576b\"],[0.6666666666666666,\"#ed7953\"],[0.7777777777777778,\"#fb9f3a\"],[0.8888888888888888,\"#fdca26\"],[1.0,\"#f0f921\"]]}],\"mesh3d\":[{\"type\":\"mesh3d\",\"colorbar\":{\"outlinewidth\":0,\"ticks\":\"\"}}],\"scatter\":[{\"fillpattern\":{\"fillmode\":\"overlay\",\"size\":10,\"solidity\":0.2},\"type\":\"scatter\"}],\"parcoords\":[{\"type\":\"parcoords\",\"line\":{\"colorbar\":{\"outlinewidth\":0,\"ticks\":\"\"}}}],\"scatterpolargl\":[{\"type\":\"scatterpolargl\",\"marker\":{\"colorbar\":{\"outlinewidth\":0,\"ticks\":\"\"}}}],\"bar\":[{\"error_x\":{\"color\":\"#2a3f5f\"},\"error_y\":{\"color\":\"#2a3f5f\"},\"marker\":{\"line\":{\"color\":\"#E5ECF6\",\"width\":0.5},\"pattern\":{\"fillmode\":\"overlay\",\"size\":10,\"solidity\":0.2}},\"type\":\"bar\"}],\"scattergeo\":[{\"type\":\"scattergeo\",\"marker\":{\"colorbar\":{\"outlinewidth\":0,\"ticks\":\"\"}}}],\"scatterpolar\":[{\"type\":\"scatterpolar\",\"marker\":{\"colorbar\":{\"outlinewidth\":0,\"ticks\":\"\"}}}],\"histogram\":[{\"marker\":{\"pattern\":{\"fillmode\":\"overlay\",\"size\":10,\"solidity\":0.2}},\"type\":\"histogram\"}],\"scattergl\":[{\"type\":\"scattergl\",\"marker\":{\"colorbar\":{\"outlinewidth\":0,\"ticks\":\"\"}}}],\"scatter3d\":[{\"type\":\"scatter3d\",\"line\":{\"colorbar\":{\"outlinewidth\":0,\"ticks\":\"\"}},\"marker\":{\"colorbar\":{\"outlinewidth\":0,\"ticks\":\"\"}}}],\"scattermapbox\":[{\"type\":\"scattermapbox\",\"marker\":{\"colorbar\":{\"outlinewidth\":0,\"ticks\":\"\"}}}],\"scatterternary\":[{\"type\":\"scatterternary\",\"marker\":{\"colorbar\":{\"outlinewidth\":0,\"ticks\":\"\"}}}],\"scattercarpet\":[{\"type\":\"scattercarpet\",\"marker\":{\"colorbar\":{\"outlinewidth\":0,\"ticks\":\"\"}}}],\"carpet\":[{\"aaxis\":{\"endlinecolor\":\"#2a3f5f\",\"gridcolor\":\"white\",\"linecolor\":\"white\",\"minorgridcolor\":\"white\",\"startlinecolor\":\"#2a3f5f\"},\"baxis\":{\"endlinecolor\":\"#2a3f5f\",\"gridcolor\":\"white\",\"linecolor\":\"white\",\"minorgridcolor\":\"white\",\"startlinecolor\":\"#2a3f5f\"},\"type\":\"carpet\"}],\"table\":[{\"cells\":{\"fill\":{\"color\":\"#EBF0F8\"},\"line\":{\"color\":\"white\"}},\"header\":{\"fill\":{\"color\":\"#C8D4E3\"},\"line\":{\"color\":\"white\"}},\"type\":\"table\"}],\"barpolar\":[{\"marker\":{\"line\":{\"color\":\"#E5ECF6\",\"width\":0.5},\"pattern\":{\"fillmode\":\"overlay\",\"size\":10,\"solidity\":0.2}},\"type\":\"barpolar\"}],\"pie\":[{\"automargin\":true,\"type\":\"pie\"}]},\"layout\":{\"autotypenumbers\":\"strict\",\"colorway\":[\"#636efa\",\"#EF553B\",\"#00cc96\",\"#ab63fa\",\"#FFA15A\",\"#19d3f3\",\"#FF6692\",\"#B6E880\",\"#FF97FF\",\"#FECB52\"],\"font\":{\"color\":\"#2a3f5f\"},\"hovermode\":\"closest\",\"hoverlabel\":{\"align\":\"left\"},\"paper_bgcolor\":\"white\",\"plot_bgcolor\":\"#E5ECF6\",\"polar\":{\"bgcolor\":\"#E5ECF6\",\"angularaxis\":{\"gridcolor\":\"white\",\"linecolor\":\"white\",\"ticks\":\"\"},\"radialaxis\":{\"gridcolor\":\"white\",\"linecolor\":\"white\",\"ticks\":\"\"}},\"ternary\":{\"bgcolor\":\"#E5ECF6\",\"aaxis\":{\"gridcolor\":\"white\",\"linecolor\":\"white\",\"ticks\":\"\"},\"baxis\":{\"gridcolor\":\"white\",\"linecolor\":\"white\",\"ticks\":\"\"},\"caxis\":{\"gridcolor\":\"white\",\"linecolor\":\"white\",\"ticks\":\"\"}},\"coloraxis\":{\"colorbar\":{\"outlinewidth\":0,\"ticks\":\"\"}},\"colorscale\":{\"sequential\":[[0.0,\"#0d0887\"],[0.1111111111111111,\"#46039f\"],[0.2222222222222222,\"#7201a8\"],[0.3333333333333333,\"#9c179e\"],[0.4444444444444444,\"#bd3786\"],[0.5555555555555556,\"#d8576b\"],[0.6666666666666666,\"#ed7953\"],[0.7777777777777778,\"#fb9f3a\"],[0.8888888888888888,\"#fdca26\"],[1.0,\"#f0f921\"]],\"sequentialminus\":[[0.0,\"#0d0887\"],[0.1111111111111111,\"#46039f\"],[0.2222222222222222,\"#7201a8\"],[0.3333333333333333,\"#9c179e\"],[0.4444444444444444,\"#bd3786\"],[0.5555555555555556,\"#d8576b\"],[0.6666666666666666,\"#ed7953\"],[0.7777777777777778,\"#fb9f3a\"],[0.8888888888888888,\"#fdca26\"],[1.0,\"#f0f921\"]],\"diverging\":[[0,\"#8e0152\"],[0.1,\"#c51b7d\"],[0.2,\"#de77ae\"],[0.3,\"#f1b6da\"],[0.4,\"#fde0ef\"],[0.5,\"#f7f7f7\"],[0.6,\"#e6f5d0\"],[0.7,\"#b8e186\"],[0.8,\"#7fbc41\"],[0.9,\"#4d9221\"],[1,\"#276419\"]]},\"xaxis\":{\"gridcolor\":\"white\",\"linecolor\":\"white\",\"ticks\":\"\",\"title\":{\"standoff\":15},\"zerolinecolor\":\"white\",\"automargin\":true,\"zerolinewidth\":2},\"yaxis\":{\"gridcolor\":\"white\",\"linecolor\":\"white\",\"ticks\":\"\",\"title\":{\"standoff\":15},\"zerolinecolor\":\"white\",\"automargin\":true,\"zerolinewidth\":2},\"scene\":{\"xaxis\":{\"backgroundcolor\":\"#E5ECF6\",\"gridcolor\":\"white\",\"linecolor\":\"white\",\"showbackground\":true,\"ticks\":\"\",\"zerolinecolor\":\"white\",\"gridwidth\":2},\"yaxis\":{\"backgroundcolor\":\"#E5ECF6\",\"gridcolor\":\"white\",\"linecolor\":\"white\",\"showbackground\":true,\"ticks\":\"\",\"zerolinecolor\":\"white\",\"gridwidth\":2},\"zaxis\":{\"backgroundcolor\":\"#E5ECF6\",\"gridcolor\":\"white\",\"linecolor\":\"white\",\"showbackground\":true,\"ticks\":\"\",\"zerolinecolor\":\"white\",\"gridwidth\":2}},\"shapedefaults\":{\"line\":{\"color\":\"#2a3f5f\"}},\"annotationdefaults\":{\"arrowcolor\":\"#2a3f5f\",\"arrowhead\":0,\"arrowwidth\":1},\"geo\":{\"bgcolor\":\"white\",\"landcolor\":\"#E5ECF6\",\"subunitcolor\":\"white\",\"showland\":true,\"showlakes\":true,\"lakecolor\":\"white\"},\"title\":{\"x\":0.05},\"mapbox\":{\"style\":\"light\"}}},\"xaxis\":{\"anchor\":\"y\",\"domain\":[0.0,1.0],\"scaleanchor\":\"y\",\"constrain\":\"domain\",\"title\":{\"text\":\"postag_3\"}},\"yaxis\":{\"anchor\":\"x\",\"domain\":[0.0,1.0],\"autorange\":\"reversed\",\"constrain\":\"domain\",\"title\":{\"text\":\"postag_4\"}},\"coloraxis\":{\"colorbar\":{\"title\":{\"text\":\"count\"}},\"colorscale\":[[0.0,\"#0d0887\"],[0.1111111111111111,\"#46039f\"],[0.2222222222222222,\"#7201a8\"],[0.3333333333333333,\"#9c179e\"],[0.4444444444444444,\"#bd3786\"],[0.5555555555555556,\"#d8576b\"],[0.6666666666666666,\"#ed7953\"],[0.7777777777777778,\"#fb9f3a\"],[0.8888888888888888,\"#fdca26\"],[1.0,\"#f0f921\"]]},\"margin\":{\"t\":60},\"title\":{\"text\":\"Counts of samples with label 1: postag_3 vs postag_4\"}},                        {\"responsive\": true}                    ).then(function(){\n",
       "                            \n",
       "var gd = document.getElementById('c008518c-fc32-46d8-9d1d-c6511fdd56f6');\n",
       "var x = new MutationObserver(function (mutations, observer) {{\n",
       "        var display = window.getComputedStyle(gd).display;\n",
       "        if (!display || display === 'none') {{\n",
       "            console.log([gd, 'removed!']);\n",
       "            Plotly.purge(gd);\n",
       "            observer.disconnect();\n",
       "        }}\n",
       "}});\n",
       "\n",
       "// Listen for the removal of the full notebook cells\n",
       "var notebookContainer = gd.closest('#notebook-container');\n",
       "if (notebookContainer) {{\n",
       "    x.observe(notebookContainer, {childList: true});\n",
       "}}\n",
       "\n",
       "// Listen for the clearing of the current output cell\n",
       "var outputEl = gd.closest('.output');\n",
       "if (outputEl) {{\n",
       "    x.observe(outputEl, {childList: true});\n",
       "}}\n",
       "\n",
       "                        })                };                });            </script>        </div>"
      ]
     },
     "metadata": {},
     "output_type": "display_data"
    },
    {
     "data": {
      "application/vnd.plotly.v1+json": {
       "config": {
        "plotlyServerURL": "https://plot.ly"
       },
       "data": [
        {
         "coloraxis": "coloraxis",
         "hovertemplate": "postag_3: %{x}<br>postag_4: %{y}<br>count: %{z}<extra></extra>",
         "name": "0",
         "type": "heatmap",
         "x": [
          "none",
          "ADP",
          "ADV",
          "NUM",
          "PROPN",
          "VERB",
          "INTJ",
          "PART",
          "NOUN",
          "AUX",
          "CONJ",
          "ADJ",
          "SCONJ",
          "DET",
          "PRON",
          "X"
         ],
         "xaxis": "x",
         "y": [
          "none",
          "ADP",
          "ADV",
          "NUM",
          "PROPN",
          "VERB",
          "INTJ",
          "PART",
          "NOUN",
          "AUX",
          "CONJ",
          "ADJ",
          "SCONJ",
          "DET",
          "PRON",
          "X"
         ],
         "yaxis": "y",
         "z": [
          [
           0,
           0,
           0,
           0,
           0,
           0,
           0,
           0,
           0,
           0,
           0,
           0,
           0,
           0,
           0,
           0
          ],
          [
           0,
           0,
           0,
           0,
           0,
           0,
           0,
           0,
           0,
           0,
           0,
           0,
           0,
           0,
           0,
           0
          ],
          [
           0,
           0,
           0,
           1,
           0,
           0,
           0,
           0,
           0,
           0,
           0,
           0,
           0,
           0,
           0,
           0
          ],
          [
           0,
           0,
           0,
           0,
           0,
           0,
           1,
           0,
           0,
           0,
           0,
           0,
           0,
           0,
           0,
           0
          ],
          [
           0,
           0,
           0,
           0,
           0,
           0,
           0,
           0,
           0,
           0,
           0,
           0,
           0,
           0,
           0,
           0
          ],
          [
           0,
           0,
           0,
           0,
           0,
           0,
           0,
           0,
           0,
           0,
           0,
           0,
           0,
           0,
           0,
           0
          ],
          [
           0,
           0,
           0,
           0,
           0,
           0,
           0,
           0,
           0,
           0,
           0,
           0,
           0,
           0,
           0,
           0
          ],
          [
           0,
           0,
           0,
           0,
           0,
           0,
           1,
           0,
           0,
           0,
           0,
           0,
           0,
           0,
           0,
           0
          ],
          [
           0,
           0,
           0,
           0,
           0,
           0,
           1,
           0,
           0,
           0,
           0,
           0,
           1,
           0,
           0,
           0
          ],
          [
           0,
           0,
           0,
           0,
           0,
           0,
           0,
           0,
           0,
           0,
           0,
           0,
           0,
           0,
           0,
           0
          ],
          [
           0,
           0,
           0,
           0,
           0,
           0,
           0,
           1,
           0,
           0,
           0,
           0,
           0,
           0,
           0,
           0
          ],
          [
           0,
           0,
           0,
           0,
           0,
           0,
           1,
           0,
           0,
           0,
           0,
           0,
           1,
           0,
           0,
           0
          ],
          [
           0,
           0,
           0,
           0,
           0,
           0,
           0,
           1,
           0,
           0,
           0,
           0,
           0,
           0,
           0,
           0
          ],
          [
           0,
           0,
           0,
           0,
           0,
           0,
           0,
           0,
           0,
           0,
           0,
           0,
           0,
           0,
           0,
           0
          ],
          [
           0,
           0,
           0,
           0,
           0,
           0,
           0,
           0,
           0,
           0,
           0,
           0,
           0,
           0,
           0,
           0
          ],
          [
           0,
           0,
           0,
           0,
           0,
           0,
           0,
           0,
           0,
           0,
           0,
           0,
           0,
           0,
           0,
           0
          ]
         ]
        }
       ],
       "layout": {
        "coloraxis": {
         "colorbar": {
          "title": {
           "text": "count"
          }
         },
         "colorscale": [
          [
           0,
           "#0d0887"
          ],
          [
           0.1111111111111111,
           "#46039f"
          ],
          [
           0.2222222222222222,
           "#7201a8"
          ],
          [
           0.3333333333333333,
           "#9c179e"
          ],
          [
           0.4444444444444444,
           "#bd3786"
          ],
          [
           0.5555555555555556,
           "#d8576b"
          ],
          [
           0.6666666666666666,
           "#ed7953"
          ],
          [
           0.7777777777777778,
           "#fb9f3a"
          ],
          [
           0.8888888888888888,
           "#fdca26"
          ],
          [
           1,
           "#f0f921"
          ]
         ]
        },
        "margin": {
         "t": 60
        },
        "template": {
         "data": {
          "bar": [
           {
            "error_x": {
             "color": "#2a3f5f"
            },
            "error_y": {
             "color": "#2a3f5f"
            },
            "marker": {
             "line": {
              "color": "#E5ECF6",
              "width": 0.5
             },
             "pattern": {
              "fillmode": "overlay",
              "size": 10,
              "solidity": 0.2
             }
            },
            "type": "bar"
           }
          ],
          "barpolar": [
           {
            "marker": {
             "line": {
              "color": "#E5ECF6",
              "width": 0.5
             },
             "pattern": {
              "fillmode": "overlay",
              "size": 10,
              "solidity": 0.2
             }
            },
            "type": "barpolar"
           }
          ],
          "carpet": [
           {
            "aaxis": {
             "endlinecolor": "#2a3f5f",
             "gridcolor": "white",
             "linecolor": "white",
             "minorgridcolor": "white",
             "startlinecolor": "#2a3f5f"
            },
            "baxis": {
             "endlinecolor": "#2a3f5f",
             "gridcolor": "white",
             "linecolor": "white",
             "minorgridcolor": "white",
             "startlinecolor": "#2a3f5f"
            },
            "type": "carpet"
           }
          ],
          "choropleth": [
           {
            "colorbar": {
             "outlinewidth": 0,
             "ticks": ""
            },
            "type": "choropleth"
           }
          ],
          "contour": [
           {
            "colorbar": {
             "outlinewidth": 0,
             "ticks": ""
            },
            "colorscale": [
             [
              0,
              "#0d0887"
             ],
             [
              0.1111111111111111,
              "#46039f"
             ],
             [
              0.2222222222222222,
              "#7201a8"
             ],
             [
              0.3333333333333333,
              "#9c179e"
             ],
             [
              0.4444444444444444,
              "#bd3786"
             ],
             [
              0.5555555555555556,
              "#d8576b"
             ],
             [
              0.6666666666666666,
              "#ed7953"
             ],
             [
              0.7777777777777778,
              "#fb9f3a"
             ],
             [
              0.8888888888888888,
              "#fdca26"
             ],
             [
              1,
              "#f0f921"
             ]
            ],
            "type": "contour"
           }
          ],
          "contourcarpet": [
           {
            "colorbar": {
             "outlinewidth": 0,
             "ticks": ""
            },
            "type": "contourcarpet"
           }
          ],
          "heatmap": [
           {
            "colorbar": {
             "outlinewidth": 0,
             "ticks": ""
            },
            "colorscale": [
             [
              0,
              "#0d0887"
             ],
             [
              0.1111111111111111,
              "#46039f"
             ],
             [
              0.2222222222222222,
              "#7201a8"
             ],
             [
              0.3333333333333333,
              "#9c179e"
             ],
             [
              0.4444444444444444,
              "#bd3786"
             ],
             [
              0.5555555555555556,
              "#d8576b"
             ],
             [
              0.6666666666666666,
              "#ed7953"
             ],
             [
              0.7777777777777778,
              "#fb9f3a"
             ],
             [
              0.8888888888888888,
              "#fdca26"
             ],
             [
              1,
              "#f0f921"
             ]
            ],
            "type": "heatmap"
           }
          ],
          "heatmapgl": [
           {
            "colorbar": {
             "outlinewidth": 0,
             "ticks": ""
            },
            "colorscale": [
             [
              0,
              "#0d0887"
             ],
             [
              0.1111111111111111,
              "#46039f"
             ],
             [
              0.2222222222222222,
              "#7201a8"
             ],
             [
              0.3333333333333333,
              "#9c179e"
             ],
             [
              0.4444444444444444,
              "#bd3786"
             ],
             [
              0.5555555555555556,
              "#d8576b"
             ],
             [
              0.6666666666666666,
              "#ed7953"
             ],
             [
              0.7777777777777778,
              "#fb9f3a"
             ],
             [
              0.8888888888888888,
              "#fdca26"
             ],
             [
              1,
              "#f0f921"
             ]
            ],
            "type": "heatmapgl"
           }
          ],
          "histogram": [
           {
            "marker": {
             "pattern": {
              "fillmode": "overlay",
              "size": 10,
              "solidity": 0.2
             }
            },
            "type": "histogram"
           }
          ],
          "histogram2d": [
           {
            "colorbar": {
             "outlinewidth": 0,
             "ticks": ""
            },
            "colorscale": [
             [
              0,
              "#0d0887"
             ],
             [
              0.1111111111111111,
              "#46039f"
             ],
             [
              0.2222222222222222,
              "#7201a8"
             ],
             [
              0.3333333333333333,
              "#9c179e"
             ],
             [
              0.4444444444444444,
              "#bd3786"
             ],
             [
              0.5555555555555556,
              "#d8576b"
             ],
             [
              0.6666666666666666,
              "#ed7953"
             ],
             [
              0.7777777777777778,
              "#fb9f3a"
             ],
             [
              0.8888888888888888,
              "#fdca26"
             ],
             [
              1,
              "#f0f921"
             ]
            ],
            "type": "histogram2d"
           }
          ],
          "histogram2dcontour": [
           {
            "colorbar": {
             "outlinewidth": 0,
             "ticks": ""
            },
            "colorscale": [
             [
              0,
              "#0d0887"
             ],
             [
              0.1111111111111111,
              "#46039f"
             ],
             [
              0.2222222222222222,
              "#7201a8"
             ],
             [
              0.3333333333333333,
              "#9c179e"
             ],
             [
              0.4444444444444444,
              "#bd3786"
             ],
             [
              0.5555555555555556,
              "#d8576b"
             ],
             [
              0.6666666666666666,
              "#ed7953"
             ],
             [
              0.7777777777777778,
              "#fb9f3a"
             ],
             [
              0.8888888888888888,
              "#fdca26"
             ],
             [
              1,
              "#f0f921"
             ]
            ],
            "type": "histogram2dcontour"
           }
          ],
          "mesh3d": [
           {
            "colorbar": {
             "outlinewidth": 0,
             "ticks": ""
            },
            "type": "mesh3d"
           }
          ],
          "parcoords": [
           {
            "line": {
             "colorbar": {
              "outlinewidth": 0,
              "ticks": ""
             }
            },
            "type": "parcoords"
           }
          ],
          "pie": [
           {
            "automargin": true,
            "type": "pie"
           }
          ],
          "scatter": [
           {
            "fillpattern": {
             "fillmode": "overlay",
             "size": 10,
             "solidity": 0.2
            },
            "type": "scatter"
           }
          ],
          "scatter3d": [
           {
            "line": {
             "colorbar": {
              "outlinewidth": 0,
              "ticks": ""
             }
            },
            "marker": {
             "colorbar": {
              "outlinewidth": 0,
              "ticks": ""
             }
            },
            "type": "scatter3d"
           }
          ],
          "scattercarpet": [
           {
            "marker": {
             "colorbar": {
              "outlinewidth": 0,
              "ticks": ""
             }
            },
            "type": "scattercarpet"
           }
          ],
          "scattergeo": [
           {
            "marker": {
             "colorbar": {
              "outlinewidth": 0,
              "ticks": ""
             }
            },
            "type": "scattergeo"
           }
          ],
          "scattergl": [
           {
            "marker": {
             "colorbar": {
              "outlinewidth": 0,
              "ticks": ""
             }
            },
            "type": "scattergl"
           }
          ],
          "scattermapbox": [
           {
            "marker": {
             "colorbar": {
              "outlinewidth": 0,
              "ticks": ""
             }
            },
            "type": "scattermapbox"
           }
          ],
          "scatterpolar": [
           {
            "marker": {
             "colorbar": {
              "outlinewidth": 0,
              "ticks": ""
             }
            },
            "type": "scatterpolar"
           }
          ],
          "scatterpolargl": [
           {
            "marker": {
             "colorbar": {
              "outlinewidth": 0,
              "ticks": ""
             }
            },
            "type": "scatterpolargl"
           }
          ],
          "scatterternary": [
           {
            "marker": {
             "colorbar": {
              "outlinewidth": 0,
              "ticks": ""
             }
            },
            "type": "scatterternary"
           }
          ],
          "surface": [
           {
            "colorbar": {
             "outlinewidth": 0,
             "ticks": ""
            },
            "colorscale": [
             [
              0,
              "#0d0887"
             ],
             [
              0.1111111111111111,
              "#46039f"
             ],
             [
              0.2222222222222222,
              "#7201a8"
             ],
             [
              0.3333333333333333,
              "#9c179e"
             ],
             [
              0.4444444444444444,
              "#bd3786"
             ],
             [
              0.5555555555555556,
              "#d8576b"
             ],
             [
              0.6666666666666666,
              "#ed7953"
             ],
             [
              0.7777777777777778,
              "#fb9f3a"
             ],
             [
              0.8888888888888888,
              "#fdca26"
             ],
             [
              1,
              "#f0f921"
             ]
            ],
            "type": "surface"
           }
          ],
          "table": [
           {
            "cells": {
             "fill": {
              "color": "#EBF0F8"
             },
             "line": {
              "color": "white"
             }
            },
            "header": {
             "fill": {
              "color": "#C8D4E3"
             },
             "line": {
              "color": "white"
             }
            },
            "type": "table"
           }
          ]
         },
         "layout": {
          "annotationdefaults": {
           "arrowcolor": "#2a3f5f",
           "arrowhead": 0,
           "arrowwidth": 1
          },
          "autotypenumbers": "strict",
          "coloraxis": {
           "colorbar": {
            "outlinewidth": 0,
            "ticks": ""
           }
          },
          "colorscale": {
           "diverging": [
            [
             0,
             "#8e0152"
            ],
            [
             0.1,
             "#c51b7d"
            ],
            [
             0.2,
             "#de77ae"
            ],
            [
             0.3,
             "#f1b6da"
            ],
            [
             0.4,
             "#fde0ef"
            ],
            [
             0.5,
             "#f7f7f7"
            ],
            [
             0.6,
             "#e6f5d0"
            ],
            [
             0.7,
             "#b8e186"
            ],
            [
             0.8,
             "#7fbc41"
            ],
            [
             0.9,
             "#4d9221"
            ],
            [
             1,
             "#276419"
            ]
           ],
           "sequential": [
            [
             0,
             "#0d0887"
            ],
            [
             0.1111111111111111,
             "#46039f"
            ],
            [
             0.2222222222222222,
             "#7201a8"
            ],
            [
             0.3333333333333333,
             "#9c179e"
            ],
            [
             0.4444444444444444,
             "#bd3786"
            ],
            [
             0.5555555555555556,
             "#d8576b"
            ],
            [
             0.6666666666666666,
             "#ed7953"
            ],
            [
             0.7777777777777778,
             "#fb9f3a"
            ],
            [
             0.8888888888888888,
             "#fdca26"
            ],
            [
             1,
             "#f0f921"
            ]
           ],
           "sequentialminus": [
            [
             0,
             "#0d0887"
            ],
            [
             0.1111111111111111,
             "#46039f"
            ],
            [
             0.2222222222222222,
             "#7201a8"
            ],
            [
             0.3333333333333333,
             "#9c179e"
            ],
            [
             0.4444444444444444,
             "#bd3786"
            ],
            [
             0.5555555555555556,
             "#d8576b"
            ],
            [
             0.6666666666666666,
             "#ed7953"
            ],
            [
             0.7777777777777778,
             "#fb9f3a"
            ],
            [
             0.8888888888888888,
             "#fdca26"
            ],
            [
             1,
             "#f0f921"
            ]
           ]
          },
          "colorway": [
           "#636efa",
           "#EF553B",
           "#00cc96",
           "#ab63fa",
           "#FFA15A",
           "#19d3f3",
           "#FF6692",
           "#B6E880",
           "#FF97FF",
           "#FECB52"
          ],
          "font": {
           "color": "#2a3f5f"
          },
          "geo": {
           "bgcolor": "white",
           "lakecolor": "white",
           "landcolor": "#E5ECF6",
           "showlakes": true,
           "showland": true,
           "subunitcolor": "white"
          },
          "hoverlabel": {
           "align": "left"
          },
          "hovermode": "closest",
          "mapbox": {
           "style": "light"
          },
          "paper_bgcolor": "white",
          "plot_bgcolor": "#E5ECF6",
          "polar": {
           "angularaxis": {
            "gridcolor": "white",
            "linecolor": "white",
            "ticks": ""
           },
           "bgcolor": "#E5ECF6",
           "radialaxis": {
            "gridcolor": "white",
            "linecolor": "white",
            "ticks": ""
           }
          },
          "scene": {
           "xaxis": {
            "backgroundcolor": "#E5ECF6",
            "gridcolor": "white",
            "gridwidth": 2,
            "linecolor": "white",
            "showbackground": true,
            "ticks": "",
            "zerolinecolor": "white"
           },
           "yaxis": {
            "backgroundcolor": "#E5ECF6",
            "gridcolor": "white",
            "gridwidth": 2,
            "linecolor": "white",
            "showbackground": true,
            "ticks": "",
            "zerolinecolor": "white"
           },
           "zaxis": {
            "backgroundcolor": "#E5ECF6",
            "gridcolor": "white",
            "gridwidth": 2,
            "linecolor": "white",
            "showbackground": true,
            "ticks": "",
            "zerolinecolor": "white"
           }
          },
          "shapedefaults": {
           "line": {
            "color": "#2a3f5f"
           }
          },
          "ternary": {
           "aaxis": {
            "gridcolor": "white",
            "linecolor": "white",
            "ticks": ""
           },
           "baxis": {
            "gridcolor": "white",
            "linecolor": "white",
            "ticks": ""
           },
           "bgcolor": "#E5ECF6",
           "caxis": {
            "gridcolor": "white",
            "linecolor": "white",
            "ticks": ""
           }
          },
          "title": {
           "x": 0.05
          },
          "xaxis": {
           "automargin": true,
           "gridcolor": "white",
           "linecolor": "white",
           "ticks": "",
           "title": {
            "standoff": 15
           },
           "zerolinecolor": "white",
           "zerolinewidth": 2
          },
          "yaxis": {
           "automargin": true,
           "gridcolor": "white",
           "linecolor": "white",
           "ticks": "",
           "title": {
            "standoff": 15
           },
           "zerolinecolor": "white",
           "zerolinewidth": 2
          }
         }
        },
        "title": {
         "text": "label 1 > label 0: postag_3 vs postag_4"
        },
        "xaxis": {
         "anchor": "y",
         "constrain": "domain",
         "domain": [
          0,
          1
         ],
         "scaleanchor": "y",
         "title": {
          "text": "postag_3"
         }
        },
        "yaxis": {
         "anchor": "x",
         "autorange": "reversed",
         "constrain": "domain",
         "domain": [
          0,
          1
         ],
         "title": {
          "text": "postag_4"
         }
        }
       }
      },
      "text/html": [
       "<div>                            <div id=\"bd12890d-9a5b-4c3d-a407-79e0268a4549\" class=\"plotly-graph-div\" style=\"height:525px; width:100%;\"></div>            <script type=\"text/javascript\">                require([\"plotly\"], function(Plotly) {                    window.PLOTLYENV=window.PLOTLYENV || {};                                    if (document.getElementById(\"bd12890d-9a5b-4c3d-a407-79e0268a4549\")) {                    Plotly.newPlot(                        \"bd12890d-9a5b-4c3d-a407-79e0268a4549\",                        [{\"coloraxis\":\"coloraxis\",\"name\":\"0\",\"x\":[\"none\",\"ADP\",\"ADV\",\"NUM\",\"PROPN\",\"VERB\",\"INTJ\",\"PART\",\"NOUN\",\"AUX\",\"CONJ\",\"ADJ\",\"SCONJ\",\"DET\",\"PRON\",\"X\"],\"y\":[\"none\",\"ADP\",\"ADV\",\"NUM\",\"PROPN\",\"VERB\",\"INTJ\",\"PART\",\"NOUN\",\"AUX\",\"CONJ\",\"ADJ\",\"SCONJ\",\"DET\",\"PRON\",\"X\"],\"z\":[[0,0,0,0,0,0,0,0,0,0,0,0,0,0,0,0],[0,0,0,0,0,0,0,0,0,0,0,0,0,0,0,0],[0,0,0,1,0,0,0,0,0,0,0,0,0,0,0,0],[0,0,0,0,0,0,1,0,0,0,0,0,0,0,0,0],[0,0,0,0,0,0,0,0,0,0,0,0,0,0,0,0],[0,0,0,0,0,0,0,0,0,0,0,0,0,0,0,0],[0,0,0,0,0,0,0,0,0,0,0,0,0,0,0,0],[0,0,0,0,0,0,1,0,0,0,0,0,0,0,0,0],[0,0,0,0,0,0,1,0,0,0,0,0,1,0,0,0],[0,0,0,0,0,0,0,0,0,0,0,0,0,0,0,0],[0,0,0,0,0,0,0,1,0,0,0,0,0,0,0,0],[0,0,0,0,0,0,1,0,0,0,0,0,1,0,0,0],[0,0,0,0,0,0,0,1,0,0,0,0,0,0,0,0],[0,0,0,0,0,0,0,0,0,0,0,0,0,0,0,0],[0,0,0,0,0,0,0,0,0,0,0,0,0,0,0,0],[0,0,0,0,0,0,0,0,0,0,0,0,0,0,0,0]],\"type\":\"heatmap\",\"xaxis\":\"x\",\"yaxis\":\"y\",\"hovertemplate\":\"postag_3: %{x}<br>postag_4: %{y}<br>count: %{z}<extra></extra>\"}],                        {\"template\":{\"data\":{\"histogram2dcontour\":[{\"type\":\"histogram2dcontour\",\"colorbar\":{\"outlinewidth\":0,\"ticks\":\"\"},\"colorscale\":[[0.0,\"#0d0887\"],[0.1111111111111111,\"#46039f\"],[0.2222222222222222,\"#7201a8\"],[0.3333333333333333,\"#9c179e\"],[0.4444444444444444,\"#bd3786\"],[0.5555555555555556,\"#d8576b\"],[0.6666666666666666,\"#ed7953\"],[0.7777777777777778,\"#fb9f3a\"],[0.8888888888888888,\"#fdca26\"],[1.0,\"#f0f921\"]]}],\"choropleth\":[{\"type\":\"choropleth\",\"colorbar\":{\"outlinewidth\":0,\"ticks\":\"\"}}],\"histogram2d\":[{\"type\":\"histogram2d\",\"colorbar\":{\"outlinewidth\":0,\"ticks\":\"\"},\"colorscale\":[[0.0,\"#0d0887\"],[0.1111111111111111,\"#46039f\"],[0.2222222222222222,\"#7201a8\"],[0.3333333333333333,\"#9c179e\"],[0.4444444444444444,\"#bd3786\"],[0.5555555555555556,\"#d8576b\"],[0.6666666666666666,\"#ed7953\"],[0.7777777777777778,\"#fb9f3a\"],[0.8888888888888888,\"#fdca26\"],[1.0,\"#f0f921\"]]}],\"heatmap\":[{\"type\":\"heatmap\",\"colorbar\":{\"outlinewidth\":0,\"ticks\":\"\"},\"colorscale\":[[0.0,\"#0d0887\"],[0.1111111111111111,\"#46039f\"],[0.2222222222222222,\"#7201a8\"],[0.3333333333333333,\"#9c179e\"],[0.4444444444444444,\"#bd3786\"],[0.5555555555555556,\"#d8576b\"],[0.6666666666666666,\"#ed7953\"],[0.7777777777777778,\"#fb9f3a\"],[0.8888888888888888,\"#fdca26\"],[1.0,\"#f0f921\"]]}],\"heatmapgl\":[{\"type\":\"heatmapgl\",\"colorbar\":{\"outlinewidth\":0,\"ticks\":\"\"},\"colorscale\":[[0.0,\"#0d0887\"],[0.1111111111111111,\"#46039f\"],[0.2222222222222222,\"#7201a8\"],[0.3333333333333333,\"#9c179e\"],[0.4444444444444444,\"#bd3786\"],[0.5555555555555556,\"#d8576b\"],[0.6666666666666666,\"#ed7953\"],[0.7777777777777778,\"#fb9f3a\"],[0.8888888888888888,\"#fdca26\"],[1.0,\"#f0f921\"]]}],\"contourcarpet\":[{\"type\":\"contourcarpet\",\"colorbar\":{\"outlinewidth\":0,\"ticks\":\"\"}}],\"contour\":[{\"type\":\"contour\",\"colorbar\":{\"outlinewidth\":0,\"ticks\":\"\"},\"colorscale\":[[0.0,\"#0d0887\"],[0.1111111111111111,\"#46039f\"],[0.2222222222222222,\"#7201a8\"],[0.3333333333333333,\"#9c179e\"],[0.4444444444444444,\"#bd3786\"],[0.5555555555555556,\"#d8576b\"],[0.6666666666666666,\"#ed7953\"],[0.7777777777777778,\"#fb9f3a\"],[0.8888888888888888,\"#fdca26\"],[1.0,\"#f0f921\"]]}],\"surface\":[{\"type\":\"surface\",\"colorbar\":{\"outlinewidth\":0,\"ticks\":\"\"},\"colorscale\":[[0.0,\"#0d0887\"],[0.1111111111111111,\"#46039f\"],[0.2222222222222222,\"#7201a8\"],[0.3333333333333333,\"#9c179e\"],[0.4444444444444444,\"#bd3786\"],[0.5555555555555556,\"#d8576b\"],[0.6666666666666666,\"#ed7953\"],[0.7777777777777778,\"#fb9f3a\"],[0.8888888888888888,\"#fdca26\"],[1.0,\"#f0f921\"]]}],\"mesh3d\":[{\"type\":\"mesh3d\",\"colorbar\":{\"outlinewidth\":0,\"ticks\":\"\"}}],\"scatter\":[{\"fillpattern\":{\"fillmode\":\"overlay\",\"size\":10,\"solidity\":0.2},\"type\":\"scatter\"}],\"parcoords\":[{\"type\":\"parcoords\",\"line\":{\"colorbar\":{\"outlinewidth\":0,\"ticks\":\"\"}}}],\"scatterpolargl\":[{\"type\":\"scatterpolargl\",\"marker\":{\"colorbar\":{\"outlinewidth\":0,\"ticks\":\"\"}}}],\"bar\":[{\"error_x\":{\"color\":\"#2a3f5f\"},\"error_y\":{\"color\":\"#2a3f5f\"},\"marker\":{\"line\":{\"color\":\"#E5ECF6\",\"width\":0.5},\"pattern\":{\"fillmode\":\"overlay\",\"size\":10,\"solidity\":0.2}},\"type\":\"bar\"}],\"scattergeo\":[{\"type\":\"scattergeo\",\"marker\":{\"colorbar\":{\"outlinewidth\":0,\"ticks\":\"\"}}}],\"scatterpolar\":[{\"type\":\"scatterpolar\",\"marker\":{\"colorbar\":{\"outlinewidth\":0,\"ticks\":\"\"}}}],\"histogram\":[{\"marker\":{\"pattern\":{\"fillmode\":\"overlay\",\"size\":10,\"solidity\":0.2}},\"type\":\"histogram\"}],\"scattergl\":[{\"type\":\"scattergl\",\"marker\":{\"colorbar\":{\"outlinewidth\":0,\"ticks\":\"\"}}}],\"scatter3d\":[{\"type\":\"scatter3d\",\"line\":{\"colorbar\":{\"outlinewidth\":0,\"ticks\":\"\"}},\"marker\":{\"colorbar\":{\"outlinewidth\":0,\"ticks\":\"\"}}}],\"scattermapbox\":[{\"type\":\"scattermapbox\",\"marker\":{\"colorbar\":{\"outlinewidth\":0,\"ticks\":\"\"}}}],\"scatterternary\":[{\"type\":\"scatterternary\",\"marker\":{\"colorbar\":{\"outlinewidth\":0,\"ticks\":\"\"}}}],\"scattercarpet\":[{\"type\":\"scattercarpet\",\"marker\":{\"colorbar\":{\"outlinewidth\":0,\"ticks\":\"\"}}}],\"carpet\":[{\"aaxis\":{\"endlinecolor\":\"#2a3f5f\",\"gridcolor\":\"white\",\"linecolor\":\"white\",\"minorgridcolor\":\"white\",\"startlinecolor\":\"#2a3f5f\"},\"baxis\":{\"endlinecolor\":\"#2a3f5f\",\"gridcolor\":\"white\",\"linecolor\":\"white\",\"minorgridcolor\":\"white\",\"startlinecolor\":\"#2a3f5f\"},\"type\":\"carpet\"}],\"table\":[{\"cells\":{\"fill\":{\"color\":\"#EBF0F8\"},\"line\":{\"color\":\"white\"}},\"header\":{\"fill\":{\"color\":\"#C8D4E3\"},\"line\":{\"color\":\"white\"}},\"type\":\"table\"}],\"barpolar\":[{\"marker\":{\"line\":{\"color\":\"#E5ECF6\",\"width\":0.5},\"pattern\":{\"fillmode\":\"overlay\",\"size\":10,\"solidity\":0.2}},\"type\":\"barpolar\"}],\"pie\":[{\"automargin\":true,\"type\":\"pie\"}]},\"layout\":{\"autotypenumbers\":\"strict\",\"colorway\":[\"#636efa\",\"#EF553B\",\"#00cc96\",\"#ab63fa\",\"#FFA15A\",\"#19d3f3\",\"#FF6692\",\"#B6E880\",\"#FF97FF\",\"#FECB52\"],\"font\":{\"color\":\"#2a3f5f\"},\"hovermode\":\"closest\",\"hoverlabel\":{\"align\":\"left\"},\"paper_bgcolor\":\"white\",\"plot_bgcolor\":\"#E5ECF6\",\"polar\":{\"bgcolor\":\"#E5ECF6\",\"angularaxis\":{\"gridcolor\":\"white\",\"linecolor\":\"white\",\"ticks\":\"\"},\"radialaxis\":{\"gridcolor\":\"white\",\"linecolor\":\"white\",\"ticks\":\"\"}},\"ternary\":{\"bgcolor\":\"#E5ECF6\",\"aaxis\":{\"gridcolor\":\"white\",\"linecolor\":\"white\",\"ticks\":\"\"},\"baxis\":{\"gridcolor\":\"white\",\"linecolor\":\"white\",\"ticks\":\"\"},\"caxis\":{\"gridcolor\":\"white\",\"linecolor\":\"white\",\"ticks\":\"\"}},\"coloraxis\":{\"colorbar\":{\"outlinewidth\":0,\"ticks\":\"\"}},\"colorscale\":{\"sequential\":[[0.0,\"#0d0887\"],[0.1111111111111111,\"#46039f\"],[0.2222222222222222,\"#7201a8\"],[0.3333333333333333,\"#9c179e\"],[0.4444444444444444,\"#bd3786\"],[0.5555555555555556,\"#d8576b\"],[0.6666666666666666,\"#ed7953\"],[0.7777777777777778,\"#fb9f3a\"],[0.8888888888888888,\"#fdca26\"],[1.0,\"#f0f921\"]],\"sequentialminus\":[[0.0,\"#0d0887\"],[0.1111111111111111,\"#46039f\"],[0.2222222222222222,\"#7201a8\"],[0.3333333333333333,\"#9c179e\"],[0.4444444444444444,\"#bd3786\"],[0.5555555555555556,\"#d8576b\"],[0.6666666666666666,\"#ed7953\"],[0.7777777777777778,\"#fb9f3a\"],[0.8888888888888888,\"#fdca26\"],[1.0,\"#f0f921\"]],\"diverging\":[[0,\"#8e0152\"],[0.1,\"#c51b7d\"],[0.2,\"#de77ae\"],[0.3,\"#f1b6da\"],[0.4,\"#fde0ef\"],[0.5,\"#f7f7f7\"],[0.6,\"#e6f5d0\"],[0.7,\"#b8e186\"],[0.8,\"#7fbc41\"],[0.9,\"#4d9221\"],[1,\"#276419\"]]},\"xaxis\":{\"gridcolor\":\"white\",\"linecolor\":\"white\",\"ticks\":\"\",\"title\":{\"standoff\":15},\"zerolinecolor\":\"white\",\"automargin\":true,\"zerolinewidth\":2},\"yaxis\":{\"gridcolor\":\"white\",\"linecolor\":\"white\",\"ticks\":\"\",\"title\":{\"standoff\":15},\"zerolinecolor\":\"white\",\"automargin\":true,\"zerolinewidth\":2},\"scene\":{\"xaxis\":{\"backgroundcolor\":\"#E5ECF6\",\"gridcolor\":\"white\",\"linecolor\":\"white\",\"showbackground\":true,\"ticks\":\"\",\"zerolinecolor\":\"white\",\"gridwidth\":2},\"yaxis\":{\"backgroundcolor\":\"#E5ECF6\",\"gridcolor\":\"white\",\"linecolor\":\"white\",\"showbackground\":true,\"ticks\":\"\",\"zerolinecolor\":\"white\",\"gridwidth\":2},\"zaxis\":{\"backgroundcolor\":\"#E5ECF6\",\"gridcolor\":\"white\",\"linecolor\":\"white\",\"showbackground\":true,\"ticks\":\"\",\"zerolinecolor\":\"white\",\"gridwidth\":2}},\"shapedefaults\":{\"line\":{\"color\":\"#2a3f5f\"}},\"annotationdefaults\":{\"arrowcolor\":\"#2a3f5f\",\"arrowhead\":0,\"arrowwidth\":1},\"geo\":{\"bgcolor\":\"white\",\"landcolor\":\"#E5ECF6\",\"subunitcolor\":\"white\",\"showland\":true,\"showlakes\":true,\"lakecolor\":\"white\"},\"title\":{\"x\":0.05},\"mapbox\":{\"style\":\"light\"}}},\"xaxis\":{\"anchor\":\"y\",\"domain\":[0.0,1.0],\"scaleanchor\":\"y\",\"constrain\":\"domain\",\"title\":{\"text\":\"postag_3\"}},\"yaxis\":{\"anchor\":\"x\",\"domain\":[0.0,1.0],\"autorange\":\"reversed\",\"constrain\":\"domain\",\"title\":{\"text\":\"postag_4\"}},\"coloraxis\":{\"colorbar\":{\"title\":{\"text\":\"count\"}},\"colorscale\":[[0.0,\"#0d0887\"],[0.1111111111111111,\"#46039f\"],[0.2222222222222222,\"#7201a8\"],[0.3333333333333333,\"#9c179e\"],[0.4444444444444444,\"#bd3786\"],[0.5555555555555556,\"#d8576b\"],[0.6666666666666666,\"#ed7953\"],[0.7777777777777778,\"#fb9f3a\"],[0.8888888888888888,\"#fdca26\"],[1.0,\"#f0f921\"]]},\"margin\":{\"t\":60},\"title\":{\"text\":\"label 1 > label 0: postag_3 vs postag_4\"}},                        {\"responsive\": true}                    ).then(function(){\n",
       "                            \n",
       "var gd = document.getElementById('bd12890d-9a5b-4c3d-a407-79e0268a4549');\n",
       "var x = new MutationObserver(function (mutations, observer) {{\n",
       "        var display = window.getComputedStyle(gd).display;\n",
       "        if (!display || display === 'none') {{\n",
       "            console.log([gd, 'removed!']);\n",
       "            Plotly.purge(gd);\n",
       "            observer.disconnect();\n",
       "        }}\n",
       "}});\n",
       "\n",
       "// Listen for the removal of the full notebook cells\n",
       "var notebookContainer = gd.closest('#notebook-container');\n",
       "if (notebookContainer) {{\n",
       "    x.observe(notebookContainer, {childList: true});\n",
       "}}\n",
       "\n",
       "// Listen for the clearing of the current output cell\n",
       "var outputEl = gd.closest('.output');\n",
       "if (outputEl) {{\n",
       "    x.observe(outputEl, {childList: true});\n",
       "}}\n",
       "\n",
       "                        })                };                });            </script>        </div>"
      ]
     },
     "metadata": {},
     "output_type": "display_data"
    },
    {
     "data": {
      "application/vnd.plotly.v1+json": {
       "config": {
        "plotlyServerURL": "https://plot.ly"
       },
       "data": [
        {
         "name": "1",
         "type": "bar",
         "x": [
          "VERB_ADJ",
          "ADP_NOUN",
          "NOUN_VERB",
          "INTJ_PRON",
          "SCONJ_PRON",
          "VERB_NOUN",
          "VERB_PRON",
          "NOUN_ADP",
          "NOUN_PRON",
          "DET_NOUN"
         ],
         "y": [
          90,
          98,
          103,
          120,
          121,
          141,
          146,
          155,
          160,
          495
         ]
        }
       ],
       "layout": {
        "template": {
         "data": {
          "bar": [
           {
            "error_x": {
             "color": "#2a3f5f"
            },
            "error_y": {
             "color": "#2a3f5f"
            },
            "marker": {
             "line": {
              "color": "#E5ECF6",
              "width": 0.5
             },
             "pattern": {
              "fillmode": "overlay",
              "size": 10,
              "solidity": 0.2
             }
            },
            "type": "bar"
           }
          ],
          "barpolar": [
           {
            "marker": {
             "line": {
              "color": "#E5ECF6",
              "width": 0.5
             },
             "pattern": {
              "fillmode": "overlay",
              "size": 10,
              "solidity": 0.2
             }
            },
            "type": "barpolar"
           }
          ],
          "carpet": [
           {
            "aaxis": {
             "endlinecolor": "#2a3f5f",
             "gridcolor": "white",
             "linecolor": "white",
             "minorgridcolor": "white",
             "startlinecolor": "#2a3f5f"
            },
            "baxis": {
             "endlinecolor": "#2a3f5f",
             "gridcolor": "white",
             "linecolor": "white",
             "minorgridcolor": "white",
             "startlinecolor": "#2a3f5f"
            },
            "type": "carpet"
           }
          ],
          "choropleth": [
           {
            "colorbar": {
             "outlinewidth": 0,
             "ticks": ""
            },
            "type": "choropleth"
           }
          ],
          "contour": [
           {
            "colorbar": {
             "outlinewidth": 0,
             "ticks": ""
            },
            "colorscale": [
             [
              0,
              "#0d0887"
             ],
             [
              0.1111111111111111,
              "#46039f"
             ],
             [
              0.2222222222222222,
              "#7201a8"
             ],
             [
              0.3333333333333333,
              "#9c179e"
             ],
             [
              0.4444444444444444,
              "#bd3786"
             ],
             [
              0.5555555555555556,
              "#d8576b"
             ],
             [
              0.6666666666666666,
              "#ed7953"
             ],
             [
              0.7777777777777778,
              "#fb9f3a"
             ],
             [
              0.8888888888888888,
              "#fdca26"
             ],
             [
              1,
              "#f0f921"
             ]
            ],
            "type": "contour"
           }
          ],
          "contourcarpet": [
           {
            "colorbar": {
             "outlinewidth": 0,
             "ticks": ""
            },
            "type": "contourcarpet"
           }
          ],
          "heatmap": [
           {
            "colorbar": {
             "outlinewidth": 0,
             "ticks": ""
            },
            "colorscale": [
             [
              0,
              "#0d0887"
             ],
             [
              0.1111111111111111,
              "#46039f"
             ],
             [
              0.2222222222222222,
              "#7201a8"
             ],
             [
              0.3333333333333333,
              "#9c179e"
             ],
             [
              0.4444444444444444,
              "#bd3786"
             ],
             [
              0.5555555555555556,
              "#d8576b"
             ],
             [
              0.6666666666666666,
              "#ed7953"
             ],
             [
              0.7777777777777778,
              "#fb9f3a"
             ],
             [
              0.8888888888888888,
              "#fdca26"
             ],
             [
              1,
              "#f0f921"
             ]
            ],
            "type": "heatmap"
           }
          ],
          "heatmapgl": [
           {
            "colorbar": {
             "outlinewidth": 0,
             "ticks": ""
            },
            "colorscale": [
             [
              0,
              "#0d0887"
             ],
             [
              0.1111111111111111,
              "#46039f"
             ],
             [
              0.2222222222222222,
              "#7201a8"
             ],
             [
              0.3333333333333333,
              "#9c179e"
             ],
             [
              0.4444444444444444,
              "#bd3786"
             ],
             [
              0.5555555555555556,
              "#d8576b"
             ],
             [
              0.6666666666666666,
              "#ed7953"
             ],
             [
              0.7777777777777778,
              "#fb9f3a"
             ],
             [
              0.8888888888888888,
              "#fdca26"
             ],
             [
              1,
              "#f0f921"
             ]
            ],
            "type": "heatmapgl"
           }
          ],
          "histogram": [
           {
            "marker": {
             "pattern": {
              "fillmode": "overlay",
              "size": 10,
              "solidity": 0.2
             }
            },
            "type": "histogram"
           }
          ],
          "histogram2d": [
           {
            "colorbar": {
             "outlinewidth": 0,
             "ticks": ""
            },
            "colorscale": [
             [
              0,
              "#0d0887"
             ],
             [
              0.1111111111111111,
              "#46039f"
             ],
             [
              0.2222222222222222,
              "#7201a8"
             ],
             [
              0.3333333333333333,
              "#9c179e"
             ],
             [
              0.4444444444444444,
              "#bd3786"
             ],
             [
              0.5555555555555556,
              "#d8576b"
             ],
             [
              0.6666666666666666,
              "#ed7953"
             ],
             [
              0.7777777777777778,
              "#fb9f3a"
             ],
             [
              0.8888888888888888,
              "#fdca26"
             ],
             [
              1,
              "#f0f921"
             ]
            ],
            "type": "histogram2d"
           }
          ],
          "histogram2dcontour": [
           {
            "colorbar": {
             "outlinewidth": 0,
             "ticks": ""
            },
            "colorscale": [
             [
              0,
              "#0d0887"
             ],
             [
              0.1111111111111111,
              "#46039f"
             ],
             [
              0.2222222222222222,
              "#7201a8"
             ],
             [
              0.3333333333333333,
              "#9c179e"
             ],
             [
              0.4444444444444444,
              "#bd3786"
             ],
             [
              0.5555555555555556,
              "#d8576b"
             ],
             [
              0.6666666666666666,
              "#ed7953"
             ],
             [
              0.7777777777777778,
              "#fb9f3a"
             ],
             [
              0.8888888888888888,
              "#fdca26"
             ],
             [
              1,
              "#f0f921"
             ]
            ],
            "type": "histogram2dcontour"
           }
          ],
          "mesh3d": [
           {
            "colorbar": {
             "outlinewidth": 0,
             "ticks": ""
            },
            "type": "mesh3d"
           }
          ],
          "parcoords": [
           {
            "line": {
             "colorbar": {
              "outlinewidth": 0,
              "ticks": ""
             }
            },
            "type": "parcoords"
           }
          ],
          "pie": [
           {
            "automargin": true,
            "type": "pie"
           }
          ],
          "scatter": [
           {
            "fillpattern": {
             "fillmode": "overlay",
             "size": 10,
             "solidity": 0.2
            },
            "type": "scatter"
           }
          ],
          "scatter3d": [
           {
            "line": {
             "colorbar": {
              "outlinewidth": 0,
              "ticks": ""
             }
            },
            "marker": {
             "colorbar": {
              "outlinewidth": 0,
              "ticks": ""
             }
            },
            "type": "scatter3d"
           }
          ],
          "scattercarpet": [
           {
            "marker": {
             "colorbar": {
              "outlinewidth": 0,
              "ticks": ""
             }
            },
            "type": "scattercarpet"
           }
          ],
          "scattergeo": [
           {
            "marker": {
             "colorbar": {
              "outlinewidth": 0,
              "ticks": ""
             }
            },
            "type": "scattergeo"
           }
          ],
          "scattergl": [
           {
            "marker": {
             "colorbar": {
              "outlinewidth": 0,
              "ticks": ""
             }
            },
            "type": "scattergl"
           }
          ],
          "scattermapbox": [
           {
            "marker": {
             "colorbar": {
              "outlinewidth": 0,
              "ticks": ""
             }
            },
            "type": "scattermapbox"
           }
          ],
          "scatterpolar": [
           {
            "marker": {
             "colorbar": {
              "outlinewidth": 0,
              "ticks": ""
             }
            },
            "type": "scatterpolar"
           }
          ],
          "scatterpolargl": [
           {
            "marker": {
             "colorbar": {
              "outlinewidth": 0,
              "ticks": ""
             }
            },
            "type": "scatterpolargl"
           }
          ],
          "scatterternary": [
           {
            "marker": {
             "colorbar": {
              "outlinewidth": 0,
              "ticks": ""
             }
            },
            "type": "scatterternary"
           }
          ],
          "surface": [
           {
            "colorbar": {
             "outlinewidth": 0,
             "ticks": ""
            },
            "colorscale": [
             [
              0,
              "#0d0887"
             ],
             [
              0.1111111111111111,
              "#46039f"
             ],
             [
              0.2222222222222222,
              "#7201a8"
             ],
             [
              0.3333333333333333,
              "#9c179e"
             ],
             [
              0.4444444444444444,
              "#bd3786"
             ],
             [
              0.5555555555555556,
              "#d8576b"
             ],
             [
              0.6666666666666666,
              "#ed7953"
             ],
             [
              0.7777777777777778,
              "#fb9f3a"
             ],
             [
              0.8888888888888888,
              "#fdca26"
             ],
             [
              1,
              "#f0f921"
             ]
            ],
            "type": "surface"
           }
          ],
          "table": [
           {
            "cells": {
             "fill": {
              "color": "#EBF0F8"
             },
             "line": {
              "color": "white"
             }
            },
            "header": {
             "fill": {
              "color": "#C8D4E3"
             },
             "line": {
              "color": "white"
             }
            },
            "type": "table"
           }
          ]
         },
         "layout": {
          "annotationdefaults": {
           "arrowcolor": "#2a3f5f",
           "arrowhead": 0,
           "arrowwidth": 1
          },
          "autotypenumbers": "strict",
          "coloraxis": {
           "colorbar": {
            "outlinewidth": 0,
            "ticks": ""
           }
          },
          "colorscale": {
           "diverging": [
            [
             0,
             "#8e0152"
            ],
            [
             0.1,
             "#c51b7d"
            ],
            [
             0.2,
             "#de77ae"
            ],
            [
             0.3,
             "#f1b6da"
            ],
            [
             0.4,
             "#fde0ef"
            ],
            [
             0.5,
             "#f7f7f7"
            ],
            [
             0.6,
             "#e6f5d0"
            ],
            [
             0.7,
             "#b8e186"
            ],
            [
             0.8,
             "#7fbc41"
            ],
            [
             0.9,
             "#4d9221"
            ],
            [
             1,
             "#276419"
            ]
           ],
           "sequential": [
            [
             0,
             "#0d0887"
            ],
            [
             0.1111111111111111,
             "#46039f"
            ],
            [
             0.2222222222222222,
             "#7201a8"
            ],
            [
             0.3333333333333333,
             "#9c179e"
            ],
            [
             0.4444444444444444,
             "#bd3786"
            ],
            [
             0.5555555555555556,
             "#d8576b"
            ],
            [
             0.6666666666666666,
             "#ed7953"
            ],
            [
             0.7777777777777778,
             "#fb9f3a"
            ],
            [
             0.8888888888888888,
             "#fdca26"
            ],
            [
             1,
             "#f0f921"
            ]
           ],
           "sequentialminus": [
            [
             0,
             "#0d0887"
            ],
            [
             0.1111111111111111,
             "#46039f"
            ],
            [
             0.2222222222222222,
             "#7201a8"
            ],
            [
             0.3333333333333333,
             "#9c179e"
            ],
            [
             0.4444444444444444,
             "#bd3786"
            ],
            [
             0.5555555555555556,
             "#d8576b"
            ],
            [
             0.6666666666666666,
             "#ed7953"
            ],
            [
             0.7777777777777778,
             "#fb9f3a"
            ],
            [
             0.8888888888888888,
             "#fdca26"
            ],
            [
             1,
             "#f0f921"
            ]
           ]
          },
          "colorway": [
           "#636efa",
           "#EF553B",
           "#00cc96",
           "#ab63fa",
           "#FFA15A",
           "#19d3f3",
           "#FF6692",
           "#B6E880",
           "#FF97FF",
           "#FECB52"
          ],
          "font": {
           "color": "#2a3f5f"
          },
          "geo": {
           "bgcolor": "white",
           "lakecolor": "white",
           "landcolor": "#E5ECF6",
           "showlakes": true,
           "showland": true,
           "subunitcolor": "white"
          },
          "hoverlabel": {
           "align": "left"
          },
          "hovermode": "closest",
          "mapbox": {
           "style": "light"
          },
          "paper_bgcolor": "white",
          "plot_bgcolor": "#E5ECF6",
          "polar": {
           "angularaxis": {
            "gridcolor": "white",
            "linecolor": "white",
            "ticks": ""
           },
           "bgcolor": "#E5ECF6",
           "radialaxis": {
            "gridcolor": "white",
            "linecolor": "white",
            "ticks": ""
           }
          },
          "scene": {
           "xaxis": {
            "backgroundcolor": "#E5ECF6",
            "gridcolor": "white",
            "gridwidth": 2,
            "linecolor": "white",
            "showbackground": true,
            "ticks": "",
            "zerolinecolor": "white"
           },
           "yaxis": {
            "backgroundcolor": "#E5ECF6",
            "gridcolor": "white",
            "gridwidth": 2,
            "linecolor": "white",
            "showbackground": true,
            "ticks": "",
            "zerolinecolor": "white"
           },
           "zaxis": {
            "backgroundcolor": "#E5ECF6",
            "gridcolor": "white",
            "gridwidth": 2,
            "linecolor": "white",
            "showbackground": true,
            "ticks": "",
            "zerolinecolor": "white"
           }
          },
          "shapedefaults": {
           "line": {
            "color": "#2a3f5f"
           }
          },
          "ternary": {
           "aaxis": {
            "gridcolor": "white",
            "linecolor": "white",
            "ticks": ""
           },
           "baxis": {
            "gridcolor": "white",
            "linecolor": "white",
            "ticks": ""
           },
           "bgcolor": "#E5ECF6",
           "caxis": {
            "gridcolor": "white",
            "linecolor": "white",
            "ticks": ""
           }
          },
          "title": {
           "x": 0.05
          },
          "xaxis": {
           "automargin": true,
           "gridcolor": "white",
           "linecolor": "white",
           "ticks": "",
           "title": {
            "standoff": 15
           },
           "zerolinecolor": "white",
           "zerolinewidth": 2
          },
          "yaxis": {
           "automargin": true,
           "gridcolor": "white",
           "linecolor": "white",
           "ticks": "",
           "title": {
            "standoff": 15
           },
           "zerolinecolor": "white",
           "zerolinewidth": 2
          }
         }
        },
        "title": {
         "text": "label 1: 2 features - ordered histogram"
        },
        "xaxis": {
         "title": {
          "text": "postag 3-4"
         }
        },
        "yaxis": {
         "title": {
          "text": "count"
         }
        }
       }
      },
      "text/html": [
       "<div>                            <div id=\"a735561d-8714-48a2-a035-59f0b0505b5b\" class=\"plotly-graph-div\" style=\"height:525px; width:100%;\"></div>            <script type=\"text/javascript\">                require([\"plotly\"], function(Plotly) {                    window.PLOTLYENV=window.PLOTLYENV || {};                                    if (document.getElementById(\"a735561d-8714-48a2-a035-59f0b0505b5b\")) {                    Plotly.newPlot(                        \"a735561d-8714-48a2-a035-59f0b0505b5b\",                        [{\"name\":\"1\",\"x\":[\"VERB_ADJ\",\"ADP_NOUN\",\"NOUN_VERB\",\"INTJ_PRON\",\"SCONJ_PRON\",\"VERB_NOUN\",\"VERB_PRON\",\"NOUN_ADP\",\"NOUN_PRON\",\"DET_NOUN\"],\"y\":[90.0,98.0,103.0,120.0,121.0,141.0,146.0,155.0,160.0,495.0],\"type\":\"bar\"}],                        {\"template\":{\"data\":{\"histogram2dcontour\":[{\"type\":\"histogram2dcontour\",\"colorbar\":{\"outlinewidth\":0,\"ticks\":\"\"},\"colorscale\":[[0.0,\"#0d0887\"],[0.1111111111111111,\"#46039f\"],[0.2222222222222222,\"#7201a8\"],[0.3333333333333333,\"#9c179e\"],[0.4444444444444444,\"#bd3786\"],[0.5555555555555556,\"#d8576b\"],[0.6666666666666666,\"#ed7953\"],[0.7777777777777778,\"#fb9f3a\"],[0.8888888888888888,\"#fdca26\"],[1.0,\"#f0f921\"]]}],\"choropleth\":[{\"type\":\"choropleth\",\"colorbar\":{\"outlinewidth\":0,\"ticks\":\"\"}}],\"histogram2d\":[{\"type\":\"histogram2d\",\"colorbar\":{\"outlinewidth\":0,\"ticks\":\"\"},\"colorscale\":[[0.0,\"#0d0887\"],[0.1111111111111111,\"#46039f\"],[0.2222222222222222,\"#7201a8\"],[0.3333333333333333,\"#9c179e\"],[0.4444444444444444,\"#bd3786\"],[0.5555555555555556,\"#d8576b\"],[0.6666666666666666,\"#ed7953\"],[0.7777777777777778,\"#fb9f3a\"],[0.8888888888888888,\"#fdca26\"],[1.0,\"#f0f921\"]]}],\"heatmap\":[{\"type\":\"heatmap\",\"colorbar\":{\"outlinewidth\":0,\"ticks\":\"\"},\"colorscale\":[[0.0,\"#0d0887\"],[0.1111111111111111,\"#46039f\"],[0.2222222222222222,\"#7201a8\"],[0.3333333333333333,\"#9c179e\"],[0.4444444444444444,\"#bd3786\"],[0.5555555555555556,\"#d8576b\"],[0.6666666666666666,\"#ed7953\"],[0.7777777777777778,\"#fb9f3a\"],[0.8888888888888888,\"#fdca26\"],[1.0,\"#f0f921\"]]}],\"heatmapgl\":[{\"type\":\"heatmapgl\",\"colorbar\":{\"outlinewidth\":0,\"ticks\":\"\"},\"colorscale\":[[0.0,\"#0d0887\"],[0.1111111111111111,\"#46039f\"],[0.2222222222222222,\"#7201a8\"],[0.3333333333333333,\"#9c179e\"],[0.4444444444444444,\"#bd3786\"],[0.5555555555555556,\"#d8576b\"],[0.6666666666666666,\"#ed7953\"],[0.7777777777777778,\"#fb9f3a\"],[0.8888888888888888,\"#fdca26\"],[1.0,\"#f0f921\"]]}],\"contourcarpet\":[{\"type\":\"contourcarpet\",\"colorbar\":{\"outlinewidth\":0,\"ticks\":\"\"}}],\"contour\":[{\"type\":\"contour\",\"colorbar\":{\"outlinewidth\":0,\"ticks\":\"\"},\"colorscale\":[[0.0,\"#0d0887\"],[0.1111111111111111,\"#46039f\"],[0.2222222222222222,\"#7201a8\"],[0.3333333333333333,\"#9c179e\"],[0.4444444444444444,\"#bd3786\"],[0.5555555555555556,\"#d8576b\"],[0.6666666666666666,\"#ed7953\"],[0.7777777777777778,\"#fb9f3a\"],[0.8888888888888888,\"#fdca26\"],[1.0,\"#f0f921\"]]}],\"surface\":[{\"type\":\"surface\",\"colorbar\":{\"outlinewidth\":0,\"ticks\":\"\"},\"colorscale\":[[0.0,\"#0d0887\"],[0.1111111111111111,\"#46039f\"],[0.2222222222222222,\"#7201a8\"],[0.3333333333333333,\"#9c179e\"],[0.4444444444444444,\"#bd3786\"],[0.5555555555555556,\"#d8576b\"],[0.6666666666666666,\"#ed7953\"],[0.7777777777777778,\"#fb9f3a\"],[0.8888888888888888,\"#fdca26\"],[1.0,\"#f0f921\"]]}],\"mesh3d\":[{\"type\":\"mesh3d\",\"colorbar\":{\"outlinewidth\":0,\"ticks\":\"\"}}],\"scatter\":[{\"fillpattern\":{\"fillmode\":\"overlay\",\"size\":10,\"solidity\":0.2},\"type\":\"scatter\"}],\"parcoords\":[{\"type\":\"parcoords\",\"line\":{\"colorbar\":{\"outlinewidth\":0,\"ticks\":\"\"}}}],\"scatterpolargl\":[{\"type\":\"scatterpolargl\",\"marker\":{\"colorbar\":{\"outlinewidth\":0,\"ticks\":\"\"}}}],\"bar\":[{\"error_x\":{\"color\":\"#2a3f5f\"},\"error_y\":{\"color\":\"#2a3f5f\"},\"marker\":{\"line\":{\"color\":\"#E5ECF6\",\"width\":0.5},\"pattern\":{\"fillmode\":\"overlay\",\"size\":10,\"solidity\":0.2}},\"type\":\"bar\"}],\"scattergeo\":[{\"type\":\"scattergeo\",\"marker\":{\"colorbar\":{\"outlinewidth\":0,\"ticks\":\"\"}}}],\"scatterpolar\":[{\"type\":\"scatterpolar\",\"marker\":{\"colorbar\":{\"outlinewidth\":0,\"ticks\":\"\"}}}],\"histogram\":[{\"marker\":{\"pattern\":{\"fillmode\":\"overlay\",\"size\":10,\"solidity\":0.2}},\"type\":\"histogram\"}],\"scattergl\":[{\"type\":\"scattergl\",\"marker\":{\"colorbar\":{\"outlinewidth\":0,\"ticks\":\"\"}}}],\"scatter3d\":[{\"type\":\"scatter3d\",\"line\":{\"colorbar\":{\"outlinewidth\":0,\"ticks\":\"\"}},\"marker\":{\"colorbar\":{\"outlinewidth\":0,\"ticks\":\"\"}}}],\"scattermapbox\":[{\"type\":\"scattermapbox\",\"marker\":{\"colorbar\":{\"outlinewidth\":0,\"ticks\":\"\"}}}],\"scatterternary\":[{\"type\":\"scatterternary\",\"marker\":{\"colorbar\":{\"outlinewidth\":0,\"ticks\":\"\"}}}],\"scattercarpet\":[{\"type\":\"scattercarpet\",\"marker\":{\"colorbar\":{\"outlinewidth\":0,\"ticks\":\"\"}}}],\"carpet\":[{\"aaxis\":{\"endlinecolor\":\"#2a3f5f\",\"gridcolor\":\"white\",\"linecolor\":\"white\",\"minorgridcolor\":\"white\",\"startlinecolor\":\"#2a3f5f\"},\"baxis\":{\"endlinecolor\":\"#2a3f5f\",\"gridcolor\":\"white\",\"linecolor\":\"white\",\"minorgridcolor\":\"white\",\"startlinecolor\":\"#2a3f5f\"},\"type\":\"carpet\"}],\"table\":[{\"cells\":{\"fill\":{\"color\":\"#EBF0F8\"},\"line\":{\"color\":\"white\"}},\"header\":{\"fill\":{\"color\":\"#C8D4E3\"},\"line\":{\"color\":\"white\"}},\"type\":\"table\"}],\"barpolar\":[{\"marker\":{\"line\":{\"color\":\"#E5ECF6\",\"width\":0.5},\"pattern\":{\"fillmode\":\"overlay\",\"size\":10,\"solidity\":0.2}},\"type\":\"barpolar\"}],\"pie\":[{\"automargin\":true,\"type\":\"pie\"}]},\"layout\":{\"autotypenumbers\":\"strict\",\"colorway\":[\"#636efa\",\"#EF553B\",\"#00cc96\",\"#ab63fa\",\"#FFA15A\",\"#19d3f3\",\"#FF6692\",\"#B6E880\",\"#FF97FF\",\"#FECB52\"],\"font\":{\"color\":\"#2a3f5f\"},\"hovermode\":\"closest\",\"hoverlabel\":{\"align\":\"left\"},\"paper_bgcolor\":\"white\",\"plot_bgcolor\":\"#E5ECF6\",\"polar\":{\"bgcolor\":\"#E5ECF6\",\"angularaxis\":{\"gridcolor\":\"white\",\"linecolor\":\"white\",\"ticks\":\"\"},\"radialaxis\":{\"gridcolor\":\"white\",\"linecolor\":\"white\",\"ticks\":\"\"}},\"ternary\":{\"bgcolor\":\"#E5ECF6\",\"aaxis\":{\"gridcolor\":\"white\",\"linecolor\":\"white\",\"ticks\":\"\"},\"baxis\":{\"gridcolor\":\"white\",\"linecolor\":\"white\",\"ticks\":\"\"},\"caxis\":{\"gridcolor\":\"white\",\"linecolor\":\"white\",\"ticks\":\"\"}},\"coloraxis\":{\"colorbar\":{\"outlinewidth\":0,\"ticks\":\"\"}},\"colorscale\":{\"sequential\":[[0.0,\"#0d0887\"],[0.1111111111111111,\"#46039f\"],[0.2222222222222222,\"#7201a8\"],[0.3333333333333333,\"#9c179e\"],[0.4444444444444444,\"#bd3786\"],[0.5555555555555556,\"#d8576b\"],[0.6666666666666666,\"#ed7953\"],[0.7777777777777778,\"#fb9f3a\"],[0.8888888888888888,\"#fdca26\"],[1.0,\"#f0f921\"]],\"sequentialminus\":[[0.0,\"#0d0887\"],[0.1111111111111111,\"#46039f\"],[0.2222222222222222,\"#7201a8\"],[0.3333333333333333,\"#9c179e\"],[0.4444444444444444,\"#bd3786\"],[0.5555555555555556,\"#d8576b\"],[0.6666666666666666,\"#ed7953\"],[0.7777777777777778,\"#fb9f3a\"],[0.8888888888888888,\"#fdca26\"],[1.0,\"#f0f921\"]],\"diverging\":[[0,\"#8e0152\"],[0.1,\"#c51b7d\"],[0.2,\"#de77ae\"],[0.3,\"#f1b6da\"],[0.4,\"#fde0ef\"],[0.5,\"#f7f7f7\"],[0.6,\"#e6f5d0\"],[0.7,\"#b8e186\"],[0.8,\"#7fbc41\"],[0.9,\"#4d9221\"],[1,\"#276419\"]]},\"xaxis\":{\"gridcolor\":\"white\",\"linecolor\":\"white\",\"ticks\":\"\",\"title\":{\"standoff\":15},\"zerolinecolor\":\"white\",\"automargin\":true,\"zerolinewidth\":2},\"yaxis\":{\"gridcolor\":\"white\",\"linecolor\":\"white\",\"ticks\":\"\",\"title\":{\"standoff\":15},\"zerolinecolor\":\"white\",\"automargin\":true,\"zerolinewidth\":2},\"scene\":{\"xaxis\":{\"backgroundcolor\":\"#E5ECF6\",\"gridcolor\":\"white\",\"linecolor\":\"white\",\"showbackground\":true,\"ticks\":\"\",\"zerolinecolor\":\"white\",\"gridwidth\":2},\"yaxis\":{\"backgroundcolor\":\"#E5ECF6\",\"gridcolor\":\"white\",\"linecolor\":\"white\",\"showbackground\":true,\"ticks\":\"\",\"zerolinecolor\":\"white\",\"gridwidth\":2},\"zaxis\":{\"backgroundcolor\":\"#E5ECF6\",\"gridcolor\":\"white\",\"linecolor\":\"white\",\"showbackground\":true,\"ticks\":\"\",\"zerolinecolor\":\"white\",\"gridwidth\":2}},\"shapedefaults\":{\"line\":{\"color\":\"#2a3f5f\"}},\"annotationdefaults\":{\"arrowcolor\":\"#2a3f5f\",\"arrowhead\":0,\"arrowwidth\":1},\"geo\":{\"bgcolor\":\"white\",\"landcolor\":\"#E5ECF6\",\"subunitcolor\":\"white\",\"showland\":true,\"showlakes\":true,\"lakecolor\":\"white\"},\"title\":{\"x\":0.05},\"mapbox\":{\"style\":\"light\"}}},\"title\":{\"text\":\"label 1: 2 features - ordered histogram\"},\"xaxis\":{\"title\":{\"text\":\"postag 3-4\"}},\"yaxis\":{\"title\":{\"text\":\"count\"}}},                        {\"responsive\": true}                    ).then(function(){\n",
       "                            \n",
       "var gd = document.getElementById('a735561d-8714-48a2-a035-59f0b0505b5b');\n",
       "var x = new MutationObserver(function (mutations, observer) {{\n",
       "        var display = window.getComputedStyle(gd).display;\n",
       "        if (!display || display === 'none') {{\n",
       "            console.log([gd, 'removed!']);\n",
       "            Plotly.purge(gd);\n",
       "            observer.disconnect();\n",
       "        }}\n",
       "}});\n",
       "\n",
       "// Listen for the removal of the full notebook cells\n",
       "var notebookContainer = gd.closest('#notebook-container');\n",
       "if (notebookContainer) {{\n",
       "    x.observe(notebookContainer, {childList: true});\n",
       "}}\n",
       "\n",
       "// Listen for the clearing of the current output cell\n",
       "var outputEl = gd.closest('.output');\n",
       "if (outputEl) {{\n",
       "    x.observe(outputEl, {childList: true});\n",
       "}}\n",
       "\n",
       "                        })                };                });            </script>        </div>"
      ]
     },
     "metadata": {},
     "output_type": "display_data"
    },
    {
     "data": {
      "application/vnd.plotly.v1+json": {
       "config": {
        "plotlyServerURL": "https://plot.ly"
       },
       "data": [
        {
         "name": "1",
         "type": "bar",
         "x": [
          "SCONJ_PRON",
          "PRON_PRON",
          "VERB_ADV",
          "PRON_AUX",
          "VERB_ADP",
          "VERB_PRON",
          "ADP_DET",
          "VERB_DET",
          "DET_NOUN",
          "PRON_VERB"
         ],
         "y": [
          541,
          575,
          611,
          656,
          719,
          866,
          899,
          920,
          1664,
          2487
         ]
        }
       ],
       "layout": {
        "template": {
         "data": {
          "bar": [
           {
            "error_x": {
             "color": "#2a3f5f"
            },
            "error_y": {
             "color": "#2a3f5f"
            },
            "marker": {
             "line": {
              "color": "#E5ECF6",
              "width": 0.5
             },
             "pattern": {
              "fillmode": "overlay",
              "size": 10,
              "solidity": 0.2
             }
            },
            "type": "bar"
           }
          ],
          "barpolar": [
           {
            "marker": {
             "line": {
              "color": "#E5ECF6",
              "width": 0.5
             },
             "pattern": {
              "fillmode": "overlay",
              "size": 10,
              "solidity": 0.2
             }
            },
            "type": "barpolar"
           }
          ],
          "carpet": [
           {
            "aaxis": {
             "endlinecolor": "#2a3f5f",
             "gridcolor": "white",
             "linecolor": "white",
             "minorgridcolor": "white",
             "startlinecolor": "#2a3f5f"
            },
            "baxis": {
             "endlinecolor": "#2a3f5f",
             "gridcolor": "white",
             "linecolor": "white",
             "minorgridcolor": "white",
             "startlinecolor": "#2a3f5f"
            },
            "type": "carpet"
           }
          ],
          "choropleth": [
           {
            "colorbar": {
             "outlinewidth": 0,
             "ticks": ""
            },
            "type": "choropleth"
           }
          ],
          "contour": [
           {
            "colorbar": {
             "outlinewidth": 0,
             "ticks": ""
            },
            "colorscale": [
             [
              0,
              "#0d0887"
             ],
             [
              0.1111111111111111,
              "#46039f"
             ],
             [
              0.2222222222222222,
              "#7201a8"
             ],
             [
              0.3333333333333333,
              "#9c179e"
             ],
             [
              0.4444444444444444,
              "#bd3786"
             ],
             [
              0.5555555555555556,
              "#d8576b"
             ],
             [
              0.6666666666666666,
              "#ed7953"
             ],
             [
              0.7777777777777778,
              "#fb9f3a"
             ],
             [
              0.8888888888888888,
              "#fdca26"
             ],
             [
              1,
              "#f0f921"
             ]
            ],
            "type": "contour"
           }
          ],
          "contourcarpet": [
           {
            "colorbar": {
             "outlinewidth": 0,
             "ticks": ""
            },
            "type": "contourcarpet"
           }
          ],
          "heatmap": [
           {
            "colorbar": {
             "outlinewidth": 0,
             "ticks": ""
            },
            "colorscale": [
             [
              0,
              "#0d0887"
             ],
             [
              0.1111111111111111,
              "#46039f"
             ],
             [
              0.2222222222222222,
              "#7201a8"
             ],
             [
              0.3333333333333333,
              "#9c179e"
             ],
             [
              0.4444444444444444,
              "#bd3786"
             ],
             [
              0.5555555555555556,
              "#d8576b"
             ],
             [
              0.6666666666666666,
              "#ed7953"
             ],
             [
              0.7777777777777778,
              "#fb9f3a"
             ],
             [
              0.8888888888888888,
              "#fdca26"
             ],
             [
              1,
              "#f0f921"
             ]
            ],
            "type": "heatmap"
           }
          ],
          "heatmapgl": [
           {
            "colorbar": {
             "outlinewidth": 0,
             "ticks": ""
            },
            "colorscale": [
             [
              0,
              "#0d0887"
             ],
             [
              0.1111111111111111,
              "#46039f"
             ],
             [
              0.2222222222222222,
              "#7201a8"
             ],
             [
              0.3333333333333333,
              "#9c179e"
             ],
             [
              0.4444444444444444,
              "#bd3786"
             ],
             [
              0.5555555555555556,
              "#d8576b"
             ],
             [
              0.6666666666666666,
              "#ed7953"
             ],
             [
              0.7777777777777778,
              "#fb9f3a"
             ],
             [
              0.8888888888888888,
              "#fdca26"
             ],
             [
              1,
              "#f0f921"
             ]
            ],
            "type": "heatmapgl"
           }
          ],
          "histogram": [
           {
            "marker": {
             "pattern": {
              "fillmode": "overlay",
              "size": 10,
              "solidity": 0.2
             }
            },
            "type": "histogram"
           }
          ],
          "histogram2d": [
           {
            "colorbar": {
             "outlinewidth": 0,
             "ticks": ""
            },
            "colorscale": [
             [
              0,
              "#0d0887"
             ],
             [
              0.1111111111111111,
              "#46039f"
             ],
             [
              0.2222222222222222,
              "#7201a8"
             ],
             [
              0.3333333333333333,
              "#9c179e"
             ],
             [
              0.4444444444444444,
              "#bd3786"
             ],
             [
              0.5555555555555556,
              "#d8576b"
             ],
             [
              0.6666666666666666,
              "#ed7953"
             ],
             [
              0.7777777777777778,
              "#fb9f3a"
             ],
             [
              0.8888888888888888,
              "#fdca26"
             ],
             [
              1,
              "#f0f921"
             ]
            ],
            "type": "histogram2d"
           }
          ],
          "histogram2dcontour": [
           {
            "colorbar": {
             "outlinewidth": 0,
             "ticks": ""
            },
            "colorscale": [
             [
              0,
              "#0d0887"
             ],
             [
              0.1111111111111111,
              "#46039f"
             ],
             [
              0.2222222222222222,
              "#7201a8"
             ],
             [
              0.3333333333333333,
              "#9c179e"
             ],
             [
              0.4444444444444444,
              "#bd3786"
             ],
             [
              0.5555555555555556,
              "#d8576b"
             ],
             [
              0.6666666666666666,
              "#ed7953"
             ],
             [
              0.7777777777777778,
              "#fb9f3a"
             ],
             [
              0.8888888888888888,
              "#fdca26"
             ],
             [
              1,
              "#f0f921"
             ]
            ],
            "type": "histogram2dcontour"
           }
          ],
          "mesh3d": [
           {
            "colorbar": {
             "outlinewidth": 0,
             "ticks": ""
            },
            "type": "mesh3d"
           }
          ],
          "parcoords": [
           {
            "line": {
             "colorbar": {
              "outlinewidth": 0,
              "ticks": ""
             }
            },
            "type": "parcoords"
           }
          ],
          "pie": [
           {
            "automargin": true,
            "type": "pie"
           }
          ],
          "scatter": [
           {
            "fillpattern": {
             "fillmode": "overlay",
             "size": 10,
             "solidity": 0.2
            },
            "type": "scatter"
           }
          ],
          "scatter3d": [
           {
            "line": {
             "colorbar": {
              "outlinewidth": 0,
              "ticks": ""
             }
            },
            "marker": {
             "colorbar": {
              "outlinewidth": 0,
              "ticks": ""
             }
            },
            "type": "scatter3d"
           }
          ],
          "scattercarpet": [
           {
            "marker": {
             "colorbar": {
              "outlinewidth": 0,
              "ticks": ""
             }
            },
            "type": "scattercarpet"
           }
          ],
          "scattergeo": [
           {
            "marker": {
             "colorbar": {
              "outlinewidth": 0,
              "ticks": ""
             }
            },
            "type": "scattergeo"
           }
          ],
          "scattergl": [
           {
            "marker": {
             "colorbar": {
              "outlinewidth": 0,
              "ticks": ""
             }
            },
            "type": "scattergl"
           }
          ],
          "scattermapbox": [
           {
            "marker": {
             "colorbar": {
              "outlinewidth": 0,
              "ticks": ""
             }
            },
            "type": "scattermapbox"
           }
          ],
          "scatterpolar": [
           {
            "marker": {
             "colorbar": {
              "outlinewidth": 0,
              "ticks": ""
             }
            },
            "type": "scatterpolar"
           }
          ],
          "scatterpolargl": [
           {
            "marker": {
             "colorbar": {
              "outlinewidth": 0,
              "ticks": ""
             }
            },
            "type": "scatterpolargl"
           }
          ],
          "scatterternary": [
           {
            "marker": {
             "colorbar": {
              "outlinewidth": 0,
              "ticks": ""
             }
            },
            "type": "scatterternary"
           }
          ],
          "surface": [
           {
            "colorbar": {
             "outlinewidth": 0,
             "ticks": ""
            },
            "colorscale": [
             [
              0,
              "#0d0887"
             ],
             [
              0.1111111111111111,
              "#46039f"
             ],
             [
              0.2222222222222222,
              "#7201a8"
             ],
             [
              0.3333333333333333,
              "#9c179e"
             ],
             [
              0.4444444444444444,
              "#bd3786"
             ],
             [
              0.5555555555555556,
              "#d8576b"
             ],
             [
              0.6666666666666666,
              "#ed7953"
             ],
             [
              0.7777777777777778,
              "#fb9f3a"
             ],
             [
              0.8888888888888888,
              "#fdca26"
             ],
             [
              1,
              "#f0f921"
             ]
            ],
            "type": "surface"
           }
          ],
          "table": [
           {
            "cells": {
             "fill": {
              "color": "#EBF0F8"
             },
             "line": {
              "color": "white"
             }
            },
            "header": {
             "fill": {
              "color": "#C8D4E3"
             },
             "line": {
              "color": "white"
             }
            },
            "type": "table"
           }
          ]
         },
         "layout": {
          "annotationdefaults": {
           "arrowcolor": "#2a3f5f",
           "arrowhead": 0,
           "arrowwidth": 1
          },
          "autotypenumbers": "strict",
          "coloraxis": {
           "colorbar": {
            "outlinewidth": 0,
            "ticks": ""
           }
          },
          "colorscale": {
           "diverging": [
            [
             0,
             "#8e0152"
            ],
            [
             0.1,
             "#c51b7d"
            ],
            [
             0.2,
             "#de77ae"
            ],
            [
             0.3,
             "#f1b6da"
            ],
            [
             0.4,
             "#fde0ef"
            ],
            [
             0.5,
             "#f7f7f7"
            ],
            [
             0.6,
             "#e6f5d0"
            ],
            [
             0.7,
             "#b8e186"
            ],
            [
             0.8,
             "#7fbc41"
            ],
            [
             0.9,
             "#4d9221"
            ],
            [
             1,
             "#276419"
            ]
           ],
           "sequential": [
            [
             0,
             "#0d0887"
            ],
            [
             0.1111111111111111,
             "#46039f"
            ],
            [
             0.2222222222222222,
             "#7201a8"
            ],
            [
             0.3333333333333333,
             "#9c179e"
            ],
            [
             0.4444444444444444,
             "#bd3786"
            ],
            [
             0.5555555555555556,
             "#d8576b"
            ],
            [
             0.6666666666666666,
             "#ed7953"
            ],
            [
             0.7777777777777778,
             "#fb9f3a"
            ],
            [
             0.8888888888888888,
             "#fdca26"
            ],
            [
             1,
             "#f0f921"
            ]
           ],
           "sequentialminus": [
            [
             0,
             "#0d0887"
            ],
            [
             0.1111111111111111,
             "#46039f"
            ],
            [
             0.2222222222222222,
             "#7201a8"
            ],
            [
             0.3333333333333333,
             "#9c179e"
            ],
            [
             0.4444444444444444,
             "#bd3786"
            ],
            [
             0.5555555555555556,
             "#d8576b"
            ],
            [
             0.6666666666666666,
             "#ed7953"
            ],
            [
             0.7777777777777778,
             "#fb9f3a"
            ],
            [
             0.8888888888888888,
             "#fdca26"
            ],
            [
             1,
             "#f0f921"
            ]
           ]
          },
          "colorway": [
           "#636efa",
           "#EF553B",
           "#00cc96",
           "#ab63fa",
           "#FFA15A",
           "#19d3f3",
           "#FF6692",
           "#B6E880",
           "#FF97FF",
           "#FECB52"
          ],
          "font": {
           "color": "#2a3f5f"
          },
          "geo": {
           "bgcolor": "white",
           "lakecolor": "white",
           "landcolor": "#E5ECF6",
           "showlakes": true,
           "showland": true,
           "subunitcolor": "white"
          },
          "hoverlabel": {
           "align": "left"
          },
          "hovermode": "closest",
          "mapbox": {
           "style": "light"
          },
          "paper_bgcolor": "white",
          "plot_bgcolor": "#E5ECF6",
          "polar": {
           "angularaxis": {
            "gridcolor": "white",
            "linecolor": "white",
            "ticks": ""
           },
           "bgcolor": "#E5ECF6",
           "radialaxis": {
            "gridcolor": "white",
            "linecolor": "white",
            "ticks": ""
           }
          },
          "scene": {
           "xaxis": {
            "backgroundcolor": "#E5ECF6",
            "gridcolor": "white",
            "gridwidth": 2,
            "linecolor": "white",
            "showbackground": true,
            "ticks": "",
            "zerolinecolor": "white"
           },
           "yaxis": {
            "backgroundcolor": "#E5ECF6",
            "gridcolor": "white",
            "gridwidth": 2,
            "linecolor": "white",
            "showbackground": true,
            "ticks": "",
            "zerolinecolor": "white"
           },
           "zaxis": {
            "backgroundcolor": "#E5ECF6",
            "gridcolor": "white",
            "gridwidth": 2,
            "linecolor": "white",
            "showbackground": true,
            "ticks": "",
            "zerolinecolor": "white"
           }
          },
          "shapedefaults": {
           "line": {
            "color": "#2a3f5f"
           }
          },
          "ternary": {
           "aaxis": {
            "gridcolor": "white",
            "linecolor": "white",
            "ticks": ""
           },
           "baxis": {
            "gridcolor": "white",
            "linecolor": "white",
            "ticks": ""
           },
           "bgcolor": "#E5ECF6",
           "caxis": {
            "gridcolor": "white",
            "linecolor": "white",
            "ticks": ""
           }
          },
          "title": {
           "x": 0.05
          },
          "xaxis": {
           "automargin": true,
           "gridcolor": "white",
           "linecolor": "white",
           "ticks": "",
           "title": {
            "standoff": 15
           },
           "zerolinecolor": "white",
           "zerolinewidth": 2
          },
          "yaxis": {
           "automargin": true,
           "gridcolor": "white",
           "linecolor": "white",
           "ticks": "",
           "title": {
            "standoff": 15
           },
           "zerolinecolor": "white",
           "zerolinewidth": 2
          }
         }
        },
        "title": {
         "text": "label 0: 2 features - ordered histogram"
        },
        "xaxis": {
         "title": {
          "text": "postag 3-4"
         }
        },
        "yaxis": {
         "title": {
          "text": "count"
         }
        }
       }
      },
      "text/html": [
       "<div>                            <div id=\"3c8a774c-15c1-48f6-aaec-180a8b0a4543\" class=\"plotly-graph-div\" style=\"height:525px; width:100%;\"></div>            <script type=\"text/javascript\">                require([\"plotly\"], function(Plotly) {                    window.PLOTLYENV=window.PLOTLYENV || {};                                    if (document.getElementById(\"3c8a774c-15c1-48f6-aaec-180a8b0a4543\")) {                    Plotly.newPlot(                        \"3c8a774c-15c1-48f6-aaec-180a8b0a4543\",                        [{\"name\":\"1\",\"x\":[\"SCONJ_PRON\",\"PRON_PRON\",\"VERB_ADV\",\"PRON_AUX\",\"VERB_ADP\",\"VERB_PRON\",\"ADP_DET\",\"VERB_DET\",\"DET_NOUN\",\"PRON_VERB\"],\"y\":[541.0,575.0,611.0,656.0,719.0,866.0,899.0,920.0,1664.0,2487.0],\"type\":\"bar\"}],                        {\"template\":{\"data\":{\"histogram2dcontour\":[{\"type\":\"histogram2dcontour\",\"colorbar\":{\"outlinewidth\":0,\"ticks\":\"\"},\"colorscale\":[[0.0,\"#0d0887\"],[0.1111111111111111,\"#46039f\"],[0.2222222222222222,\"#7201a8\"],[0.3333333333333333,\"#9c179e\"],[0.4444444444444444,\"#bd3786\"],[0.5555555555555556,\"#d8576b\"],[0.6666666666666666,\"#ed7953\"],[0.7777777777777778,\"#fb9f3a\"],[0.8888888888888888,\"#fdca26\"],[1.0,\"#f0f921\"]]}],\"choropleth\":[{\"type\":\"choropleth\",\"colorbar\":{\"outlinewidth\":0,\"ticks\":\"\"}}],\"histogram2d\":[{\"type\":\"histogram2d\",\"colorbar\":{\"outlinewidth\":0,\"ticks\":\"\"},\"colorscale\":[[0.0,\"#0d0887\"],[0.1111111111111111,\"#46039f\"],[0.2222222222222222,\"#7201a8\"],[0.3333333333333333,\"#9c179e\"],[0.4444444444444444,\"#bd3786\"],[0.5555555555555556,\"#d8576b\"],[0.6666666666666666,\"#ed7953\"],[0.7777777777777778,\"#fb9f3a\"],[0.8888888888888888,\"#fdca26\"],[1.0,\"#f0f921\"]]}],\"heatmap\":[{\"type\":\"heatmap\",\"colorbar\":{\"outlinewidth\":0,\"ticks\":\"\"},\"colorscale\":[[0.0,\"#0d0887\"],[0.1111111111111111,\"#46039f\"],[0.2222222222222222,\"#7201a8\"],[0.3333333333333333,\"#9c179e\"],[0.4444444444444444,\"#bd3786\"],[0.5555555555555556,\"#d8576b\"],[0.6666666666666666,\"#ed7953\"],[0.7777777777777778,\"#fb9f3a\"],[0.8888888888888888,\"#fdca26\"],[1.0,\"#f0f921\"]]}],\"heatmapgl\":[{\"type\":\"heatmapgl\",\"colorbar\":{\"outlinewidth\":0,\"ticks\":\"\"},\"colorscale\":[[0.0,\"#0d0887\"],[0.1111111111111111,\"#46039f\"],[0.2222222222222222,\"#7201a8\"],[0.3333333333333333,\"#9c179e\"],[0.4444444444444444,\"#bd3786\"],[0.5555555555555556,\"#d8576b\"],[0.6666666666666666,\"#ed7953\"],[0.7777777777777778,\"#fb9f3a\"],[0.8888888888888888,\"#fdca26\"],[1.0,\"#f0f921\"]]}],\"contourcarpet\":[{\"type\":\"contourcarpet\",\"colorbar\":{\"outlinewidth\":0,\"ticks\":\"\"}}],\"contour\":[{\"type\":\"contour\",\"colorbar\":{\"outlinewidth\":0,\"ticks\":\"\"},\"colorscale\":[[0.0,\"#0d0887\"],[0.1111111111111111,\"#46039f\"],[0.2222222222222222,\"#7201a8\"],[0.3333333333333333,\"#9c179e\"],[0.4444444444444444,\"#bd3786\"],[0.5555555555555556,\"#d8576b\"],[0.6666666666666666,\"#ed7953\"],[0.7777777777777778,\"#fb9f3a\"],[0.8888888888888888,\"#fdca26\"],[1.0,\"#f0f921\"]]}],\"surface\":[{\"type\":\"surface\",\"colorbar\":{\"outlinewidth\":0,\"ticks\":\"\"},\"colorscale\":[[0.0,\"#0d0887\"],[0.1111111111111111,\"#46039f\"],[0.2222222222222222,\"#7201a8\"],[0.3333333333333333,\"#9c179e\"],[0.4444444444444444,\"#bd3786\"],[0.5555555555555556,\"#d8576b\"],[0.6666666666666666,\"#ed7953\"],[0.7777777777777778,\"#fb9f3a\"],[0.8888888888888888,\"#fdca26\"],[1.0,\"#f0f921\"]]}],\"mesh3d\":[{\"type\":\"mesh3d\",\"colorbar\":{\"outlinewidth\":0,\"ticks\":\"\"}}],\"scatter\":[{\"fillpattern\":{\"fillmode\":\"overlay\",\"size\":10,\"solidity\":0.2},\"type\":\"scatter\"}],\"parcoords\":[{\"type\":\"parcoords\",\"line\":{\"colorbar\":{\"outlinewidth\":0,\"ticks\":\"\"}}}],\"scatterpolargl\":[{\"type\":\"scatterpolargl\",\"marker\":{\"colorbar\":{\"outlinewidth\":0,\"ticks\":\"\"}}}],\"bar\":[{\"error_x\":{\"color\":\"#2a3f5f\"},\"error_y\":{\"color\":\"#2a3f5f\"},\"marker\":{\"line\":{\"color\":\"#E5ECF6\",\"width\":0.5},\"pattern\":{\"fillmode\":\"overlay\",\"size\":10,\"solidity\":0.2}},\"type\":\"bar\"}],\"scattergeo\":[{\"type\":\"scattergeo\",\"marker\":{\"colorbar\":{\"outlinewidth\":0,\"ticks\":\"\"}}}],\"scatterpolar\":[{\"type\":\"scatterpolar\",\"marker\":{\"colorbar\":{\"outlinewidth\":0,\"ticks\":\"\"}}}],\"histogram\":[{\"marker\":{\"pattern\":{\"fillmode\":\"overlay\",\"size\":10,\"solidity\":0.2}},\"type\":\"histogram\"}],\"scattergl\":[{\"type\":\"scattergl\",\"marker\":{\"colorbar\":{\"outlinewidth\":0,\"ticks\":\"\"}}}],\"scatter3d\":[{\"type\":\"scatter3d\",\"line\":{\"colorbar\":{\"outlinewidth\":0,\"ticks\":\"\"}},\"marker\":{\"colorbar\":{\"outlinewidth\":0,\"ticks\":\"\"}}}],\"scattermapbox\":[{\"type\":\"scattermapbox\",\"marker\":{\"colorbar\":{\"outlinewidth\":0,\"ticks\":\"\"}}}],\"scatterternary\":[{\"type\":\"scatterternary\",\"marker\":{\"colorbar\":{\"outlinewidth\":0,\"ticks\":\"\"}}}],\"scattercarpet\":[{\"type\":\"scattercarpet\",\"marker\":{\"colorbar\":{\"outlinewidth\":0,\"ticks\":\"\"}}}],\"carpet\":[{\"aaxis\":{\"endlinecolor\":\"#2a3f5f\",\"gridcolor\":\"white\",\"linecolor\":\"white\",\"minorgridcolor\":\"white\",\"startlinecolor\":\"#2a3f5f\"},\"baxis\":{\"endlinecolor\":\"#2a3f5f\",\"gridcolor\":\"white\",\"linecolor\":\"white\",\"minorgridcolor\":\"white\",\"startlinecolor\":\"#2a3f5f\"},\"type\":\"carpet\"}],\"table\":[{\"cells\":{\"fill\":{\"color\":\"#EBF0F8\"},\"line\":{\"color\":\"white\"}},\"header\":{\"fill\":{\"color\":\"#C8D4E3\"},\"line\":{\"color\":\"white\"}},\"type\":\"table\"}],\"barpolar\":[{\"marker\":{\"line\":{\"color\":\"#E5ECF6\",\"width\":0.5},\"pattern\":{\"fillmode\":\"overlay\",\"size\":10,\"solidity\":0.2}},\"type\":\"barpolar\"}],\"pie\":[{\"automargin\":true,\"type\":\"pie\"}]},\"layout\":{\"autotypenumbers\":\"strict\",\"colorway\":[\"#636efa\",\"#EF553B\",\"#00cc96\",\"#ab63fa\",\"#FFA15A\",\"#19d3f3\",\"#FF6692\",\"#B6E880\",\"#FF97FF\",\"#FECB52\"],\"font\":{\"color\":\"#2a3f5f\"},\"hovermode\":\"closest\",\"hoverlabel\":{\"align\":\"left\"},\"paper_bgcolor\":\"white\",\"plot_bgcolor\":\"#E5ECF6\",\"polar\":{\"bgcolor\":\"#E5ECF6\",\"angularaxis\":{\"gridcolor\":\"white\",\"linecolor\":\"white\",\"ticks\":\"\"},\"radialaxis\":{\"gridcolor\":\"white\",\"linecolor\":\"white\",\"ticks\":\"\"}},\"ternary\":{\"bgcolor\":\"#E5ECF6\",\"aaxis\":{\"gridcolor\":\"white\",\"linecolor\":\"white\",\"ticks\":\"\"},\"baxis\":{\"gridcolor\":\"white\",\"linecolor\":\"white\",\"ticks\":\"\"},\"caxis\":{\"gridcolor\":\"white\",\"linecolor\":\"white\",\"ticks\":\"\"}},\"coloraxis\":{\"colorbar\":{\"outlinewidth\":0,\"ticks\":\"\"}},\"colorscale\":{\"sequential\":[[0.0,\"#0d0887\"],[0.1111111111111111,\"#46039f\"],[0.2222222222222222,\"#7201a8\"],[0.3333333333333333,\"#9c179e\"],[0.4444444444444444,\"#bd3786\"],[0.5555555555555556,\"#d8576b\"],[0.6666666666666666,\"#ed7953\"],[0.7777777777777778,\"#fb9f3a\"],[0.8888888888888888,\"#fdca26\"],[1.0,\"#f0f921\"]],\"sequentialminus\":[[0.0,\"#0d0887\"],[0.1111111111111111,\"#46039f\"],[0.2222222222222222,\"#7201a8\"],[0.3333333333333333,\"#9c179e\"],[0.4444444444444444,\"#bd3786\"],[0.5555555555555556,\"#d8576b\"],[0.6666666666666666,\"#ed7953\"],[0.7777777777777778,\"#fb9f3a\"],[0.8888888888888888,\"#fdca26\"],[1.0,\"#f0f921\"]],\"diverging\":[[0,\"#8e0152\"],[0.1,\"#c51b7d\"],[0.2,\"#de77ae\"],[0.3,\"#f1b6da\"],[0.4,\"#fde0ef\"],[0.5,\"#f7f7f7\"],[0.6,\"#e6f5d0\"],[0.7,\"#b8e186\"],[0.8,\"#7fbc41\"],[0.9,\"#4d9221\"],[1,\"#276419\"]]},\"xaxis\":{\"gridcolor\":\"white\",\"linecolor\":\"white\",\"ticks\":\"\",\"title\":{\"standoff\":15},\"zerolinecolor\":\"white\",\"automargin\":true,\"zerolinewidth\":2},\"yaxis\":{\"gridcolor\":\"white\",\"linecolor\":\"white\",\"ticks\":\"\",\"title\":{\"standoff\":15},\"zerolinecolor\":\"white\",\"automargin\":true,\"zerolinewidth\":2},\"scene\":{\"xaxis\":{\"backgroundcolor\":\"#E5ECF6\",\"gridcolor\":\"white\",\"linecolor\":\"white\",\"showbackground\":true,\"ticks\":\"\",\"zerolinecolor\":\"white\",\"gridwidth\":2},\"yaxis\":{\"backgroundcolor\":\"#E5ECF6\",\"gridcolor\":\"white\",\"linecolor\":\"white\",\"showbackground\":true,\"ticks\":\"\",\"zerolinecolor\":\"white\",\"gridwidth\":2},\"zaxis\":{\"backgroundcolor\":\"#E5ECF6\",\"gridcolor\":\"white\",\"linecolor\":\"white\",\"showbackground\":true,\"ticks\":\"\",\"zerolinecolor\":\"white\",\"gridwidth\":2}},\"shapedefaults\":{\"line\":{\"color\":\"#2a3f5f\"}},\"annotationdefaults\":{\"arrowcolor\":\"#2a3f5f\",\"arrowhead\":0,\"arrowwidth\":1},\"geo\":{\"bgcolor\":\"white\",\"landcolor\":\"#E5ECF6\",\"subunitcolor\":\"white\",\"showland\":true,\"showlakes\":true,\"lakecolor\":\"white\"},\"title\":{\"x\":0.05},\"mapbox\":{\"style\":\"light\"}}},\"title\":{\"text\":\"label 0: 2 features - ordered histogram\"},\"xaxis\":{\"title\":{\"text\":\"postag 3-4\"}},\"yaxis\":{\"title\":{\"text\":\"count\"}}},                        {\"responsive\": true}                    ).then(function(){\n",
       "                            \n",
       "var gd = document.getElementById('3c8a774c-15c1-48f6-aaec-180a8b0a4543');\n",
       "var x = new MutationObserver(function (mutations, observer) {{\n",
       "        var display = window.getComputedStyle(gd).display;\n",
       "        if (!display || display === 'none') {{\n",
       "            console.log([gd, 'removed!']);\n",
       "            Plotly.purge(gd);\n",
       "            observer.disconnect();\n",
       "        }}\n",
       "}});\n",
       "\n",
       "// Listen for the removal of the full notebook cells\n",
       "var notebookContainer = gd.closest('#notebook-container');\n",
       "if (notebookContainer) {{\n",
       "    x.observe(notebookContainer, {childList: true});\n",
       "}}\n",
       "\n",
       "// Listen for the clearing of the current output cell\n",
       "var outputEl = gd.closest('.output');\n",
       "if (outputEl) {{\n",
       "    x.observe(outputEl, {childList: true});\n",
       "}}\n",
       "\n",
       "                        })                };                });            </script>        </div>"
      ]
     },
     "metadata": {},
     "output_type": "display_data"
    }
   ],
   "source": [
    "plot_importance(feature_imp_)\n",
    "hist_feature('postag_3')\n",
    "hist_feature('postag_4')\n",
    "# hist_feature('postag_1')\n",
    "cont_hist_feature('cognatehood_3')\n",
    "cont_hist_feature('cognatehood_4')\n",
    "cont_hist_feature('cognatehood_0')\n",
    "cont_hist_feature('cognatehood_1')\n",
    "cont_hist_feature('cognatehood_2')\n",
    "\n",
    "pos_counts, neg_counts = plot_pos_tag_heatmap('postag_3', 'postag_4')\n",
    "plot_sorted_2_featues(pos_counts, 'label 1', 10, pos_tags_map_value, 'postag 3-4')\n",
    "plot_sorted_2_featues(neg_counts, 'label 0', 10, pos_tags_map_value, 'postag 3-4')"
   ]
  },
  {
   "cell_type": "code",
   "execution_count": 17,
   "id": "4c06a68c",
   "metadata": {
    "scrolled": true
   },
   "outputs": [],
   "source": [
    "# hist_feature('ner_3')\n",
    "# hist_feature('ner_4')\n",
    "# pos_ner_counts, neg_ner_counts = plot_ner_heatmap('ner_3', 'ner_4')\n",
    "# plot_sorted_2_featues(pos_ner_counts, 'label 1', 10, ner_map_value, 'ner 3-4')\n",
    "# plot_sorted_2_featues(neg_ner_counts, 'label 0', 10, ner_map_value, 'ner 3-4')"
   ]
  },
  {
   "cell_type": "markdown",
   "id": "b2910d69",
   "metadata": {},
   "source": [
    "# Explore"
   ]
  },
  {
   "cell_type": "code",
   "execution_count": 53,
   "id": "99c6725d",
   "metadata": {
    "scrolled": true
   },
   "outputs": [
    {
     "name": "stdout",
     "output_type": "stream",
     "text": [
      "pos4: none pos3: none\n",
      "label1 count: 1.0\n",
      "label0 count: 0.0\n",
      "pos4: NUM pos3: ADV\n",
      "label1 count: 3.0\n",
      "label0 count: 1.0\n",
      "pos4: NUM pos3: INTJ\n",
      "label1 count: 2.0\n",
      "label0 count: 0.0\n",
      "pos4: NUM pos3: CONJ\n",
      "label1 count: 4.0\n",
      "label0 count: 0.0\n",
      "pos4: X pos3: NUM\n",
      "label1 count: 60.0\n",
      "label0 count: 46.0\n",
      "pos4: X pos3: SCONJ\n",
      "label1 count: 34.0\n",
      "label0 count: 17.0\n",
      "pos4: X pos3: ADV\n",
      "label1 count: 65.0\n",
      "label0 count: 44.0\n",
      "pos4: X pos3: INTJ\n",
      "label1 count: 48.0\n",
      "label0 count: 31.0\n",
      "pos4: X pos3: ADJ\n",
      "label1 count: 1.0\n",
      "label0 count: 0.0\n",
      "pos4: X pos3: CONJ\n",
      "label1 count: 151.0\n",
      "label0 count: 28.0\n",
      "pos4: SCONJ pos3: NUM\n",
      "label1 count: 2.0\n",
      "label0 count: 0.0\n",
      "pos4: SCONJ pos3: X\n",
      "label1 count: 36.0\n",
      "label0 count: 23.0\n",
      "pos4: SCONJ pos3: INTJ\n",
      "label1 count: 1.0\n",
      "label0 count: 0.0\n",
      "pos4: ADV pos3: X\n",
      "label1 count: 58.0\n",
      "label0 count: 53.0\n",
      "pos4: ADV pos3: CONJ\n",
      "label1 count: 1.0\n",
      "label0 count: 0.0\n",
      "pos4: INTJ pos3: SCONJ\n",
      "label1 count: 2.0\n",
      "label0 count: 1.0\n",
      "pos4: INTJ pos3: INTJ\n",
      "label1 count: 15.0\n",
      "label0 count: 3.0\n",
      "pos4: INTJ pos3: PRON\n",
      "label1 count: 1.0\n",
      "label0 count: 0.0\n",
      "pos4: INTJ pos3: CONJ\n",
      "label1 count: 1.0\n",
      "label0 count: 0.0\n",
      "pos4: PRON pos3: X\n",
      "label1 count: 214.0\n",
      "label0 count: 204.0\n",
      "pos4: PRON pos3: CONJ\n",
      "label1 count: 2.0\n",
      "label0 count: 0.0\n",
      "pos4: CONJ pos3: NUM\n",
      "label1 count: 11.0\n",
      "label0 count: 5.0\n",
      "pos4: CONJ pos3: X\n",
      "label1 count: 222.0\n",
      "label0 count: 33.0\n",
      "pos4: CONJ pos3: SCONJ\n",
      "label1 count: 1.0\n",
      "label0 count: 0.0\n",
      "pos4: CONJ pos3: ADV\n",
      "label1 count: 1.0\n",
      "label0 count: 0.0\n",
      "pos4: CONJ pos3: CONJ\n",
      "label1 count: 6.0\n",
      "label0 count: 3.0\n"
     ]
    }
   ],
   "source": [
    "# exploring the data - pos tag 3 vs 4, in CS samples\n",
    "most_pos = pos_counts>neg_counts\n",
    "f1_vec ,f0_vec = np.where(most_pos == True)\n",
    "for f1, f0 in zip(f1_vec, f0_vec):\n",
    "    f1_name = pos_tags_map_value[f1]\n",
    "    f0_name = pos_tags_map_value[f0]\n",
    "    print('pos4:', f1_name, 'pos3:', f0_name)\n",
    "    print('label1 count:', pos_counts[f1, f0])\n",
    "    print('label0 count:', neg_counts[f1, f0])"
   ]
  },
  {
   "cell_type": "code",
   "execution_count": 54,
   "id": "5fdde418",
   "metadata": {},
   "outputs": [
    {
     "data": {
      "text/html": [
       "<div>\n",
       "<style scoped>\n",
       "    .dataframe tbody tr th:only-of-type {\n",
       "        vertical-align: middle;\n",
       "    }\n",
       "\n",
       "    .dataframe tbody tr th {\n",
       "        vertical-align: top;\n",
       "    }\n",
       "\n",
       "    .dataframe thead th {\n",
       "        text-align: right;\n",
       "    }\n",
       "</style>\n",
       "<table border=\"1\" class=\"dataframe\">\n",
       "  <thead>\n",
       "    <tr style=\"text-align: right;\">\n",
       "      <th></th>\n",
       "      <th>len_0</th>\n",
       "      <th>len_1</th>\n",
       "      <th>len_2</th>\n",
       "      <th>len_3</th>\n",
       "      <th>len_4</th>\n",
       "      <th>ipa_len_0</th>\n",
       "      <th>ipa_len_1</th>\n",
       "      <th>ipa_len_2</th>\n",
       "      <th>ipa_len_3</th>\n",
       "      <th>ipa_len_4</th>\n",
       "      <th>...</th>\n",
       "      <th>postag_4</th>\n",
       "      <th>ner_0</th>\n",
       "      <th>ner_1</th>\n",
       "      <th>ner_2</th>\n",
       "      <th>ner_3</th>\n",
       "      <th>ner_4</th>\n",
       "      <th>label</th>\n",
       "      <th>sub_uter</th>\n",
       "      <th>full_uter</th>\n",
       "      <th>key</th>\n",
       "    </tr>\n",
       "  </thead>\n",
       "  <tbody>\n",
       "    <tr>\n",
       "      <th>0</th>\n",
       "      <td>4</td>\n",
       "      <td>2</td>\n",
       "      <td>1</td>\n",
       "      <td>3</td>\n",
       "      <td>4</td>\n",
       "      <td>3</td>\n",
       "      <td>2</td>\n",
       "      <td>1</td>\n",
       "      <td>3</td>\n",
       "      <td>4</td>\n",
       "      <td>...</td>\n",
       "      <td>3</td>\n",
       "      <td>2</td>\n",
       "      <td>2</td>\n",
       "      <td>2</td>\n",
       "      <td>2</td>\n",
       "      <td>2</td>\n",
       "      <td>0</td>\n",
       "      <td>mean it 's not like</td>\n",
       "      <td>i mean it 's not like you know uno dos tres cu...</td>\n",
       "      <td>herring9.csv_755_4</td>\n",
       "    </tr>\n",
       "    <tr>\n",
       "      <th>0</th>\n",
       "      <td>7</td>\n",
       "      <td>3</td>\n",
       "      <td>3</td>\n",
       "      <td>2</td>\n",
       "      <td>3</td>\n",
       "      <td>6</td>\n",
       "      <td>3</td>\n",
       "      <td>3</td>\n",
       "      <td>2</td>\n",
       "      <td>2</td>\n",
       "      <td>...</td>\n",
       "      <td>3</td>\n",
       "      <td>2</td>\n",
       "      <td>2</td>\n",
       "      <td>9</td>\n",
       "      <td>2</td>\n",
       "      <td>2</td>\n",
       "      <td>1</td>\n",
       "      <td>waiting for her to que</td>\n",
       "      <td>so they 're waiting for her to que se vaya de ...</td>\n",
       "      <td>zeledon14.csv_749_6</td>\n",
       "    </tr>\n",
       "    <tr>\n",
       "      <th>0</th>\n",
       "      <td>2</td>\n",
       "      <td>5</td>\n",
       "      <td>7</td>\n",
       "      <td>1</td>\n",
       "      <td>3</td>\n",
       "      <td>2</td>\n",
       "      <td>4</td>\n",
       "      <td>8</td>\n",
       "      <td>1</td>\n",
       "      <td>2</td>\n",
       "      <td>...</td>\n",
       "      <td>3</td>\n",
       "      <td>2</td>\n",
       "      <td>2</td>\n",
       "      <td>2</td>\n",
       "      <td>2</td>\n",
       "      <td>2</td>\n",
       "      <td>1</td>\n",
       "      <td>se llama jackson 's que</td>\n",
       "      <td>o un lugar que se llama jackson 's que venden ...</td>\n",
       "      <td>zeledon8.csv_188_7</td>\n",
       "    </tr>\n",
       "    <tr>\n",
       "      <th>0</th>\n",
       "      <td>4</td>\n",
       "      <td>3</td>\n",
       "      <td>3</td>\n",
       "      <td>2</td>\n",
       "      <td>3</td>\n",
       "      <td>3</td>\n",
       "      <td>2</td>\n",
       "      <td>2</td>\n",
       "      <td>2</td>\n",
       "      <td>2</td>\n",
       "      <td>...</td>\n",
       "      <td>3</td>\n",
       "      <td>2</td>\n",
       "      <td>9</td>\n",
       "      <td>2</td>\n",
       "      <td>2</td>\n",
       "      <td>2</td>\n",
       "      <td>1</td>\n",
       "      <td>that you are n't que</td>\n",
       "      <td>pena es y ahi despues te pongo otros cien en e...</td>\n",
       "      <td>zeledon8.csv_796_17</td>\n",
       "    </tr>\n",
       "    <tr>\n",
       "      <th>0</th>\n",
       "      <td>3</td>\n",
       "      <td>2</td>\n",
       "      <td>1</td>\n",
       "      <td>3</td>\n",
       "      <td>4</td>\n",
       "      <td>3</td>\n",
       "      <td>2</td>\n",
       "      <td>1</td>\n",
       "      <td>3</td>\n",
       "      <td>3</td>\n",
       "      <td>...</td>\n",
       "      <td>3</td>\n",
       "      <td>2</td>\n",
       "      <td>2</td>\n",
       "      <td>2</td>\n",
       "      <td>2</td>\n",
       "      <td>2</td>\n",
       "      <td>0</td>\n",
       "      <td>but it 's not that</td>\n",
       "      <td>sabes no es but it 's not that great either</td>\n",
       "      <td>zeledon8.csv_1221_6</td>\n",
       "    </tr>\n",
       "  </tbody>\n",
       "</table>\n",
       "<p>5 rows × 29 columns</p>\n",
       "</div>"
      ],
      "text/plain": [
       "   len_0  len_1  len_2  len_3  len_4  ipa_len_0  ipa_len_1  ipa_len_2  \\\n",
       "0      4      2      1      3      4          3          2          1   \n",
       "0      7      3      3      2      3          6          3          3   \n",
       "0      2      5      7      1      3          2          4          8   \n",
       "0      4      3      3      2      3          3          2          2   \n",
       "0      3      2      1      3      4          3          2          1   \n",
       "\n",
       "   ipa_len_3  ipa_len_4  ...  postag_4  ner_0  ner_1  ner_2  ner_3  ner_4  \\\n",
       "0          3          4  ...         3      2      2      2      2      2   \n",
       "0          2          2  ...         3      2      2      9      2      2   \n",
       "0          1          2  ...         3      2      2      2      2      2   \n",
       "0          2          2  ...         3      2      9      2      2      2   \n",
       "0          3          3  ...         3      2      2      2      2      2   \n",
       "\n",
       "   label                 sub_uter  \\\n",
       "0      0      mean it 's not like   \n",
       "0      1   waiting for her to que   \n",
       "0      1  se llama jackson 's que   \n",
       "0      1     that you are n't que   \n",
       "0      0       but it 's not that   \n",
       "\n",
       "                                           full_uter                  key  \n",
       "0  i mean it 's not like you know uno dos tres cu...   herring9.csv_755_4  \n",
       "0  so they 're waiting for her to que se vaya de ...  zeledon14.csv_749_6  \n",
       "0  o un lugar que se llama jackson 's que venden ...   zeledon8.csv_188_7  \n",
       "0  pena es y ahi despues te pongo otros cien en e...  zeledon8.csv_796_17  \n",
       "0        sabes no es but it 's not that great either  zeledon8.csv_1221_6  \n",
       "\n",
       "[5 rows x 29 columns]"
      ]
     },
     "execution_count": 54,
     "metadata": {},
     "output_type": "execute_result"
    }
   ],
   "source": [
    "# explore contenct of uterances with a given pos tag 3-4\n",
    "edf = df.copy()\n",
    "pos_df = (edf[edf['label'] == 1])\n",
    "neg_df = (edf[edf['label'] == 0])\n",
    "pos3_filter = edf[edf['postag_3'] == 11]\n",
    "cross = pos3_filter[pos3_filter['postag_4'] == 3]\n",
    "cross\n",
    "# cross.to_csv('pos3-intj_pos4-adj.csv')"
   ]
  }
 ],
 "metadata": {
  "kernelspec": {
   "display_name": "Python 3 (ipykernel)",
   "language": "python",
   "name": "python3"
  },
  "language_info": {
   "codemirror_mode": {
    "name": "ipython",
    "version": 3
   },
   "file_extension": ".py",
   "mimetype": "text/x-python",
   "name": "python",
   "nbconvert_exporter": "python",
   "pygments_lexer": "ipython3",
   "version": "3.9.0"
  }
 },
 "nbformat": 4,
 "nbformat_minor": 5
}
